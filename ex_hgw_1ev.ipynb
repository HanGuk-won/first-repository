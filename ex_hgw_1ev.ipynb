{
  "metadata": {
    "kernelspec": {
      "language": "python",
      "display_name": "Python 3",
      "name": "python3"
    },
    "language_info": {
      "pygments_lexer": "ipython3",
      "nbconvert_exporter": "python",
      "version": "3.6.4",
      "file_extension": ".py",
      "codemirror_mode": {
        "name": "ipython",
        "version": 3
      },
      "name": "python",
      "mimetype": "text/x-python"
    },
    "colab": {
      "name": "ex-hgw-1ev.ipynb",
      "provenance": [],
      "collapsed_sections": [
        "9Dtt5NP6eJpO"
      ],
      "include_colab_link": true
    },
    "accelerator": "GPU",
    "gpuClass": "standard"
  },
  "nbformat_minor": 0,
  "nbformat": 4,
  "cells": [
    {
      "cell_type": "markdown",
      "metadata": {
        "id": "view-in-github",
        "colab_type": "text"
      },
      "source": [
        "<a href=\"https://colab.research.google.com/github/HanGuk-won/first-repository/blob/main/ex_hgw_1ev.ipynb\" target=\"_parent\"><img src=\"https://colab.research.google.com/assets/colab-badge.svg\" alt=\"Open In Colab\"/></a>"
      ]
    },
    {
      "cell_type": "markdown",
      "source": [
        "# Necessary tools import and All data loading..."
      ],
      "metadata": {
        "id": "Yl4kDEeheJo5"
      }
    },
    {
      "cell_type": "code",
      "source": [
        "from sklearn.datasets import load_wine, load_digits, load_breast_cancer\n",
        "from sklearn.model_selection import cross_val_predict\n",
        "from sklearn.model_selection import train_test_split   # splitting of data into train and test sets.\n",
        "from sklearn.metrics import classification_report\n",
        "from sklearn.metrics import confusion_matrix  # visualisation of the error occurance and accuracy.\n",
        "from sklearn.metrics import accuracy_score   # The calculation of Accuracy of Model.\n",
        "from matplotlib import pyplot as plt\n",
        "import seaborn as sns                   # plot using keyword 'sns' mainly             \n",
        "import pandas as pd                     # data processing \n",
        "import warnings                         # warning msg filtering\n",
        "warnings.filterwarnings('ignore')\n",
        "%matplotlib inline\n",
        "wine=load_wine() \n",
        "digits=load_digits()\n",
        "breast_cancer=load_breast_cancer()\n",
        "wine_data=wine.data                        # separating into data and label\n",
        "wine_label=wine.target\n",
        "digits_data=digits.data\n",
        "digits_label=digits.target\n",
        "breast_cancer_data=breast_cancer.data\n",
        "breast_cancer_label=breast_cancer.target\n",
        "X_wine=wine_data[1:]                       # input for 'cross_val_predict()' method  \n",
        "Y_wine=wine_label[1:]\n",
        "X_digits=digits_data[1:]\n",
        "Y_digits=digits_label[1:]\n",
        "X_breast_cancer=breast_cancer_data[1:]    \n",
        "Y_breast_cancer=breast_cancer_label[1:]"
      ],
      "metadata": {
        "_uuid": "8f2839f25d086af736a60e9eeb907d3b93b6e0e5",
        "_cell_guid": "b1076dfc-b9ad-4769-8c92-a6c4dae69d19",
        "execution": {
          "iopub.status.busy": "2022-07-14T08:46:00.215807Z",
          "iopub.execute_input": "2022-07-14T08:46:00.216309Z",
          "iopub.status.idle": "2022-07-14T08:46:01.804360Z",
          "shell.execute_reply.started": "2022-07-14T08:46:00.216207Z",
          "shell.execute_reply": "2022-07-14T08:46:01.803037Z"
        },
        "trusted": true,
        "id": "I6k5b3OveJpB"
      },
      "execution_count": null,
      "outputs": []
    },
    {
      "cell_type": "markdown",
      "source": [
        "# Analysis using various Models in wine data"
      ],
      "metadata": {
        "id": "O8-zoeyJ1r-W"
      }
    },
    {
      "cell_type": "code",
      "source": [
        "data=load_wine()\n",
        "print('shape of data : ', data.data.shape)\n",
        "print('shape of target : ', data.target.shape)\n",
        "print('feature names are : ',data.feature_names)"
      ],
      "metadata": {
        "colab": {
          "base_uri": "https://localhost:8080/"
        },
        "id": "FUFE3cwuh-WC",
        "outputId": "f3e1bb90-0005-470d-e6f9-2742b5744bff"
      },
      "execution_count": null,
      "outputs": [
        {
          "output_type": "stream",
          "name": "stdout",
          "text": [
            "shape of data :  (178, 13)\n",
            "shape of target :  (178,)\n",
            "feature names are :  ['alcohol', 'malic_acid', 'ash', 'alcalinity_of_ash', 'magnesium', 'total_phenols', 'flavanoids', 'nonflavanoid_phenols', 'proanthocyanins', 'color_intensity', 'hue', 'od280/od315_of_diluted_wines', 'proline']\n"
          ]
        }
      ]
    },
    {
      "cell_type": "markdown",
      "source": [
        "## Decision Tree For wine_data"
      ],
      "metadata": {
        "id": "CtkAil2HeJpD"
      }
    },
    {
      "cell_type": "code",
      "source": [
        "from sklearn.tree import DecisionTreeClassifier\n",
        "\n",
        "X_train, X_test, y_train, y_test=train_test_split(wine_data,wine_label,test_size=0.2,random_state=23)\n",
        "decision_tree = DecisionTreeClassifier(random_state=32)\n",
        "decision_tree.fit(X_train, y_train)\n",
        "y_pred = decision_tree.predict(X_test)\n",
        "print(classification_report(y_test, y_pred))\n",
        "accuracy = accuracy_score(y_test, y_pred)\n",
        "print('accuracy is : ',accuracy)"
      ],
      "metadata": {
        "execution": {
          "iopub.status.busy": "2022-07-14T08:46:01.806573Z",
          "iopub.execute_input": "2022-07-14T08:46:01.806951Z",
          "iopub.status.idle": "2022-07-14T08:46:01.994282Z",
          "shell.execute_reply.started": "2022-07-14T08:46:01.806917Z",
          "shell.execute_reply": "2022-07-14T08:46:01.992980Z"
        },
        "trusted": true,
        "colab": {
          "base_uri": "https://localhost:8080/"
        },
        "id": "M-N14tWGeJpE",
        "outputId": "52480a19-dde1-45f2-d75a-0e849c637fd8"
      },
      "execution_count": null,
      "outputs": [
        {
          "output_type": "stream",
          "name": "stdout",
          "text": [
            "              precision    recall  f1-score   support\n",
            "\n",
            "           0       1.00      1.00      1.00        11\n",
            "           1       0.94      1.00      0.97        15\n",
            "           2       1.00      0.90      0.95        10\n",
            "\n",
            "    accuracy                           0.97        36\n",
            "   macro avg       0.98      0.97      0.97        36\n",
            "weighted avg       0.97      0.97      0.97        36\n",
            "\n",
            "accuracy is :  0.9722222222222222\n"
          ]
        }
      ]
    },
    {
      "cell_type": "markdown",
      "source": [
        "* A decision tree is a decision support tool that uses a tree-like model of decisions and their possible consequences, including chance event outcomes, resource costs, and utility."
      ],
      "metadata": {
        "id": "UmrLQAYmgO8_"
      }
    },
    {
      "cell_type": "markdown",
      "source": [
        "## Random Forest For wine_data"
      ],
      "metadata": {
        "id": "LBCTNaSUeJpF"
      }
    },
    {
      "cell_type": "code",
      "source": [
        "from sklearn.ensemble import RandomForestClassifier\n",
        "X_train, X_test, y_train, y_test=train_test_split(wine_data,wine_label,test_size=0.2,random_state=23)\n",
        "random_forest = RandomForestClassifier(random_state=32)\n",
        "random_forest.fit(X_train, y_train)\n",
        "y_pred = random_forest.predict(X_test)\n",
        "\n",
        "print(classification_report(y_test, y_pred))\n",
        "accuracy = accuracy_score(y_test, y_pred)\n",
        "print('accuracy is : ',accuracy)"
      ],
      "metadata": {
        "execution": {
          "iopub.status.busy": "2022-07-14T08:46:01.995865Z",
          "iopub.execute_input": "2022-07-14T08:46:01.996251Z",
          "iopub.status.idle": "2022-07-14T08:46:02.281977Z",
          "shell.execute_reply.started": "2022-07-14T08:46:01.996217Z",
          "shell.execute_reply": "2022-07-14T08:46:02.280504Z"
        },
        "trusted": true,
        "colab": {
          "base_uri": "https://localhost:8080/"
        },
        "id": "0Q2uhr3_eJpG",
        "outputId": "199104ed-9378-48da-8f00-f94e9384d1e3"
      },
      "execution_count": null,
      "outputs": [
        {
          "output_type": "stream",
          "name": "stdout",
          "text": [
            "              precision    recall  f1-score   support\n",
            "\n",
            "           0       1.00      1.00      1.00        11\n",
            "           1       1.00      1.00      1.00        15\n",
            "           2       1.00      1.00      1.00        10\n",
            "\n",
            "    accuracy                           1.00        36\n",
            "   macro avg       1.00      1.00      1.00        36\n",
            "weighted avg       1.00      1.00      1.00        36\n",
            "\n",
            "accuracy is :  1.0\n"
          ]
        }
      ]
    },
    {
      "cell_type": "markdown",
      "source": [
        " * It constructs a multitude of decision trees at training time. For classification tasks, the output of the random forest is the class selected by most trees."
      ],
      "metadata": {
        "id": "bOO1hgfAeJpH"
      }
    },
    {
      "cell_type": "markdown",
      "source": [
        "## SVM_rbf For wine_data"
      ],
      "metadata": {
        "id": "dIBbyvVqeJpI"
      }
    },
    {
      "cell_type": "code",
      "source": [
        "from sklearn import svm     # svm : support vector machine\n",
        "\n",
        "svm_model = svm.SVC(kernel='rbf') # rbf : radial basis function\n",
        "X_train, X_test, y_train, y_test=train_test_split(wine_data,wine_label,test_size=0.2,random_state=23)\n",
        "svm_SVC = svm.SVC(kernel='rbf')\n",
        "svm_SVC.fit(X_train, y_train)\n",
        "y_pred = svm_SVC.predict(X_test)\n",
        "print(classification_report(y_test, y_pred))\n",
        "accuracy=accuracy_score(y_test, y_pred)\n",
        "print('accuracy is : ',accuracy)"
      ],
      "metadata": {
        "execution": {
          "iopub.status.busy": "2022-07-14T08:46:02.286920Z",
          "iopub.execute_input": "2022-07-14T08:46:02.287522Z",
          "iopub.status.idle": "2022-07-14T08:46:02.305427Z",
          "shell.execute_reply.started": "2022-07-14T08:46:02.287472Z",
          "shell.execute_reply": "2022-07-14T08:46:02.304083Z"
        },
        "trusted": true,
        "colab": {
          "base_uri": "https://localhost:8080/"
        },
        "id": "OJt0LjnveJpJ",
        "outputId": "31f8f58a-44e7-4209-a947-fc739148a81b"
      },
      "execution_count": null,
      "outputs": [
        {
          "output_type": "stream",
          "name": "stdout",
          "text": [
            "              precision    recall  f1-score   support\n",
            "\n",
            "           0       1.00      1.00      1.00        11\n",
            "           1       0.71      1.00      0.83        15\n",
            "           2       1.00      0.40      0.57        10\n",
            "\n",
            "    accuracy                           0.83        36\n",
            "   macro avg       0.90      0.80      0.80        36\n",
            "weighted avg       0.88      0.83      0.81        36\n",
            "\n",
            "accuracy is :  0.8333333333333334\n"
          ]
        }
      ]
    },
    {
      "cell_type": "markdown",
      "source": [
        "## SVM_linear For wine_data"
      ],
      "metadata": {
        "id": "U83mf2s_eJpK"
      }
    },
    {
      "cell_type": "code",
      "source": [
        "from sklearn import svm\n",
        "\n",
        "svm_model = svm.SVC(kernel='linear')\n",
        "X_train, X_test, y_train, y_test=train_test_split(wine_data,wine_label,test_size=0.2,random_state=23)\n",
        "svm_SVC = svm.SVC(kernel='linear')\n",
        "svm_SVC.fit(X_train, y_train)\n",
        "y_pred = svm_SVC.predict(X_test)\n",
        "print(classification_report(y_test, y_pred))\n",
        "accuracy=accuracy_score(y_test, y_pred)\n",
        "print('accuracy is : ',accuracy)"
      ],
      "metadata": {
        "execution": {
          "iopub.status.busy": "2022-07-14T08:46:02.307382Z",
          "iopub.execute_input": "2022-07-14T08:46:02.308535Z",
          "iopub.status.idle": "2022-07-14T08:46:02.404290Z",
          "shell.execute_reply.started": "2022-07-14T08:46:02.308466Z",
          "shell.execute_reply": "2022-07-14T08:46:02.402476Z"
        },
        "trusted": true,
        "colab": {
          "base_uri": "https://localhost:8080/"
        },
        "id": "zrsYE3E-eJpL",
        "outputId": "bd59ec5e-c36c-4d72-9f34-242053df3de8"
      },
      "execution_count": null,
      "outputs": [
        {
          "output_type": "stream",
          "name": "stdout",
          "text": [
            "              precision    recall  f1-score   support\n",
            "\n",
            "           0       1.00      1.00      1.00        11\n",
            "           1       1.00      1.00      1.00        15\n",
            "           2       1.00      1.00      1.00        10\n",
            "\n",
            "    accuracy                           1.00        36\n",
            "   macro avg       1.00      1.00      1.00        36\n",
            "weighted avg       1.00      1.00      1.00        36\n",
            "\n",
            "accuracy is :  1.0\n"
          ]
        }
      ]
    },
    {
      "cell_type": "markdown",
      "source": [
        "* SVM : **s**upport **v**ector **m**achine, For example, to separate the regions by two subregions by line, we are using SVM_linear."
      ],
      "metadata": {
        "id": "VStIVdrleJpM"
      }
    },
    {
      "cell_type": "markdown",
      "source": [
        "## SGD For wine_data"
      ],
      "metadata": {
        "id": "LahfXZkReJpM"
      }
    },
    {
      "cell_type": "code",
      "source": [
        "from sklearn.linear_model import SGDClassifier\n",
        "\n",
        "X_train, X_test, y_train, y_test = train_test_split(wine_data,wine_label,test_size=0.2,random_state=23)\n",
        "sgd_model = SGDClassifier(max_iter=5000,tol=0.001)\n",
        "sgd_model.fit(X_train, y_train)\n",
        "y_pred = sgd_model.predict(X_test)\n",
        "print(classification_report(y_test, y_pred))\n",
        "accuracy = accuracy_score(y_test, y_pred)\n",
        "print('accuracy is : ',accuracy)"
      ],
      "metadata": {
        "execution": {
          "iopub.status.busy": "2022-07-14T08:46:02.406023Z",
          "iopub.execute_input": "2022-07-14T08:46:02.406678Z",
          "iopub.status.idle": "2022-07-14T08:46:02.432811Z",
          "shell.execute_reply.started": "2022-07-14T08:46:02.406638Z",
          "shell.execute_reply": "2022-07-14T08:46:02.431353Z"
        },
        "trusted": true,
        "colab": {
          "base_uri": "https://localhost:8080/"
        },
        "id": "0znTImoueJpN",
        "outputId": "58330936-6130-4992-b77b-4f08476512c5"
      },
      "execution_count": null,
      "outputs": [
        {
          "output_type": "stream",
          "name": "stdout",
          "text": [
            "              precision    recall  f1-score   support\n",
            "\n",
            "           0       0.58      1.00      0.73        11\n",
            "           1       0.65      0.73      0.69        15\n",
            "           2       0.00      0.00      0.00        10\n",
            "\n",
            "    accuracy                           0.61        36\n",
            "   macro avg       0.41      0.58      0.47        36\n",
            "weighted avg       0.45      0.61      0.51        36\n",
            "\n",
            "accuracy is :  0.6111111111111112\n"
          ]
        }
      ]
    },
    {
      "cell_type": "markdown",
      "source": [
        "* SGD : **S**tochastic **G**radient **D**escent : An iterative method for optimizing an objective function with suitable smoothness properties \n",
        "  (e.g. differentiable or subdifferentiable)."
      ],
      "metadata": {
        "id": "zhGqL5cZeJpN"
      }
    },
    {
      "cell_type": "markdown",
      "source": [
        "## Logistic Regression For wine_data"
      ],
      "metadata": {
        "id": "O5NEqTqeeJpO"
      }
    },
    {
      "cell_type": "code",
      "source": [
        "from sklearn.linear_model import LogisticRegression\n",
        "\n",
        "l_regression = LogisticRegression(max_iter=5000)\n",
        "X_train, X_test, y_train, y_test=train_test_split(wine_data,wine_label,test_size=0.2,random_state=23)\n",
        "l_regression.fit(X_train, y_train)\n",
        "y_pred = l_regression.predict(X_test)\n",
        "print(classification_report(y_test, y_pred))\n",
        "accuracy = accuracy_score(y_test, y_pred)\n",
        "print('accuracy is : ',accuracy)"
      ],
      "metadata": {
        "execution": {
          "iopub.status.busy": "2022-07-14T08:46:02.434533Z",
          "iopub.execute_input": "2022-07-14T08:46:02.435242Z",
          "iopub.status.idle": "2022-07-14T08:46:03.488995Z",
          "shell.execute_reply.started": "2022-07-14T08:46:02.435190Z",
          "shell.execute_reply": "2022-07-14T08:46:03.487579Z"
        },
        "trusted": true,
        "colab": {
          "base_uri": "https://localhost:8080/"
        },
        "id": "ycPKPpc7eJpO",
        "outputId": "7bd7e24f-1e5e-4ecb-9940-c9ffd06d98e3"
      },
      "execution_count": null,
      "outputs": [
        {
          "output_type": "stream",
          "name": "stdout",
          "text": [
            "              precision    recall  f1-score   support\n",
            "\n",
            "           0       1.00      1.00      1.00        11\n",
            "           1       1.00      1.00      1.00        15\n",
            "           2       1.00      1.00      1.00        10\n",
            "\n",
            "    accuracy                           1.00        36\n",
            "   macro avg       1.00      1.00      1.00        36\n",
            "weighted avg       1.00      1.00      1.00        36\n",
            "\n",
            "accuracy is :  1.0\n"
          ]
        }
      ]
    },
    {
      "cell_type": "markdown",
      "source": [
        "#### This model uses the function $f(x)=\\frac{1}{1+{\\text{e}}^{-x}}$ to separate the train regions."
      ],
      "metadata": {
        "id": "9Dtt5NP6eJpO"
      }
    },
    {
      "cell_type": "markdown",
      "source": [
        "## KNN For wine_data"
      ],
      "metadata": {
        "id": "3LpIW_E2eJpP"
      }
    },
    {
      "cell_type": "code",
      "source": [
        "from sklearn.neighbors import KNeighborsClassifier\n",
        "\n",
        "KN_model = KNeighborsClassifier(n_neighbors=9)\n",
        "X_train, X_test, y_train, y_test=train_test_split(wine_data,wine_label,test_size=0.2,random_state=23)\n",
        "KN_model.fit(X_train, y_train)\n",
        "y_pred = KN_model.predict(X_test)\n",
        "print(classification_report(y_test, y_pred))\n",
        "accuracy = accuracy_score(y_test, y_pred)\n",
        "print('accuracy is : ',accuracy)"
      ],
      "metadata": {
        "execution": {
          "iopub.status.busy": "2022-07-14T08:46:03.490953Z",
          "iopub.execute_input": "2022-07-14T08:46:03.491403Z",
          "iopub.status.idle": "2022-07-14T08:46:03.509178Z",
          "shell.execute_reply.started": "2022-07-14T08:46:03.491361Z",
          "shell.execute_reply": "2022-07-14T08:46:03.508322Z"
        },
        "trusted": true,
        "colab": {
          "base_uri": "https://localhost:8080/"
        },
        "id": "xl5qaZAZeJpP",
        "outputId": "04c32b72-303e-4dc5-91d1-41e358834cd6"
      },
      "execution_count": null,
      "outputs": [
        {
          "output_type": "stream",
          "name": "stdout",
          "text": [
            "              precision    recall  f1-score   support\n",
            "\n",
            "           0       0.90      0.82      0.86        11\n",
            "           1       0.71      0.67      0.69        15\n",
            "           2       0.42      0.50      0.45        10\n",
            "\n",
            "    accuracy                           0.67        36\n",
            "   macro avg       0.68      0.66      0.67        36\n",
            "weighted avg       0.69      0.67      0.68        36\n",
            "\n",
            "accuracy is :  0.6666666666666666\n"
          ]
        }
      ]
    },
    {
      "cell_type": "markdown",
      "source": [
        "## GaussianNB For wine_data"
      ],
      "metadata": {
        "id": "dI5OpxBVeJpP"
      }
    },
    {
      "cell_type": "code",
      "source": [
        "from sklearn.naive_bayes import GaussianNB\n",
        "\n",
        "NB_model = GaussianNB()\n",
        "X_train, X_test, y_train, y_test=train_test_split(wine_data,wine_label,test_size=0.2,random_state=23)\n",
        "NB_model.fit(X_train, y_train)\n",
        "y_pred = NB_model.predict(X_test)\n",
        "print(classification_report(y_test, y_pred))\n",
        "accuracy = accuracy_score(y_test, y_pred)\n",
        "print('accuracy is : ',accuracy)"
      ],
      "metadata": {
        "execution": {
          "iopub.status.busy": "2022-07-14T08:46:03.510439Z",
          "iopub.execute_input": "2022-07-14T08:46:03.511263Z",
          "iopub.status.idle": "2022-07-14T08:46:03.532307Z",
          "shell.execute_reply.started": "2022-07-14T08:46:03.511228Z",
          "shell.execute_reply": "2022-07-14T08:46:03.530918Z"
        },
        "trusted": true,
        "colab": {
          "base_uri": "https://localhost:8080/"
        },
        "id": "kcI73btAeJpQ",
        "outputId": "cd7e199b-6a4b-469f-eede-9d09aff39109"
      },
      "execution_count": null,
      "outputs": [
        {
          "output_type": "stream",
          "name": "stdout",
          "text": [
            "              precision    recall  f1-score   support\n",
            "\n",
            "           0       1.00      1.00      1.00        11\n",
            "           1       1.00      1.00      1.00        15\n",
            "           2       1.00      1.00      1.00        10\n",
            "\n",
            "    accuracy                           1.00        36\n",
            "   macro avg       1.00      1.00      1.00        36\n",
            "weighted avg       1.00      1.00      1.00        36\n",
            "\n",
            "accuracy is :  1.0\n"
          ]
        }
      ]
    },
    {
      "cell_type": "markdown",
      "source": [
        "* based on applying Bayes' theorem with strong (naive) independence assumptions between the features : \n",
        "\n",
        "$P(A|B)=\\frac{P(B|A)P(A)}{P(B)}$ where A and B are different Gaussian Distribution function"
      ],
      "metadata": {
        "id": "VvvHV8eOeJpQ"
      }
    },
    {
      "cell_type": "markdown",
      "source": [
        "## Perceptron For wine_data"
      ],
      "metadata": {
        "id": "VjTcQn_VeJpR"
      }
    },
    {
      "cell_type": "code",
      "source": [
        "from sklearn.linear_model import Perceptron\n",
        "\n",
        "Pc_model = Perceptron(tol=1e-3,random_state=23)\n",
        "X_train, X_test, y_train, y_test=train_test_split(wine_data,wine_label,test_size=0.2,random_state=23) # train_size : test_size = 8 : 2\n",
        "Pc_model.fit(X_train, y_train)\n",
        "y_pred = Pc_model.predict(X_test)\n",
        "print(classification_report(y_test, y_pred))\n",
        "accuracy = accuracy_score(y_test, y_pred)\n",
        "print('accuracy is : ',accuracy)"
      ],
      "metadata": {
        "execution": {
          "iopub.status.busy": "2022-07-14T08:46:03.536596Z",
          "iopub.execute_input": "2022-07-14T08:46:03.538462Z",
          "iopub.status.idle": "2022-07-14T08:46:03.559678Z",
          "shell.execute_reply.started": "2022-07-14T08:46:03.538409Z",
          "shell.execute_reply": "2022-07-14T08:46:03.558444Z"
        },
        "trusted": true,
        "colab": {
          "base_uri": "https://localhost:8080/"
        },
        "id": "g_Tm6IwNeJpR",
        "outputId": "7f0323d2-f582-402d-e784-fbec45700d77"
      },
      "execution_count": null,
      "outputs": [
        {
          "output_type": "stream",
          "name": "stdout",
          "text": [
            "              precision    recall  f1-score   support\n",
            "\n",
            "           0       1.00      0.36      0.53        11\n",
            "           1       0.61      0.93      0.74        15\n",
            "           2       0.22      0.20      0.21        10\n",
            "\n",
            "    accuracy                           0.56        36\n",
            "   macro avg       0.61      0.50      0.49        36\n",
            "weighted avg       0.62      0.56      0.53        36\n",
            "\n",
            "accuracy is :  0.5555555555555556\n"
          ]
        }
      ]
    },
    {
      "cell_type": "markdown",
      "source": [
        "* the perceptron is an algorithm for supervised learning of **binary** classifiers. A binary classifier is a function which can decide \\\n",
        "  whether or not an input, represented by a vector of numbers, belongs to some specific class. It is a type of **linear** classifier,"
      ],
      "metadata": {
        "id": "nDxcE5R2eJpR"
      }
    },
    {
      "cell_type": "markdown",
      "source": [
        "## Confusion Matrix For wine_data prediction"
      ],
      "metadata": {
        "id": "-K6iB7rxeJpR"
      }
    },
    {
      "cell_type": "code",
      "source": [
        "f,ax=plt.subplots(3,3,figsize=(12,10))\n",
        "y_pred = cross_val_predict(DecisionTreeClassifier(),X_wine,Y_wine,cv=10)\n",
        "sns.heatmap(confusion_matrix(Y_wine,y_pred),ax=ax[0,0],annot=True,fmt='2.0f')\n",
        "ax[0,0].set_title('Matrix for Decision Tree')\n",
        "y_pred = cross_val_predict(RandomForestClassifier(n_estimators=100),X_wine,Y_wine,cv=10)\n",
        "sns.heatmap(confusion_matrix(Y_wine,y_pred),ax=ax[0,1],annot=True,fmt='2.0f')\n",
        "ax[0,1].set_title('Matrix for Random-Forests')\n",
        "y_pred = cross_val_predict(svm.SVC(kernel='rbf'),X_wine,Y_wine,cv=10)\n",
        "sns.heatmap(confusion_matrix(Y_wine,y_pred),ax=ax[0,2],annot=True,fmt='2.0f')\n",
        "ax[0,2].set_title('Matrix for rbf-SVM')\n",
        "y_pred = cross_val_predict(svm.SVC(kernel='linear'),X_wine,Y_wine,cv=10)\n",
        "sns.heatmap(confusion_matrix(Y_wine,y_pred),ax=ax[1,0],annot=True,fmt='2.0f')\n",
        "ax[1,0].set_title('Matrix for Linear-SVM')\n",
        "y_pred = cross_val_predict(SGDClassifier(max_iter=1000,tol=0.0001),X_wine,Y_wine,cv=10)\n",
        "sns.heatmap(confusion_matrix(Y_wine,y_pred),ax=ax[1,1],annot=True,fmt='2.0f')\n",
        "ax[1,1].set_title('Matrix for SGD')\n",
        "y_pred = cross_val_predict(LogisticRegression(max_iter=5000),X_wine,Y_wine,cv=10)\n",
        "sns.heatmap(confusion_matrix(Y_wine,y_pred),ax=ax[1,2],annot=True,fmt='2.0f')\n",
        "ax[1,2].set_title('Matrix for Logistic Regression')\n",
        "y_pred = cross_val_predict(KNeighborsClassifier(n_neighbors=9),X_wine,Y_wine,cv=10)\n",
        "sns.heatmap(confusion_matrix(Y_wine,y_pred),ax=ax[2,0],annot=True,fmt='2.0f')\n",
        "ax[2,0].set_title('Matrix for KNN')\n",
        "y_pred = cross_val_predict(GaussianNB(),X_wine,Y_wine,cv=10)\n",
        "sns.heatmap(confusion_matrix(Y_wine,y_pred),ax=ax[2,1],annot=True,fmt='2.0f')\n",
        "ax[2,1].set_title('Matrix for Naive Bayes')\n",
        "y_pred = cross_val_predict(Perceptron(tol=1e-3,random_state=23),X_wine,Y_wine,cv=10)\n",
        "sns.heatmap(confusion_matrix(Y_wine,y_pred),ax=ax[2,2],annot=True,fmt='2.0f')\n",
        "ax[2,2].set_title('Matrix for Perceptron')\n",
        "plt.subplots_adjust(hspace=0.2,wspace=0.2)\n",
        "plt.show()"
      ],
      "metadata": {
        "execution": {
          "iopub.status.busy": "2022-07-14T08:46:03.561189Z",
          "iopub.execute_input": "2022-07-14T08:46:03.562351Z",
          "iopub.status.idle": "2022-07-14T08:46:18.335474Z",
          "shell.execute_reply.started": "2022-07-14T08:46:03.562303Z",
          "shell.execute_reply": "2022-07-14T08:46:18.334213Z"
        },
        "trusted": true,
        "colab": {
          "base_uri": "https://localhost:8080/",
          "height": 607
        },
        "id": "43hWS739eJpR",
        "outputId": "f883e47e-91bb-44ae-dcb0-8ecb19f7d90e"
      },
      "execution_count": null,
      "outputs": [
        {
          "output_type": "display_data",
          "data": {
            "text/plain": [
              "<Figure size 864x720 with 18 Axes>"
            ],
            "image/png": "[encoded data removed]"
          },
          "metadata": {
            "needs_background": "light"
          }
        }
      ]
    },
    {
      "cell_type": "markdown",
      "source": [
        "For rbf-SVM, KNN, SGD and Perceptron, the counted numbers of error region have big portion in the whole region. \\\n",
        "I suppose the options in parentheses of these model affected in such a result."
      ],
      "metadata": {
        "id": "YRO_L2WSeJpS"
      }
    },
    {
      "cell_type": "markdown",
      "source": [
        "# Analysis using various Models in digits data"
      ],
      "metadata": {
        "id": "H20DWbc31hG0"
      }
    },
    {
      "cell_type": "code",
      "source": [
        "data=load_digits()\n",
        "print('shape of data : ', data.data.shape)\n",
        "print('shape of target : ', data.target.shape)\n",
        "print('feature names are : ',data.feature_names)"
      ],
      "metadata": {
        "colab": {
          "base_uri": "https://localhost:8080/"
        },
        "id": "xz3IW3_P0fBm",
        "outputId": "309a41f9-fef4-43cc-f25e-7207a76c53e8"
      },
      "execution_count": null,
      "outputs": [
        {
          "output_type": "stream",
          "name": "stdout",
          "text": [
            "shape of data :  (1797, 64)\n",
            "shape of target :  (1797,)\n",
            "feature names are :  ['pixel_0_0', 'pixel_0_1', 'pixel_0_2', 'pixel_0_3', 'pixel_0_4', 'pixel_0_5', 'pixel_0_6', 'pixel_0_7', 'pixel_1_0', 'pixel_1_1', 'pixel_1_2', 'pixel_1_3', 'pixel_1_4', 'pixel_1_5', 'pixel_1_6', 'pixel_1_7', 'pixel_2_0', 'pixel_2_1', 'pixel_2_2', 'pixel_2_3', 'pixel_2_4', 'pixel_2_5', 'pixel_2_6', 'pixel_2_7', 'pixel_3_0', 'pixel_3_1', 'pixel_3_2', 'pixel_3_3', 'pixel_3_4', 'pixel_3_5', 'pixel_3_6', 'pixel_3_7', 'pixel_4_0', 'pixel_4_1', 'pixel_4_2', 'pixel_4_3', 'pixel_4_4', 'pixel_4_5', 'pixel_4_6', 'pixel_4_7', 'pixel_5_0', 'pixel_5_1', 'pixel_5_2', 'pixel_5_3', 'pixel_5_4', 'pixel_5_5', 'pixel_5_6', 'pixel_5_7', 'pixel_6_0', 'pixel_6_1', 'pixel_6_2', 'pixel_6_3', 'pixel_6_4', 'pixel_6_5', 'pixel_6_6', 'pixel_6_7', 'pixel_7_0', 'pixel_7_1', 'pixel_7_2', 'pixel_7_3', 'pixel_7_4', 'pixel_7_5', 'pixel_7_6', 'pixel_7_7']\n"
          ]
        }
      ]
    },
    {
      "cell_type": "markdown",
      "source": [
        "## Decision Tree For digits_data"
      ],
      "metadata": {
        "id": "HZUT8kuaeJpS"
      }
    },
    {
      "cell_type": "code",
      "source": [
        "X_train, X_test, y_train, y_test=train_test_split(digits_data,digits_label,test_size=0.2,random_state=23)\n",
        "decision_tree = DecisionTreeClassifier(random_state=32)\n",
        "decision_tree.fit(X_train, y_train)\n",
        "y_pred = decision_tree.predict(X_test)\n",
        "print(classification_report(y_test, y_pred))\n",
        "accuracy = accuracy_score(y_test, y_pred)\n",
        "print('accuracy is : ',accuracy)"
      ],
      "metadata": {
        "execution": {
          "iopub.status.busy": "2022-07-14T08:46:18.336965Z",
          "iopub.execute_input": "2022-07-14T08:46:18.337314Z",
          "iopub.status.idle": "2022-07-14T08:46:18.371826Z",
          "shell.execute_reply.started": "2022-07-14T08:46:18.337281Z",
          "shell.execute_reply": "2022-07-14T08:46:18.370762Z"
        },
        "trusted": true,
        "colab": {
          "base_uri": "https://localhost:8080/"
        },
        "id": "K_Z0OzzleJpS",
        "outputId": "4a01f3f0-a215-4f4e-ec54-91f8ad1cdcc2"
      },
      "execution_count": null,
      "outputs": [
        {
          "output_type": "stream",
          "name": "stdout",
          "text": [
            "              precision    recall  f1-score   support\n",
            "\n",
            "           0       0.94      0.97      0.95        30\n",
            "           1       0.88      0.88      0.88        40\n",
            "           2       0.97      0.87      0.92        38\n",
            "           3       0.81      0.86      0.83        29\n",
            "           4       0.95      0.88      0.91        40\n",
            "           5       0.95      0.93      0.94        44\n",
            "           6       0.94      0.94      0.94        31\n",
            "           7       0.81      0.93      0.87        28\n",
            "           8       0.82      0.84      0.83        38\n",
            "           9       0.83      0.83      0.83        42\n",
            "\n",
            "    accuracy                           0.89       360\n",
            "   macro avg       0.89      0.89      0.89       360\n",
            "weighted avg       0.89      0.89      0.89       360\n",
            "\n",
            "accuracy is :  0.8888888888888888\n"
          ]
        }
      ]
    },
    {
      "cell_type": "markdown",
      "source": [
        "## Random Forest For digits_data"
      ],
      "metadata": {
        "id": "GRDONDlKeJpT"
      }
    },
    {
      "cell_type": "code",
      "source": [
        "X_train, X_test, y_train, y_test=train_test_split(digits_data,digits_label,test_size=0.2,random_state=23)\n",
        "random_forest = RandomForestClassifier(random_state=32)\n",
        "random_forest.fit(X_train, y_train)\n",
        "y_pred = random_forest.predict(X_test)\n",
        "print(classification_report(y_test, y_pred))\n",
        "accuracy = accuracy_score(y_test, y_pred)\n",
        "print('accuracy is : ',accuracy)"
      ],
      "metadata": {
        "execution": {
          "iopub.status.busy": "2022-07-14T08:46:18.373512Z",
          "iopub.execute_input": "2022-07-14T08:46:18.374218Z",
          "iopub.status.idle": "2022-07-14T08:46:18.794653Z",
          "shell.execute_reply.started": "2022-07-14T08:46:18.374174Z",
          "shell.execute_reply": "2022-07-14T08:46:18.793514Z"
        },
        "trusted": true,
        "colab": {
          "base_uri": "https://localhost:8080/"
        },
        "id": "Rd25tCY_eJpT",
        "outputId": "47bb1f66-acce-404c-a0fc-c9ee00cbfc1c"
      },
      "execution_count": null,
      "outputs": [
        {
          "output_type": "stream",
          "name": "stdout",
          "text": [
            "              precision    recall  f1-score   support\n",
            "\n",
            "           0       1.00      1.00      1.00        30\n",
            "           1       0.98      1.00      0.99        40\n",
            "           2       1.00      0.97      0.99        38\n",
            "           3       1.00      1.00      1.00        29\n",
            "           4       0.97      0.95      0.96        40\n",
            "           5       1.00      0.98      0.99        44\n",
            "           6       1.00      1.00      1.00        31\n",
            "           7       0.90      1.00      0.95        28\n",
            "           8       0.97      1.00      0.99        38\n",
            "           9       1.00      0.95      0.98        42\n",
            "\n",
            "    accuracy                           0.98       360\n",
            "   macro avg       0.98      0.99      0.98       360\n",
            "weighted avg       0.98      0.98      0.98       360\n",
            "\n",
            "accuracy is :  0.9833333333333333\n"
          ]
        }
      ]
    },
    {
      "cell_type": "markdown",
      "source": [
        "## SVM_rbf For digits_data"
      ],
      "metadata": {
        "id": "OiETKcVWeJpT"
      }
    },
    {
      "cell_type": "code",
      "source": [
        "svm_model = svm.SVC(kernel='rbf')\n",
        "X_train, X_test, y_train, y_test=train_test_split(digits_data,digits_label,test_size=0.2,random_state=23)\n",
        "svm_SVC = svm.SVC(kernel='rbf')\n",
        "svm_SVC.fit(X_train, y_train)\n",
        "y_pred = svm_SVC.predict(X_test)\n",
        "print(classification_report(y_test, y_pred))\n",
        "accuracy=accuracy_score(y_test, y_pred)\n",
        "print('accuracy is : ',accuracy)"
      ],
      "metadata": {
        "execution": {
          "iopub.status.busy": "2022-07-14T08:46:18.796263Z",
          "iopub.execute_input": "2022-07-14T08:46:18.796642Z",
          "iopub.status.idle": "2022-07-14T08:46:18.893053Z",
          "shell.execute_reply.started": "2022-07-14T08:46:18.796609Z",
          "shell.execute_reply": "2022-07-14T08:46:18.891743Z"
        },
        "trusted": true,
        "colab": {
          "base_uri": "https://localhost:8080/"
        },
        "id": "N4ATw75BeJpT",
        "outputId": "6e4faaee-b3f7-4df1-845c-3e794dd0330a"
      },
      "execution_count": null,
      "outputs": [
        {
          "output_type": "stream",
          "name": "stdout",
          "text": [
            "              precision    recall  f1-score   support\n",
            "\n",
            "           0       1.00      1.00      1.00        30\n",
            "           1       0.98      1.00      0.99        40\n",
            "           2       1.00      1.00      1.00        38\n",
            "           3       1.00      1.00      1.00        29\n",
            "           4       1.00      0.97      0.99        40\n",
            "           5       1.00      1.00      1.00        44\n",
            "           6       1.00      1.00      1.00        31\n",
            "           7       1.00      1.00      1.00        28\n",
            "           8       0.95      0.97      0.96        38\n",
            "           9       1.00      0.98      0.99        42\n",
            "\n",
            "    accuracy                           0.99       360\n",
            "   macro avg       0.99      0.99      0.99       360\n",
            "weighted avg       0.99      0.99      0.99       360\n",
            "\n",
            "accuracy is :  0.9916666666666667\n"
          ]
        }
      ]
    },
    {
      "cell_type": "markdown",
      "source": [
        "## SVM_linear For digits_data"
      ],
      "metadata": {
        "id": "8VWZmAtSeJpT"
      }
    },
    {
      "cell_type": "code",
      "source": [
        "svm_model = svm.SVC(kernel='linear')\n",
        "X_train, X_test, y_train, y_test=train_test_split(digits_data,digits_label,test_size=0.2,random_state=23)\n",
        "svm_SVC = svm.SVC(kernel='linear')\n",
        "svm_SVC.fit(X_train, y_train)\n",
        "y_pred = svm_SVC.predict(X_test)\n",
        "print(classification_report(y_test, y_pred))\n",
        "accuracy=accuracy_score(y_test, y_pred)\n",
        "print('accuracy is : ',accuracy)"
      ],
      "metadata": {
        "execution": {
          "iopub.status.busy": "2022-07-14T08:46:18.894333Z",
          "iopub.execute_input": "2022-07-14T08:46:18.894666Z",
          "iopub.status.idle": "2022-07-14T08:46:18.951023Z",
          "shell.execute_reply.started": "2022-07-14T08:46:18.894638Z",
          "shell.execute_reply": "2022-07-14T08:46:18.949910Z"
        },
        "trusted": true,
        "colab": {
          "base_uri": "https://localhost:8080/"
        },
        "id": "f-E03I20eJpU",
        "outputId": "f3e482eb-3ebc-4f9b-810d-4c25c4ddfb93"
      },
      "execution_count": null,
      "outputs": [
        {
          "output_type": "stream",
          "name": "stdout",
          "text": [
            "              precision    recall  f1-score   support\n",
            "\n",
            "           0       1.00      1.00      1.00        30\n",
            "           1       0.95      0.97      0.96        40\n",
            "           2       1.00      1.00      1.00        38\n",
            "           3       0.97      0.97      0.97        29\n",
            "           4       1.00      0.97      0.99        40\n",
            "           5       0.96      1.00      0.98        44\n",
            "           6       1.00      1.00      1.00        31\n",
            "           7       0.97      1.00      0.98        28\n",
            "           8       0.97      0.87      0.92        38\n",
            "           9       0.98      1.00      0.99        42\n",
            "\n",
            "    accuracy                           0.98       360\n",
            "   macro avg       0.98      0.98      0.98       360\n",
            "weighted avg       0.98      0.98      0.98       360\n",
            "\n",
            "accuracy is :  0.9777777777777777\n"
          ]
        }
      ]
    },
    {
      "cell_type": "markdown",
      "source": [
        "## SGD For digits_data"
      ],
      "metadata": {
        "id": "Njp4PXAseJpU"
      }
    },
    {
      "cell_type": "code",
      "source": [
        "X_train, X_test, y_train, y_test = train_test_split(digits_data,digits_label,test_size=0.2,random_state=23)\n",
        "sgd_model = SGDClassifier(max_iter=1000,tol=0.00001)\n",
        "sgd_model.fit(X_train, y_train)\n",
        "y_pred = sgd_model.predict(X_test)\n",
        "print(classification_report(y_test, y_pred))\n",
        "accuracy = accuracy_score(y_test, y_pred)\n",
        "print('accuracy is : ',accuracy)"
      ],
      "metadata": {
        "execution": {
          "iopub.status.busy": "2022-07-14T08:46:18.952740Z",
          "iopub.execute_input": "2022-07-14T08:46:18.953275Z",
          "iopub.status.idle": "2022-07-14T08:46:19.030911Z",
          "shell.execute_reply.started": "2022-07-14T08:46:18.953242Z",
          "shell.execute_reply": "2022-07-14T08:46:19.030067Z"
        },
        "trusted": true,
        "colab": {
          "base_uri": "https://localhost:8080/"
        },
        "id": "FHFCpXxFeJpU",
        "outputId": "d2b1e74b-168f-4985-86ab-c4dc44670d96"
      },
      "execution_count": null,
      "outputs": [
        {
          "output_type": "stream",
          "name": "stdout",
          "text": [
            "              precision    recall  f1-score   support\n",
            "\n",
            "           0       1.00      1.00      1.00        30\n",
            "           1       0.85      0.88      0.86        40\n",
            "           2       1.00      0.97      0.99        38\n",
            "           3       0.81      1.00      0.89        29\n",
            "           4       1.00      0.90      0.95        40\n",
            "           5       0.98      0.91      0.94        44\n",
            "           6       1.00      0.94      0.97        31\n",
            "           7       0.85      1.00      0.92        28\n",
            "           8       0.77      0.89      0.83        38\n",
            "           9       1.00      0.79      0.88        42\n",
            "\n",
            "    accuracy                           0.92       360\n",
            "   macro avg       0.93      0.93      0.92       360\n",
            "weighted avg       0.93      0.92      0.92       360\n",
            "\n",
            "accuracy is :  0.9194444444444444\n"
          ]
        }
      ]
    },
    {
      "cell_type": "markdown",
      "source": [
        "* By adjusting the factors max_iter and tol, Error msg disappeared and got the good accuracy."
      ],
      "metadata": {
        "id": "COgUI32KeJpV"
      }
    },
    {
      "cell_type": "markdown",
      "source": [
        "## Logistic Regression For digits_data"
      ],
      "metadata": {
        "id": "GRu7gG1VeJpV"
      }
    },
    {
      "cell_type": "code",
      "source": [
        "l_regression = LogisticRegression(max_iter=5000)\n",
        "X_train, X_test, y_train, y_test=train_test_split(digits_data,digits_label,test_size=0.2,random_state=23)\n",
        "l_regression.fit(X_train, y_train)\n",
        "y_pred = l_regression.predict(X_test)\n",
        "print(classification_report(y_test, y_pred))\n",
        "accuracy = accuracy_score(y_test, y_pred)\n",
        "print('accuracy is : ',accuracy)"
      ],
      "metadata": {
        "execution": {
          "iopub.status.busy": "2022-07-14T08:46:19.032131Z",
          "iopub.execute_input": "2022-07-14T08:46:19.032631Z",
          "iopub.status.idle": "2022-07-14T08:46:30.089415Z",
          "shell.execute_reply.started": "2022-07-14T08:46:19.032599Z",
          "shell.execute_reply": "2022-07-14T08:46:30.088097Z"
        },
        "trusted": true,
        "colab": {
          "base_uri": "https://localhost:8080/"
        },
        "id": "GybiKfaMeJpV",
        "outputId": "db3f5d93-8644-4941-c4f0-08bb6bd243da"
      },
      "execution_count": null,
      "outputs": [
        {
          "output_type": "stream",
          "name": "stdout",
          "text": [
            "              precision    recall  f1-score   support\n",
            "\n",
            "           0       1.00      1.00      1.00        30\n",
            "           1       0.89      0.97      0.93        40\n",
            "           2       1.00      1.00      1.00        38\n",
            "           3       0.97      1.00      0.98        29\n",
            "           4       1.00      0.95      0.97        40\n",
            "           5       0.93      0.95      0.94        44\n",
            "           6       0.97      0.97      0.97        31\n",
            "           7       0.93      1.00      0.97        28\n",
            "           8       0.97      0.87      0.92        38\n",
            "           9       1.00      0.95      0.98        42\n",
            "\n",
            "    accuracy                           0.96       360\n",
            "   macro avg       0.97      0.97      0.97       360\n",
            "weighted avg       0.97      0.96      0.96       360\n",
            "\n",
            "accuracy is :  0.9638888888888889\n"
          ]
        }
      ]
    },
    {
      "cell_type": "markdown",
      "source": [
        "## KNN For digits_data"
      ],
      "metadata": {
        "id": "KdP0Yz-DeJpV"
      }
    },
    {
      "cell_type": "code",
      "source": [
        "KN_model = KNeighborsClassifier(n_neighbors=9)\n",
        "X_train, X_test, y_train, y_test=train_test_split(digits_data,digits_label,test_size=0.2,random_state=23)\n",
        "KN_model.fit(X_train, y_train)\n",
        "y_pred = KN_model.predict(X_test)\n",
        "print(classification_report(y_test, y_pred))\n",
        "accuracy = accuracy_score(y_test, y_pred)\n",
        "print('accuracy is : ',accuracy)"
      ],
      "metadata": {
        "execution": {
          "iopub.status.busy": "2022-07-14T08:46:30.091542Z",
          "iopub.execute_input": "2022-07-14T08:46:30.092506Z",
          "iopub.status.idle": "2022-07-14T08:46:30.166749Z",
          "shell.execute_reply.started": "2022-07-14T08:46:30.092438Z",
          "shell.execute_reply": "2022-07-14T08:46:30.165342Z"
        },
        "trusted": true,
        "colab": {
          "base_uri": "https://localhost:8080/"
        },
        "id": "8N-5cq3feJpW",
        "outputId": "8d0cd532-3422-480d-86f9-fb54bc0b6169"
      },
      "execution_count": null,
      "outputs": [
        {
          "output_type": "stream",
          "name": "stdout",
          "text": [
            "              precision    recall  f1-score   support\n",
            "\n",
            "           0       1.00      1.00      1.00        30\n",
            "           1       0.95      1.00      0.98        40\n",
            "           2       1.00      0.97      0.99        38\n",
            "           3       0.97      1.00      0.98        29\n",
            "           4       1.00      0.95      0.97        40\n",
            "           5       0.98      1.00      0.99        44\n",
            "           6       1.00      1.00      1.00        31\n",
            "           7       0.93      1.00      0.97        28\n",
            "           8       0.97      0.97      0.97        38\n",
            "           9       1.00      0.93      0.96        42\n",
            "\n",
            "    accuracy                           0.98       360\n",
            "   macro avg       0.98      0.98      0.98       360\n",
            "weighted avg       0.98      0.98      0.98       360\n",
            "\n",
            "accuracy is :  0.9805555555555555\n"
          ]
        }
      ]
    },
    {
      "cell_type": "markdown",
      "source": [
        "## GaussianNB For digits_data"
      ],
      "metadata": {
        "id": "jDasMFxieJpW"
      }
    },
    {
      "cell_type": "code",
      "source": [
        "NB_model = GaussianNB()\n",
        "X_train, X_test, y_train, y_test=train_test_split(digits_data,digits_label,test_size=0.2,random_state=23)\n",
        "NB_model.fit(X_train, y_train)\n",
        "y_pred = NB_model.predict(X_test)\n",
        "print(classification_report(y_test, y_pred))\n",
        "accuracy = accuracy_score(y_test, y_pred)\n",
        "print('accuracy is : ',accuracy)"
      ],
      "metadata": {
        "execution": {
          "iopub.status.busy": "2022-07-14T08:46:30.169166Z",
          "iopub.execute_input": "2022-07-14T08:46:30.170290Z",
          "iopub.status.idle": "2022-07-14T08:46:30.202961Z",
          "shell.execute_reply.started": "2022-07-14T08:46:30.170227Z",
          "shell.execute_reply": "2022-07-14T08:46:30.201567Z"
        },
        "trusted": true,
        "colab": {
          "base_uri": "https://localhost:8080/"
        },
        "id": "uCqaFZ0ieJpW",
        "outputId": "d185f1ab-e96f-4a37-eca8-3dec739fc061"
      },
      "execution_count": null,
      "outputs": [
        {
          "output_type": "stream",
          "name": "stdout",
          "text": [
            "              precision    recall  f1-score   support\n",
            "\n",
            "           0       1.00      1.00      1.00        30\n",
            "           1       0.73      0.90      0.81        40\n",
            "           2       1.00      0.61      0.75        38\n",
            "           3       0.93      0.90      0.91        29\n",
            "           4       0.97      0.80      0.88        40\n",
            "           5       0.98      0.91      0.94        44\n",
            "           6       1.00      1.00      1.00        31\n",
            "           7       0.60      1.00      0.75        28\n",
            "           8       0.54      0.71      0.61        38\n",
            "           9       1.00      0.67      0.80        42\n",
            "\n",
            "    accuracy                           0.84       360\n",
            "   macro avg       0.87      0.85      0.85       360\n",
            "weighted avg       0.88      0.84      0.84       360\n",
            "\n",
            "accuracy is :  0.8361111111111111\n"
          ]
        }
      ]
    },
    {
      "cell_type": "markdown",
      "source": [
        "## Perceptron For digits_data"
      ],
      "metadata": {
        "id": "tqZLg-lXeJpW"
      }
    },
    {
      "cell_type": "code",
      "source": [
        "Pc_model = Perceptron(tol=1e-3,random_state=23)\n",
        "X_train, X_test, y_train, y_test=train_test_split(digits_data,digits_label,test_size=0.2,random_state=23)\n",
        "Pc_model.fit(X_train, y_train)\n",
        "y_pred = Pc_model.predict(X_test)\n",
        "print(classification_report(y_test, y_pred))\n",
        "accuracy = accuracy_score(y_test, y_pred)\n",
        "print('accuracy is : ',accuracy)"
      ],
      "metadata": {
        "execution": {
          "iopub.status.busy": "2022-07-14T08:46:30.205229Z",
          "iopub.execute_input": "2022-07-14T08:46:30.206231Z",
          "iopub.status.idle": "2022-07-14T08:46:30.267397Z",
          "shell.execute_reply.started": "2022-07-14T08:46:30.206176Z",
          "shell.execute_reply": "2022-07-14T08:46:30.266012Z"
        },
        "trusted": true,
        "colab": {
          "base_uri": "https://localhost:8080/"
        },
        "id": "drCpj6CUeJpX",
        "outputId": "400f5520-bef7-4e52-bccc-ce2a21f8171e"
      },
      "execution_count": null,
      "outputs": [
        {
          "output_type": "stream",
          "name": "stdout",
          "text": [
            "              precision    recall  f1-score   support\n",
            "\n",
            "           0       1.00      1.00      1.00        30\n",
            "           1       0.94      0.78      0.85        40\n",
            "           2       1.00      0.97      0.99        38\n",
            "           3       0.85      1.00      0.92        29\n",
            "           4       1.00      0.90      0.95        40\n",
            "           5       0.88      1.00      0.94        44\n",
            "           6       0.97      0.97      0.97        31\n",
            "           7       0.97      1.00      0.98        28\n",
            "           8       0.97      0.89      0.93        38\n",
            "           9       0.91      0.98      0.94        42\n",
            "\n",
            "    accuracy                           0.94       360\n",
            "   macro avg       0.95      0.95      0.95       360\n",
            "weighted avg       0.95      0.94      0.94       360\n",
            "\n",
            "accuracy is :  0.9444444444444444\n"
          ]
        }
      ]
    },
    {
      "cell_type": "markdown",
      "source": [
        "## Confusion Matrix For digits_data prediction"
      ],
      "metadata": {
        "id": "FWz_-1D0eJpX"
      }
    },
    {
      "cell_type": "code",
      "source": [
        "f,ax=plt.subplots(3,3,figsize=(12,10))\n",
        "y_pred = cross_val_predict(DecisionTreeClassifier(),X_digits,Y_digits,cv=10)\n",
        "sns.heatmap(confusion_matrix(Y_digits,y_pred),ax=ax[0,0],annot=True,fmt='2.0f')\n",
        "ax[0,0].set_title('Matrix for Decision Tree')\n",
        "y_pred = cross_val_predict(RandomForestClassifier(n_estimators=100),X_digits,Y_digits,cv=10)\n",
        "sns.heatmap(confusion_matrix(Y_digits,y_pred),ax=ax[0,1],annot=True,fmt='2.0f')\n",
        "ax[0,1].set_title('Matrix for Random-Forests')\n",
        "y_pred = cross_val_predict(svm.SVC(kernel='rbf'),X_digits,Y_digits,cv=10)\n",
        "sns.heatmap(confusion_matrix(Y_digits,y_pred),ax=ax[0,2],annot=True,fmt='2.0f')\n",
        "ax[0,2].set_title('Matrix for rbf-SVM')\n",
        "y_pred = cross_val_predict(svm.SVC(kernel='linear'),X_digits,Y_digits,cv=10)\n",
        "sns.heatmap(confusion_matrix(Y_digits,y_pred),ax=ax[1,0],annot=True,fmt='2.0f')\n",
        "ax[1,0].set_title('Matrix for Linear-SVM')\n",
        "y_pred = cross_val_predict(SGDClassifier(max_iter=1000,tol=0.0001),X_digits,Y_digits,cv=10)\n",
        "sns.heatmap(confusion_matrix(Y_digits,y_pred),ax=ax[1,1],annot=True,fmt='2.0f')\n",
        "ax[1,1].set_title('Matrix for SGD')\n",
        "y_pred = cross_val_predict(LogisticRegression(max_iter=5000),X_digits,Y_digits,cv=10)\n",
        "sns.heatmap(confusion_matrix(Y_digits,y_pred),ax=ax[1,2],annot=True,fmt='2.0f')\n",
        "ax[1,2].set_title('Matrix for Logistic Regression')\n",
        "y_pred = cross_val_predict(KNeighborsClassifier(n_neighbors=9),X_digits,Y_digits,cv=10)\n",
        "sns.heatmap(confusion_matrix(Y_digits,y_pred),ax=ax[2,0],annot=True,fmt='2.0f')\n",
        "ax[2,0].set_title('Matrix for KNN')\n",
        "y_pred = cross_val_predict(GaussianNB(),X_digits,Y_digits,cv=10)\n",
        "sns.heatmap(confusion_matrix(Y_digits,y_pred),ax=ax[2,1],annot=True,fmt='2.0f')\n",
        "ax[2,1].set_title('Matrix for Naive Bayes')\n",
        "y_pred = cross_val_predict(Perceptron(tol=1e-3,random_state=23),X_digits,Y_digits,cv=10)\n",
        "sns.heatmap(confusion_matrix(Y_digits,y_pred),ax=ax[2,2],annot=True,fmt='2.0f')\n",
        "ax[2,2].set_title('Matrix for Perceptron')\n",
        "plt.subplots_adjust(hspace=0.2,wspace=0.2)\n",
        "plt.show()"
      ],
      "metadata": {
        "execution": {
          "iopub.status.busy": "2022-07-14T08:46:30.268792Z",
          "iopub.execute_input": "2022-07-14T08:46:30.269128Z",
          "iopub.status.idle": "2022-07-14T08:48:17.037100Z",
          "shell.execute_reply.started": "2022-07-14T08:46:30.269098Z",
          "shell.execute_reply": "2022-07-14T08:48:17.035720Z"
        },
        "trusted": true,
        "colab": {
          "base_uri": "https://localhost:8080/",
          "height": 607
        },
        "id": "yazNsxM3eJpX",
        "outputId": "b0855322-4ffd-4bd8-858a-7c2dead79d63"
      },
      "execution_count": null,
      "outputs": [
        {
          "output_type": "display_data",
          "data": {
            "text/plain": [
              "<Figure size 864x720 with 18 Axes>"
            ],
            "image/png": "[encoded data removed]"
          },
          "metadata": {
            "needs_background": "light"
          }
        }
      ]
    },
    {
      "cell_type": "markdown",
      "source": [
        "* Naive Bayes predicted 2 to 8 frequently."
      ],
      "metadata": {
        "id": "y46ISAjueJpY"
      }
    },
    {
      "cell_type": "markdown",
      "source": [
        "# Analysis using various Models in breast cancer data"
      ],
      "metadata": {
        "id": "lkJBLXeV0_dK"
      }
    },
    {
      "cell_type": "code",
      "source": [
        "data=load_breast_cancer()\n",
        "print('shape of data : ', data.data.shape)\n",
        "print('shape of target : ', data.target.shape)\n",
        "print('feature names are : ',data.feature_names)"
      ],
      "metadata": {
        "colab": {
          "base_uri": "https://localhost:8080/"
        },
        "id": "_vl51ZKM0uc4",
        "outputId": "1b13efa6-f058-435f-eb97-c72674c693d0"
      },
      "execution_count": null,
      "outputs": [
        {
          "output_type": "stream",
          "name": "stdout",
          "text": [
            "shape of data :  (569, 30)\n",
            "shape of target :  (569,)\n",
            "feature names are :  ['mean radius' 'mean texture' 'mean perimeter' 'mean area'\n",
            " 'mean smoothness' 'mean compactness' 'mean concavity'\n",
            " 'mean concave points' 'mean symmetry' 'mean fractal dimension'\n",
            " 'radius error' 'texture error' 'perimeter error' 'area error'\n",
            " 'smoothness error' 'compactness error' 'concavity error'\n",
            " 'concave points error' 'symmetry error' 'fractal dimension error'\n",
            " 'worst radius' 'worst texture' 'worst perimeter' 'worst area'\n",
            " 'worst smoothness' 'worst compactness' 'worst concavity'\n",
            " 'worst concave points' 'worst symmetry' 'worst fractal dimension']\n"
          ]
        }
      ]
    },
    {
      "cell_type": "markdown",
      "source": [
        "## Decision Tree For breast_cancer_data"
      ],
      "metadata": {
        "id": "DFYXqqvGeJpY"
      }
    },
    {
      "cell_type": "code",
      "source": [
        "X_train, X_test, y_train, y_test=train_test_split(breast_cancer_data,breast_cancer_label,test_size=0.2,random_state=23)\n",
        "decision_tree = DecisionTreeClassifier(random_state=32)\n",
        "decision_tree.fit(X_train, y_train)\n",
        "y_pred = decision_tree.predict(X_test)\n",
        "print(classification_report(y_test, y_pred))\n",
        "accuracy = accuracy_score(y_test, y_pred)\n",
        "print('accuracy is : ',accuracy)"
      ],
      "metadata": {
        "execution": {
          "iopub.status.busy": "2022-07-14T08:48:17.038898Z",
          "iopub.execute_input": "2022-07-14T08:48:17.039450Z",
          "iopub.status.idle": "2022-07-14T08:48:17.062927Z",
          "shell.execute_reply.started": "2022-07-14T08:48:17.039417Z",
          "shell.execute_reply": "2022-07-14T08:48:17.061258Z"
        },
        "trusted": true,
        "colab": {
          "base_uri": "https://localhost:8080/"
        },
        "id": "CjmZxydmeJpY",
        "outputId": "47fa2475-dd00-497d-de2a-b721ade57db5"
      },
      "execution_count": null,
      "outputs": [
        {
          "output_type": "stream",
          "name": "stdout",
          "text": [
            "              precision    recall  f1-score   support\n",
            "\n",
            "           0       0.90      0.90      0.90        39\n",
            "           1       0.95      0.95      0.95        75\n",
            "\n",
            "    accuracy                           0.93       114\n",
            "   macro avg       0.92      0.92      0.92       114\n",
            "weighted avg       0.93      0.93      0.93       114\n",
            "\n",
            "accuracy is :  0.9298245614035088\n"
          ]
        }
      ]
    },
    {
      "cell_type": "markdown",
      "source": [
        "## Random Forest For breast_cancer_data"
      ],
      "metadata": {
        "id": "YAcToyi9eJpZ"
      }
    },
    {
      "cell_type": "code",
      "source": [
        "X_train, X_test, y_train, y_test=train_test_split(breast_cancer_data,breast_cancer_label,test_size=0.2,random_state=23)\n",
        "random_forest = RandomForestClassifier(random_state=32)\n",
        "random_forest.fit(X_train, y_train)\n",
        "y_pred = random_forest.predict(X_test)\n",
        "print(classification_report(y_test, y_pred))\n",
        "accuracy = accuracy_score(y_test, y_pred)\n",
        "print('accuracy is : ',accuracy)"
      ],
      "metadata": {
        "execution": {
          "iopub.status.busy": "2022-07-14T08:48:17.064704Z",
          "iopub.execute_input": "2022-07-14T08:48:17.065671Z",
          "iopub.status.idle": "2022-07-14T08:48:17.354269Z",
          "shell.execute_reply.started": "2022-07-14T08:48:17.065626Z",
          "shell.execute_reply": "2022-07-14T08:48:17.352803Z"
        },
        "trusted": true,
        "colab": {
          "base_uri": "https://localhost:8080/"
        },
        "id": "08rgzbrGeJpZ",
        "outputId": "aea49f7e-7e1b-4e46-f516-02a453931baf"
      },
      "execution_count": null,
      "outputs": [
        {
          "output_type": "stream",
          "name": "stdout",
          "text": [
            "              precision    recall  f1-score   support\n",
            "\n",
            "           0       0.92      0.92      0.92        39\n",
            "           1       0.96      0.96      0.96        75\n",
            "\n",
            "    accuracy                           0.95       114\n",
            "   macro avg       0.94      0.94      0.94       114\n",
            "weighted avg       0.95      0.95      0.95       114\n",
            "\n",
            "accuracy is :  0.9473684210526315\n"
          ]
        }
      ]
    },
    {
      "cell_type": "markdown",
      "source": [
        "## SVM_rbf For breast_cancer_data"
      ],
      "metadata": {
        "id": "Pb3N-Sb_eJpZ"
      }
    },
    {
      "cell_type": "code",
      "source": [
        "svm_model = svm.SVC(kernel='rbf')\n",
        "X_train, X_test, y_train, y_test=train_test_split(breast_cancer_data,breast_cancer_label,test_size=0.2,random_state=23)\n",
        "svm_SVC = svm.SVC(kernel='rbf')\n",
        "svm_SVC.fit(X_train, y_train)\n",
        "y_pred = svm_SVC.predict(X_test)\n",
        "print(classification_report(y_test, y_pred))\n",
        "accuracy=accuracy_score(y_test, y_pred)\n",
        "print('accuracy is : ',accuracy)"
      ],
      "metadata": {
        "execution": {
          "iopub.status.busy": "2022-07-14T08:48:17.355896Z",
          "iopub.execute_input": "2022-07-14T08:48:17.356455Z",
          "iopub.status.idle": "2022-07-14T08:48:17.381543Z",
          "shell.execute_reply.started": "2022-07-14T08:48:17.356413Z",
          "shell.execute_reply": "2022-07-14T08:48:17.380059Z"
        },
        "trusted": true,
        "colab": {
          "base_uri": "https://localhost:8080/"
        },
        "id": "9mYklZTteJpZ",
        "outputId": "d245f6d6-803d-41e0-e8e8-01939690dea7"
      },
      "execution_count": null,
      "outputs": [
        {
          "output_type": "stream",
          "name": "stdout",
          "text": [
            "              precision    recall  f1-score   support\n",
            "\n",
            "           0       0.97      0.90      0.93        39\n",
            "           1       0.95      0.99      0.97        75\n",
            "\n",
            "    accuracy                           0.96       114\n",
            "   macro avg       0.96      0.94      0.95       114\n",
            "weighted avg       0.96      0.96      0.96       114\n",
            "\n",
            "accuracy is :  0.956140350877193\n"
          ]
        }
      ]
    },
    {
      "cell_type": "markdown",
      "source": [
        "## SVM_linear For breast_cancer_data"
      ],
      "metadata": {
        "id": "pXoBcH-beJpa"
      }
    },
    {
      "cell_type": "code",
      "source": [
        "svm_model = svm.SVC(kernel='linear')\n",
        "X_train, X_test, y_train, y_test=train_test_split(breast_cancer_data,breast_cancer_label,test_size=0.2,random_state=23)\n",
        "svm_SVC = svm.SVC(kernel='linear')\n",
        "svm_SVC.fit(X_train, y_train)\n",
        "y_pred = svm_SVC.predict(X_test)\n",
        "print(classification_report(y_test, y_pred))\n",
        "accuracy=accuracy_score(y_test, y_pred)\n",
        "print('accuracy is : ',accuracy)"
      ],
      "metadata": {
        "execution": {
          "iopub.status.busy": "2022-07-14T08:48:17.384382Z",
          "iopub.execute_input": "2022-07-14T08:48:17.385507Z",
          "iopub.status.idle": "2022-07-14T08:48:19.023707Z",
          "shell.execute_reply.started": "2022-07-14T08:48:17.385396Z",
          "shell.execute_reply": "2022-07-14T08:48:19.022162Z"
        },
        "trusted": true,
        "colab": {
          "base_uri": "https://localhost:8080/"
        },
        "id": "QrlHzJPDeJpa",
        "outputId": "c6bfc4be-a664-4921-e944-4bca988bff73"
      },
      "execution_count": null,
      "outputs": [
        {
          "output_type": "stream",
          "name": "stdout",
          "text": [
            "              precision    recall  f1-score   support\n",
            "\n",
            "           0       0.97      0.92      0.95        39\n",
            "           1       0.96      0.99      0.97        75\n",
            "\n",
            "    accuracy                           0.96       114\n",
            "   macro avg       0.97      0.95      0.96       114\n",
            "weighted avg       0.97      0.96      0.96       114\n",
            "\n",
            "accuracy is :  0.9649122807017544\n"
          ]
        }
      ]
    },
    {
      "cell_type": "markdown",
      "source": [
        "## SGD For breast_cancer_data"
      ],
      "metadata": {
        "id": "fHOPt4iVeJpa"
      }
    },
    {
      "cell_type": "code",
      "source": [
        "X_train, X_test, y_train, y_test = train_test_split(breast_cancer_data,breast_cancer_label,test_size=0.2,random_state=23)\n",
        "sgd_model = SGDClassifier(max_iter=1000,tol=0.00001)\n",
        "sgd_model.fit(X_train, y_train)\n",
        "y_pred = sgd_model.predict(X_test)\n",
        "print(classification_report(y_test, y_pred))\n",
        "accuracy = accuracy_score(y_test, y_pred)\n",
        "print('accuracy is : ',accuracy)"
      ],
      "metadata": {
        "execution": {
          "iopub.status.busy": "2022-07-14T08:48:19.025487Z",
          "iopub.execute_input": "2022-07-14T08:48:19.026179Z",
          "iopub.status.idle": "2022-07-14T08:48:19.043853Z",
          "shell.execute_reply.started": "2022-07-14T08:48:19.026136Z",
          "shell.execute_reply": "2022-07-14T08:48:19.042943Z"
        },
        "trusted": true,
        "colab": {
          "base_uri": "https://localhost:8080/"
        },
        "id": "MVewMmygeJpa",
        "outputId": "3a41f479-7b07-4a4c-d222-f3a4bf65c105"
      },
      "execution_count": null,
      "outputs": [
        {
          "output_type": "stream",
          "name": "stdout",
          "text": [
            "              precision    recall  f1-score   support\n",
            "\n",
            "           0       0.97      0.85      0.90        39\n",
            "           1       0.93      0.99      0.95        75\n",
            "\n",
            "    accuracy                           0.94       114\n",
            "   macro avg       0.95      0.92      0.93       114\n",
            "weighted avg       0.94      0.94      0.94       114\n",
            "\n",
            "accuracy is :  0.9385964912280702\n"
          ]
        }
      ]
    },
    {
      "cell_type": "markdown",
      "source": [
        "## Logistic Regression For breast_cancer_data"
      ],
      "metadata": {
        "id": "TUyWN2c0eJpb"
      }
    },
    {
      "cell_type": "code",
      "source": [
        "l_regression = LogisticRegression(max_iter=5000)\n",
        "X_train, X_test, y_train, y_test=train_test_split(breast_cancer_data,breast_cancer_label,test_size=0.2,random_state=23)\n",
        "l_regression.fit(X_train, y_train)\n",
        "y_pred = l_regression.predict(X_test)\n",
        "print(classification_report(y_test, y_pred))\n",
        "accuracy = accuracy_score(y_test, y_pred)\n",
        "print('accuracy is : ',accuracy)"
      ],
      "metadata": {
        "execution": {
          "iopub.status.busy": "2022-07-14T08:48:19.045445Z",
          "iopub.execute_input": "2022-07-14T08:48:19.045954Z",
          "iopub.status.idle": "2022-07-14T08:48:20.102324Z",
          "shell.execute_reply.started": "2022-07-14T08:48:19.045917Z",
          "shell.execute_reply": "2022-07-14T08:48:20.101121Z"
        },
        "trusted": true,
        "colab": {
          "base_uri": "https://localhost:8080/"
        },
        "id": "HYvHv0yueJpb",
        "outputId": "55f0d4de-98ab-4ee2-da2f-8f237ebf71a4"
      },
      "execution_count": null,
      "outputs": [
        {
          "output_type": "stream",
          "name": "stdout",
          "text": [
            "              precision    recall  f1-score   support\n",
            "\n",
            "           0       0.97      0.92      0.95        39\n",
            "           1       0.96      0.99      0.97        75\n",
            "\n",
            "    accuracy                           0.96       114\n",
            "   macro avg       0.97      0.95      0.96       114\n",
            "weighted avg       0.97      0.96      0.96       114\n",
            "\n",
            "accuracy is :  0.9649122807017544\n"
          ]
        }
      ]
    },
    {
      "cell_type": "markdown",
      "source": [
        "## KNN For breast_cancer_data"
      ],
      "metadata": {
        "id": "uTqD-_-EeJpb"
      }
    },
    {
      "cell_type": "code",
      "source": [
        "KN_model = KNeighborsClassifier(n_neighbors=9)\n",
        "X_train, X_test, y_train, y_test=train_test_split(breast_cancer_data,breast_cancer_label,test_size=0.2,random_state=23)\n",
        "KN_model.fit(X_train, y_train)\n",
        "y_pred = KN_model.predict(X_test)\n",
        "print(classification_report(y_test, y_pred))\n",
        "accuracy = accuracy_score(y_test, y_pred)\n",
        "print('accuracy is : ',accuracy)"
      ],
      "metadata": {
        "execution": {
          "iopub.status.busy": "2022-07-14T08:48:20.109645Z",
          "iopub.execute_input": "2022-07-14T08:48:20.110509Z",
          "iopub.status.idle": "2022-07-14T08:48:20.139964Z",
          "shell.execute_reply.started": "2022-07-14T08:48:20.110444Z",
          "shell.execute_reply": "2022-07-14T08:48:20.138822Z"
        },
        "trusted": true,
        "colab": {
          "base_uri": "https://localhost:8080/"
        },
        "id": "KW5D5YgUeJpb",
        "outputId": "0c17e0b9-6cce-4101-8f7f-fdbd1937fab2"
      },
      "execution_count": null,
      "outputs": [
        {
          "output_type": "stream",
          "name": "stdout",
          "text": [
            "              precision    recall  f1-score   support\n",
            "\n",
            "           0       0.97      0.92      0.95        39\n",
            "           1       0.96      0.99      0.97        75\n",
            "\n",
            "    accuracy                           0.96       114\n",
            "   macro avg       0.97      0.95      0.96       114\n",
            "weighted avg       0.97      0.96      0.96       114\n",
            "\n",
            "accuracy is :  0.9649122807017544\n"
          ]
        }
      ]
    },
    {
      "cell_type": "markdown",
      "source": [
        "## GaussianNB For breast_cancer_data"
      ],
      "metadata": {
        "id": "nd2BUQOUeJpb"
      }
    },
    {
      "cell_type": "code",
      "source": [
        "NB_model = GaussianNB()\n",
        "X_train, X_test, y_train, y_test=train_test_split(breast_cancer_data,breast_cancer_label,test_size=0.2,random_state=23)\n",
        "NB_model.fit(X_train, y_train)\n",
        "y_pred = NB_model.predict(X_test)\n",
        "print(classification_report(y_test, y_pred))\n",
        "accuracy = accuracy_score(y_test, y_pred)\n",
        "print('accuracy is : ',accuracy)"
      ],
      "metadata": {
        "execution": {
          "iopub.status.busy": "2022-07-14T08:48:20.141399Z",
          "iopub.execute_input": "2022-07-14T08:48:20.141834Z",
          "iopub.status.idle": "2022-07-14T08:48:20.164268Z",
          "shell.execute_reply.started": "2022-07-14T08:48:20.141791Z",
          "shell.execute_reply": "2022-07-14T08:48:20.163156Z"
        },
        "trusted": true,
        "colab": {
          "base_uri": "https://localhost:8080/"
        },
        "id": "0Skd-UTaeJpc",
        "outputId": "b203514b-2f76-4518-dedc-1df5979f41b3"
      },
      "execution_count": null,
      "outputs": [
        {
          "output_type": "stream",
          "name": "stdout",
          "text": [
            "              precision    recall  f1-score   support\n",
            "\n",
            "           0       0.97      0.90      0.93        39\n",
            "           1       0.95      0.99      0.97        75\n",
            "\n",
            "    accuracy                           0.96       114\n",
            "   macro avg       0.96      0.94      0.95       114\n",
            "weighted avg       0.96      0.96      0.96       114\n",
            "\n",
            "accuracy is :  0.956140350877193\n"
          ]
        }
      ]
    },
    {
      "cell_type": "markdown",
      "source": [
        "## Perceptron For breast_cancer_data"
      ],
      "metadata": {
        "id": "DpAlyig1eJpc"
      }
    },
    {
      "cell_type": "code",
      "source": [
        "Pc_model = Perceptron(tol=1e-3,random_state=23)\n",
        "X_train, X_test, y_train, y_test=train_test_split(breast_cancer_data,breast_cancer_label,test_size=0.2,random_state=23)\n",
        "Pc_model.fit(X_train, y_train)\n",
        "y_pred = Pc_model.predict(X_test)\n",
        "print(classification_report(y_test, y_pred))\n",
        "accuracy = accuracy_score(y_test, y_pred)\n",
        "print('accuracy is : ',accuracy)"
      ],
      "metadata": {
        "execution": {
          "iopub.status.busy": "2022-07-14T08:48:20.166113Z",
          "iopub.execute_input": "2022-07-14T08:48:20.166923Z",
          "iopub.status.idle": "2022-07-14T08:48:20.190478Z",
          "shell.execute_reply.started": "2022-07-14T08:48:20.166875Z",
          "shell.execute_reply": "2022-07-14T08:48:20.189282Z"
        },
        "trusted": true,
        "colab": {
          "base_uri": "https://localhost:8080/"
        },
        "id": "uCzTbUoueJpc",
        "outputId": "a9b0d7dd-67c7-4e16-96ad-315bdeec9bbd"
      },
      "execution_count": null,
      "outputs": [
        {
          "output_type": "stream",
          "name": "stdout",
          "text": [
            "              precision    recall  f1-score   support\n",
            "\n",
            "           0       0.97      0.87      0.92        39\n",
            "           1       0.94      0.99      0.96        75\n",
            "\n",
            "    accuracy                           0.95       114\n",
            "   macro avg       0.95      0.93      0.94       114\n",
            "weighted avg       0.95      0.95      0.95       114\n",
            "\n",
            "accuracy is :  0.9473684210526315\n"
          ]
        }
      ]
    },
    {
      "cell_type": "markdown",
      "source": [
        "## Confusion Matrix For breast_cancer prediction"
      ],
      "metadata": {
        "id": "if7zhfe2eJpc"
      }
    },
    {
      "cell_type": "code",
      "source": [
        "f,ax=plt.subplots(3,3,figsize=(12,10))\n",
        "y_pred = cross_val_predict(DecisionTreeClassifier(),X_breast_cancer,Y_breast_cancer,cv=10)\n",
        "sns.heatmap(confusion_matrix(Y_breast_cancer,y_pred),ax=ax[0,0],annot=True,fmt='2.0f')\n",
        "ax[0,0].set_title('Matrix for Decision Tree')\n",
        "y_pred = cross_val_predict(RandomForestClassifier(n_estimators=100),X_breast_cancer,Y_breast_cancer,cv=10)\n",
        "sns.heatmap(confusion_matrix(Y_breast_cancer,y_pred),ax=ax[0,1],annot=True,fmt='2.0f')\n",
        "ax[0,1].set_title('Matrix for Random-Forests')\n",
        "y_pred = cross_val_predict(svm.SVC(kernel='rbf'),X_breast_cancer,Y_breast_cancer,cv=10)\n",
        "sns.heatmap(confusion_matrix(Y_breast_cancer,y_pred),ax=ax[0,2],annot=True,fmt='2.0f')\n",
        "ax[0,2].set_title('Matrix for rbf-SVM')\n",
        "y_pred = cross_val_predict(svm.SVC(kernel='linear'),X_breast_cancer,Y_breast_cancer,cv=10)\n",
        "sns.heatmap(confusion_matrix(Y_breast_cancer,y_pred),ax=ax[1,0],annot=True,fmt='2.0f')\n",
        "ax[1,0].set_title('Matrix for Linear-SVM')\n",
        "y_pred = cross_val_predict(SGDClassifier(max_iter=1000,tol=0.0001),X_breast_cancer,Y_breast_cancer,cv=10)\n",
        "sns.heatmap(confusion_matrix(Y_breast_cancer,y_pred),ax=ax[1,1],annot=True,fmt='2.0f')\n",
        "ax[1,1].set_title('Matrix for SGD')\n",
        "y_pred = cross_val_predict(LogisticRegression(max_iter=5000),X_breast_cancer,Y_breast_cancer,cv=10)\n",
        "sns.heatmap(confusion_matrix(Y_breast_cancer,y_pred),ax=ax[1,2],annot=True,fmt='2.0f')\n",
        "ax[1,2].set_title('Matrix for Logistic Regression')\n",
        "y_pred = cross_val_predict(KNeighborsClassifier(n_neighbors=9),X_breast_cancer,Y_breast_cancer,cv=10)\n",
        "sns.heatmap(confusion_matrix(Y_breast_cancer,y_pred),ax=ax[2,0],annot=True,fmt='2.0f')\n",
        "ax[2,0].set_title('Matrix for KNN')\n",
        "y_pred = cross_val_predict(GaussianNB(),X_breast_cancer,Y_breast_cancer,cv=10)\n",
        "sns.heatmap(confusion_matrix(Y_breast_cancer,y_pred),ax=ax[2,1],annot=True,fmt='2.0f')\n",
        "ax[2,1].set_title('Matrix for Naive Bayes')\n",
        "y_pred = cross_val_predict(Perceptron(tol=1e-3,random_state=23),X_breast_cancer,Y_breast_cancer,cv=10)\n",
        "sns.heatmap(confusion_matrix(Y_breast_cancer,y_pred),ax=ax[2,2],annot=True,fmt='2.0f')\n",
        "ax[2,2].set_title('Matrix for Perceptron')\n",
        "plt.subplots_adjust(hspace=0.2,wspace=0.2)\n",
        "plt.show()"
      ],
      "metadata": {
        "execution": {
          "iopub.status.busy": "2022-07-14T08:48:20.192073Z",
          "iopub.execute_input": "2022-07-14T08:48:20.192649Z",
          "iopub.status.idle": "2022-07-14T08:48:53.117199Z",
          "shell.execute_reply.started": "2022-07-14T08:48:20.192594Z",
          "shell.execute_reply": "2022-07-14T08:48:53.115903Z"
        },
        "trusted": true,
        "colab": {
          "base_uri": "https://localhost:8080/",
          "height": 607
        },
        "id": "TTmFk5FreJpc",
        "outputId": "e4735067-cb92-4a00-ca91-9983be7785bb"
      },
      "execution_count": null,
      "outputs": [
        {
          "output_type": "display_data",
          "data": {
            "text/plain": [
              "<Figure size 864x720 with 18 Axes>"
            ],
            "image/png": "[encoded data removed]"
          },
          "metadata": {
            "needs_background": "light"
          }
        }
      ]
    },
    {
      "cell_type": "markdown",
      "source": [
        "* The most errors occured in SGD and Perceptron Model."
      ],
      "metadata": {
        "id": "2sgfdbEzg7bL"
      }
    }
  ]
}
