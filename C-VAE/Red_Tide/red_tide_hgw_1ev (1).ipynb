{
 "cells": [
  {
   "cell_type": "code",
   "execution_count": 2,
   "metadata": {
    "_cell_guid": "b1076dfc-b9ad-4769-8c92-a6c4dae69d19",
    "_uuid": "8f2839f25d086af736a60e9eeb907d3b93b6e0e5",
    "execution": {
     "iopub.execute_input": "2022-10-30T12:53:48.137773Z",
     "iopub.status.busy": "2022-10-30T12:53:48.137325Z",
     "iopub.status.idle": "2022-10-30T12:53:48.160311Z",
     "shell.execute_reply": "2022-10-30T12:53:48.159599Z",
     "shell.execute_reply.started": "2022-10-30T12:53:48.137687Z"
    },
    "id": "nG1FaudiKD1j"
   },
   "outputs": [],
   "source": [
    "import pandas as pd\n",
    "import matplotlib.pyplot as plt\n",
    "import numpy as np"
   ]
  },
  {
   "cell_type": "code",
   "execution_count": 2,
   "metadata": {
    "colab": {
     "base_uri": "https://localhost:8080/"
    },
    "id": "J7n5frVBbf0J",
    "outputId": "ed7dc85f-3855-43fa-da71-8e9aaa0577d8"
   },
   "outputs": [],
   "source": [
    "#cnt = 0\n",
    "#for idx in df_1.index :\n",
    "#  if (idx%23==0) and ('0:00' in df_1.loc[idx,'일시'].split(\" \")) : cnt += 1\n",
    "#  else : continue\n",
    "#cnt"
   ]
  },
  {
   "cell_type": "code",
   "execution_count": 3,
   "metadata": {
    "colab": {
     "base_uri": "https://localhost:8080/"
    },
    "id": "Dx_DzwAl8HPA",
    "outputId": "f9355372-ba35-44a6-f646-a4d1c21eac6d"
   },
   "outputs": [],
   "source": [
    "#cntt = 0\n",
    "#for idx in df_2.index :\n",
    "#  if (idx%23==0) and ('00:00:00' in str(df_2.loc[idx,'일시']).split(\" \")) : cntt += 1\n",
    "#  else : continue\n",
    "#cntt"
   ]
  },
  {
   "cell_type": "code",
   "execution_count": 4,
   "metadata": {
    "colab": {
     "base_uri": "https://localhost:8080/"
    },
    "id": "b8PxAj5SDnCE",
    "outputId": "5f6a7d58-cdc8-48ba-8ce6-98ba0194baf8"
   },
   "outputs": [],
   "source": [
    "#df_1.shape[0]"
   ]
  },
  {
   "cell_type": "code",
   "execution_count": 5,
   "metadata": {
    "id": "lRZKAKiSzgGh"
   },
   "outputs": [],
   "source": [
    "#for idx in df_1.index :\n",
    "#  if (24.6 <= df_1.loc[idx,'기온(°C)'] <= 25.9) and (df_1.loc[idx,'강수량(mm)'] <= 0.5) and \\\n",
    "#  (18.0 <= df_1.loc[idx,'수온(°C)'] <= 27.0) and (2.4 <= df_1.loc[idx,'풍속(m/s)'] <= 4.6) and \\\n",
    "#  (180.0 <= df_1.loc[idx,'풍향(deg)'] <= 270.0) : df_1.loc[idx,'y_or_n']=1\n",
    "#  else : df_1.loc[idx,'y_or_n']=0"
   ]
  },
  {
   "cell_type": "code",
   "execution_count": 6,
   "metadata": {
    "id": "3ckhF5J07BSL"
   },
   "outputs": [],
   "source": [
    "#for idx in df_2.index :\n",
    "#  if (24.6 <= df_2.loc[idx,'기온(°C)'] <= 25.9) and (df_2.loc[idx,'강수량(mm)'] <= 0.5) and \\\n",
    "#  (18.0 <= df_2.loc[idx,'수온(°C)'] <= 27.0) and (2.4 <= df_2.loc[idx,'풍속(m/s)'] <= 4.6) and \\\n",
    "#  (180.0 <= df_2.loc[idx,'풍향(deg)'] <= 270.0) : df_2.loc[idx,'y_or_n']=1\n",
    "#  else : df_2.loc[idx,'y_or_n']=0"
   ]
  },
  {
   "cell_type": "code",
   "execution_count": 7,
   "metadata": {
    "id": "qt94WXw9d91x"
   },
   "outputs": [],
   "source": [
    "#for idx in df_3.index :\n",
    "#  if (24.6 <= df_3.iloc[idx,4] <= 25.9) and (df_3.iloc[idx,6] <= 0.5) and \\\n",
    "#  (18.0 <= df_3.iloc[idx,5] <= 27.0) and (2.4 <= df_3.iloc[idx,2] <= 4.6) and \\\n",
    "#  (180.0 <= df_3.iloc[idx,3] <= 270.0) : df_3.loc[idx,'y_or_n']=1\n",
    "#  else : df_3.loc[idx,'y_or_n']=0"
   ]
  },
  {
   "cell_type": "code",
   "execution_count": 8,
   "metadata": {
    "colab": {
     "base_uri": "https://localhost:8080/"
    },
    "id": "fIa0FCWlmQNr",
    "outputId": "443793ba-fdfc-4a5b-abe0-395fe60099fb"
   },
   "outputs": [],
   "source": [
    "#min(df_3.index)"
   ]
  },
  {
   "cell_type": "code",
   "execution_count": 9,
   "metadata": {
    "colab": {
     "base_uri": "https://localhost:8080/",
     "height": 206
    },
    "id": "eTzglP-Fq8Dt",
    "outputId": "8766f395-a02d-421d-e161-8ef5dc26c9d3"
   },
   "outputs": [],
   "source": [
    "#df_3.head()"
   ]
  },
  {
   "cell_type": "code",
   "execution_count": 10,
   "metadata": {
    "colab": {
     "base_uri": "https://localhost:8080/",
     "height": 206
    },
    "id": "FDnSwq7Nr94c",
    "outputId": "9336aaf8-5ec8-4076-a245-b6972180fdfb"
   },
   "outputs": [],
   "source": [
    "#df_1.head()"
   ]
  },
  {
   "cell_type": "code",
   "execution_count": 11,
   "metadata": {
    "colab": {
     "base_uri": "https://localhost:8080/"
    },
    "id": "X3F3vTsysIiL",
    "outputId": "dee4cff1-fda3-4183-cb53-b323d1ddab84"
   },
   "outputs": [],
   "source": [
    "#df_1[df_1['y_or_n']==1].count()"
   ]
  },
  {
   "cell_type": "code",
   "execution_count": 12,
   "metadata": {
    "colab": {
     "base_uri": "https://localhost:8080/"
    },
    "id": "uulCmROisW8Z",
    "outputId": "2282ba49-cf87-483c-b909-9ec78d16d16d"
   },
   "outputs": [],
   "source": [
    "#df_3[df_3['y_or_n']==1]['y_or_n'].count()"
   ]
  },
  {
   "cell_type": "code",
   "execution_count": 13,
   "metadata": {
    "id": "K3zFyqq05ZLa"
   },
   "outputs": [],
   "source": [
    "#attr_1 = []; attr_2 = []\n",
    "#for idx in range(df_1.shape[0]) :\n",
    "#  if df_1.loc[idx,'y_or_n']==1 : attr_1.append(idx)\n",
    "#for idx in range(df_2.shape[0]) :\n",
    "#  if df_2.loc[idx,'y_or_n']==1 : attr_2.append(idx)   "
   ]
  },
  {
   "cell_type": "code",
   "execution_count": 14,
   "metadata": {
    "colab": {
     "base_uri": "https://localhost:8080/"
    },
    "id": "2qncqC_3R8MK",
    "outputId": "1480eab8-27c1-4f55-d857-61aedf7a706f"
   },
   "outputs": [],
   "source": [
    "#print(df_1.shape, df_3.shape)"
   ]
  },
  {
   "cell_type": "code",
   "execution_count": 15,
   "metadata": {
    "id": "TTSslPNUCbgZ"
   },
   "outputs": [],
   "source": [
    "#import os\n",
    "#import pandas as pd\n",
    "\n",
    "#f_path = 'drive/MyDrive/red_tide'\n",
    "#f_name = \"data_17-19_이진레이블링_final.csv\"\n",
    "\n",
    "#df_1.to_csv(os.path.join(f_path, f_name), index=True)"
   ]
  },
  {
   "cell_type": "code",
   "execution_count": 16,
   "metadata": {
    "id": "XQqI9wQLiPIq"
   },
   "outputs": [],
   "source": [
    "#f_path_3 = 'drive/MyDrive/red_tide'\n",
    "#f_name_3 = \"data_20-22_이진레이블링_fff.csv\"\n",
    "\n",
    "#df_3.to_csv(os.path.join(f_path_3, f_name_3), index=True)"
   ]
  },
  {
   "cell_type": "code",
   "execution_count": 17,
   "metadata": {
    "id": "tY-FvzhjY_9Y"
   },
   "outputs": [],
   "source": [
    "#X_train = df_1.iloc[:,2:6]; y_train = df_1.iloc[:,7]; X_test = df_3.iloc[:,2:6]; y_test = df_3.iloc[:,7]"
   ]
  },
  {
   "cell_type": "code",
   "execution_count": 18,
   "metadata": {
    "id": "Mi2p8CyPb5j8"
   },
   "outputs": [],
   "source": [
    "#import xgboost as xg\n",
    "#from sklearn.model_selection import cross_val_score \n",
    "\n",
    "#model=xg.XGBClassifier(n_estimators=200,learning_rate=0.01)\n",
    "#model.fit(X_train,y_train)\n",
    "#y_pred = model.predict(X_test)"
   ]
  },
  {
   "cell_type": "code",
   "execution_count": 19,
   "metadata": {
    "colab": {
     "base_uri": "https://localhost:8080/"
    },
    "id": "2AE5SiQo2M1G",
    "outputId": "e973f5df-038a-4c93-fdc8-a43a27051675"
   },
   "outputs": [],
   "source": [
    "#from sklearn import metrics\n",
    "#from sklearn.metrics import accuracy_score\n",
    "#print('The accuracy for bagged Decision Tree is:',metrics.accuracy_score(y_pred,y_test))"
   ]
  },
  {
   "cell_type": "code",
   "execution_count": 20,
   "metadata": {
    "colab": {
     "base_uri": "https://localhost:8080/"
    },
    "id": "jiojGjMMDnJj",
    "outputId": "7ab5dc50-069d-436d-bd6c-1cf53289b69d"
   },
   "outputs": [],
   "source": [
    "#import lightgbm as lgb\n",
    "#clf = lgb.LGBMClassifier(boosting_type='gbdt', class_weight=None, colsample_bytree=1.0,\n",
    "#               importance_type='split', learning_rate=0.1, max_depth=-1,\n",
    "#               min_child_samples=20, min_child_weight=0.001, min_split_gain=0.0,\n",
    "#               n_estimators=100, n_jobs=-1, num_leaves=31, objective=None,\n",
    "#               random_state=None, reg_alpha=0.0, reg_lambda=0.0, silent=True,\n",
    "#               subsample=1.0, subsample_for_bin=2000, subsample_freq=0)\n",
    "#clf.fit(X_train, y_train)"
   ]
  },
  {
   "cell_type": "code",
   "execution_count": 21,
   "metadata": {
    "colab": {
     "base_uri": "https://localhost:8080/"
    },
    "id": "ajgDjv33Fz2k",
    "outputId": "13a6d961-ca9e-4db1-9342-94e82810271a"
   },
   "outputs": [],
   "source": [
    "#y_pred_2 = clf.predict(X_test)\n",
    "#print('The accuracy for bagged Decision Tree is:',metrics.accuracy_score(y_pred_2,y_test))"
   ]
  },
  {
   "cell_type": "code",
   "execution_count": 22,
   "metadata": {
    "colab": {
     "base_uri": "https://localhost:8080/",
     "height": 81
    },
    "id": "YtuhNsh7Ur8p",
    "outputId": "bf8306c4-5e55-4691-d145-160b21e1440c"
   },
   "outputs": [],
   "source": [
    "#df_1[df_1.index==679]"
   ]
  },
  {
   "cell_type": "code",
   "execution_count": 3,
   "metadata": {
    "id": "ZU7qjFnH-wOq"
   },
   "outputs": [],
   "source": [
    "train_17_19_80 = pd.read_csv('/aiffel/aiffel/red_tide/(ratio 80_Train)_2017-2019.csv',encoding='cp949')\n",
    "test_20_22_20 = pd.read_csv('/aiffel/aiffel/red_tide/(ratio 20_Test)_2020-2022.csv',encoding='cp949')\n",
    "train_17_19_50 = pd.read_csv('/aiffel/aiffel/red_tide/(ratio 50_Train)_2017-2019.csv',encoding='cp949')\n",
    "test_20_22_50 = pd.read_csv('/aiffel/aiffel/red_tide/(ratio 50_Test)_2020-2022.csv',encoding='cp949')"
   ]
  },
  {
   "cell_type": "code",
   "execution_count": 4,
   "metadata": {},
   "outputs": [
    {
     "data": {
      "text/plain": [
       "Unnamed: 0    123979\n",
       "지점            192959\n",
       "일시            192959\n",
       "풍속(m/s)       190977\n",
       "풍향(deg)       190696\n",
       "기온(°C)        190832\n",
       "수온(°C)        192096\n",
       "강수량(mm)       192959\n",
       "적조발생(실측)      192959\n",
       "적조발생(조건)      192959\n",
       "dtype: int64"
      ]
     },
     "execution_count": 4,
     "metadata": {},
     "output_type": "execute_result"
    }
   ],
   "source": [
    "train_17_19_80.count()"
   ]
  },
  {
   "cell_type": "code",
   "execution_count": 3,
   "metadata": {
    "colab": {
     "base_uri": "https://localhost:8080/"
    },
    "id": "TT0wubPRBYPJ",
    "outputId": "26beaf38-8959-4b4b-8c58-a292e0ee134e"
   },
   "outputs": [
    {
     "data": {
      "text/plain": [
       "0    0\n",
       "Name: 적조발생(실측), dtype: int64"
      ]
     },
     "execution_count": 3,
     "metadata": {},
     "output_type": "execute_result"
    }
   ],
   "source": [
    "Df_1 = train_17_19_80.iloc[:,3:8]\n",
    "Df_2 = train_17_19_80.iloc[:,8]; DDf_2 = train_17_19_80.iloc[:,9].astype(int)\n",
    "Df_2[Df_2.index==0]"
   ]
  },
  {
   "cell_type": "code",
   "execution_count": 4,
   "metadata": {
    "id": "vYjLiCgxCmlK"
   },
   "outputs": [],
   "source": [
    "Df_3 = test_20_22_20.iloc[:,3:8]\n",
    "Df_4 = test_20_22_20.iloc[:,8]; DDf_4 = test_20_22_20.iloc[:,9].astype(int)\n",
    "Df_5 = train_17_19_50.iloc[:,3:8]\n",
    "Df_6 = train_17_19_50.iloc[:,8]; DDf_6 = train_17_19_50.iloc[:,9].astype(int) \n",
    "Df_7 = test_20_22_50.iloc[:,3:8]\n",
    "Df_8 = test_20_22_50.iloc[:,8]; DDf_8 = test_20_22_50.iloc[:,9].astype(int)"
   ]
  },
  {
   "cell_type": "code",
   "execution_count": 5,
   "metadata": {
    "colab": {
     "base_uri": "https://localhost:8080/",
     "height": 330
    },
    "id": "7xpWCdxzf0gU",
    "outputId": "32113c49-5568-46c3-8b3e-86c24c31c56e"
   },
   "outputs": [
    {
     "name": "stdout",
     "output_type": "stream",
     "text": [
      "Collecting xgboost==1.2.0\n",
      "  Downloading xgboost-1.2.0-py3-none-manylinux2010_x86_64.whl (148.9 MB)\n",
      "     |████████████████████████████████| 148.9 MB 31 kB/s              \n",
      "\u001b[?25hRequirement already satisfied: scipy in /opt/conda/lib/python3.9/site-packages (from xgboost==1.2.0) (1.7.1)\n",
      "Requirement already satisfied: numpy in /opt/conda/lib/python3.9/site-packages (from xgboost==1.2.0) (1.21.4)\n",
      "Installing collected packages: xgboost\n",
      "  Attempting uninstall: xgboost\n",
      "    Found existing installation: xgboost 1.4.2\n",
      "    Uninstalling xgboost-1.4.2:\n",
      "      Successfully uninstalled xgboost-1.4.2\n",
      "Successfully installed xgboost-1.2.0\n",
      "\u001b[33mWARNING: Running pip as the 'root' user can result in broken permissions and conflicting behaviour with the system package manager. It is recommended to use a virtual environment instead: https://pip.pypa.io/warnings/venv\u001b[0m\n",
      "Note: you may need to restart the kernel to use updated packages.\n"
     ]
    }
   ],
   "source": [
    "pip install xgboost==1.2.0"
   ]
  },
  {
   "cell_type": "code",
   "execution_count": 6,
   "metadata": {
    "colab": {
     "base_uri": "https://localhost:8080/",
     "height": 397
    },
    "id": "xIjtFgiuGS0X",
    "outputId": "98bbfe08-fab2-48fd-8647-df6856afd79b",
    "scrolled": false
   },
   "outputs": [
    {
     "name": "stdout",
     "output_type": "stream",
     "text": [
      "accuracy:0.9170487424883151\n",
      "loss:0.08295125751168485\n"
     ]
    }
   ],
   "source": [
    "import xgboost as xgb\n",
    "from sklearn import metrics\n",
    "clf = xgb.XGBClassifier(n_estimators=500,max_depth=11,\n",
    "    learning_rate=0.05,subsample=0.9,colsample_bytree=0.7,missing=None,random_state=1010,tree_method='gpu_hist')\n",
    "clf.fit(Df_1,Df_2)\n",
    "y_pred = clf.predict(Df_3)\n",
    "print('accuracy:{}'.format(metrics.accuracy_score(Df_4,y_pred)))\n",
    "print('loss:{}'.format(metrics.hamming_loss(Df_4,y_pred)))"
   ]
  },
  {
   "cell_type": "code",
   "execution_count": 7,
   "metadata": {
    "scrolled": true
   },
   "outputs": [
    {
     "name": "stdout",
     "output_type": "stream",
     "text": [
      "accuracy:0.9840863565546406\n",
      "loss:0.01591364344535945\n"
     ]
    }
   ],
   "source": [
    "import lightgbm as lgb\n",
    "from sklearn import metrics\n",
    "Clf = lgb.LGBMClassifier(boosting_type='gbdt', class_weight=None, colsample_bytree=1.0,\n",
    "               importance_type='split', learning_rate=0.01, max_depth=-1,\n",
    "               min_child_samples=20, min_child_weight=0.001, min_split_gain=0.5,\n",
    "               n_estimators=100, n_jobs=-1, num_leaves=31, objective=None,\n",
    "               random_state=0,verbose=-1,\n",
    "               subsample=1.0, subsample_for_bin=3000, subsample_freq=0,\n",
    "               force_row_wise=True)\n",
    "Clf.fit(Df_1,DDf_2)\n",
    "y_pred_1 = Clf.predict(Df_3)\n",
    "print('accuracy:{}'.format(metrics.accuracy_score(DDf_4,y_pred_1)))\n",
    "print('loss:{}'.format(metrics.hamming_loss(DDf_4,y_pred_1)))"
   ]
  },
  {
   "cell_type": "code",
   "execution_count": 8,
   "metadata": {},
   "outputs": [
    {
     "name": "stdout",
     "output_type": "stream",
     "text": [
      "Collecting graphviz\n",
      "  Downloading graphviz-0.20.1-py3-none-any.whl (47 kB)\n",
      "     |████████████████████████████████| 47 kB 3.2 MB/s             \n",
      "\u001b[?25hInstalling collected packages: graphviz\n",
      "Successfully installed graphviz-0.20.1\n",
      "\u001b[33mWARNING: Running pip as the 'root' user can result in broken permissions and conflicting behaviour with the system package manager. It is recommended to use a virtual environment instead: https://pip.pypa.io/warnings/venv\u001b[0m\n"
     ]
    }
   ],
   "source": [
    "!pip install graphviz"
   ]
  },
  {
   "cell_type": "code",
   "execution_count": 9,
   "metadata": {},
   "outputs": [
    {
     "name": "stdout",
     "output_type": "stream",
     "text": [
      "Collecting wandb\n",
      "  Downloading wandb-0.13.5-py2.py3-none-any.whl (1.9 MB)\n",
      "     |████████████████████████████████| 1.9 MB 6.3 MB/s            \n",
      "\u001b[?25hRequirement already satisfied: setuptools in /opt/conda/lib/python3.9/site-packages (from wandb) (59.4.0)\n",
      "Collecting shortuuid>=0.5.0\n",
      "  Downloading shortuuid-1.0.11-py3-none-any.whl (10 kB)\n",
      "Requirement already satisfied: requests<3,>=2.0.0 in /opt/conda/lib/python3.9/site-packages (from wandb) (2.26.0)\n",
      "Collecting GitPython>=1.0.0\n",
      "  Downloading GitPython-3.1.29-py3-none-any.whl (182 kB)\n",
      "     |████████████████████████████████| 182 kB 90.7 MB/s            \n",
      "\u001b[?25hRequirement already satisfied: protobuf!=4.0.*,!=4.21.0,<5,>=3.12.0 in /opt/conda/lib/python3.9/site-packages (from wandb) (3.19.1)\n",
      "Collecting setproctitle\n",
      "  Downloading setproctitle-1.3.2-cp39-cp39-manylinux_2_5_x86_64.manylinux1_x86_64.manylinux_2_17_x86_64.manylinux2014_x86_64.whl (30 kB)\n",
      "Requirement already satisfied: PyYAML in /opt/conda/lib/python3.9/site-packages (from wandb) (6.0)\n",
      "Collecting docker-pycreds>=0.4.0\n",
      "  Downloading docker_pycreds-0.4.0-py2.py3-none-any.whl (9.0 kB)\n",
      "Requirement already satisfied: promise<3,>=2.0 in /opt/conda/lib/python3.9/site-packages (from wandb) (2.3)\n",
      "Requirement already satisfied: psutil>=5.0.0 in /opt/conda/lib/python3.9/site-packages (from wandb) (5.8.0)\n",
      "Collecting pathtools\n",
      "  Downloading pathtools-0.1.2.tar.gz (11 kB)\n",
      "  Preparing metadata (setup.py) ... \u001b[?25ldone\n",
      "\u001b[?25hRequirement already satisfied: six>=1.13.0 in /opt/conda/lib/python3.9/site-packages (from wandb) (1.16.0)\n",
      "Collecting sentry-sdk>=1.0.0\n",
      "  Downloading sentry_sdk-1.11.1-py2.py3-none-any.whl (168 kB)\n",
      "     |████████████████████████████████| 168 kB 101.0 MB/s            \n",
      "\u001b[?25hRequirement already satisfied: Click!=8.0.0,>=7.0 in /opt/conda/lib/python3.9/site-packages (from wandb) (8.0.3)\n",
      "Collecting gitdb<5,>=4.0.1\n",
      "  Downloading gitdb-4.0.10-py3-none-any.whl (62 kB)\n",
      "     |████████████████████████████████| 62 kB 2.5 MB/s             \n",
      "\u001b[?25hRequirement already satisfied: charset-normalizer~=2.0.0 in /opt/conda/lib/python3.9/site-packages (from requests<3,>=2.0.0->wandb) (2.0.8)\n",
      "Requirement already satisfied: certifi>=2017.4.17 in /opt/conda/lib/python3.9/site-packages (from requests<3,>=2.0.0->wandb) (2021.10.8)\n",
      "Requirement already satisfied: idna<4,>=2.5 in /opt/conda/lib/python3.9/site-packages (from requests<3,>=2.0.0->wandb) (2.10)\n",
      "Requirement already satisfied: urllib3<1.27,>=1.21.1 in /opt/conda/lib/python3.9/site-packages (from requests<3,>=2.0.0->wandb) (1.26.7)\n",
      "Collecting urllib3<1.27,>=1.21.1\n",
      "  Downloading urllib3-1.26.13-py2.py3-none-any.whl (140 kB)\n",
      "     |████████████████████████████████| 140 kB 88.7 MB/s            \n",
      "\u001b[?25hCollecting smmap<6,>=3.0.1\n",
      "  Downloading smmap-5.0.0-py3-none-any.whl (24 kB)\n",
      "Building wheels for collected packages: pathtools\n",
      "  Building wheel for pathtools (setup.py) ... \u001b[?25ldone\n",
      "\u001b[?25h  Created wheel for pathtools: filename=pathtools-0.1.2-py3-none-any.whl size=8807 sha256=22cffcd801c466d61dd3973c25a2eaaa8cb4cbd23368339f8b832dd8c103c3e4\n",
      "  Stored in directory: /aiffel/.cache/pip/wheels/b7/0a/67/ada2a22079218c75a88361c0782855cc72aebc4d18d0289d05\n",
      "Successfully built pathtools\n",
      "Installing collected packages: smmap, urllib3, gitdb, shortuuid, setproctitle, sentry-sdk, pathtools, GitPython, docker-pycreds, wandb\n",
      "  Attempting uninstall: urllib3\n",
      "    Found existing installation: urllib3 1.26.7\n",
      "    Uninstalling urllib3-1.26.7:\n",
      "      Successfully uninstalled urllib3-1.26.7\n",
      "Successfully installed GitPython-3.1.29 docker-pycreds-0.4.0 gitdb-4.0.10 pathtools-0.1.2 sentry-sdk-1.11.1 setproctitle-1.3.2 shortuuid-1.0.11 smmap-5.0.0 urllib3-1.26.13 wandb-0.13.5\n",
      "\u001b[33mWARNING: Running pip as the 'root' user can result in broken permissions and conflicting behaviour with the system package manager. It is recommended to use a virtual environment instead: https://pip.pypa.io/warnings/venv\u001b[0m\n"
     ]
    }
   ],
   "source": [
    "!pip install wandb"
   ]
  },
  {
   "cell_type": "code",
   "execution_count": 10,
   "metadata": {},
   "outputs": [],
   "source": [
    "import tensorflow as tf\n",
    "from tensorflow import keras\n",
    "import numpy as np\n",
    "import matplotlib.pyplot as plt\n",
    "import pandas as pd\n",
    "from sklearn.model_selection import train_test_split\n",
    "import random\n",
    "import os"
   ]
  },
  {
   "cell_type": "code",
   "execution_count": 11,
   "metadata": {},
   "outputs": [
    {
     "name": "stdout",
     "output_type": "stream",
     "text": [
      "Collecting openpyxl\n",
      "  Downloading openpyxl-3.0.10-py2.py3-none-any.whl (242 kB)\n",
      "     |████████████████████████████████| 242 kB 6.2 MB/s            \n",
      "\u001b[?25hCollecting et-xmlfile\n",
      "  Downloading et_xmlfile-1.1.0-py3-none-any.whl (4.7 kB)\n",
      "Installing collected packages: et-xmlfile, openpyxl\n",
      "Successfully installed et-xmlfile-1.1.0 openpyxl-3.0.10\n",
      "\u001b[33mWARNING: Running pip as the 'root' user can result in broken permissions and conflicting behaviour with the system package manager. It is recommended to use a virtual environment instead: https://pip.pypa.io/warnings/venv\u001b[0m\n"
     ]
    }
   ],
   "source": [
    "!pip install openpyxl"
   ]
  },
  {
   "cell_type": "code",
   "execution_count": 12,
   "metadata": {},
   "outputs": [],
   "source": [
    "R_train = pd.read_excel('/aiffel/aiffel/red_tide/class1_real_train.xlsx')\n",
    "R_test = pd.read_excel('/aiffel/aiffel/red_tide/class1_real_test.xlsx')\n",
    "C_train = pd.read_excel('/aiffel/aiffel/red_tide/class1_cond_train.xlsx')\n",
    "C_test = pd.read_excel('/aiffel/aiffel/red_tide/class1_cond_test.xlsx')\n",
    "C_test_30 = pd.read_csv('/aiffel/aiffel/red_tide/(class1 조건_30)_test.csv',encoding='cp949')"
   ]
  },
  {
   "cell_type": "code",
   "execution_count": 13,
   "metadata": {},
   "outputs": [
    {
     "data": {
      "text/html": [
       "<div>\n",
       "<style scoped>\n",
       "    .dataframe tbody tr th:only-of-type {\n",
       "        vertical-align: middle;\n",
       "    }\n",
       "\n",
       "    .dataframe tbody tr th {\n",
       "        vertical-align: top;\n",
       "    }\n",
       "\n",
       "    .dataframe thead th {\n",
       "        text-align: right;\n",
       "    }\n",
       "</style>\n",
       "<table border=\"1\" class=\"dataframe\">\n",
       "  <thead>\n",
       "    <tr style=\"text-align: right;\">\n",
       "      <th></th>\n",
       "      <th>인덱스</th>\n",
       "      <th>지점</th>\n",
       "      <th>일시</th>\n",
       "      <th>풍속(m/s)</th>\n",
       "      <th>풍향(deg)</th>\n",
       "      <th>기온(°C)</th>\n",
       "      <th>수온(°C)</th>\n",
       "      <th>강수량(mm)</th>\n",
       "      <th>적조발생(조건)</th>\n",
       "    </tr>\n",
       "  </thead>\n",
       "  <tbody>\n",
       "    <tr>\n",
       "      <th>0</th>\n",
       "      <td>0</td>\n",
       "      <td>거문도</td>\n",
       "      <td>2021-07-07 7:00</td>\n",
       "      <td>4.3</td>\n",
       "      <td>204.0</td>\n",
       "      <td>25.0</td>\n",
       "      <td>22.7</td>\n",
       "      <td>0.0</td>\n",
       "      <td>1</td>\n",
       "    </tr>\n",
       "    <tr>\n",
       "      <th>1</th>\n",
       "      <td>1</td>\n",
       "      <td>울산</td>\n",
       "      <td>2021-12-16 12:00</td>\n",
       "      <td>1.3</td>\n",
       "      <td>324.0</td>\n",
       "      <td>14.6</td>\n",
       "      <td>18.5</td>\n",
       "      <td>1.0</td>\n",
       "      <td>1</td>\n",
       "    </tr>\n",
       "    <tr>\n",
       "      <th>2</th>\n",
       "      <td>2</td>\n",
       "      <td>울산</td>\n",
       "      <td>2022-06-08 2:00</td>\n",
       "      <td>6.3</td>\n",
       "      <td>37.0</td>\n",
       "      <td>18.4</td>\n",
       "      <td>19.8</td>\n",
       "      <td>1.0</td>\n",
       "      <td>1</td>\n",
       "    </tr>\n",
       "    <tr>\n",
       "      <th>3</th>\n",
       "      <td>3</td>\n",
       "      <td>추자도</td>\n",
       "      <td>2022-07-23 6:00</td>\n",
       "      <td>3.5</td>\n",
       "      <td>251.0</td>\n",
       "      <td>25.4</td>\n",
       "      <td>26.8</td>\n",
       "      <td>0.0</td>\n",
       "      <td>1</td>\n",
       "    </tr>\n",
       "    <tr>\n",
       "      <th>4</th>\n",
       "      <td>4</td>\n",
       "      <td>울산</td>\n",
       "      <td>2018-05-13 3:00</td>\n",
       "      <td>9.4</td>\n",
       "      <td>205.0</td>\n",
       "      <td>19.7</td>\n",
       "      <td>16.8</td>\n",
       "      <td>1.0</td>\n",
       "      <td>1</td>\n",
       "    </tr>\n",
       "  </tbody>\n",
       "</table>\n",
       "</div>"
      ],
      "text/plain": [
       "   인덱스   지점                일시  풍속(m/s)  풍향(deg)  기온(°C)  수온(°C)  강수량(mm)  \\\n",
       "0    0  거문도   2021-07-07 7:00      4.3    204.0    25.0    22.7      0.0   \n",
       "1    1   울산  2021-12-16 12:00      1.3    324.0    14.6    18.5      1.0   \n",
       "2    2   울산   2022-06-08 2:00      6.3     37.0    18.4    19.8      1.0   \n",
       "3    3  추자도   2022-07-23 6:00      3.5    251.0    25.4    26.8      0.0   \n",
       "4    4   울산   2018-05-13 3:00      9.4    205.0    19.7    16.8      1.0   \n",
       "\n",
       "   적조발생(조건)  \n",
       "0         1  \n",
       "1         1  \n",
       "2         1  \n",
       "3         1  \n",
       "4         1  "
      ]
     },
     "execution_count": 13,
     "metadata": {},
     "output_type": "execute_result"
    }
   ],
   "source": [
    "C_test_30.head()"
   ]
  },
  {
   "cell_type": "code",
   "execution_count": 14,
   "metadata": {},
   "outputs": [],
   "source": [
    "RX_train = R_train.iloc[:,3:8]; Ry_train = R_train.iloc[:,8]\n",
    "RX_test = R_test.iloc[:,3:8]; Ry_test = R_test.iloc[:,8]\n",
    "CX_train = C_train.iloc[:,3:8]; Cy_train = C_train.iloc[:,8]\n",
    "CX_test = C_test.iloc[:,3:8]; Cy_test = C_test.iloc[:,8]\n",
    "CCX_test = C_test_30.iloc[:,3:8]; CCy_test = C_test_30.iloc[:,8]"
   ]
  },
  {
   "cell_type": "code",
   "execution_count": 15,
   "metadata": {},
   "outputs": [
    {
     "data": {
      "text/html": [
       "<div>\n",
       "<style scoped>\n",
       "    .dataframe tbody tr th:only-of-type {\n",
       "        vertical-align: middle;\n",
       "    }\n",
       "\n",
       "    .dataframe tbody tr th {\n",
       "        vertical-align: top;\n",
       "    }\n",
       "\n",
       "    .dataframe thead th {\n",
       "        text-align: right;\n",
       "    }\n",
       "</style>\n",
       "<table border=\"1\" class=\"dataframe\">\n",
       "  <thead>\n",
       "    <tr style=\"text-align: right;\">\n",
       "      <th></th>\n",
       "      <th>풍속(m/s)</th>\n",
       "      <th>풍향(deg)</th>\n",
       "      <th>기온(°C)</th>\n",
       "      <th>수온(°C)</th>\n",
       "      <th>강수량(mm)</th>\n",
       "    </tr>\n",
       "  </thead>\n",
       "  <tbody>\n",
       "    <tr>\n",
       "      <th>0</th>\n",
       "      <td>6.2</td>\n",
       "      <td>219.0</td>\n",
       "      <td>25.1</td>\n",
       "      <td>24.4</td>\n",
       "      <td>0.0</td>\n",
       "    </tr>\n",
       "    <tr>\n",
       "      <th>1</th>\n",
       "      <td>3.4</td>\n",
       "      <td>55.0</td>\n",
       "      <td>28.4</td>\n",
       "      <td>27.7</td>\n",
       "      <td>0.0</td>\n",
       "    </tr>\n",
       "    <tr>\n",
       "      <th>2</th>\n",
       "      <td>2.3</td>\n",
       "      <td>302.0</td>\n",
       "      <td>23.7</td>\n",
       "      <td>24.6</td>\n",
       "      <td>0.0</td>\n",
       "    </tr>\n",
       "    <tr>\n",
       "      <th>3</th>\n",
       "      <td>6.1</td>\n",
       "      <td>113.0</td>\n",
       "      <td>27.4</td>\n",
       "      <td>25.8</td>\n",
       "      <td>0.5</td>\n",
       "    </tr>\n",
       "    <tr>\n",
       "      <th>4</th>\n",
       "      <td>7.3</td>\n",
       "      <td>295.0</td>\n",
       "      <td>16.1</td>\n",
       "      <td>21.7</td>\n",
       "      <td>0.0</td>\n",
       "    </tr>\n",
       "  </tbody>\n",
       "</table>\n",
       "</div>"
      ],
      "text/plain": [
       "   풍속(m/s)  풍향(deg)  기온(°C)  수온(°C)  강수량(mm)\n",
       "0      6.2    219.0    25.1    24.4      0.0\n",
       "1      3.4     55.0    28.4    27.7      0.0\n",
       "2      2.3    302.0    23.7    24.6      0.0\n",
       "3      6.1    113.0    27.4    25.8      0.5\n",
       "4      7.3    295.0    16.1    21.7      0.0"
      ]
     },
     "execution_count": 15,
     "metadata": {},
     "output_type": "execute_result"
    }
   ],
   "source": [
    "RX_train.head()"
   ]
  },
  {
   "cell_type": "code",
   "execution_count": 16,
   "metadata": {},
   "outputs": [
    {
     "data": {
      "text/plain": [
       "0    1\n",
       "1    1\n",
       "2    1\n",
       "3    1\n",
       "4    1\n",
       "Name: 적조발생(실측), dtype: int64"
      ]
     },
     "execution_count": 16,
     "metadata": {},
     "output_type": "execute_result"
    }
   ],
   "source": [
    "Ry_train.head()"
   ]
  },
  {
   "cell_type": "code",
   "execution_count": 17,
   "metadata": {},
   "outputs": [
    {
     "name": "stdout",
     "output_type": "stream",
     "text": [
      "Collecting xgboost==1.7.1\n",
      "  Downloading xgboost-1.7.1-py3-none-manylinux2014_x86_64.whl (193.6 MB)\n",
      "     |████████████████████████████████| 193.6 MB 50 kB/s              \n",
      "\u001b[?25hRequirement already satisfied: scipy in /opt/conda/lib/python3.9/site-packages (from xgboost==1.7.1) (1.7.1)\n",
      "Requirement already satisfied: numpy in /opt/conda/lib/python3.9/site-packages (from xgboost==1.7.1) (1.21.4)\n",
      "Installing collected packages: xgboost\n",
      "  Attempting uninstall: xgboost\n",
      "    Found existing installation: xgboost 1.2.0\n",
      "    Uninstalling xgboost-1.2.0:\n",
      "      Successfully uninstalled xgboost-1.2.0\n",
      "Successfully installed xgboost-1.7.1\n",
      "\u001b[33mWARNING: Running pip as the 'root' user can result in broken permissions and conflicting behaviour with the system package manager. It is recommended to use a virtual environment instead: https://pip.pypa.io/warnings/venv\u001b[0m\n",
      "Note: you may need to restart the kernel to use updated packages.\n"
     ]
    }
   ],
   "source": [
    "pip install xgboost==1.7.1"
   ]
  },
  {
   "cell_type": "code",
   "execution_count": 18,
   "metadata": {
    "scrolled": false
   },
   "outputs": [
    {
     "name": "stdout",
     "output_type": "stream",
     "text": [
      "[0]\tvalidation_0-auc:0.88559\tvalidation_0-rmse:0.47989\tvalidation_1-auc:0.88361\tvalidation_1-rmse:0.47995\n",
      "[1]\tvalidation_0-auc:0.88633\tvalidation_0-rmse:0.46178\tvalidation_1-auc:0.88449\tvalidation_1-rmse:0.46182\n",
      "[2]\tvalidation_0-auc:0.88407\tvalidation_0-rmse:0.44451\tvalidation_1-auc:0.88238\tvalidation_1-rmse:0.44455\n",
      "[3]\tvalidation_0-auc:0.88799\tvalidation_0-rmse:0.42806\tvalidation_1-auc:0.88457\tvalidation_1-rmse:0.42813\n",
      "[4]\tvalidation_0-auc:0.88784\tvalidation_0-rmse:0.41319\tvalidation_1-auc:0.88506\tvalidation_1-rmse:0.41325\n",
      "[5]\tvalidation_0-auc:0.89596\tvalidation_0-rmse:0.39848\tvalidation_1-auc:0.89171\tvalidation_1-rmse:0.39861\n",
      "[6]\tvalidation_0-auc:0.90087\tvalidation_0-rmse:0.38488\tvalidation_1-auc:0.89404\tvalidation_1-rmse:0.38511\n",
      "[7]\tvalidation_0-auc:0.89916\tvalidation_0-rmse:0.37241\tvalidation_1-auc:0.89136\tvalidation_1-rmse:0.37270\n",
      "[8]\tvalidation_0-auc:0.89918\tvalidation_0-rmse:0.36057\tvalidation_1-auc:0.89075\tvalidation_1-rmse:0.36095\n",
      "[9]\tvalidation_0-auc:0.90426\tvalidation_0-rmse:0.34925\tvalidation_1-auc:0.89567\tvalidation_1-rmse:0.34971\n",
      "[10]\tvalidation_0-auc:0.90181\tvalidation_0-rmse:0.33926\tvalidation_1-auc:0.89335\tvalidation_1-rmse:0.33973\n",
      "[11]\tvalidation_0-auc:0.90192\tvalidation_0-rmse:0.33021\tvalidation_1-auc:0.89341\tvalidation_1-rmse:0.33069\n",
      "[12]\tvalidation_0-auc:0.90196\tvalidation_0-rmse:0.32177\tvalidation_1-auc:0.89342\tvalidation_1-rmse:0.32225\n",
      "[13]\tvalidation_0-auc:0.90203\tvalidation_0-rmse:0.31407\tvalidation_1-auc:0.89343\tvalidation_1-rmse:0.31456\n",
      "[14]\tvalidation_0-auc:0.90019\tvalidation_0-rmse:0.30652\tvalidation_1-auc:0.89080\tvalidation_1-rmse:0.30708\n",
      "[15]\tvalidation_0-auc:0.89740\tvalidation_0-rmse:0.29965\tvalidation_1-auc:0.88807\tvalidation_1-rmse:0.30021\n",
      "[16]\tvalidation_0-auc:0.89838\tvalidation_0-rmse:0.29340\tvalidation_1-auc:0.88844\tvalidation_1-rmse:0.29400\n",
      "[17]\tvalidation_0-auc:0.89829\tvalidation_0-rmse:0.28726\tvalidation_1-auc:0.88870\tvalidation_1-rmse:0.28789\n",
      "[18]\tvalidation_0-auc:0.89646\tvalidation_0-rmse:0.28170\tvalidation_1-auc:0.88626\tvalidation_1-rmse:0.28239\n",
      "[19]\tvalidation_0-auc:0.89455\tvalidation_0-rmse:0.27660\tvalidation_1-auc:0.88367\tvalidation_1-rmse:0.27738\n",
      "[20]\tvalidation_0-auc:0.89467\tvalidation_0-rmse:0.27227\tvalidation_1-auc:0.88364\tvalidation_1-rmse:0.27306\n",
      "[21]\tvalidation_0-auc:0.89191\tvalidation_0-rmse:0.26804\tvalidation_1-auc:0.88118\tvalidation_1-rmse:0.26883\n",
      "[22]\tvalidation_0-auc:0.89389\tvalidation_0-rmse:0.26372\tvalidation_1-auc:0.88216\tvalidation_1-rmse:0.26461\n",
      "[23]\tvalidation_0-auc:0.89544\tvalidation_0-rmse:0.25972\tvalidation_1-auc:0.88293\tvalidation_1-rmse:0.26073\n",
      "[24]\tvalidation_0-auc:0.89395\tvalidation_0-rmse:0.25633\tvalidation_1-auc:0.88096\tvalidation_1-rmse:0.25743\n",
      "[25]\tvalidation_0-auc:0.89450\tvalidation_0-rmse:0.25351\tvalidation_1-auc:0.88153\tvalidation_1-rmse:0.25460\n",
      "[26]\tvalidation_0-auc:0.89599\tvalidation_0-rmse:0.25081\tvalidation_1-auc:0.88221\tvalidation_1-rmse:0.25198\n",
      "[27]\tvalidation_0-auc:0.89592\tvalidation_0-rmse:0.24804\tvalidation_1-auc:0.88256\tvalidation_1-rmse:0.24923\n",
      "[28]\tvalidation_0-auc:0.89464\tvalidation_0-rmse:0.24562\tvalidation_1-auc:0.88069\tvalidation_1-rmse:0.24691\n",
      "[29]\tvalidation_0-auc:0.90056\tvalidation_0-rmse:0.24267\tvalidation_1-auc:0.88526\tvalidation_1-rmse:0.24419\n",
      "[30]\tvalidation_0-auc:0.90186\tvalidation_0-rmse:0.24032\tvalidation_1-auc:0.88552\tvalidation_1-rmse:0.24200\n",
      "[31]\tvalidation_0-auc:0.90580\tvalidation_0-rmse:0.23780\tvalidation_1-auc:0.88860\tvalidation_1-rmse:0.23971\n",
      "[32]\tvalidation_0-auc:0.90599\tvalidation_0-rmse:0.23633\tvalidation_1-auc:0.88884\tvalidation_1-rmse:0.23825\n",
      "[33]\tvalidation_0-auc:0.90706\tvalidation_0-rmse:0.23444\tvalidation_1-auc:0.88934\tvalidation_1-rmse:0.23652\n",
      "[34]\tvalidation_0-auc:0.90814\tvalidation_0-rmse:0.23311\tvalidation_1-auc:0.88955\tvalidation_1-rmse:0.23530\n",
      "[35]\tvalidation_0-auc:0.91253\tvalidation_0-rmse:0.23113\tvalidation_1-auc:0.89374\tvalidation_1-rmse:0.23347\n",
      "[36]\tvalidation_0-auc:0.91590\tvalidation_0-rmse:0.22930\tvalidation_1-auc:0.89689\tvalidation_1-rmse:0.23180\n",
      "[37]\tvalidation_0-auc:0.91527\tvalidation_0-rmse:0.22817\tvalidation_1-auc:0.89579\tvalidation_1-rmse:0.23077\n",
      "[38]\tvalidation_0-auc:0.91599\tvalidation_0-rmse:0.22682\tvalidation_1-auc:0.89601\tvalidation_1-rmse:0.22960\n",
      "[39]\tvalidation_0-auc:0.91631\tvalidation_0-rmse:0.22563\tvalidation_1-auc:0.89577\tvalidation_1-rmse:0.22858\n",
      "[40]\tvalidation_0-auc:0.91535\tvalidation_0-rmse:0.22491\tvalidation_1-auc:0.89486\tvalidation_1-rmse:0.22786\n",
      "[41]\tvalidation_0-auc:0.91700\tvalidation_0-rmse:0.22362\tvalidation_1-auc:0.89643\tvalidation_1-rmse:0.22674\n",
      "[42]\tvalidation_0-auc:0.91652\tvalidation_0-rmse:0.22293\tvalidation_1-auc:0.89543\tvalidation_1-rmse:0.22615\n",
      "[43]\tvalidation_0-auc:0.91624\tvalidation_0-rmse:0.22221\tvalidation_1-auc:0.89547\tvalidation_1-rmse:0.22545\n",
      "[44]\tvalidation_0-auc:0.91585\tvalidation_0-rmse:0.22156\tvalidation_1-auc:0.89541\tvalidation_1-rmse:0.22482\n",
      "[45]\tvalidation_0-auc:0.91596\tvalidation_0-rmse:0.22120\tvalidation_1-auc:0.89549\tvalidation_1-rmse:0.22446\n",
      "[46]\tvalidation_0-auc:0.91566\tvalidation_0-rmse:0.22068\tvalidation_1-auc:0.89465\tvalidation_1-rmse:0.22406\n",
      "[47]\tvalidation_0-auc:0.91814\tvalidation_0-rmse:0.21968\tvalidation_1-auc:0.89706\tvalidation_1-rmse:0.22320\n",
      "[48]\tvalidation_0-auc:0.92008\tvalidation_0-rmse:0.21873\tvalidation_1-auc:0.89921\tvalidation_1-rmse:0.22236\n",
      "[49]\tvalidation_0-auc:0.92085\tvalidation_0-rmse:0.21835\tvalidation_1-auc:0.89933\tvalidation_1-rmse:0.22209\n",
      "[50]\tvalidation_0-auc:0.92088\tvalidation_0-rmse:0.21817\tvalidation_1-auc:0.89932\tvalidation_1-rmse:0.22190\n",
      "[51]\tvalidation_0-auc:0.92248\tvalidation_0-rmse:0.21732\tvalidation_1-auc:0.90096\tvalidation_1-rmse:0.22122\n",
      "[52]\tvalidation_0-auc:0.92260\tvalidation_0-rmse:0.21725\tvalidation_1-auc:0.90095\tvalidation_1-rmse:0.22113\n",
      "[53]\tvalidation_0-auc:0.92229\tvalidation_0-rmse:0.21690\tvalidation_1-auc:0.90089\tvalidation_1-rmse:0.22080\n",
      "[54]\tvalidation_0-auc:0.92353\tvalidation_0-rmse:0.21623\tvalidation_1-auc:0.90226\tvalidation_1-rmse:0.22023\n",
      "[55]\tvalidation_0-auc:0.92346\tvalidation_0-rmse:0.21596\tvalidation_1-auc:0.90180\tvalidation_1-rmse:0.22005\n",
      "[56]\tvalidation_0-auc:0.92346\tvalidation_0-rmse:0.21586\tvalidation_1-auc:0.90187\tvalidation_1-rmse:0.21995\n",
      "[57]\tvalidation_0-auc:0.92293\tvalidation_0-rmse:0.21574\tvalidation_1-auc:0.90142\tvalidation_1-rmse:0.21982\n",
      "[58]\tvalidation_0-auc:0.92271\tvalidation_0-rmse:0.21548\tvalidation_1-auc:0.90141\tvalidation_1-rmse:0.21958\n",
      "[59]\tvalidation_0-auc:0.92240\tvalidation_0-rmse:0.21525\tvalidation_1-auc:0.90134\tvalidation_1-rmse:0.21936\n",
      "[60]\tvalidation_0-auc:0.92212\tvalidation_0-rmse:0.21504\tvalidation_1-auc:0.90117\tvalidation_1-rmse:0.21917\n",
      "[61]\tvalidation_0-auc:0.92170\tvalidation_0-rmse:0.21496\tvalidation_1-auc:0.90075\tvalidation_1-rmse:0.21909\n",
      "[62]\tvalidation_0-auc:0.92236\tvalidation_0-rmse:0.21452\tvalidation_1-auc:0.90107\tvalidation_1-rmse:0.21883\n",
      "[63]\tvalidation_0-auc:0.92329\tvalidation_0-rmse:0.21426\tvalidation_1-auc:0.90118\tvalidation_1-rmse:0.21876\n",
      "[64]\tvalidation_0-auc:0.92331\tvalidation_0-rmse:0.21421\tvalidation_1-auc:0.90123\tvalidation_1-rmse:0.21873\n",
      "[65]\tvalidation_0-auc:0.92292\tvalidation_0-rmse:0.21416\tvalidation_1-auc:0.90088\tvalidation_1-rmse:0.21868\n",
      "[66]\tvalidation_0-auc:0.92347\tvalidation_0-rmse:0.21376\tvalidation_1-auc:0.90101\tvalidation_1-rmse:0.21847\n",
      "[67]\tvalidation_0-auc:0.92359\tvalidation_0-rmse:0.21378\tvalidation_1-auc:0.90099\tvalidation_1-rmse:0.21849\n",
      "[68]\tvalidation_0-auc:0.92359\tvalidation_0-rmse:0.21375\tvalidation_1-auc:0.90104\tvalidation_1-rmse:0.21846\n",
      "[69]\tvalidation_0-auc:0.92369\tvalidation_0-rmse:0.21356\tvalidation_1-auc:0.90068\tvalidation_1-rmse:0.21838\n",
      "[70]\tvalidation_0-auc:0.92379\tvalidation_0-rmse:0.21359\tvalidation_1-auc:0.90067\tvalidation_1-rmse:0.21841\n",
      "[71]\tvalidation_0-auc:0.92382\tvalidation_0-rmse:0.21356\tvalidation_1-auc:0.90068\tvalidation_1-rmse:0.21841\n",
      "[72]\tvalidation_0-auc:0.92396\tvalidation_0-rmse:0.21358\tvalidation_1-auc:0.90064\tvalidation_1-rmse:0.21845\n",
      "[73]\tvalidation_0-auc:0.92511\tvalidation_0-rmse:0.21302\tvalidation_1-auc:0.90169\tvalidation_1-rmse:0.21806\n",
      "[74]\tvalidation_0-auc:0.92510\tvalidation_0-rmse:0.21302\tvalidation_1-auc:0.90166\tvalidation_1-rmse:0.21806\n",
      "[75]\tvalidation_0-auc:0.92507\tvalidation_0-rmse:0.21299\tvalidation_1-auc:0.90162\tvalidation_1-rmse:0.21807\n",
      "[76]\tvalidation_0-auc:0.92623\tvalidation_0-rmse:0.21250\tvalidation_1-auc:0.90291\tvalidation_1-rmse:0.21770\n"
     ]
    },
    {
     "name": "stdout",
     "output_type": "stream",
     "text": [
      "[77]\tvalidation_0-auc:0.92618\tvalidation_0-rmse:0.21250\tvalidation_1-auc:0.90290\tvalidation_1-rmse:0.21771\n",
      "[78]\tvalidation_0-auc:0.92673\tvalidation_0-rmse:0.21214\tvalidation_1-auc:0.90321\tvalidation_1-rmse:0.21749\n",
      "[79]\tvalidation_0-auc:0.92641\tvalidation_0-rmse:0.21211\tvalidation_1-auc:0.90290\tvalidation_1-rmse:0.21747\n",
      "[80]\tvalidation_0-auc:0.92651\tvalidation_0-rmse:0.21194\tvalidation_1-auc:0.90262\tvalidation_1-rmse:0.21740\n",
      "[81]\tvalidation_0-auc:0.92736\tvalidation_0-rmse:0.21148\tvalidation_1-auc:0.90335\tvalidation_1-rmse:0.21710\n",
      "[82]\tvalidation_0-auc:0.92723\tvalidation_0-rmse:0.21135\tvalidation_1-auc:0.90342\tvalidation_1-rmse:0.21699\n",
      "[83]\tvalidation_0-auc:0.92767\tvalidation_0-rmse:0.21105\tvalidation_1-auc:0.90370\tvalidation_1-rmse:0.21682\n",
      "[84]\tvalidation_0-auc:0.92777\tvalidation_0-rmse:0.21105\tvalidation_1-auc:0.90366\tvalidation_1-rmse:0.21684\n",
      "[85]\tvalidation_0-auc:0.92785\tvalidation_0-rmse:0.21106\tvalidation_1-auc:0.90361\tvalidation_1-rmse:0.21687\n",
      "[86]\tvalidation_0-auc:0.92819\tvalidation_0-rmse:0.21077\tvalidation_1-auc:0.90386\tvalidation_1-rmse:0.21669\n",
      "[87]\tvalidation_0-auc:0.92909\tvalidation_0-rmse:0.21048\tvalidation_1-auc:0.90398\tvalidation_1-rmse:0.21666\n",
      "[88]\tvalidation_0-auc:0.93005\tvalidation_0-rmse:0.21006\tvalidation_1-auc:0.90505\tvalidation_1-rmse:0.21635\n",
      "[89]\tvalidation_0-auc:0.92993\tvalidation_0-rmse:0.20994\tvalidation_1-auc:0.90504\tvalidation_1-rmse:0.21626\n",
      "[90]\tvalidation_0-auc:0.93081\tvalidation_0-rmse:0.20952\tvalidation_1-auc:0.90564\tvalidation_1-rmse:0.21602\n",
      "[91]\tvalidation_0-auc:0.93121\tvalidation_0-rmse:0.20924\tvalidation_1-auc:0.90575\tvalidation_1-rmse:0.21591\n",
      "[92]\tvalidation_0-auc:0.93152\tvalidation_0-rmse:0.20901\tvalidation_1-auc:0.90586\tvalidation_1-rmse:0.21580\n",
      "[93]\tvalidation_0-auc:0.93143\tvalidation_0-rmse:0.20892\tvalidation_1-auc:0.90587\tvalidation_1-rmse:0.21574\n",
      "[94]\tvalidation_0-auc:0.93167\tvalidation_0-rmse:0.20871\tvalidation_1-auc:0.90596\tvalidation_1-rmse:0.21562\n",
      "[95]\tvalidation_0-auc:0.93161\tvalidation_0-rmse:0.20869\tvalidation_1-auc:0.90590\tvalidation_1-rmse:0.21560\n",
      "[96]\tvalidation_0-auc:0.93192\tvalidation_0-rmse:0.20847\tvalidation_1-auc:0.90608\tvalidation_1-rmse:0.21549\n",
      "[97]\tvalidation_0-auc:0.93221\tvalidation_0-rmse:0.20825\tvalidation_1-auc:0.90621\tvalidation_1-rmse:0.21538\n",
      "[98]\tvalidation_0-auc:0.93242\tvalidation_0-rmse:0.20807\tvalidation_1-auc:0.90625\tvalidation_1-rmse:0.21530\n",
      "[99]\tvalidation_0-auc:0.93259\tvalidation_0-rmse:0.20795\tvalidation_1-auc:0.90621\tvalidation_1-rmse:0.21527\n",
      "[100]\tvalidation_0-auc:0.93329\tvalidation_0-rmse:0.20769\tvalidation_1-auc:0.90634\tvalidation_1-rmse:0.21522\n",
      "[101]\tvalidation_0-auc:0.93402\tvalidation_0-rmse:0.20735\tvalidation_1-auc:0.90714\tvalidation_1-rmse:0.21499\n",
      "[102]\tvalidation_0-auc:0.93434\tvalidation_0-rmse:0.20711\tvalidation_1-auc:0.90727\tvalidation_1-rmse:0.21488\n",
      "[103]\tvalidation_0-auc:0.93437\tvalidation_0-rmse:0.20711\tvalidation_1-auc:0.90723\tvalidation_1-rmse:0.21490\n",
      "[104]\tvalidation_0-auc:0.93495\tvalidation_0-rmse:0.20680\tvalidation_1-auc:0.90790\tvalidation_1-rmse:0.21469\n",
      "[105]\tvalidation_0-auc:0.93511\tvalidation_0-rmse:0.20663\tvalidation_1-auc:0.90802\tvalidation_1-rmse:0.21460\n",
      "[106]\tvalidation_0-auc:0.93518\tvalidation_0-rmse:0.20660\tvalidation_1-auc:0.90801\tvalidation_1-rmse:0.21460\n",
      "[107]\tvalidation_0-auc:0.93572\tvalidation_0-rmse:0.20630\tvalidation_1-auc:0.90831\tvalidation_1-rmse:0.21448\n",
      "[108]\tvalidation_0-auc:0.93626\tvalidation_0-rmse:0.20603\tvalidation_1-auc:0.90892\tvalidation_1-rmse:0.21430\n",
      "[109]\tvalidation_0-auc:0.93627\tvalidation_0-rmse:0.20600\tvalidation_1-auc:0.90891\tvalidation_1-rmse:0.21430\n",
      "[110]\tvalidation_0-auc:0.93678\tvalidation_0-rmse:0.20578\tvalidation_1-auc:0.90899\tvalidation_1-rmse:0.21426\n",
      "[111]\tvalidation_0-auc:0.93692\tvalidation_0-rmse:0.20569\tvalidation_1-auc:0.90896\tvalidation_1-rmse:0.21425\n",
      "[112]\tvalidation_0-auc:0.93718\tvalidation_0-rmse:0.20551\tvalidation_1-auc:0.90902\tvalidation_1-rmse:0.21418\n",
      "[113]\tvalidation_0-auc:0.93744\tvalidation_0-rmse:0.20538\tvalidation_1-auc:0.90897\tvalidation_1-rmse:0.21416\n",
      "[114]\tvalidation_0-auc:0.93796\tvalidation_0-rmse:0.20506\tvalidation_1-auc:0.90937\tvalidation_1-rmse:0.21400\n",
      "[115]\tvalidation_0-auc:0.93816\tvalidation_0-rmse:0.20487\tvalidation_1-auc:0.90939\tvalidation_1-rmse:0.21393\n",
      "[116]\tvalidation_0-auc:0.93833\tvalidation_0-rmse:0.20478\tvalidation_1-auc:0.90931\tvalidation_1-rmse:0.21393\n",
      "[117]\tvalidation_0-auc:0.93873\tvalidation_0-rmse:0.20452\tvalidation_1-auc:0.90956\tvalidation_1-rmse:0.21380\n",
      "[118]\tvalidation_0-auc:0.93874\tvalidation_0-rmse:0.20448\tvalidation_1-auc:0.90953\tvalidation_1-rmse:0.21379\n",
      "[119]\tvalidation_0-auc:0.93890\tvalidation_0-rmse:0.20438\tvalidation_1-auc:0.90950\tvalidation_1-rmse:0.21378\n",
      "[120]\tvalidation_0-auc:0.93928\tvalidation_0-rmse:0.20413\tvalidation_1-auc:0.90972\tvalidation_1-rmse:0.21368\n",
      "[121]\tvalidation_0-auc:0.93934\tvalidation_0-rmse:0.20402\tvalidation_1-auc:0.90976\tvalidation_1-rmse:0.21362\n",
      "[122]\tvalidation_0-auc:0.93951\tvalidation_0-rmse:0.20387\tvalidation_1-auc:0.90984\tvalidation_1-rmse:0.21356\n",
      "[123]\tvalidation_0-auc:0.93954\tvalidation_0-rmse:0.20386\tvalidation_1-auc:0.90985\tvalidation_1-rmse:0.21355\n",
      "[124]\tvalidation_0-auc:0.93956\tvalidation_0-rmse:0.20384\tvalidation_1-auc:0.90985\tvalidation_1-rmse:0.21355\n",
      "[125]\tvalidation_0-auc:0.93956\tvalidation_0-rmse:0.20381\tvalidation_1-auc:0.90982\tvalidation_1-rmse:0.21355\n",
      "[126]\tvalidation_0-auc:0.93955\tvalidation_0-rmse:0.20377\tvalidation_1-auc:0.90982\tvalidation_1-rmse:0.21353\n",
      "[127]\tvalidation_0-auc:0.93970\tvalidation_0-rmse:0.20364\tvalidation_1-auc:0.90987\tvalidation_1-rmse:0.21349\n",
      "[128]\tvalidation_0-auc:0.93966\tvalidation_0-rmse:0.20360\tvalidation_1-auc:0.90990\tvalidation_1-rmse:0.21346\n",
      "[129]\tvalidation_0-auc:0.94002\tvalidation_0-rmse:0.20334\tvalidation_1-auc:0.91009\tvalidation_1-rmse:0.21337\n",
      "[130]\tvalidation_0-auc:0.94030\tvalidation_0-rmse:0.20319\tvalidation_1-auc:0.91015\tvalidation_1-rmse:0.21332\n",
      "[131]\tvalidation_0-auc:0.94029\tvalidation_0-rmse:0.20317\tvalidation_1-auc:0.91012\tvalidation_1-rmse:0.21332\n",
      "[132]\tvalidation_0-auc:0.94069\tvalidation_0-rmse:0.20295\tvalidation_1-auc:0.91020\tvalidation_1-rmse:0.21326\n",
      "[133]\tvalidation_0-auc:0.94099\tvalidation_0-rmse:0.20275\tvalidation_1-auc:0.91028\tvalidation_1-rmse:0.21320\n",
      "[134]\tvalidation_0-auc:0.94103\tvalidation_0-rmse:0.20273\tvalidation_1-auc:0.91028\tvalidation_1-rmse:0.21321\n",
      "[135]\tvalidation_0-auc:0.94110\tvalidation_0-rmse:0.20271\tvalidation_1-auc:0.91026\tvalidation_1-rmse:0.21322\n",
      "[136]\tvalidation_0-auc:0.94110\tvalidation_0-rmse:0.20268\tvalidation_1-auc:0.91024\tvalidation_1-rmse:0.21321\n",
      "[137]\tvalidation_0-auc:0.94110\tvalidation_0-rmse:0.20266\tvalidation_1-auc:0.91025\tvalidation_1-rmse:0.21321\n",
      "[138]\tvalidation_0-auc:0.94127\tvalidation_0-rmse:0.20257\tvalidation_1-auc:0.91025\tvalidation_1-rmse:0.21319\n",
      "[139]\tvalidation_0-auc:0.94150\tvalidation_0-rmse:0.20243\tvalidation_1-auc:0.91028\tvalidation_1-rmse:0.21316\n",
      "[140]\tvalidation_0-auc:0.94180\tvalidation_0-rmse:0.20228\tvalidation_1-auc:0.91026\tvalidation_1-rmse:0.21316\n",
      "[141]\tvalidation_0-auc:0.94183\tvalidation_0-rmse:0.20225\tvalidation_1-auc:0.91022\tvalidation_1-rmse:0.21316\n",
      "[142]\tvalidation_0-auc:0.94203\tvalidation_0-rmse:0.20213\tvalidation_1-auc:0.91018\tvalidation_1-rmse:0.21315\n",
      "[143]\tvalidation_0-auc:0.94205\tvalidation_0-rmse:0.20212\tvalidation_1-auc:0.91017\tvalidation_1-rmse:0.21315\n",
      "[144]\tvalidation_0-auc:0.94224\tvalidation_0-rmse:0.20202\tvalidation_1-auc:0.91013\tvalidation_1-rmse:0.21314\n",
      "[145]\tvalidation_0-auc:0.94253\tvalidation_0-rmse:0.20182\tvalidation_1-auc:0.91027\tvalidation_1-rmse:0.21308\n",
      "[146]\tvalidation_0-auc:0.94251\tvalidation_0-rmse:0.20180\tvalidation_1-auc:0.91025\tvalidation_1-rmse:0.21309\n",
      "[147]\tvalidation_0-auc:0.94252\tvalidation_0-rmse:0.20178\tvalidation_1-auc:0.91021\tvalidation_1-rmse:0.21309\n",
      "[148]\tvalidation_0-auc:0.94274\tvalidation_0-rmse:0.20165\tvalidation_1-auc:0.91018\tvalidation_1-rmse:0.21309\n",
      "[149]\tvalidation_0-auc:0.94286\tvalidation_0-rmse:0.20155\tvalidation_1-auc:0.91026\tvalidation_1-rmse:0.21304\n",
      "[150]\tvalidation_0-auc:0.94322\tvalidation_0-rmse:0.20136\tvalidation_1-auc:0.91031\tvalidation_1-rmse:0.21301\n",
      "[151]\tvalidation_0-auc:0.94365\tvalidation_0-rmse:0.20114\tvalidation_1-auc:0.91036\tvalidation_1-rmse:0.21300\n",
      "[152]\tvalidation_0-auc:0.94378\tvalidation_0-rmse:0.20101\tvalidation_1-auc:0.91042\tvalidation_1-rmse:0.21296\n",
      "[153]\tvalidation_0-auc:0.94382\tvalidation_0-rmse:0.20099\tvalidation_1-auc:0.91037\tvalidation_1-rmse:0.21297\n"
     ]
    },
    {
     "name": "stdout",
     "output_type": "stream",
     "text": [
      "[154]\tvalidation_0-auc:0.94404\tvalidation_0-rmse:0.20084\tvalidation_1-auc:0.91037\tvalidation_1-rmse:0.21295\n",
      "[155]\tvalidation_0-auc:0.94428\tvalidation_0-rmse:0.20072\tvalidation_1-auc:0.91044\tvalidation_1-rmse:0.21292\n",
      "[156]\tvalidation_0-auc:0.94432\tvalidation_0-rmse:0.20070\tvalidation_1-auc:0.91043\tvalidation_1-rmse:0.21292\n",
      "[157]\tvalidation_0-auc:0.94453\tvalidation_0-rmse:0.20053\tvalidation_1-auc:0.91050\tvalidation_1-rmse:0.21288\n",
      "[158]\tvalidation_0-auc:0.94456\tvalidation_0-rmse:0.20050\tvalidation_1-auc:0.91049\tvalidation_1-rmse:0.21288\n",
      "[159]\tvalidation_0-auc:0.94472\tvalidation_0-rmse:0.20039\tvalidation_1-auc:0.91056\tvalidation_1-rmse:0.21286\n",
      "[160]\tvalidation_0-auc:0.94487\tvalidation_0-rmse:0.20028\tvalidation_1-auc:0.91061\tvalidation_1-rmse:0.21282\n",
      "[161]\tvalidation_0-auc:0.94489\tvalidation_0-rmse:0.20026\tvalidation_1-auc:0.91062\tvalidation_1-rmse:0.21282\n",
      "[162]\tvalidation_0-auc:0.94515\tvalidation_0-rmse:0.20014\tvalidation_1-auc:0.91057\tvalidation_1-rmse:0.21282\n",
      "[163]\tvalidation_0-auc:0.94534\tvalidation_0-rmse:0.19999\tvalidation_1-auc:0.91062\tvalidation_1-rmse:0.21278\n",
      "[164]\tvalidation_0-auc:0.94574\tvalidation_0-rmse:0.19980\tvalidation_1-auc:0.91062\tvalidation_1-rmse:0.21277\n",
      "[165]\tvalidation_0-auc:0.94610\tvalidation_0-rmse:0.19960\tvalidation_1-auc:0.91063\tvalidation_1-rmse:0.21278\n",
      "[166]\tvalidation_0-auc:0.94620\tvalidation_0-rmse:0.19952\tvalidation_1-auc:0.91065\tvalidation_1-rmse:0.21275\n",
      "[167]\tvalidation_0-auc:0.94624\tvalidation_0-rmse:0.19951\tvalidation_1-auc:0.91064\tvalidation_1-rmse:0.21276\n",
      "[168]\tvalidation_0-auc:0.94643\tvalidation_0-rmse:0.19939\tvalidation_1-auc:0.91058\tvalidation_1-rmse:0.21279\n",
      "[169]\tvalidation_0-auc:0.94643\tvalidation_0-rmse:0.19936\tvalidation_1-auc:0.91054\tvalidation_1-rmse:0.21279\n",
      "[170]\tvalidation_0-auc:0.94657\tvalidation_0-rmse:0.19929\tvalidation_1-auc:0.91047\tvalidation_1-rmse:0.21280\n",
      "[171]\tvalidation_0-auc:0.94673\tvalidation_0-rmse:0.19921\tvalidation_1-auc:0.91040\tvalidation_1-rmse:0.21282\n",
      "[172]\tvalidation_0-auc:0.94679\tvalidation_0-rmse:0.19912\tvalidation_1-auc:0.91046\tvalidation_1-rmse:0.21279\n",
      "[173]\tvalidation_0-auc:0.94687\tvalidation_0-rmse:0.19903\tvalidation_1-auc:0.91047\tvalidation_1-rmse:0.21277\n",
      "[174]\tvalidation_0-auc:0.94702\tvalidation_0-rmse:0.19894\tvalidation_1-auc:0.91042\tvalidation_1-rmse:0.21278\n",
      "[175]\tvalidation_0-auc:0.94722\tvalidation_0-rmse:0.19881\tvalidation_1-auc:0.91048\tvalidation_1-rmse:0.21275\n",
      "[176]\tvalidation_0-auc:0.94723\tvalidation_0-rmse:0.19878\tvalidation_1-auc:0.91049\tvalidation_1-rmse:0.21274\n",
      "[177]\tvalidation_0-auc:0.94754\tvalidation_0-rmse:0.19858\tvalidation_1-auc:0.91090\tvalidation_1-rmse:0.21264\n",
      "[178]\tvalidation_0-auc:0.94756\tvalidation_0-rmse:0.19855\tvalidation_1-auc:0.91088\tvalidation_1-rmse:0.21264\n",
      "[179]\tvalidation_0-auc:0.94754\tvalidation_0-rmse:0.19851\tvalidation_1-auc:0.91091\tvalidation_1-rmse:0.21263\n",
      "[180]\tvalidation_0-auc:0.94751\tvalidation_0-rmse:0.19848\tvalidation_1-auc:0.91090\tvalidation_1-rmse:0.21262\n",
      "[181]\tvalidation_0-auc:0.94755\tvalidation_0-rmse:0.19846\tvalidation_1-auc:0.91087\tvalidation_1-rmse:0.21263\n",
      "[182]\tvalidation_0-auc:0.94770\tvalidation_0-rmse:0.19831\tvalidation_1-auc:0.91095\tvalidation_1-rmse:0.21260\n",
      "[183]\tvalidation_0-auc:0.94770\tvalidation_0-rmse:0.19829\tvalidation_1-auc:0.91096\tvalidation_1-rmse:0.21259\n",
      "[184]\tvalidation_0-auc:0.94800\tvalidation_0-rmse:0.19811\tvalidation_1-auc:0.91101\tvalidation_1-rmse:0.21256\n",
      "[185]\tvalidation_0-auc:0.94813\tvalidation_0-rmse:0.19803\tvalidation_1-auc:0.91099\tvalidation_1-rmse:0.21256\n",
      "[186]\tvalidation_0-auc:0.94810\tvalidation_0-rmse:0.19800\tvalidation_1-auc:0.91100\tvalidation_1-rmse:0.21255\n",
      "[187]\tvalidation_0-auc:0.94809\tvalidation_0-rmse:0.19798\tvalidation_1-auc:0.91100\tvalidation_1-rmse:0.21255\n",
      "[188]\tvalidation_0-auc:0.94810\tvalidation_0-rmse:0.19797\tvalidation_1-auc:0.91101\tvalidation_1-rmse:0.21255\n",
      "[189]\tvalidation_0-auc:0.94842\tvalidation_0-rmse:0.19776\tvalidation_1-auc:0.91137\tvalidation_1-rmse:0.21246\n",
      "[190]\tvalidation_0-auc:0.94866\tvalidation_0-rmse:0.19764\tvalidation_1-auc:0.91145\tvalidation_1-rmse:0.21244\n",
      "[191]\tvalidation_0-auc:0.94892\tvalidation_0-rmse:0.19747\tvalidation_1-auc:0.91179\tvalidation_1-rmse:0.21236\n",
      "[192]\tvalidation_0-auc:0.94906\tvalidation_0-rmse:0.19738\tvalidation_1-auc:0.91177\tvalidation_1-rmse:0.21236\n",
      "[193]\tvalidation_0-auc:0.94909\tvalidation_0-rmse:0.19737\tvalidation_1-auc:0.91175\tvalidation_1-rmse:0.21237\n",
      "[194]\tvalidation_0-auc:0.94909\tvalidation_0-rmse:0.19736\tvalidation_1-auc:0.91175\tvalidation_1-rmse:0.21236\n",
      "[195]\tvalidation_0-auc:0.94924\tvalidation_0-rmse:0.19725\tvalidation_1-auc:0.91181\tvalidation_1-rmse:0.21234\n",
      "[196]\tvalidation_0-auc:0.94923\tvalidation_0-rmse:0.19723\tvalidation_1-auc:0.91181\tvalidation_1-rmse:0.21233\n",
      "[197]\tvalidation_0-auc:0.94940\tvalidation_0-rmse:0.19712\tvalidation_1-auc:0.91181\tvalidation_1-rmse:0.21233\n",
      "[198]\tvalidation_0-auc:0.94941\tvalidation_0-rmse:0.19709\tvalidation_1-auc:0.91183\tvalidation_1-rmse:0.21233\n",
      "[199]\tvalidation_0-auc:0.94955\tvalidation_0-rmse:0.19696\tvalidation_1-auc:0.91195\tvalidation_1-rmse:0.21228\n",
      "[200]\tvalidation_0-auc:0.94956\tvalidation_0-rmse:0.19695\tvalidation_1-auc:0.91194\tvalidation_1-rmse:0.21228\n",
      "[201]\tvalidation_0-auc:0.94960\tvalidation_0-rmse:0.19693\tvalidation_1-auc:0.91195\tvalidation_1-rmse:0.21227\n",
      "[202]\tvalidation_0-auc:0.94958\tvalidation_0-rmse:0.19690\tvalidation_1-auc:0.91196\tvalidation_1-rmse:0.21226\n",
      "[203]\tvalidation_0-auc:0.94971\tvalidation_0-rmse:0.19679\tvalidation_1-auc:0.91199\tvalidation_1-rmse:0.21225\n",
      "[204]\tvalidation_0-auc:0.94973\tvalidation_0-rmse:0.19678\tvalidation_1-auc:0.91196\tvalidation_1-rmse:0.21225\n",
      "[205]\tvalidation_0-auc:0.94995\tvalidation_0-rmse:0.19665\tvalidation_1-auc:0.91199\tvalidation_1-rmse:0.21225\n",
      "[206]\tvalidation_0-auc:0.95015\tvalidation_0-rmse:0.19653\tvalidation_1-auc:0.91204\tvalidation_1-rmse:0.21222\n",
      "[207]\tvalidation_0-auc:0.95040\tvalidation_0-rmse:0.19641\tvalidation_1-auc:0.91205\tvalidation_1-rmse:0.21223\n",
      "[208]\tvalidation_0-auc:0.95075\tvalidation_0-rmse:0.19623\tvalidation_1-auc:0.91212\tvalidation_1-rmse:0.21223\n",
      "[209]\tvalidation_0-auc:0.95094\tvalidation_0-rmse:0.19606\tvalidation_1-auc:0.91235\tvalidation_1-rmse:0.21216\n",
      "[210]\tvalidation_0-auc:0.95111\tvalidation_0-rmse:0.19590\tvalidation_1-auc:0.91262\tvalidation_1-rmse:0.21207\n",
      "[211]\tvalidation_0-auc:0.95111\tvalidation_0-rmse:0.19590\tvalidation_1-auc:0.91262\tvalidation_1-rmse:0.21207\n",
      "[212]\tvalidation_0-auc:0.95125\tvalidation_0-rmse:0.19576\tvalidation_1-auc:0.91284\tvalidation_1-rmse:0.21201\n",
      "[213]\tvalidation_0-auc:0.95138\tvalidation_0-rmse:0.19564\tvalidation_1-auc:0.91288\tvalidation_1-rmse:0.21199\n",
      "[214]\tvalidation_0-auc:0.95171\tvalidation_0-rmse:0.19547\tvalidation_1-auc:0.91290\tvalidation_1-rmse:0.21200\n",
      "[215]\tvalidation_0-auc:0.95185\tvalidation_0-rmse:0.19532\tvalidation_1-auc:0.91311\tvalidation_1-rmse:0.21193\n",
      "[216]\tvalidation_0-auc:0.95196\tvalidation_0-rmse:0.19519\tvalidation_1-auc:0.91332\tvalidation_1-rmse:0.21187\n",
      "[217]\tvalidation_0-auc:0.95199\tvalidation_0-rmse:0.19518\tvalidation_1-auc:0.91332\tvalidation_1-rmse:0.21187\n",
      "[218]\tvalidation_0-auc:0.95219\tvalidation_0-rmse:0.19508\tvalidation_1-auc:0.91331\tvalidation_1-rmse:0.21187\n",
      "[219]\tvalidation_0-auc:0.95240\tvalidation_0-rmse:0.19494\tvalidation_1-auc:0.91328\tvalidation_1-rmse:0.21188\n",
      "[220]\tvalidation_0-auc:0.95253\tvalidation_0-rmse:0.19487\tvalidation_1-auc:0.91329\tvalidation_1-rmse:0.21188\n",
      "[221]\tvalidation_0-auc:0.95274\tvalidation_0-rmse:0.19475\tvalidation_1-auc:0.91321\tvalidation_1-rmse:0.21191\n",
      "[222]\tvalidation_0-auc:0.95276\tvalidation_0-rmse:0.19474\tvalidation_1-auc:0.91320\tvalidation_1-rmse:0.21191\n",
      "[223]\tvalidation_0-auc:0.95278\tvalidation_0-rmse:0.19473\tvalidation_1-auc:0.91322\tvalidation_1-rmse:0.21191\n",
      "[224]\tvalidation_0-auc:0.95281\tvalidation_0-rmse:0.19470\tvalidation_1-auc:0.91323\tvalidation_1-rmse:0.21190\n",
      "[225]\tvalidation_0-auc:0.95299\tvalidation_0-rmse:0.19461\tvalidation_1-auc:0.91319\tvalidation_1-rmse:0.21191\n",
      "[226]\tvalidation_0-auc:0.95302\tvalidation_0-rmse:0.19459\tvalidation_1-auc:0.91318\tvalidation_1-rmse:0.21191\n",
      "[227]\tvalidation_0-auc:0.95303\tvalidation_0-rmse:0.19458\tvalidation_1-auc:0.91317\tvalidation_1-rmse:0.21191\n",
      "[228]\tvalidation_0-auc:0.95318\tvalidation_0-rmse:0.19447\tvalidation_1-auc:0.91317\tvalidation_1-rmse:0.21191\n",
      "[229]\tvalidation_0-auc:0.95342\tvalidation_0-rmse:0.19435\tvalidation_1-auc:0.91315\tvalidation_1-rmse:0.21193\n"
     ]
    },
    {
     "name": "stdout",
     "output_type": "stream",
     "text": [
      "[230]\tvalidation_0-auc:0.95344\tvalidation_0-rmse:0.19433\tvalidation_1-auc:0.91313\tvalidation_1-rmse:0.21193\n",
      "[231]\tvalidation_0-auc:0.95363\tvalidation_0-rmse:0.19419\tvalidation_1-auc:0.91320\tvalidation_1-rmse:0.21191\n",
      "[232]\tvalidation_0-auc:0.95364\tvalidation_0-rmse:0.19418\tvalidation_1-auc:0.91316\tvalidation_1-rmse:0.21192\n",
      "[233]\tvalidation_0-auc:0.95366\tvalidation_0-rmse:0.19416\tvalidation_1-auc:0.91316\tvalidation_1-rmse:0.21192\n",
      "[234]\tvalidation_0-auc:0.95375\tvalidation_0-rmse:0.19409\tvalidation_1-auc:0.91313\tvalidation_1-rmse:0.21192\n",
      "[235]\tvalidation_0-auc:0.95387\tvalidation_0-rmse:0.19403\tvalidation_1-auc:0.91312\tvalidation_1-rmse:0.21193\n",
      "[236]\tvalidation_0-auc:0.95397\tvalidation_0-rmse:0.19391\tvalidation_1-auc:0.91326\tvalidation_1-rmse:0.21188\n",
      "[237]\tvalidation_0-auc:0.95418\tvalidation_0-rmse:0.19377\tvalidation_1-auc:0.91321\tvalidation_1-rmse:0.21191\n",
      "[238]\tvalidation_0-auc:0.95421\tvalidation_0-rmse:0.19375\tvalidation_1-auc:0.91318\tvalidation_1-rmse:0.21193\n",
      "[239]\tvalidation_0-auc:0.95435\tvalidation_0-rmse:0.19365\tvalidation_1-auc:0.91319\tvalidation_1-rmse:0.21191\n",
      "[240]\tvalidation_0-auc:0.95437\tvalidation_0-rmse:0.19363\tvalidation_1-auc:0.91319\tvalidation_1-rmse:0.21190\n",
      "[241]\tvalidation_0-auc:0.95447\tvalidation_0-rmse:0.19357\tvalidation_1-auc:0.91324\tvalidation_1-rmse:0.21190\n",
      "[242]\tvalidation_0-auc:0.95458\tvalidation_0-rmse:0.19349\tvalidation_1-auc:0.91326\tvalidation_1-rmse:0.21188\n",
      "[243]\tvalidation_0-auc:0.95482\tvalidation_0-rmse:0.19334\tvalidation_1-auc:0.91332\tvalidation_1-rmse:0.21186\n",
      "[244]\tvalidation_0-auc:0.95510\tvalidation_0-rmse:0.19316\tvalidation_1-auc:0.91334\tvalidation_1-rmse:0.21184\n",
      "[245]\tvalidation_0-auc:0.95520\tvalidation_0-rmse:0.19310\tvalidation_1-auc:0.91337\tvalidation_1-rmse:0.21183\n",
      "[246]\tvalidation_0-auc:0.95536\tvalidation_0-rmse:0.19299\tvalidation_1-auc:0.91331\tvalidation_1-rmse:0.21184\n",
      "[247]\tvalidation_0-auc:0.95539\tvalidation_0-rmse:0.19297\tvalidation_1-auc:0.91329\tvalidation_1-rmse:0.21184\n",
      "[248]\tvalidation_0-auc:0.95541\tvalidation_0-rmse:0.19296\tvalidation_1-auc:0.91330\tvalidation_1-rmse:0.21184\n",
      "[249]\tvalidation_0-auc:0.95543\tvalidation_0-rmse:0.19295\tvalidation_1-auc:0.91328\tvalidation_1-rmse:0.21185\n",
      "[250]\tvalidation_0-auc:0.95549\tvalidation_0-rmse:0.19287\tvalidation_1-auc:0.91331\tvalidation_1-rmse:0.21182\n",
      "[251]\tvalidation_0-auc:0.95549\tvalidation_0-rmse:0.19287\tvalidation_1-auc:0.91330\tvalidation_1-rmse:0.21183\n",
      "[252]\tvalidation_0-auc:0.95560\tvalidation_0-rmse:0.19278\tvalidation_1-auc:0.91334\tvalidation_1-rmse:0.21182\n",
      "[253]\tvalidation_0-auc:0.95559\tvalidation_0-rmse:0.19277\tvalidation_1-auc:0.91334\tvalidation_1-rmse:0.21181\n",
      "[254]\tvalidation_0-auc:0.95569\tvalidation_0-rmse:0.19264\tvalidation_1-auc:0.91351\tvalidation_1-rmse:0.21177\n",
      "[255]\tvalidation_0-auc:0.95582\tvalidation_0-rmse:0.19255\tvalidation_1-auc:0.91348\tvalidation_1-rmse:0.21177\n",
      "[256]\tvalidation_0-auc:0.95582\tvalidation_0-rmse:0.19254\tvalidation_1-auc:0.91346\tvalidation_1-rmse:0.21177\n",
      "[257]\tvalidation_0-auc:0.95599\tvalidation_0-rmse:0.19243\tvalidation_1-auc:0.91341\tvalidation_1-rmse:0.21179\n",
      "[258]\tvalidation_0-auc:0.95618\tvalidation_0-rmse:0.19230\tvalidation_1-auc:0.91343\tvalidation_1-rmse:0.21178\n",
      "[259]\tvalidation_0-auc:0.95620\tvalidation_0-rmse:0.19229\tvalidation_1-auc:0.91343\tvalidation_1-rmse:0.21179\n",
      "[260]\tvalidation_0-auc:0.95631\tvalidation_0-rmse:0.19219\tvalidation_1-auc:0.91355\tvalidation_1-rmse:0.21176\n",
      "[261]\tvalidation_0-auc:0.95637\tvalidation_0-rmse:0.19215\tvalidation_1-auc:0.91353\tvalidation_1-rmse:0.21176\n",
      "[262]\tvalidation_0-auc:0.95642\tvalidation_0-rmse:0.19208\tvalidation_1-auc:0.91356\tvalidation_1-rmse:0.21174\n",
      "[263]\tvalidation_0-auc:0.95644\tvalidation_0-rmse:0.19206\tvalidation_1-auc:0.91355\tvalidation_1-rmse:0.21174\n",
      "[264]\tvalidation_0-auc:0.95661\tvalidation_0-rmse:0.19194\tvalidation_1-auc:0.91354\tvalidation_1-rmse:0.21175\n",
      "[265]\tvalidation_0-auc:0.95663\tvalidation_0-rmse:0.19192\tvalidation_1-auc:0.91354\tvalidation_1-rmse:0.21175\n",
      "[266]\tvalidation_0-auc:0.95666\tvalidation_0-rmse:0.19190\tvalidation_1-auc:0.91353\tvalidation_1-rmse:0.21175\n",
      "[267]\tvalidation_0-auc:0.95673\tvalidation_0-rmse:0.19180\tvalidation_1-auc:0.91368\tvalidation_1-rmse:0.21171\n",
      "[268]\tvalidation_0-auc:0.95690\tvalidation_0-rmse:0.19167\tvalidation_1-auc:0.91370\tvalidation_1-rmse:0.21171\n",
      "[269]\tvalidation_0-auc:0.95700\tvalidation_0-rmse:0.19159\tvalidation_1-auc:0.91372\tvalidation_1-rmse:0.21171\n",
      "[270]\tvalidation_0-auc:0.95721\tvalidation_0-rmse:0.19146\tvalidation_1-auc:0.91377\tvalidation_1-rmse:0.21169\n",
      "[271]\tvalidation_0-auc:0.95722\tvalidation_0-rmse:0.19145\tvalidation_1-auc:0.91376\tvalidation_1-rmse:0.21169\n",
      "[272]\tvalidation_0-auc:0.95728\tvalidation_0-rmse:0.19139\tvalidation_1-auc:0.91381\tvalidation_1-rmse:0.21167\n",
      "[273]\tvalidation_0-auc:0.95738\tvalidation_0-rmse:0.19128\tvalidation_1-auc:0.91396\tvalidation_1-rmse:0.21163\n",
      "[274]\tvalidation_0-auc:0.95748\tvalidation_0-rmse:0.19121\tvalidation_1-auc:0.91396\tvalidation_1-rmse:0.21163\n",
      "[275]\tvalidation_0-auc:0.95768\tvalidation_0-rmse:0.19108\tvalidation_1-auc:0.91393\tvalidation_1-rmse:0.21164\n",
      "[276]\tvalidation_0-auc:0.95778\tvalidation_0-rmse:0.19101\tvalidation_1-auc:0.91389\tvalidation_1-rmse:0.21165\n",
      "[277]\tvalidation_0-auc:0.95779\tvalidation_0-rmse:0.19101\tvalidation_1-auc:0.91390\tvalidation_1-rmse:0.21164\n",
      "[278]\tvalidation_0-auc:0.95800\tvalidation_0-rmse:0.19088\tvalidation_1-auc:0.91389\tvalidation_1-rmse:0.21166\n",
      "[279]\tvalidation_0-auc:0.95813\tvalidation_0-rmse:0.19078\tvalidation_1-auc:0.91389\tvalidation_1-rmse:0.21165\n",
      "[280]\tvalidation_0-auc:0.95826\tvalidation_0-rmse:0.19069\tvalidation_1-auc:0.91392\tvalidation_1-rmse:0.21165\n",
      "[281]\tvalidation_0-auc:0.95834\tvalidation_0-rmse:0.19058\tvalidation_1-auc:0.91407\tvalidation_1-rmse:0.21159\n",
      "[282]\tvalidation_0-auc:0.95848\tvalidation_0-rmse:0.19048\tvalidation_1-auc:0.91404\tvalidation_1-rmse:0.21161\n",
      "[283]\tvalidation_0-auc:0.95850\tvalidation_0-rmse:0.19045\tvalidation_1-auc:0.91404\tvalidation_1-rmse:0.21161\n",
      "[284]\tvalidation_0-auc:0.95852\tvalidation_0-rmse:0.19043\tvalidation_1-auc:0.91404\tvalidation_1-rmse:0.21161\n",
      "[285]\tvalidation_0-auc:0.95853\tvalidation_0-rmse:0.19042\tvalidation_1-auc:0.91404\tvalidation_1-rmse:0.21161\n",
      "[286]\tvalidation_0-auc:0.95853\tvalidation_0-rmse:0.19041\tvalidation_1-auc:0.91401\tvalidation_1-rmse:0.21162\n",
      "[287]\tvalidation_0-auc:0.95853\tvalidation_0-rmse:0.19040\tvalidation_1-auc:0.91401\tvalidation_1-rmse:0.21162\n",
      "[288]\tvalidation_0-auc:0.95853\tvalidation_0-rmse:0.19038\tvalidation_1-auc:0.91402\tvalidation_1-rmse:0.21162\n",
      "[289]\tvalidation_0-auc:0.95871\tvalidation_0-rmse:0.19027\tvalidation_1-auc:0.91406\tvalidation_1-rmse:0.21162\n",
      "[290]\tvalidation_0-auc:0.95886\tvalidation_0-rmse:0.19015\tvalidation_1-auc:0.91413\tvalidation_1-rmse:0.21160\n",
      "[291]\tvalidation_0-auc:0.95885\tvalidation_0-rmse:0.19014\tvalidation_1-auc:0.91412\tvalidation_1-rmse:0.21161\n",
      "[292]\tvalidation_0-auc:0.95888\tvalidation_0-rmse:0.19011\tvalidation_1-auc:0.91414\tvalidation_1-rmse:0.21160\n",
      "[293]\tvalidation_0-auc:0.95910\tvalidation_0-rmse:0.18996\tvalidation_1-auc:0.91417\tvalidation_1-rmse:0.21160\n",
      "[294]\tvalidation_0-auc:0.95913\tvalidation_0-rmse:0.18995\tvalidation_1-auc:0.91417\tvalidation_1-rmse:0.21159\n",
      "[295]\tvalidation_0-auc:0.95924\tvalidation_0-rmse:0.18986\tvalidation_1-auc:0.91419\tvalidation_1-rmse:0.21159\n",
      "[296]\tvalidation_0-auc:0.95930\tvalidation_0-rmse:0.18982\tvalidation_1-auc:0.91419\tvalidation_1-rmse:0.21159\n",
      "[297]\tvalidation_0-auc:0.95942\tvalidation_0-rmse:0.18974\tvalidation_1-auc:0.91418\tvalidation_1-rmse:0.21160\n",
      "[298]\tvalidation_0-auc:0.95958\tvalidation_0-rmse:0.18962\tvalidation_1-auc:0.91415\tvalidation_1-rmse:0.21162\n",
      "[299]\tvalidation_0-auc:0.95965\tvalidation_0-rmse:0.18953\tvalidation_1-auc:0.91429\tvalidation_1-rmse:0.21158\n",
      "[300]\tvalidation_0-auc:0.95973\tvalidation_0-rmse:0.18946\tvalidation_1-auc:0.91430\tvalidation_1-rmse:0.21157\n",
      "[301]\tvalidation_0-auc:0.95976\tvalidation_0-rmse:0.18944\tvalidation_1-auc:0.91427\tvalidation_1-rmse:0.21158\n",
      "[302]\tvalidation_0-auc:0.95975\tvalidation_0-rmse:0.18943\tvalidation_1-auc:0.91428\tvalidation_1-rmse:0.21158\n",
      "[303]\tvalidation_0-auc:0.95992\tvalidation_0-rmse:0.18930\tvalidation_1-auc:0.91426\tvalidation_1-rmse:0.21158\n",
      "[304]\tvalidation_0-auc:0.95999\tvalidation_0-rmse:0.18918\tvalidation_1-auc:0.91436\tvalidation_1-rmse:0.21156\n",
      "[305]\tvalidation_0-auc:0.96001\tvalidation_0-rmse:0.18917\tvalidation_1-auc:0.91436\tvalidation_1-rmse:0.21155\n"
     ]
    },
    {
     "name": "stdout",
     "output_type": "stream",
     "text": [
      "[306]\tvalidation_0-auc:0.96013\tvalidation_0-rmse:0.18908\tvalidation_1-auc:0.91437\tvalidation_1-rmse:0.21154\n",
      "[307]\tvalidation_0-auc:0.96024\tvalidation_0-rmse:0.18895\tvalidation_1-auc:0.91448\tvalidation_1-rmse:0.21150\n",
      "[308]\tvalidation_0-auc:0.96026\tvalidation_0-rmse:0.18891\tvalidation_1-auc:0.91449\tvalidation_1-rmse:0.21150\n",
      "[309]\tvalidation_0-auc:0.96040\tvalidation_0-rmse:0.18880\tvalidation_1-auc:0.91447\tvalidation_1-rmse:0.21152\n",
      "[310]\tvalidation_0-auc:0.96060\tvalidation_0-rmse:0.18867\tvalidation_1-auc:0.91442\tvalidation_1-rmse:0.21154\n",
      "[311]\tvalidation_0-auc:0.96062\tvalidation_0-rmse:0.18867\tvalidation_1-auc:0.91442\tvalidation_1-rmse:0.21154\n",
      "[312]\tvalidation_0-auc:0.96064\tvalidation_0-rmse:0.18866\tvalidation_1-auc:0.91443\tvalidation_1-rmse:0.21153\n",
      "[313]\tvalidation_0-auc:0.96074\tvalidation_0-rmse:0.18857\tvalidation_1-auc:0.91452\tvalidation_1-rmse:0.21151\n",
      "[314]\tvalidation_0-auc:0.96074\tvalidation_0-rmse:0.18855\tvalidation_1-auc:0.91453\tvalidation_1-rmse:0.21151\n",
      "[315]\tvalidation_0-auc:0.96075\tvalidation_0-rmse:0.18854\tvalidation_1-auc:0.91451\tvalidation_1-rmse:0.21152\n",
      "[316]\tvalidation_0-auc:0.96084\tvalidation_0-rmse:0.18849\tvalidation_1-auc:0.91450\tvalidation_1-rmse:0.21152\n",
      "[317]\tvalidation_0-auc:0.96084\tvalidation_0-rmse:0.18848\tvalidation_1-auc:0.91450\tvalidation_1-rmse:0.21152\n",
      "[318]\tvalidation_0-auc:0.96098\tvalidation_0-rmse:0.18838\tvalidation_1-auc:0.91449\tvalidation_1-rmse:0.21153\n",
      "[319]\tvalidation_0-auc:0.96098\tvalidation_0-rmse:0.18837\tvalidation_1-auc:0.91449\tvalidation_1-rmse:0.21153\n",
      "[320]\tvalidation_0-auc:0.96112\tvalidation_0-rmse:0.18826\tvalidation_1-auc:0.91451\tvalidation_1-rmse:0.21153\n",
      "[321]\tvalidation_0-auc:0.96133\tvalidation_0-rmse:0.18811\tvalidation_1-auc:0.91455\tvalidation_1-rmse:0.21150\n",
      "[322]\tvalidation_0-auc:0.96134\tvalidation_0-rmse:0.18810\tvalidation_1-auc:0.91455\tvalidation_1-rmse:0.21151\n",
      "[323]\tvalidation_0-auc:0.96134\tvalidation_0-rmse:0.18809\tvalidation_1-auc:0.91454\tvalidation_1-rmse:0.21151\n",
      "[324]\tvalidation_0-auc:0.96143\tvalidation_0-rmse:0.18800\tvalidation_1-auc:0.91455\tvalidation_1-rmse:0.21152\n",
      "[325]\tvalidation_0-auc:0.96145\tvalidation_0-rmse:0.18792\tvalidation_1-auc:0.91465\tvalidation_1-rmse:0.21149\n",
      "[326]\tvalidation_0-auc:0.96146\tvalidation_0-rmse:0.18790\tvalidation_1-auc:0.91465\tvalidation_1-rmse:0.21149\n",
      "[327]\tvalidation_0-auc:0.96148\tvalidation_0-rmse:0.18789\tvalidation_1-auc:0.91464\tvalidation_1-rmse:0.21150\n",
      "[328]\tvalidation_0-auc:0.96154\tvalidation_0-rmse:0.18783\tvalidation_1-auc:0.91463\tvalidation_1-rmse:0.21150\n",
      "[329]\tvalidation_0-auc:0.96160\tvalidation_0-rmse:0.18779\tvalidation_1-auc:0.91463\tvalidation_1-rmse:0.21149\n",
      "[330]\tvalidation_0-auc:0.96160\tvalidation_0-rmse:0.18778\tvalidation_1-auc:0.91461\tvalidation_1-rmse:0.21150\n",
      "[331]\tvalidation_0-auc:0.96161\tvalidation_0-rmse:0.18777\tvalidation_1-auc:0.91462\tvalidation_1-rmse:0.21150\n",
      "[332]\tvalidation_0-auc:0.96163\tvalidation_0-rmse:0.18775\tvalidation_1-auc:0.91460\tvalidation_1-rmse:0.21150\n",
      "[333]\tvalidation_0-auc:0.96164\tvalidation_0-rmse:0.18774\tvalidation_1-auc:0.91458\tvalidation_1-rmse:0.21151\n",
      "[334]\tvalidation_0-auc:0.96165\tvalidation_0-rmse:0.18772\tvalidation_1-auc:0.91457\tvalidation_1-rmse:0.21152\n",
      "[335]\tvalidation_0-auc:0.96167\tvalidation_0-rmse:0.18772\tvalidation_1-auc:0.91456\tvalidation_1-rmse:0.21152\n",
      "[336]\tvalidation_0-auc:0.96171\tvalidation_0-rmse:0.18768\tvalidation_1-auc:0.91460\tvalidation_1-rmse:0.21151\n",
      "[337]\tvalidation_0-auc:0.96183\tvalidation_0-rmse:0.18758\tvalidation_1-auc:0.91465\tvalidation_1-rmse:0.21149\n",
      "[338]\tvalidation_0-auc:0.96183\tvalidation_0-rmse:0.18757\tvalidation_1-auc:0.91464\tvalidation_1-rmse:0.21149\n",
      "[339]\tvalidation_0-auc:0.96182\tvalidation_0-rmse:0.18756\tvalidation_1-auc:0.91463\tvalidation_1-rmse:0.21149\n",
      "[340]\tvalidation_0-auc:0.96193\tvalidation_0-rmse:0.18745\tvalidation_1-auc:0.91463\tvalidation_1-rmse:0.21149\n",
      "[341]\tvalidation_0-auc:0.96193\tvalidation_0-rmse:0.18744\tvalidation_1-auc:0.91463\tvalidation_1-rmse:0.21149\n",
      "[342]\tvalidation_0-auc:0.96204\tvalidation_0-rmse:0.18734\tvalidation_1-auc:0.91465\tvalidation_1-rmse:0.21148\n",
      "[343]\tvalidation_0-auc:0.96205\tvalidation_0-rmse:0.18732\tvalidation_1-auc:0.91463\tvalidation_1-rmse:0.21149\n",
      "[344]\tvalidation_0-auc:0.96205\tvalidation_0-rmse:0.18732\tvalidation_1-auc:0.91462\tvalidation_1-rmse:0.21149\n",
      "[345]\tvalidation_0-auc:0.96207\tvalidation_0-rmse:0.18732\tvalidation_1-auc:0.91461\tvalidation_1-rmse:0.21149\n",
      "[346]\tvalidation_0-auc:0.96210\tvalidation_0-rmse:0.18731\tvalidation_1-auc:0.91459\tvalidation_1-rmse:0.21150\n",
      "[347]\tvalidation_0-auc:0.96210\tvalidation_0-rmse:0.18730\tvalidation_1-auc:0.91458\tvalidation_1-rmse:0.21150\n",
      "[348]\tvalidation_0-auc:0.96228\tvalidation_0-rmse:0.18716\tvalidation_1-auc:0.91460\tvalidation_1-rmse:0.21149\n",
      "[349]\tvalidation_0-auc:0.96243\tvalidation_0-rmse:0.18705\tvalidation_1-auc:0.91461\tvalidation_1-rmse:0.21149\n",
      "[350]\tvalidation_0-auc:0.96254\tvalidation_0-rmse:0.18698\tvalidation_1-auc:0.91461\tvalidation_1-rmse:0.21149\n",
      "[351]\tvalidation_0-auc:0.96261\tvalidation_0-rmse:0.18692\tvalidation_1-auc:0.91456\tvalidation_1-rmse:0.21152\n",
      "[352]\tvalidation_0-auc:0.96261\tvalidation_0-rmse:0.18692\tvalidation_1-auc:0.91454\tvalidation_1-rmse:0.21152\n",
      "[353]\tvalidation_0-auc:0.96261\tvalidation_0-rmse:0.18691\tvalidation_1-auc:0.91453\tvalidation_1-rmse:0.21152\n",
      "[354]\tvalidation_0-auc:0.96261\tvalidation_0-rmse:0.18690\tvalidation_1-auc:0.91450\tvalidation_1-rmse:0.21154\n",
      "[355]\tvalidation_0-auc:0.96261\tvalidation_0-rmse:0.18690\tvalidation_1-auc:0.91448\tvalidation_1-rmse:0.21155\n",
      "[356]\tvalidation_0-auc:0.96272\tvalidation_0-rmse:0.18680\tvalidation_1-auc:0.91455\tvalidation_1-rmse:0.21152\n",
      "[357]\tvalidation_0-auc:0.96273\tvalidation_0-rmse:0.18679\tvalidation_1-auc:0.91456\tvalidation_1-rmse:0.21151\n",
      "[358]\tvalidation_0-auc:0.96282\tvalidation_0-rmse:0.18670\tvalidation_1-auc:0.91459\tvalidation_1-rmse:0.21150\n",
      "[359]\tvalidation_0-auc:0.96282\tvalidation_0-rmse:0.18668\tvalidation_1-auc:0.91458\tvalidation_1-rmse:0.21150\n",
      "[360]\tvalidation_0-auc:0.96288\tvalidation_0-rmse:0.18657\tvalidation_1-auc:0.91469\tvalidation_1-rmse:0.21147\n",
      "[361]\tvalidation_0-auc:0.96298\tvalidation_0-rmse:0.18645\tvalidation_1-auc:0.91483\tvalidation_1-rmse:0.21143\n",
      "[362]\tvalidation_0-auc:0.96299\tvalidation_0-rmse:0.18644\tvalidation_1-auc:0.91482\tvalidation_1-rmse:0.21144\n",
      "[363]\tvalidation_0-auc:0.96308\tvalidation_0-rmse:0.18635\tvalidation_1-auc:0.91488\tvalidation_1-rmse:0.21143\n",
      "[364]\tvalidation_0-auc:0.96312\tvalidation_0-rmse:0.18631\tvalidation_1-auc:0.91490\tvalidation_1-rmse:0.21142\n",
      "[365]\tvalidation_0-auc:0.96321\tvalidation_0-rmse:0.18622\tvalidation_1-auc:0.91489\tvalidation_1-rmse:0.21143\n",
      "[366]\tvalidation_0-auc:0.96323\tvalidation_0-rmse:0.18621\tvalidation_1-auc:0.91487\tvalidation_1-rmse:0.21144\n",
      "[367]\tvalidation_0-auc:0.96337\tvalidation_0-rmse:0.18608\tvalidation_1-auc:0.91481\tvalidation_1-rmse:0.21146\n",
      "[368]\tvalidation_0-auc:0.96349\tvalidation_0-rmse:0.18598\tvalidation_1-auc:0.91478\tvalidation_1-rmse:0.21148\n",
      "[369]\tvalidation_0-auc:0.96350\tvalidation_0-rmse:0.18598\tvalidation_1-auc:0.91477\tvalidation_1-rmse:0.21149\n",
      "[370]\tvalidation_0-auc:0.96353\tvalidation_0-rmse:0.18592\tvalidation_1-auc:0.91483\tvalidation_1-rmse:0.21148\n",
      "[371]\tvalidation_0-auc:0.96365\tvalidation_0-rmse:0.18582\tvalidation_1-auc:0.91478\tvalidation_1-rmse:0.21149\n",
      "[372]\tvalidation_0-auc:0.96367\tvalidation_0-rmse:0.18580\tvalidation_1-auc:0.91477\tvalidation_1-rmse:0.21149\n",
      "[373]\tvalidation_0-auc:0.96369\tvalidation_0-rmse:0.18579\tvalidation_1-auc:0.91475\tvalidation_1-rmse:0.21150\n",
      "[374]\tvalidation_0-auc:0.96370\tvalidation_0-rmse:0.18578\tvalidation_1-auc:0.91475\tvalidation_1-rmse:0.21150\n",
      "[375]\tvalidation_0-auc:0.96372\tvalidation_0-rmse:0.18577\tvalidation_1-auc:0.91473\tvalidation_1-rmse:0.21151\n",
      "[376]\tvalidation_0-auc:0.96371\tvalidation_0-rmse:0.18578\tvalidation_1-auc:0.91473\tvalidation_1-rmse:0.21151\n",
      "[377]\tvalidation_0-auc:0.96378\tvalidation_0-rmse:0.18571\tvalidation_1-auc:0.91474\tvalidation_1-rmse:0.21151\n",
      "[378]\tvalidation_0-auc:0.96378\tvalidation_0-rmse:0.18571\tvalidation_1-auc:0.91471\tvalidation_1-rmse:0.21151\n",
      "[379]\tvalidation_0-auc:0.96379\tvalidation_0-rmse:0.18570\tvalidation_1-auc:0.91472\tvalidation_1-rmse:0.21152\n",
      "[380]\tvalidation_0-auc:0.96396\tvalidation_0-rmse:0.18557\tvalidation_1-auc:0.91463\tvalidation_1-rmse:0.21156\n",
      "[381]\tvalidation_0-auc:0.96396\tvalidation_0-rmse:0.18557\tvalidation_1-auc:0.91463\tvalidation_1-rmse:0.21156\n"
     ]
    },
    {
     "name": "stdout",
     "output_type": "stream",
     "text": [
      "[382]\tvalidation_0-auc:0.96411\tvalidation_0-rmse:0.18544\tvalidation_1-auc:0.91462\tvalidation_1-rmse:0.21155\n",
      "[383]\tvalidation_0-auc:0.96422\tvalidation_0-rmse:0.18535\tvalidation_1-auc:0.91458\tvalidation_1-rmse:0.21156\n",
      "[384]\tvalidation_0-auc:0.96432\tvalidation_0-rmse:0.18527\tvalidation_1-auc:0.91457\tvalidation_1-rmse:0.21157\n",
      "[385]\tvalidation_0-auc:0.96443\tvalidation_0-rmse:0.18517\tvalidation_1-auc:0.91460\tvalidation_1-rmse:0.21155\n",
      "[386]\tvalidation_0-auc:0.96443\tvalidation_0-rmse:0.18516\tvalidation_1-auc:0.91458\tvalidation_1-rmse:0.21155\n",
      "[387]\tvalidation_0-auc:0.96444\tvalidation_0-rmse:0.18515\tvalidation_1-auc:0.91458\tvalidation_1-rmse:0.21155\n",
      "[388]\tvalidation_0-auc:0.96454\tvalidation_0-rmse:0.18507\tvalidation_1-auc:0.91454\tvalidation_1-rmse:0.21156\n",
      "[389]\tvalidation_0-auc:0.96470\tvalidation_0-rmse:0.18496\tvalidation_1-auc:0.91457\tvalidation_1-rmse:0.21154\n",
      "[390]\tvalidation_0-auc:0.96472\tvalidation_0-rmse:0.18495\tvalidation_1-auc:0.91457\tvalidation_1-rmse:0.21154\n",
      "[391]\tvalidation_0-auc:0.96472\tvalidation_0-rmse:0.18496\tvalidation_1-auc:0.91456\tvalidation_1-rmse:0.21155\n",
      "[392]\tvalidation_0-auc:0.96490\tvalidation_0-rmse:0.18483\tvalidation_1-auc:0.91455\tvalidation_1-rmse:0.21156\n",
      "[393]\tvalidation_0-auc:0.96495\tvalidation_0-rmse:0.18474\tvalidation_1-auc:0.91464\tvalidation_1-rmse:0.21154\n",
      "[394]\tvalidation_0-auc:0.96496\tvalidation_0-rmse:0.18473\tvalidation_1-auc:0.91462\tvalidation_1-rmse:0.21154\n",
      "[395]\tvalidation_0-auc:0.96495\tvalidation_0-rmse:0.18473\tvalidation_1-auc:0.91461\tvalidation_1-rmse:0.21155\n",
      "[396]\tvalidation_0-auc:0.96496\tvalidation_0-rmse:0.18472\tvalidation_1-auc:0.91460\tvalidation_1-rmse:0.21155\n",
      "[397]\tvalidation_0-auc:0.96505\tvalidation_0-rmse:0.18465\tvalidation_1-auc:0.91454\tvalidation_1-rmse:0.21156\n",
      "[398]\tvalidation_0-auc:0.96505\tvalidation_0-rmse:0.18464\tvalidation_1-auc:0.91451\tvalidation_1-rmse:0.21157\n",
      "[399]\tvalidation_0-auc:0.96518\tvalidation_0-rmse:0.18453\tvalidation_1-auc:0.91452\tvalidation_1-rmse:0.21157\n",
      "[400]\tvalidation_0-auc:0.96519\tvalidation_0-rmse:0.18452\tvalidation_1-auc:0.91450\tvalidation_1-rmse:0.21158\n",
      "[401]\tvalidation_0-auc:0.96520\tvalidation_0-rmse:0.18451\tvalidation_1-auc:0.91448\tvalidation_1-rmse:0.21159\n",
      "[402]\tvalidation_0-auc:0.96520\tvalidation_0-rmse:0.18450\tvalidation_1-auc:0.91448\tvalidation_1-rmse:0.21159\n",
      "[403]\tvalidation_0-auc:0.96532\tvalidation_0-rmse:0.18443\tvalidation_1-auc:0.91450\tvalidation_1-rmse:0.21160\n",
      "[404]\tvalidation_0-auc:0.96532\tvalidation_0-rmse:0.18442\tvalidation_1-auc:0.91448\tvalidation_1-rmse:0.21160\n",
      "[405]\tvalidation_0-auc:0.96541\tvalidation_0-rmse:0.18434\tvalidation_1-auc:0.91447\tvalidation_1-rmse:0.21160\n",
      "[406]\tvalidation_0-auc:0.96546\tvalidation_0-rmse:0.18430\tvalidation_1-auc:0.91447\tvalidation_1-rmse:0.21160\n",
      "[407]\tvalidation_0-auc:0.96554\tvalidation_0-rmse:0.18422\tvalidation_1-auc:0.91456\tvalidation_1-rmse:0.21157\n",
      "[408]\tvalidation_0-auc:0.96555\tvalidation_0-rmse:0.18419\tvalidation_1-auc:0.91456\tvalidation_1-rmse:0.21157\n",
      "[409]\tvalidation_0-auc:0.96567\tvalidation_0-rmse:0.18409\tvalidation_1-auc:0.91450\tvalidation_1-rmse:0.21160\n",
      "[410]\tvalidation_0-auc:0.96584\tvalidation_0-rmse:0.18395\tvalidation_1-auc:0.91454\tvalidation_1-rmse:0.21159\n",
      "[411]\tvalidation_0-auc:0.96588\tvalidation_0-rmse:0.18388\tvalidation_1-auc:0.91463\tvalidation_1-rmse:0.21157\n",
      "[412]\tvalidation_0-auc:0.96602\tvalidation_0-rmse:0.18376\tvalidation_1-auc:0.91460\tvalidation_1-rmse:0.21158\n",
      "[413]\tvalidation_0-auc:0.96603\tvalidation_0-rmse:0.18374\tvalidation_1-auc:0.91459\tvalidation_1-rmse:0.21158\n",
      "[414]\tvalidation_0-auc:0.96613\tvalidation_0-rmse:0.18365\tvalidation_1-auc:0.91456\tvalidation_1-rmse:0.21160\n",
      "[415]\tvalidation_0-auc:0.96628\tvalidation_0-rmse:0.18353\tvalidation_1-auc:0.91452\tvalidation_1-rmse:0.21162\n",
      "[416]\tvalidation_0-auc:0.96636\tvalidation_0-rmse:0.18345\tvalidation_1-auc:0.91451\tvalidation_1-rmse:0.21163\n",
      "[417]\tvalidation_0-auc:0.96646\tvalidation_0-rmse:0.18337\tvalidation_1-auc:0.91448\tvalidation_1-rmse:0.21163\n",
      "[418]\tvalidation_0-auc:0.96647\tvalidation_0-rmse:0.18335\tvalidation_1-auc:0.91449\tvalidation_1-rmse:0.21163\n",
      "[419]\tvalidation_0-auc:0.96652\tvalidation_0-rmse:0.18331\tvalidation_1-auc:0.91447\tvalidation_1-rmse:0.21164\n",
      "[420]\tvalidation_0-auc:0.96669\tvalidation_0-rmse:0.18315\tvalidation_1-auc:0.91448\tvalidation_1-rmse:0.21165\n",
      "[421]\tvalidation_0-auc:0.96670\tvalidation_0-rmse:0.18314\tvalidation_1-auc:0.91448\tvalidation_1-rmse:0.21165\n",
      "[422]\tvalidation_0-auc:0.96670\tvalidation_0-rmse:0.18314\tvalidation_1-auc:0.91446\tvalidation_1-rmse:0.21166\n",
      "[423]\tvalidation_0-auc:0.96679\tvalidation_0-rmse:0.18306\tvalidation_1-auc:0.91447\tvalidation_1-rmse:0.21166\n",
      "[424]\tvalidation_0-auc:0.96687\tvalidation_0-rmse:0.18298\tvalidation_1-auc:0.91448\tvalidation_1-rmse:0.21165\n",
      "[425]\tvalidation_0-auc:0.96697\tvalidation_0-rmse:0.18286\tvalidation_1-auc:0.91448\tvalidation_1-rmse:0.21167\n",
      "[426]\tvalidation_0-auc:0.96704\tvalidation_0-rmse:0.18280\tvalidation_1-auc:0.91449\tvalidation_1-rmse:0.21167\n",
      "[427]\tvalidation_0-auc:0.96711\tvalidation_0-rmse:0.18274\tvalidation_1-auc:0.91450\tvalidation_1-rmse:0.21167\n",
      "[428]\tvalidation_0-auc:0.96718\tvalidation_0-rmse:0.18267\tvalidation_1-auc:0.91448\tvalidation_1-rmse:0.21168\n",
      "[429]\tvalidation_0-auc:0.96719\tvalidation_0-rmse:0.18266\tvalidation_1-auc:0.91446\tvalidation_1-rmse:0.21169\n",
      "[430]\tvalidation_0-auc:0.96730\tvalidation_0-rmse:0.18256\tvalidation_1-auc:0.91446\tvalidation_1-rmse:0.21169\n",
      "[431]\tvalidation_0-auc:0.96737\tvalidation_0-rmse:0.18249\tvalidation_1-auc:0.91443\tvalidation_1-rmse:0.21170\n",
      "[432]\tvalidation_0-auc:0.96737\tvalidation_0-rmse:0.18249\tvalidation_1-auc:0.91442\tvalidation_1-rmse:0.21169\n",
      "[433]\tvalidation_0-auc:0.96744\tvalidation_0-rmse:0.18241\tvalidation_1-auc:0.91440\tvalidation_1-rmse:0.21170\n",
      "[434]\tvalidation_0-auc:0.96753\tvalidation_0-rmse:0.18231\tvalidation_1-auc:0.91446\tvalidation_1-rmse:0.21169\n",
      "[435]\tvalidation_0-auc:0.96761\tvalidation_0-rmse:0.18223\tvalidation_1-auc:0.91441\tvalidation_1-rmse:0.21172\n",
      "[436]\tvalidation_0-auc:0.96761\tvalidation_0-rmse:0.18223\tvalidation_1-auc:0.91442\tvalidation_1-rmse:0.21172\n",
      "[437]\tvalidation_0-auc:0.96761\tvalidation_0-rmse:0.18222\tvalidation_1-auc:0.91439\tvalidation_1-rmse:0.21173\n",
      "[438]\tvalidation_0-auc:0.96762\tvalidation_0-rmse:0.18221\tvalidation_1-auc:0.91440\tvalidation_1-rmse:0.21172\n",
      "[439]\tvalidation_0-auc:0.96762\tvalidation_0-rmse:0.18220\tvalidation_1-auc:0.91436\tvalidation_1-rmse:0.21174\n",
      "[440]\tvalidation_0-auc:0.96771\tvalidation_0-rmse:0.18212\tvalidation_1-auc:0.91433\tvalidation_1-rmse:0.21174\n",
      "[441]\tvalidation_0-auc:0.96777\tvalidation_0-rmse:0.18206\tvalidation_1-auc:0.91429\tvalidation_1-rmse:0.21178\n",
      "[442]\tvalidation_0-auc:0.96779\tvalidation_0-rmse:0.18205\tvalidation_1-auc:0.91429\tvalidation_1-rmse:0.21178\n",
      "[443]\tvalidation_0-auc:0.96789\tvalidation_0-rmse:0.18196\tvalidation_1-auc:0.91425\tvalidation_1-rmse:0.21179\n",
      "[444]\tvalidation_0-auc:0.96790\tvalidation_0-rmse:0.18194\tvalidation_1-auc:0.91424\tvalidation_1-rmse:0.21179\n",
      "[445]\tvalidation_0-auc:0.96791\tvalidation_0-rmse:0.18193\tvalidation_1-auc:0.91424\tvalidation_1-rmse:0.21180\n",
      "[446]\tvalidation_0-auc:0.96803\tvalidation_0-rmse:0.18180\tvalidation_1-auc:0.91425\tvalidation_1-rmse:0.21181\n",
      "[447]\tvalidation_0-auc:0.96803\tvalidation_0-rmse:0.18180\tvalidation_1-auc:0.91423\tvalidation_1-rmse:0.21181\n",
      "[448]\tvalidation_0-auc:0.96811\tvalidation_0-rmse:0.18168\tvalidation_1-auc:0.91434\tvalidation_1-rmse:0.21178\n",
      "[449]\tvalidation_0-auc:0.96822\tvalidation_0-rmse:0.18156\tvalidation_1-auc:0.91424\tvalidation_1-rmse:0.21183\n",
      "[450]\tvalidation_0-auc:0.96822\tvalidation_0-rmse:0.18156\tvalidation_1-auc:0.91422\tvalidation_1-rmse:0.21184\n",
      "[451]\tvalidation_0-auc:0.96836\tvalidation_0-rmse:0.18144\tvalidation_1-auc:0.91415\tvalidation_1-rmse:0.21186\n",
      "[452]\tvalidation_0-auc:0.96844\tvalidation_0-rmse:0.18137\tvalidation_1-auc:0.91414\tvalidation_1-rmse:0.21186\n",
      "[453]\tvalidation_0-auc:0.96854\tvalidation_0-rmse:0.18126\tvalidation_1-auc:0.91407\tvalidation_1-rmse:0.21189\n",
      "[454]\tvalidation_0-auc:0.96864\tvalidation_0-rmse:0.18118\tvalidation_1-auc:0.91401\tvalidation_1-rmse:0.21192\n",
      "[455]\tvalidation_0-auc:0.96871\tvalidation_0-rmse:0.18110\tvalidation_1-auc:0.91399\tvalidation_1-rmse:0.21193\n",
      "[456]\tvalidation_0-auc:0.96872\tvalidation_0-rmse:0.18109\tvalidation_1-auc:0.91398\tvalidation_1-rmse:0.21193\n",
      "[457]\tvalidation_0-auc:0.96874\tvalidation_0-rmse:0.18105\tvalidation_1-auc:0.91402\tvalidation_1-rmse:0.21192\n"
     ]
    },
    {
     "name": "stdout",
     "output_type": "stream",
     "text": [
      "[458]\tvalidation_0-auc:0.96874\tvalidation_0-rmse:0.18104\tvalidation_1-auc:0.91402\tvalidation_1-rmse:0.21192\n",
      "[459]\tvalidation_0-auc:0.96888\tvalidation_0-rmse:0.18093\tvalidation_1-auc:0.91399\tvalidation_1-rmse:0.21193\n",
      "[460]\tvalidation_0-auc:0.96895\tvalidation_0-rmse:0.18086\tvalidation_1-auc:0.91396\tvalidation_1-rmse:0.21194\n",
      "[461]\tvalidation_0-auc:0.96901\tvalidation_0-rmse:0.18080\tvalidation_1-auc:0.91392\tvalidation_1-rmse:0.21196\n",
      "[462]\tvalidation_0-auc:0.96901\tvalidation_0-rmse:0.18080\tvalidation_1-auc:0.91390\tvalidation_1-rmse:0.21196\n",
      "[463]\tvalidation_0-auc:0.96905\tvalidation_0-rmse:0.18075\tvalidation_1-auc:0.91392\tvalidation_1-rmse:0.21197\n",
      "[464]\tvalidation_0-auc:0.96904\tvalidation_0-rmse:0.18075\tvalidation_1-auc:0.91393\tvalidation_1-rmse:0.21197\n",
      "[465]\tvalidation_0-auc:0.96905\tvalidation_0-rmse:0.18074\tvalidation_1-auc:0.91392\tvalidation_1-rmse:0.21197\n",
      "[466]\tvalidation_0-auc:0.96905\tvalidation_0-rmse:0.18072\tvalidation_1-auc:0.91393\tvalidation_1-rmse:0.21196\n",
      "[467]\tvalidation_0-auc:0.96920\tvalidation_0-rmse:0.18059\tvalidation_1-auc:0.91394\tvalidation_1-rmse:0.21196\n",
      "[468]\tvalidation_0-auc:0.96919\tvalidation_0-rmse:0.18058\tvalidation_1-auc:0.91394\tvalidation_1-rmse:0.21196\n",
      "[469]\tvalidation_0-auc:0.96928\tvalidation_0-rmse:0.18049\tvalidation_1-auc:0.91395\tvalidation_1-rmse:0.21196\n",
      "[470]\tvalidation_0-auc:0.96928\tvalidation_0-rmse:0.18049\tvalidation_1-auc:0.91396\tvalidation_1-rmse:0.21196\n",
      "[471]\tvalidation_0-auc:0.96928\tvalidation_0-rmse:0.18048\tvalidation_1-auc:0.91396\tvalidation_1-rmse:0.21196\n",
      "[472]\tvalidation_0-auc:0.96937\tvalidation_0-rmse:0.18038\tvalidation_1-auc:0.91397\tvalidation_1-rmse:0.21195\n",
      "[473]\tvalidation_0-auc:0.96947\tvalidation_0-rmse:0.18030\tvalidation_1-auc:0.91396\tvalidation_1-rmse:0.21196\n",
      "[474]\tvalidation_0-auc:0.96949\tvalidation_0-rmse:0.18022\tvalidation_1-auc:0.91404\tvalidation_1-rmse:0.21194\n",
      "[475]\tvalidation_0-auc:0.96949\tvalidation_0-rmse:0.18022\tvalidation_1-auc:0.91404\tvalidation_1-rmse:0.21194\n",
      "[476]\tvalidation_0-auc:0.96958\tvalidation_0-rmse:0.18013\tvalidation_1-auc:0.91404\tvalidation_1-rmse:0.21194\n",
      "[477]\tvalidation_0-auc:0.96961\tvalidation_0-rmse:0.18011\tvalidation_1-auc:0.91405\tvalidation_1-rmse:0.21194\n",
      "[478]\tvalidation_0-auc:0.96968\tvalidation_0-rmse:0.18003\tvalidation_1-auc:0.91398\tvalidation_1-rmse:0.21196\n",
      "[479]\tvalidation_0-auc:0.96974\tvalidation_0-rmse:0.17996\tvalidation_1-auc:0.91403\tvalidation_1-rmse:0.21196\n",
      "[480]\tvalidation_0-auc:0.96979\tvalidation_0-rmse:0.17988\tvalidation_1-auc:0.91411\tvalidation_1-rmse:0.21192\n",
      "[481]\tvalidation_0-auc:0.96986\tvalidation_0-rmse:0.17982\tvalidation_1-auc:0.91413\tvalidation_1-rmse:0.21192\n",
      "[482]\tvalidation_0-auc:0.96986\tvalidation_0-rmse:0.17980\tvalidation_1-auc:0.91414\tvalidation_1-rmse:0.21193\n",
      "[483]\tvalidation_0-auc:0.96987\tvalidation_0-rmse:0.17980\tvalidation_1-auc:0.91413\tvalidation_1-rmse:0.21192\n",
      "[484]\tvalidation_0-auc:0.96992\tvalidation_0-rmse:0.17973\tvalidation_1-auc:0.91414\tvalidation_1-rmse:0.21191\n",
      "[485]\tvalidation_0-auc:0.96996\tvalidation_0-rmse:0.17966\tvalidation_1-auc:0.91419\tvalidation_1-rmse:0.21191\n",
      "[486]\tvalidation_0-auc:0.97003\tvalidation_0-rmse:0.17960\tvalidation_1-auc:0.91412\tvalidation_1-rmse:0.21194\n",
      "[487]\tvalidation_0-auc:0.97004\tvalidation_0-rmse:0.17954\tvalidation_1-auc:0.91420\tvalidation_1-rmse:0.21193\n",
      "[488]\tvalidation_0-auc:0.97005\tvalidation_0-rmse:0.17953\tvalidation_1-auc:0.91420\tvalidation_1-rmse:0.21192\n",
      "[489]\tvalidation_0-auc:0.97005\tvalidation_0-rmse:0.17953\tvalidation_1-auc:0.91419\tvalidation_1-rmse:0.21193\n",
      "[490]\tvalidation_0-auc:0.97011\tvalidation_0-rmse:0.17946\tvalidation_1-auc:0.91418\tvalidation_1-rmse:0.21194\n",
      "[491]\tvalidation_0-auc:0.97014\tvalidation_0-rmse:0.17942\tvalidation_1-auc:0.91417\tvalidation_1-rmse:0.21194\n",
      "[492]\tvalidation_0-auc:0.97022\tvalidation_0-rmse:0.17933\tvalidation_1-auc:0.91424\tvalidation_1-rmse:0.21193\n",
      "[493]\tvalidation_0-auc:0.97032\tvalidation_0-rmse:0.17923\tvalidation_1-auc:0.91425\tvalidation_1-rmse:0.21192\n",
      "[494]\tvalidation_0-auc:0.97033\tvalidation_0-rmse:0.17923\tvalidation_1-auc:0.91426\tvalidation_1-rmse:0.21192\n",
      "[495]\tvalidation_0-auc:0.97037\tvalidation_0-rmse:0.17915\tvalidation_1-auc:0.91433\tvalidation_1-rmse:0.21191\n",
      "[496]\tvalidation_0-auc:0.97037\tvalidation_0-rmse:0.17916\tvalidation_1-auc:0.91433\tvalidation_1-rmse:0.21191\n",
      "[497]\tvalidation_0-auc:0.97042\tvalidation_0-rmse:0.17909\tvalidation_1-auc:0.91434\tvalidation_1-rmse:0.21190\n",
      "[498]\tvalidation_0-auc:0.97059\tvalidation_0-rmse:0.17894\tvalidation_1-auc:0.91431\tvalidation_1-rmse:0.21192\n",
      "[499]\tvalidation_0-auc:0.97059\tvalidation_0-rmse:0.17893\tvalidation_1-auc:0.91431\tvalidation_1-rmse:0.21193\n",
      "Accuracy: 0.940587955\n",
      "loss: 0.059412045\n"
     ]
    },
    {
     "data": {
      "image/png": "[encoded data removed]",
      "text/plain": [
       "<Figure size 792x432 with 2 Axes>"
      ]
     },
     "metadata": {
      "needs_background": "light"
     },
     "output_type": "display_data"
    }
   ],
   "source": [
    "import tensorflow as tf\n",
    "import matplotlib.pyplot as plt\n",
    "import pandas as pd\n",
    "import numpy as np\n",
    "import xgboost as xgb\n",
    "from sklearn import metrics\n",
    "from sklearn.metrics import accuracy_score, hamming_loss\n",
    "from xgboost import XGBClassifier\n",
    "from matplotlib import pyplot\n",
    "\n",
    "X_train = RX_train\n",
    "y_train = Ry_train\n",
    "X_test = RX_test\n",
    "y_test = Ry_test\n",
    "\n",
    "clf = xgb.XGBClassifier(n_estimators=500,max_depth=11,\n",
    "      learning_rate=0.05,subsample=0.5,colsample_bytree=0.5,missing=None,\n",
    "      random_state=2020,tree_method='gpu_hist') \n",
    "\n",
    "# define the datasets to evaluate each iteration\n",
    "evalset = [(X_train, y_train), (X_test,y_test)]\n",
    "# fit the model\n",
    "clf.fit(X_train, y_train, eval_metric=['auc','rmse'], eval_set=evalset)\n",
    "# evaluate performance\n",
    "yhat = clf.predict(X_test)\n",
    "\n",
    "score = accuracy_score(y_test, yhat)\n",
    "loss = hamming_loss(y_test, yhat)\n",
    "\n",
    "print('Accuracy: %.9f' % score)\n",
    "print('loss: %.9f' % loss)\n",
    "# retrieve performance metrics\n",
    "results = clf.evals_result()\n",
    "# plot learning curves\n",
    "fig = plt.subplots(1,2,figsize=(11,6))\n",
    "\n",
    "plt.subplot(121)\n",
    "plt.plot(results['validation_0']['auc'], label='train_accuracy')\n",
    "plt.plot(results['validation_1']['auc'], label='test_accuracy')\n",
    "plt.xlabel('iteration')\n",
    "plt.ylabel('auc')\n",
    "plt.legend()\n",
    "\n",
    "plt.subplot(122)\n",
    "plt.plot(results['validation_0']['rmse'], label='train_loss')\n",
    "plt.plot(results['validation_1']['rmse'], label='test_loss')\n",
    "plt.xlabel('iteration')\n",
    "plt.ylabel('rmse')\n",
    "plt.legend()\n",
    "\n",
    "plt.show()"
   ]
  },
  {
   "cell_type": "code",
   "execution_count": 53,
   "metadata": {
    "scrolled": false
   },
   "outputs": [
    {
     "name": "stderr",
     "output_type": "stream",
     "text": [
      "/opt/conda/lib/python3.9/site-packages/lightgbm/sklearn.py:598: UserWarning: 'silent' argument is deprecated and will be removed in a future release of LightGBM. Pass 'verbose' parameter via keyword arguments instead.\n",
      "  _log_warning(\"'silent' argument is deprecated and will be removed in a future release of LightGBM. \"\n"
     ]
    },
    {
     "name": "stdout",
     "output_type": "stream",
     "text": [
      "[1]\ttraining's auc: 0.997692\ttraining's rmse: 0.0675033\ttraining's binary_logloss: 0.0216922\tvalid_1's auc: 0.997218\tvalid_1's rmse: 0.0704694\tvalid_1's binary_logloss: 0.0238887\n",
      "[2]\ttraining's auc: 0.955813\ttraining's rmse: 0.0661068\ttraining's binary_logloss: 0.0207814\tvalid_1's auc: 0.97694\tvalid_1's rmse: 0.0674229\tvalid_1's binary_logloss: 0.020906\n",
      "[3]\ttraining's auc: 0.995132\ttraining's rmse: 0.0636041\ttraining's binary_logloss: 0.0208934\tvalid_1's auc: 0.991003\tvalid_1's rmse: 0.0668712\tvalid_1's binary_logloss: 0.0246508\n",
      "[4]\ttraining's auc: 0.991669\ttraining's rmse: 0.0624817\ttraining's binary_logloss: 0.0193449\tvalid_1's auc: 0.982924\tvalid_1's rmse: 0.0660259\tvalid_1's binary_logloss: 0.0230096\n",
      "[5]\ttraining's auc: 0.990847\ttraining's rmse: 0.061285\ttraining's binary_logloss: 0.0183863\tvalid_1's auc: 0.982932\tvalid_1's rmse: 0.0650657\tvalid_1's binary_logloss: 0.0220426\n",
      "[6]\ttraining's auc: 0.990916\ttraining's rmse: 0.0601759\ttraining's binary_logloss: 0.0174754\tvalid_1's auc: 0.982991\tvalid_1's rmse: 0.0642718\tvalid_1's binary_logloss: 0.0212439\n",
      "[7]\ttraining's auc: 0.990906\ttraining's rmse: 0.0592248\ttraining's binary_logloss: 0.0166068\tvalid_1's auc: 0.982946\tvalid_1's rmse: 0.0636556\tvalid_1's binary_logloss: 0.0205044\n",
      "[8]\ttraining's auc: 0.990944\ttraining's rmse: 0.0583251\ttraining's binary_logloss: 0.0159903\tvalid_1's auc: 0.982949\tvalid_1's rmse: 0.0631094\tvalid_1's binary_logloss: 0.019957\n",
      "[9]\ttraining's auc: 0.99099\ttraining's rmse: 0.0574695\ttraining's binary_logloss: 0.0154397\tvalid_1's auc: 0.982946\tvalid_1's rmse: 0.0626723\tvalid_1's binary_logloss: 0.0194928\n",
      "[10]\ttraining's auc: 0.991047\ttraining's rmse: 0.0567566\ttraining's binary_logloss: 0.0149888\tvalid_1's auc: 0.982975\tvalid_1's rmse: 0.0621742\tvalid_1's binary_logloss: 0.0190658\n",
      "[11]\ttraining's auc: 0.991125\ttraining's rmse: 0.0560446\ttraining's binary_logloss: 0.014358\tvalid_1's auc: 0.98297\tvalid_1's rmse: 0.0617958\tvalid_1's binary_logloss: 0.0183477\n",
      "[12]\ttraining's auc: 0.99118\ttraining's rmse: 0.0555585\ttraining's binary_logloss: 0.0139378\tvalid_1's auc: 0.982985\tvalid_1's rmse: 0.0615512\tvalid_1's binary_logloss: 0.0179739\n",
      "[13]\ttraining's auc: 0.991655\ttraining's rmse: 0.0551484\ttraining's binary_logloss: 0.0136057\tvalid_1's auc: 0.983007\tvalid_1's rmse: 0.0613459\tvalid_1's binary_logloss: 0.0177033\n",
      "[14]\ttraining's auc: 0.992037\ttraining's rmse: 0.0548185\ttraining's binary_logloss: 0.0133363\tvalid_1's auc: 0.983023\tvalid_1's rmse: 0.0611721\tvalid_1's binary_logloss: 0.0174572\n",
      "[15]\ttraining's auc: 0.992941\ttraining's rmse: 0.0546027\ttraining's binary_logloss: 0.0127645\tvalid_1's auc: 0.983031\tvalid_1's rmse: 0.0611328\tvalid_1's binary_logloss: 0.0171048\n",
      "[16]\ttraining's auc: 0.99298\ttraining's rmse: 0.0542818\ttraining's binary_logloss: 0.0124039\tvalid_1's auc: 0.983073\tvalid_1's rmse: 0.060978\tvalid_1's binary_logloss: 0.0168913\n",
      "[17]\ttraining's auc: 0.993027\ttraining's rmse: 0.0539077\ttraining's binary_logloss: 0.0120011\tvalid_1's auc: 0.983131\tvalid_1's rmse: 0.0609034\tvalid_1's binary_logloss: 0.0167261\n",
      "[18]\ttraining's auc: 0.993051\ttraining's rmse: 0.0536407\ttraining's binary_logloss: 0.0117289\tvalid_1's auc: 0.984956\tvalid_1's rmse: 0.0608498\tvalid_1's binary_logloss: 0.0165773\n",
      "[19]\ttraining's auc: 0.993081\ttraining's rmse: 0.0533774\ttraining's binary_logloss: 0.0115368\tvalid_1's auc: 0.985368\tvalid_1's rmse: 0.0607831\tvalid_1's binary_logloss: 0.016444\n",
      "[20]\ttraining's auc: 0.993129\ttraining's rmse: 0.0531667\ttraining's binary_logloss: 0.0112971\tvalid_1's auc: 0.985977\tvalid_1's rmse: 0.060738\tvalid_1's binary_logloss: 0.0162255\n",
      "[21]\ttraining's auc: 0.99316\ttraining's rmse: 0.0529216\ttraining's binary_logloss: 0.0111346\tvalid_1's auc: 0.98699\tvalid_1's rmse: 0.0606492\tvalid_1's binary_logloss: 0.0160969\n",
      "[22]\ttraining's auc: 0.993192\ttraining's rmse: 0.0526943\ttraining's binary_logloss: 0.0109952\tvalid_1's auc: 0.987026\tvalid_1's rmse: 0.060599\tvalid_1's binary_logloss: 0.0159984\n",
      "[23]\ttraining's auc: 0.993223\ttraining's rmse: 0.0524756\ttraining's binary_logloss: 0.0108678\tvalid_1's auc: 0.987074\tvalid_1's rmse: 0.0604886\tvalid_1's binary_logloss: 0.0158802\n",
      "[24]\ttraining's auc: 0.994087\ttraining's rmse: 0.0523024\ttraining's binary_logloss: 0.0107467\tvalid_1's auc: 0.988988\tvalid_1's rmse: 0.0604609\tvalid_1's binary_logloss: 0.0157953\n",
      "[25]\ttraining's auc: 0.994994\ttraining's rmse: 0.0521432\ttraining's binary_logloss: 0.0106347\tvalid_1's auc: 0.989141\tvalid_1's rmse: 0.0604193\tvalid_1's binary_logloss: 0.0157148\n",
      "[26]\ttraining's auc: 0.995935\ttraining's rmse: 0.0520094\ttraining's binary_logloss: 0.0105281\tvalid_1's auc: 0.990246\tvalid_1's rmse: 0.0605583\tvalid_1's binary_logloss: 0.0156929\n",
      "[27]\ttraining's auc: 0.996654\ttraining's rmse: 0.0517725\ttraining's binary_logloss: 0.0104157\tvalid_1's auc: 0.991066\tvalid_1's rmse: 0.0604776\tvalid_1's binary_logloss: 0.0156285\n",
      "[28]\ttraining's auc: 0.996713\ttraining's rmse: 0.0515989\ttraining's binary_logloss: 0.0103137\tvalid_1's auc: 0.992901\tvalid_1's rmse: 0.0604839\tvalid_1's binary_logloss: 0.0155633\n",
      "[29]\ttraining's auc: 0.996752\ttraining's rmse: 0.0513964\ttraining's binary_logloss: 0.0102217\tvalid_1's auc: 0.992994\tvalid_1's rmse: 0.0604458\tvalid_1's binary_logloss: 0.0155088\n",
      "[30]\ttraining's auc: 0.996791\ttraining's rmse: 0.0512305\ttraining's binary_logloss: 0.0101415\tvalid_1's auc: 0.99308\tvalid_1's rmse: 0.0604271\tvalid_1's binary_logloss: 0.0154523\n",
      "[31]\ttraining's auc: 0.996812\ttraining's rmse: 0.0510416\ttraining's binary_logloss: 0.010061\tvalid_1's auc: 0.993079\tvalid_1's rmse: 0.0604219\tvalid_1's binary_logloss: 0.0154093\n",
      "[32]\ttraining's auc: 0.996855\ttraining's rmse: 0.0508784\ttraining's binary_logloss: 0.00997631\tvalid_1's auc: 0.993141\tvalid_1's rmse: 0.0604645\tvalid_1's binary_logloss: 0.0153811\n",
      "[33]\ttraining's auc: 0.996882\ttraining's rmse: 0.0506989\ttraining's binary_logloss: 0.00990339\tvalid_1's auc: 0.993156\tvalid_1's rmse: 0.06039\tvalid_1's binary_logloss: 0.0153386\n",
      "[34]\ttraining's auc: 0.996896\ttraining's rmse: 0.0505904\ttraining's binary_logloss: 0.00984771\tvalid_1's auc: 0.993171\tvalid_1's rmse: 0.0603324\tvalid_1's binary_logloss: 0.0152866\n",
      "[35]\ttraining's auc: 0.996915\ttraining's rmse: 0.050401\ttraining's binary_logloss: 0.00977883\tvalid_1's auc: 0.993165\tvalid_1's rmse: 0.0603744\tvalid_1's binary_logloss: 0.0152753\n",
      "[36]\ttraining's auc: 0.99696\ttraining's rmse: 0.050258\ttraining's binary_logloss: 0.00967523\tvalid_1's auc: 0.993198\tvalid_1's rmse: 0.0603596\tvalid_1's binary_logloss: 0.0152069\n",
      "[37]\ttraining's auc: 0.997118\ttraining's rmse: 0.0501133\ttraining's binary_logloss: 0.00961117\tvalid_1's auc: 0.993241\tvalid_1's rmse: 0.0603087\tvalid_1's binary_logloss: 0.0151679\n",
      "[38]\ttraining's auc: 0.99781\ttraining's rmse: 0.049995\ttraining's binary_logloss: 0.00953107\tvalid_1's auc: 0.993262\tvalid_1's rmse: 0.0603453\tvalid_1's binary_logloss: 0.0151289\n",
      "[39]\ttraining's auc: 0.985631\ttraining's rmse: 0.0502009\ttraining's binary_logloss: 0.010898\tvalid_1's auc: 0.982954\tvalid_1's rmse: 0.0601748\tvalid_1's binary_logloss: 0.0151791\n",
      "[40]\ttraining's auc: 0.985564\ttraining's rmse: 0.0508905\ttraining's binary_logloss: 0.011118\tvalid_1's auc: 0.982951\tvalid_1's rmse: 0.0605996\tvalid_1's binary_logloss: 0.0153019\n",
      "[41]\ttraining's auc: 0.985607\ttraining's rmse: 0.0504668\ttraining's binary_logloss: 0.0109725\tvalid_1's auc: 0.982964\tvalid_1's rmse: 0.0604677\tvalid_1's binary_logloss: 0.015233\n",
      "[42]\ttraining's auc: 0.985634\ttraining's rmse: 0.0502339\ttraining's binary_logloss: 0.0109121\tvalid_1's auc: 0.982979\tvalid_1's rmse: 0.0603844\tvalid_1's binary_logloss: 0.0152056\n",
      "[43]\ttraining's auc: 0.98566\ttraining's rmse: 0.0500235\ttraining's binary_logloss: 0.0108553\tvalid_1's auc: 0.982982\tvalid_1's rmse: 0.0603638\tvalid_1's binary_logloss: 0.0151939\n",
      "[44]\ttraining's auc: 0.985686\ttraining's rmse: 0.0498174\ttraining's binary_logloss: 0.0108037\tvalid_1's auc: 0.982988\tvalid_1's rmse: 0.0603619\tvalid_1's binary_logloss: 0.015191\n",
      "[45]\ttraining's auc: 0.985717\ttraining's rmse: 0.049587\ttraining's binary_logloss: 0.0107449\tvalid_1's auc: 0.983002\tvalid_1's rmse: 0.0603237\tvalid_1's binary_logloss: 0.015185\n",
      "[46]\ttraining's auc: 0.98659\ttraining's rmse: 0.0493949\ttraining's binary_logloss: 0.010677\tvalid_1's auc: 0.982989\tvalid_1's rmse: 0.0604247\tvalid_1's binary_logloss: 0.0152376\n",
      "[47]\ttraining's auc: 0.986625\ttraining's rmse: 0.0491445\ttraining's binary_logloss: 0.0106447\tvalid_1's auc: 0.982977\tvalid_1's rmse: 0.0606157\tvalid_1's binary_logloss: 0.0155022\n",
      "[48]\ttraining's auc: 0.986656\ttraining's rmse: 0.0489555\ttraining's binary_logloss: 0.0105748\tvalid_1's auc: 0.98298\tvalid_1's rmse: 0.0607069\tvalid_1's binary_logloss: 0.015597\n",
      "[49]\ttraining's auc: 0.98667\ttraining's rmse: 0.0488255\ttraining's binary_logloss: 0.0105403\tvalid_1's auc: 0.982986\tvalid_1's rmse: 0.060704\tvalid_1's binary_logloss: 0.0155908\n"
     ]
    },
    {
     "name": "stdout",
     "output_type": "stream",
     "text": [
      "[50]\ttraining's auc: 0.990784\ttraining's rmse: 0.0512538\ttraining's binary_logloss: 0.0159658\tvalid_1's auc: 0.984769\tvalid_1's rmse: 0.0628077\tvalid_1's binary_logloss: 0.0217557\n",
      "[51]\ttraining's auc: 0.991027\ttraining's rmse: 0.0488591\ttraining's binary_logloss: 0.0109396\tvalid_1's auc: 0.98499\tvalid_1's rmse: 0.0610847\tvalid_1's binary_logloss: 0.0175038\n",
      "[52]\ttraining's auc: 0.991066\ttraining's rmse: 0.0484837\ttraining's binary_logloss: 0.0099689\tvalid_1's auc: 0.985011\tvalid_1's rmse: 0.0609508\tvalid_1's binary_logloss: 0.0170082\n",
      "[53]\ttraining's auc: 0.991098\ttraining's rmse: 0.0481919\ttraining's binary_logloss: 0.00938825\tvalid_1's auc: 0.985033\tvalid_1's rmse: 0.0609127\tvalid_1's binary_logloss: 0.016995\n",
      "[54]\ttraining's auc: 0.991116\ttraining's rmse: 0.0480468\ttraining's binary_logloss: 0.00935319\tvalid_1's auc: 0.985034\tvalid_1's rmse: 0.0609233\tvalid_1's binary_logloss: 0.0169928\n",
      "[55]\ttraining's auc: 0.991053\ttraining's rmse: 0.0486985\ttraining's binary_logloss: 0.00956076\tvalid_1's auc: 0.984928\tvalid_1's rmse: 0.0615657\tvalid_1's binary_logloss: 0.0172165\n",
      "[56]\ttraining's auc: 0.990918\ttraining's rmse: 0.0501439\ttraining's binary_logloss: 0.0154672\tvalid_1's auc: 0.984757\tvalid_1's rmse: 0.0630602\tvalid_1's binary_logloss: 0.0239647\n",
      "[57]\ttraining's auc: 0.990958\ttraining's rmse: 0.0498742\ttraining's binary_logloss: 0.0143393\tvalid_1's auc: 0.984798\tvalid_1's rmse: 0.0628052\tvalid_1's binary_logloss: 0.0226143\n",
      "[58]\ttraining's auc: 0.991088\ttraining's rmse: 0.0485212\ttraining's binary_logloss: 0.0106687\tvalid_1's auc: 0.98491\tvalid_1's rmse: 0.0619787\tvalid_1's binary_logloss: 0.0190766\n",
      "[59]\ttraining's auc: 0.991144\ttraining's rmse: 0.0479664\ttraining's binary_logloss: 0.00935738\tvalid_1's auc: 0.982939\tvalid_1's rmse: 0.0615648\tvalid_1's binary_logloss: 0.018104\n",
      "[60]\ttraining's auc: 0.991014\ttraining's rmse: 0.0493159\ttraining's binary_logloss: 0.0143038\tvalid_1's auc: 0.98275\tvalid_1's rmse: 0.0631122\tvalid_1's binary_logloss: 0.0248729\n",
      "[61]\ttraining's auc: 0.991168\ttraining's rmse: 0.0477379\ttraining's binary_logloss: 0.00930199\tvalid_1's auc: 0.982957\tvalid_1's rmse: 0.0615132\tvalid_1's binary_logloss: 0.0180854\n",
      "[62]\ttraining's auc: 0.991188\ttraining's rmse: 0.0475449\ttraining's binary_logloss: 0.00925123\tvalid_1's auc: 0.982966\tvalid_1's rmse: 0.0614897\tvalid_1's binary_logloss: 0.0180759\n",
      "[63]\ttraining's auc: 0.991203\ttraining's rmse: 0.0474247\ttraining's binary_logloss: 0.00922018\tvalid_1's auc: 0.982973\tvalid_1's rmse: 0.0614795\tvalid_1's binary_logloss: 0.0180615\n",
      "[64]\ttraining's auc: 0.991218\ttraining's rmse: 0.0472838\ttraining's binary_logloss: 0.00917627\tvalid_1's auc: 0.982995\tvalid_1's rmse: 0.0614393\tvalid_1's binary_logloss: 0.0180444\n",
      "[65]\ttraining's auc: 0.991226\ttraining's rmse: 0.0471815\ttraining's binary_logloss: 0.00915087\tvalid_1's auc: 0.983011\tvalid_1's rmse: 0.0613954\tvalid_1's binary_logloss: 0.0180313\n",
      "[66]\ttraining's auc: 0.991195\ttraining's rmse: 0.0475341\ttraining's binary_logloss: 0.0093076\tvalid_1's auc: 0.982955\tvalid_1's rmse: 0.0618558\tvalid_1's binary_logloss: 0.0182761\n",
      "[67]\ttraining's auc: 0.991177\ttraining's rmse: 0.0476978\ttraining's binary_logloss: 0.0110133\tvalid_1's auc: 0.980919\tvalid_1's rmse: 0.0622076\tvalid_1's binary_logloss: 0.0207031\n",
      "[68]\ttraining's auc: 0.991238\ttraining's rmse: 0.0470938\ttraining's binary_logloss: 0.00913787\tvalid_1's auc: 0.981008\tvalid_1's rmse: 0.0616442\tvalid_1's binary_logloss: 0.018281\n",
      "[69]\ttraining's auc: 0.991215\ttraining's rmse: 0.0473109\ttraining's binary_logloss: 0.00938142\tvalid_1's auc: 0.98101\tvalid_1's rmse: 0.0616925\tvalid_1's binary_logloss: 0.0182974\n",
      "[70]\ttraining's auc: 0.991231\ttraining's rmse: 0.0471319\ttraining's binary_logloss: 0.00927113\tvalid_1's auc: 0.981039\tvalid_1's rmse: 0.061613\tvalid_1's binary_logloss: 0.0182662\n",
      "[71]\ttraining's auc: 0.991107\ttraining's rmse: 0.0484924\ttraining's binary_logloss: 0.0143256\tvalid_1's auc: 0.980943\tvalid_1's rmse: 0.0626105\tvalid_1's binary_logloss: 0.0226154\n",
      "[72]\ttraining's auc: 0.990258\ttraining's rmse: 0.0483851\ttraining's binary_logloss: 0.0141432\tvalid_1's auc: 0.980971\tvalid_1's rmse: 0.0625915\tvalid_1's binary_logloss: 0.0223306\n",
      "[73]\ttraining's auc: 0.990277\ttraining's rmse: 0.0481726\ttraining's binary_logloss: 0.0127962\tvalid_1's auc: 0.981013\tvalid_1's rmse: 0.0624487\tvalid_1's binary_logloss: 0.021135\n",
      "[74]\ttraining's auc: 0.990079\ttraining's rmse: 0.0501893\ttraining's binary_logloss: 0.0209119\tvalid_1's auc: 0.980925\tvalid_1's rmse: 0.0633153\tvalid_1's binary_logloss: 0.0253925\n",
      "[75]\ttraining's auc: 0.989461\ttraining's rmse: 0.0477444\ttraining's binary_logloss: 0.0106867\tvalid_1's auc: 0.981122\tvalid_1's rmse: 0.0618709\tvalid_1's binary_logloss: 0.0190737\n",
      "[76]\ttraining's auc: 0.989476\ttraining's rmse: 0.0477008\ttraining's binary_logloss: 0.0114685\tvalid_1's auc: 0.98104\tvalid_1's rmse: 0.0627819\tvalid_1's binary_logloss: 0.0218778\n",
      "[77]\ttraining's auc: 0.989566\ttraining's rmse: 0.0467482\ttraining's binary_logloss: 0.00963319\tvalid_1's auc: 0.981116\tvalid_1's rmse: 0.062185\tvalid_1's binary_logloss: 0.0205144\n",
      "[78]\ttraining's auc: 0.989594\ttraining's rmse: 0.0464898\ttraining's binary_logloss: 0.00926932\tvalid_1's auc: 0.981167\tvalid_1's rmse: 0.0619452\tvalid_1's binary_logloss: 0.0198763\n",
      "[79]\ttraining's auc: 0.989601\ttraining's rmse: 0.0464268\ttraining's binary_logloss: 0.00925062\tvalid_1's auc: 0.981171\tvalid_1's rmse: 0.0619882\tvalid_1's binary_logloss: 0.0198736\n",
      "[80]\ttraining's auc: 0.989385\ttraining's rmse: 0.048724\ttraining's binary_logloss: 0.017105\tvalid_1's auc: 0.981014\tvalid_1's rmse: 0.0633312\tvalid_1's binary_logloss: 0.0256681\n",
      "[81]\ttraining's auc: 0.989622\ttraining's rmse: 0.0463161\ttraining's binary_logloss: 0.00921695\tvalid_1's auc: 0.979171\tvalid_1's rmse: 0.0620697\tvalid_1's binary_logloss: 0.0203223\n",
      "[82]\ttraining's auc: 0.989633\ttraining's rmse: 0.046191\ttraining's binary_logloss: 0.00917428\tvalid_1's auc: 0.979178\tvalid_1's rmse: 0.06206\tvalid_1's binary_logloss: 0.0203455\n",
      "[83]\ttraining's auc: 0.989514\ttraining's rmse: 0.0474819\ttraining's binary_logloss: 0.0124801\tvalid_1's auc: 0.979071\tvalid_1's rmse: 0.0629407\tvalid_1's binary_logloss: 0.0230797\n",
      "[84]\ttraining's auc: 0.989642\ttraining's rmse: 0.046195\ttraining's binary_logloss: 0.00917704\tvalid_1's auc: 0.979208\tvalid_1's rmse: 0.0619592\tvalid_1's binary_logloss: 0.0197333\n",
      "[85]\ttraining's auc: 0.989655\ttraining's rmse: 0.0460645\ttraining's binary_logloss: 0.00913307\tvalid_1's auc: 0.97922\tvalid_1's rmse: 0.0618918\tvalid_1's binary_logloss: 0.0197\n",
      "[86]\ttraining's auc: 0.989783\ttraining's rmse: 0.0534532\ttraining's binary_logloss: 0.0343808\tvalid_1's auc: 0.978628\tvalid_1's rmse: 0.0666334\tvalid_1's binary_logloss: 0.0409675\n",
      "[87]\ttraining's auc: 0.990499\ttraining's rmse: 0.0465622\ttraining's binary_logloss: 0.0108031\tvalid_1's auc: 0.97717\tvalid_1's rmse: 0.0627437\tvalid_1's binary_logloss: 0.0233072\n",
      "[88]\ttraining's auc: 0.990564\ttraining's rmse: 0.0460582\ttraining's binary_logloss: 0.00924036\tvalid_1's auc: 0.977233\tvalid_1's rmse: 0.0625053\tvalid_1's binary_logloss: 0.0225684\n",
      "[89]\ttraining's auc: 0.990596\ttraining's rmse: 0.0457756\ttraining's binary_logloss: 0.00901934\tvalid_1's auc: 0.977253\tvalid_1's rmse: 0.062468\tvalid_1's binary_logloss: 0.0226064\n",
      "[90]\ttraining's auc: 0.990607\ttraining's rmse: 0.0456641\ttraining's binary_logloss: 0.00899279\tvalid_1's auc: 0.977252\tvalid_1's rmse: 0.0624915\tvalid_1's binary_logloss: 0.0226022\n",
      "[91]\ttraining's auc: 0.990614\ttraining's rmse: 0.0455763\ttraining's binary_logloss: 0.00897172\tvalid_1's auc: 0.977253\tvalid_1's rmse: 0.0625183\tvalid_1's binary_logloss: 0.0226019\n",
      "[92]\ttraining's auc: 0.990236\ttraining's rmse: 0.0496462\ttraining's binary_logloss: 0.0223562\tvalid_1's auc: 0.976866\tvalid_1's rmse: 0.0655597\tvalid_1's binary_logloss: 0.0357988\n",
      "[93]\ttraining's auc: 0.990769\ttraining's rmse: 0.0456531\ttraining's binary_logloss: 0.00969648\tvalid_1's auc: 0.977537\tvalid_1's rmse: 0.0626785\tvalid_1's binary_logloss: 0.0231899\n",
      "[94]\ttraining's auc: 0.990799\ttraining's rmse: 0.0453986\ttraining's binary_logloss: 0.00910177\tvalid_1's auc: 0.975606\tvalid_1's rmse: 0.0626614\tvalid_1's binary_logloss: 0.0227205\n",
      "[95]\ttraining's auc: 0.99082\ttraining's rmse: 0.045213\ttraining's binary_logloss: 0.00887957\tvalid_1's auc: 0.975643\tvalid_1's rmse: 0.0625516\tvalid_1's binary_logloss: 0.0226823\n"
     ]
    },
    {
     "name": "stdout",
     "output_type": "stream",
     "text": [
      "[96]\ttraining's auc: 0.990827\ttraining's rmse: 0.0451169\ttraining's binary_logloss: 0.00885727\tvalid_1's auc: 0.975655\tvalid_1's rmse: 0.0625285\tvalid_1's binary_logloss: 0.022666\n",
      "[97]\ttraining's auc: 0.990834\ttraining's rmse: 0.045055\ttraining's binary_logloss: 0.00879911\tvalid_1's auc: 0.975665\tvalid_1's rmse: 0.0625353\tvalid_1's binary_logloss: 0.0226598\n",
      "[98]\ttraining's auc: 0.990846\ttraining's rmse: 0.0449518\ttraining's binary_logloss: 0.00876884\tvalid_1's auc: 0.975667\tvalid_1's rmse: 0.0626\tvalid_1's binary_logloss: 0.0227101\n",
      "[99]\ttraining's auc: 0.990858\ttraining's rmse: 0.0448489\ttraining's binary_logloss: 0.00875037\tvalid_1's auc: 0.97565\tvalid_1's rmse: 0.0626908\tvalid_1's binary_logloss: 0.0227521\n",
      "[100]\ttraining's auc: 0.990877\ttraining's rmse: 0.0446363\ttraining's binary_logloss: 0.00867496\tvalid_1's auc: 0.975664\tvalid_1's rmse: 0.0626772\tvalid_1's binary_logloss: 0.0227304\n",
      "Accuracy: 0.994170975\n",
      "loss: 0.005829025\n"
     ]
    },
    {
     "data": {
      "text/plain": [
       "<AxesSubplot:title={'center':'Metric during training'}, xlabel='Iterations', ylabel='rmse'>"
      ]
     },
     "execution_count": 53,
     "metadata": {},
     "output_type": "execute_result"
    },
    {
     "data": {
      "image/png": "[encoded data removed]",
      "text/plain": [
       "<Figure size 792x432 with 2 Axes>"
      ]
     },
     "metadata": {
      "needs_background": "light"
     },
     "output_type": "display_data"
    }
   ],
   "source": [
    "import lightgbm as lgb\n",
    "import pandas as pd\n",
    "import matplotlib.pyplot as plt\n",
    "from sklearn.metrics import accuracy_score,hamming_loss\n",
    "from sklearn import metrics\n",
    "\n",
    "X_train = CX_train\n",
    "y_train = Cy_train\n",
    "X_test = CCX_test\n",
    "y_test = CCy_test\n",
    " \n",
    "gbm = lgb.LGBMClassifier(boosting_type='gbdt',\n",
    "     colsample_bytree=1,learning_rate=0.1,max_depth=-1,\n",
    "     min_child_samples=20,min_child_weight=0.001,min_split_gain=0,\n",
    "     n_estimators=100,n_jobs=-1,num_leaves=31,objective=None,\n",
    "     random_state=0,reg_alpha=0.0,reg_lambda=0.0,silent=True,subsample=1.0,\n",
    "     subsample_for_bin=4000,subsample_freq=0,\n",
    "     verbosity=-1)\n",
    "\n",
    "evalset = [(X_train, y_train), (X_test,y_test)]\n",
    "\n",
    "gbm.fit(X_train, y_train, eval_metric=['auc','rmse'], eval_set=evalset)\n",
    "\n",
    "yhat = gbm.predict(X_test)\n",
    "score = accuracy_score(y_test, yhat)\n",
    "loss = hamming_loss(y_test, yhat)\n",
    "print('Accuracy: %.9f' % score)\n",
    "print('loss: %.9f' % loss)\n",
    "fig,ax=plt.subplots(1,2,figsize=(11,6))\n",
    "lgb.plot_metric(gbm,'auc',ax=ax[0])\n",
    "lgb.plot_metric(gbm,'rmse',ax=ax[1])"
   ]
  },
  {
   "cell_type": "code",
   "execution_count": 19,
   "metadata": {},
   "outputs": [
    {
     "name": "stdout",
     "output_type": "stream",
     "text": [
      "Requirement already satisfied: opencv-python in /opt/conda/lib/python3.9/site-packages (4.5.3.56)\n",
      "Requirement already satisfied: numpy>=1.19.3 in /opt/conda/lib/python3.9/site-packages (from opencv-python) (1.21.4)\n",
      "\u001b[33mWARNING: Running pip as the 'root' user can result in broken permissions and conflicting behaviour with the system package manager. It is recommended to use a virtual environment instead: https://pip.pypa.io/warnings/venv\u001b[0m\n",
      "Note: you may need to restart the kernel to use updated packages.\n"
     ]
    }
   ],
   "source": [
    "pip install opencv-python"
   ]
  },
  {
   "cell_type": "code",
   "execution_count": 5,
   "metadata": {},
   "outputs": [],
   "source": [
    "import os\n",
    "import tensorflow as tf\n",
    "from PIL import Image\n",
    "import matplotlib.pyplot as plt\n",
    "import numpy as np\n",
    "import cv2\n",
    "\n",
    "dir_a = os.getenv('HOME')+'/aiffel/red_tide/2019_sea_satellite/'\n",
    "dir_b = os.getenv('HOME')+'/aiffel/red_tide/2020_sea_satellite/'\n",
    "\n",
    "train_images = []; test_images = []\n",
    "train_labels = []; test_labels = []\n",
    "\n",
    "for i in range(4):\n",
    "    f = dir_a + os.listdir(dir_a)[i]; g = dir_b + os.listdir(dir_b)[i]\n",
    "    train_images.append(cv2.imread(f, cv2.IMREAD_COLOR))\n",
    "    test_images.append(cv2.imread(g, cv2.IMREAD_COLOR))\n",
    "\n",
    "for i in range(4) :\n",
    "    train_labels.append(np.array([0,1,0,1]))\n",
    "    test_labels.append(np.array([0,0,0,1])) "
   ]
  },
  {
   "cell_type": "code",
   "execution_count": 8,
   "metadata": {},
   "outputs": [],
   "source": [
    "train_size = test_size = 4 ; batch_size = 8\n",
    "\n",
    "train_dataset = (tf.data.Dataset.from_tensor_slices(\n",
    "    (tf.cast(train_images, tf.float32), tf.cast(train_labels, tf.float32)))\n",
    "                 .shuffle(train_size).batch(batch_size))\n",
    "test_dataset = (tf.data.Dataset.from_tensor_slices(\n",
    "    (tf.cast(test_images, tf.float32), tf.cast(test_labels, tf.float32)))\n",
    "                .shuffle(test_size).batch(batch_size))"
   ]
  },
  {
   "cell_type": "code",
   "execution_count": 9,
   "metadata": {},
   "outputs": [],
   "source": [
    "class CVAE(tf.keras.Model):\n",
    "    def __init__(self, latent_dim):\n",
    "        super(CVAE, self).__init__()\n",
    "        self.latent_dim = latent_dim\n",
    "        self.encoder = tf.keras.Sequential(\n",
    "            [\n",
    "                tf.keras.layers.InputLayer(input_shape=(28*28 + 1)),\n",
    "                tf.keras.layers.Flatten(),\n",
    "                tf.keras.layers.Dense(units=512, activation='relu'),\n",
    "                tf.keras.layers.Dropout(rate=0.2),\n",
    "                tf.keras.layers.Dense(units=256, activation='relu'),\n",
    "                tf.keras.layers.Dropout(rate=0.2),\n",
    "                tf.keras.layers.Dense(units=64, activation='relu'),\n",
    "                tf.keras.layers.Dense(units=latent_dim + latent_dim),\n",
    "            ])\n",
    "\n",
    "        self.decoder = tf.keras.Sequential(\n",
    "            [\n",
    "                tf.keras.layers.InputLayer(input_shape=(latent_dim+1)),\n",
    "                tf.keras.layers.Dense(units=64, activation='relu'),\n",
    "                tf.keras.layers.Dropout(rate=0.2),\n",
    "                tf.keras.layers.Dense(units=256, activation='relu'),\n",
    "                tf.keras.layers.Dropout(rate=0.2),\n",
    "                tf.keras.layers.Dense(units=512, activation='relu'),\n",
    "                tf.keras.layers.Dense(units=784),\n",
    "            ])\n",
    "\n",
    "    @tf.function\n",
    "    def encode(self, x, y):\n",
    "        inputs = tf.concat([x, y], 1)\n",
    "        mean, logvar = tf.split(self.encoder(inputs), num_or_size_splits=2, axis=1)\n",
    "        stddev = 1e-8 + tf.nn.softplus(logvar)\n",
    "        return mean, stddev\n",
    "\n",
    "    def reparameterize(self, mean, stddev):\n",
    "        eps = tf.random.normal(shape=mean.shape)\n",
    "        z = mean + eps * stddev\n",
    "        return z\n",
    "\n",
    "    @tf.function\n",
    "    def decode(self, z, y, apply_sigmoid=False):\n",
    "        inputs = tf.concat([z, y], 1)\n",
    "        logits = self.decoder(inputs)\n",
    "        if apply_sigmoid:\n",
    "            probs = tf.sigmoid(logits)\n",
    "            return probs\n",
    "        return logits"
   ]
  },
  {
   "cell_type": "code",
   "execution_count": 13,
   "metadata": {},
   "outputs": [
    {
     "ename": "ValueError",
     "evalue": "in user code:\n\n    /tmp/ipykernel_32/193468598.py:28 train_step  *\n        loss = compute_loss(model, x, y)\n    /tmp/ipykernel_32/193468598.py:4 compute_loss  *\n        x = tf.reshape(x, [-1, 784])\n    /opt/conda/lib/python3.9/site-packages/tensorflow/python/util/dispatch.py:206 wrapper  **\n        return target(*args, **kwargs)\n    /opt/conda/lib/python3.9/site-packages/tensorflow/python/ops/array_ops.py:196 reshape\n        result = gen_array_ops.reshape(tensor, shape, name)\n    /opt/conda/lib/python3.9/site-packages/tensorflow/python/ops/gen_array_ops.py:8403 reshape\n        _, _, _op, _outputs = _op_def_library._apply_op_helper(\n    /opt/conda/lib/python3.9/site-packages/tensorflow/python/framework/op_def_library.py:748 _apply_op_helper\n        op = g._create_op_internal(op_type_name, inputs, dtypes=None,\n    /opt/conda/lib/python3.9/site-packages/tensorflow/python/framework/func_graph.py:599 _create_op_internal\n        return super(FuncGraph, self)._create_op_internal(  # pylint: disable=protected-access\n    /opt/conda/lib/python3.9/site-packages/tensorflow/python/framework/ops.py:3561 _create_op_internal\n        ret = Operation(\n    /opt/conda/lib/python3.9/site-packages/tensorflow/python/framework/ops.py:2041 __init__\n        self._c_op = _create_c_op(self._graph, node_def, inputs,\n    /opt/conda/lib/python3.9/site-packages/tensorflow/python/framework/ops.py:1883 _create_c_op\n        raise ValueError(str(e))\n\n    ValueError: Dimension size must be evenly divisible by 784 but is 379848960 for '{{node Reshape}} = Reshape[T=DT_FLOAT, Tshape=DT_INT32](x, Reshape/shape)' with input shapes: [4,5685,5568,3], [2] and with input tensors computed as partial shapes: input[1] = [?,784].\n",
     "output_type": "error",
     "traceback": [
      "\u001b[0;31m---------------------------------------------------------------------------\u001b[0m",
      "\u001b[0;31mValueError\u001b[0m                                Traceback (most recent call last)",
      "\u001b[0;32m/tmp/ipykernel_32/1134605077.py\u001b[0m in \u001b[0;36m<module>\u001b[0;34m\u001b[0m\n\u001b[1;32m     41\u001b[0m     \u001b[0mtrain_losses\u001b[0m \u001b[0;34m=\u001b[0m \u001b[0;34m[\u001b[0m\u001b[0;34m]\u001b[0m\u001b[0;34m\u001b[0m\u001b[0;34m\u001b[0m\u001b[0m\n\u001b[1;32m     42\u001b[0m     \u001b[0;32mfor\u001b[0m \u001b[0mx\u001b[0m\u001b[0;34m,\u001b[0m \u001b[0my\u001b[0m \u001b[0;32min\u001b[0m \u001b[0mtrain_dataset\u001b[0m\u001b[0;34m:\u001b[0m\u001b[0;34m\u001b[0m\u001b[0;34m\u001b[0m\u001b[0m\n\u001b[0;32m---> 43\u001b[0;31m         \u001b[0mloss\u001b[0m \u001b[0;34m=\u001b[0m \u001b[0mtrain_step\u001b[0m\u001b[0;34m(\u001b[0m\u001b[0mmodel\u001b[0m\u001b[0;34m,\u001b[0m \u001b[0mx\u001b[0m\u001b[0;34m,\u001b[0m \u001b[0my\u001b[0m\u001b[0;34m,\u001b[0m \u001b[0moptimizer\u001b[0m\u001b[0;34m)\u001b[0m\u001b[0;34m\u001b[0m\u001b[0;34m\u001b[0m\u001b[0m\n\u001b[0m\u001b[1;32m     44\u001b[0m         \u001b[0mtrain_losses\u001b[0m\u001b[0;34m.\u001b[0m\u001b[0mappend\u001b[0m\u001b[0;34m(\u001b[0m\u001b[0mloss\u001b[0m\u001b[0;34m)\u001b[0m\u001b[0;34m\u001b[0m\u001b[0;34m\u001b[0m\u001b[0m\n\u001b[1;32m     45\u001b[0m \u001b[0;34m\u001b[0m\u001b[0m\n",
      "\u001b[0;32m/opt/conda/lib/python3.9/site-packages/tensorflow/python/eager/def_function.py\u001b[0m in \u001b[0;36m__call__\u001b[0;34m(self, *args, **kwds)\u001b[0m\n\u001b[1;32m    883\u001b[0m \u001b[0;34m\u001b[0m\u001b[0m\n\u001b[1;32m    884\u001b[0m       \u001b[0;32mwith\u001b[0m \u001b[0mOptionalXlaContext\u001b[0m\u001b[0;34m(\u001b[0m\u001b[0mself\u001b[0m\u001b[0;34m.\u001b[0m\u001b[0m_jit_compile\u001b[0m\u001b[0;34m)\u001b[0m\u001b[0;34m:\u001b[0m\u001b[0;34m\u001b[0m\u001b[0;34m\u001b[0m\u001b[0m\n\u001b[0;32m--> 885\u001b[0;31m         \u001b[0mresult\u001b[0m \u001b[0;34m=\u001b[0m \u001b[0mself\u001b[0m\u001b[0;34m.\u001b[0m\u001b[0m_call\u001b[0m\u001b[0;34m(\u001b[0m\u001b[0;34m*\u001b[0m\u001b[0margs\u001b[0m\u001b[0;34m,\u001b[0m \u001b[0;34m**\u001b[0m\u001b[0mkwds\u001b[0m\u001b[0;34m)\u001b[0m\u001b[0;34m\u001b[0m\u001b[0;34m\u001b[0m\u001b[0m\n\u001b[0m\u001b[1;32m    886\u001b[0m \u001b[0;34m\u001b[0m\u001b[0m\n\u001b[1;32m    887\u001b[0m       \u001b[0mnew_tracing_count\u001b[0m \u001b[0;34m=\u001b[0m \u001b[0mself\u001b[0m\u001b[0;34m.\u001b[0m\u001b[0mexperimental_get_tracing_count\u001b[0m\u001b[0;34m(\u001b[0m\u001b[0;34m)\u001b[0m\u001b[0;34m\u001b[0m\u001b[0;34m\u001b[0m\u001b[0m\n",
      "\u001b[0;32m/opt/conda/lib/python3.9/site-packages/tensorflow/python/eager/def_function.py\u001b[0m in \u001b[0;36m_call\u001b[0;34m(self, *args, **kwds)\u001b[0m\n\u001b[1;32m    931\u001b[0m       \u001b[0;31m# This is the first call of __call__, so we have to initialize.\u001b[0m\u001b[0;34m\u001b[0m\u001b[0;34m\u001b[0m\u001b[0m\n\u001b[1;32m    932\u001b[0m       \u001b[0minitializers\u001b[0m \u001b[0;34m=\u001b[0m \u001b[0;34m[\u001b[0m\u001b[0;34m]\u001b[0m\u001b[0;34m\u001b[0m\u001b[0;34m\u001b[0m\u001b[0m\n\u001b[0;32m--> 933\u001b[0;31m       \u001b[0mself\u001b[0m\u001b[0;34m.\u001b[0m\u001b[0m_initialize\u001b[0m\u001b[0;34m(\u001b[0m\u001b[0margs\u001b[0m\u001b[0;34m,\u001b[0m \u001b[0mkwds\u001b[0m\u001b[0;34m,\u001b[0m \u001b[0madd_initializers_to\u001b[0m\u001b[0;34m=\u001b[0m\u001b[0minitializers\u001b[0m\u001b[0;34m)\u001b[0m\u001b[0;34m\u001b[0m\u001b[0;34m\u001b[0m\u001b[0m\n\u001b[0m\u001b[1;32m    934\u001b[0m     \u001b[0;32mfinally\u001b[0m\u001b[0;34m:\u001b[0m\u001b[0;34m\u001b[0m\u001b[0;34m\u001b[0m\u001b[0m\n\u001b[1;32m    935\u001b[0m       \u001b[0;31m# At this point we know that the initialization is complete (or less\u001b[0m\u001b[0;34m\u001b[0m\u001b[0;34m\u001b[0m\u001b[0m\n",
      "\u001b[0;32m/opt/conda/lib/python3.9/site-packages/tensorflow/python/eager/def_function.py\u001b[0m in \u001b[0;36m_initialize\u001b[0;34m(self, args, kwds, add_initializers_to)\u001b[0m\n\u001b[1;32m    757\u001b[0m     \u001b[0mself\u001b[0m\u001b[0;34m.\u001b[0m\u001b[0m_graph_deleter\u001b[0m \u001b[0;34m=\u001b[0m \u001b[0mFunctionDeleter\u001b[0m\u001b[0;34m(\u001b[0m\u001b[0mself\u001b[0m\u001b[0;34m.\u001b[0m\u001b[0m_lifted_initializer_graph\u001b[0m\u001b[0;34m)\u001b[0m\u001b[0;34m\u001b[0m\u001b[0;34m\u001b[0m\u001b[0m\n\u001b[1;32m    758\u001b[0m     self._concrete_stateful_fn = (\n\u001b[0;32m--> 759\u001b[0;31m         self._stateful_fn._get_concrete_function_internal_garbage_collected(  # pylint: disable=protected-access\n\u001b[0m\u001b[1;32m    760\u001b[0m             *args, **kwds))\n\u001b[1;32m    761\u001b[0m \u001b[0;34m\u001b[0m\u001b[0m\n",
      "\u001b[0;32m/opt/conda/lib/python3.9/site-packages/tensorflow/python/eager/function.py\u001b[0m in \u001b[0;36m_get_concrete_function_internal_garbage_collected\u001b[0;34m(self, *args, **kwargs)\u001b[0m\n\u001b[1;32m   3064\u001b[0m       \u001b[0margs\u001b[0m\u001b[0;34m,\u001b[0m \u001b[0mkwargs\u001b[0m \u001b[0;34m=\u001b[0m \u001b[0;32mNone\u001b[0m\u001b[0;34m,\u001b[0m \u001b[0;32mNone\u001b[0m\u001b[0;34m\u001b[0m\u001b[0;34m\u001b[0m\u001b[0m\n\u001b[1;32m   3065\u001b[0m     \u001b[0;32mwith\u001b[0m \u001b[0mself\u001b[0m\u001b[0;34m.\u001b[0m\u001b[0m_lock\u001b[0m\u001b[0;34m:\u001b[0m\u001b[0;34m\u001b[0m\u001b[0;34m\u001b[0m\u001b[0m\n\u001b[0;32m-> 3066\u001b[0;31m       \u001b[0mgraph_function\u001b[0m\u001b[0;34m,\u001b[0m \u001b[0m_\u001b[0m \u001b[0;34m=\u001b[0m \u001b[0mself\u001b[0m\u001b[0;34m.\u001b[0m\u001b[0m_maybe_define_function\u001b[0m\u001b[0;34m(\u001b[0m\u001b[0margs\u001b[0m\u001b[0;34m,\u001b[0m \u001b[0mkwargs\u001b[0m\u001b[0;34m)\u001b[0m\u001b[0;34m\u001b[0m\u001b[0;34m\u001b[0m\u001b[0m\n\u001b[0m\u001b[1;32m   3067\u001b[0m     \u001b[0;32mreturn\u001b[0m \u001b[0mgraph_function\u001b[0m\u001b[0;34m\u001b[0m\u001b[0;34m\u001b[0m\u001b[0m\n\u001b[1;32m   3068\u001b[0m \u001b[0;34m\u001b[0m\u001b[0m\n",
      "\u001b[0;32m/opt/conda/lib/python3.9/site-packages/tensorflow/python/eager/function.py\u001b[0m in \u001b[0;36m_maybe_define_function\u001b[0;34m(self, args, kwargs)\u001b[0m\n\u001b[1;32m   3461\u001b[0m \u001b[0;34m\u001b[0m\u001b[0m\n\u001b[1;32m   3462\u001b[0m           \u001b[0mself\u001b[0m\u001b[0;34m.\u001b[0m\u001b[0m_function_cache\u001b[0m\u001b[0;34m.\u001b[0m\u001b[0mmissed\u001b[0m\u001b[0;34m.\u001b[0m\u001b[0madd\u001b[0m\u001b[0;34m(\u001b[0m\u001b[0mcall_context_key\u001b[0m\u001b[0;34m)\u001b[0m\u001b[0;34m\u001b[0m\u001b[0;34m\u001b[0m\u001b[0m\n\u001b[0;32m-> 3463\u001b[0;31m           \u001b[0mgraph_function\u001b[0m \u001b[0;34m=\u001b[0m \u001b[0mself\u001b[0m\u001b[0;34m.\u001b[0m\u001b[0m_create_graph_function\u001b[0m\u001b[0;34m(\u001b[0m\u001b[0margs\u001b[0m\u001b[0;34m,\u001b[0m \u001b[0mkwargs\u001b[0m\u001b[0;34m)\u001b[0m\u001b[0;34m\u001b[0m\u001b[0;34m\u001b[0m\u001b[0m\n\u001b[0m\u001b[1;32m   3464\u001b[0m           \u001b[0mself\u001b[0m\u001b[0;34m.\u001b[0m\u001b[0m_function_cache\u001b[0m\u001b[0;34m.\u001b[0m\u001b[0mprimary\u001b[0m\u001b[0;34m[\u001b[0m\u001b[0mcache_key\u001b[0m\u001b[0;34m]\u001b[0m \u001b[0;34m=\u001b[0m \u001b[0mgraph_function\u001b[0m\u001b[0;34m\u001b[0m\u001b[0;34m\u001b[0m\u001b[0m\n\u001b[1;32m   3465\u001b[0m \u001b[0;34m\u001b[0m\u001b[0m\n",
      "\u001b[0;32m/opt/conda/lib/python3.9/site-packages/tensorflow/python/eager/function.py\u001b[0m in \u001b[0;36m_create_graph_function\u001b[0;34m(self, args, kwargs, override_flat_arg_shapes)\u001b[0m\n\u001b[1;32m   3296\u001b[0m     \u001b[0marg_names\u001b[0m \u001b[0;34m=\u001b[0m \u001b[0mbase_arg_names\u001b[0m \u001b[0;34m+\u001b[0m \u001b[0mmissing_arg_names\u001b[0m\u001b[0;34m\u001b[0m\u001b[0;34m\u001b[0m\u001b[0m\n\u001b[1;32m   3297\u001b[0m     graph_function = ConcreteFunction(\n\u001b[0;32m-> 3298\u001b[0;31m         func_graph_module.func_graph_from_py_func(\n\u001b[0m\u001b[1;32m   3299\u001b[0m             \u001b[0mself\u001b[0m\u001b[0;34m.\u001b[0m\u001b[0m_name\u001b[0m\u001b[0;34m,\u001b[0m\u001b[0;34m\u001b[0m\u001b[0;34m\u001b[0m\u001b[0m\n\u001b[1;32m   3300\u001b[0m             \u001b[0mself\u001b[0m\u001b[0;34m.\u001b[0m\u001b[0m_python_function\u001b[0m\u001b[0;34m,\u001b[0m\u001b[0;34m\u001b[0m\u001b[0;34m\u001b[0m\u001b[0m\n",
      "\u001b[0;32m/opt/conda/lib/python3.9/site-packages/tensorflow/python/framework/func_graph.py\u001b[0m in \u001b[0;36mfunc_graph_from_py_func\u001b[0;34m(name, python_func, args, kwargs, signature, func_graph, autograph, autograph_options, add_control_dependencies, arg_names, op_return_value, collections, capture_by_value, override_flat_arg_shapes, acd_record_initial_resource_uses)\u001b[0m\n\u001b[1;32m   1005\u001b[0m         \u001b[0m_\u001b[0m\u001b[0;34m,\u001b[0m \u001b[0moriginal_func\u001b[0m \u001b[0;34m=\u001b[0m \u001b[0mtf_decorator\u001b[0m\u001b[0;34m.\u001b[0m\u001b[0munwrap\u001b[0m\u001b[0;34m(\u001b[0m\u001b[0mpython_func\u001b[0m\u001b[0;34m)\u001b[0m\u001b[0;34m\u001b[0m\u001b[0;34m\u001b[0m\u001b[0m\n\u001b[1;32m   1006\u001b[0m \u001b[0;34m\u001b[0m\u001b[0m\n\u001b[0;32m-> 1007\u001b[0;31m       \u001b[0mfunc_outputs\u001b[0m \u001b[0;34m=\u001b[0m \u001b[0mpython_func\u001b[0m\u001b[0;34m(\u001b[0m\u001b[0;34m*\u001b[0m\u001b[0mfunc_args\u001b[0m\u001b[0;34m,\u001b[0m \u001b[0;34m**\u001b[0m\u001b[0mfunc_kwargs\u001b[0m\u001b[0;34m)\u001b[0m\u001b[0;34m\u001b[0m\u001b[0;34m\u001b[0m\u001b[0m\n\u001b[0m\u001b[1;32m   1008\u001b[0m \u001b[0;34m\u001b[0m\u001b[0m\n\u001b[1;32m   1009\u001b[0m       \u001b[0;31m# invariant: `func_outputs` contains only Tensors, CompositeTensors,\u001b[0m\u001b[0;34m\u001b[0m\u001b[0;34m\u001b[0m\u001b[0m\n",
      "\u001b[0;32m/opt/conda/lib/python3.9/site-packages/tensorflow/python/eager/def_function.py\u001b[0m in \u001b[0;36mwrapped_fn\u001b[0;34m(*args, **kwds)\u001b[0m\n\u001b[1;32m    666\u001b[0m         \u001b[0;31m# the function a weak reference to itself to avoid a reference cycle.\u001b[0m\u001b[0;34m\u001b[0m\u001b[0;34m\u001b[0m\u001b[0m\n\u001b[1;32m    667\u001b[0m         \u001b[0;32mwith\u001b[0m \u001b[0mOptionalXlaContext\u001b[0m\u001b[0;34m(\u001b[0m\u001b[0mcompile_with_xla\u001b[0m\u001b[0;34m)\u001b[0m\u001b[0;34m:\u001b[0m\u001b[0;34m\u001b[0m\u001b[0;34m\u001b[0m\u001b[0m\n\u001b[0;32m--> 668\u001b[0;31m           \u001b[0mout\u001b[0m \u001b[0;34m=\u001b[0m \u001b[0mweak_wrapped_fn\u001b[0m\u001b[0;34m(\u001b[0m\u001b[0;34m)\u001b[0m\u001b[0;34m.\u001b[0m\u001b[0m__wrapped__\u001b[0m\u001b[0;34m(\u001b[0m\u001b[0;34m*\u001b[0m\u001b[0margs\u001b[0m\u001b[0;34m,\u001b[0m \u001b[0;34m**\u001b[0m\u001b[0mkwds\u001b[0m\u001b[0;34m)\u001b[0m\u001b[0;34m\u001b[0m\u001b[0;34m\u001b[0m\u001b[0m\n\u001b[0m\u001b[1;32m    669\u001b[0m         \u001b[0;32mreturn\u001b[0m \u001b[0mout\u001b[0m\u001b[0;34m\u001b[0m\u001b[0;34m\u001b[0m\u001b[0m\n\u001b[1;32m    670\u001b[0m \u001b[0;34m\u001b[0m\u001b[0m\n",
      "\u001b[0;32m/opt/conda/lib/python3.9/site-packages/tensorflow/python/framework/func_graph.py\u001b[0m in \u001b[0;36mwrapper\u001b[0;34m(*args, **kwargs)\u001b[0m\n\u001b[1;32m    992\u001b[0m           \u001b[0;32mexcept\u001b[0m \u001b[0mException\u001b[0m \u001b[0;32mas\u001b[0m \u001b[0me\u001b[0m\u001b[0;34m:\u001b[0m  \u001b[0;31m# pylint:disable=broad-except\u001b[0m\u001b[0;34m\u001b[0m\u001b[0;34m\u001b[0m\u001b[0m\n\u001b[1;32m    993\u001b[0m             \u001b[0;32mif\u001b[0m \u001b[0mhasattr\u001b[0m\u001b[0;34m(\u001b[0m\u001b[0me\u001b[0m\u001b[0;34m,\u001b[0m \u001b[0;34m\"ag_error_metadata\"\u001b[0m\u001b[0;34m)\u001b[0m\u001b[0;34m:\u001b[0m\u001b[0;34m\u001b[0m\u001b[0;34m\u001b[0m\u001b[0m\n\u001b[0;32m--> 994\u001b[0;31m               \u001b[0;32mraise\u001b[0m \u001b[0me\u001b[0m\u001b[0;34m.\u001b[0m\u001b[0mag_error_metadata\u001b[0m\u001b[0;34m.\u001b[0m\u001b[0mto_exception\u001b[0m\u001b[0;34m(\u001b[0m\u001b[0me\u001b[0m\u001b[0;34m)\u001b[0m\u001b[0;34m\u001b[0m\u001b[0;34m\u001b[0m\u001b[0m\n\u001b[0m\u001b[1;32m    995\u001b[0m             \u001b[0;32melse\u001b[0m\u001b[0;34m:\u001b[0m\u001b[0;34m\u001b[0m\u001b[0;34m\u001b[0m\u001b[0m\n\u001b[1;32m    996\u001b[0m               \u001b[0;32mraise\u001b[0m\u001b[0;34m\u001b[0m\u001b[0;34m\u001b[0m\u001b[0m\n",
      "\u001b[0;31mValueError\u001b[0m: in user code:\n\n    /tmp/ipykernel_32/193468598.py:28 train_step  *\n        loss = compute_loss(model, x, y)\n    /tmp/ipykernel_32/193468598.py:4 compute_loss  *\n        x = tf.reshape(x, [-1, 784])\n    /opt/conda/lib/python3.9/site-packages/tensorflow/python/util/dispatch.py:206 wrapper  **\n        return target(*args, **kwargs)\n    /opt/conda/lib/python3.9/site-packages/tensorflow/python/ops/array_ops.py:196 reshape\n        result = gen_array_ops.reshape(tensor, shape, name)\n    /opt/conda/lib/python3.9/site-packages/tensorflow/python/ops/gen_array_ops.py:8403 reshape\n        _, _, _op, _outputs = _op_def_library._apply_op_helper(\n    /opt/conda/lib/python3.9/site-packages/tensorflow/python/framework/op_def_library.py:748 _apply_op_helper\n        op = g._create_op_internal(op_type_name, inputs, dtypes=None,\n    /opt/conda/lib/python3.9/site-packages/tensorflow/python/framework/func_graph.py:599 _create_op_internal\n        return super(FuncGraph, self)._create_op_internal(  # pylint: disable=protected-access\n    /opt/conda/lib/python3.9/site-packages/tensorflow/python/framework/ops.py:3561 _create_op_internal\n        ret = Operation(\n    /opt/conda/lib/python3.9/site-packages/tensorflow/python/framework/ops.py:2041 __init__\n        self._c_op = _create_c_op(self._graph, node_def, inputs,\n    /opt/conda/lib/python3.9/site-packages/tensorflow/python/framework/ops.py:1883 _create_c_op\n        raise ValueError(str(e))\n\n    ValueError: Dimension size must be evenly divisible by 784 but is 379848960 for '{{node Reshape}} = Reshape[T=DT_FLOAT, Tshape=DT_INT32](x, Reshape/shape)' with input shapes: [4,5685,5568,3], [2] and with input tensors computed as partial shapes: input[1] = [?,784].\n"
     ]
    }
   ],
   "source": [
    "optimizer = tf.keras.optimizers.Adam(1e-4)\n",
    "\n",
    "def compute_loss(model, x, y):\n",
    "    x = tf.reshape(x, [-1, 784])\n",
    "    y = tf.reshape(y, [-1, 1])\n",
    "    mean, stddev = model.encode(x, y)\n",
    "    z = model.reparameterize(mean, stddev)\n",
    "    x_logit = model.decode(z, y, True)\n",
    "    x_logit = tf.clip_by_value(x_logit, 1e-8, 1-1e-8)\n",
    "\n",
    "    # Loss\n",
    "    marginal_likelihood = tf.reduce_sum(x * tf.math.log(x_logit) + (1 - x) * tf.math.log(1 - x_logit), axis=[1])\n",
    "    loglikelihood = tf.reduce_mean(marginal_likelihood)\n",
    "\n",
    "    kl_divergence = -0.5 * tf.reduce_sum(1 + tf.math.log(1e-8 + tf.square(stddev)) - tf.square(mean) - tf.square(stddev),\n",
    "                                         axis=[1])\n",
    "    kl_divergence = tf.reduce_mean(kl_divergence)\n",
    "\n",
    "    ELBO = loglikelihood - kl_divergence\n",
    "    loss = -ELBO\n",
    "\n",
    "    return loss\n",
    "\n",
    "\n",
    "@tf.function\n",
    "def train_step(model, x, y, optimizer):\n",
    "    with tf.GradientTape() as tape:\n",
    "        loss = compute_loss(model, x, y)\n",
    "    gradients = tape.gradient(loss, model.trainable_variables)\n",
    "    optimizer.apply_gradients(zip(gradients, model.trainable_variables))\n",
    "\n",
    "    return loss\n",
    "\n",
    "\n",
    "epochs = 30\n",
    "latent_dim = 2\n",
    "model = CVAE(latent_dim)\n",
    "\n",
    "# Train\n",
    "for epoch in range(1, epochs + 1):\n",
    "    train_losses = []\n",
    "    for x, y in train_dataset:\n",
    "        loss = train_step(model, x, y, optimizer)\n",
    "        train_losses.append(loss)\n",
    "\n",
    "    print('Epoch: {}, Loss: {:.2f}'.format(epoch, np.mean(train_losses)))\n",
    "\n",
    "\n",
    "# Test\n",
    "def generate_images(model, test_x, test_y):\n",
    "    test_x = tf.reshape(test_x, [-1, 379])\n",
    "    test_y = tf.reshape(test_y, [-1, 1])\n",
    "    mean, stddev = model.encode(test_x, test_y)\n",
    "    z = model.reparameterize(mean, stddev)\n",
    "\n",
    "    predictions = model.decode(z, test_y, True)\n",
    "    predictions = tf.clip_by_value(predictions, 1e-8, 1 - 1e-8)\n",
    "    predictions = tf.reshape(predictions, [-1, 28, 28, 1])\n",
    "\n",
    "    fig = plt.figure(figsize=(4, 4))\n",
    "\n",
    "    for i in range(predictions.shape[0]):\n",
    "        plt.subplot(4, 4, i + 1)\n",
    "        plt.imshow(predictions[i, :, :, 0], cmap='gray')\n",
    "        plt.axis('off')\n",
    "\n",
    "    plt.show()\n",
    "\n",
    "\n",
    "num_examples_to_generate = 16\n",
    "random_vector_for_generation = tf.random.normal(shape=[num_examples_to_generate, latent_dim])\n",
    "test_x, test_y = next(iter(test_dataset))\n",
    "test_x, test_y = test_x[0:num_examples_to_generate, :, :, :], test_y[0:num_examples_to_generate, ]\n",
    "\n",
    "for i in range(test_x.shape[0]):\n",
    "    plt.subplot(4, 4, i + 1)\n",
    "    plt.imshow(test_x[i, :, :, 0], cmap='gray')\n",
    "    plt.axis('off')\n",
    "\n",
    "plt.show()\n",
    "\n",
    "generate_images(model, test_x, test_y)"
   ]
  },
  {
   "cell_type": "code",
   "execution_count": null,
   "metadata": {},
   "outputs": [],
   "source": []
  }
 ],
 "metadata": {
  "accelerator": "GPU",
  "colab": {
   "collapsed_sections": [],
   "machine_shape": "hm",
   "provenance": []
  },
  "gpuClass": "premium",
  "kernelspec": {
   "display_name": "Python 3 (ipykernel)",
   "language": "python",
   "name": "python3"
  },
  "language_info": {
   "codemirror_mode": {
    "name": "ipython",
    "version": 3
   },
   "file_extension": ".py",
   "mimetype": "text/x-python",
   "name": "python",
   "nbconvert_exporter": "python",
   "pygments_lexer": "ipython3",
   "version": "3.9.7"
  }
 },
 "nbformat": 4,
 "nbformat_minor": 1
}
