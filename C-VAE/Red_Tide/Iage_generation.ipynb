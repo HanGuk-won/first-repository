{
 "cells": [
  {
   "cell_type": "code",
   "execution_count": null,
   "id": "cce156be",
   "metadata": {},
   "outputs": [],
   "source": [
    "# Run this cell and select the kaggle.json file to upload\n",
    "# the kaggle.json file must be of teh form:\n",
    "#\n",
    "# {\"username\":\"your_username\",\"key\":\"your_kaggle_API_token\"}\n",
    "\n",
    "from google.colab import files\n",
    "files.upload()"
   ]
  },
  {
   "cell_type": "code",
   "execution_count": null,
   "id": "87e0d119",
   "metadata": {},
   "outputs": [],
   "source": [
    "# Let's make sure the kaggle.json file is present. \n",
    "!ls -lha kaggle.json\n",
    "# Next, install the Kaggle API client. \n",
    "!pip install -q kaggle\n",
    "# The Kaggle API client expects this file to be in ~/.kaggle, \n",
    "# so move it there. \n",
    "!mkdir -p ~/.kaggle\n",
    "!cp kaggle.json ~/.kaggle/\n",
    "# This permissions change avoids a warning on Kaggle tool startup. \n",
    "!chmod 600 ~/.kaggle/kaggle.json"
   ]
  },
  {
   "cell_type": "code",
   "execution_count": null,
   "id": "a230a406",
   "metadata": {},
   "outputs": [],
   "source": [
    "%cd /content/drive/My\\ Drive/ConditionalVAE_DL_Project3"
   ]
  },
  {
   "cell_type": "code",
   "execution_count": null,
   "id": "ea0e30e0",
   "metadata": {},
   "outputs": [],
   "source": [
    "!python3 dataloader.py"
   ]
  },
  {
   "cell_type": "code",
   "execution_count": null,
   "id": "754a1766",
   "metadata": {},
   "outputs": [],
   "source": [
    "%cd /content/drive/My\\ Drive/ConditionalVAE_DL_Project3"
   ]
  },
  {
   "cell_type": "code",
   "execution_count": null,
   "id": "10df77b6",
   "metadata": {},
   "outputs": [],
   "source": [
    "# Hyper-paramters\n",
    "label_dim = 40\n",
    "image_dim = [64, 64, 3]\n",
    "latent_dim = 128\n",
    "beta = 0.65\n",
    "\n",
    "batch_size = 32"
   ]
  },
  {
   "cell_type": "code",
   "execution_count": null,
   "id": "1a7e0f64",
   "metadata": {},
   "outputs": [],
   "source": [
    "import tensorflow as tf\n",
    "from ConvolutionalCondVAE import ConvCVAE, Decoder, Encoder\n",
    "\n",
    "# Model\n",
    "encoder = Encoder(latent_dim)\n",
    "decoder = Decoder(batch_size = batch_size,)\n",
    "model = ConvCVAE(\n",
    "                encoder,\n",
    "                decoder,\n",
    "                batch_size = batch_size,\n",
    "                label_dim = label_dim,\n",
    "                latent_dim = latent_dim,\n",
    "                beta = beta,\n",
    "                image_dim = image_dim)"
   ]
  },
  {
   "cell_type": "code",
   "execution_count": null,
   "id": "a6039543",
   "metadata": {},
   "outputs": [],
   "source": [
    "import os\n",
    "\n",
    "# Checkpoint path\n",
    "checkpoint_root = \"./CVAE{}_{}_checkpoint\".format(latent_dim, beta)\n",
    "checkpoint_name = \"model\"\n",
    "save_prefix = os.path.join(checkpoint_root, checkpoint_name)\n",
    "\n",
    "# Define the checkpoint\n",
    "checkpoint = tf.train.Checkpoint(module=model)"
   ]
  },
  {
   "cell_type": "code",
   "execution_count": null,
   "id": "4593fcce",
   "metadata": {},
   "outputs": [],
   "source": [
    "# Restore the latest checkpoint\n",
    "\n",
    "latest = tf.train.latest_checkpoint(checkpoint_root)\n",
    "if latest is not None:\n",
    "    checkpoint.restore(latest)\n",
    "    print(\"Checkpoint restored:\", latest)\n",
    "else:\n",
    "    print(\"No checkpoint!\")"
   ]
  },
  {
   "cell_type": "code",
   "execution_count": null,
   "id": "c303d66a",
   "metadata": {},
   "outputs": [],
   "source": [
    "import argparse\n",
    "import json\n",
    "import os\n",
    "from matplotlib import pyplot as plt\n",
    "import sys\n",
    "\n",
    "import tensorflow as tf\n",
    "\n",
    "from utils import batch_generator, convert_batch_to_image_grid, read_data\n",
    "\n",
    "# Read test_data.pickle \n",
    "test_data = read_data(\"./test_data\")\n",
    "\n",
    "# Saving path for generated images\n",
    "folder = \"./images_{}_{}_30epochs/\".format(latent_dim, beta)\n",
    "if not os.path.exists(folder):\n",
    "    os.mkdir(folder)"
   ]
  },
  {
   "cell_type": "code",
   "execution_count": null,
   "id": "c99e884b",
   "metadata": {},
   "outputs": [],
   "source": [
    "from image_generation_utils import image_generation, image_reconstruction\n",
    "\n",
    "# Image reconstruction\n",
    "image_reconstruction(model, test_data, save_path=None) \n",
    "\n",
    "# Conditional Image Generation   \n",
    "target_attr = [2,9,15,21,24,31,33,39]\n",
    "#target_attr = None \n",
    "image_generation(model, test_data, target_attr = target_attr, save_path = None)"
   ]
  },
  {
   "cell_type": "code",
   "execution_count": null,
   "id": "13ad81be",
   "metadata": {},
   "outputs": [],
   "source": [
    "import numpy as np\n",
    "#from image_generation_utils import attr_manipulation\n",
    "\n",
    "# Build a batch of test images\n",
    "batch_gen = batch_generator(test_data['batch_size'], test_data['test_img_ids'], model_name = 'Conv')\n",
    "images, labels = next(batch_gen)\n",
    "\n",
    "# Dictionary with desired attributes with their value\n",
    "target_attr = {15 : 1}\n",
    "\n",
    "# Get reconstructed and modified images\n",
    "reconstructed_images, modified_images = attr_manipulation(images, labels, target_attr, model)"
   ]
  },
  {
   "cell_type": "code",
   "execution_count": null,
   "id": "e7456e7a",
   "metadata": {},
   "outputs": [],
   "source": [
    "f = plt.figure(figsize=(64,40))\n",
    "ax = f.add_subplot(1,2,1)\n",
    "ax.imshow(convert_batch_to_image_grid(reconstructed_images),\n",
    "              interpolation='nearest')\n",
    "plt.axis('off')\n",
    "\n",
    "ax = f.add_subplot(1,2,2)\n",
    "ax.imshow(convert_batch_to_image_grid(modified_images),\n",
    "              interpolation='nearest')\n",
    "plt.axis('off')\n",
    "plt.show()"
   ]
  },
  {
   "cell_type": "code",
   "execution_count": null,
   "id": "df9c930f",
   "metadata": {},
   "outputs": [],
   "source": [
    "from matplotlib import pyplot as plt\n",
    "import numpy as np\n",
    "\n",
    "from utils import batch_generator, convert_batch_to_image_grid\n",
    "from image_generation_utils import interpolation\n",
    "\n",
    "# Build a batch of test images\n",
    "batch_gen = batch_generator(test_data['batch_size'], test_data['test_img_ids'], model_name = 'Conv')\n",
    "imgs, labels = next(batch_gen)\n",
    "\n",
    "# Plot original Images \n",
    "f = plt.figure(figsize=(32,40))\n",
    "ax = f.add_subplot(1,2,1)\n",
    "ax.imshow(convert_batch_to_image_grid(imgs),\n",
    "              interpolation='nearest')\n",
    "plt.axis('off')"
   ]
  },
  {
   "cell_type": "code",
   "execution_count": null,
   "id": "a0c5c53a",
   "metadata": {},
   "outputs": [],
   "source": [
    "# Target images to interpolate\n",
    "target_images = [2,12,14,22,28]\n",
    "\n",
    "# Interpolation\n",
    "images = interpolation(target_images, imgs, labels, model)\n",
    " \n",
    "# Plot resulting images\n",
    "f = plt.figure(figsize=(32,40))\n",
    "ax = f.add_subplot(1,2,1)\n",
    "ax.imshow(convert_batch_to_image_grid(np.asarray(images)))\n",
    "plt.axis('off');"
   ]
  }
 ],
 "metadata": {
  "kernelspec": {
   "display_name": "Python 3 (ipykernel)",
   "language": "python",
   "name": "python3"
  },
  "language_info": {
   "codemirror_mode": {
    "name": "ipython",
    "version": 3
   },
   "file_extension": ".py",
   "mimetype": "text/x-python",
   "name": "python",
   "nbconvert_exporter": "python",
   "pygments_lexer": "ipython3",
   "version": "3.9.7"
  }
 },
 "nbformat": 4,
 "nbformat_minor": 5
}
