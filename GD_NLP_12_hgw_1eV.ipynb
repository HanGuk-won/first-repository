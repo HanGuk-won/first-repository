{
  "cells": [
    {
      "cell_type": "markdown",
      "metadata": {
        "id": "view-in-github",
        "colab_type": "text"
      },
      "source": [
        "<a href=\"https://colab.research.google.com/github/HanGuk-won/first-repository/blob/main/GD_NLP_12_hgw_1eV.ipynb\" target=\"_parent\"><img src=\"https://colab.research.google.com/assets/colab-badge.svg\" alt=\"Open In Colab\"/></a>"
      ]
    },
    {
      "cell_type": "markdown",
      "metadata": {
        "id": "fc025388"
      },
      "source": [
        "## NLP12. 멋진 챗봇 만들기"
      ],
      "id": "fc025388"
    },
    {
      "cell_type": "markdown",
      "source": [
        "### 필요한 모듈 설치와 임포트"
      ],
      "metadata": {
        "id": "y_M2KrhKY1NB"
      },
      "id": "y_M2KrhKY1NB"
    },
    {
      "cell_type": "code",
      "source": [
        "!sudo apt-get install -y fonts-nanum\n",
        "!sudo fc-cache -fv\n",
        "!rm ~/.cache/matplotlib -rf"
      ],
      "metadata": {
        "id": "SivdgTWAvcfR"
      },
      "id": "SivdgTWAvcfR",
      "execution_count": null,
      "outputs": []
    },
    {
      "cell_type": "code",
      "execution_count": null,
      "metadata": {
        "id": "OeoE46PkQYtA"
      },
      "outputs": [],
      "source": [
        "pip install sentencepiece"
      ],
      "id": "OeoE46PkQYtA"
    },
    {
      "cell_type": "code",
      "execution_count": null,
      "metadata": {
        "id": "xVkJf1YBS9gf"
      },
      "outputs": [],
      "source": [
        "!apt-get update\n",
        "!apt-get install g++ openjdk-8-jdk \n",
        "!pip3 install konlpy JPype1-py3\n",
        "!bash <(curl -s https://raw.githubusercontent.com/konlpy/konlpy/master/scripts/mecab.sh)"
      ],
      "id": "xVkJf1YBS9gf"
    },
    {
      "cell_type": "code",
      "execution_count": null,
      "metadata": {
        "id": "qbsnc03blPQZ"
      },
      "outputs": [],
      "source": [
        "pip install --upgrade tensorflow==2.10.0"
      ],
      "id": "qbsnc03blPQZ"
    },
    {
      "cell_type": "code",
      "execution_count": 6,
      "metadata": {
        "colab": {
          "base_uri": "https://localhost:8080/"
        },
        "id": "a92a11b3",
        "outputId": "af36d70d-1056-440e-d117-ed1c72e804bf"
      },
      "outputs": [
        {
          "output_type": "stream",
          "name": "stdout",
          "text": [
            "2.10.0\n",
            "1.21.6\n",
            "1.3.5\n",
            "2.10.0\n",
            "3.7\n",
            "3.6.0\n"
          ]
        }
      ],
      "source": [
        "import numpy \n",
        "import pandas as pd\n",
        "import tensorflow as tf\n",
        "import nltk\n",
        "import gensim\n",
        "from konlpy.tag import Mecab\n",
        "import os\n",
        "import re\n",
        "import numpy as np\n",
        "from collections import Counter\n",
        "import tensorflow as tf\n",
        "import sentencepiece as spm\n",
        "from sklearn.model_selection import train_test_split\n",
        "from nltk.translate.bleu_score import sentence_bleu\n",
        "from nltk.translate.bleu_score import SmoothingFunction\n",
        "import random\n",
        "import math\n",
        "from tqdm import tqdm\n",
        "import matplotlib.pyplot as plt\n",
        "\n",
        "print(tf.__version__)\n",
        "\n",
        "print(numpy.__version__)\n",
        "print(pd.__version__)\n",
        "print(tf.__version__)\n",
        "print(nltk.__version__)\n",
        "print(gensim.__version__)"
      ],
      "id": "a92a11b3"
    },
    {
      "cell_type": "code",
      "execution_count": 7,
      "metadata": {
        "colab": {
          "base_uri": "https://localhost:8080/"
        },
        "id": "JdMTGxxmPtPG",
        "outputId": "492e9747-7b6f-431f-92d8-68708036034c"
      },
      "outputs": [
        {
          "output_type": "stream",
          "name": "stdout",
          "text": [
            "Mounted at /content/drive\n"
          ]
        }
      ],
      "source": [
        "from google.colab import drive\n",
        "drive.mount('/content/drive')"
      ],
      "id": "JdMTGxxmPtPG"
    },
    {
      "cell_type": "markdown",
      "source": [
        "### 파일 디렉토리 설정과 데이터 불러오기"
      ],
      "metadata": {
        "id": "ILQoyVVjY9AA"
      },
      "id": "ILQoyVVjY9AA"
    },
    {
      "cell_type": "code",
      "execution_count": 8,
      "metadata": {
        "id": "2db829e1"
      },
      "outputs": [],
      "source": [
        "workspace_path = os.getenv('HOME')+'/aiffel/transformer_chatbot'\n",
        "data_path = os.getenv('HOME')+'/aiffel/transformer_chatbot/data'"
      ],
      "id": "2db829e1"
    },
    {
      "cell_type": "code",
      "execution_count": 9,
      "metadata": {
        "colab": {
          "base_uri": "https://localhost:8080/",
          "height": 206
        },
        "id": "09ae6afc",
        "outputId": "9542a67a-907a-4e95-e63b-9a0f51280da5"
      },
      "outputs": [
        {
          "output_type": "execute_result",
          "data": {
            "text/plain": [
              "                 Q            A  label\n",
              "0           12시 땡!   하루가 또 가네요.      0\n",
              "1      1지망 학교 떨어졌어    위로해 드립니다.      0\n",
              "2     3박4일 놀러가고 싶다  여행은 언제나 좋죠.      0\n",
              "3  3박4일 정도 놀러가고 싶다  여행은 언제나 좋죠.      0\n",
              "4          PPL 심하네   눈살이 찌푸려지죠.      0"
            ],
            "text/html": [
              "\n",
              "  <div id=\"df-126d5327-a0b3-4cc5-a6e4-7f05a8bd89d5\">\n",
              "    <div class=\"colab-df-container\">\n",
              "      <div>\n",
              "<style scoped>\n",
              "    .dataframe tbody tr th:only-of-type {\n",
              "        vertical-align: middle;\n",
              "    }\n",
              "\n",
              "    .dataframe tbody tr th {\n",
              "        vertical-align: top;\n",
              "    }\n",
              "\n",
              "    .dataframe thead th {\n",
              "        text-align: right;\n",
              "    }\n",
              "</style>\n",
              "<table border=\"1\" class=\"dataframe\">\n",
              "  <thead>\n",
              "    <tr style=\"text-align: right;\">\n",
              "      <th></th>\n",
              "      <th>Q</th>\n",
              "      <th>A</th>\n",
              "      <th>label</th>\n",
              "    </tr>\n",
              "  </thead>\n",
              "  <tbody>\n",
              "    <tr>\n",
              "      <th>0</th>\n",
              "      <td>12시 땡!</td>\n",
              "      <td>하루가 또 가네요.</td>\n",
              "      <td>0</td>\n",
              "    </tr>\n",
              "    <tr>\n",
              "      <th>1</th>\n",
              "      <td>1지망 학교 떨어졌어</td>\n",
              "      <td>위로해 드립니다.</td>\n",
              "      <td>0</td>\n",
              "    </tr>\n",
              "    <tr>\n",
              "      <th>2</th>\n",
              "      <td>3박4일 놀러가고 싶다</td>\n",
              "      <td>여행은 언제나 좋죠.</td>\n",
              "      <td>0</td>\n",
              "    </tr>\n",
              "    <tr>\n",
              "      <th>3</th>\n",
              "      <td>3박4일 정도 놀러가고 싶다</td>\n",
              "      <td>여행은 언제나 좋죠.</td>\n",
              "      <td>0</td>\n",
              "    </tr>\n",
              "    <tr>\n",
              "      <th>4</th>\n",
              "      <td>PPL 심하네</td>\n",
              "      <td>눈살이 찌푸려지죠.</td>\n",
              "      <td>0</td>\n",
              "    </tr>\n",
              "  </tbody>\n",
              "</table>\n",
              "</div>\n",
              "      <button class=\"colab-df-convert\" onclick=\"convertToInteractive('df-126d5327-a0b3-4cc5-a6e4-7f05a8bd89d5')\"\n",
              "              title=\"Convert this dataframe to an interactive table.\"\n",
              "              style=\"display:none;\">\n",
              "        \n",
              "  <svg xmlns=\"http://www.w3.org/2000/svg\" height=\"24px\"viewBox=\"0 0 24 24\"\n",
              "       width=\"24px\">\n",
              "    <path d=\"M0 0h24v24H0V0z\" fill=\"none\"/>\n",
              "    <path d=\"M18.56 5.44l.94 2.06.94-2.06 2.06-.94-2.06-.94-.94-2.06-.94 2.06-2.06.94zm-11 1L8.5 8.5l.94-2.06 2.06-.94-2.06-.94L8.5 2.5l-.94 2.06-2.06.94zm10 10l.94 2.06.94-2.06 2.06-.94-2.06-.94-.94-2.06-.94 2.06-2.06.94z\"/><path d=\"M17.41 7.96l-1.37-1.37c-.4-.4-.92-.59-1.43-.59-.52 0-1.04.2-1.43.59L10.3 9.45l-7.72 7.72c-.78.78-.78 2.05 0 2.83L4 21.41c.39.39.9.59 1.41.59.51 0 1.02-.2 1.41-.59l7.78-7.78 2.81-2.81c.8-.78.8-2.07 0-2.86zM5.41 20L4 18.59l7.72-7.72 1.47 1.35L5.41 20z\"/>\n",
              "  </svg>\n",
              "      </button>\n",
              "      \n",
              "  <style>\n",
              "    .colab-df-container {\n",
              "      display:flex;\n",
              "      flex-wrap:wrap;\n",
              "      gap: 12px;\n",
              "    }\n",
              "\n",
              "    .colab-df-convert {\n",
              "      background-color: #E8F0FE;\n",
              "      border: none;\n",
              "      border-radius: 50%;\n",
              "      cursor: pointer;\n",
              "      display: none;\n",
              "      fill: #1967D2;\n",
              "      height: 32px;\n",
              "      padding: 0 0 0 0;\n",
              "      width: 32px;\n",
              "    }\n",
              "\n",
              "    .colab-df-convert:hover {\n",
              "      background-color: #E2EBFA;\n",
              "      box-shadow: 0px 1px 2px rgba(60, 64, 67, 0.3), 0px 1px 3px 1px rgba(60, 64, 67, 0.15);\n",
              "      fill: #174EA6;\n",
              "    }\n",
              "\n",
              "    [theme=dark] .colab-df-convert {\n",
              "      background-color: #3B4455;\n",
              "      fill: #D2E3FC;\n",
              "    }\n",
              "\n",
              "    [theme=dark] .colab-df-convert:hover {\n",
              "      background-color: #434B5C;\n",
              "      box-shadow: 0px 1px 3px 1px rgba(0, 0, 0, 0.15);\n",
              "      filter: drop-shadow(0px 1px 2px rgba(0, 0, 0, 0.3));\n",
              "      fill: #FFFFFF;\n",
              "    }\n",
              "  </style>\n",
              "\n",
              "      <script>\n",
              "        const buttonEl =\n",
              "          document.querySelector('#df-126d5327-a0b3-4cc5-a6e4-7f05a8bd89d5 button.colab-df-convert');\n",
              "        buttonEl.style.display =\n",
              "          google.colab.kernel.accessAllowed ? 'block' : 'none';\n",
              "\n",
              "        async function convertToInteractive(key) {\n",
              "          const element = document.querySelector('#df-126d5327-a0b3-4cc5-a6e4-7f05a8bd89d5');\n",
              "          const dataTable =\n",
              "            await google.colab.kernel.invokeFunction('convertToInteractive',\n",
              "                                                     [key], {});\n",
              "          if (!dataTable) return;\n",
              "\n",
              "          const docLinkHtml = 'Like what you see? Visit the ' +\n",
              "            '<a target=\"_blank\" href=https://colab.research.google.com/notebooks/data_table.ipynb>data table notebook</a>'\n",
              "            + ' to learn more about interactive tables.';\n",
              "          element.innerHTML = '';\n",
              "          dataTable['output_type'] = 'display_data';\n",
              "          await google.colab.output.renderOutput(dataTable, element);\n",
              "          const docLink = document.createElement('div');\n",
              "          docLink.innerHTML = docLinkHtml;\n",
              "          element.appendChild(docLink);\n",
              "        }\n",
              "      </script>\n",
              "    </div>\n",
              "  </div>\n",
              "  "
            ]
          },
          "metadata": {},
          "execution_count": 9
        }
      ],
      "source": [
        "data = pd.read_csv('/content/drive/MyDrive/ChatbotData.csv')\n",
        "data.head()"
      ],
      "id": "09ae6afc"
    },
    {
      "cell_type": "code",
      "execution_count": 10,
      "metadata": {
        "colab": {
          "base_uri": "https://localhost:8080/"
        },
        "id": "fTJP_1mpT2oV",
        "outputId": "85bee74c-aa36-46e8-c212-0adc4141210a"
      },
      "outputs": [
        {
          "output_type": "execute_result",
          "data": {
            "text/plain": [
              "0             12시 땡!\n",
              "1        1지망 학교 떨어졌어\n",
              "2       3박4일 놀러가고 싶다\n",
              "3    3박4일 정도 놀러가고 싶다\n",
              "4            PPL 심하네\n",
              "Name: Q, dtype: object"
            ]
          },
          "metadata": {},
          "execution_count": 10
        }
      ],
      "source": [
        "df = pd.DataFrame(data)\n",
        "questions = df['Q']; answers = df['A']\n",
        "questions.head()"
      ],
      "id": "fTJP_1mpT2oV"
    },
    {
      "cell_type": "code",
      "execution_count": 11,
      "metadata": {
        "id": "EmUNRQ1yVbv2"
      },
      "outputs": [],
      "source": [
        "questions = questions.values.tolist(); answers = answers.values.tolist()"
      ],
      "id": "EmUNRQ1yVbv2"
    },
    {
      "cell_type": "code",
      "execution_count": 12,
      "metadata": {
        "colab": {
          "base_uri": "https://localhost:8080/"
        },
        "id": "pH4-mSGnTKju",
        "outputId": "2de59ae4-af73-4f3d-fa99-b89bae46c9b4"
      },
      "outputs": [
        {
          "output_type": "stream",
          "name": "stdout",
          "text": [
            "11823 11823\n"
          ]
        }
      ],
      "source": [
        "print(len(questions),len(answers))"
      ],
      "id": "pH4-mSGnTKju"
    },
    {
      "cell_type": "code",
      "execution_count": 13,
      "metadata": {
        "colab": {
          "base_uri": "https://localhost:8080/"
        },
        "id": "qIyDlhdHFJTr",
        "outputId": "68d7892c-c4a6-4eda-ee2a-02b79605871a"
      },
      "outputs": [
        {
          "output_type": "execute_result",
          "data": {
            "text/plain": [
              "11750"
            ]
          },
          "metadata": {},
          "execution_count": 13
        }
      ],
      "source": [
        "len(list(set(zip(questions, answers))))"
      ],
      "id": "qIyDlhdHFJTr"
    },
    {
      "cell_type": "code",
      "execution_count": 14,
      "metadata": {
        "id": "a42dbb57"
      },
      "outputs": [],
      "source": [
        "def preprocess_sentence(sentence):\n",
        "    \n",
        "    sentence = sentence.strip()\n",
        "    sentence = re.sub(r\"[^a-zA-Z?.!가-힣ㄱ-ㅎㅏ-ㅣ]+\", \" \", sentence)\n",
        "    sentence = sentence.strip()\n",
        "    \n",
        "    return sentence    "
      ],
      "id": "a42dbb57"
    },
    {
      "cell_type": "code",
      "execution_count": 15,
      "metadata": {
        "id": "5Dj2D02tH6Pa"
      },
      "outputs": [],
      "source": [
        "def tokenize(corpus, vocab_size=30000):\n",
        "    mecab = Mecab()\n",
        "    morph = [\" \".join(mecab.morphs(sen)) for sen in corpus]\n",
        "    tokenizer = tf.keras.preprocessing.text.Tokenizer(filters='',\n",
        "                                                     num_words=vocab_size)\n",
        "    tokenizer.fit_on_texts(morph)\n",
        "\n",
        "    tensor = tokenizer.texts_to_sequences(morph)\n",
        "    tensor = tf.keras.preprocessing.sequence.pad_sequences(tensor, padding='post')\n",
        "\n",
        "        \n",
        "    return tensor, tokenizer, morph"
      ],
      "id": "5Dj2D02tH6Pa"
    },
    {
      "cell_type": "code",
      "execution_count": 16,
      "metadata": {
        "id": "f17c88ba"
      },
      "outputs": [],
      "source": [
        "def build_corpus(questions, answers) :\n",
        "    \n",
        " mecab = Mecab()\n",
        " lsz = list(set(zip(questions, answers)))\n",
        " que_attr = []; ans_attr = []\n",
        " que_tensor = []; ans_tensor = []\n",
        " for i in range(len(lsz)): \n",
        "    QA = list(lsz[i])\n",
        "    if(len(QA[0])<=60 or len(QA[1])<=60) :\n",
        "      q_tensor,_,q_morph = tokenize(preprocess_sentence(QA[0]))\n",
        "      que_tensor.append(q_tensor); que_attr.append(q_morph) \n",
        "      a_tensor,_,a_morph = tokenize(preprocess_sentence(QA[1]))\n",
        "      ans_tensor.append(a_tensor); ans_attr.append(a_morph) \n",
        "\n",
        " return que_tensor, que_attr, ans_tensor, ans_attr           "
      ],
      "id": "f17c88ba"
    },
    {
      "cell_type": "code",
      "execution_count": 17,
      "metadata": {
        "id": "sHkxGnYbOYJB"
      },
      "outputs": [],
      "source": [
        "_,que_corpus,_,ans_corpus = build_corpus(questions, answers)"
      ],
      "id": "sHkxGnYbOYJB"
    },
    {
      "cell_type": "code",
      "execution_count": 18,
      "metadata": {
        "colab": {
          "base_uri": "https://localhost:8080/"
        },
        "id": "yIusYxj5riFX",
        "outputId": "899045c6-b0fb-4d48-8d55-deeecd74e69a"
      },
      "outputs": [
        {
          "output_type": "execute_result",
          "data": {
            "text/plain": [
              "['꽃', '다', '발', '', '샀', '어']"
            ]
          },
          "metadata": {},
          "execution_count": 18
        }
      ],
      "source": [
        "que_corpus[0]"
      ],
      "id": "yIusYxj5riFX"
    },
    {
      "cell_type": "markdown",
      "source": [
        "### 단어 부풀릴 목적의 함수 정의와 단어 부풀리기"
      ],
      "metadata": {
        "id": "40YrY6aPZMig"
      },
      "id": "40YrY6aPZMig"
    },
    {
      "cell_type": "code",
      "execution_count": 19,
      "metadata": {
        "id": "ga0_6XLs89vP"
      },
      "outputs": [],
      "source": [
        "def lexical_sub(sentence, word2vec):\n",
        "    import random\n",
        "\n",
        "    res = \"\"\n",
        "\n",
        "    try:\n",
        "        _from = random.choice(sentence)\n",
        "        _to = wv_model.wv.most_similar(_from)[0][0]\n",
        "\n",
        "    except:   # 단어장에 없는 단어\n",
        "        return None\n",
        "\n",
        "    for tok in sentence :\n",
        "        if tok is _from: res += _to + \" \"\n",
        "        else: res += tok + \" \"\n",
        "\n",
        "    return res"
      ],
      "id": "ga0_6XLs89vP"
    },
    {
      "cell_type": "code",
      "execution_count": 20,
      "metadata": {
        "id": "OuRIIITl8dhT"
      },
      "outputs": [],
      "source": [
        "from tqdm.notebook import tqdm\n",
        "\n",
        "def augment_corpus(src_corpus, tgt_corpus, wv):\n",
        "    new_src_corpus = []\n",
        "    new_tgt_corpus = []\n",
        "    corpus_size = len(src_corpus)\n",
        "    \n",
        "    for i in tqdm(range(corpus_size)):\n",
        "        old_src = src_corpus[i]\n",
        "        old_tgt = tgt_corpus[i]\n",
        "        new_src_corpus.append(old_src)\n",
        "        new_tgt_corpus.append(old_tgt)\n",
        "        new_src = lexical_sub(old_src, wv)\n",
        "        new_tgt = lexical_sub(old_tgt, wv)\n",
        "        \n",
        "\n",
        "        if new_src: \n",
        "            new_src_corpus.append(new_src)\n",
        "            new_tgt_corpus.append(old_tgt)\n",
        "            \n",
        "        if new_tgt: \n",
        "            new_src_corpus.append(old_src)\n",
        "            new_tgt_corpus.append(new_tgt)\n",
        "\n",
        "    return new_src_corpus, new_tgt_corpus"
      ],
      "id": "OuRIIITl8dhT"
    },
    {
      "cell_type": "code",
      "execution_count": 21,
      "metadata": {
        "id": "f7e06caf"
      },
      "outputs": [],
      "source": [
        "w2v_path = '/content/drive/MyDrive/ko.bin'\n",
        "\n",
        "from gensim.models.word2vec import Word2Vec\n",
        "\n",
        "wv_model = Word2Vec.load(w2v_path)"
      ],
      "id": "f7e06caf"
    },
    {
      "cell_type": "code",
      "execution_count": 22,
      "metadata": {
        "colab": {
          "base_uri": "https://localhost:8080/",
          "height": 49,
          "referenced_widgets": [
            "22cda50b83794525984b7d7ee50631a8",
            "d8443f10606942f096b5c191e70fd70f",
            "d534c637d1bb4740b7c91b1838a6d929",
            "278b6505e3484701bc41d3105ac751fa",
            "1c688163b07345c2b0dec61e09f05fa5",
            "8243ea3f40864b20bbe09986de18f478",
            "266b0c09caf34c58b0f27654cecdc592",
            "cbbdde4fb1e3448bb5fb35cef213df15",
            "89e7c7ef36bd4157a59bde0bf8923427",
            "7d110c7ba5f54a78b1e711b57b1bc0e0",
            "173a07d6434a43d4851340dd84263d27"
          ]
        },
        "id": "nf8ORuPnq_GG",
        "outputId": "f042d9f1-1e8c-4b43-fc1c-37ac22665286"
      },
      "outputs": [
        {
          "output_type": "display_data",
          "data": {
            "text/plain": [
              "  0%|          | 0/11823 [00:00<?, ?it/s]"
            ],
            "application/vnd.jupyter.widget-view+json": {
              "version_major": 2,
              "version_minor": 0,
              "model_id": "22cda50b83794525984b7d7ee50631a8"
            }
          },
          "metadata": {}
        }
      ],
      "source": [
        "new_que_corpus, new_ans_corpus = augment_corpus(questions, answers, wv_model)"
      ],
      "id": "nf8ORuPnq_GG"
    },
    {
      "cell_type": "code",
      "execution_count": 23,
      "metadata": {
        "id": "y9V_xzokvE6F"
      },
      "outputs": [],
      "source": [
        "sr_corpus = []; tg_corpus = []\n",
        "for que_sen in new_que_corpus :\n",
        "  que_sen = preprocess_sentence(que_sen)\n",
        "  sr_corpus.append(que_sen)\n",
        "for ans_sen in new_ans_corpus :\n",
        "  ans_sen = preprocess_sentence(ans_sen)\n",
        "  tg_corpus.append(ans_sen)  "
      ],
      "id": "y9V_xzokvE6F"
    },
    {
      "cell_type": "code",
      "execution_count": 24,
      "metadata": {
        "colab": {
          "base_uri": "https://localhost:8080/",
          "height": 35
        },
        "id": "nwWrAw-JWLUO",
        "outputId": "b4c5930f-934b-4464-8559-790d27c50014"
      },
      "outputs": [
        {
          "output_type": "execute_result",
          "data": {
            "text/plain": [
              "'12시 땡!'"
            ],
            "application/vnd.google.colaboratory.intrinsic+json": {
              "type": "string"
            }
          },
          "metadata": {},
          "execution_count": 24
        }
      ],
      "source": [
        "new_que_corpus[0]"
      ],
      "id": "nwWrAw-JWLUO"
    },
    {
      "cell_type": "code",
      "execution_count": 25,
      "metadata": {
        "colab": {
          "base_uri": "https://localhost:8080/",
          "height": 35
        },
        "id": "m8MdmKQfX7Al",
        "outputId": "ae7ac6dd-26aa-42fa-d882-8ed9e93f7cdc"
      },
      "outputs": [
        {
          "output_type": "execute_result",
          "data": {
            "text/plain": [
              "'하루가 또 가네요.'"
            ],
            "application/vnd.google.colaboratory.intrinsic+json": {
              "type": "string"
            }
          },
          "metadata": {},
          "execution_count": 25
        }
      ],
      "source": [
        "new_ans_corpus[0]"
      ],
      "id": "m8MdmKQfX7Al"
    },
    {
      "cell_type": "code",
      "execution_count": 26,
      "metadata": {
        "colab": {
          "base_uri": "https://localhost:8080/"
        },
        "id": "81s66VcjQ9Uq",
        "outputId": "cc66789b-5499-4286-8a79-a659f4a7a927"
      },
      "outputs": [
        {
          "output_type": "stream",
          "name": "stdout",
          "text": [
            "30453 30453\n"
          ]
        }
      ],
      "source": [
        "print(len(new_que_corpus), len(new_ans_corpus))"
      ],
      "id": "81s66VcjQ9Uq"
    },
    {
      "cell_type": "code",
      "execution_count": 27,
      "metadata": {
        "id": "YZENVO5JU5Kc"
      },
      "outputs": [],
      "source": [
        "mecab = Mecab()\n",
        "que_morph = [\" \".join(mecab.morphs(sen)) for sen in new_que_corpus]\n",
        "ans_morph = [\" \".join(mecab.morphs(sen)) for sen in new_ans_corpus]\n",
        "tokenizer = tf.keras.preprocessing.text.Tokenizer(filters='',\n",
        "                                                     num_words=30000)\n",
        "tokenizer.fit_on_texts(que_morph)\n",
        "tokenizer.fit_on_texts(ans_morph)\n",
        "\n",
        "q_tensor = tokenizer.texts_to_sequences(que_morph)\n",
        "q_tensor = tf.keras.preprocessing.sequence.pad_sequences(q_tensor, padding='post')\n",
        "a_tensor = tokenizer.texts_to_sequences(ans_morph)\n",
        "a_tensor = tf.keras.preprocessing.sequence.pad_sequences(a_tensor, padding='post')"
      ],
      "id": "YZENVO5JU5Kc"
    },
    {
      "cell_type": "code",
      "execution_count": 28,
      "metadata": {
        "colab": {
          "base_uri": "https://localhost:8080/"
        },
        "id": "cSCrWJshsMCR",
        "outputId": "6a8c451a-c916-4028-8c6f-e9d6ba1b493f"
      },
      "outputs": [
        {
          "output_type": "stream",
          "name": "stdout",
          "text": [
            "<class 'list'> <start>\n"
          ]
        }
      ],
      "source": [
        "s = [\"<start>\"]; e = [\"<end>\"]\n",
        "print(type(s),s[0])"
      ],
      "id": "cSCrWJshsMCR"
    },
    {
      "cell_type": "code",
      "execution_count": 29,
      "metadata": {
        "id": "AyB7KYiiZoVf"
      },
      "outputs": [],
      "source": [
        "attr = []\n",
        "for ans_sen in new_ans_corpus :\n",
        "  man = [[]for _ in range(3)]\n",
        "  for i in range(3):\n",
        "    man[0] = s[0]; man[1]=ans_sen; man[2] = e[0]\n",
        "  attr.append(man)\n",
        "a_corpus = attr    "
      ],
      "id": "AyB7KYiiZoVf"
    },
    {
      "cell_type": "code",
      "execution_count": 30,
      "metadata": {
        "colab": {
          "base_uri": "https://localhost:8080/"
        },
        "id": "siX5UXUiVahL",
        "outputId": "4d9604b7-4551-4b8d-8dd4-041133d7920e"
      },
      "outputs": [
        {
          "output_type": "execute_result",
          "data": {
            "text/plain": [
              "['<start>', '하루가 또 가네요.', '<end>']"
            ]
          },
          "metadata": {},
          "execution_count": 30
        }
      ],
      "source": [
        "a_corpus[0]"
      ],
      "id": "siX5UXUiVahL"
    },
    {
      "cell_type": "code",
      "execution_count": 31,
      "metadata": {
        "colab": {
          "base_uri": "https://localhost:8080/"
        },
        "id": "S63yga4Z0UH4",
        "outputId": "61146b04-f64e-44c0-c3f3-f4ff5fe88c37"
      },
      "outputs": [
        {
          "output_type": "execute_result",
          "data": {
            "text/plain": [
              "7264"
            ]
          },
          "metadata": {},
          "execution_count": 31
        }
      ],
      "source": [
        "np.max(a_tensor)"
      ],
      "id": "S63yga4Z0UH4"
    },
    {
      "cell_type": "code",
      "execution_count": 32,
      "metadata": {
        "colab": {
          "base_uri": "https://localhost:8080/"
        },
        "id": "KlQv-f5ocM_t",
        "outputId": "7f62bc69-5975-42a1-af76-a004da90dc1d"
      },
      "outputs": [
        {
          "output_type": "execute_result",
          "data": {
            "text/plain": [
              "array([385,   7, 183,   7,  58,   1,   0,   0,   0,   0,   0,   0,   0,\n",
              "         0,   0,   0,   0,   0,   0,   0,   0,   0,   0,   0,   0,   0,\n",
              "         0,   0,   0,   0,   0,   0,   0,   0,   0,   0,   0,   0,   0,\n",
              "         0,   0,   0,   0,   0,   0,   0,   0,   0,   0,   0,   0,   0,\n",
              "         0,   0], dtype=int32)"
            ]
          },
          "metadata": {},
          "execution_count": 32
        }
      ],
      "source": [
        "a_tensor[0]"
      ],
      "id": "KlQv-f5ocM_t"
    },
    {
      "cell_type": "markdown",
      "source": [
        "### Mecab()의 토큰화와 단어 인덱싱"
      ],
      "metadata": {
        "id": "dqAvG2OOYeXg"
      },
      "id": "dqAvG2OOYeXg"
    },
    {
      "cell_type": "code",
      "execution_count": 33,
      "metadata": {
        "id": "XwUl9yCvUkfF"
      },
      "outputs": [],
      "source": [
        "tokenizer = Mecab()\n",
        "X_train = []\n",
        "for sen in new_que_corpus :\n",
        "    tr_sen = tokenizer.morphs(sen) # 토큰화\n",
        "    X_train.append(tr_sen)\n",
        "\n",
        "X_test = []\n",
        "for sen in new_ans_corpus :\n",
        "    te_sen = tokenizer.morphs(sen) # 토큰화\n",
        "    X_test.append(te_sen)\n",
        "    \n",
        "words = np.concatenate(X_train).tolist()\n",
        "counter = Counter(words)\n",
        "counter = counter.most_common(30000-3)\n",
        "vocab = ['<pad>','<start>','<end>'] + [key for key, _ in counter]\n",
        "word_to_index = {word:index for index, word in enumerate(vocab)}\n",
        "word_to_index[\"<pad>\"]=0\n",
        "word_to_index[\"<start>\"]=1\n",
        "word_to_index[\"<end>\"]=2\n",
        "\n",
        "index_to_word = {index:word for word, index in word_to_index.items()}\n",
        "index_to_word[0]=\"<pad>\"\n",
        "index_to_word[1]=\"<start>\"\n",
        "index_to_word[2]=\"<end>\"\n",
        "\n",
        "for i in range(len(X_test)) :\n",
        "  X_test[i] = ['<start>'] + X_test[i] + ['<end>']\n",
        "        \n",
        "def wordlist_to_indexlist(wordlist):\n",
        "    return [word_to_index[word] if word in word_to_index else word_to_index['<pad>'] for word in wordlist]\n",
        "\n",
        "def indexlist_to_wordlist(indexlist):\n",
        "        return [index_to_word[index] if index in index_to_word else index_to_word['<pad>'] for index in indexlist]    \n",
        "        \n",
        "e_train = list(map(wordlist_to_indexlist, X_train))\n",
        "d_train = list(map(wordlist_to_indexlist, X_test))\n",
        "e_train = tf.keras.preprocessing.sequence.pad_sequences(e_train, maxlen=52, padding='post')\n",
        "d_train = tf.keras.preprocessing.sequence.pad_sequences(d_train, maxlen=52, padding='post')"
      ],
      "id": "XwUl9yCvUkfF"
    },
    {
      "cell_type": "code",
      "execution_count": 34,
      "metadata": {
        "colab": {
          "base_uri": "https://localhost:8080/"
        },
        "id": "L61viJw_L_zA",
        "outputId": "a6066be6-1c5f-42b8-d101-007671d1d3ff"
      },
      "outputs": [
        {
          "output_type": "execute_result",
          "data": {
            "text/plain": [
              "5711"
            ]
          },
          "metadata": {},
          "execution_count": 34
        }
      ],
      "source": [
        "np.max(d_train)"
      ],
      "id": "L61viJw_L_zA"
    },
    {
      "cell_type": "code",
      "execution_count": 35,
      "metadata": {
        "colab": {
          "base_uri": "https://localhost:8080/"
        },
        "id": "rypBlroIdAul",
        "outputId": "07e1e320-6d6f-442d-b713-1bbe2d55611d"
      },
      "outputs": [
        {
          "output_type": "execute_result",
          "data": {
            "text/plain": [
              "array([   1,  340,    8,  130,    8, 1534,    7,    2,    0,    0,    0,\n",
              "          0,    0,    0,    0,    0,    0,    0,    0,    0,    0,    0,\n",
              "          0,    0,    0,    0,    0,    0,    0,    0,    0,    0,    0,\n",
              "          0,    0,    0,    0,    0,    0,    0,    0,    0,    0,    0,\n",
              "          0,    0,    0,    0,    0,    0,    0,    0], dtype=int32)"
            ]
          },
          "metadata": {},
          "execution_count": 35
        }
      ],
      "source": [
        "d_train[0]"
      ],
      "id": "rypBlroIdAul"
    },
    {
      "cell_type": "code",
      "execution_count": 36,
      "metadata": {
        "id": "gMtVoTZuz_eY"
      },
      "outputs": [],
      "source": [
        "enc_train = e_train; dec_train = d_train"
      ],
      "id": "gMtVoTZuz_eY"
    },
    {
      "cell_type": "markdown",
      "source": [
        "### 사용될 트랜스포머의 여러 모듈 정의"
      ],
      "metadata": {
        "id": "TB-82p-4YWQP"
      },
      "id": "TB-82p-4YWQP"
    },
    {
      "cell_type": "code",
      "execution_count": 37,
      "metadata": {
        "id": "4a874c04"
      },
      "outputs": [],
      "source": [
        "def positional_encoding(pos, d_model):\n",
        "    def cal_angle(position, i):\n",
        "        return position / np.power(10000, (2*(i//2)) / np.float32(d_model))\n",
        "\n",
        "    def get_posi_angle_vec(position):\n",
        "        return [cal_angle(position, i) for i in range(d_model)]\n",
        "\n",
        "    sinusoid_table = np.array([get_posi_angle_vec(pos_i) for pos_i in range(pos)])\n",
        "\n",
        "    sinusoid_table[:, 0::2] = np.sin(sinusoid_table[:, 0::2])\n",
        "    sinusoid_table[:, 1::2] = np.cos(sinusoid_table[:, 1::2])\n",
        "\n",
        "    return sinusoid_table"
      ],
      "id": "4a874c04"
    },
    {
      "cell_type": "code",
      "execution_count": 38,
      "metadata": {
        "id": "632bfb6b"
      },
      "outputs": [],
      "source": [
        "def generate_padding_mask(seq):\n",
        "    seq = tf.cast(tf.math.equal(seq, 0), tf.float32)\n",
        "    return seq[:, tf.newaxis, tf.newaxis, :]\n",
        "\n",
        "def generate_lookahead_mask(size):\n",
        "    mask = 1 - tf.linalg.band_part(tf.ones((size, size)), -1, 0)\n",
        "    return mask\n",
        "\n",
        "def generate_masks(src, tgt):\n",
        "    enc_mask = generate_padding_mask(src)\n",
        "    dec_enc_mask = generate_padding_mask(src)\n",
        "\n",
        "    dec_lookahead_mask = generate_lookahead_mask(tgt.shape[1])\n",
        "    dec_tgt_padding_mask = generate_padding_mask(tgt)\n",
        "    dec_mask = tf.maximum(dec_tgt_padding_mask, dec_lookahead_mask)\n",
        "\n",
        "    return enc_mask, dec_enc_mask, dec_mask"
      ],
      "id": "632bfb6b"
    },
    {
      "cell_type": "code",
      "execution_count": 39,
      "metadata": {
        "id": "86b72a3b"
      },
      "outputs": [],
      "source": [
        "class MultiHeadAttention(tf.keras.layers.Layer):\n",
        "    def __init__(self, d_model, num_heads):\n",
        "        super(MultiHeadAttention, self).__init__()\n",
        "        self.num_heads = num_heads\n",
        "        self.d_model = d_model\n",
        "        \n",
        "        self.depth = d_model // self.num_heads\n",
        "        \n",
        "        self.W_q = tf.keras.layers.Dense(d_model)\n",
        "        self.W_k = tf.keras.layers.Dense(d_model)\n",
        "        self.W_v = tf.keras.layers.Dense(d_model)\n",
        "        \n",
        "        self.linear = tf.keras.layers.Dense(d_model)\n",
        "\n",
        "    def scaled_dot_product_attention(self, Q, K, V, mask):\n",
        "        d_k = tf.cast(K.shape[-1], tf.float32)\n",
        "        QK = tf.matmul(Q, K, transpose_b=True)\n",
        "\n",
        "        scaled_qk = QK / tf.math.sqrt(d_k)\n",
        "\n",
        "        if mask is not None: scaled_qk += (mask * -1e9)  \n",
        "\n",
        "        attentions = tf.nn.softmax(scaled_qk, axis=-1)\n",
        "        out = tf.matmul(attentions, V)\n",
        "\n",
        "        return out, attentions\n",
        "        \n",
        "\n",
        "    def split_heads(self, x):\n",
        "        bsz = x.shape[0]\n",
        "        split_x = tf.reshape(x, (bsz, -1, self.num_heads, self.depth))\n",
        "        split_x = tf.transpose(split_x, perm=[0, 2, 1, 3])\n",
        "\n",
        "        return split_x\n",
        "\n",
        "    def combine_heads(self, x):\n",
        "        bsz = x.shape[0]\n",
        "        combined_x = tf.transpose(x, perm=[0, 2, 1, 3])\n",
        "        combined_x = tf.reshape(combined_x, (bsz, -1, self.d_model))\n",
        "\n",
        "        return combined_x\n",
        "\n",
        "    \n",
        "    def call(self, Q, K, V, mask):\n",
        "        WQ = self.W_q(Q)\n",
        "        WK = self.W_k(K)\n",
        "        WV = self.W_v(V)\n",
        "        \n",
        "        WQ_splits = self.split_heads(WQ)\n",
        "        WK_splits = self.split_heads(WK)\n",
        "        WV_splits = self.split_heads(WV)\n",
        "        \n",
        "        out, attention_weights = self.scaled_dot_product_attention(\n",
        "            WQ_splits, WK_splits, WV_splits, mask)\n",
        "                        \n",
        "        out = self.combine_heads(out)\n",
        "        out = self.linear(out)\n",
        "            \n",
        "        return out, attention_weights"
      ],
      "id": "86b72a3b"
    },
    {
      "cell_type": "code",
      "execution_count": 40,
      "metadata": {
        "id": "a42542bf"
      },
      "outputs": [],
      "source": [
        "class PoswiseFeedForwardNet(tf.keras.layers.Layer):\n",
        "    def __init__(self, d_model, d_ff):\n",
        "        super(PoswiseFeedForwardNet, self).__init__()\n",
        "        self.d_model = d_model\n",
        "        self.d_ff = d_ff\n",
        "\n",
        "        self.fc1 = tf.keras.layers.Dense(d_ff, activation='relu')\n",
        "        self.fc2 = tf.keras.layers.Dense(d_model)\n",
        "\n",
        "    def call(self, x):\n",
        "        out = self.fc1(x)\n",
        "        out = self.fc2(out)\n",
        "            \n",
        "        return out"
      ],
      "id": "a42542bf"
    },
    {
      "cell_type": "code",
      "execution_count": 41,
      "metadata": {
        "id": "c00caf22"
      },
      "outputs": [],
      "source": [
        "class EncoderLayer(tf.keras.layers.Layer):\n",
        "    def __init__(self, d_model, n_heads, d_ff, dropout):\n",
        "        super(EncoderLayer, self).__init__()\n",
        "\n",
        "        self.enc_self_attn = MultiHeadAttention(d_model, n_heads)\n",
        "        self.ffn = PoswiseFeedForwardNet(d_model, d_ff)\n",
        "\n",
        "        self.norm_1 = tf.keras.layers.LayerNormalization(epsilon=1e-6)\n",
        "        self.norm_2 = tf.keras.layers.LayerNormalization(epsilon=1e-6)\n",
        "\n",
        "        self.do = tf.keras.layers.Dropout(dropout)\n",
        "        \n",
        "    def call(self, x, mask):\n",
        "        '''\n",
        "        Multi-Head Attention\n",
        "        '''\n",
        "        residual = x\n",
        "        out = self.norm_1(x)\n",
        "        out, enc_attn = self.enc_self_attn(out, out, out, mask)\n",
        "        out = self.do(out)\n",
        "        out += residual\n",
        "        \n",
        "        '''\n",
        "        Position-Wise Feed Forward Network\n",
        "        '''\n",
        "        residual = out\n",
        "        out = self.norm_2(out)\n",
        "        out = self.ffn(out)\n",
        "        out = self.do(out)\n",
        "        out += residual\n",
        "        \n",
        "        return out, enc_attn"
      ],
      "id": "c00caf22"
    },
    {
      "cell_type": "code",
      "execution_count": 42,
      "metadata": {
        "colab": {
          "base_uri": "https://localhost:8080/"
        },
        "id": "3d8c6364",
        "outputId": "22a65fab-5e14-4241-8fc3-7f1a98e48dce"
      },
      "outputs": [
        {
          "output_type": "stream",
          "name": "stdout",
          "text": [
            "슝=3\n"
          ]
        }
      ],
      "source": [
        "class DecoderLayer(tf.keras.layers.Layer):\n",
        "    def __init__(self, d_model, num_heads, d_ff, dropout):\n",
        "        super(DecoderLayer, self).__init__()\n",
        "\n",
        "        self.dec_self_attn = MultiHeadAttention(d_model, num_heads)\n",
        "        self.enc_dec_attn = MultiHeadAttention(d_model, num_heads)\n",
        "\n",
        "        self.ffn = PoswiseFeedForwardNet(d_model, d_ff)\n",
        "\n",
        "        self.norm_1 = tf.keras.layers.LayerNormalization(epsilon=1e-6)\n",
        "        self.norm_2 = tf.keras.layers.LayerNormalization(epsilon=1e-6)\n",
        "        self.norm_3 = tf.keras.layers.LayerNormalization(epsilon=1e-6)\n",
        "\n",
        "        self.do = tf.keras.layers.Dropout(dropout)\n",
        "    \n",
        "    def call(self, x, enc_out, dec_enc_mask, padding_mask):\n",
        "        '''\n",
        "        Masked Multi-Head Attention\n",
        "        '''\n",
        "        residual = x\n",
        "        out = self.norm_1(x)\n",
        "        out, dec_attn = self.dec_self_attn(out, out, out, padding_mask)\n",
        "        out = self.do(out)\n",
        "        out += residual\n",
        "\n",
        "        '''\n",
        "        Multi-Head Attention\n",
        "        '''\n",
        "        residual = out\n",
        "        out = self.norm_2(out)\n",
        "        # Q, K, V 순서에 주의하세요!\n",
        "        out, dec_enc_attn = self.enc_dec_attn(Q=out, K=enc_out, V=enc_out, mask=dec_enc_mask)\n",
        "        out = self.do(out)\n",
        "        out += residual\n",
        "        \n",
        "        '''\n",
        "        Position-Wise Feed Forward Network\n",
        "        '''\n",
        "        residual = out\n",
        "        out = self.norm_3(out)\n",
        "        out = self.ffn(out)\n",
        "        out = self.do(out)\n",
        "        out += residual\n",
        "\n",
        "        return out, dec_attn, dec_enc_attn\n",
        "print(\"슝=3\")"
      ],
      "id": "3d8c6364"
    },
    {
      "cell_type": "code",
      "execution_count": 43,
      "metadata": {
        "id": "0a6fd288"
      },
      "outputs": [],
      "source": [
        "class Encoder(tf.keras.Model):\n",
        "    def __init__(self,\n",
        "                    n_layers,\n",
        "                    d_model,\n",
        "                    n_heads,\n",
        "                    d_ff,\n",
        "                    dropout):\n",
        "        super(Encoder, self).__init__()\n",
        "        self.n_layers = n_layers\n",
        "        self.enc_layers = [EncoderLayer(d_model, n_heads, d_ff, dropout) \n",
        "                        for _ in range(n_layers)]\n",
        "    \n",
        "        self.do = tf.keras.layers.Dropout(dropout)\n",
        "        \n",
        "    def call(self, x, mask):\n",
        "        out = x\n",
        "    \n",
        "        enc_attns = list()\n",
        "        for i in range(self.n_layers):\n",
        "            out, enc_attn = self.enc_layers[i](out, mask)\n",
        "            enc_attns.append(enc_attn)\n",
        "        \n",
        "        return out, enc_attns"
      ],
      "id": "0a6fd288"
    },
    {
      "cell_type": "code",
      "execution_count": 44,
      "metadata": {
        "id": "70fb7d2d"
      },
      "outputs": [],
      "source": [
        "class Decoder(tf.keras.Model):\n",
        "    def __init__(self,\n",
        "                    n_layers,\n",
        "                    d_model,\n",
        "                    n_heads,\n",
        "                    d_ff,\n",
        "                    dropout):\n",
        "        super(Decoder, self).__init__()\n",
        "        self.n_layers = n_layers\n",
        "        self.dec_layers = [DecoderLayer(d_model, n_heads, d_ff, dropout) \n",
        "                            for _ in range(n_layers)]\n",
        "                            \n",
        "    def call(self, x, enc_out, dec_enc_mask, padding_mask):\n",
        "        out = x\n",
        "    \n",
        "        dec_attns = list()\n",
        "        dec_enc_attns = list()\n",
        "        for i in range(self.n_layers):\n",
        "            out, dec_attn, dec_enc_attn = \\\n",
        "            self.dec_layers[i](out, enc_out, dec_enc_mask, padding_mask)\n",
        "\n",
        "            dec_attns.append(dec_attn)\n",
        "            dec_enc_attns.append(dec_enc_attn)\n",
        "\n",
        "        return out, dec_attns, dec_enc_attns"
      ],
      "id": "70fb7d2d"
    },
    {
      "cell_type": "code",
      "execution_count": 45,
      "metadata": {
        "id": "a4b6d28b"
      },
      "outputs": [],
      "source": [
        "class Transformer(tf.keras.Model):\n",
        "    def __init__(self,\n",
        "                    n_layers,\n",
        "                    d_model,\n",
        "                    n_heads,\n",
        "                    d_ff,\n",
        "                    src_vocab_size,\n",
        "                    tgt_vocab_size,\n",
        "                    pos_len,\n",
        "                    dropout=0.2,\n",
        "                    shared_fc=True,\n",
        "                    shared_emb=False):\n",
        "        super(Transformer, self).__init__()\n",
        "        \n",
        "        self.d_model = tf.cast(d_model, tf.float32)\n",
        "\n",
        "        if shared_emb:\n",
        "            self.enc_emb = self.dec_emb = \\\n",
        "            tf.keras.layers.Embedding(src_vocab_size, d_model)\n",
        "        else:\n",
        "            self.enc_emb = tf.keras.layers.Embedding(src_vocab_size, d_model)\n",
        "            self.dec_emb = tf.keras.layers.Embedding(tgt_vocab_size, d_model)\n",
        "\n",
        "        self.pos_encoding = positional_encoding(pos_len, d_model)\n",
        "        self.do = tf.keras.layers.Dropout(dropout)\n",
        "\n",
        "        self.encoder = Encoder(n_layers, d_model, n_heads, d_ff, dropout)\n",
        "        self.decoder = Decoder(n_layers, d_model, n_heads, d_ff, dropout)\n",
        "\n",
        "        self.fc = tf.keras.layers.Dense(tgt_vocab_size)\n",
        "\n",
        "        self.shared_fc = shared_fc\n",
        "\n",
        "        if shared_fc:\n",
        "            self.fc.set_weights(tf.transpose(self.dec_emb.weights))\n",
        "\n",
        "    def embedding(self, emb, x):\n",
        "        seq_len = x.shape[1]\n",
        "\n",
        "        out = emb(x)\n",
        "\n",
        "        if self.shared_fc: out *= tf.math.sqrt(self.d_model)\n",
        "\n",
        "        out += self.pos_encoding[np.newaxis, ...][:, :seq_len, :]\n",
        "        out = self.do(out)\n",
        "\n",
        "        return out\n",
        "\n",
        "        \n",
        "    def call(self, enc_in, dec_in, enc_mask, dec_enc_mask, dec_mask):\n",
        "        enc_in = self.embedding(self.enc_emb, enc_in)\n",
        "        dec_in = self.embedding(self.dec_emb, dec_in)\n",
        "\n",
        "        enc_out, enc_attns = self.encoder(enc_in, enc_mask)\n",
        "        \n",
        "        dec_out, dec_attns, dec_enc_attns = \\\n",
        "        self.decoder(dec_in, enc_out, dec_enc_mask, dec_mask)\n",
        "        \n",
        "        logits = self.fc(dec_out)\n",
        "        \n",
        "        return logits, enc_attns, dec_attns, dec_enc_attns"
      ],
      "id": "a4b6d28b"
    },
    {
      "cell_type": "code",
      "execution_count": 46,
      "metadata": {
        "id": "dbae26c3"
      },
      "outputs": [],
      "source": [
        "class LearningRateScheduler(tf.keras.optimizers.schedules.LearningRateSchedule):\n",
        "    def __init__(self, d_model, warmup_steps=4000):\n",
        "        super(LearningRateScheduler, self).__init__()\n",
        "        \n",
        "        self.d_model = d_model\n",
        "        self.warmup_steps = warmup_steps\n",
        "    \n",
        "    def __call__(self, step):\n",
        "        arg1 = step ** -0.5\n",
        "        arg2 = step * (self.warmup_steps ** -1.5)\n",
        "        \n",
        "        return (self.d_model ** -0.5) * tf.math.minimum(arg1, arg2)"
      ],
      "id": "dbae26c3"
    },
    {
      "cell_type": "code",
      "execution_count": 47,
      "metadata": {
        "id": "44d7049f"
      },
      "outputs": [],
      "source": [
        "learning_rate = LearningRateScheduler(d_model=512)\n",
        "\n",
        "optimizer = tf.keras.optimizers.Adam(learning_rate,\n",
        "                                        beta_1=0.9,\n",
        "                                        beta_2=0.98, \n",
        "                                        epsilon=1e-9)"
      ],
      "id": "44d7049f"
    },
    {
      "cell_type": "code",
      "execution_count": 48,
      "metadata": {
        "id": "e6466542"
      },
      "outputs": [],
      "source": [
        "loss_object = tf.keras.losses.SparseCategoricalCrossentropy(\n",
        "    from_logits=True, reduction='none')\n",
        "\n",
        "def loss_function(real, pred):\n",
        "    mask = tf.math.logical_not(tf.math.equal(real, 0))\n",
        "    loss_ = loss_object(real, pred)\n",
        "\n",
        "    mask = tf.cast(mask, dtype=loss_.dtype)\n",
        "    loss_ *= mask\n",
        "\n",
        "    return tf.reduce_sum(loss_)/tf.reduce_sum(mask)"
      ],
      "id": "e6466542"
    },
    {
      "cell_type": "code",
      "execution_count": 49,
      "metadata": {
        "id": "2d46a12f"
      },
      "outputs": [],
      "source": [
        "@tf.function()\n",
        "def train_step(src, tgt, model, optimizer):\n",
        "    tgt_in = tgt[:, :-1]  # Decoder의 input\n",
        "    gold = tgt[:, 1:]     # Decoder의 output과 비교하기 위해 right shift를 통해 생성한 최종 타겟\n",
        "\n",
        "    enc_mask, dec_enc_mask, dec_mask = generate_masks(src, tgt_in)\n",
        "\n",
        "    with tf.GradientTape() as tape:\n",
        "        predictions, enc_attns, dec_attns, dec_enc_attns = \\\n",
        "        model(src, tgt_in, enc_mask, dec_enc_mask, dec_mask)\n",
        "        loss = loss_function(gold, predictions)\n",
        "\n",
        "    gradients = tape.gradient(loss, model.trainable_variables)    \n",
        "    optimizer.apply_gradients(zip(gradients, model.trainable_variables))\n",
        "\n",
        "    return loss, enc_attns, dec_attns, dec_enc_attns"
      ],
      "id": "2d46a12f"
    },
    {
      "cell_type": "markdown",
      "source": [
        "### 트랜스포머 객체 정의와 사용될 상수 정의"
      ],
      "metadata": {
        "id": "OnfDvB5sYCXQ"
      },
      "id": "OnfDvB5sYCXQ"
    },
    {
      "cell_type": "code",
      "execution_count": 50,
      "metadata": {
        "id": "a246ee43"
      },
      "outputs": [],
      "source": [
        "Tran = Transformer(\n",
        "    n_layers=2,\n",
        "    d_model=512,\n",
        "    n_heads=8,\n",
        "    d_ff=2048,\n",
        "    src_vocab_size=30000,\n",
        "    tgt_vocab_size=30000,\n",
        "    pos_len=200,\n",
        "    dropout=0.3,\n",
        "    shared_fc=True,\n",
        "    shared_emb=True)\n",
        "\t\t\n",
        "d_model = 512"
      ],
      "id": "a246ee43"
    },
    {
      "cell_type": "code",
      "execution_count": 51,
      "metadata": {
        "id": "YJy5cCfMOVaC"
      },
      "outputs": [],
      "source": [
        "learning_rate = LearningRateScheduler(512)\n",
        "optimizer = tf.keras.optimizers.Adam(learning_rate, beta_1=0.9, beta_2=0.98, epsilon=1e-9)"
      ],
      "id": "YJy5cCfMOVaC"
    },
    {
      "cell_type": "code",
      "execution_count": 52,
      "metadata": {
        "colab": {
          "base_uri": "https://localhost:8080/"
        },
        "id": "j0Vm5RZkqUBQ",
        "outputId": "c87f417f-07c1-46f0-bcd8-5048dd9ba85e"
      },
      "outputs": [
        {
          "output_type": "stream",
          "name": "stdout",
          "text": [
            "30453 30453\n"
          ]
        }
      ],
      "source": [
        "print(len(new_que_corpus), len(new_ans_corpus))"
      ],
      "id": "j0Vm5RZkqUBQ"
    },
    {
      "cell_type": "code",
      "execution_count": 53,
      "metadata": {
        "colab": {
          "base_uri": "https://localhost:8080/"
        },
        "id": "cPx9B_EoJKqV",
        "outputId": "1efc9f98-93fb-49d9-db02-9e341a61098e"
      },
      "outputs": [
        {
          "output_type": "stream",
          "name": "stdout",
          "text": [
            "enc_train : 30148 enc_val : 305\n",
            "dec_train : 30148 dec_val : 305\n"
          ]
        }
      ],
      "source": [
        "enc_train, enc_val, dec_train, dec_val = \\\n",
        "train_test_split(enc_train, dec_train, test_size=0.01)\n",
        "\n",
        "print(\"enc_train :\", len(enc_train), \"enc_val :\", len(enc_val))\n",
        "print(\"dec_train :\", len(dec_train), \"dec_val :\",len(dec_val))"
      ],
      "id": "cPx9B_EoJKqV"
    },
    {
      "cell_type": "code",
      "execution_count": 54,
      "metadata": {
        "colab": {
          "base_uri": "https://localhost:8080/"
        },
        "id": "DkZtRJ29X2wj",
        "outputId": "ef5d9d26-7919-4758-c7ca-485cf8a094c8"
      },
      "outputs": [
        {
          "output_type": "stream",
          "name": "stdout",
          "text": [
            "52\n",
            "52\n"
          ]
        }
      ],
      "source": [
        "print(len(enc_train[2]))\n",
        "print(len(dec_train[2]))"
      ],
      "id": "DkZtRJ29X2wj"
    },
    {
      "cell_type": "markdown",
      "source": [
        "### 훈련 및 관찰"
      ],
      "metadata": {
        "id": "IVPEjjM2YNSy"
      },
      "id": "IVPEjjM2YNSy"
    },
    {
      "cell_type": "code",
      "execution_count": 55,
      "metadata": {
        "colab": {
          "base_uri": "https://localhost:8080/",
          "height": 113,
          "referenced_widgets": [
            "e4b12ac880374ab5adbe8e9bc0b0e335",
            "9201c1b5cb304a3d9256e11e70416ffc",
            "82ff6373d9304166b3425a93c7a4a3a6",
            "19d4ccc500a94b19be3bc6134a31859f",
            "db0e5d13f0e941eeb452411f4dbc2c25",
            "9de8e3663b614cd09516fe4335964d69",
            "1585f592bd8e4021a31ea0fba7fe862c",
            "bf937a6216b841a0ad6e0d4703f988c2",
            "28497079f5784be1ada54fe25ab0853e",
            "0421603ba6c64ad8a4b71dd0d07f010b",
            "6d21334e2e6e4c41b12a969ff26dd412",
            "f9595f2c631446efbf7b4ebe837862ab",
            "e4b3a2d113e340359395bcb8afd02968",
            "e02de7ccca914ba28e6d4ef8d6471043",
            "e88331415a6349d699940636054546e4",
            "737c71a4951a48e982d2614c890c9d55",
            "558bc335b69c486e8a06c653eccc61f6",
            "469bffc55a184fd9986f00e8def6804b",
            "b3f70a3ecf1d48c6b30adc82aeb9fc03",
            "42d79d9840dc4a5899fdf751d9922b66",
            "cda93f3dcc0d4852acf2d757771a1d02",
            "c121fd1643cb465ea1947669c24b46e4",
            "31de788e80534e1c93fa49b28e465718",
            "4d53ed7cf5874b6bb31439b733aeb726",
            "fce3667b07c949af87e4c2f960d49f78",
            "aa2724d5fe124aaca73499ba511ff703",
            "b2105d6c30f748c6aacb20c502c1f12f",
            "aa21202a4e284c12b1dcb83619120630",
            "08e1175a3c6e4c1c987d582eb8451cce",
            "390fe55d29a64cd5aabe61071d3faf54",
            "1374ce7d779140aaba2a9b7b1934cbe0",
            "7bf094819ffd4f4ea6af3396b5ee526a",
            "f267309a56984a9080c75a5a4dfad255"
          ]
        },
        "id": "EohtfLwuSoIv",
        "outputId": "ea63a8d8-2c7a-4aa0-f2e7-ca67e2a7f90b"
      },
      "outputs": [
        {
          "output_type": "display_data",
          "data": {
            "text/plain": [
              "  0%|          | 0/472 [00:00<?, ?it/s]"
            ],
            "application/vnd.jupyter.widget-view+json": {
              "version_major": 2,
              "version_minor": 0,
              "model_id": "e4b12ac880374ab5adbe8e9bc0b0e335"
            }
          },
          "metadata": {}
        },
        {
          "output_type": "display_data",
          "data": {
            "text/plain": [
              "  0%|          | 0/472 [00:00<?, ?it/s]"
            ],
            "application/vnd.jupyter.widget-view+json": {
              "version_major": 2,
              "version_minor": 0,
              "model_id": "f9595f2c631446efbf7b4ebe837862ab"
            }
          },
          "metadata": {}
        },
        {
          "output_type": "display_data",
          "data": {
            "text/plain": [
              "  0%|          | 0/472 [00:00<?, ?it/s]"
            ],
            "application/vnd.jupyter.widget-view+json": {
              "version_major": 2,
              "version_minor": 0,
              "model_id": "31de788e80534e1c93fa49b28e465718"
            }
          },
          "metadata": {}
        }
      ],
      "source": [
        "EPOCHS = 3\n",
        "BATCH_SIZE = 64\n",
        "\n",
        "train_dataset = tf.data.Dataset.from_tensor_slices((enc_train, dec_train)).batch(batch_size=BATCH_SIZE)\n",
        "\n",
        "for epoch in range(EPOCHS):\n",
        "    total_loss = 0\n",
        "    \n",
        "    dataset_count = tf.data.experimental.cardinality(train_dataset).numpy()\n",
        "    tqdm_bar = tqdm(total=dataset_count)\n",
        "    for step, (enc_batch, dec_batch) in enumerate(train_dataset):\n",
        "        batch_loss, enc_attns, dec_attns, dec_enc_attns = \\\n",
        "        train_step(enc_batch,\n",
        "                    dec_batch,\n",
        "                    Tran,\n",
        "                    optimizer)\n",
        "\n",
        "        total_loss += batch_loss\n",
        "        \n",
        "        tqdm_bar.set_description_str('Epoch %2d' % (epoch + 1))\n",
        "        tqdm_bar.set_postfix_str('Loss %.4f' % (total_loss.numpy() / (step + 1)))\n",
        "        tqdm_bar.update()"
      ],
      "id": "EohtfLwuSoIv"
    },
    {
      "cell_type": "markdown",
      "metadata": {
        "id": "gQbtXw_eBd89"
      },
      "source": [
        "### 트랜스포머 모델의 번역 성능 알아보기"
      ],
      "id": "gQbtXw_eBd89"
    },
    {
      "cell_type": "code",
      "execution_count": 56,
      "metadata": {
        "id": "DNRTn-ujpKIq"
      },
      "outputs": [],
      "source": [
        "tokenizer = tf.keras.preprocessing.text.Tokenizer(filters='', num_words=30000)"
      ],
      "id": "DNRTn-ujpKIq"
    },
    {
      "cell_type": "code",
      "execution_count": 57,
      "metadata": {
        "colab": {
          "base_uri": "https://localhost:8080/"
        },
        "id": "KBA0J3MlBRds",
        "outputId": "baee90bc-b00e-4a3f-a830-f670af540ccb"
      },
      "outputs": [
        {
          "output_type": "stream",
          "name": "stdout",
          "text": [
            "슝=3\n"
          ]
        }
      ],
      "source": [
        "def translate(tokens, model):\n",
        "    padded_tokens = tf.keras.preprocessing.sequence.pad_sequences([tokens],\n",
        "                                                           maxlen=52,\n",
        "                                                           padding='post')\n",
        "    ids = []\n",
        "    output = tf.expand_dims([word_to_index[\"<start>\"]], 0)   \n",
        "    for i in range(52):\n",
        "        enc_padding_mask, combined_mask, dec_padding_mask = \\\n",
        "        generate_masks(padded_tokens, output)\n",
        "\n",
        "        predictions, _, _, _ = model(padded_tokens, \n",
        "                                      output,\n",
        "                                      enc_padding_mask,\n",
        "                                      combined_mask,\n",
        "                                      dec_padding_mask)\n",
        "\n",
        "        predicted_id = \\\n",
        "        tf.argmax(tf.math.softmax(predictions, axis=-1)[0, -1]).numpy().item()\n",
        "\n",
        "        if word_to_index[\"<end>\"] == predicted_id:\n",
        "            result = indexlist_to_wordlist(ids)  \n",
        "            return result\n",
        "\n",
        "        ids.append(predicted_id)\n",
        "        output = tf.concat([output, tf.expand_dims([predicted_id], 0)], axis=-1)\n",
        "\n",
        "    result = indexlist_to_wordlist(ids)  \n",
        "    return result\n",
        "\n",
        "print(\"슝=3\")"
      ],
      "id": "KBA0J3MlBRds"
    },
    {
      "cell_type": "code",
      "source": [
        "def listToString(str_list):\n",
        "     result = \"\"\n",
        "     for s in str_list:\n",
        "        result += s + \" \"\n",
        "     return result.strip()"
      ],
      "metadata": {
        "id": "ruN05uXtVMIW"
      },
      "id": "ruN05uXtVMIW",
      "execution_count": 58,
      "outputs": []
    },
    {
      "cell_type": "code",
      "execution_count": 59,
      "metadata": {
        "colab": {
          "base_uri": "https://localhost:8080/"
        },
        "id": "5Nf3HsLBCcgs",
        "outputId": "58763ba1-9614-433b-be6f-21211ec9d1f4"
      },
      "outputs": [
        {
          "output_type": "stream",
          "name": "stdout",
          "text": [
            "슝=3\n"
          ]
        }
      ],
      "source": [
        "def eval_bleu_single(model, src_sentence, tgt_sentence, verbose=True):\n",
        "\n",
        "    src_tokens = tf.keras.preprocessing.text.text_to_word_sequence(src_sentence)\n",
        "    tgt_tokens = tf.keras.preprocessing.text.text_to_word_sequence(tgt_sentence)\n",
        "\n",
        "    tokens_s = wordlist_to_indexlist(src_tokens)\n",
        "    tokens_t = wordlist_to_indexlist(tgt_tokens)\n",
        "\n",
        "    if (len(tokens_s) > 52): return None\n",
        "    if (len(tokens_t) > 52): return None\n",
        "\n",
        "    reference = tgt_sentence\n",
        "    candidate = listToString(translate(tokens_s, model))\n",
        "\n",
        "    score = sentence_bleu([reference], candidate,\n",
        "                          smoothing_function=SmoothingFunction().method1)\n",
        "\n",
        "    if verbose:\n",
        "        print(\"Source Sentence: \", src_sentence)\n",
        "        print(\"Model Prediction: \", candidate)\n",
        "        print(\"Real: \", reference)\n",
        "        print(\"Score: %lf\\n\" % score)\n",
        "        \n",
        "    return score\n",
        "        \n",
        "print('슝=3')"
      ],
      "id": "5Nf3HsLBCcgs"
    },
    {
      "cell_type": "markdown",
      "metadata": {
        "id": "5-beaxWIDoTd"
      },
      "source": [
        "### 번역 성능 측정하기(1) : BLEU 스코어"
      ],
      "id": "5-beaxWIDoTd"
    },
    {
      "cell_type": "code",
      "source": [
        "test_idx = 0\n",
        "\n",
        "eval_bleu_single(Tran, new_que_corpus[test_idx], new_ans_corpus[test_idx])"
      ],
      "metadata": {
        "colab": {
          "base_uri": "https://localhost:8080/"
        },
        "id": "XN-KFK7K6tfw",
        "outputId": "46a05768-07c0-4be2-8929-6e3cf4c7651c"
      },
      "id": "XN-KFK7K6tfw",
      "execution_count": 60,
      "outputs": [
        {
          "output_type": "stream",
          "name": "stdout",
          "text": [
            "Source Sentence:  12시 땡!\n",
            "Model Prediction:  좋 은 생각 이 에요 .\n",
            "Real:  하루가 또 가네요.\n",
            "Score: 0.021973\n",
            "\n"
          ]
        },
        {
          "output_type": "execute_result",
          "data": {
            "text/plain": [
              "0.021972813874997166"
            ]
          },
          "metadata": {},
          "execution_count": 60
        }
      ]
    },
    {
      "cell_type": "code",
      "source": [
        "Q = '간만에 여자친구랑 데이트 하기로 했어.'; A = '떨리 겠 죠'\n",
        "eval_bleu_single(Tran, Q, A)"
      ],
      "metadata": {
        "colab": {
          "base_uri": "https://localhost:8080/",
          "height": 126
        },
        "id": "UA8aiZyxZoPy",
        "outputId": "87145991-6cd1-4e5e-a622-5741d96929b0"
      },
      "id": "UA8aiZyxZoPy",
      "execution_count": 61,
      "outputs": [
        {
          "output_type": "stream",
          "name": "stdout",
          "text": [
            "Source Sentence:  간만에 여자친구랑 데이트 하기로 했어.\n",
            "Model Prediction:  좋 은 곳 이 좋 죠 .\n",
            "Real:  떨리 겠 죠\n",
            "Score: 0.036362\n",
            "\n"
          ]
        },
        {
          "output_type": "execute_result",
          "data": {
            "text/plain": [
              "0.036362270465000714"
            ]
          },
          "metadata": {},
          "execution_count": 61
        }
      ]
    },
    {
      "cell_type": "code",
      "execution_count": 62,
      "metadata": {
        "id": "ufS5rEBqDz6q",
        "colab": {
          "base_uri": "https://localhost:8080/"
        },
        "outputId": "0701eae2-0721-4186-eb4e-af166d1c606d"
      },
      "outputs": [
        {
          "output_type": "stream",
          "name": "stdout",
          "text": [
            "슝=3\n"
          ]
        }
      ],
      "source": [
        "def eval_bleu(model, src_sentences, tgt_sentences, verboses=True):\n",
        "    total_score = 0.0\n",
        "    sample_size = len(src_sentences)\n",
        "    \n",
        "    for idx in tqdm(range(sample_size)):\n",
        "        score = eval_bleu_single(model, src_sentences[idx], tgt_sentences[idx], verbose=False)\n",
        "        if not score: continue\n",
        "        \n",
        "        total_score += score\n",
        "    \n",
        "    print(\"Num of Sample:\", sample_size)\n",
        "    print(\"Total Score:\", total_score / sample_size)\n",
        "    \n",
        "print(\"슝=3\")"
      ],
      "id": "ufS5rEBqDz6q"
    },
    {
      "cell_type": "code",
      "source": [
        "dec_val[0]"
      ],
      "metadata": {
        "colab": {
          "base_uri": "https://localhost:8080/"
        },
        "id": "H3uQ5-B_Lp7s",
        "outputId": "0d89f94f-b289-4201-ca2d-c26533a231f8"
      },
      "id": "H3uQ5-B_Lp7s",
      "execution_count": 63,
      "outputs": [
        {
          "output_type": "execute_result",
          "data": {
            "text/plain": [
              "array([  1,  37, 174,  29,  26,  52,   3,  17, 149,   7,   2,   0,   0,\n",
              "         0,   0,   0,   0,   0,   0,   0,   0,   0,   0,   0,   0,   0,\n",
              "         0,   0,   0,   0,   0,   0,   0,   0,   0,   0,   0,   0,   0,\n",
              "         0,   0,   0,   0,   0,   0,   0,   0,   0,   0,   0,   0,   0],\n",
              "      dtype=int32)"
            ]
          },
          "metadata": {},
          "execution_count": 63
        }
      ]
    },
    {
      "cell_type": "code",
      "execution_count": 64,
      "metadata": {
        "id": "qb7q3__IEQ5V",
        "colab": {
          "base_uri": "https://localhost:8080/",
          "height": 85,
          "referenced_widgets": [
            "bcce4b8b5d174b35a73ca8a92ae8384e",
            "b9d694171d114c5aa5d2543f046f74e3",
            "ff13908af17d4e7bbd6b02b9762bd6f3",
            "867b5cbf687e4a889293e3d722264e85",
            "661e17f2d6d64aa99eca3927c27b1f63",
            "d6421b5ac774430d8626a697c2725f38",
            "e8433b53ba3e4628ac2ecef73d849e9c",
            "0eb86b8bc906436cb70cb80e93d12989",
            "07afc29b30984a0fb5dcd93c2771b08d",
            "50a7236ab66248e7b5c83e15ff8e1b21",
            "ecc4ed64c2b142b2a3b8a4ac3c83ec3b"
          ]
        },
        "outputId": "edbb1d99-01ea-4cc0-a65c-44d57a5795d3"
      },
      "outputs": [
        {
          "output_type": "display_data",
          "data": {
            "text/plain": [
              "  0%|          | 0/2 [00:00<?, ?it/s]"
            ],
            "application/vnd.jupyter.widget-view+json": {
              "version_major": 2,
              "version_minor": 0,
              "model_id": "bcce4b8b5d174b35a73ca8a92ae8384e"
            }
          },
          "metadata": {}
        },
        {
          "output_type": "stream",
          "name": "stdout",
          "text": [
            "Num of Sample: 2\n",
            "Total Score: 0.02086912787417319\n"
          ]
        }
      ],
      "source": [
        "eval_bleu(Tran, new_que_corpus[0:2], new_ans_corpus[0:2], verboses=True)"
      ],
      "id": "qb7q3__IEQ5V"
    },
    {
      "cell_type": "code",
      "execution_count": 65,
      "metadata": {
        "id": "h2SKjx_OFTBV",
        "colab": {
          "base_uri": "https://localhost:8080/"
        },
        "outputId": "e6d021a5-4dc0-4952-9b47-51452cc49e7e"
      },
      "outputs": [
        {
          "output_type": "stream",
          "name": "stdout",
          "text": [
            "원문: ['12', '시', '땡', '!']\n",
            "번역문: ['저', '랑', '함께', '해요', '!']\n",
            "BLEU Score: 1.2183324802375697e-231\n"
          ]
        },
        {
          "output_type": "stream",
          "name": "stderr",
          "text": [
            "/usr/local/lib/python3.7/dist-packages/nltk/translate/bleu_score.py:552: UserWarning: \n",
            "The hypothesis contains 0 counts of 2-gram overlaps.\n",
            "Therefore the BLEU score evaluates to 0, independently of\n",
            "how many N-gram overlaps of lower order it contains.\n",
            "Consider using lower n-gram order or use SmoothingFunction()\n",
            "  warnings.warn(_msg)\n",
            "/usr/local/lib/python3.7/dist-packages/nltk/translate/bleu_score.py:552: UserWarning: \n",
            "The hypothesis contains 0 counts of 3-gram overlaps.\n",
            "Therefore the BLEU score evaluates to 0, independently of\n",
            "how many N-gram overlaps of lower order it contains.\n",
            "Consider using lower n-gram order or use SmoothingFunction()\n",
            "  warnings.warn(_msg)\n",
            "/usr/local/lib/python3.7/dist-packages/nltk/translate/bleu_score.py:552: UserWarning: \n",
            "The hypothesis contains 0 counts of 4-gram overlaps.\n",
            "Therefore the BLEU score evaluates to 0, independently of\n",
            "how many N-gram overlaps of lower order it contains.\n",
            "Consider using lower n-gram order or use SmoothingFunction()\n",
            "  warnings.warn(_msg)\n"
          ]
        }
      ],
      "source": [
        "reference = \"12 시 땡 !\".split()\n",
        "candidate = \"저 랑 함께 해요 !\".split()\n",
        "\n",
        "print(\"원문:\", reference)\n",
        "print(\"번역문:\", candidate)\n",
        "print(\"BLEU Score:\", sentence_bleu([reference], candidate))"
      ],
      "id": "h2SKjx_OFTBV"
    },
    {
      "cell_type": "code",
      "execution_count": 66,
      "metadata": {
        "id": "aCcTd2ZBF1il",
        "colab": {
          "base_uri": "https://localhost:8080/"
        },
        "outputId": "546166b8-4ab5-4f51-9bbc-37db8c2fcb89"
      },
      "outputs": [
        {
          "output_type": "stream",
          "name": "stdout",
          "text": [
            "1-gram: 0.2\n",
            "2-gram: 2.2250738585072626e-308\n",
            "3-gram: 2.2250738585072626e-308\n",
            "4-gram: 2.2250738585072626e-308\n"
          ]
        }
      ],
      "source": [
        "print(\"1-gram:\", sentence_bleu([reference], candidate, weights=[1, 0, 0, 0]))\n",
        "print(\"2-gram:\", sentence_bleu([reference], candidate, weights=[0, 1, 0, 0]))\n",
        "print(\"3-gram:\", sentence_bleu([reference], candidate, weights=[0, 0, 1, 0]))\n",
        "print(\"4-gram:\", sentence_bleu([reference], candidate, weights=[0, 0, 0, 1]))"
      ],
      "id": "aCcTd2ZBF1il"
    },
    {
      "cell_type": "code",
      "execution_count": 67,
      "metadata": {
        "id": "ZeSN8X4jGMdV",
        "colab": {
          "base_uri": "https://localhost:8080/"
        },
        "outputId": "b5273b72-2a92-421c-ad9a-346a0cc66634"
      },
      "outputs": [
        {
          "output_type": "stream",
          "name": "stdout",
          "text": [
            "BLEU-1: 0.2\n",
            "BLEU-2: 0.025\n",
            "BLEU-3: 0.03333333333333333\n",
            "BLEU-4: 0.05000000000000001\n",
            "\n",
            "BLEU-Total: 0.05372849659117709\n"
          ]
        }
      ],
      "source": [
        "def calculate_bleu(reference, candidate, weights=[0.25, 0.25, 0.25, 0.25]):\n",
        "    return sentence_bleu([reference],\n",
        "                         candidate,\n",
        "                         weights=weights,\n",
        "                         smoothing_function=SmoothingFunction().method1)  # smoothing_function 적용\n",
        "\n",
        "print(\"BLEU-1:\", calculate_bleu(reference, candidate, weights=[1, 0, 0, 0]))\n",
        "print(\"BLEU-2:\", calculate_bleu(reference, candidate, weights=[0, 1, 0, 0]))\n",
        "print(\"BLEU-3:\", calculate_bleu(reference, candidate, weights=[0, 0, 1, 0]))\n",
        "print(\"BLEU-4:\", calculate_bleu(reference, candidate, weights=[0, 0, 0, 1]))\n",
        "\n",
        "print(\"\\nBLEU-Total:\", calculate_bleu(reference, candidate))"
      ],
      "id": "ZeSN8X4jGMdV"
    },
    {
      "cell_type": "markdown",
      "source": [
        "### 번역 성능 측정하기(2) : Beam Search Decoder"
      ],
      "metadata": {
        "id": "MkBaLBzlXpy3"
      },
      "id": "MkBaLBzlXpy3"
    },
    {
      "cell_type": "code",
      "source": [
        "def calc_prob(src_ids, tgt_ids, model):\n",
        "    enc_padding_mask, combined_mask, dec_padding_mask = \\\n",
        "    generate_masks(src_ids, tgt_ids)\n",
        "\n",
        "    predictions, enc_attns, dec_attns, dec_enc_attns =\\\n",
        "    model(src_ids, \n",
        "            tgt_ids,\n",
        "            enc_padding_mask,\n",
        "            combined_mask,\n",
        "            dec_padding_mask)\n",
        "    \n",
        "    return tf.math.softmax(predictions, axis=-1)"
      ],
      "metadata": {
        "id": "svk-4lE7PXoc"
      },
      "id": "svk-4lE7PXoc",
      "execution_count": 68,
      "outputs": []
    },
    {
      "cell_type": "code",
      "source": [
        "def beam_search_decoder(sentence, \n",
        "                        src_len,\n",
        "                        tgt_len,\n",
        "                        model,\n",
        "                        beam_size):\n",
        "    tokens = tf.keras.preprocessing.text.text_to_word_sequence(sentence)\n",
        "    tokens = wordlist_to_indexlist(tokens)\n",
        "    \n",
        "    src_in = tf.keras.preprocessing.sequence.pad_sequences([tokens],\n",
        "                                                            maxlen=52,\n",
        "                                                            padding='post')\n",
        "\n",
        "    pred_cache = np.zeros((beam_size * beam_size, tgt_len), dtype=np.int64)\n",
        "    pred_tmp = np.zeros((beam_size, tgt_len), dtype=np.int64)\n",
        "\n",
        "    eos_flag = np.zeros((beam_size, ), dtype=np.int64)\n",
        "    scores = np.ones((beam_size, ))\n",
        "\n",
        "    pred_tmp[:, 0] = word_to_index[\"<start>\"]\n",
        "\n",
        "    dec_in = tf.expand_dims(pred_tmp[0, :1], 0)\n",
        "    prob = calc_prob(src_in, dec_in, model)[0, -1].numpy()\n",
        "\n",
        "    for seq_pos in range(1, tgt_len):\n",
        "        score_cache = np.ones((beam_size * beam_size, ))\n",
        "\n",
        "        # init\n",
        "        for branch_idx in range(beam_size):\n",
        "            cache_pos = branch_idx*beam_size\n",
        "\n",
        "            score_cache[cache_pos:cache_pos+beam_size] = scores[branch_idx]\n",
        "            pred_cache[cache_pos:cache_pos+beam_size, :seq_pos] = \\\n",
        "            pred_tmp[branch_idx, :seq_pos]\n",
        "\n",
        "        for branch_idx in range(beam_size):\n",
        "            cache_pos = branch_idx*beam_size\n",
        "\n",
        "            if seq_pos != 1:   # 모든 Branch를 로 시작하는 경우를 방지\n",
        "                dec_in = pred_cache[branch_idx, :seq_pos]\n",
        "                dec_in = tf.expand_dims(dec_in, 0)\n",
        "\n",
        "                prob = calc_prob(src_in, dec_in, model)[0, -1].numpy()\n",
        "\n",
        "            for beam_idx in range(beam_size):\n",
        "                max_idx = np.argmax(prob)\n",
        "\n",
        "                score_cache[cache_pos+beam_idx] *= prob[max_idx]\n",
        "                pred_cache[cache_pos+beam_idx, seq_pos] = max_idx\n",
        "\n",
        "                prob[max_idx] = -1\n",
        "\n",
        "        for beam_idx in range(beam_size):\n",
        "            if eos_flag[beam_idx] == -1: continue\n",
        "\n",
        "            max_idx = np.argmax(score_cache)\n",
        "            prediction = pred_cache[max_idx, :seq_pos+1]\n",
        "\n",
        "            pred_tmp[beam_idx, :seq_pos+1] = prediction\n",
        "            scores[beam_idx] = score_cache[max_idx]\n",
        "            score_cache[max_idx] = -1\n",
        "\n",
        "            if prediction[-1] == word_to_index[\"<end>\"]:\n",
        "                eos_flag[beam_idx] = -1\n",
        "\n",
        "    pred = []\n",
        "    for long_pred in pred_tmp:\n",
        "        zero_idx = long_pred.tolist().index(word_to_index[\"<end>\"])\n",
        "        short_pred = long_pred[:zero_idx+1]\n",
        "        pred.append(short_pred)\n",
        "    return pred"
      ],
      "metadata": {
        "id": "F3xbGsmRP-aV"
      },
      "id": "F3xbGsmRP-aV",
      "execution_count": 69,
      "outputs": []
    },
    {
      "cell_type": "code",
      "source": [
        "def calculate_bleu(reference, candidate, weights=[0.25, 0.25, 0.25, 0.25]):\n",
        "    return sentence_bleu([reference],\n",
        "                            candidate,\n",
        "                            weights=weights,\n",
        "                            smoothing_function=SmoothingFunction().method1)\n",
        "\n",
        "print('슝=3')"
      ],
      "metadata": {
        "colab": {
          "base_uri": "https://localhost:8080/"
        },
        "id": "WOYQpSIYQGI8",
        "outputId": "fb44f356-d2f0-42df-81c7-fab6df74d43e"
      },
      "id": "WOYQpSIYQGI8",
      "execution_count": 70,
      "outputs": [
        {
          "output_type": "stream",
          "name": "stdout",
          "text": [
            "슝=3\n"
          ]
        }
      ]
    },
    {
      "cell_type": "code",
      "source": [
        "def beam_bleu(reference, ids):\n",
        "\n",
        "    total_score = 0.0\n",
        "    for _id in ids:\n",
        "        candidate = indexlist_to_wordlist(_id.tolist())\n",
        "        candidate = listToString(candidate)\n",
        "        score = calculate_bleu(reference, candidate)\n",
        "\n",
        "        print(\"Reference:\", reference)\n",
        "        print(\"Candidate:\", candidate)\n",
        "        print(\"BLEU:\", calculate_bleu(reference, candidate))"
      ],
      "metadata": {
        "id": "T7d0NOzfQN6F"
      },
      "id": "T7d0NOzfQN6F",
      "execution_count": 71,
      "outputs": []
    },
    {
      "cell_type": "code",
      "source": [
        "# 인덱스를 바꿔가며 확인해 보세요\n",
        "test_idx = 2\n",
        "\n",
        "ids = \\\n",
        "beam_search_decoder(new_que_corpus[test_idx],\n",
        "                    52,\n",
        "                    52,\n",
        "                    Tran,\n",
        "                    beam_size=5)\n",
        "\n",
        "bleu = beam_bleu(new_ans_corpus[test_idx], ids)\n",
        "print(bleu)"
      ],
      "metadata": {
        "colab": {
          "base_uri": "https://localhost:8080/"
        },
        "id": "3FlLU9soQWOs",
        "outputId": "6b6404f1-3dc2-46fd-b309-aa931c043a7b"
      },
      "id": "3FlLU9soQWOs",
      "execution_count": 72,
      "outputs": [
        {
          "output_type": "stream",
          "name": "stdout",
          "text": [
            "Reference: 하 루 가   또   가 네 요 . \n",
            "Candidate: <start> 좋 은 생각 이 에요 . <end>\n",
            "BLEU: 0.10640850690356463\n",
            "Reference: 하 루 가   또   가 네 요 . \n",
            "Candidate: <start> 좋 은 생각 에 에요 . <end>\n",
            "BLEU: 0.10640850690356463\n",
            "Reference: 하 루 가   또   가 네 요 . \n",
            "Candidate: <start> 가 은 생각 이 에요 . <end>\n",
            "BLEU: 0.13737279171076758\n",
            "Reference: 하 루 가   또   가 네 요 . \n",
            "Candidate: <start> 몸 은 생각 이 에요 . <end>\n",
            "BLEU: 0.10640850690356463\n",
            "Reference: 하 루 가   또   가 네 요 . \n",
            "Candidate: <start> 돈 은 생각 이 에요 . <end>\n",
            "BLEU: 0.10640850690356463\n",
            "None\n"
          ]
        }
      ]
    },
    {
      "cell_type": "markdown",
      "source": [
        "<회고>\n",
        "\n",
        "* 처음에는 번역기와 챗봇이 같은 집안이라는 글쓴이의 말씀이 잘 이해되지   않았습니다. \\\\\n",
        "그러나 트랜스포머라는 구조도 결국은 문장을 숫자로 인코딩하여 숫자를 다시 문장으로 디코딩하는 과정이므로 두 경우에 모두 사용될 수 있음은 이해했습니다. \\\\\n",
        "\n",
        "\n",
        "* BLEU 점수를 산정하는 방법은 합이 아닌 곱에 대한 경우라서 지수에 각각 가중치를 부여한다는 것을 알겠습니다. 그리고 각 n-gram에 대해 다양한 점수가 나온다는 점이 흥미롭네요.\n",
        "\n",
        "* Beam Search Decoder를 이용한 문장 해석 방법은 원리로는 이해가 가나 코드로 이해하기에는 시간이 필요한 것 같습니다. 각 스텝마다 단어를  beam 사이즈 만큼 준비해서 각각의 확률을 구하고 또 다시 각 단어에 대해서 beam 사이즈 만큼의 단어를 구해 확률을 구하는 과정을 반복하는 원리가 기발한 것 같습니다. \n",
        "\n",
        "*   과제작성 중 어려웠던 점 :\n",
        "\n",
        "   1. 답변 문장 양끝에 ['start'] 토큰리스트와 ['end'] 토큰리스트를 붙이는 과정에서 컴퓨터가 계속 토큰을 리스트가 아닌 스트링으로 인식하여 고전했습니다. 결국 한국어 토큰화 도구인 Mecab으로 직접 어휘사전을 만들고 인덱싱을 하고 word_to_index, index_to_word 등등 함수를 일일히 만들어야 했습니다.\n",
        "   2.   거의 마지막에 해석을 만드는 함수를 수정하는 과정도 만만치 않았습니다. 입력 토크나이저와 출력 토크나이저를 같게 놓거나 또는 필요없게 만듦으로써 문제를 부분적으로 해결하였으나 나머지는 1에서 말한 여러 함수로 대체해야 했습니다.\n",
        "\n",
        "* 아무튼 과제를 완성하게 되었으니 그걸로 다행입니다.\n",
        "* 시간이 난다면 여러 언어나 LSTM과 같은 모델을 시도해보고 싶네요. \n",
        "\n",
        "* 번역결과 \\\\\n",
        "Source Sentence:  간만에 여자친구랑 데이트 하기로 했어. \\\\\n",
        "Model Prediction:  좋 은 곳 이 좋 죠 . \\\\\n",
        "Real:  떨리 겠 죠 \\\\\n",
        "Score: 0.036362 \\\\\n",
        "\n",
        " 0.036362270465000714\n",
        "\n",
        "* 사용된 상수들 : \\\\\n",
        "\n",
        "1.  Transformer : \\\\\n",
        "n_layers=2, \\\\\n",
        "d_model=512, \\\\\n",
        "n_heads=8, \\\\\n",
        "d_ff=2048, \\\\\n",
        "src_vocab_size=30000, \\\\\n",
        "tgt_vocab_size=30000, \\\\\n",
        "pos_len=200, \\\\\n",
        "dropout=0.3, \\\\\n",
        "shared_fc=True, \\\\\n",
        "shared_emb=True \\\\\n",
        "d_model = 512 \\\\\n",
        "\n",
        "2.  optimizer : \\\\\n",
        "beta_1=0.9, beta_2=0.98, epsilon=1e-9 \\\\\n",
        "\n",
        "3.  Training :\n",
        "\n",
        " EPOCHS : 3 \\\\\n",
        "BATCH_SIZE : 64 \\\\\n",
        "warmup_steps : 4000 \\\\\n",
        "\n",
        "\n",
        "\n",
        "\n",
        "\n"
      ],
      "metadata": {
        "id": "0joepEF9a68Q"
      },
      "id": "0joepEF9a68Q"
    }
  ],
  "metadata": {
    "accelerator": "GPU",
    "colab": {
      "collapsed_sections": [],
      "machine_shape": "hm",
      "provenance": [],
      "include_colab_link": true
    },
    "gpuClass": "standard",
    "kernelspec": {
      "display_name": "Python 3 (ipykernel)",
      "language": "python",
      "name": "python3"
    },
    "language_info": {
      "codemirror_mode": {
        "name": "ipython",
        "version": 3
      },
      "file_extension": ".py",
      "mimetype": "text/x-python",
      "name": "python",
      "nbconvert_exporter": "python",
      "pygments_lexer": "ipython3",
      "version": "3.9.7"
    },
    "widgets": {
      "application/vnd.jupyter.widget-state+json": {
        "22cda50b83794525984b7d7ee50631a8": {
          "model_module": "@jupyter-widgets/controls",
          "model_name": "HBoxModel",
          "model_module_version": "1.5.0",
          "state": {
            "_dom_classes": [],
            "_model_module": "@jupyter-widgets/controls",
            "_model_module_version": "1.5.0",
            "_model_name": "HBoxModel",
            "_view_count": null,
            "_view_module": "@jupyter-widgets/controls",
            "_view_module_version": "1.5.0",
            "_view_name": "HBoxView",
            "box_style": "",
            "children": [
              "IPY_MODEL_d8443f10606942f096b5c191e70fd70f",
              "IPY_MODEL_d534c637d1bb4740b7c91b1838a6d929",
              "IPY_MODEL_278b6505e3484701bc41d3105ac751fa"
            ],
            "layout": "IPY_MODEL_1c688163b07345c2b0dec61e09f05fa5"
          }
        },
        "d8443f10606942f096b5c191e70fd70f": {
          "model_module": "@jupyter-widgets/controls",
          "model_name": "HTMLModel",
          "model_module_version": "1.5.0",
          "state": {
            "_dom_classes": [],
            "_model_module": "@jupyter-widgets/controls",
            "_model_module_version": "1.5.0",
            "_model_name": "HTMLModel",
            "_view_count": null,
            "_view_module": "@jupyter-widgets/controls",
            "_view_module_version": "1.5.0",
            "_view_name": "HTMLView",
            "description": "",
            "description_tooltip": null,
            "layout": "IPY_MODEL_8243ea3f40864b20bbe09986de18f478",
            "placeholder": "​",
            "style": "IPY_MODEL_266b0c09caf34c58b0f27654cecdc592",
            "value": "100%"
          }
        },
        "d534c637d1bb4740b7c91b1838a6d929": {
          "model_module": "@jupyter-widgets/controls",
          "model_name": "FloatProgressModel",
          "model_module_version": "1.5.0",
          "state": {
            "_dom_classes": [],
            "_model_module": "@jupyter-widgets/controls",
            "_model_module_version": "1.5.0",
            "_model_name": "FloatProgressModel",
            "_view_count": null,
            "_view_module": "@jupyter-widgets/controls",
            "_view_module_version": "1.5.0",
            "_view_name": "ProgressView",
            "bar_style": "success",
            "description": "",
            "description_tooltip": null,
            "layout": "IPY_MODEL_cbbdde4fb1e3448bb5fb35cef213df15",
            "max": 11823,
            "min": 0,
            "orientation": "horizontal",
            "style": "IPY_MODEL_89e7c7ef36bd4157a59bde0bf8923427",
            "value": 11823
          }
        },
        "278b6505e3484701bc41d3105ac751fa": {
          "model_module": "@jupyter-widgets/controls",
          "model_name": "HTMLModel",
          "model_module_version": "1.5.0",
          "state": {
            "_dom_classes": [],
            "_model_module": "@jupyter-widgets/controls",
            "_model_module_version": "1.5.0",
            "_model_name": "HTMLModel",
            "_view_count": null,
            "_view_module": "@jupyter-widgets/controls",
            "_view_module_version": "1.5.0",
            "_view_name": "HTMLView",
            "description": "",
            "description_tooltip": null,
            "layout": "IPY_MODEL_7d110c7ba5f54a78b1e711b57b1bc0e0",
            "placeholder": "​",
            "style": "IPY_MODEL_173a07d6434a43d4851340dd84263d27",
            "value": " 11823/11823 [00:25&lt;00:00, 466.32it/s]"
          }
        },
        "1c688163b07345c2b0dec61e09f05fa5": {
          "model_module": "@jupyter-widgets/base",
          "model_name": "LayoutModel",
          "model_module_version": "1.2.0",
          "state": {
            "_model_module": "@jupyter-widgets/base",
            "_model_module_version": "1.2.0",
            "_model_name": "LayoutModel",
            "_view_count": null,
            "_view_module": "@jupyter-widgets/base",
            "_view_module_version": "1.2.0",
            "_view_name": "LayoutView",
            "align_content": null,
            "align_items": null,
            "align_self": null,
            "border": null,
            "bottom": null,
            "display": null,
            "flex": null,
            "flex_flow": null,
            "grid_area": null,
            "grid_auto_columns": null,
            "grid_auto_flow": null,
            "grid_auto_rows": null,
            "grid_column": null,
            "grid_gap": null,
            "grid_row": null,
            "grid_template_areas": null,
            "grid_template_columns": null,
            "grid_template_rows": null,
            "height": null,
            "justify_content": null,
            "justify_items": null,
            "left": null,
            "margin": null,
            "max_height": null,
            "max_width": null,
            "min_height": null,
            "min_width": null,
            "object_fit": null,
            "object_position": null,
            "order": null,
            "overflow": null,
            "overflow_x": null,
            "overflow_y": null,
            "padding": null,
            "right": null,
            "top": null,
            "visibility": null,
            "width": null
          }
        },
        "8243ea3f40864b20bbe09986de18f478": {
          "model_module": "@jupyter-widgets/base",
          "model_name": "LayoutModel",
          "model_module_version": "1.2.0",
          "state": {
            "_model_module": "@jupyter-widgets/base",
            "_model_module_version": "1.2.0",
            "_model_name": "LayoutModel",
            "_view_count": null,
            "_view_module": "@jupyter-widgets/base",
            "_view_module_version": "1.2.0",
            "_view_name": "LayoutView",
            "align_content": null,
            "align_items": null,
            "align_self": null,
            "border": null,
            "bottom": null,
            "display": null,
            "flex": null,
            "flex_flow": null,
            "grid_area": null,
            "grid_auto_columns": null,
            "grid_auto_flow": null,
            "grid_auto_rows": null,
            "grid_column": null,
            "grid_gap": null,
            "grid_row": null,
            "grid_template_areas": null,
            "grid_template_columns": null,
            "grid_template_rows": null,
            "height": null,
            "justify_content": null,
            "justify_items": null,
            "left": null,
            "margin": null,
            "max_height": null,
            "max_width": null,
            "min_height": null,
            "min_width": null,
            "object_fit": null,
            "object_position": null,
            "order": null,
            "overflow": null,
            "overflow_x": null,
            "overflow_y": null,
            "padding": null,
            "right": null,
            "top": null,
            "visibility": null,
            "width": null
          }
        },
        "266b0c09caf34c58b0f27654cecdc592": {
          "model_module": "@jupyter-widgets/controls",
          "model_name": "DescriptionStyleModel",
          "model_module_version": "1.5.0",
          "state": {
            "_model_module": "@jupyter-widgets/controls",
            "_model_module_version": "1.5.0",
            "_model_name": "DescriptionStyleModel",
            "_view_count": null,
            "_view_module": "@jupyter-widgets/base",
            "_view_module_version": "1.2.0",
            "_view_name": "StyleView",
            "description_width": ""
          }
        },
        "cbbdde4fb1e3448bb5fb35cef213df15": {
          "model_module": "@jupyter-widgets/base",
          "model_name": "LayoutModel",
          "model_module_version": "1.2.0",
          "state": {
            "_model_module": "@jupyter-widgets/base",
            "_model_module_version": "1.2.0",
            "_model_name": "LayoutModel",
            "_view_count": null,
            "_view_module": "@jupyter-widgets/base",
            "_view_module_version": "1.2.0",
            "_view_name": "LayoutView",
            "align_content": null,
            "align_items": null,
            "align_self": null,
            "border": null,
            "bottom": null,
            "display": null,
            "flex": null,
            "flex_flow": null,
            "grid_area": null,
            "grid_auto_columns": null,
            "grid_auto_flow": null,
            "grid_auto_rows": null,
            "grid_column": null,
            "grid_gap": null,
            "grid_row": null,
            "grid_template_areas": null,
            "grid_template_columns": null,
            "grid_template_rows": null,
            "height": null,
            "justify_content": null,
            "justify_items": null,
            "left": null,
            "margin": null,
            "max_height": null,
            "max_width": null,
            "min_height": null,
            "min_width": null,
            "object_fit": null,
            "object_position": null,
            "order": null,
            "overflow": null,
            "overflow_x": null,
            "overflow_y": null,
            "padding": null,
            "right": null,
            "top": null,
            "visibility": null,
            "width": null
          }
        },
        "89e7c7ef36bd4157a59bde0bf8923427": {
          "model_module": "@jupyter-widgets/controls",
          "model_name": "ProgressStyleModel",
          "model_module_version": "1.5.0",
          "state": {
            "_model_module": "@jupyter-widgets/controls",
            "_model_module_version": "1.5.0",
            "_model_name": "ProgressStyleModel",
            "_view_count": null,
            "_view_module": "@jupyter-widgets/base",
            "_view_module_version": "1.2.0",
            "_view_name": "StyleView",
            "bar_color": null,
            "description_width": ""
          }
        },
        "7d110c7ba5f54a78b1e711b57b1bc0e0": {
          "model_module": "@jupyter-widgets/base",
          "model_name": "LayoutModel",
          "model_module_version": "1.2.0",
          "state": {
            "_model_module": "@jupyter-widgets/base",
            "_model_module_version": "1.2.0",
            "_model_name": "LayoutModel",
            "_view_count": null,
            "_view_module": "@jupyter-widgets/base",
            "_view_module_version": "1.2.0",
            "_view_name": "LayoutView",
            "align_content": null,
            "align_items": null,
            "align_self": null,
            "border": null,
            "bottom": null,
            "display": null,
            "flex": null,
            "flex_flow": null,
            "grid_area": null,
            "grid_auto_columns": null,
            "grid_auto_flow": null,
            "grid_auto_rows": null,
            "grid_column": null,
            "grid_gap": null,
            "grid_row": null,
            "grid_template_areas": null,
            "grid_template_columns": null,
            "grid_template_rows": null,
            "height": null,
            "justify_content": null,
            "justify_items": null,
            "left": null,
            "margin": null,
            "max_height": null,
            "max_width": null,
            "min_height": null,
            "min_width": null,
            "object_fit": null,
            "object_position": null,
            "order": null,
            "overflow": null,
            "overflow_x": null,
            "overflow_y": null,
            "padding": null,
            "right": null,
            "top": null,
            "visibility": null,
            "width": null
          }
        },
        "173a07d6434a43d4851340dd84263d27": {
          "model_module": "@jupyter-widgets/controls",
          "model_name": "DescriptionStyleModel",
          "model_module_version": "1.5.0",
          "state": {
            "_model_module": "@jupyter-widgets/controls",
            "_model_module_version": "1.5.0",
            "_model_name": "DescriptionStyleModel",
            "_view_count": null,
            "_view_module": "@jupyter-widgets/base",
            "_view_module_version": "1.2.0",
            "_view_name": "StyleView",
            "description_width": ""
          }
        },
        "e4b12ac880374ab5adbe8e9bc0b0e335": {
          "model_module": "@jupyter-widgets/controls",
          "model_name": "HBoxModel",
          "model_module_version": "1.5.0",
          "state": {
            "_dom_classes": [],
            "_model_module": "@jupyter-widgets/controls",
            "_model_module_version": "1.5.0",
            "_model_name": "HBoxModel",
            "_view_count": null,
            "_view_module": "@jupyter-widgets/controls",
            "_view_module_version": "1.5.0",
            "_view_name": "HBoxView",
            "box_style": "",
            "children": [
              "IPY_MODEL_9201c1b5cb304a3d9256e11e70416ffc",
              "IPY_MODEL_82ff6373d9304166b3425a93c7a4a3a6",
              "IPY_MODEL_19d4ccc500a94b19be3bc6134a31859f"
            ],
            "layout": "IPY_MODEL_db0e5d13f0e941eeb452411f4dbc2c25"
          }
        },
        "9201c1b5cb304a3d9256e11e70416ffc": {
          "model_module": "@jupyter-widgets/controls",
          "model_name": "HTMLModel",
          "model_module_version": "1.5.0",
          "state": {
            "_dom_classes": [],
            "_model_module": "@jupyter-widgets/controls",
            "_model_module_version": "1.5.0",
            "_model_name": "HTMLModel",
            "_view_count": null,
            "_view_module": "@jupyter-widgets/controls",
            "_view_module_version": "1.5.0",
            "_view_name": "HTMLView",
            "description": "",
            "description_tooltip": null,
            "layout": "IPY_MODEL_9de8e3663b614cd09516fe4335964d69",
            "placeholder": "​",
            "style": "IPY_MODEL_1585f592bd8e4021a31ea0fba7fe862c",
            "value": "Epoch  1: 100%"
          }
        },
        "82ff6373d9304166b3425a93c7a4a3a6": {
          "model_module": "@jupyter-widgets/controls",
          "model_name": "FloatProgressModel",
          "model_module_version": "1.5.0",
          "state": {
            "_dom_classes": [],
            "_model_module": "@jupyter-widgets/controls",
            "_model_module_version": "1.5.0",
            "_model_name": "FloatProgressModel",
            "_view_count": null,
            "_view_module": "@jupyter-widgets/controls",
            "_view_module_version": "1.5.0",
            "_view_name": "ProgressView",
            "bar_style": "",
            "description": "",
            "description_tooltip": null,
            "layout": "IPY_MODEL_bf937a6216b841a0ad6e0d4703f988c2",
            "max": 472,
            "min": 0,
            "orientation": "horizontal",
            "style": "IPY_MODEL_28497079f5784be1ada54fe25ab0853e",
            "value": 472
          }
        },
        "19d4ccc500a94b19be3bc6134a31859f": {
          "model_module": "@jupyter-widgets/controls",
          "model_name": "HTMLModel",
          "model_module_version": "1.5.0",
          "state": {
            "_dom_classes": [],
            "_model_module": "@jupyter-widgets/controls",
            "_model_module_version": "1.5.0",
            "_model_name": "HTMLModel",
            "_view_count": null,
            "_view_module": "@jupyter-widgets/controls",
            "_view_module_version": "1.5.0",
            "_view_name": "HTMLView",
            "description": "",
            "description_tooltip": null,
            "layout": "IPY_MODEL_0421603ba6c64ad8a4b71dd0d07f010b",
            "placeholder": "​",
            "style": "IPY_MODEL_6d21334e2e6e4c41b12a969ff26dd412",
            "value": " 472/472 [01:45&lt;00:00,  1.29it/s, Loss 5.3042]"
          }
        },
        "db0e5d13f0e941eeb452411f4dbc2c25": {
          "model_module": "@jupyter-widgets/base",
          "model_name": "LayoutModel",
          "model_module_version": "1.2.0",
          "state": {
            "_model_module": "@jupyter-widgets/base",
            "_model_module_version": "1.2.0",
            "_model_name": "LayoutModel",
            "_view_count": null,
            "_view_module": "@jupyter-widgets/base",
            "_view_module_version": "1.2.0",
            "_view_name": "LayoutView",
            "align_content": null,
            "align_items": null,
            "align_self": null,
            "border": null,
            "bottom": null,
            "display": null,
            "flex": null,
            "flex_flow": null,
            "grid_area": null,
            "grid_auto_columns": null,
            "grid_auto_flow": null,
            "grid_auto_rows": null,
            "grid_column": null,
            "grid_gap": null,
            "grid_row": null,
            "grid_template_areas": null,
            "grid_template_columns": null,
            "grid_template_rows": null,
            "height": null,
            "justify_content": null,
            "justify_items": null,
            "left": null,
            "margin": null,
            "max_height": null,
            "max_width": null,
            "min_height": null,
            "min_width": null,
            "object_fit": null,
            "object_position": null,
            "order": null,
            "overflow": null,
            "overflow_x": null,
            "overflow_y": null,
            "padding": null,
            "right": null,
            "top": null,
            "visibility": null,
            "width": null
          }
        },
        "9de8e3663b614cd09516fe4335964d69": {
          "model_module": "@jupyter-widgets/base",
          "model_name": "LayoutModel",
          "model_module_version": "1.2.0",
          "state": {
            "_model_module": "@jupyter-widgets/base",
            "_model_module_version": "1.2.0",
            "_model_name": "LayoutModel",
            "_view_count": null,
            "_view_module": "@jupyter-widgets/base",
            "_view_module_version": "1.2.0",
            "_view_name": "LayoutView",
            "align_content": null,
            "align_items": null,
            "align_self": null,
            "border": null,
            "bottom": null,
            "display": null,
            "flex": null,
            "flex_flow": null,
            "grid_area": null,
            "grid_auto_columns": null,
            "grid_auto_flow": null,
            "grid_auto_rows": null,
            "grid_column": null,
            "grid_gap": null,
            "grid_row": null,
            "grid_template_areas": null,
            "grid_template_columns": null,
            "grid_template_rows": null,
            "height": null,
            "justify_content": null,
            "justify_items": null,
            "left": null,
            "margin": null,
            "max_height": null,
            "max_width": null,
            "min_height": null,
            "min_width": null,
            "object_fit": null,
            "object_position": null,
            "order": null,
            "overflow": null,
            "overflow_x": null,
            "overflow_y": null,
            "padding": null,
            "right": null,
            "top": null,
            "visibility": null,
            "width": null
          }
        },
        "1585f592bd8e4021a31ea0fba7fe862c": {
          "model_module": "@jupyter-widgets/controls",
          "model_name": "DescriptionStyleModel",
          "model_module_version": "1.5.0",
          "state": {
            "_model_module": "@jupyter-widgets/controls",
            "_model_module_version": "1.5.0",
            "_model_name": "DescriptionStyleModel",
            "_view_count": null,
            "_view_module": "@jupyter-widgets/base",
            "_view_module_version": "1.2.0",
            "_view_name": "StyleView",
            "description_width": ""
          }
        },
        "bf937a6216b841a0ad6e0d4703f988c2": {
          "model_module": "@jupyter-widgets/base",
          "model_name": "LayoutModel",
          "model_module_version": "1.2.0",
          "state": {
            "_model_module": "@jupyter-widgets/base",
            "_model_module_version": "1.2.0",
            "_model_name": "LayoutModel",
            "_view_count": null,
            "_view_module": "@jupyter-widgets/base",
            "_view_module_version": "1.2.0",
            "_view_name": "LayoutView",
            "align_content": null,
            "align_items": null,
            "align_self": null,
            "border": null,
            "bottom": null,
            "display": null,
            "flex": null,
            "flex_flow": null,
            "grid_area": null,
            "grid_auto_columns": null,
            "grid_auto_flow": null,
            "grid_auto_rows": null,
            "grid_column": null,
            "grid_gap": null,
            "grid_row": null,
            "grid_template_areas": null,
            "grid_template_columns": null,
            "grid_template_rows": null,
            "height": null,
            "justify_content": null,
            "justify_items": null,
            "left": null,
            "margin": null,
            "max_height": null,
            "max_width": null,
            "min_height": null,
            "min_width": null,
            "object_fit": null,
            "object_position": null,
            "order": null,
            "overflow": null,
            "overflow_x": null,
            "overflow_y": null,
            "padding": null,
            "right": null,
            "top": null,
            "visibility": null,
            "width": null
          }
        },
        "28497079f5784be1ada54fe25ab0853e": {
          "model_module": "@jupyter-widgets/controls",
          "model_name": "ProgressStyleModel",
          "model_module_version": "1.5.0",
          "state": {
            "_model_module": "@jupyter-widgets/controls",
            "_model_module_version": "1.5.0",
            "_model_name": "ProgressStyleModel",
            "_view_count": null,
            "_view_module": "@jupyter-widgets/base",
            "_view_module_version": "1.2.0",
            "_view_name": "StyleView",
            "bar_color": null,
            "description_width": ""
          }
        },
        "0421603ba6c64ad8a4b71dd0d07f010b": {
          "model_module": "@jupyter-widgets/base",
          "model_name": "LayoutModel",
          "model_module_version": "1.2.0",
          "state": {
            "_model_module": "@jupyter-widgets/base",
            "_model_module_version": "1.2.0",
            "_model_name": "LayoutModel",
            "_view_count": null,
            "_view_module": "@jupyter-widgets/base",
            "_view_module_version": "1.2.0",
            "_view_name": "LayoutView",
            "align_content": null,
            "align_items": null,
            "align_self": null,
            "border": null,
            "bottom": null,
            "display": null,
            "flex": null,
            "flex_flow": null,
            "grid_area": null,
            "grid_auto_columns": null,
            "grid_auto_flow": null,
            "grid_auto_rows": null,
            "grid_column": null,
            "grid_gap": null,
            "grid_row": null,
            "grid_template_areas": null,
            "grid_template_columns": null,
            "grid_template_rows": null,
            "height": null,
            "justify_content": null,
            "justify_items": null,
            "left": null,
            "margin": null,
            "max_height": null,
            "max_width": null,
            "min_height": null,
            "min_width": null,
            "object_fit": null,
            "object_position": null,
            "order": null,
            "overflow": null,
            "overflow_x": null,
            "overflow_y": null,
            "padding": null,
            "right": null,
            "top": null,
            "visibility": null,
            "width": null
          }
        },
        "6d21334e2e6e4c41b12a969ff26dd412": {
          "model_module": "@jupyter-widgets/controls",
          "model_name": "DescriptionStyleModel",
          "model_module_version": "1.5.0",
          "state": {
            "_model_module": "@jupyter-widgets/controls",
            "_model_module_version": "1.5.0",
            "_model_name": "DescriptionStyleModel",
            "_view_count": null,
            "_view_module": "@jupyter-widgets/base",
            "_view_module_version": "1.2.0",
            "_view_name": "StyleView",
            "description_width": ""
          }
        },
        "f9595f2c631446efbf7b4ebe837862ab": {
          "model_module": "@jupyter-widgets/controls",
          "model_name": "HBoxModel",
          "model_module_version": "1.5.0",
          "state": {
            "_dom_classes": [],
            "_model_module": "@jupyter-widgets/controls",
            "_model_module_version": "1.5.0",
            "_model_name": "HBoxModel",
            "_view_count": null,
            "_view_module": "@jupyter-widgets/controls",
            "_view_module_version": "1.5.0",
            "_view_name": "HBoxView",
            "box_style": "",
            "children": [
              "IPY_MODEL_e4b3a2d113e340359395bcb8afd02968",
              "IPY_MODEL_e02de7ccca914ba28e6d4ef8d6471043",
              "IPY_MODEL_e88331415a6349d699940636054546e4"
            ],
            "layout": "IPY_MODEL_737c71a4951a48e982d2614c890c9d55"
          }
        },
        "e4b3a2d113e340359395bcb8afd02968": {
          "model_module": "@jupyter-widgets/controls",
          "model_name": "HTMLModel",
          "model_module_version": "1.5.0",
          "state": {
            "_dom_classes": [],
            "_model_module": "@jupyter-widgets/controls",
            "_model_module_version": "1.5.0",
            "_model_name": "HTMLModel",
            "_view_count": null,
            "_view_module": "@jupyter-widgets/controls",
            "_view_module_version": "1.5.0",
            "_view_name": "HTMLView",
            "description": "",
            "description_tooltip": null,
            "layout": "IPY_MODEL_558bc335b69c486e8a06c653eccc61f6",
            "placeholder": "​",
            "style": "IPY_MODEL_469bffc55a184fd9986f00e8def6804b",
            "value": "Epoch  2: 100%"
          }
        },
        "e02de7ccca914ba28e6d4ef8d6471043": {
          "model_module": "@jupyter-widgets/controls",
          "model_name": "FloatProgressModel",
          "model_module_version": "1.5.0",
          "state": {
            "_dom_classes": [],
            "_model_module": "@jupyter-widgets/controls",
            "_model_module_version": "1.5.0",
            "_model_name": "FloatProgressModel",
            "_view_count": null,
            "_view_module": "@jupyter-widgets/controls",
            "_view_module_version": "1.5.0",
            "_view_name": "ProgressView",
            "bar_style": "success",
            "description": "",
            "description_tooltip": null,
            "layout": "IPY_MODEL_b3f70a3ecf1d48c6b30adc82aeb9fc03",
            "max": 472,
            "min": 0,
            "orientation": "horizontal",
            "style": "IPY_MODEL_42d79d9840dc4a5899fdf751d9922b66",
            "value": 472
          }
        },
        "e88331415a6349d699940636054546e4": {
          "model_module": "@jupyter-widgets/controls",
          "model_name": "HTMLModel",
          "model_module_version": "1.5.0",
          "state": {
            "_dom_classes": [],
            "_model_module": "@jupyter-widgets/controls",
            "_model_module_version": "1.5.0",
            "_model_name": "HTMLModel",
            "_view_count": null,
            "_view_module": "@jupyter-widgets/controls",
            "_view_module_version": "1.5.0",
            "_view_name": "HTMLView",
            "description": "",
            "description_tooltip": null,
            "layout": "IPY_MODEL_cda93f3dcc0d4852acf2d757771a1d02",
            "placeholder": "​",
            "style": "IPY_MODEL_c121fd1643cb465ea1947669c24b46e4",
            "value": " 472/472 [03:26&lt;00:00,  4.58it/s, Loss 3.2218]"
          }
        },
        "737c71a4951a48e982d2614c890c9d55": {
          "model_module": "@jupyter-widgets/base",
          "model_name": "LayoutModel",
          "model_module_version": "1.2.0",
          "state": {
            "_model_module": "@jupyter-widgets/base",
            "_model_module_version": "1.2.0",
            "_model_name": "LayoutModel",
            "_view_count": null,
            "_view_module": "@jupyter-widgets/base",
            "_view_module_version": "1.2.0",
            "_view_name": "LayoutView",
            "align_content": null,
            "align_items": null,
            "align_self": null,
            "border": null,
            "bottom": null,
            "display": null,
            "flex": null,
            "flex_flow": null,
            "grid_area": null,
            "grid_auto_columns": null,
            "grid_auto_flow": null,
            "grid_auto_rows": null,
            "grid_column": null,
            "grid_gap": null,
            "grid_row": null,
            "grid_template_areas": null,
            "grid_template_columns": null,
            "grid_template_rows": null,
            "height": null,
            "justify_content": null,
            "justify_items": null,
            "left": null,
            "margin": null,
            "max_height": null,
            "max_width": null,
            "min_height": null,
            "min_width": null,
            "object_fit": null,
            "object_position": null,
            "order": null,
            "overflow": null,
            "overflow_x": null,
            "overflow_y": null,
            "padding": null,
            "right": null,
            "top": null,
            "visibility": null,
            "width": null
          }
        },
        "558bc335b69c486e8a06c653eccc61f6": {
          "model_module": "@jupyter-widgets/base",
          "model_name": "LayoutModel",
          "model_module_version": "1.2.0",
          "state": {
            "_model_module": "@jupyter-widgets/base",
            "_model_module_version": "1.2.0",
            "_model_name": "LayoutModel",
            "_view_count": null,
            "_view_module": "@jupyter-widgets/base",
            "_view_module_version": "1.2.0",
            "_view_name": "LayoutView",
            "align_content": null,
            "align_items": null,
            "align_self": null,
            "border": null,
            "bottom": null,
            "display": null,
            "flex": null,
            "flex_flow": null,
            "grid_area": null,
            "grid_auto_columns": null,
            "grid_auto_flow": null,
            "grid_auto_rows": null,
            "grid_column": null,
            "grid_gap": null,
            "grid_row": null,
            "grid_template_areas": null,
            "grid_template_columns": null,
            "grid_template_rows": null,
            "height": null,
            "justify_content": null,
            "justify_items": null,
            "left": null,
            "margin": null,
            "max_height": null,
            "max_width": null,
            "min_height": null,
            "min_width": null,
            "object_fit": null,
            "object_position": null,
            "order": null,
            "overflow": null,
            "overflow_x": null,
            "overflow_y": null,
            "padding": null,
            "right": null,
            "top": null,
            "visibility": null,
            "width": null
          }
        },
        "469bffc55a184fd9986f00e8def6804b": {
          "model_module": "@jupyter-widgets/controls",
          "model_name": "DescriptionStyleModel",
          "model_module_version": "1.5.0",
          "state": {
            "_model_module": "@jupyter-widgets/controls",
            "_model_module_version": "1.5.0",
            "_model_name": "DescriptionStyleModel",
            "_view_count": null,
            "_view_module": "@jupyter-widgets/base",
            "_view_module_version": "1.2.0",
            "_view_name": "StyleView",
            "description_width": ""
          }
        },
        "b3f70a3ecf1d48c6b30adc82aeb9fc03": {
          "model_module": "@jupyter-widgets/base",
          "model_name": "LayoutModel",
          "model_module_version": "1.2.0",
          "state": {
            "_model_module": "@jupyter-widgets/base",
            "_model_module_version": "1.2.0",
            "_model_name": "LayoutModel",
            "_view_count": null,
            "_view_module": "@jupyter-widgets/base",
            "_view_module_version": "1.2.0",
            "_view_name": "LayoutView",
            "align_content": null,
            "align_items": null,
            "align_self": null,
            "border": null,
            "bottom": null,
            "display": null,
            "flex": null,
            "flex_flow": null,
            "grid_area": null,
            "grid_auto_columns": null,
            "grid_auto_flow": null,
            "grid_auto_rows": null,
            "grid_column": null,
            "grid_gap": null,
            "grid_row": null,
            "grid_template_areas": null,
            "grid_template_columns": null,
            "grid_template_rows": null,
            "height": null,
            "justify_content": null,
            "justify_items": null,
            "left": null,
            "margin": null,
            "max_height": null,
            "max_width": null,
            "min_height": null,
            "min_width": null,
            "object_fit": null,
            "object_position": null,
            "order": null,
            "overflow": null,
            "overflow_x": null,
            "overflow_y": null,
            "padding": null,
            "right": null,
            "top": null,
            "visibility": null,
            "width": null
          }
        },
        "42d79d9840dc4a5899fdf751d9922b66": {
          "model_module": "@jupyter-widgets/controls",
          "model_name": "ProgressStyleModel",
          "model_module_version": "1.5.0",
          "state": {
            "_model_module": "@jupyter-widgets/controls",
            "_model_module_version": "1.5.0",
            "_model_name": "ProgressStyleModel",
            "_view_count": null,
            "_view_module": "@jupyter-widgets/base",
            "_view_module_version": "1.2.0",
            "_view_name": "StyleView",
            "bar_color": null,
            "description_width": ""
          }
        },
        "cda93f3dcc0d4852acf2d757771a1d02": {
          "model_module": "@jupyter-widgets/base",
          "model_name": "LayoutModel",
          "model_module_version": "1.2.0",
          "state": {
            "_model_module": "@jupyter-widgets/base",
            "_model_module_version": "1.2.0",
            "_model_name": "LayoutModel",
            "_view_count": null,
            "_view_module": "@jupyter-widgets/base",
            "_view_module_version": "1.2.0",
            "_view_name": "LayoutView",
            "align_content": null,
            "align_items": null,
            "align_self": null,
            "border": null,
            "bottom": null,
            "display": null,
            "flex": null,
            "flex_flow": null,
            "grid_area": null,
            "grid_auto_columns": null,
            "grid_auto_flow": null,
            "grid_auto_rows": null,
            "grid_column": null,
            "grid_gap": null,
            "grid_row": null,
            "grid_template_areas": null,
            "grid_template_columns": null,
            "grid_template_rows": null,
            "height": null,
            "justify_content": null,
            "justify_items": null,
            "left": null,
            "margin": null,
            "max_height": null,
            "max_width": null,
            "min_height": null,
            "min_width": null,
            "object_fit": null,
            "object_position": null,
            "order": null,
            "overflow": null,
            "overflow_x": null,
            "overflow_y": null,
            "padding": null,
            "right": null,
            "top": null,
            "visibility": null,
            "width": null
          }
        },
        "c121fd1643cb465ea1947669c24b46e4": {
          "model_module": "@jupyter-widgets/controls",
          "model_name": "DescriptionStyleModel",
          "model_module_version": "1.5.0",
          "state": {
            "_model_module": "@jupyter-widgets/controls",
            "_model_module_version": "1.5.0",
            "_model_name": "DescriptionStyleModel",
            "_view_count": null,
            "_view_module": "@jupyter-widgets/base",
            "_view_module_version": "1.2.0",
            "_view_name": "StyleView",
            "description_width": ""
          }
        },
        "31de788e80534e1c93fa49b28e465718": {
          "model_module": "@jupyter-widgets/controls",
          "model_name": "HBoxModel",
          "model_module_version": "1.5.0",
          "state": {
            "_dom_classes": [],
            "_model_module": "@jupyter-widgets/controls",
            "_model_module_version": "1.5.0",
            "_model_name": "HBoxModel",
            "_view_count": null,
            "_view_module": "@jupyter-widgets/controls",
            "_view_module_version": "1.5.0",
            "_view_name": "HBoxView",
            "box_style": "",
            "children": [
              "IPY_MODEL_4d53ed7cf5874b6bb31439b733aeb726",
              "IPY_MODEL_fce3667b07c949af87e4c2f960d49f78",
              "IPY_MODEL_aa2724d5fe124aaca73499ba511ff703"
            ],
            "layout": "IPY_MODEL_b2105d6c30f748c6aacb20c502c1f12f"
          }
        },
        "4d53ed7cf5874b6bb31439b733aeb726": {
          "model_module": "@jupyter-widgets/controls",
          "model_name": "HTMLModel",
          "model_module_version": "1.5.0",
          "state": {
            "_dom_classes": [],
            "_model_module": "@jupyter-widgets/controls",
            "_model_module_version": "1.5.0",
            "_model_name": "HTMLModel",
            "_view_count": null,
            "_view_module": "@jupyter-widgets/controls",
            "_view_module_version": "1.5.0",
            "_view_name": "HTMLView",
            "description": "",
            "description_tooltip": null,
            "layout": "IPY_MODEL_aa21202a4e284c12b1dcb83619120630",
            "placeholder": "​",
            "style": "IPY_MODEL_08e1175a3c6e4c1c987d582eb8451cce",
            "value": "Epoch  3: 100%"
          }
        },
        "fce3667b07c949af87e4c2f960d49f78": {
          "model_module": "@jupyter-widgets/controls",
          "model_name": "FloatProgressModel",
          "model_module_version": "1.5.0",
          "state": {
            "_dom_classes": [],
            "_model_module": "@jupyter-widgets/controls",
            "_model_module_version": "1.5.0",
            "_model_name": "FloatProgressModel",
            "_view_count": null,
            "_view_module": "@jupyter-widgets/controls",
            "_view_module_version": "1.5.0",
            "_view_name": "ProgressView",
            "bar_style": "",
            "description": "",
            "description_tooltip": null,
            "layout": "IPY_MODEL_390fe55d29a64cd5aabe61071d3faf54",
            "max": 472,
            "min": 0,
            "orientation": "horizontal",
            "style": "IPY_MODEL_1374ce7d779140aaba2a9b7b1934cbe0",
            "value": 471
          }
        },
        "aa2724d5fe124aaca73499ba511ff703": {
          "model_module": "@jupyter-widgets/controls",
          "model_name": "HTMLModel",
          "model_module_version": "1.5.0",
          "state": {
            "_dom_classes": [],
            "_model_module": "@jupyter-widgets/controls",
            "_model_module_version": "1.5.0",
            "_model_name": "HTMLModel",
            "_view_count": null,
            "_view_module": "@jupyter-widgets/controls",
            "_view_module_version": "1.5.0",
            "_view_name": "HTMLView",
            "description": "",
            "description_tooltip": null,
            "layout": "IPY_MODEL_7bf094819ffd4f4ea6af3396b5ee526a",
            "placeholder": "​",
            "style": "IPY_MODEL_f267309a56984a9080c75a5a4dfad255",
            "value": " 471/472 [01:42&lt;00:00,  4.59it/s, Loss 2.4560]"
          }
        },
        "b2105d6c30f748c6aacb20c502c1f12f": {
          "model_module": "@jupyter-widgets/base",
          "model_name": "LayoutModel",
          "model_module_version": "1.2.0",
          "state": {
            "_model_module": "@jupyter-widgets/base",
            "_model_module_version": "1.2.0",
            "_model_name": "LayoutModel",
            "_view_count": null,
            "_view_module": "@jupyter-widgets/base",
            "_view_module_version": "1.2.0",
            "_view_name": "LayoutView",
            "align_content": null,
            "align_items": null,
            "align_self": null,
            "border": null,
            "bottom": null,
            "display": null,
            "flex": null,
            "flex_flow": null,
            "grid_area": null,
            "grid_auto_columns": null,
            "grid_auto_flow": null,
            "grid_auto_rows": null,
            "grid_column": null,
            "grid_gap": null,
            "grid_row": null,
            "grid_template_areas": null,
            "grid_template_columns": null,
            "grid_template_rows": null,
            "height": null,
            "justify_content": null,
            "justify_items": null,
            "left": null,
            "margin": null,
            "max_height": null,
            "max_width": null,
            "min_height": null,
            "min_width": null,
            "object_fit": null,
            "object_position": null,
            "order": null,
            "overflow": null,
            "overflow_x": null,
            "overflow_y": null,
            "padding": null,
            "right": null,
            "top": null,
            "visibility": null,
            "width": null
          }
        },
        "aa21202a4e284c12b1dcb83619120630": {
          "model_module": "@jupyter-widgets/base",
          "model_name": "LayoutModel",
          "model_module_version": "1.2.0",
          "state": {
            "_model_module": "@jupyter-widgets/base",
            "_model_module_version": "1.2.0",
            "_model_name": "LayoutModel",
            "_view_count": null,
            "_view_module": "@jupyter-widgets/base",
            "_view_module_version": "1.2.0",
            "_view_name": "LayoutView",
            "align_content": null,
            "align_items": null,
            "align_self": null,
            "border": null,
            "bottom": null,
            "display": null,
            "flex": null,
            "flex_flow": null,
            "grid_area": null,
            "grid_auto_columns": null,
            "grid_auto_flow": null,
            "grid_auto_rows": null,
            "grid_column": null,
            "grid_gap": null,
            "grid_row": null,
            "grid_template_areas": null,
            "grid_template_columns": null,
            "grid_template_rows": null,
            "height": null,
            "justify_content": null,
            "justify_items": null,
            "left": null,
            "margin": null,
            "max_height": null,
            "max_width": null,
            "min_height": null,
            "min_width": null,
            "object_fit": null,
            "object_position": null,
            "order": null,
            "overflow": null,
            "overflow_x": null,
            "overflow_y": null,
            "padding": null,
            "right": null,
            "top": null,
            "visibility": null,
            "width": null
          }
        },
        "08e1175a3c6e4c1c987d582eb8451cce": {
          "model_module": "@jupyter-widgets/controls",
          "model_name": "DescriptionStyleModel",
          "model_module_version": "1.5.0",
          "state": {
            "_model_module": "@jupyter-widgets/controls",
            "_model_module_version": "1.5.0",
            "_model_name": "DescriptionStyleModel",
            "_view_count": null,
            "_view_module": "@jupyter-widgets/base",
            "_view_module_version": "1.2.0",
            "_view_name": "StyleView",
            "description_width": ""
          }
        },
        "390fe55d29a64cd5aabe61071d3faf54": {
          "model_module": "@jupyter-widgets/base",
          "model_name": "LayoutModel",
          "model_module_version": "1.2.0",
          "state": {
            "_model_module": "@jupyter-widgets/base",
            "_model_module_version": "1.2.0",
            "_model_name": "LayoutModel",
            "_view_count": null,
            "_view_module": "@jupyter-widgets/base",
            "_view_module_version": "1.2.0",
            "_view_name": "LayoutView",
            "align_content": null,
            "align_items": null,
            "align_self": null,
            "border": null,
            "bottom": null,
            "display": null,
            "flex": null,
            "flex_flow": null,
            "grid_area": null,
            "grid_auto_columns": null,
            "grid_auto_flow": null,
            "grid_auto_rows": null,
            "grid_column": null,
            "grid_gap": null,
            "grid_row": null,
            "grid_template_areas": null,
            "grid_template_columns": null,
            "grid_template_rows": null,
            "height": null,
            "justify_content": null,
            "justify_items": null,
            "left": null,
            "margin": null,
            "max_height": null,
            "max_width": null,
            "min_height": null,
            "min_width": null,
            "object_fit": null,
            "object_position": null,
            "order": null,
            "overflow": null,
            "overflow_x": null,
            "overflow_y": null,
            "padding": null,
            "right": null,
            "top": null,
            "visibility": null,
            "width": null
          }
        },
        "1374ce7d779140aaba2a9b7b1934cbe0": {
          "model_module": "@jupyter-widgets/controls",
          "model_name": "ProgressStyleModel",
          "model_module_version": "1.5.0",
          "state": {
            "_model_module": "@jupyter-widgets/controls",
            "_model_module_version": "1.5.0",
            "_model_name": "ProgressStyleModel",
            "_view_count": null,
            "_view_module": "@jupyter-widgets/base",
            "_view_module_version": "1.2.0",
            "_view_name": "StyleView",
            "bar_color": null,
            "description_width": ""
          }
        },
        "7bf094819ffd4f4ea6af3396b5ee526a": {
          "model_module": "@jupyter-widgets/base",
          "model_name": "LayoutModel",
          "model_module_version": "1.2.0",
          "state": {
            "_model_module": "@jupyter-widgets/base",
            "_model_module_version": "1.2.0",
            "_model_name": "LayoutModel",
            "_view_count": null,
            "_view_module": "@jupyter-widgets/base",
            "_view_module_version": "1.2.0",
            "_view_name": "LayoutView",
            "align_content": null,
            "align_items": null,
            "align_self": null,
            "border": null,
            "bottom": null,
            "display": null,
            "flex": null,
            "flex_flow": null,
            "grid_area": null,
            "grid_auto_columns": null,
            "grid_auto_flow": null,
            "grid_auto_rows": null,
            "grid_column": null,
            "grid_gap": null,
            "grid_row": null,
            "grid_template_areas": null,
            "grid_template_columns": null,
            "grid_template_rows": null,
            "height": null,
            "justify_content": null,
            "justify_items": null,
            "left": null,
            "margin": null,
            "max_height": null,
            "max_width": null,
            "min_height": null,
            "min_width": null,
            "object_fit": null,
            "object_position": null,
            "order": null,
            "overflow": null,
            "overflow_x": null,
            "overflow_y": null,
            "padding": null,
            "right": null,
            "top": null,
            "visibility": null,
            "width": null
          }
        },
        "f267309a56984a9080c75a5a4dfad255": {
          "model_module": "@jupyter-widgets/controls",
          "model_name": "DescriptionStyleModel",
          "model_module_version": "1.5.0",
          "state": {
            "_model_module": "@jupyter-widgets/controls",
            "_model_module_version": "1.5.0",
            "_model_name": "DescriptionStyleModel",
            "_view_count": null,
            "_view_module": "@jupyter-widgets/base",
            "_view_module_version": "1.2.0",
            "_view_name": "StyleView",
            "description_width": ""
          }
        },
        "bcce4b8b5d174b35a73ca8a92ae8384e": {
          "model_module": "@jupyter-widgets/controls",
          "model_name": "HBoxModel",
          "model_module_version": "1.5.0",
          "state": {
            "_dom_classes": [],
            "_model_module": "@jupyter-widgets/controls",
            "_model_module_version": "1.5.0",
            "_model_name": "HBoxModel",
            "_view_count": null,
            "_view_module": "@jupyter-widgets/controls",
            "_view_module_version": "1.5.0",
            "_view_name": "HBoxView",
            "box_style": "",
            "children": [
              "IPY_MODEL_b9d694171d114c5aa5d2543f046f74e3",
              "IPY_MODEL_ff13908af17d4e7bbd6b02b9762bd6f3",
              "IPY_MODEL_867b5cbf687e4a889293e3d722264e85"
            ],
            "layout": "IPY_MODEL_661e17f2d6d64aa99eca3927c27b1f63"
          }
        },
        "b9d694171d114c5aa5d2543f046f74e3": {
          "model_module": "@jupyter-widgets/controls",
          "model_name": "HTMLModel",
          "model_module_version": "1.5.0",
          "state": {
            "_dom_classes": [],
            "_model_module": "@jupyter-widgets/controls",
            "_model_module_version": "1.5.0",
            "_model_name": "HTMLModel",
            "_view_count": null,
            "_view_module": "@jupyter-widgets/controls",
            "_view_module_version": "1.5.0",
            "_view_name": "HTMLView",
            "description": "",
            "description_tooltip": null,
            "layout": "IPY_MODEL_d6421b5ac774430d8626a697c2725f38",
            "placeholder": "​",
            "style": "IPY_MODEL_e8433b53ba3e4628ac2ecef73d849e9c",
            "value": "100%"
          }
        },
        "ff13908af17d4e7bbd6b02b9762bd6f3": {
          "model_module": "@jupyter-widgets/controls",
          "model_name": "FloatProgressModel",
          "model_module_version": "1.5.0",
          "state": {
            "_dom_classes": [],
            "_model_module": "@jupyter-widgets/controls",
            "_model_module_version": "1.5.0",
            "_model_name": "FloatProgressModel",
            "_view_count": null,
            "_view_module": "@jupyter-widgets/controls",
            "_view_module_version": "1.5.0",
            "_view_name": "ProgressView",
            "bar_style": "success",
            "description": "",
            "description_tooltip": null,
            "layout": "IPY_MODEL_0eb86b8bc906436cb70cb80e93d12989",
            "max": 2,
            "min": 0,
            "orientation": "horizontal",
            "style": "IPY_MODEL_07afc29b30984a0fb5dcd93c2771b08d",
            "value": 2
          }
        },
        "867b5cbf687e4a889293e3d722264e85": {
          "model_module": "@jupyter-widgets/controls",
          "model_name": "HTMLModel",
          "model_module_version": "1.5.0",
          "state": {
            "_dom_classes": [],
            "_model_module": "@jupyter-widgets/controls",
            "_model_module_version": "1.5.0",
            "_model_name": "HTMLModel",
            "_view_count": null,
            "_view_module": "@jupyter-widgets/controls",
            "_view_module_version": "1.5.0",
            "_view_name": "HTMLView",
            "description": "",
            "description_tooltip": null,
            "layout": "IPY_MODEL_50a7236ab66248e7b5c83e15ff8e1b21",
            "placeholder": "​",
            "style": "IPY_MODEL_ecc4ed64c2b142b2a3b8a4ac3c83ec3b",
            "value": " 2/2 [00:01&lt;00:00,  1.19it/s]"
          }
        },
        "661e17f2d6d64aa99eca3927c27b1f63": {
          "model_module": "@jupyter-widgets/base",
          "model_name": "LayoutModel",
          "model_module_version": "1.2.0",
          "state": {
            "_model_module": "@jupyter-widgets/base",
            "_model_module_version": "1.2.0",
            "_model_name": "LayoutModel",
            "_view_count": null,
            "_view_module": "@jupyter-widgets/base",
            "_view_module_version": "1.2.0",
            "_view_name": "LayoutView",
            "align_content": null,
            "align_items": null,
            "align_self": null,
            "border": null,
            "bottom": null,
            "display": null,
            "flex": null,
            "flex_flow": null,
            "grid_area": null,
            "grid_auto_columns": null,
            "grid_auto_flow": null,
            "grid_auto_rows": null,
            "grid_column": null,
            "grid_gap": null,
            "grid_row": null,
            "grid_template_areas": null,
            "grid_template_columns": null,
            "grid_template_rows": null,
            "height": null,
            "justify_content": null,
            "justify_items": null,
            "left": null,
            "margin": null,
            "max_height": null,
            "max_width": null,
            "min_height": null,
            "min_width": null,
            "object_fit": null,
            "object_position": null,
            "order": null,
            "overflow": null,
            "overflow_x": null,
            "overflow_y": null,
            "padding": null,
            "right": null,
            "top": null,
            "visibility": null,
            "width": null
          }
        },
        "d6421b5ac774430d8626a697c2725f38": {
          "model_module": "@jupyter-widgets/base",
          "model_name": "LayoutModel",
          "model_module_version": "1.2.0",
          "state": {
            "_model_module": "@jupyter-widgets/base",
            "_model_module_version": "1.2.0",
            "_model_name": "LayoutModel",
            "_view_count": null,
            "_view_module": "@jupyter-widgets/base",
            "_view_module_version": "1.2.0",
            "_view_name": "LayoutView",
            "align_content": null,
            "align_items": null,
            "align_self": null,
            "border": null,
            "bottom": null,
            "display": null,
            "flex": null,
            "flex_flow": null,
            "grid_area": null,
            "grid_auto_columns": null,
            "grid_auto_flow": null,
            "grid_auto_rows": null,
            "grid_column": null,
            "grid_gap": null,
            "grid_row": null,
            "grid_template_areas": null,
            "grid_template_columns": null,
            "grid_template_rows": null,
            "height": null,
            "justify_content": null,
            "justify_items": null,
            "left": null,
            "margin": null,
            "max_height": null,
            "max_width": null,
            "min_height": null,
            "min_width": null,
            "object_fit": null,
            "object_position": null,
            "order": null,
            "overflow": null,
            "overflow_x": null,
            "overflow_y": null,
            "padding": null,
            "right": null,
            "top": null,
            "visibility": null,
            "width": null
          }
        },
        "e8433b53ba3e4628ac2ecef73d849e9c": {
          "model_module": "@jupyter-widgets/controls",
          "model_name": "DescriptionStyleModel",
          "model_module_version": "1.5.0",
          "state": {
            "_model_module": "@jupyter-widgets/controls",
            "_model_module_version": "1.5.0",
            "_model_name": "DescriptionStyleModel",
            "_view_count": null,
            "_view_module": "@jupyter-widgets/base",
            "_view_module_version": "1.2.0",
            "_view_name": "StyleView",
            "description_width": ""
          }
        },
        "0eb86b8bc906436cb70cb80e93d12989": {
          "model_module": "@jupyter-widgets/base",
          "model_name": "LayoutModel",
          "model_module_version": "1.2.0",
          "state": {
            "_model_module": "@jupyter-widgets/base",
            "_model_module_version": "1.2.0",
            "_model_name": "LayoutModel",
            "_view_count": null,
            "_view_module": "@jupyter-widgets/base",
            "_view_module_version": "1.2.0",
            "_view_name": "LayoutView",
            "align_content": null,
            "align_items": null,
            "align_self": null,
            "border": null,
            "bottom": null,
            "display": null,
            "flex": null,
            "flex_flow": null,
            "grid_area": null,
            "grid_auto_columns": null,
            "grid_auto_flow": null,
            "grid_auto_rows": null,
            "grid_column": null,
            "grid_gap": null,
            "grid_row": null,
            "grid_template_areas": null,
            "grid_template_columns": null,
            "grid_template_rows": null,
            "height": null,
            "justify_content": null,
            "justify_items": null,
            "left": null,
            "margin": null,
            "max_height": null,
            "max_width": null,
            "min_height": null,
            "min_width": null,
            "object_fit": null,
            "object_position": null,
            "order": null,
            "overflow": null,
            "overflow_x": null,
            "overflow_y": null,
            "padding": null,
            "right": null,
            "top": null,
            "visibility": null,
            "width": null
          }
        },
        "07afc29b30984a0fb5dcd93c2771b08d": {
          "model_module": "@jupyter-widgets/controls",
          "model_name": "ProgressStyleModel",
          "model_module_version": "1.5.0",
          "state": {
            "_model_module": "@jupyter-widgets/controls",
            "_model_module_version": "1.5.0",
            "_model_name": "ProgressStyleModel",
            "_view_count": null,
            "_view_module": "@jupyter-widgets/base",
            "_view_module_version": "1.2.0",
            "_view_name": "StyleView",
            "bar_color": null,
            "description_width": ""
          }
        },
        "50a7236ab66248e7b5c83e15ff8e1b21": {
          "model_module": "@jupyter-widgets/base",
          "model_name": "LayoutModel",
          "model_module_version": "1.2.0",
          "state": {
            "_model_module": "@jupyter-widgets/base",
            "_model_module_version": "1.2.0",
            "_model_name": "LayoutModel",
            "_view_count": null,
            "_view_module": "@jupyter-widgets/base",
            "_view_module_version": "1.2.0",
            "_view_name": "LayoutView",
            "align_content": null,
            "align_items": null,
            "align_self": null,
            "border": null,
            "bottom": null,
            "display": null,
            "flex": null,
            "flex_flow": null,
            "grid_area": null,
            "grid_auto_columns": null,
            "grid_auto_flow": null,
            "grid_auto_rows": null,
            "grid_column": null,
            "grid_gap": null,
            "grid_row": null,
            "grid_template_areas": null,
            "grid_template_columns": null,
            "grid_template_rows": null,
            "height": null,
            "justify_content": null,
            "justify_items": null,
            "left": null,
            "margin": null,
            "max_height": null,
            "max_width": null,
            "min_height": null,
            "min_width": null,
            "object_fit": null,
            "object_position": null,
            "order": null,
            "overflow": null,
            "overflow_x": null,
            "overflow_y": null,
            "padding": null,
            "right": null,
            "top": null,
            "visibility": null,
            "width": null
          }
        },
        "ecc4ed64c2b142b2a3b8a4ac3c83ec3b": {
          "model_module": "@jupyter-widgets/controls",
          "model_name": "DescriptionStyleModel",
          "model_module_version": "1.5.0",
          "state": {
            "_model_module": "@jupyter-widgets/controls",
            "_model_module_version": "1.5.0",
            "_model_name": "DescriptionStyleModel",
            "_view_count": null,
            "_view_module": "@jupyter-widgets/base",
            "_view_module_version": "1.2.0",
            "_view_name": "StyleView",
            "description_width": ""
          }
        }
      }
    }
  },
  "nbformat": 4,
  "nbformat_minor": 5
}