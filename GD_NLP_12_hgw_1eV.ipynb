{
  "cells": [
    {
      "cell_type": "markdown",
      "metadata": {
        "id": "fc025388"
      },
      "source": [
        "## NLP12. 멋진 챗봇 만들기"
      ],
      "id": "fc025388"
    },
    {
      "cell_type": "markdown",
      "source": [
        "### 필요한 모듈 설치와 임포트"
      ],
      "metadata": {
        "id": "y_M2KrhKY1NB"
      },
      "id": "y_M2KrhKY1NB"
    },
    {
      "cell_type": "code",
      "execution_count": null,
      "metadata": {
        "id": "OeoE46PkQYtA"
      },
      "outputs": [],
      "source": [
        "pip install sentencepiece"
      ],
      "id": "OeoE46PkQYtA"
    },
    {
      "cell_type": "code",
      "execution_count": null,
      "metadata": {
        "id": "xVkJf1YBS9gf"
      },
      "outputs": [],
      "source": [
        "!apt-get update\n",
        "!apt-get install g++ openjdk-8-jdk \n",
        "!pip3 install konlpy JPype1-py3\n",
        "!bash <(curl -s https://raw.githubusercontent.com/konlpy/konlpy/master/scripts/mecab.sh)"
      ],
      "id": "xVkJf1YBS9gf"
    },
    {
      "cell_type": "code",
      "execution_count": null,
      "metadata": {
        "id": "qbsnc03blPQZ"
      },
      "outputs": [],
      "source": [
        "pip install --upgrade tensorflow==2.10.0"
      ],
      "id": "qbsnc03blPQZ"
    },
    {
      "cell_type": "code",
      "execution_count": null,
      "metadata": {
        "colab": {
          "base_uri": "https://localhost:8080/"
        },
        "id": "a92a11b3",
        "outputId": "10b21012-8070-4df5-bc28-09cd2345d511"
      },
      "outputs": [
        {
          "output_type": "stream",
          "name": "stdout",
          "text": [
            "2.10.0\n",
            "1.21.6\n",
            "1.3.5\n",
            "2.10.0\n",
            "3.7\n",
            "3.6.0\n"
          ]
        }
      ],
      "source": [
        "import numpy \n",
        "import pandas as pd\n",
        "import tensorflow as tf\n",
        "import nltk\n",
        "import gensim\n",
        "from konlpy.tag import Mecab\n",
        "import os\n",
        "import re\n",
        "import numpy as np\n",
        "from collections import Counter\n",
        "import tensorflow as tf\n",
        "import sentencepiece as spm\n",
        "from sklearn.model_selection import train_test_split\n",
        "from nltk.translate.bleu_score import sentence_bleu\n",
        "from nltk.translate.bleu_score import SmoothingFunction\n",
        "import random\n",
        "import math\n",
        "from tqdm import tqdm\n",
        "import matplotlib.pyplot as plt\n",
        "\n",
        "print(tf.__version__)\n",
        "\n",
        "print(numpy.__version__)\n",
        "print(pd.__version__)\n",
        "print(tf.__version__)\n",
        "print(nltk.__version__)\n",
        "print(gensim.__version__)"
      ],
      "id": "a92a11b3"
    },
    {
      "cell_type": "code",
      "execution_count": null,
      "metadata": {
        "colab": {
          "base_uri": "https://localhost:8080/"
        },
        "id": "JdMTGxxmPtPG",
        "outputId": "04fd7ba7-e808-478e-bbdd-79e3969966d9"
      },
      "outputs": [
        {
          "output_type": "stream",
          "name": "stdout",
          "text": [
            "Mounted at /content/drive\n"
          ]
        }
      ],
      "source": [
        "from google.colab import drive\n",
        "drive.mount('/content/drive')"
      ],
      "id": "JdMTGxxmPtPG"
    },
    {
      "cell_type": "markdown",
      "source": [
        "### 파일 디렉토리 설정과 데이터 불러오기"
      ],
      "metadata": {
        "id": "ILQoyVVjY9AA"
      },
      "id": "ILQoyVVjY9AA"
    },
    {
      "cell_type": "code",
      "execution_count": null,
      "metadata": {
        "id": "2db829e1"
      },
      "outputs": [],
      "source": [
        "workspace_path = os.getenv('HOME')+'/aiffel/transformer_chatbot'\n",
        "data_path = os.getenv('HOME')+'/aiffel/transformer_chatbot/data'"
      ],
      "id": "2db829e1"
    },
    {
      "cell_type": "code",
      "execution_count": null,
      "metadata": {
        "colab": {
          "base_uri": "https://localhost:8080/",
          "height": 206
        },
        "id": "09ae6afc",
        "outputId": "e2de6ee3-3bab-459a-ebc1-40260ba76bc8"
      },
      "outputs": [
        {
          "output_type": "execute_result",
          "data": {
            "text/plain": [
              "                 Q            A  label\n",
              "0           12시 땡!   하루가 또 가네요.      0\n",
              "1      1지망 학교 떨어졌어    위로해 드립니다.      0\n",
              "2     3박4일 놀러가고 싶다  여행은 언제나 좋죠.      0\n",
              "3  3박4일 정도 놀러가고 싶다  여행은 언제나 좋죠.      0\n",
              "4          PPL 심하네   눈살이 찌푸려지죠.      0"
            ],
            "text/html": [
              "\n",
              "  <div id=\"df-e5591043-65e2-4d9a-9300-be2a7617b4b3\">\n",
              "    <div class=\"colab-df-container\">\n",
              "      <div>\n",
              "<style scoped>\n",
              "    .dataframe tbody tr th:only-of-type {\n",
              "        vertical-align: middle;\n",
              "    }\n",
              "\n",
              "    .dataframe tbody tr th {\n",
              "        vertical-align: top;\n",
              "    }\n",
              "\n",
              "    .dataframe thead th {\n",
              "        text-align: right;\n",
              "    }\n",
              "</style>\n",
              "<table border=\"1\" class=\"dataframe\">\n",
              "  <thead>\n",
              "    <tr style=\"text-align: right;\">\n",
              "      <th></th>\n",
              "      <th>Q</th>\n",
              "      <th>A</th>\n",
              "      <th>label</th>\n",
              "    </tr>\n",
              "  </thead>\n",
              "  <tbody>\n",
              "    <tr>\n",
              "      <th>0</th>\n",
              "      <td>12시 땡!</td>\n",
              "      <td>하루가 또 가네요.</td>\n",
              "      <td>0</td>\n",
              "    </tr>\n",
              "    <tr>\n",
              "      <th>1</th>\n",
              "      <td>1지망 학교 떨어졌어</td>\n",
              "      <td>위로해 드립니다.</td>\n",
              "      <td>0</td>\n",
              "    </tr>\n",
              "    <tr>\n",
              "      <th>2</th>\n",
              "      <td>3박4일 놀러가고 싶다</td>\n",
              "      <td>여행은 언제나 좋죠.</td>\n",
              "      <td>0</td>\n",
              "    </tr>\n",
              "    <tr>\n",
              "      <th>3</th>\n",
              "      <td>3박4일 정도 놀러가고 싶다</td>\n",
              "      <td>여행은 언제나 좋죠.</td>\n",
              "      <td>0</td>\n",
              "    </tr>\n",
              "    <tr>\n",
              "      <th>4</th>\n",
              "      <td>PPL 심하네</td>\n",
              "      <td>눈살이 찌푸려지죠.</td>\n",
              "      <td>0</td>\n",
              "    </tr>\n",
              "  </tbody>\n",
              "</table>\n",
              "</div>\n",
              "      <button class=\"colab-df-convert\" onclick=\"convertToInteractive('df-e5591043-65e2-4d9a-9300-be2a7617b4b3')\"\n",
              "              title=\"Convert this dataframe to an interactive table.\"\n",
              "              style=\"display:none;\">\n",
              "        \n",
              "  <svg xmlns=\"http://www.w3.org/2000/svg\" height=\"24px\"viewBox=\"0 0 24 24\"\n",
              "       width=\"24px\">\n",
              "    <path d=\"M0 0h24v24H0V0z\" fill=\"none\"/>\n",
              "    <path d=\"M18.56 5.44l.94 2.06.94-2.06 2.06-.94-2.06-.94-.94-2.06-.94 2.06-2.06.94zm-11 1L8.5 8.5l.94-2.06 2.06-.94-2.06-.94L8.5 2.5l-.94 2.06-2.06.94zm10 10l.94 2.06.94-2.06 2.06-.94-2.06-.94-.94-2.06-.94 2.06-2.06.94z\"/><path d=\"M17.41 7.96l-1.37-1.37c-.4-.4-.92-.59-1.43-.59-.52 0-1.04.2-1.43.59L10.3 9.45l-7.72 7.72c-.78.78-.78 2.05 0 2.83L4 21.41c.39.39.9.59 1.41.59.51 0 1.02-.2 1.41-.59l7.78-7.78 2.81-2.81c.8-.78.8-2.07 0-2.86zM5.41 20L4 18.59l7.72-7.72 1.47 1.35L5.41 20z\"/>\n",
              "  </svg>\n",
              "      </button>\n",
              "      \n",
              "  <style>\n",
              "    .colab-df-container {\n",
              "      display:flex;\n",
              "      flex-wrap:wrap;\n",
              "      gap: 12px;\n",
              "    }\n",
              "\n",
              "    .colab-df-convert {\n",
              "      background-color: #E8F0FE;\n",
              "      border: none;\n",
              "      border-radius: 50%;\n",
              "      cursor: pointer;\n",
              "      display: none;\n",
              "      fill: #1967D2;\n",
              "      height: 32px;\n",
              "      padding: 0 0 0 0;\n",
              "      width: 32px;\n",
              "    }\n",
              "\n",
              "    .colab-df-convert:hover {\n",
              "      background-color: #E2EBFA;\n",
              "      box-shadow: 0px 1px 2px rgba(60, 64, 67, 0.3), 0px 1px 3px 1px rgba(60, 64, 67, 0.15);\n",
              "      fill: #174EA6;\n",
              "    }\n",
              "\n",
              "    [theme=dark] .colab-df-convert {\n",
              "      background-color: #3B4455;\n",
              "      fill: #D2E3FC;\n",
              "    }\n",
              "\n",
              "    [theme=dark] .colab-df-convert:hover {\n",
              "      background-color: #434B5C;\n",
              "      box-shadow: 0px 1px 3px 1px rgba(0, 0, 0, 0.15);\n",
              "      filter: drop-shadow(0px 1px 2px rgba(0, 0, 0, 0.3));\n",
              "      fill: #FFFFFF;\n",
              "    }\n",
              "  </style>\n",
              "\n",
              "      <script>\n",
              "        const buttonEl =\n",
              "          document.querySelector('#df-e5591043-65e2-4d9a-9300-be2a7617b4b3 button.colab-df-convert');\n",
              "        buttonEl.style.display =\n",
              "          google.colab.kernel.accessAllowed ? 'block' : 'none';\n",
              "\n",
              "        async function convertToInteractive(key) {\n",
              "          const element = document.querySelector('#df-e5591043-65e2-4d9a-9300-be2a7617b4b3');\n",
              "          const dataTable =\n",
              "            await google.colab.kernel.invokeFunction('convertToInteractive',\n",
              "                                                     [key], {});\n",
              "          if (!dataTable) return;\n",
              "\n",
              "          const docLinkHtml = 'Like what you see? Visit the ' +\n",
              "            '<a target=\"_blank\" href=https://colab.research.google.com/notebooks/data_table.ipynb>data table notebook</a>'\n",
              "            + ' to learn more about interactive tables.';\n",
              "          element.innerHTML = '';\n",
              "          dataTable['output_type'] = 'display_data';\n",
              "          await google.colab.output.renderOutput(dataTable, element);\n",
              "          const docLink = document.createElement('div');\n",
              "          docLink.innerHTML = docLinkHtml;\n",
              "          element.appendChild(docLink);\n",
              "        }\n",
              "      </script>\n",
              "    </div>\n",
              "  </div>\n",
              "  "
            ]
          },
          "metadata": {},
          "execution_count": 7
        }
      ],
      "source": [
        "data = pd.read_csv('/content/drive/MyDrive/ChatbotData.csv')\n",
        "data.head()"
      ],
      "id": "09ae6afc"
    },
    {
      "cell_type": "code",
      "execution_count": null,
      "metadata": {
        "colab": {
          "base_uri": "https://localhost:8080/"
        },
        "id": "fTJP_1mpT2oV",
        "outputId": "cd19ab50-4e49-4b00-b6f5-84776ba9638a"
      },
      "outputs": [
        {
          "output_type": "execute_result",
          "data": {
            "text/plain": [
              "0             12시 땡!\n",
              "1        1지망 학교 떨어졌어\n",
              "2       3박4일 놀러가고 싶다\n",
              "3    3박4일 정도 놀러가고 싶다\n",
              "4            PPL 심하네\n",
              "Name: Q, dtype: object"
            ]
          },
          "metadata": {},
          "execution_count": 8
        }
      ],
      "source": [
        "df = pd.DataFrame(data)\n",
        "questions = df['Q']; answers = df['A']\n",
        "questions.head()"
      ],
      "id": "fTJP_1mpT2oV"
    },
    {
      "cell_type": "code",
      "execution_count": null,
      "metadata": {
        "id": "EmUNRQ1yVbv2"
      },
      "outputs": [],
      "source": [
        "questions = questions.values.tolist(); answers = answers.values.tolist()"
      ],
      "id": "EmUNRQ1yVbv2"
    },
    {
      "cell_type": "code",
      "execution_count": null,
      "metadata": {
        "colab": {
          "base_uri": "https://localhost:8080/"
        },
        "id": "pH4-mSGnTKju",
        "outputId": "b4c44340-08da-4c72-e2f7-908a7b545f3a"
      },
      "outputs": [
        {
          "output_type": "stream",
          "name": "stdout",
          "text": [
            "11823 11823\n"
          ]
        }
      ],
      "source": [
        "print(len(questions),len(answers))"
      ],
      "id": "pH4-mSGnTKju"
    },
    {
      "cell_type": "code",
      "execution_count": null,
      "metadata": {
        "colab": {
          "base_uri": "https://localhost:8080/"
        },
        "id": "qIyDlhdHFJTr",
        "outputId": "188147cb-6378-44a3-9537-8b8a720de968"
      },
      "outputs": [
        {
          "output_type": "execute_result",
          "data": {
            "text/plain": [
              "11750"
            ]
          },
          "metadata": {},
          "execution_count": 11
        }
      ],
      "source": [
        "len(list(set(zip(questions, answers))))"
      ],
      "id": "qIyDlhdHFJTr"
    },
    {
      "cell_type": "code",
      "execution_count": null,
      "metadata": {
        "id": "a42dbb57"
      },
      "outputs": [],
      "source": [
        "def preprocess_sentence(sentence):\n",
        "    \n",
        "    sentence = sentence.strip()\n",
        "    sentence = re.sub(r\"[^a-zA-Z?.!가-힣ㄱ-ㅎㅏ-ㅣ]+\", \" \", sentence)\n",
        "    sentence = sentence.strip()\n",
        "    \n",
        "    return sentence    "
      ],
      "id": "a42dbb57"
    },
    {
      "cell_type": "code",
      "execution_count": null,
      "metadata": {
        "id": "5Dj2D02tH6Pa"
      },
      "outputs": [],
      "source": [
        "def tokenize(corpus, vocab_size=30000):\n",
        "    mecab = Mecab()\n",
        "    morph = [\" \".join(mecab.morphs(sen)) for sen in corpus]\n",
        "    tokenizer = tf.keras.preprocessing.text.Tokenizer(filters='',\n",
        "                                                     num_words=vocab_size)\n",
        "    tokenizer.fit_on_texts(morph)\n",
        "\n",
        "    tensor = tokenizer.texts_to_sequences(morph)\n",
        "    tensor = tf.keras.preprocessing.sequence.pad_sequences(tensor, padding='post')\n",
        "\n",
        "        \n",
        "    return tensor, tokenizer, morph"
      ],
      "id": "5Dj2D02tH6Pa"
    },
    {
      "cell_type": "code",
      "execution_count": null,
      "metadata": {
        "id": "f17c88ba"
      },
      "outputs": [],
      "source": [
        "def build_corpus(questions, answers) :\n",
        "    \n",
        " mecab = Mecab()\n",
        " lsz = list(set(zip(questions, answers)))\n",
        " que_attr = []; ans_attr = []\n",
        " que_tensor = []; ans_tensor = []\n",
        " for i in range(len(lsz)): \n",
        "    QA = list(lsz[i])\n",
        "    if(len(QA[0])<=60 or len(QA[1])<=60) :\n",
        "      q_tensor,_,q_morph = tokenize(preprocess_sentence(QA[0]))\n",
        "      que_tensor.append(q_tensor); que_attr.append(q_morph) \n",
        "      a_tensor,_,a_morph = tokenize(preprocess_sentence(QA[1]))\n",
        "      ans_tensor.append(a_tensor); ans_attr.append(a_morph) \n",
        "\n",
        " return que_tensor, que_attr, ans_tensor, ans_attr           "
      ],
      "id": "f17c88ba"
    },
    {
      "cell_type": "code",
      "execution_count": null,
      "metadata": {
        "id": "sHkxGnYbOYJB"
      },
      "outputs": [],
      "source": [
        "_,que_corpus,_,ans_corpus = build_corpus(questions, answers)"
      ],
      "id": "sHkxGnYbOYJB"
    },
    {
      "cell_type": "code",
      "execution_count": null,
      "metadata": {
        "colab": {
          "base_uri": "https://localhost:8080/"
        },
        "id": "yIusYxj5riFX",
        "outputId": "5d0dabc7-bca1-4109-bed7-b83fe0cc6687"
      },
      "outputs": [
        {
          "output_type": "execute_result",
          "data": {
            "text/plain": [
              "['오',\n",
              " '늘',\n",
              " '도',\n",
              " '',\n",
              " '연',\n",
              " '락',\n",
              " '하',\n",
              " '고',\n",
              " '싶',\n",
              " '은',\n",
              " '거',\n",
              " '',\n",
              " '꾹',\n",
              " '.',\n",
              " '꾹',\n",
              " '',\n",
              " '정',\n",
              " '말',\n",
              " '',\n",
              " '참',\n",
              " '았',\n",
              " '습',\n",
              " '니',\n",
              " '다',\n",
              " '.']"
            ]
          },
          "metadata": {},
          "execution_count": 16
        }
      ],
      "source": [
        "que_corpus[0]"
      ],
      "id": "yIusYxj5riFX"
    },
    {
      "cell_type": "markdown",
      "source": [
        "### 단어 부풀릴 목적의 함수 정의와 단어 부풀리기"
      ],
      "metadata": {
        "id": "40YrY6aPZMig"
      },
      "id": "40YrY6aPZMig"
    },
    {
      "cell_type": "code",
      "execution_count": null,
      "metadata": {
        "id": "ga0_6XLs89vP"
      },
      "outputs": [],
      "source": [
        "def lexical_sub(sentence, word2vec):\n",
        "    import random\n",
        "\n",
        "    res = \"\"\n",
        "\n",
        "    try:\n",
        "        _from = random.choice(sentence)\n",
        "        _to = wv_model.wv.most_similar(_from)[0][0]\n",
        "\n",
        "    except:   # 단어장에 없는 단어\n",
        "        return None\n",
        "\n",
        "    for tok in sentence :\n",
        "        if tok is _from: res += _to + \" \"\n",
        "        else: res += tok + \" \"\n",
        "\n",
        "    return res"
      ],
      "id": "ga0_6XLs89vP"
    },
    {
      "cell_type": "code",
      "execution_count": null,
      "metadata": {
        "id": "OuRIIITl8dhT"
      },
      "outputs": [],
      "source": [
        "from tqdm.notebook import tqdm\n",
        "\n",
        "def augment_corpus(src_corpus, tgt_corpus, wv):\n",
        "    new_src_corpus = []\n",
        "    new_tgt_corpus = []\n",
        "    corpus_size = len(src_corpus)\n",
        "    \n",
        "    for i in tqdm(range(corpus_size)):\n",
        "        old_src = src_corpus[i]\n",
        "        old_tgt = tgt_corpus[i]\n",
        "        new_src_corpus.append(old_src)\n",
        "        new_tgt_corpus.append(old_tgt)\n",
        "        new_src = lexical_sub(old_src, wv)\n",
        "        new_tgt = lexical_sub(old_tgt, wv)\n",
        "        \n",
        "\n",
        "        if new_src: \n",
        "            new_src_corpus.append(new_src)\n",
        "            new_tgt_corpus.append(old_tgt)\n",
        "            \n",
        "        if new_tgt: \n",
        "            new_src_corpus.append(old_src)\n",
        "            new_tgt_corpus.append(new_tgt)\n",
        "\n",
        "    return new_src_corpus, new_tgt_corpus"
      ],
      "id": "OuRIIITl8dhT"
    },
    {
      "cell_type": "code",
      "execution_count": null,
      "metadata": {
        "id": "f7e06caf"
      },
      "outputs": [],
      "source": [
        "w2v_path = '/content/drive/MyDrive/ko.bin'\n",
        "\n",
        "from gensim.models.word2vec import Word2Vec\n",
        "\n",
        "wv_model = Word2Vec.load(w2v_path)"
      ],
      "id": "f7e06caf"
    },
    {
      "cell_type": "code",
      "execution_count": null,
      "metadata": {
        "colab": {
          "base_uri": "https://localhost:8080/",
          "height": 49,
          "referenced_widgets": [
            "6b96f1b976274bcc9b675fb2c7fd3a0c",
            "da144edff8fe4818ae94ef1c2777040c",
            "84027370cb1d40cc83dde403dee7c4be",
            "204ea6098526425b9dd19defb7881ec5",
            "a2a8b11a3ed7437bada7269e74f32fb9",
            "9188ffe77af644a88742175171999224",
            "9f4c92539b474c4cbb5d4e19c7188614",
            "6dea354e9af142eebbb562fa34f77b3b",
            "b6f5290a5c574da1bd0f251d991760d4",
            "c9959a86df1b4a6887cd1bee857f4d81",
            "06debd51e3c54530b39307e38ceee723"
          ]
        },
        "id": "nf8ORuPnq_GG",
        "outputId": "dfec803d-294d-4abf-b884-e0b85fec2dc6"
      },
      "outputs": [
        {
          "output_type": "display_data",
          "data": {
            "text/plain": [
              "  0%|          | 0/11823 [00:00<?, ?it/s]"
            ],
            "application/vnd.jupyter.widget-view+json": {
              "version_major": 2,
              "version_minor": 0,
              "model_id": "6b96f1b976274bcc9b675fb2c7fd3a0c"
            }
          },
          "metadata": {}
        }
      ],
      "source": [
        "new_que_corpus, new_ans_corpus = augment_corpus(questions, answers, wv_model)"
      ],
      "id": "nf8ORuPnq_GG"
    },
    {
      "cell_type": "code",
      "execution_count": null,
      "metadata": {
        "id": "y9V_xzokvE6F"
      },
      "outputs": [],
      "source": [
        "sr_corpus = []; tg_corpus = []\n",
        "for que_sen in new_que_corpus :\n",
        "  que_sen = preprocess_sentence(que_sen)\n",
        "  sr_corpus.append(que_sen)\n",
        "for ans_sen in new_ans_corpus :\n",
        "  ans_sen = preprocess_sentence(ans_sen)\n",
        "  tg_corpus.append(ans_sen)  "
      ],
      "id": "y9V_xzokvE6F"
    },
    {
      "cell_type": "code",
      "execution_count": null,
      "metadata": {
        "colab": {
          "base_uri": "https://localhost:8080/",
          "height": 35
        },
        "id": "nwWrAw-JWLUO",
        "outputId": "3a6867ae-7203-480a-fb4d-f8de8f8c1abb"
      },
      "outputs": [
        {
          "output_type": "execute_result",
          "data": {
            "text/plain": [
              "'12시 땡!'"
            ],
            "application/vnd.google.colaboratory.intrinsic+json": {
              "type": "string"
            }
          },
          "metadata": {},
          "execution_count": 22
        }
      ],
      "source": [
        "new_que_corpus[0]"
      ],
      "id": "nwWrAw-JWLUO"
    },
    {
      "cell_type": "code",
      "execution_count": null,
      "metadata": {
        "colab": {
          "base_uri": "https://localhost:8080/",
          "height": 35
        },
        "id": "m8MdmKQfX7Al",
        "outputId": "bedc56da-a760-414d-a47c-fc7e4a22c66c"
      },
      "outputs": [
        {
          "output_type": "execute_result",
          "data": {
            "text/plain": [
              "'하루가 또 가네요.'"
            ],
            "application/vnd.google.colaboratory.intrinsic+json": {
              "type": "string"
            }
          },
          "metadata": {},
          "execution_count": 23
        }
      ],
      "source": [
        "new_ans_corpus[0]"
      ],
      "id": "m8MdmKQfX7Al"
    },
    {
      "cell_type": "code",
      "execution_count": null,
      "metadata": {
        "colab": {
          "base_uri": "https://localhost:8080/"
        },
        "id": "81s66VcjQ9Uq",
        "outputId": "490f027b-0dfc-4f75-dd90-3a56ed336d57"
      },
      "outputs": [
        {
          "output_type": "stream",
          "name": "stdout",
          "text": [
            "30465 30465\n"
          ]
        }
      ],
      "source": [
        "print(len(new_que_corpus), len(new_ans_corpus))"
      ],
      "id": "81s66VcjQ9Uq"
    },
    {
      "cell_type": "code",
      "execution_count": null,
      "metadata": {
        "id": "YZENVO5JU5Kc"
      },
      "outputs": [],
      "source": [
        "mecab = Mecab()\n",
        "que_morph = [\" \".join(mecab.morphs(sen)) for sen in new_que_corpus]\n",
        "ans_morph = [\" \".join(mecab.morphs(sen)) for sen in new_ans_corpus]\n",
        "tokenizer = tf.keras.preprocessing.text.Tokenizer(filters='',\n",
        "                                                     num_words=30000)\n",
        "tokenizer.fit_on_texts(que_morph)\n",
        "tokenizer.fit_on_texts(ans_morph)\n",
        "\n",
        "q_tensor = tokenizer.texts_to_sequences(que_morph)\n",
        "q_tensor = tf.keras.preprocessing.sequence.pad_sequences(q_tensor, padding='post')\n",
        "a_tensor = tokenizer.texts_to_sequences(ans_morph)\n",
        "a_tensor = tf.keras.preprocessing.sequence.pad_sequences(a_tensor, padding='post')"
      ],
      "id": "YZENVO5JU5Kc"
    },
    {
      "cell_type": "code",
      "execution_count": null,
      "metadata": {
        "colab": {
          "base_uri": "https://localhost:8080/"
        },
        "id": "cSCrWJshsMCR",
        "outputId": "b0ac9ad2-fd35-40b8-9224-ac016343f805"
      },
      "outputs": [
        {
          "output_type": "stream",
          "name": "stdout",
          "text": [
            "<class 'list'> <start>\n"
          ]
        }
      ],
      "source": [
        "s = [\"<start>\"]; e = [\"<end>\"]\n",
        "print(type(s),s[0])"
      ],
      "id": "cSCrWJshsMCR"
    },
    {
      "cell_type": "code",
      "execution_count": null,
      "metadata": {
        "id": "AyB7KYiiZoVf"
      },
      "outputs": [],
      "source": [
        "attr = []\n",
        "for ans_sen in new_ans_corpus :\n",
        "  man = [[]for _ in range(3)]\n",
        "  for i in range(3):\n",
        "    man[0] = s[0]; man[1]=ans_sen; man[2] = e[0]\n",
        "  attr.append(man)\n",
        "a_corpus = attr    "
      ],
      "id": "AyB7KYiiZoVf"
    },
    {
      "cell_type": "code",
      "execution_count": null,
      "metadata": {
        "colab": {
          "base_uri": "https://localhost:8080/"
        },
        "id": "siX5UXUiVahL",
        "outputId": "c459af9c-2b44-4f72-e7a6-789b86d24213"
      },
      "outputs": [
        {
          "output_type": "execute_result",
          "data": {
            "text/plain": [
              "['<start>', '하루가 또 가네요.', '<end>']"
            ]
          },
          "metadata": {},
          "execution_count": 28
        }
      ],
      "source": [
        "a_corpus[0]"
      ],
      "id": "siX5UXUiVahL"
    },
    {
      "cell_type": "code",
      "execution_count": null,
      "metadata": {
        "colab": {
          "base_uri": "https://localhost:8080/"
        },
        "id": "S63yga4Z0UH4",
        "outputId": "447cdf86-e2d8-4892-a57c-8c165a9510a0"
      },
      "outputs": [
        {
          "output_type": "execute_result",
          "data": {
            "text/plain": [
              "7266"
            ]
          },
          "metadata": {},
          "execution_count": 29
        }
      ],
      "source": [
        "np.max(a_tensor)"
      ],
      "id": "S63yga4Z0UH4"
    },
    {
      "cell_type": "code",
      "execution_count": null,
      "metadata": {
        "colab": {
          "base_uri": "https://localhost:8080/"
        },
        "id": "KlQv-f5ocM_t",
        "outputId": "7577fb28-8942-4df2-d6c9-86274e3ba948"
      },
      "outputs": [
        {
          "output_type": "execute_result",
          "data": {
            "text/plain": [
              "array([378,   7, 177,   7,  59,   1,   0,   0,   0,   0,   0,   0,   0,\n",
              "         0,   0,   0,   0,   0,   0,   0,   0,   0,   0,   0,   0,   0,\n",
              "         0,   0,   0,   0,   0,   0,   0,   0,   0,   0,   0,   0,   0,\n",
              "         0,   0,   0,   0,   0,   0,   0,   0,   0,   0,   0,   0,   0,\n",
              "         0,   0,   0,   0,   0], dtype=int32)"
            ]
          },
          "metadata": {},
          "execution_count": 30
        }
      ],
      "source": [
        "a_tensor[0]"
      ],
      "id": "KlQv-f5ocM_t"
    },
    {
      "cell_type": "markdown",
      "source": [
        "### Mecab()의 토큰화와 단어 인덱싱"
      ],
      "metadata": {
        "id": "dqAvG2OOYeXg"
      },
      "id": "dqAvG2OOYeXg"
    },
    {
      "cell_type": "code",
      "execution_count": null,
      "metadata": {
        "id": "XwUl9yCvUkfF"
      },
      "outputs": [],
      "source": [
        "tokenizer = Mecab()\n",
        "X_train = []\n",
        "for sen in new_que_corpus :\n",
        "    tr_sen = tokenizer.morphs(sen) # 토큰화\n",
        "    X_train.append(tr_sen)\n",
        "\n",
        "X_test = []\n",
        "for sen in new_ans_corpus :\n",
        "    te_sen = tokenizer.morphs(sen) # 토큰화\n",
        "    X_test.append(te_sen)\n",
        "    \n",
        "words = np.concatenate(X_train).tolist()\n",
        "counter = Counter(words)\n",
        "counter = counter.most_common(30000-3)\n",
        "vocab = ['<pad>','<start>','<end>'] + [key for key, _ in counter]\n",
        "word_to_index = {word:index for index, word in enumerate(vocab)}\n",
        "word_to_index[\"<pad>\"]=0\n",
        "word_to_index[\"<start>\"]=1\n",
        "word_to_index[\"<end>\"]=2\n",
        "\n",
        "index_to_word = {index:word for word, index in word_to_index.items()}\n",
        "index_to_word[0]=\"<pad>\"\n",
        "index_to_word[1]=\"<start>\"\n",
        "index_to_word[2]=\"<end>\"\n",
        "\n",
        "for i in range(len(X_test)) :\n",
        "  X_test[i] = ['<start>'] + X_test[i] + ['<end>']\n",
        "        \n",
        "def wordlist_to_indexlist(wordlist):\n",
        "    return [word_to_index[word] if word in word_to_index else word_to_index['<pad>'] for word in wordlist]\n",
        "\n",
        "def indexlist_to_wordlist(indexlist):\n",
        "        return [index_to_word[index] if index in index_to_word else index_to_word['<pad>'] for index in indexlist]    \n",
        "        \n",
        "e_train = list(map(wordlist_to_indexlist, X_train))\n",
        "d_train = list(map(wordlist_to_indexlist, X_test))\n",
        "e_train = tf.keras.preprocessing.sequence.pad_sequences(e_train, maxlen=52, padding='post')\n",
        "d_train = tf.keras.preprocessing.sequence.pad_sequences(d_train, maxlen=52, padding='post')"
      ],
      "id": "XwUl9yCvUkfF"
    },
    {
      "cell_type": "code",
      "execution_count": null,
      "metadata": {
        "colab": {
          "base_uri": "https://localhost:8080/"
        },
        "id": "L61viJw_L_zA",
        "outputId": "f3ec78a0-e218-40fb-ad54-825b041e041c"
      },
      "outputs": [
        {
          "output_type": "execute_result",
          "data": {
            "text/plain": [
              "5701"
            ]
          },
          "metadata": {},
          "execution_count": 32
        }
      ],
      "source": [
        "np.max(d_train)"
      ],
      "id": "L61viJw_L_zA"
    },
    {
      "cell_type": "code",
      "execution_count": null,
      "metadata": {
        "colab": {
          "base_uri": "https://localhost:8080/"
        },
        "id": "rypBlroIdAul",
        "outputId": "0b7da0ea-d5db-42b9-ecb7-32e4b30b9f12"
      },
      "outputs": [
        {
          "output_type": "execute_result",
          "data": {
            "text/plain": [
              "array([   1,  319,    8,  122,    8, 1372,    7,    2,    0,    0,    0,\n",
              "          0,    0,    0,    0,    0,    0,    0,    0,    0,    0,    0,\n",
              "          0,    0,    0,    0,    0,    0,    0,    0,    0,    0,    0,\n",
              "          0,    0,    0,    0,    0,    0,    0,    0,    0,    0,    0,\n",
              "          0,    0,    0,    0,    0,    0,    0,    0], dtype=int32)"
            ]
          },
          "metadata": {},
          "execution_count": 33
        }
      ],
      "source": [
        "d_train[0]"
      ],
      "id": "rypBlroIdAul"
    },
    {
      "cell_type": "code",
      "execution_count": null,
      "metadata": {
        "id": "gMtVoTZuz_eY"
      },
      "outputs": [],
      "source": [
        "enc_train = e_train; dec_train = d_train"
      ],
      "id": "gMtVoTZuz_eY"
    },
    {
      "cell_type": "markdown",
      "source": [
        "### 사용될 트랜스포머의 여러 모듈 정의"
      ],
      "metadata": {
        "id": "TB-82p-4YWQP"
      },
      "id": "TB-82p-4YWQP"
    },
    {
      "cell_type": "code",
      "execution_count": null,
      "metadata": {
        "id": "4a874c04"
      },
      "outputs": [],
      "source": [
        "def positional_encoding(pos, d_model):\n",
        "    def cal_angle(position, i):\n",
        "        return position / np.power(10000, (2*(i//2)) / np.float32(d_model))\n",
        "\n",
        "    def get_posi_angle_vec(position):\n",
        "        return [cal_angle(position, i) for i in range(d_model)]\n",
        "\n",
        "    sinusoid_table = np.array([get_posi_angle_vec(pos_i) for pos_i in range(pos)])\n",
        "\n",
        "    sinusoid_table[:, 0::2] = np.sin(sinusoid_table[:, 0::2])\n",
        "    sinusoid_table[:, 1::2] = np.cos(sinusoid_table[:, 1::2])\n",
        "\n",
        "    return sinusoid_table"
      ],
      "id": "4a874c04"
    },
    {
      "cell_type": "code",
      "execution_count": null,
      "metadata": {
        "id": "632bfb6b"
      },
      "outputs": [],
      "source": [
        "def generate_padding_mask(seq):\n",
        "    seq = tf.cast(tf.math.equal(seq, 0), tf.float32)\n",
        "    return seq[:, tf.newaxis, tf.newaxis, :]\n",
        "\n",
        "def generate_lookahead_mask(size):\n",
        "    mask = 1 - tf.linalg.band_part(tf.ones((size, size)), -1, 0)\n",
        "    return mask\n",
        "\n",
        "def generate_masks(src, tgt):\n",
        "    enc_mask = generate_padding_mask(src)\n",
        "    dec_enc_mask = generate_padding_mask(src)\n",
        "\n",
        "    dec_lookahead_mask = generate_lookahead_mask(tgt.shape[1])\n",
        "    dec_tgt_padding_mask = generate_padding_mask(tgt)\n",
        "    dec_mask = tf.maximum(dec_tgt_padding_mask, dec_lookahead_mask)\n",
        "\n",
        "    return enc_mask, dec_enc_mask, dec_mask"
      ],
      "id": "632bfb6b"
    },
    {
      "cell_type": "code",
      "execution_count": null,
      "metadata": {
        "id": "86b72a3b"
      },
      "outputs": [],
      "source": [
        "class MultiHeadAttention(tf.keras.layers.Layer):\n",
        "    def __init__(self, d_model, num_heads):\n",
        "        super(MultiHeadAttention, self).__init__()\n",
        "        self.num_heads = num_heads\n",
        "        self.d_model = d_model\n",
        "        \n",
        "        self.depth = d_model // self.num_heads\n",
        "        \n",
        "        self.W_q = tf.keras.layers.Dense(d_model)\n",
        "        self.W_k = tf.keras.layers.Dense(d_model)\n",
        "        self.W_v = tf.keras.layers.Dense(d_model)\n",
        "        \n",
        "        self.linear = tf.keras.layers.Dense(d_model)\n",
        "\n",
        "    def scaled_dot_product_attention(self, Q, K, V, mask):\n",
        "        d_k = tf.cast(K.shape[-1], tf.float32)\n",
        "        QK = tf.matmul(Q, K, transpose_b=True)\n",
        "\n",
        "        scaled_qk = QK / tf.math.sqrt(d_k)\n",
        "\n",
        "        if mask is not None: scaled_qk += (mask * -1e9)  \n",
        "\n",
        "        attentions = tf.nn.softmax(scaled_qk, axis=-1)\n",
        "        out = tf.matmul(attentions, V)\n",
        "\n",
        "        return out, attentions\n",
        "        \n",
        "\n",
        "    def split_heads(self, x):\n",
        "        bsz = x.shape[0]\n",
        "        split_x = tf.reshape(x, (bsz, -1, self.num_heads, self.depth))\n",
        "        split_x = tf.transpose(split_x, perm=[0, 2, 1, 3])\n",
        "\n",
        "        return split_x\n",
        "\n",
        "    def combine_heads(self, x):\n",
        "        bsz = x.shape[0]\n",
        "        combined_x = tf.transpose(x, perm=[0, 2, 1, 3])\n",
        "        combined_x = tf.reshape(combined_x, (bsz, -1, self.d_model))\n",
        "\n",
        "        return combined_x\n",
        "\n",
        "    \n",
        "    def call(self, Q, K, V, mask):\n",
        "        WQ = self.W_q(Q)\n",
        "        WK = self.W_k(K)\n",
        "        WV = self.W_v(V)\n",
        "        \n",
        "        WQ_splits = self.split_heads(WQ)\n",
        "        WK_splits = self.split_heads(WK)\n",
        "        WV_splits = self.split_heads(WV)\n",
        "        \n",
        "        out, attention_weights = self.scaled_dot_product_attention(\n",
        "            WQ_splits, WK_splits, WV_splits, mask)\n",
        "                        \n",
        "        out = self.combine_heads(out)\n",
        "        out = self.linear(out)\n",
        "            \n",
        "        return out, attention_weights"
      ],
      "id": "86b72a3b"
    },
    {
      "cell_type": "code",
      "execution_count": null,
      "metadata": {
        "id": "a42542bf"
      },
      "outputs": [],
      "source": [
        "class PoswiseFeedForwardNet(tf.keras.layers.Layer):\n",
        "    def __init__(self, d_model, d_ff):\n",
        "        super(PoswiseFeedForwardNet, self).__init__()\n",
        "        self.d_model = d_model\n",
        "        self.d_ff = d_ff\n",
        "\n",
        "        self.fc1 = tf.keras.layers.Dense(d_ff, activation='relu')\n",
        "        self.fc2 = tf.keras.layers.Dense(d_model)\n",
        "\n",
        "    def call(self, x):\n",
        "        out = self.fc1(x)\n",
        "        out = self.fc2(out)\n",
        "            \n",
        "        return out"
      ],
      "id": "a42542bf"
    },
    {
      "cell_type": "code",
      "execution_count": null,
      "metadata": {
        "id": "c00caf22"
      },
      "outputs": [],
      "source": [
        "class EncoderLayer(tf.keras.layers.Layer):\n",
        "    def __init__(self, d_model, n_heads, d_ff, dropout):\n",
        "        super(EncoderLayer, self).__init__()\n",
        "\n",
        "        self.enc_self_attn = MultiHeadAttention(d_model, n_heads)\n",
        "        self.ffn = PoswiseFeedForwardNet(d_model, d_ff)\n",
        "\n",
        "        self.norm_1 = tf.keras.layers.LayerNormalization(epsilon=1e-6)\n",
        "        self.norm_2 = tf.keras.layers.LayerNormalization(epsilon=1e-6)\n",
        "\n",
        "        self.do = tf.keras.layers.Dropout(dropout)\n",
        "        \n",
        "    def call(self, x, mask):\n",
        "        '''\n",
        "        Multi-Head Attention\n",
        "        '''\n",
        "        residual = x\n",
        "        out = self.norm_1(x)\n",
        "        out, enc_attn = self.enc_self_attn(out, out, out, mask)\n",
        "        out = self.do(out)\n",
        "        out += residual\n",
        "        \n",
        "        '''\n",
        "        Position-Wise Feed Forward Network\n",
        "        '''\n",
        "        residual = out\n",
        "        out = self.norm_2(out)\n",
        "        out = self.ffn(out)\n",
        "        out = self.do(out)\n",
        "        out += residual\n",
        "        \n",
        "        return out, enc_attn"
      ],
      "id": "c00caf22"
    },
    {
      "cell_type": "code",
      "execution_count": null,
      "metadata": {
        "colab": {
          "base_uri": "https://localhost:8080/"
        },
        "id": "3d8c6364",
        "outputId": "c08a713d-8ca6-453a-d3bc-b9a912bf1ee9"
      },
      "outputs": [
        {
          "output_type": "stream",
          "name": "stdout",
          "text": [
            "슝=3\n"
          ]
        }
      ],
      "source": [
        "class DecoderLayer(tf.keras.layers.Layer):\n",
        "    def __init__(self, d_model, num_heads, d_ff, dropout):\n",
        "        super(DecoderLayer, self).__init__()\n",
        "\n",
        "        self.dec_self_attn = MultiHeadAttention(d_model, num_heads)\n",
        "        self.enc_dec_attn = MultiHeadAttention(d_model, num_heads)\n",
        "\n",
        "        self.ffn = PoswiseFeedForwardNet(d_model, d_ff)\n",
        "\n",
        "        self.norm_1 = tf.keras.layers.LayerNormalization(epsilon=1e-6)\n",
        "        self.norm_2 = tf.keras.layers.LayerNormalization(epsilon=1e-6)\n",
        "        self.norm_3 = tf.keras.layers.LayerNormalization(epsilon=1e-6)\n",
        "\n",
        "        self.do = tf.keras.layers.Dropout(dropout)\n",
        "    \n",
        "    def call(self, x, enc_out, dec_enc_mask, padding_mask):\n",
        "        '''\n",
        "        Masked Multi-Head Attention\n",
        "        '''\n",
        "        residual = x\n",
        "        out = self.norm_1(x)\n",
        "        out, dec_attn = self.dec_self_attn(out, out, out, padding_mask)\n",
        "        out = self.do(out)\n",
        "        out += residual\n",
        "\n",
        "        '''\n",
        "        Multi-Head Attention\n",
        "        '''\n",
        "        residual = out\n",
        "        out = self.norm_2(out)\n",
        "        # Q, K, V 순서에 주의하세요!\n",
        "        out, dec_enc_attn = self.enc_dec_attn(Q=out, K=enc_out, V=enc_out, mask=dec_enc_mask)\n",
        "        out = self.do(out)\n",
        "        out += residual\n",
        "        \n",
        "        '''\n",
        "        Position-Wise Feed Forward Network\n",
        "        '''\n",
        "        residual = out\n",
        "        out = self.norm_3(out)\n",
        "        out = self.ffn(out)\n",
        "        out = self.do(out)\n",
        "        out += residual\n",
        "\n",
        "        return out, dec_attn, dec_enc_attn\n",
        "print(\"슝=3\")"
      ],
      "id": "3d8c6364"
    },
    {
      "cell_type": "code",
      "execution_count": null,
      "metadata": {
        "id": "0a6fd288"
      },
      "outputs": [],
      "source": [
        "class Encoder(tf.keras.Model):\n",
        "    def __init__(self,\n",
        "                    n_layers,\n",
        "                    d_model,\n",
        "                    n_heads,\n",
        "                    d_ff,\n",
        "                    dropout):\n",
        "        super(Encoder, self).__init__()\n",
        "        self.n_layers = n_layers\n",
        "        self.enc_layers = [EncoderLayer(d_model, n_heads, d_ff, dropout) \n",
        "                        for _ in range(n_layers)]\n",
        "    \n",
        "        self.do = tf.keras.layers.Dropout(dropout)\n",
        "        \n",
        "    def call(self, x, mask):\n",
        "        out = x\n",
        "    \n",
        "        enc_attns = list()\n",
        "        for i in range(self.n_layers):\n",
        "            out, enc_attn = self.enc_layers[i](out, mask)\n",
        "            enc_attns.append(enc_attn)\n",
        "        \n",
        "        return out, enc_attns"
      ],
      "id": "0a6fd288"
    },
    {
      "cell_type": "code",
      "execution_count": null,
      "metadata": {
        "id": "70fb7d2d"
      },
      "outputs": [],
      "source": [
        "class Decoder(tf.keras.Model):\n",
        "    def __init__(self,\n",
        "                    n_layers,\n",
        "                    d_model,\n",
        "                    n_heads,\n",
        "                    d_ff,\n",
        "                    dropout):\n",
        "        super(Decoder, self).__init__()\n",
        "        self.n_layers = n_layers\n",
        "        self.dec_layers = [DecoderLayer(d_model, n_heads, d_ff, dropout) \n",
        "                            for _ in range(n_layers)]\n",
        "                            \n",
        "    def call(self, x, enc_out, dec_enc_mask, padding_mask):\n",
        "        out = x\n",
        "    \n",
        "        dec_attns = list()\n",
        "        dec_enc_attns = list()\n",
        "        for i in range(self.n_layers):\n",
        "            out, dec_attn, dec_enc_attn = \\\n",
        "            self.dec_layers[i](out, enc_out, dec_enc_mask, padding_mask)\n",
        "\n",
        "            dec_attns.append(dec_attn)\n",
        "            dec_enc_attns.append(dec_enc_attn)\n",
        "\n",
        "        return out, dec_attns, dec_enc_attns"
      ],
      "id": "70fb7d2d"
    },
    {
      "cell_type": "code",
      "execution_count": null,
      "metadata": {
        "id": "a4b6d28b"
      },
      "outputs": [],
      "source": [
        "class Transformer(tf.keras.Model):\n",
        "    def __init__(self,\n",
        "                    n_layers,\n",
        "                    d_model,\n",
        "                    n_heads,\n",
        "                    d_ff,\n",
        "                    src_vocab_size,\n",
        "                    tgt_vocab_size,\n",
        "                    pos_len,\n",
        "                    dropout=0.2,\n",
        "                    shared_fc=True,\n",
        "                    shared_emb=False):\n",
        "        super(Transformer, self).__init__()\n",
        "        \n",
        "        self.d_model = tf.cast(d_model, tf.float32)\n",
        "\n",
        "        if shared_emb:\n",
        "            self.enc_emb = self.dec_emb = \\\n",
        "            tf.keras.layers.Embedding(src_vocab_size, d_model)\n",
        "        else:\n",
        "            self.enc_emb = tf.keras.layers.Embedding(src_vocab_size, d_model)\n",
        "            self.dec_emb = tf.keras.layers.Embedding(tgt_vocab_size, d_model)\n",
        "\n",
        "        self.pos_encoding = positional_encoding(pos_len, d_model)\n",
        "        self.do = tf.keras.layers.Dropout(dropout)\n",
        "\n",
        "        self.encoder = Encoder(n_layers, d_model, n_heads, d_ff, dropout)\n",
        "        self.decoder = Decoder(n_layers, d_model, n_heads, d_ff, dropout)\n",
        "\n",
        "        self.fc = tf.keras.layers.Dense(tgt_vocab_size)\n",
        "\n",
        "        self.shared_fc = shared_fc\n",
        "\n",
        "        if shared_fc:\n",
        "            self.fc.set_weights(tf.transpose(self.dec_emb.weights))\n",
        "\n",
        "    def embedding(self, emb, x):\n",
        "        seq_len = x.shape[1]\n",
        "\n",
        "        out = emb(x)\n",
        "\n",
        "        if self.shared_fc: out *= tf.math.sqrt(self.d_model)\n",
        "\n",
        "        out += self.pos_encoding[np.newaxis, ...][:, :seq_len, :]\n",
        "        out = self.do(out)\n",
        "\n",
        "        return out\n",
        "\n",
        "        \n",
        "    def call(self, enc_in, dec_in, enc_mask, dec_enc_mask, dec_mask):\n",
        "        enc_in = self.embedding(self.enc_emb, enc_in)\n",
        "        dec_in = self.embedding(self.dec_emb, dec_in)\n",
        "\n",
        "        enc_out, enc_attns = self.encoder(enc_in, enc_mask)\n",
        "        \n",
        "        dec_out, dec_attns, dec_enc_attns = \\\n",
        "        self.decoder(dec_in, enc_out, dec_enc_mask, dec_mask)\n",
        "        \n",
        "        logits = self.fc(dec_out)\n",
        "        \n",
        "        return logits, enc_attns, dec_attns, dec_enc_attns"
      ],
      "id": "a4b6d28b"
    },
    {
      "cell_type": "code",
      "execution_count": null,
      "metadata": {
        "id": "dbae26c3"
      },
      "outputs": [],
      "source": [
        "class LearningRateScheduler(tf.keras.optimizers.schedules.LearningRateSchedule):\n",
        "    def __init__(self, d_model, warmup_steps=4000):\n",
        "        super(LearningRateScheduler, self).__init__()\n",
        "        \n",
        "        self.d_model = d_model\n",
        "        self.warmup_steps = warmup_steps\n",
        "    \n",
        "    def __call__(self, step):\n",
        "        arg1 = step ** -0.5\n",
        "        arg2 = step * (self.warmup_steps ** -1.5)\n",
        "        \n",
        "        return (self.d_model ** -0.5) * tf.math.minimum(arg1, arg2)"
      ],
      "id": "dbae26c3"
    },
    {
      "cell_type": "code",
      "execution_count": null,
      "metadata": {
        "id": "44d7049f"
      },
      "outputs": [],
      "source": [
        "learning_rate = LearningRateScheduler(d_model=512)\n",
        "\n",
        "optimizer = tf.keras.optimizers.Adam(learning_rate,\n",
        "                                        beta_1=0.9,\n",
        "                                        beta_2=0.98, \n",
        "                                        epsilon=1e-9)"
      ],
      "id": "44d7049f"
    },
    {
      "cell_type": "code",
      "execution_count": null,
      "metadata": {
        "id": "e6466542"
      },
      "outputs": [],
      "source": [
        "loss_object = tf.keras.losses.SparseCategoricalCrossentropy(\n",
        "    from_logits=True, reduction='none')\n",
        "\n",
        "def loss_function(real, pred):\n",
        "    mask = tf.math.logical_not(tf.math.equal(real, 0))\n",
        "    loss_ = loss_object(real, pred)\n",
        "\n",
        "    mask = tf.cast(mask, dtype=loss_.dtype)\n",
        "    loss_ *= mask\n",
        "\n",
        "    return tf.reduce_sum(loss_)/tf.reduce_sum(mask)"
      ],
      "id": "e6466542"
    },
    {
      "cell_type": "code",
      "execution_count": null,
      "metadata": {
        "id": "2d46a12f"
      },
      "outputs": [],
      "source": [
        "@tf.function()\n",
        "def train_step(src, tgt, model, optimizer):\n",
        "    tgt_in = tgt[:, :-1]  # Decoder의 input\n",
        "    gold = tgt[:, 1:]     # Decoder의 output과 비교하기 위해 right shift를 통해 생성한 최종 타겟\n",
        "\n",
        "    enc_mask, dec_enc_mask, dec_mask = generate_masks(src, tgt_in)\n",
        "\n",
        "    with tf.GradientTape() as tape:\n",
        "        predictions, enc_attns, dec_attns, dec_enc_attns = \\\n",
        "        model(src, tgt_in, enc_mask, dec_enc_mask, dec_mask)\n",
        "        loss = loss_function(gold, predictions)\n",
        "\n",
        "    gradients = tape.gradient(loss, model.trainable_variables)    \n",
        "    optimizer.apply_gradients(zip(gradients, model.trainable_variables))\n",
        "\n",
        "    return loss, enc_attns, dec_attns, dec_enc_attns"
      ],
      "id": "2d46a12f"
    },
    {
      "cell_type": "markdown",
      "source": [
        "### 트랜스포머 객체 정의와 사용될 상수 정의"
      ],
      "metadata": {
        "id": "OnfDvB5sYCXQ"
      },
      "id": "OnfDvB5sYCXQ"
    },
    {
      "cell_type": "code",
      "execution_count": null,
      "metadata": {
        "id": "a246ee43"
      },
      "outputs": [],
      "source": [
        "Tran = Transformer(\n",
        "    n_layers=2,\n",
        "    d_model=512,\n",
        "    n_heads=8,\n",
        "    d_ff=2048,\n",
        "    src_vocab_size=30000,\n",
        "    tgt_vocab_size=30000,\n",
        "    pos_len=200,\n",
        "    dropout=0.3,\n",
        "    shared_fc=True,\n",
        "    shared_emb=True)\n",
        "\t\t\n",
        "d_model = 512"
      ],
      "id": "a246ee43"
    },
    {
      "cell_type": "code",
      "execution_count": null,
      "metadata": {
        "id": "YJy5cCfMOVaC"
      },
      "outputs": [],
      "source": [
        "learning_rate = LearningRateScheduler(512)\n",
        "optimizer = tf.keras.optimizers.Adam(learning_rate, beta_1=0.9, beta_2=0.98, epsilon=1e-9)"
      ],
      "id": "YJy5cCfMOVaC"
    },
    {
      "cell_type": "code",
      "execution_count": null,
      "metadata": {
        "colab": {
          "base_uri": "https://localhost:8080/"
        },
        "id": "j0Vm5RZkqUBQ",
        "outputId": "a9420499-3e0f-4f58-c165-e794e85ca712"
      },
      "outputs": [
        {
          "output_type": "stream",
          "name": "stdout",
          "text": [
            "30465 30465\n"
          ]
        }
      ],
      "source": [
        "print(len(new_que_corpus), len(new_ans_corpus))"
      ],
      "id": "j0Vm5RZkqUBQ"
    },
    {
      "cell_type": "code",
      "execution_count": null,
      "metadata": {
        "colab": {
          "base_uri": "https://localhost:8080/"
        },
        "id": "cPx9B_EoJKqV",
        "outputId": "f3f1df74-bad2-42af-c37e-1fc9b7f3d09d"
      },
      "outputs": [
        {
          "output_type": "stream",
          "name": "stdout",
          "text": [
            "enc_train : 30160 enc_val : 305\n",
            "dec_train : 30160 dec_val : 305\n"
          ]
        }
      ],
      "source": [
        "enc_train, enc_val, dec_train, dec_val = \\\n",
        "train_test_split(enc_train, dec_train, test_size=0.01)\n",
        "\n",
        "print(\"enc_train :\", len(enc_train), \"enc_val :\", len(enc_val))\n",
        "print(\"dec_train :\", len(dec_train), \"dec_val :\",len(dec_val))"
      ],
      "id": "cPx9B_EoJKqV"
    },
    {
      "cell_type": "code",
      "execution_count": null,
      "metadata": {
        "colab": {
          "base_uri": "https://localhost:8080/"
        },
        "id": "DkZtRJ29X2wj",
        "outputId": "3dba886b-c31d-48ac-ae8b-6ba3e9c10833"
      },
      "outputs": [
        {
          "output_type": "stream",
          "name": "stdout",
          "text": [
            "52\n",
            "52\n"
          ]
        }
      ],
      "source": [
        "print(len(enc_train[2]))\n",
        "print(len(dec_train[2]))"
      ],
      "id": "DkZtRJ29X2wj"
    },
    {
      "cell_type": "markdown",
      "source": [
        "### 훈련 및 관찰"
      ],
      "metadata": {
        "id": "IVPEjjM2YNSy"
      },
      "id": "IVPEjjM2YNSy"
    },
    {
      "cell_type": "code",
      "execution_count": null,
      "metadata": {
        "colab": {
          "base_uri": "https://localhost:8080/",
          "height": 113,
          "referenced_widgets": [
            "81abfbf5170b4bada976bcafc8263550",
            "563e60f5f0a143b090abd9fa7b14abdd",
            "17059c18891949c6b46f2c58bd7071df",
            "8a7e8cf0860b4a4e9876c78da347ad94",
            "16dc2323c7eb4f0b949f3b05255b30af",
            "5c938ffaeee2482e82924a69610a414b",
            "a2b6aead66d54517ac9b2083b810e266",
            "06853372e7ed40d89ccc149166502a97",
            "b99650887c374e3f87e5121b0f0a0f6d",
            "c69594c4e3b84158a4299922db245cdd",
            "91e515e324dc460193ca46cdd23f66e4",
            "6753fa2bde304efd998aa0981efc1173",
            "e8eff7b5989d416298307217b20482cf",
            "3d8f9e30d6bc4ea999cff1cd61f7948d",
            "73543f25574648f28e6faed114493eb5",
            "81c40de5ff7c44c2a0ae1bfdb24b0e52",
            "c826cf6c811b4c60b0f19632dcaedc0b",
            "aa170d2310fc4b7caddd860b590b49ec",
            "7ce5be6c8f9043f4a712ee3acc8754b2",
            "a6cb86f1191e4f25ad8e3e0970b0e7ae",
            "fff46dc63f8c4390aa423209f46ddaa2",
            "3b59d88180e64f2f872733c1d0e52d0a",
            "c30c045efb814ad3b90f5162de971b83",
            "b811c96d32f644bf873dd39f064c4494",
            "2b2628cbc6064b5b8e1418209abdff9b",
            "bb668c7fdd2c4a2caf336b011857b5c3",
            "aa79e4761d2f4229958b66dbeec2b2ca",
            "cdd973d968bb4f80ac3f3af287a2d2e0",
            "67246c590d9d40609354ea3ab5f7dd2f",
            "75ea50f206c84c86a20e0e95d6a498e0",
            "425fa73142dc4ee9a2625077281317b2",
            "0bcf447925964f229d353018d7faa4e4",
            "591585c931f045a9b8ca34889f8f1e35"
          ]
        },
        "id": "EohtfLwuSoIv",
        "outputId": "ff2c3520-336f-4f11-9839-dfa4e8b81488"
      },
      "outputs": [
        {
          "output_type": "display_data",
          "data": {
            "text/plain": [
              "  0%|          | 0/472 [00:00<?, ?it/s]"
            ],
            "application/vnd.jupyter.widget-view+json": {
              "version_major": 2,
              "version_minor": 0,
              "model_id": "81abfbf5170b4bada976bcafc8263550"
            }
          },
          "metadata": {}
        },
        {
          "output_type": "display_data",
          "data": {
            "text/plain": [
              "  0%|          | 0/472 [00:00<?, ?it/s]"
            ],
            "application/vnd.jupyter.widget-view+json": {
              "version_major": 2,
              "version_minor": 0,
              "model_id": "6753fa2bde304efd998aa0981efc1173"
            }
          },
          "metadata": {}
        },
        {
          "output_type": "display_data",
          "data": {
            "text/plain": [
              "  0%|          | 0/472 [00:00<?, ?it/s]"
            ],
            "application/vnd.jupyter.widget-view+json": {
              "version_major": 2,
              "version_minor": 0,
              "model_id": "c30c045efb814ad3b90f5162de971b83"
            }
          },
          "metadata": {}
        }
      ],
      "source": [
        "EPOCHS = 3\n",
        "BATCH_SIZE = 64\n",
        "\n",
        "train_dataset = tf.data.Dataset.from_tensor_slices((enc_train, dec_train)).batch(batch_size=BATCH_SIZE)\n",
        "\n",
        "for epoch in range(EPOCHS):\n",
        "    total_loss = 0\n",
        "    \n",
        "    dataset_count = tf.data.experimental.cardinality(train_dataset).numpy()\n",
        "    tqdm_bar = tqdm(total=dataset_count)\n",
        "    for step, (enc_batch, dec_batch) in enumerate(train_dataset):\n",
        "        batch_loss, enc_attns, dec_attns, dec_enc_attns = \\\n",
        "        train_step(enc_batch,\n",
        "                    dec_batch,\n",
        "                    Tran,\n",
        "                    optimizer)\n",
        "\n",
        "        total_loss += batch_loss\n",
        "        \n",
        "        tqdm_bar.set_description_str('Epoch %2d' % (epoch + 1))\n",
        "        tqdm_bar.set_postfix_str('Loss %.4f' % (total_loss.numpy() / (step + 1)))\n",
        "        tqdm_bar.update()"
      ],
      "id": "EohtfLwuSoIv"
    },
    {
      "cell_type": "markdown",
      "metadata": {
        "id": "gQbtXw_eBd89"
      },
      "source": [
        "### 트랜스포머 모델의 번역 성능 알아보기"
      ],
      "id": "gQbtXw_eBd89"
    },
    {
      "cell_type": "code",
      "execution_count": null,
      "metadata": {
        "id": "DNRTn-ujpKIq"
      },
      "outputs": [],
      "source": [
        "tokenizer = tf.keras.preprocessing.text.Tokenizer(filters='', num_words=30000)"
      ],
      "id": "DNRTn-ujpKIq"
    },
    {
      "cell_type": "code",
      "execution_count": null,
      "metadata": {
        "colab": {
          "base_uri": "https://localhost:8080/"
        },
        "id": "KBA0J3MlBRds",
        "outputId": "8d3146a1-e570-4c2f-d4d0-2f0c50ad04f4"
      },
      "outputs": [
        {
          "output_type": "stream",
          "name": "stdout",
          "text": [
            "슝=3\n"
          ]
        }
      ],
      "source": [
        "def translate(tokens, model):\n",
        "    padded_tokens = tf.keras.preprocessing.sequence.pad_sequences([tokens],\n",
        "                                                           maxlen=52,\n",
        "                                                           padding='post')\n",
        "    ids = []\n",
        "    output = tf.expand_dims([word_to_index[\"<start>\"]], 0)   \n",
        "    for i in range(52):\n",
        "        enc_padding_mask, combined_mask, dec_padding_mask = \\\n",
        "        generate_masks(padded_tokens, output)\n",
        "\n",
        "        predictions, _, _, _ = model(padded_tokens, \n",
        "                                      output,\n",
        "                                      enc_padding_mask,\n",
        "                                      combined_mask,\n",
        "                                      dec_padding_mask)\n",
        "\n",
        "        predicted_id = \\\n",
        "        tf.argmax(tf.math.softmax(predictions, axis=-1)[0, -1]).numpy().item()\n",
        "\n",
        "        if word_to_index[\"<end>\"] == predicted_id:\n",
        "            result = indexlist_to_wordlist(ids)  \n",
        "            return result\n",
        "\n",
        "        ids.append(predicted_id)\n",
        "        output = tf.concat([output, tf.expand_dims([predicted_id], 0)], axis=-1)\n",
        "\n",
        "    result = indexlist_to_wordlist(ids)  \n",
        "    return result\n",
        "\n",
        "print(\"슝=3\")"
      ],
      "id": "KBA0J3MlBRds"
    },
    {
      "cell_type": "code",
      "source": [
        "def listToString(str_list):\n",
        "     result = \"\"\n",
        "     for s in str_list:\n",
        "        result += s + \" \"\n",
        "     return result.strip()"
      ],
      "metadata": {
        "id": "ruN05uXtVMIW"
      },
      "id": "ruN05uXtVMIW",
      "execution_count": null,
      "outputs": []
    },
    {
      "cell_type": "code",
      "execution_count": null,
      "metadata": {
        "colab": {
          "base_uri": "https://localhost:8080/"
        },
        "id": "5Nf3HsLBCcgs",
        "outputId": "a71caa70-823f-4a6f-990c-5c7ed1302f9f"
      },
      "outputs": [
        {
          "output_type": "stream",
          "name": "stdout",
          "text": [
            "슝=3\n"
          ]
        }
      ],
      "source": [
        "def eval_bleu_single(model, src_sentence, tgt_sentence, verbose=True):\n",
        "\n",
        "    src_tokens = tf.keras.preprocessing.text.text_to_word_sequence(src_sentence)\n",
        "    tgt_tokens = tf.keras.preprocessing.text.text_to_word_sequence(tgt_sentence)\n",
        "\n",
        "    tokens_s = wordlist_to_indexlist(src_tokens)\n",
        "    tokens_t = wordlist_to_indexlist(tgt_tokens)\n",
        "\n",
        "    if (len(tokens_s) > 52): return None\n",
        "    if (len(tokens_t) > 52): return None\n",
        "\n",
        "    reference = tgt_sentence\n",
        "    candidate = listToString(translate(tokens_s, model))\n",
        "\n",
        "    score = sentence_bleu([reference], candidate,\n",
        "                          smoothing_function=SmoothingFunction().method1)\n",
        "\n",
        "    if verbose:\n",
        "        print(\"Source Sentence: \", src_sentence)\n",
        "        print(\"Model Prediction: \", candidate)\n",
        "        print(\"Real: \", reference)\n",
        "        print(\"Score: %lf\\n\" % score)\n",
        "        \n",
        "    return score\n",
        "        \n",
        "print('슝=3')"
      ],
      "id": "5Nf3HsLBCcgs"
    },
    {
      "cell_type": "markdown",
      "metadata": {
        "id": "5-beaxWIDoTd"
      },
      "source": [
        "### 번역 성능 측정하기(1) : BLEU 스코어"
      ],
      "id": "5-beaxWIDoTd"
    },
    {
      "cell_type": "code",
      "source": [
        "test_idx = 0\n",
        "\n",
        "eval_bleu_single(Tran, new_que_corpus[test_idx], new_ans_corpus[test_idx])"
      ],
      "metadata": {
        "colab": {
          "base_uri": "https://localhost:8080/"
        },
        "id": "XN-KFK7K6tfw",
        "outputId": "0ea83c06-2036-44fb-81aa-beef933b2b0f"
      },
      "id": "XN-KFK7K6tfw",
      "execution_count": null,
      "outputs": [
        {
          "output_type": "stream",
          "name": "stdout",
          "text": [
            "Source Sentence:  12시 땡!\n",
            "Model Prediction:  저 랑 함께 해요 !\n",
            "Real:  하루가 또 가네요.\n",
            "Score: 0.024808\n",
            "\n"
          ]
        },
        {
          "output_type": "execute_result",
          "data": {
            "text/plain": [
              "0.024808415001701823"
            ]
          },
          "metadata": {},
          "execution_count": 103
        }
      ]
    },
    {
      "cell_type": "code",
      "source": [
        "Q = '간만에 여자친구랑 데이트 하기로 했어.'; A = '떨리 겠 죠'\n",
        "eval_bleu_single(Tran, Q, A)"
      ],
      "metadata": {
        "colab": {
          "base_uri": "https://localhost:8080/"
        },
        "id": "UA8aiZyxZoPy",
        "outputId": "1f2c69fe-4014-4172-fb61-4edbc9ccca66"
      },
      "id": "UA8aiZyxZoPy",
      "execution_count": null,
      "outputs": [
        {
          "output_type": "stream",
          "name": "stdout",
          "text": [
            "Source Sentence:  간만에 여자친구랑 데이트 하기로 했어.\n",
            "Model Prediction:  약 이 많 은가 봐요 .\n",
            "Real:  떨리 겠 죠\n",
            "Score: 0.018477\n",
            "\n"
          ]
        },
        {
          "output_type": "execute_result",
          "data": {
            "text/plain": [
              "0.018476860420522198"
            ]
          },
          "metadata": {},
          "execution_count": 139
        }
      ]
    },
    {
      "cell_type": "code",
      "execution_count": null,
      "metadata": {
        "id": "ufS5rEBqDz6q",
        "colab": {
          "base_uri": "https://localhost:8080/"
        },
        "outputId": "0088650a-6280-4f95-b4e5-e2b8d8f82418"
      },
      "outputs": [
        {
          "output_type": "stream",
          "name": "stdout",
          "text": [
            "슝=3\n"
          ]
        }
      ],
      "source": [
        "def eval_bleu(model, src_sentences, tgt_sentences, verboses=True):\n",
        "    total_score = 0.0\n",
        "    sample_size = len(src_sentences)\n",
        "    \n",
        "    for idx in tqdm(range(sample_size)):\n",
        "        score = eval_bleu_single(model, src_sentences[idx], tgt_sentences[idx], verbose=False)\n",
        "        if not score: continue\n",
        "        \n",
        "        total_score += score\n",
        "    \n",
        "    print(\"Num of Sample:\", sample_size)\n",
        "    print(\"Total Score:\", total_score / sample_size)\n",
        "    \n",
        "print(\"슝=3\")"
      ],
      "id": "ufS5rEBqDz6q"
    },
    {
      "cell_type": "code",
      "source": [
        "dec_val[0]"
      ],
      "metadata": {
        "colab": {
          "base_uri": "https://localhost:8080/"
        },
        "id": "H3uQ5-B_Lp7s",
        "outputId": "51ce9f4c-8cbe-48a3-9c74-7d79f1ab25c5"
      },
      "id": "H3uQ5-B_Lp7s",
      "execution_count": null,
      "outputs": [
        {
          "output_type": "execute_result",
          "data": {
            "text/plain": [
              "array([   1,  288, 2534,  152,    3,   10,  618,   83,  152,   58,  262,\n",
              "        141,   45,   16,   48,  290,  146,    7,    2,    0,    0,    0,\n",
              "          0,    0,    0,    0,    0,    0,    0,    0,    0,    0,    0,\n",
              "          0,    0,    0,    0,    0,    0,    0,    0,    0,    0,    0,\n",
              "          0,    0,    0,    0,    0,    0,    0,    0], dtype=int32)"
            ]
          },
          "metadata": {},
          "execution_count": 114
        }
      ]
    },
    {
      "cell_type": "code",
      "execution_count": null,
      "metadata": {
        "id": "qb7q3__IEQ5V",
        "colab": {
          "base_uri": "https://localhost:8080/",
          "height": 86,
          "referenced_widgets": [
            "61f032ce81d74226bc18a8bbdbb5e34d",
            "f1193ef06959405496ec1bb596870a2e",
            "84db81e53365422c98cfbe724bb8963e",
            "8bbf2df0855c4916bd56fbe8ff2b3e48",
            "ac19f519070a4509b6bc8b245f9b5f08",
            "4944915860e2444a97047924c6b4a270",
            "0dbcf97b55a14adda8f1e895b2533afc",
            "7a5f54632d844a86907b3b222fb0fe6e",
            "18e71a71df8a44fcbc2eae8f0ea54468",
            "bc5bdd40211442e2951a966edb1c9e3d",
            "4f1c340cb77c4519aacd5c3a31b5beea"
          ]
        },
        "outputId": "7bd9da12-4b4d-4b41-d397-6fefe1426a0d"
      },
      "outputs": [
        {
          "output_type": "display_data",
          "data": {
            "text/plain": [
              "  0%|          | 0/2 [00:00<?, ?it/s]"
            ],
            "application/vnd.jupyter.widget-view+json": {
              "version_major": 2,
              "version_minor": 0,
              "model_id": "61f032ce81d74226bc18a8bbdbb5e34d"
            }
          },
          "metadata": {}
        },
        {
          "output_type": "stream",
          "name": "stdout",
          "text": [
            "Num of Sample: 2\n",
            "Total Score: 0.016980478311200378\n"
          ]
        }
      ],
      "source": [
        "eval_bleu(Tran, new_que_corpus[0:2], new_ans_corpus[0:2], verboses=True)"
      ],
      "id": "qb7q3__IEQ5V"
    },
    {
      "cell_type": "code",
      "execution_count": null,
      "metadata": {
        "id": "h2SKjx_OFTBV",
        "colab": {
          "base_uri": "https://localhost:8080/"
        },
        "outputId": "ae7bb953-eef7-455b-a9b4-e3bb7f4ae533"
      },
      "outputs": [
        {
          "output_type": "stream",
          "name": "stdout",
          "text": [
            "원문: ['12', '시', '땡', '!']\n",
            "번역문: ['저', '랑', '함께', '해요', '!']\n",
            "BLEU Score: 1.2183324802375697e-231\n"
          ]
        },
        {
          "output_type": "stream",
          "name": "stderr",
          "text": [
            "/usr/local/lib/python3.7/dist-packages/nltk/translate/bleu_score.py:552: UserWarning: \n",
            "The hypothesis contains 0 counts of 2-gram overlaps.\n",
            "Therefore the BLEU score evaluates to 0, independently of\n",
            "how many N-gram overlaps of lower order it contains.\n",
            "Consider using lower n-gram order or use SmoothingFunction()\n",
            "  warnings.warn(_msg)\n",
            "/usr/local/lib/python3.7/dist-packages/nltk/translate/bleu_score.py:552: UserWarning: \n",
            "The hypothesis contains 0 counts of 3-gram overlaps.\n",
            "Therefore the BLEU score evaluates to 0, independently of\n",
            "how many N-gram overlaps of lower order it contains.\n",
            "Consider using lower n-gram order or use SmoothingFunction()\n",
            "  warnings.warn(_msg)\n",
            "/usr/local/lib/python3.7/dist-packages/nltk/translate/bleu_score.py:552: UserWarning: \n",
            "The hypothesis contains 0 counts of 4-gram overlaps.\n",
            "Therefore the BLEU score evaluates to 0, independently of\n",
            "how many N-gram overlaps of lower order it contains.\n",
            "Consider using lower n-gram order or use SmoothingFunction()\n",
            "  warnings.warn(_msg)\n"
          ]
        }
      ],
      "source": [
        "reference = \"12 시 땡 !\".split()\n",
        "candidate = \"저 랑 함께 해요 !\".split()\n",
        "\n",
        "print(\"원문:\", reference)\n",
        "print(\"번역문:\", candidate)\n",
        "print(\"BLEU Score:\", sentence_bleu([reference], candidate))"
      ],
      "id": "h2SKjx_OFTBV"
    },
    {
      "cell_type": "code",
      "execution_count": null,
      "metadata": {
        "id": "aCcTd2ZBF1il",
        "colab": {
          "base_uri": "https://localhost:8080/"
        },
        "outputId": "ed94edf9-4faf-45c3-9b07-6ebd9bff8fae"
      },
      "outputs": [
        {
          "output_type": "stream",
          "name": "stdout",
          "text": [
            "1-gram: 0.2\n",
            "2-gram: 2.2250738585072626e-308\n",
            "3-gram: 2.2250738585072626e-308\n",
            "4-gram: 2.2250738585072626e-308\n"
          ]
        }
      ],
      "source": [
        "print(\"1-gram:\", sentence_bleu([reference], candidate, weights=[1, 0, 0, 0]))\n",
        "print(\"2-gram:\", sentence_bleu([reference], candidate, weights=[0, 1, 0, 0]))\n",
        "print(\"3-gram:\", sentence_bleu([reference], candidate, weights=[0, 0, 1, 0]))\n",
        "print(\"4-gram:\", sentence_bleu([reference], candidate, weights=[0, 0, 0, 1]))"
      ],
      "id": "aCcTd2ZBF1il"
    },
    {
      "cell_type": "code",
      "execution_count": null,
      "metadata": {
        "id": "ZeSN8X4jGMdV",
        "colab": {
          "base_uri": "https://localhost:8080/"
        },
        "outputId": "46385a7c-0845-4d72-af74-7fa654bf7374"
      },
      "outputs": [
        {
          "output_type": "stream",
          "name": "stdout",
          "text": [
            "BLEU-1: 0.2\n",
            "BLEU-2: 0.025\n",
            "BLEU-3: 0.03333333333333333\n",
            "BLEU-4: 0.05000000000000001\n",
            "\n",
            "BLEU-Total: 0.05372849659117709\n"
          ]
        }
      ],
      "source": [
        "def calculate_bleu(reference, candidate, weights=[0.25, 0.25, 0.25, 0.25]):\n",
        "    return sentence_bleu([reference],\n",
        "                         candidate,\n",
        "                         weights=weights,\n",
        "                         smoothing_function=SmoothingFunction().method1)  # smoothing_function 적용\n",
        "\n",
        "print(\"BLEU-1:\", calculate_bleu(reference, candidate, weights=[1, 0, 0, 0]))\n",
        "print(\"BLEU-2:\", calculate_bleu(reference, candidate, weights=[0, 1, 0, 0]))\n",
        "print(\"BLEU-3:\", calculate_bleu(reference, candidate, weights=[0, 0, 1, 0]))\n",
        "print(\"BLEU-4:\", calculate_bleu(reference, candidate, weights=[0, 0, 0, 1]))\n",
        "\n",
        "print(\"\\nBLEU-Total:\", calculate_bleu(reference, candidate))"
      ],
      "id": "ZeSN8X4jGMdV"
    },
    {
      "cell_type": "markdown",
      "source": [
        "### 번역 성능 측정하기(2) : Beam Search Decoder"
      ],
      "metadata": {
        "id": "MkBaLBzlXpy3"
      },
      "id": "MkBaLBzlXpy3"
    },
    {
      "cell_type": "code",
      "source": [
        "def calc_prob(src_ids, tgt_ids, model):\n",
        "    enc_padding_mask, combined_mask, dec_padding_mask = \\\n",
        "    generate_masks(src_ids, tgt_ids)\n",
        "\n",
        "    predictions, enc_attns, dec_attns, dec_enc_attns =\\\n",
        "    model(src_ids, \n",
        "            tgt_ids,\n",
        "            enc_padding_mask,\n",
        "            combined_mask,\n",
        "            dec_padding_mask)\n",
        "    \n",
        "    return tf.math.softmax(predictions, axis=-1)"
      ],
      "metadata": {
        "id": "svk-4lE7PXoc"
      },
      "id": "svk-4lE7PXoc",
      "execution_count": null,
      "outputs": []
    },
    {
      "cell_type": "code",
      "source": [
        "def beam_search_decoder(sentence, \n",
        "                        src_len,\n",
        "                        tgt_len,\n",
        "                        model,\n",
        "                        beam_size):\n",
        "    tokens = tf.keras.preprocessing.text.text_to_word_sequence(sentence)\n",
        "    tokens = wordlist_to_indexlist(tokens)\n",
        "    \n",
        "    src_in = tf.keras.preprocessing.sequence.pad_sequences([tokens],\n",
        "                                                            maxlen=52,\n",
        "                                                            padding='post')\n",
        "\n",
        "    pred_cache = np.zeros((beam_size * beam_size, tgt_len), dtype=np.int64)\n",
        "    pred_tmp = np.zeros((beam_size, tgt_len), dtype=np.int64)\n",
        "\n",
        "    eos_flag = np.zeros((beam_size, ), dtype=np.int64)\n",
        "    scores = np.ones((beam_size, ))\n",
        "\n",
        "    pred_tmp[:, 0] = word_to_index[\"<start>\"]\n",
        "\n",
        "    dec_in = tf.expand_dims(pred_tmp[0, :1], 0)\n",
        "    prob = calc_prob(src_in, dec_in, model)[0, -1].numpy()\n",
        "\n",
        "    for seq_pos in range(1, tgt_len):\n",
        "        score_cache = np.ones((beam_size * beam_size, ))\n",
        "\n",
        "        # init\n",
        "        for branch_idx in range(beam_size):\n",
        "            cache_pos = branch_idx*beam_size\n",
        "\n",
        "            score_cache[cache_pos:cache_pos+beam_size] = scores[branch_idx]\n",
        "            pred_cache[cache_pos:cache_pos+beam_size, :seq_pos] = \\\n",
        "            pred_tmp[branch_idx, :seq_pos]\n",
        "\n",
        "        for branch_idx in range(beam_size):\n",
        "            cache_pos = branch_idx*beam_size\n",
        "\n",
        "            if seq_pos != 1:   # 모든 Branch를 로 시작하는 경우를 방지\n",
        "                dec_in = pred_cache[branch_idx, :seq_pos]\n",
        "                dec_in = tf.expand_dims(dec_in, 0)\n",
        "\n",
        "                prob = calc_prob(src_in, dec_in, model)[0, -1].numpy()\n",
        "\n",
        "            for beam_idx in range(beam_size):\n",
        "                max_idx = np.argmax(prob)\n",
        "\n",
        "                score_cache[cache_pos+beam_idx] *= prob[max_idx]\n",
        "                pred_cache[cache_pos+beam_idx, seq_pos] = max_idx\n",
        "\n",
        "                prob[max_idx] = -1\n",
        "\n",
        "        for beam_idx in range(beam_size):\n",
        "            if eos_flag[beam_idx] == -1: continue\n",
        "\n",
        "            max_idx = np.argmax(score_cache)\n",
        "            prediction = pred_cache[max_idx, :seq_pos+1]\n",
        "\n",
        "            pred_tmp[beam_idx, :seq_pos+1] = prediction\n",
        "            scores[beam_idx] = score_cache[max_idx]\n",
        "            score_cache[max_idx] = -1\n",
        "\n",
        "            if prediction[-1] == word_to_index[\"<end>\"]:\n",
        "                eos_flag[beam_idx] = -1\n",
        "\n",
        "    pred = []\n",
        "    for long_pred in pred_tmp:\n",
        "        zero_idx = long_pred.tolist().index(word_to_index[\"<end>\"])\n",
        "        short_pred = long_pred[:zero_idx+1]\n",
        "        pred.append(short_pred)\n",
        "    return pred"
      ],
      "metadata": {
        "id": "F3xbGsmRP-aV"
      },
      "id": "F3xbGsmRP-aV",
      "execution_count": null,
      "outputs": []
    },
    {
      "cell_type": "code",
      "source": [
        "def calculate_bleu(reference, candidate, weights=[0.25, 0.25, 0.25, 0.25]):\n",
        "    return sentence_bleu([reference],\n",
        "                            candidate,\n",
        "                            weights=weights,\n",
        "                            smoothing_function=SmoothingFunction().method1)\n",
        "\n",
        "print('슝=3')"
      ],
      "metadata": {
        "colab": {
          "base_uri": "https://localhost:8080/"
        },
        "id": "WOYQpSIYQGI8",
        "outputId": "33f6621c-d662-4b18-aa8a-23db1b5b5b34"
      },
      "id": "WOYQpSIYQGI8",
      "execution_count": null,
      "outputs": [
        {
          "output_type": "stream",
          "name": "stdout",
          "text": [
            "슝=3\n"
          ]
        }
      ]
    },
    {
      "cell_type": "code",
      "source": [
        "def beam_bleu(reference, ids):\n",
        "\n",
        "    total_score = 0.0\n",
        "    for _id in ids:\n",
        "        candidate = indexlist_to_wordlist(_id.tolist())\n",
        "        candidate = listToString(candidate)\n",
        "        score = calculate_bleu(reference, candidate)\n",
        "\n",
        "        print(\"Reference:\", reference)\n",
        "        print(\"Candidate:\", candidate)\n",
        "        print(\"BLEU:\", calculate_bleu(reference, candidate))"
      ],
      "metadata": {
        "id": "T7d0NOzfQN6F"
      },
      "id": "T7d0NOzfQN6F",
      "execution_count": null,
      "outputs": []
    },
    {
      "cell_type": "code",
      "source": [
        "# 인덱스를 바꿔가며 확인해 보세요\n",
        "test_idx = 2\n",
        "\n",
        "ids = \\\n",
        "beam_search_decoder(new_que_corpus[test_idx],\n",
        "                    52,\n",
        "                    52,\n",
        "                    Tran,\n",
        "                    beam_size=5)\n",
        "\n",
        "bleu = beam_bleu(new_ans_corpus[test_idx], ids)\n",
        "print(bleu)"
      ],
      "metadata": {
        "colab": {
          "base_uri": "https://localhost:8080/"
        },
        "id": "3FlLU9soQWOs",
        "outputId": "e989b865-90e6-44a0-eb71-d1da708dc2d3"
      },
      "id": "3FlLU9soQWOs",
      "execution_count": null,
      "outputs": [
        {
          "output_type": "stream",
          "name": "stdout",
          "text": [
            "Reference: 위로해 드립니다.\n",
            "Candidate: <start> 좋 은 생 님 이 네 요 . <end>\n",
            "BLEU: 0.007696339439306161\n",
            "Reference: 위로해 드립니다.\n",
            "Candidate: <start> 좋 은 생 님 이 되 요 . <end>\n",
            "BLEU: 0.007696339439306161\n",
            "Reference: 위로해 드립니다.\n",
            "Candidate: <start> 좋 은 생 님 이 좋 요 . <end>\n",
            "BLEU: 0.007696339439306161\n",
            "Reference: 위로해 드립니다.\n",
            "Candidate: <start> 좋 은 생 님 이 님 요 . <end>\n",
            "BLEU: 0.007696339439306161\n",
            "Reference: 위로해 드립니다.\n",
            "Candidate: <start> 좋 은 생 님 을 네 요 . <end>\n",
            "BLEU: 0.007696339439306161\n",
            "None\n"
          ]
        }
      ]
    },
    {
      "cell_type": "markdown",
      "source": [
        "<회고>\n",
        "\n",
        "* 처음에는 번역기와 챗봇이 같은 집안이라는 글쓴이의 말씀이 잘 이해되지   않았습니다. \\\\\n",
        "그러나 트랜스포머라는 구조도 결국은 문장을 숫자로 인코딩하여 숫자를 다시 문장으로 디코딩하는 과정이므로 두 경우에 모두 사용될 수 있음은 이해했습니다. \\\\\n",
        "\n",
        "\n",
        "* BLEU 점수를 산정하는 방법은 합이 아닌 곱에 대한 경우라서 지수에 각각 가중치를 부여한다는 것을 알겠습니다. 그리고 각 n-gram에 대해 다양한 점수가 나온다는 점이 흥미롭네요.\n",
        "\n",
        "* Beam Search Decoder를 이용한 문장 해석 방법은 원리로는 이해가 가나 코드로 이해하기에는 시간이 필요한 것 같습니다. 각 스텝마다 단어를  beam 사이즈 만큼 준비해서 각각의 확률을 구하고 또 다시 각 단어에 대해서 beam 사이즈 만큼의 단어를 구해 확률을 구하는 과정을 반복하는 원리가 기발한 것 같습니다. \n",
        "\n",
        "*   과제작성 중 어려웠던 점 :\n",
        "\n",
        "   1. 답변 문장 양끝에 ['start'] 토큰리스트와 ['end'] 토큰리스트를 붙이는 과정에서 컴퓨터가 계속 토큰을 리스트가 아닌 스트링으로 인식하여 고전했습니다. 결국 한국어 토큰화 도구인 Mecab으로 직접 어휘사전을 만들고 인덱싱을 하고 word_to_index, index_to_word 등등 함수를 일일히 만들어야 했습니다.\n",
        "   2.   거의 마지막에 해석을 만드는 함수를 수정하는 과정도 만만치 않았습니다. 입력 토크나이저와 출력 토크나이저를 같게 놓거나 또는 필요없게 만듦으로써 문제를 부분적으로 해결하였으나 나머지는 1에서 말한 여러 함수로 대체해야 했습니다.\n",
        "\n",
        "* 아무튼 과제를 완성하게 되었으니 그걸로 다행입니다.\n",
        "* 시간이 난다면 여러 언어나 LSTM과 같은 모델을 시도해보고 싶네요. \n",
        "\n",
        "* 번역결과 \\\\\n",
        "Source Sentence:  간만에 여자친구랑 데이트 하기로 했어. \\\\\n",
        "Model Prediction:  약 이 많 은가 봐요 . \\\\\n",
        "Real:  떨리 겠 죠 \\\\\n",
        "Score: 0.018477 \\\\\n",
        " 0.018476860420522198 \\\\\n",
        "\n",
        "* 사용된 상수들 : \\\\\n",
        "\n",
        "1.  Transformer : \\\\\n",
        "n_layers=2, \\\\\n",
        "d_model=512, \\\\\n",
        "n_heads=8, \\\\\n",
        "d_ff=2048, \\\\\n",
        "src_vocab_size=30000, \\\\\n",
        "tgt_vocab_size=30000, \\\\\n",
        "pos_len=200, \\\\\n",
        "dropout=0.3, \\\\\n",
        "shared_fc=True, \\\\\n",
        "shared_emb=True \\\\\n",
        "d_model = 512 \\\\\n",
        "\n",
        "2.  optimizer : \\\\\n",
        "beta_1=0.9, beta_2=0.98, epsilon=1e-9 \\\\\n",
        "\n",
        "3.  Training :\n",
        "\n",
        " EPOCHS : 3 \\\\\n",
        "BATCH_SIZE : 64 \\\\\n",
        "warmup_steps : 4000 \\\\\n",
        "\n",
        "\n",
        "\n",
        "\n",
        "\n"
      ],
      "metadata": {
        "id": "0joepEF9a68Q"
      },
      "id": "0joepEF9a68Q"
    }
  ],
  "metadata": {
    "accelerator": "GPU",
    "colab": {
      "collapsed_sections": [],
      "machine_shape": "hm",
      "provenance": []
    },
    "gpuClass": "standard",
    "kernelspec": {
      "display_name": "Python 3 (ipykernel)",
      "language": "python",
      "name": "python3"
    },
    "language_info": {
      "codemirror_mode": {
        "name": "ipython",
        "version": 3
      },
      "file_extension": ".py",
      "mimetype": "text/x-python",
      "name": "python",
      "nbconvert_exporter": "python",
      "pygments_lexer": "ipython3",
      "version": "3.9.7"
    },
    "widgets": {
      "application/vnd.jupyter.widget-state+json": {
        "6b96f1b976274bcc9b675fb2c7fd3a0c": {
          "model_module": "@jupyter-widgets/controls",
          "model_name": "HBoxModel",
          "model_module_version": "1.5.0",
          "state": {
            "_dom_classes": [],
            "_model_module": "@jupyter-widgets/controls",
            "_model_module_version": "1.5.0",
            "_model_name": "HBoxModel",
            "_view_count": null,
            "_view_module": "@jupyter-widgets/controls",
            "_view_module_version": "1.5.0",
            "_view_name": "HBoxView",
            "box_style": "",
            "children": [
              "IPY_MODEL_da144edff8fe4818ae94ef1c2777040c",
              "IPY_MODEL_84027370cb1d40cc83dde403dee7c4be",
              "IPY_MODEL_204ea6098526425b9dd19defb7881ec5"
            ],
            "layout": "IPY_MODEL_a2a8b11a3ed7437bada7269e74f32fb9"
          }
        },
        "da144edff8fe4818ae94ef1c2777040c": {
          "model_module": "@jupyter-widgets/controls",
          "model_name": "HTMLModel",
          "model_module_version": "1.5.0",
          "state": {
            "_dom_classes": [],
            "_model_module": "@jupyter-widgets/controls",
            "_model_module_version": "1.5.0",
            "_model_name": "HTMLModel",
            "_view_count": null,
            "_view_module": "@jupyter-widgets/controls",
            "_view_module_version": "1.5.0",
            "_view_name": "HTMLView",
            "description": "",
            "description_tooltip": null,
            "layout": "IPY_MODEL_9188ffe77af644a88742175171999224",
            "placeholder": "​",
            "style": "IPY_MODEL_9f4c92539b474c4cbb5d4e19c7188614",
            "value": "100%"
          }
        },
        "84027370cb1d40cc83dde403dee7c4be": {
          "model_module": "@jupyter-widgets/controls",
          "model_name": "FloatProgressModel",
          "model_module_version": "1.5.0",
          "state": {
            "_dom_classes": [],
            "_model_module": "@jupyter-widgets/controls",
            "_model_module_version": "1.5.0",
            "_model_name": "FloatProgressModel",
            "_view_count": null,
            "_view_module": "@jupyter-widgets/controls",
            "_view_module_version": "1.5.0",
            "_view_name": "ProgressView",
            "bar_style": "success",
            "description": "",
            "description_tooltip": null,
            "layout": "IPY_MODEL_6dea354e9af142eebbb562fa34f77b3b",
            "max": 11823,
            "min": 0,
            "orientation": "horizontal",
            "style": "IPY_MODEL_b6f5290a5c574da1bd0f251d991760d4",
            "value": 11823
          }
        },
        "204ea6098526425b9dd19defb7881ec5": {
          "model_module": "@jupyter-widgets/controls",
          "model_name": "HTMLModel",
          "model_module_version": "1.5.0",
          "state": {
            "_dom_classes": [],
            "_model_module": "@jupyter-widgets/controls",
            "_model_module_version": "1.5.0",
            "_model_name": "HTMLModel",
            "_view_count": null,
            "_view_module": "@jupyter-widgets/controls",
            "_view_module_version": "1.5.0",
            "_view_name": "HTMLView",
            "description": "",
            "description_tooltip": null,
            "layout": "IPY_MODEL_c9959a86df1b4a6887cd1bee857f4d81",
            "placeholder": "​",
            "style": "IPY_MODEL_06debd51e3c54530b39307e38ceee723",
            "value": " 11823/11823 [00:26&lt;00:00, 422.97it/s]"
          }
        },
        "a2a8b11a3ed7437bada7269e74f32fb9": {
          "model_module": "@jupyter-widgets/base",
          "model_name": "LayoutModel",
          "model_module_version": "1.2.0",
          "state": {
            "_model_module": "@jupyter-widgets/base",
            "_model_module_version": "1.2.0",
            "_model_name": "LayoutModel",
            "_view_count": null,
            "_view_module": "@jupyter-widgets/base",
            "_view_module_version": "1.2.0",
            "_view_name": "LayoutView",
            "align_content": null,
            "align_items": null,
            "align_self": null,
            "border": null,
            "bottom": null,
            "display": null,
            "flex": null,
            "flex_flow": null,
            "grid_area": null,
            "grid_auto_columns": null,
            "grid_auto_flow": null,
            "grid_auto_rows": null,
            "grid_column": null,
            "grid_gap": null,
            "grid_row": null,
            "grid_template_areas": null,
            "grid_template_columns": null,
            "grid_template_rows": null,
            "height": null,
            "justify_content": null,
            "justify_items": null,
            "left": null,
            "margin": null,
            "max_height": null,
            "max_width": null,
            "min_height": null,
            "min_width": null,
            "object_fit": null,
            "object_position": null,
            "order": null,
            "overflow": null,
            "overflow_x": null,
            "overflow_y": null,
            "padding": null,
            "right": null,
            "top": null,
            "visibility": null,
            "width": null
          }
        },
        "9188ffe77af644a88742175171999224": {
          "model_module": "@jupyter-widgets/base",
          "model_name": "LayoutModel",
          "model_module_version": "1.2.0",
          "state": {
            "_model_module": "@jupyter-widgets/base",
            "_model_module_version": "1.2.0",
            "_model_name": "LayoutModel",
            "_view_count": null,
            "_view_module": "@jupyter-widgets/base",
            "_view_module_version": "1.2.0",
            "_view_name": "LayoutView",
            "align_content": null,
            "align_items": null,
            "align_self": null,
            "border": null,
            "bottom": null,
            "display": null,
            "flex": null,
            "flex_flow": null,
            "grid_area": null,
            "grid_auto_columns": null,
            "grid_auto_flow": null,
            "grid_auto_rows": null,
            "grid_column": null,
            "grid_gap": null,
            "grid_row": null,
            "grid_template_areas": null,
            "grid_template_columns": null,
            "grid_template_rows": null,
            "height": null,
            "justify_content": null,
            "justify_items": null,
            "left": null,
            "margin": null,
            "max_height": null,
            "max_width": null,
            "min_height": null,
            "min_width": null,
            "object_fit": null,
            "object_position": null,
            "order": null,
            "overflow": null,
            "overflow_x": null,
            "overflow_y": null,
            "padding": null,
            "right": null,
            "top": null,
            "visibility": null,
            "width": null
          }
        },
        "9f4c92539b474c4cbb5d4e19c7188614": {
          "model_module": "@jupyter-widgets/controls",
          "model_name": "DescriptionStyleModel",
          "model_module_version": "1.5.0",
          "state": {
            "_model_module": "@jupyter-widgets/controls",
            "_model_module_version": "1.5.0",
            "_model_name": "DescriptionStyleModel",
            "_view_count": null,
            "_view_module": "@jupyter-widgets/base",
            "_view_module_version": "1.2.0",
            "_view_name": "StyleView",
            "description_width": ""
          }
        },
        "6dea354e9af142eebbb562fa34f77b3b": {
          "model_module": "@jupyter-widgets/base",
          "model_name": "LayoutModel",
          "model_module_version": "1.2.0",
          "state": {
            "_model_module": "@jupyter-widgets/base",
            "_model_module_version": "1.2.0",
            "_model_name": "LayoutModel",
            "_view_count": null,
            "_view_module": "@jupyter-widgets/base",
            "_view_module_version": "1.2.0",
            "_view_name": "LayoutView",
            "align_content": null,
            "align_items": null,
            "align_self": null,
            "border": null,
            "bottom": null,
            "display": null,
            "flex": null,
            "flex_flow": null,
            "grid_area": null,
            "grid_auto_columns": null,
            "grid_auto_flow": null,
            "grid_auto_rows": null,
            "grid_column": null,
            "grid_gap": null,
            "grid_row": null,
            "grid_template_areas": null,
            "grid_template_columns": null,
            "grid_template_rows": null,
            "height": null,
            "justify_content": null,
            "justify_items": null,
            "left": null,
            "margin": null,
            "max_height": null,
            "max_width": null,
            "min_height": null,
            "min_width": null,
            "object_fit": null,
            "object_position": null,
            "order": null,
            "overflow": null,
            "overflow_x": null,
            "overflow_y": null,
            "padding": null,
            "right": null,
            "top": null,
            "visibility": null,
            "width": null
          }
        },
        "b6f5290a5c574da1bd0f251d991760d4": {
          "model_module": "@jupyter-widgets/controls",
          "model_name": "ProgressStyleModel",
          "model_module_version": "1.5.0",
          "state": {
            "_model_module": "@jupyter-widgets/controls",
            "_model_module_version": "1.5.0",
            "_model_name": "ProgressStyleModel",
            "_view_count": null,
            "_view_module": "@jupyter-widgets/base",
            "_view_module_version": "1.2.0",
            "_view_name": "StyleView",
            "bar_color": null,
            "description_width": ""
          }
        },
        "c9959a86df1b4a6887cd1bee857f4d81": {
          "model_module": "@jupyter-widgets/base",
          "model_name": "LayoutModel",
          "model_module_version": "1.2.0",
          "state": {
            "_model_module": "@jupyter-widgets/base",
            "_model_module_version": "1.2.0",
            "_model_name": "LayoutModel",
            "_view_count": null,
            "_view_module": "@jupyter-widgets/base",
            "_view_module_version": "1.2.0",
            "_view_name": "LayoutView",
            "align_content": null,
            "align_items": null,
            "align_self": null,
            "border": null,
            "bottom": null,
            "display": null,
            "flex": null,
            "flex_flow": null,
            "grid_area": null,
            "grid_auto_columns": null,
            "grid_auto_flow": null,
            "grid_auto_rows": null,
            "grid_column": null,
            "grid_gap": null,
            "grid_row": null,
            "grid_template_areas": null,
            "grid_template_columns": null,
            "grid_template_rows": null,
            "height": null,
            "justify_content": null,
            "justify_items": null,
            "left": null,
            "margin": null,
            "max_height": null,
            "max_width": null,
            "min_height": null,
            "min_width": null,
            "object_fit": null,
            "object_position": null,
            "order": null,
            "overflow": null,
            "overflow_x": null,
            "overflow_y": null,
            "padding": null,
            "right": null,
            "top": null,
            "visibility": null,
            "width": null
          }
        },
        "06debd51e3c54530b39307e38ceee723": {
          "model_module": "@jupyter-widgets/controls",
          "model_name": "DescriptionStyleModel",
          "model_module_version": "1.5.0",
          "state": {
            "_model_module": "@jupyter-widgets/controls",
            "_model_module_version": "1.5.0",
            "_model_name": "DescriptionStyleModel",
            "_view_count": null,
            "_view_module": "@jupyter-widgets/base",
            "_view_module_version": "1.2.0",
            "_view_name": "StyleView",
            "description_width": ""
          }
        },
        "81abfbf5170b4bada976bcafc8263550": {
          "model_module": "@jupyter-widgets/controls",
          "model_name": "HBoxModel",
          "model_module_version": "1.5.0",
          "state": {
            "_dom_classes": [],
            "_model_module": "@jupyter-widgets/controls",
            "_model_module_version": "1.5.0",
            "_model_name": "HBoxModel",
            "_view_count": null,
            "_view_module": "@jupyter-widgets/controls",
            "_view_module_version": "1.5.0",
            "_view_name": "HBoxView",
            "box_style": "",
            "children": [
              "IPY_MODEL_563e60f5f0a143b090abd9fa7b14abdd",
              "IPY_MODEL_17059c18891949c6b46f2c58bd7071df",
              "IPY_MODEL_8a7e8cf0860b4a4e9876c78da347ad94"
            ],
            "layout": "IPY_MODEL_16dc2323c7eb4f0b949f3b05255b30af"
          }
        },
        "563e60f5f0a143b090abd9fa7b14abdd": {
          "model_module": "@jupyter-widgets/controls",
          "model_name": "HTMLModel",
          "model_module_version": "1.5.0",
          "state": {
            "_dom_classes": [],
            "_model_module": "@jupyter-widgets/controls",
            "_model_module_version": "1.5.0",
            "_model_name": "HTMLModel",
            "_view_count": null,
            "_view_module": "@jupyter-widgets/controls",
            "_view_module_version": "1.5.0",
            "_view_name": "HTMLView",
            "description": "",
            "description_tooltip": null,
            "layout": "IPY_MODEL_5c938ffaeee2482e82924a69610a414b",
            "placeholder": "​",
            "style": "IPY_MODEL_a2b6aead66d54517ac9b2083b810e266",
            "value": "Epoch  1: 100%"
          }
        },
        "17059c18891949c6b46f2c58bd7071df": {
          "model_module": "@jupyter-widgets/controls",
          "model_name": "FloatProgressModel",
          "model_module_version": "1.5.0",
          "state": {
            "_dom_classes": [],
            "_model_module": "@jupyter-widgets/controls",
            "_model_module_version": "1.5.0",
            "_model_name": "FloatProgressModel",
            "_view_count": null,
            "_view_module": "@jupyter-widgets/controls",
            "_view_module_version": "1.5.0",
            "_view_name": "ProgressView",
            "bar_style": "success",
            "description": "",
            "description_tooltip": null,
            "layout": "IPY_MODEL_06853372e7ed40d89ccc149166502a97",
            "max": 472,
            "min": 0,
            "orientation": "horizontal",
            "style": "IPY_MODEL_b99650887c374e3f87e5121b0f0a0f6d",
            "value": 472
          }
        },
        "8a7e8cf0860b4a4e9876c78da347ad94": {
          "model_module": "@jupyter-widgets/controls",
          "model_name": "HTMLModel",
          "model_module_version": "1.5.0",
          "state": {
            "_dom_classes": [],
            "_model_module": "@jupyter-widgets/controls",
            "_model_module_version": "1.5.0",
            "_model_name": "HTMLModel",
            "_view_count": null,
            "_view_module": "@jupyter-widgets/controls",
            "_view_module_version": "1.5.0",
            "_view_name": "HTMLView",
            "description": "",
            "description_tooltip": null,
            "layout": "IPY_MODEL_c69594c4e3b84158a4299922db245cdd",
            "placeholder": "​",
            "style": "IPY_MODEL_91e515e324dc460193ca46cdd23f66e4",
            "value": " 472/472 [55:48&lt;00:00,  1.26it/s, Loss 5.3056]"
          }
        },
        "16dc2323c7eb4f0b949f3b05255b30af": {
          "model_module": "@jupyter-widgets/base",
          "model_name": "LayoutModel",
          "model_module_version": "1.2.0",
          "state": {
            "_model_module": "@jupyter-widgets/base",
            "_model_module_version": "1.2.0",
            "_model_name": "LayoutModel",
            "_view_count": null,
            "_view_module": "@jupyter-widgets/base",
            "_view_module_version": "1.2.0",
            "_view_name": "LayoutView",
            "align_content": null,
            "align_items": null,
            "align_self": null,
            "border": null,
            "bottom": null,
            "display": null,
            "flex": null,
            "flex_flow": null,
            "grid_area": null,
            "grid_auto_columns": null,
            "grid_auto_flow": null,
            "grid_auto_rows": null,
            "grid_column": null,
            "grid_gap": null,
            "grid_row": null,
            "grid_template_areas": null,
            "grid_template_columns": null,
            "grid_template_rows": null,
            "height": null,
            "justify_content": null,
            "justify_items": null,
            "left": null,
            "margin": null,
            "max_height": null,
            "max_width": null,
            "min_height": null,
            "min_width": null,
            "object_fit": null,
            "object_position": null,
            "order": null,
            "overflow": null,
            "overflow_x": null,
            "overflow_y": null,
            "padding": null,
            "right": null,
            "top": null,
            "visibility": null,
            "width": null
          }
        },
        "5c938ffaeee2482e82924a69610a414b": {
          "model_module": "@jupyter-widgets/base",
          "model_name": "LayoutModel",
          "model_module_version": "1.2.0",
          "state": {
            "_model_module": "@jupyter-widgets/base",
            "_model_module_version": "1.2.0",
            "_model_name": "LayoutModel",
            "_view_count": null,
            "_view_module": "@jupyter-widgets/base",
            "_view_module_version": "1.2.0",
            "_view_name": "LayoutView",
            "align_content": null,
            "align_items": null,
            "align_self": null,
            "border": null,
            "bottom": null,
            "display": null,
            "flex": null,
            "flex_flow": null,
            "grid_area": null,
            "grid_auto_columns": null,
            "grid_auto_flow": null,
            "grid_auto_rows": null,
            "grid_column": null,
            "grid_gap": null,
            "grid_row": null,
            "grid_template_areas": null,
            "grid_template_columns": null,
            "grid_template_rows": null,
            "height": null,
            "justify_content": null,
            "justify_items": null,
            "left": null,
            "margin": null,
            "max_height": null,
            "max_width": null,
            "min_height": null,
            "min_width": null,
            "object_fit": null,
            "object_position": null,
            "order": null,
            "overflow": null,
            "overflow_x": null,
            "overflow_y": null,
            "padding": null,
            "right": null,
            "top": null,
            "visibility": null,
            "width": null
          }
        },
        "a2b6aead66d54517ac9b2083b810e266": {
          "model_module": "@jupyter-widgets/controls",
          "model_name": "DescriptionStyleModel",
          "model_module_version": "1.5.0",
          "state": {
            "_model_module": "@jupyter-widgets/controls",
            "_model_module_version": "1.5.0",
            "_model_name": "DescriptionStyleModel",
            "_view_count": null,
            "_view_module": "@jupyter-widgets/base",
            "_view_module_version": "1.2.0",
            "_view_name": "StyleView",
            "description_width": ""
          }
        },
        "06853372e7ed40d89ccc149166502a97": {
          "model_module": "@jupyter-widgets/base",
          "model_name": "LayoutModel",
          "model_module_version": "1.2.0",
          "state": {
            "_model_module": "@jupyter-widgets/base",
            "_model_module_version": "1.2.0",
            "_model_name": "LayoutModel",
            "_view_count": null,
            "_view_module": "@jupyter-widgets/base",
            "_view_module_version": "1.2.0",
            "_view_name": "LayoutView",
            "align_content": null,
            "align_items": null,
            "align_self": null,
            "border": null,
            "bottom": null,
            "display": null,
            "flex": null,
            "flex_flow": null,
            "grid_area": null,
            "grid_auto_columns": null,
            "grid_auto_flow": null,
            "grid_auto_rows": null,
            "grid_column": null,
            "grid_gap": null,
            "grid_row": null,
            "grid_template_areas": null,
            "grid_template_columns": null,
            "grid_template_rows": null,
            "height": null,
            "justify_content": null,
            "justify_items": null,
            "left": null,
            "margin": null,
            "max_height": null,
            "max_width": null,
            "min_height": null,
            "min_width": null,
            "object_fit": null,
            "object_position": null,
            "order": null,
            "overflow": null,
            "overflow_x": null,
            "overflow_y": null,
            "padding": null,
            "right": null,
            "top": null,
            "visibility": null,
            "width": null
          }
        },
        "b99650887c374e3f87e5121b0f0a0f6d": {
          "model_module": "@jupyter-widgets/controls",
          "model_name": "ProgressStyleModel",
          "model_module_version": "1.5.0",
          "state": {
            "_model_module": "@jupyter-widgets/controls",
            "_model_module_version": "1.5.0",
            "_model_name": "ProgressStyleModel",
            "_view_count": null,
            "_view_module": "@jupyter-widgets/base",
            "_view_module_version": "1.2.0",
            "_view_name": "StyleView",
            "bar_color": null,
            "description_width": ""
          }
        },
        "c69594c4e3b84158a4299922db245cdd": {
          "model_module": "@jupyter-widgets/base",
          "model_name": "LayoutModel",
          "model_module_version": "1.2.0",
          "state": {
            "_model_module": "@jupyter-widgets/base",
            "_model_module_version": "1.2.0",
            "_model_name": "LayoutModel",
            "_view_count": null,
            "_view_module": "@jupyter-widgets/base",
            "_view_module_version": "1.2.0",
            "_view_name": "LayoutView",
            "align_content": null,
            "align_items": null,
            "align_self": null,
            "border": null,
            "bottom": null,
            "display": null,
            "flex": null,
            "flex_flow": null,
            "grid_area": null,
            "grid_auto_columns": null,
            "grid_auto_flow": null,
            "grid_auto_rows": null,
            "grid_column": null,
            "grid_gap": null,
            "grid_row": null,
            "grid_template_areas": null,
            "grid_template_columns": null,
            "grid_template_rows": null,
            "height": null,
            "justify_content": null,
            "justify_items": null,
            "left": null,
            "margin": null,
            "max_height": null,
            "max_width": null,
            "min_height": null,
            "min_width": null,
            "object_fit": null,
            "object_position": null,
            "order": null,
            "overflow": null,
            "overflow_x": null,
            "overflow_y": null,
            "padding": null,
            "right": null,
            "top": null,
            "visibility": null,
            "width": null
          }
        },
        "91e515e324dc460193ca46cdd23f66e4": {
          "model_module": "@jupyter-widgets/controls",
          "model_name": "DescriptionStyleModel",
          "model_module_version": "1.5.0",
          "state": {
            "_model_module": "@jupyter-widgets/controls",
            "_model_module_version": "1.5.0",
            "_model_name": "DescriptionStyleModel",
            "_view_count": null,
            "_view_module": "@jupyter-widgets/base",
            "_view_module_version": "1.2.0",
            "_view_name": "StyleView",
            "description_width": ""
          }
        },
        "6753fa2bde304efd998aa0981efc1173": {
          "model_module": "@jupyter-widgets/controls",
          "model_name": "HBoxModel",
          "model_module_version": "1.5.0",
          "state": {
            "_dom_classes": [],
            "_model_module": "@jupyter-widgets/controls",
            "_model_module_version": "1.5.0",
            "_model_name": "HBoxModel",
            "_view_count": null,
            "_view_module": "@jupyter-widgets/controls",
            "_view_module_version": "1.5.0",
            "_view_name": "HBoxView",
            "box_style": "",
            "children": [
              "IPY_MODEL_e8eff7b5989d416298307217b20482cf",
              "IPY_MODEL_3d8f9e30d6bc4ea999cff1cd61f7948d",
              "IPY_MODEL_73543f25574648f28e6faed114493eb5"
            ],
            "layout": "IPY_MODEL_81c40de5ff7c44c2a0ae1bfdb24b0e52"
          }
        },
        "e8eff7b5989d416298307217b20482cf": {
          "model_module": "@jupyter-widgets/controls",
          "model_name": "HTMLModel",
          "model_module_version": "1.5.0",
          "state": {
            "_dom_classes": [],
            "_model_module": "@jupyter-widgets/controls",
            "_model_module_version": "1.5.0",
            "_model_name": "HTMLModel",
            "_view_count": null,
            "_view_module": "@jupyter-widgets/controls",
            "_view_module_version": "1.5.0",
            "_view_name": "HTMLView",
            "description": "",
            "description_tooltip": null,
            "layout": "IPY_MODEL_c826cf6c811b4c60b0f19632dcaedc0b",
            "placeholder": "​",
            "style": "IPY_MODEL_aa170d2310fc4b7caddd860b590b49ec",
            "value": "Epoch  2: 100%"
          }
        },
        "3d8f9e30d6bc4ea999cff1cd61f7948d": {
          "model_module": "@jupyter-widgets/controls",
          "model_name": "FloatProgressModel",
          "model_module_version": "1.5.0",
          "state": {
            "_dom_classes": [],
            "_model_module": "@jupyter-widgets/controls",
            "_model_module_version": "1.5.0",
            "_model_name": "FloatProgressModel",
            "_view_count": null,
            "_view_module": "@jupyter-widgets/controls",
            "_view_module_version": "1.5.0",
            "_view_name": "ProgressView",
            "bar_style": "success",
            "description": "",
            "description_tooltip": null,
            "layout": "IPY_MODEL_7ce5be6c8f9043f4a712ee3acc8754b2",
            "max": 472,
            "min": 0,
            "orientation": "horizontal",
            "style": "IPY_MODEL_a6cb86f1191e4f25ad8e3e0970b0e7ae",
            "value": 472
          }
        },
        "73543f25574648f28e6faed114493eb5": {
          "model_module": "@jupyter-widgets/controls",
          "model_name": "HTMLModel",
          "model_module_version": "1.5.0",
          "state": {
            "_dom_classes": [],
            "_model_module": "@jupyter-widgets/controls",
            "_model_module_version": "1.5.0",
            "_model_name": "HTMLModel",
            "_view_count": null,
            "_view_module": "@jupyter-widgets/controls",
            "_view_module_version": "1.5.0",
            "_view_name": "HTMLView",
            "description": "",
            "description_tooltip": null,
            "layout": "IPY_MODEL_fff46dc63f8c4390aa423209f46ddaa2",
            "placeholder": "​",
            "style": "IPY_MODEL_3b59d88180e64f2f872733c1d0e52d0a",
            "value": " 472/472 [03:17&lt;00:00,  4.78it/s, Loss 3.2157]"
          }
        },
        "81c40de5ff7c44c2a0ae1bfdb24b0e52": {
          "model_module": "@jupyter-widgets/base",
          "model_name": "LayoutModel",
          "model_module_version": "1.2.0",
          "state": {
            "_model_module": "@jupyter-widgets/base",
            "_model_module_version": "1.2.0",
            "_model_name": "LayoutModel",
            "_view_count": null,
            "_view_module": "@jupyter-widgets/base",
            "_view_module_version": "1.2.0",
            "_view_name": "LayoutView",
            "align_content": null,
            "align_items": null,
            "align_self": null,
            "border": null,
            "bottom": null,
            "display": null,
            "flex": null,
            "flex_flow": null,
            "grid_area": null,
            "grid_auto_columns": null,
            "grid_auto_flow": null,
            "grid_auto_rows": null,
            "grid_column": null,
            "grid_gap": null,
            "grid_row": null,
            "grid_template_areas": null,
            "grid_template_columns": null,
            "grid_template_rows": null,
            "height": null,
            "justify_content": null,
            "justify_items": null,
            "left": null,
            "margin": null,
            "max_height": null,
            "max_width": null,
            "min_height": null,
            "min_width": null,
            "object_fit": null,
            "object_position": null,
            "order": null,
            "overflow": null,
            "overflow_x": null,
            "overflow_y": null,
            "padding": null,
            "right": null,
            "top": null,
            "visibility": null,
            "width": null
          }
        },
        "c826cf6c811b4c60b0f19632dcaedc0b": {
          "model_module": "@jupyter-widgets/base",
          "model_name": "LayoutModel",
          "model_module_version": "1.2.0",
          "state": {
            "_model_module": "@jupyter-widgets/base",
            "_model_module_version": "1.2.0",
            "_model_name": "LayoutModel",
            "_view_count": null,
            "_view_module": "@jupyter-widgets/base",
            "_view_module_version": "1.2.0",
            "_view_name": "LayoutView",
            "align_content": null,
            "align_items": null,
            "align_self": null,
            "border": null,
            "bottom": null,
            "display": null,
            "flex": null,
            "flex_flow": null,
            "grid_area": null,
            "grid_auto_columns": null,
            "grid_auto_flow": null,
            "grid_auto_rows": null,
            "grid_column": null,
            "grid_gap": null,
            "grid_row": null,
            "grid_template_areas": null,
            "grid_template_columns": null,
            "grid_template_rows": null,
            "height": null,
            "justify_content": null,
            "justify_items": null,
            "left": null,
            "margin": null,
            "max_height": null,
            "max_width": null,
            "min_height": null,
            "min_width": null,
            "object_fit": null,
            "object_position": null,
            "order": null,
            "overflow": null,
            "overflow_x": null,
            "overflow_y": null,
            "padding": null,
            "right": null,
            "top": null,
            "visibility": null,
            "width": null
          }
        },
        "aa170d2310fc4b7caddd860b590b49ec": {
          "model_module": "@jupyter-widgets/controls",
          "model_name": "DescriptionStyleModel",
          "model_module_version": "1.5.0",
          "state": {
            "_model_module": "@jupyter-widgets/controls",
            "_model_module_version": "1.5.0",
            "_model_name": "DescriptionStyleModel",
            "_view_count": null,
            "_view_module": "@jupyter-widgets/base",
            "_view_module_version": "1.2.0",
            "_view_name": "StyleView",
            "description_width": ""
          }
        },
        "7ce5be6c8f9043f4a712ee3acc8754b2": {
          "model_module": "@jupyter-widgets/base",
          "model_name": "LayoutModel",
          "model_module_version": "1.2.0",
          "state": {
            "_model_module": "@jupyter-widgets/base",
            "_model_module_version": "1.2.0",
            "_model_name": "LayoutModel",
            "_view_count": null,
            "_view_module": "@jupyter-widgets/base",
            "_view_module_version": "1.2.0",
            "_view_name": "LayoutView",
            "align_content": null,
            "align_items": null,
            "align_self": null,
            "border": null,
            "bottom": null,
            "display": null,
            "flex": null,
            "flex_flow": null,
            "grid_area": null,
            "grid_auto_columns": null,
            "grid_auto_flow": null,
            "grid_auto_rows": null,
            "grid_column": null,
            "grid_gap": null,
            "grid_row": null,
            "grid_template_areas": null,
            "grid_template_columns": null,
            "grid_template_rows": null,
            "height": null,
            "justify_content": null,
            "justify_items": null,
            "left": null,
            "margin": null,
            "max_height": null,
            "max_width": null,
            "min_height": null,
            "min_width": null,
            "object_fit": null,
            "object_position": null,
            "order": null,
            "overflow": null,
            "overflow_x": null,
            "overflow_y": null,
            "padding": null,
            "right": null,
            "top": null,
            "visibility": null,
            "width": null
          }
        },
        "a6cb86f1191e4f25ad8e3e0970b0e7ae": {
          "model_module": "@jupyter-widgets/controls",
          "model_name": "ProgressStyleModel",
          "model_module_version": "1.5.0",
          "state": {
            "_model_module": "@jupyter-widgets/controls",
            "_model_module_version": "1.5.0",
            "_model_name": "ProgressStyleModel",
            "_view_count": null,
            "_view_module": "@jupyter-widgets/base",
            "_view_module_version": "1.2.0",
            "_view_name": "StyleView",
            "bar_color": null,
            "description_width": ""
          }
        },
        "fff46dc63f8c4390aa423209f46ddaa2": {
          "model_module": "@jupyter-widgets/base",
          "model_name": "LayoutModel",
          "model_module_version": "1.2.0",
          "state": {
            "_model_module": "@jupyter-widgets/base",
            "_model_module_version": "1.2.0",
            "_model_name": "LayoutModel",
            "_view_count": null,
            "_view_module": "@jupyter-widgets/base",
            "_view_module_version": "1.2.0",
            "_view_name": "LayoutView",
            "align_content": null,
            "align_items": null,
            "align_self": null,
            "border": null,
            "bottom": null,
            "display": null,
            "flex": null,
            "flex_flow": null,
            "grid_area": null,
            "grid_auto_columns": null,
            "grid_auto_flow": null,
            "grid_auto_rows": null,
            "grid_column": null,
            "grid_gap": null,
            "grid_row": null,
            "grid_template_areas": null,
            "grid_template_columns": null,
            "grid_template_rows": null,
            "height": null,
            "justify_content": null,
            "justify_items": null,
            "left": null,
            "margin": null,
            "max_height": null,
            "max_width": null,
            "min_height": null,
            "min_width": null,
            "object_fit": null,
            "object_position": null,
            "order": null,
            "overflow": null,
            "overflow_x": null,
            "overflow_y": null,
            "padding": null,
            "right": null,
            "top": null,
            "visibility": null,
            "width": null
          }
        },
        "3b59d88180e64f2f872733c1d0e52d0a": {
          "model_module": "@jupyter-widgets/controls",
          "model_name": "DescriptionStyleModel",
          "model_module_version": "1.5.0",
          "state": {
            "_model_module": "@jupyter-widgets/controls",
            "_model_module_version": "1.5.0",
            "_model_name": "DescriptionStyleModel",
            "_view_count": null,
            "_view_module": "@jupyter-widgets/base",
            "_view_module_version": "1.2.0",
            "_view_name": "StyleView",
            "description_width": ""
          }
        },
        "c30c045efb814ad3b90f5162de971b83": {
          "model_module": "@jupyter-widgets/controls",
          "model_name": "HBoxModel",
          "model_module_version": "1.5.0",
          "state": {
            "_dom_classes": [],
            "_model_module": "@jupyter-widgets/controls",
            "_model_module_version": "1.5.0",
            "_model_name": "HBoxModel",
            "_view_count": null,
            "_view_module": "@jupyter-widgets/controls",
            "_view_module_version": "1.5.0",
            "_view_name": "HBoxView",
            "box_style": "",
            "children": [
              "IPY_MODEL_b811c96d32f644bf873dd39f064c4494",
              "IPY_MODEL_2b2628cbc6064b5b8e1418209abdff9b",
              "IPY_MODEL_bb668c7fdd2c4a2caf336b011857b5c3"
            ],
            "layout": "IPY_MODEL_aa79e4761d2f4229958b66dbeec2b2ca"
          }
        },
        "b811c96d32f644bf873dd39f064c4494": {
          "model_module": "@jupyter-widgets/controls",
          "model_name": "HTMLModel",
          "model_module_version": "1.5.0",
          "state": {
            "_dom_classes": [],
            "_model_module": "@jupyter-widgets/controls",
            "_model_module_version": "1.5.0",
            "_model_name": "HTMLModel",
            "_view_count": null,
            "_view_module": "@jupyter-widgets/controls",
            "_view_module_version": "1.5.0",
            "_view_name": "HTMLView",
            "description": "",
            "description_tooltip": null,
            "layout": "IPY_MODEL_cdd973d968bb4f80ac3f3af287a2d2e0",
            "placeholder": "​",
            "style": "IPY_MODEL_67246c590d9d40609354ea3ab5f7dd2f",
            "value": "Epoch  3: 100%"
          }
        },
        "2b2628cbc6064b5b8e1418209abdff9b": {
          "model_module": "@jupyter-widgets/controls",
          "model_name": "FloatProgressModel",
          "model_module_version": "1.5.0",
          "state": {
            "_dom_classes": [],
            "_model_module": "@jupyter-widgets/controls",
            "_model_module_version": "1.5.0",
            "_model_name": "FloatProgressModel",
            "_view_count": null,
            "_view_module": "@jupyter-widgets/controls",
            "_view_module_version": "1.5.0",
            "_view_name": "ProgressView",
            "bar_style": "",
            "description": "",
            "description_tooltip": null,
            "layout": "IPY_MODEL_75ea50f206c84c86a20e0e95d6a498e0",
            "max": 472,
            "min": 0,
            "orientation": "horizontal",
            "style": "IPY_MODEL_425fa73142dc4ee9a2625077281317b2",
            "value": 471
          }
        },
        "bb668c7fdd2c4a2caf336b011857b5c3": {
          "model_module": "@jupyter-widgets/controls",
          "model_name": "HTMLModel",
          "model_module_version": "1.5.0",
          "state": {
            "_dom_classes": [],
            "_model_module": "@jupyter-widgets/controls",
            "_model_module_version": "1.5.0",
            "_model_name": "HTMLModel",
            "_view_count": null,
            "_view_module": "@jupyter-widgets/controls",
            "_view_module_version": "1.5.0",
            "_view_name": "HTMLView",
            "description": "",
            "description_tooltip": null,
            "layout": "IPY_MODEL_0bcf447925964f229d353018d7faa4e4",
            "placeholder": "​",
            "style": "IPY_MODEL_591585c931f045a9b8ca34889f8f1e35",
            "value": " 471/472 [01:39&lt;00:00,  4.73it/s, Loss 2.4430]"
          }
        },
        "aa79e4761d2f4229958b66dbeec2b2ca": {
          "model_module": "@jupyter-widgets/base",
          "model_name": "LayoutModel",
          "model_module_version": "1.2.0",
          "state": {
            "_model_module": "@jupyter-widgets/base",
            "_model_module_version": "1.2.0",
            "_model_name": "LayoutModel",
            "_view_count": null,
            "_view_module": "@jupyter-widgets/base",
            "_view_module_version": "1.2.0",
            "_view_name": "LayoutView",
            "align_content": null,
            "align_items": null,
            "align_self": null,
            "border": null,
            "bottom": null,
            "display": null,
            "flex": null,
            "flex_flow": null,
            "grid_area": null,
            "grid_auto_columns": null,
            "grid_auto_flow": null,
            "grid_auto_rows": null,
            "grid_column": null,
            "grid_gap": null,
            "grid_row": null,
            "grid_template_areas": null,
            "grid_template_columns": null,
            "grid_template_rows": null,
            "height": null,
            "justify_content": null,
            "justify_items": null,
            "left": null,
            "margin": null,
            "max_height": null,
            "max_width": null,
            "min_height": null,
            "min_width": null,
            "object_fit": null,
            "object_position": null,
            "order": null,
            "overflow": null,
            "overflow_x": null,
            "overflow_y": null,
            "padding": null,
            "right": null,
            "top": null,
            "visibility": null,
            "width": null
          }
        },
        "cdd973d968bb4f80ac3f3af287a2d2e0": {
          "model_module": "@jupyter-widgets/base",
          "model_name": "LayoutModel",
          "model_module_version": "1.2.0",
          "state": {
            "_model_module": "@jupyter-widgets/base",
            "_model_module_version": "1.2.0",
            "_model_name": "LayoutModel",
            "_view_count": null,
            "_view_module": "@jupyter-widgets/base",
            "_view_module_version": "1.2.0",
            "_view_name": "LayoutView",
            "align_content": null,
            "align_items": null,
            "align_self": null,
            "border": null,
            "bottom": null,
            "display": null,
            "flex": null,
            "flex_flow": null,
            "grid_area": null,
            "grid_auto_columns": null,
            "grid_auto_flow": null,
            "grid_auto_rows": null,
            "grid_column": null,
            "grid_gap": null,
            "grid_row": null,
            "grid_template_areas": null,
            "grid_template_columns": null,
            "grid_template_rows": null,
            "height": null,
            "justify_content": null,
            "justify_items": null,
            "left": null,
            "margin": null,
            "max_height": null,
            "max_width": null,
            "min_height": null,
            "min_width": null,
            "object_fit": null,
            "object_position": null,
            "order": null,
            "overflow": null,
            "overflow_x": null,
            "overflow_y": null,
            "padding": null,
            "right": null,
            "top": null,
            "visibility": null,
            "width": null
          }
        },
        "67246c590d9d40609354ea3ab5f7dd2f": {
          "model_module": "@jupyter-widgets/controls",
          "model_name": "DescriptionStyleModel",
          "model_module_version": "1.5.0",
          "state": {
            "_model_module": "@jupyter-widgets/controls",
            "_model_module_version": "1.5.0",
            "_model_name": "DescriptionStyleModel",
            "_view_count": null,
            "_view_module": "@jupyter-widgets/base",
            "_view_module_version": "1.2.0",
            "_view_name": "StyleView",
            "description_width": ""
          }
        },
        "75ea50f206c84c86a20e0e95d6a498e0": {
          "model_module": "@jupyter-widgets/base",
          "model_name": "LayoutModel",
          "model_module_version": "1.2.0",
          "state": {
            "_model_module": "@jupyter-widgets/base",
            "_model_module_version": "1.2.0",
            "_model_name": "LayoutModel",
            "_view_count": null,
            "_view_module": "@jupyter-widgets/base",
            "_view_module_version": "1.2.0",
            "_view_name": "LayoutView",
            "align_content": null,
            "align_items": null,
            "align_self": null,
            "border": null,
            "bottom": null,
            "display": null,
            "flex": null,
            "flex_flow": null,
            "grid_area": null,
            "grid_auto_columns": null,
            "grid_auto_flow": null,
            "grid_auto_rows": null,
            "grid_column": null,
            "grid_gap": null,
            "grid_row": null,
            "grid_template_areas": null,
            "grid_template_columns": null,
            "grid_template_rows": null,
            "height": null,
            "justify_content": null,
            "justify_items": null,
            "left": null,
            "margin": null,
            "max_height": null,
            "max_width": null,
            "min_height": null,
            "min_width": null,
            "object_fit": null,
            "object_position": null,
            "order": null,
            "overflow": null,
            "overflow_x": null,
            "overflow_y": null,
            "padding": null,
            "right": null,
            "top": null,
            "visibility": null,
            "width": null
          }
        },
        "425fa73142dc4ee9a2625077281317b2": {
          "model_module": "@jupyter-widgets/controls",
          "model_name": "ProgressStyleModel",
          "model_module_version": "1.5.0",
          "state": {
            "_model_module": "@jupyter-widgets/controls",
            "_model_module_version": "1.5.0",
            "_model_name": "ProgressStyleModel",
            "_view_count": null,
            "_view_module": "@jupyter-widgets/base",
            "_view_module_version": "1.2.0",
            "_view_name": "StyleView",
            "bar_color": null,
            "description_width": ""
          }
        },
        "0bcf447925964f229d353018d7faa4e4": {
          "model_module": "@jupyter-widgets/base",
          "model_name": "LayoutModel",
          "model_module_version": "1.2.0",
          "state": {
            "_model_module": "@jupyter-widgets/base",
            "_model_module_version": "1.2.0",
            "_model_name": "LayoutModel",
            "_view_count": null,
            "_view_module": "@jupyter-widgets/base",
            "_view_module_version": "1.2.0",
            "_view_name": "LayoutView",
            "align_content": null,
            "align_items": null,
            "align_self": null,
            "border": null,
            "bottom": null,
            "display": null,
            "flex": null,
            "flex_flow": null,
            "grid_area": null,
            "grid_auto_columns": null,
            "grid_auto_flow": null,
            "grid_auto_rows": null,
            "grid_column": null,
            "grid_gap": null,
            "grid_row": null,
            "grid_template_areas": null,
            "grid_template_columns": null,
            "grid_template_rows": null,
            "height": null,
            "justify_content": null,
            "justify_items": null,
            "left": null,
            "margin": null,
            "max_height": null,
            "max_width": null,
            "min_height": null,
            "min_width": null,
            "object_fit": null,
            "object_position": null,
            "order": null,
            "overflow": null,
            "overflow_x": null,
            "overflow_y": null,
            "padding": null,
            "right": null,
            "top": null,
            "visibility": null,
            "width": null
          }
        },
        "591585c931f045a9b8ca34889f8f1e35": {
          "model_module": "@jupyter-widgets/controls",
          "model_name": "DescriptionStyleModel",
          "model_module_version": "1.5.0",
          "state": {
            "_model_module": "@jupyter-widgets/controls",
            "_model_module_version": "1.5.0",
            "_model_name": "DescriptionStyleModel",
            "_view_count": null,
            "_view_module": "@jupyter-widgets/base",
            "_view_module_version": "1.2.0",
            "_view_name": "StyleView",
            "description_width": ""
          }
        },
        "61f032ce81d74226bc18a8bbdbb5e34d": {
          "model_module": "@jupyter-widgets/controls",
          "model_name": "HBoxModel",
          "model_module_version": "1.5.0",
          "state": {
            "_dom_classes": [],
            "_model_module": "@jupyter-widgets/controls",
            "_model_module_version": "1.5.0",
            "_model_name": "HBoxModel",
            "_view_count": null,
            "_view_module": "@jupyter-widgets/controls",
            "_view_module_version": "1.5.0",
            "_view_name": "HBoxView",
            "box_style": "",
            "children": [
              "IPY_MODEL_f1193ef06959405496ec1bb596870a2e",
              "IPY_MODEL_84db81e53365422c98cfbe724bb8963e",
              "IPY_MODEL_8bbf2df0855c4916bd56fbe8ff2b3e48"
            ],
            "layout": "IPY_MODEL_ac19f519070a4509b6bc8b245f9b5f08"
          }
        },
        "f1193ef06959405496ec1bb596870a2e": {
          "model_module": "@jupyter-widgets/controls",
          "model_name": "HTMLModel",
          "model_module_version": "1.5.0",
          "state": {
            "_dom_classes": [],
            "_model_module": "@jupyter-widgets/controls",
            "_model_module_version": "1.5.0",
            "_model_name": "HTMLModel",
            "_view_count": null,
            "_view_module": "@jupyter-widgets/controls",
            "_view_module_version": "1.5.0",
            "_view_name": "HTMLView",
            "description": "",
            "description_tooltip": null,
            "layout": "IPY_MODEL_4944915860e2444a97047924c6b4a270",
            "placeholder": "​",
            "style": "IPY_MODEL_0dbcf97b55a14adda8f1e895b2533afc",
            "value": "100%"
          }
        },
        "84db81e53365422c98cfbe724bb8963e": {
          "model_module": "@jupyter-widgets/controls",
          "model_name": "FloatProgressModel",
          "model_module_version": "1.5.0",
          "state": {
            "_dom_classes": [],
            "_model_module": "@jupyter-widgets/controls",
            "_model_module_version": "1.5.0",
            "_model_name": "FloatProgressModel",
            "_view_count": null,
            "_view_module": "@jupyter-widgets/controls",
            "_view_module_version": "1.5.0",
            "_view_name": "ProgressView",
            "bar_style": "success",
            "description": "",
            "description_tooltip": null,
            "layout": "IPY_MODEL_7a5f54632d844a86907b3b222fb0fe6e",
            "max": 2,
            "min": 0,
            "orientation": "horizontal",
            "style": "IPY_MODEL_18e71a71df8a44fcbc2eae8f0ea54468",
            "value": 2
          }
        },
        "8bbf2df0855c4916bd56fbe8ff2b3e48": {
          "model_module": "@jupyter-widgets/controls",
          "model_name": "HTMLModel",
          "model_module_version": "1.5.0",
          "state": {
            "_dom_classes": [],
            "_model_module": "@jupyter-widgets/controls",
            "_model_module_version": "1.5.0",
            "_model_name": "HTMLModel",
            "_view_count": null,
            "_view_module": "@jupyter-widgets/controls",
            "_view_module_version": "1.5.0",
            "_view_name": "HTMLView",
            "description": "",
            "description_tooltip": null,
            "layout": "IPY_MODEL_bc5bdd40211442e2951a966edb1c9e3d",
            "placeholder": "​",
            "style": "IPY_MODEL_4f1c340cb77c4519aacd5c3a31b5beea",
            "value": " 2/2 [00:02&lt;00:00,  1.25s/it]"
          }
        },
        "ac19f519070a4509b6bc8b245f9b5f08": {
          "model_module": "@jupyter-widgets/base",
          "model_name": "LayoutModel",
          "model_module_version": "1.2.0",
          "state": {
            "_model_module": "@jupyter-widgets/base",
            "_model_module_version": "1.2.0",
            "_model_name": "LayoutModel",
            "_view_count": null,
            "_view_module": "@jupyter-widgets/base",
            "_view_module_version": "1.2.0",
            "_view_name": "LayoutView",
            "align_content": null,
            "align_items": null,
            "align_self": null,
            "border": null,
            "bottom": null,
            "display": null,
            "flex": null,
            "flex_flow": null,
            "grid_area": null,
            "grid_auto_columns": null,
            "grid_auto_flow": null,
            "grid_auto_rows": null,
            "grid_column": null,
            "grid_gap": null,
            "grid_row": null,
            "grid_template_areas": null,
            "grid_template_columns": null,
            "grid_template_rows": null,
            "height": null,
            "justify_content": null,
            "justify_items": null,
            "left": null,
            "margin": null,
            "max_height": null,
            "max_width": null,
            "min_height": null,
            "min_width": null,
            "object_fit": null,
            "object_position": null,
            "order": null,
            "overflow": null,
            "overflow_x": null,
            "overflow_y": null,
            "padding": null,
            "right": null,
            "top": null,
            "visibility": null,
            "width": null
          }
        },
        "4944915860e2444a97047924c6b4a270": {
          "model_module": "@jupyter-widgets/base",
          "model_name": "LayoutModel",
          "model_module_version": "1.2.0",
          "state": {
            "_model_module": "@jupyter-widgets/base",
            "_model_module_version": "1.2.0",
            "_model_name": "LayoutModel",
            "_view_count": null,
            "_view_module": "@jupyter-widgets/base",
            "_view_module_version": "1.2.0",
            "_view_name": "LayoutView",
            "align_content": null,
            "align_items": null,
            "align_self": null,
            "border": null,
            "bottom": null,
            "display": null,
            "flex": null,
            "flex_flow": null,
            "grid_area": null,
            "grid_auto_columns": null,
            "grid_auto_flow": null,
            "grid_auto_rows": null,
            "grid_column": null,
            "grid_gap": null,
            "grid_row": null,
            "grid_template_areas": null,
            "grid_template_columns": null,
            "grid_template_rows": null,
            "height": null,
            "justify_content": null,
            "justify_items": null,
            "left": null,
            "margin": null,
            "max_height": null,
            "max_width": null,
            "min_height": null,
            "min_width": null,
            "object_fit": null,
            "object_position": null,
            "order": null,
            "overflow": null,
            "overflow_x": null,
            "overflow_y": null,
            "padding": null,
            "right": null,
            "top": null,
            "visibility": null,
            "width": null
          }
        },
        "0dbcf97b55a14adda8f1e895b2533afc": {
          "model_module": "@jupyter-widgets/controls",
          "model_name": "DescriptionStyleModel",
          "model_module_version": "1.5.0",
          "state": {
            "_model_module": "@jupyter-widgets/controls",
            "_model_module_version": "1.5.0",
            "_model_name": "DescriptionStyleModel",
            "_view_count": null,
            "_view_module": "@jupyter-widgets/base",
            "_view_module_version": "1.2.0",
            "_view_name": "StyleView",
            "description_width": ""
          }
        },
        "7a5f54632d844a86907b3b222fb0fe6e": {
          "model_module": "@jupyter-widgets/base",
          "model_name": "LayoutModel",
          "model_module_version": "1.2.0",
          "state": {
            "_model_module": "@jupyter-widgets/base",
            "_model_module_version": "1.2.0",
            "_model_name": "LayoutModel",
            "_view_count": null,
            "_view_module": "@jupyter-widgets/base",
            "_view_module_version": "1.2.0",
            "_view_name": "LayoutView",
            "align_content": null,
            "align_items": null,
            "align_self": null,
            "border": null,
            "bottom": null,
            "display": null,
            "flex": null,
            "flex_flow": null,
            "grid_area": null,
            "grid_auto_columns": null,
            "grid_auto_flow": null,
            "grid_auto_rows": null,
            "grid_column": null,
            "grid_gap": null,
            "grid_row": null,
            "grid_template_areas": null,
            "grid_template_columns": null,
            "grid_template_rows": null,
            "height": null,
            "justify_content": null,
            "justify_items": null,
            "left": null,
            "margin": null,
            "max_height": null,
            "max_width": null,
            "min_height": null,
            "min_width": null,
            "object_fit": null,
            "object_position": null,
            "order": null,
            "overflow": null,
            "overflow_x": null,
            "overflow_y": null,
            "padding": null,
            "right": null,
            "top": null,
            "visibility": null,
            "width": null
          }
        },
        "18e71a71df8a44fcbc2eae8f0ea54468": {
          "model_module": "@jupyter-widgets/controls",
          "model_name": "ProgressStyleModel",
          "model_module_version": "1.5.0",
          "state": {
            "_model_module": "@jupyter-widgets/controls",
            "_model_module_version": "1.5.0",
            "_model_name": "ProgressStyleModel",
            "_view_count": null,
            "_view_module": "@jupyter-widgets/base",
            "_view_module_version": "1.2.0",
            "_view_name": "StyleView",
            "bar_color": null,
            "description_width": ""
          }
        },
        "bc5bdd40211442e2951a966edb1c9e3d": {
          "model_module": "@jupyter-widgets/base",
          "model_name": "LayoutModel",
          "model_module_version": "1.2.0",
          "state": {
            "_model_module": "@jupyter-widgets/base",
            "_model_module_version": "1.2.0",
            "_model_name": "LayoutModel",
            "_view_count": null,
            "_view_module": "@jupyter-widgets/base",
            "_view_module_version": "1.2.0",
            "_view_name": "LayoutView",
            "align_content": null,
            "align_items": null,
            "align_self": null,
            "border": null,
            "bottom": null,
            "display": null,
            "flex": null,
            "flex_flow": null,
            "grid_area": null,
            "grid_auto_columns": null,
            "grid_auto_flow": null,
            "grid_auto_rows": null,
            "grid_column": null,
            "grid_gap": null,
            "grid_row": null,
            "grid_template_areas": null,
            "grid_template_columns": null,
            "grid_template_rows": null,
            "height": null,
            "justify_content": null,
            "justify_items": null,
            "left": null,
            "margin": null,
            "max_height": null,
            "max_width": null,
            "min_height": null,
            "min_width": null,
            "object_fit": null,
            "object_position": null,
            "order": null,
            "overflow": null,
            "overflow_x": null,
            "overflow_y": null,
            "padding": null,
            "right": null,
            "top": null,
            "visibility": null,
            "width": null
          }
        },
        "4f1c340cb77c4519aacd5c3a31b5beea": {
          "model_module": "@jupyter-widgets/controls",
          "model_name": "DescriptionStyleModel",
          "model_module_version": "1.5.0",
          "state": {
            "_model_module": "@jupyter-widgets/controls",
            "_model_module_version": "1.5.0",
            "_model_name": "DescriptionStyleModel",
            "_view_count": null,
            "_view_module": "@jupyter-widgets/base",
            "_view_module_version": "1.2.0",
            "_view_name": "StyleView",
            "description_width": ""
          }
        }
      }
    }
  },
  "nbformat": 4,
  "nbformat_minor": 5
}