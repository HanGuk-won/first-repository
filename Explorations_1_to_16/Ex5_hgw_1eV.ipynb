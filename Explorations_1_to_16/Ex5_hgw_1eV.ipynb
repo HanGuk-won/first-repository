{
  "nbformat": 4,
  "nbformat_minor": 0,
  "metadata": {
    "colab": {
      "name": "Ex5_hgw_1eV.ipynb",
      "provenance": [],
      "collapsed_sections": []
    },
    "kernelspec": {
      "name": "python3",
      "display_name": "Python 3"
    },
    "language_info": {
      "name": "python"
    },
    "gpuClass": "standard"
  },
  "cells": [
    {
      "cell_type": "markdown",
      "source": [
        "#인공지능과 가위 바위 보 하기"
      ],
      "metadata": {
        "id": "m-qClogXBNqq"
      }
    },
    {
      "cell_type": "code",
      "execution_count": null,
      "metadata": {
        "colab": {
          "base_uri": "https://localhost:8080/"
        },
        "id": "0wm0HyjXwgfP",
        "outputId": "6353274b-96b4-4663-a014-14a50a9b55eb"
      },
      "outputs": [
        {
          "output_type": "stream",
          "name": "stdout",
          "text": [
            "2.8.2\n",
            "1.21.6\n"
          ]
        }
      ],
      "source": [
        "import tensorflow as tf\n",
        "import numpy as np\n",
        "\n",
        "print(tf.__version__)\n",
        "print(np.__version__)"
      ]
    },
    {
      "cell_type": "code",
      "source": [
        "from PIL import Image\n",
        "import glob\n",
        "import numpy as np\n",
        "import matplotlib.pyplot as plt\n",
        "import os\n",
        "\n",
        "print(\"PIL 라이브러리 import 완료!\")"
      ],
      "metadata": {
        "colab": {
          "base_uri": "https://localhost:8080/"
        },
        "id": "xoj1Zrs_wmuE",
        "outputId": "b74e5f85-3c69-4eb7-881d-0b58df068305"
      },
      "execution_count": null,
      "outputs": [
        {
          "output_type": "stream",
          "name": "stdout",
          "text": [
            "PIL 라이브러리 import 완료!\n"
          ]
        }
      ]
    },
    {
      "cell_type": "markdown",
      "source": [
        "###이미지를 불러와 리사이즈 하기"
      ],
      "metadata": {
        "id": "Jc4qnqcABlDf"
      }
    },
    {
      "cell_type": "code",
      "source": [
        "def resize_images(img_path):\n",
        "\timages=glob.glob(img_path + \"/*.jpg\")  \n",
        "    \n",
        "\tprint(len(images), \" images to be resized.\")\n",
        "\n",
        "    # 파일마다 모두 28x28 사이즈로 바꾸어 저장합니다.\n",
        "\ttarget_size=(28,28)\n",
        "\tfor img in images:\n",
        "\t\told_img=Image.open(img)\n",
        "\t\tnew_img=old_img.resize(target_size,Image.ANTIALIAS)\n",
        "\t\tnew_img.save(img, \"JPEG\")\n",
        "    \n",
        "\tprint(len(images), \" images resized.\")\n",
        "\t\n",
        "# 가위 이미지가 저장된 디렉토리 아래의 모든 jpg 파일을 읽어들여서\n",
        "image_dir_path_1 = \"/content/drive/MyDrive/rock_scissor_paper/scissor\"\n",
        "resize_images(image_dir_path_1)\n",
        "image_dir_path_2 = \"/content/drive/MyDrive/test/scissor\"\n",
        "resize_images(image_dir_path_2)\n",
        "\n",
        "print(\"가위 이미지 resize 완료!\")"
      ],
      "metadata": {
        "colab": {
          "base_uri": "https://localhost:8080/"
        },
        "id": "gXTb7LTnw1_t",
        "outputId": "ba959d45-b5bd-4945-b870-12770ceb8ce2"
      },
      "execution_count": null,
      "outputs": [
        {
          "output_type": "stream",
          "name": "stdout",
          "text": [
            "300  images to be resized.\n",
            "300  images resized.\n",
            "100  images to be resized.\n",
            "100  images resized.\n",
            "가위 이미지 resize 완료!\n"
          ]
        }
      ]
    },
    {
      "cell_type": "code",
      "source": [
        "def resize_images(img_path):\n",
        "\timages=glob.glob(img_path + \"/*.jpg\")  \n",
        "    \n",
        "\tprint(len(images), \" images to be resized.\")\n",
        "\n",
        "    # 파일마다 모두 28x28 사이즈로 바꾸어 저장합니다.\n",
        "\ttarget_size=(28,28)\n",
        "\tfor img in images:\n",
        "\t\told_img=Image.open(img)\n",
        "\t\tnew_img=old_img.resize(target_size,Image.ANTIALIAS)\n",
        "\t\tnew_img.save(img, \"JPEG\")\n",
        "    \n",
        "\tprint(len(images), \" images resized.\")\n",
        "\t\n",
        "# 가위 이미지가 저장된 디렉토리 아래의 모든 jpg 파일을 읽어들여서\n",
        "image_dir_path_1 = \"/content/drive/MyDrive/rock_scissor_paper/rock\"\n",
        "resize_images(image_dir_path_1)\n",
        "image_dir_path_2 = \"/content/drive/MyDrive/test/rock\"\n",
        "resize_images(image_dir_path_2)\n",
        "\n",
        "\n",
        "print(\"바위 이미지 resize 완료!\")"
      ],
      "metadata": {
        "colab": {
          "base_uri": "https://localhost:8080/"
        },
        "id": "WqzLs7Ntw7Q-",
        "outputId": "1eb22ddc-a236-405b-eb22-38d4fe9d63b3"
      },
      "execution_count": null,
      "outputs": [
        {
          "output_type": "stream",
          "name": "stdout",
          "text": [
            "300  images to be resized.\n",
            "300  images resized.\n",
            "100  images to be resized.\n",
            "100  images resized.\n",
            "바위 이미지 resize 완료!\n"
          ]
        }
      ]
    },
    {
      "cell_type": "code",
      "source": [
        "def resize_images(img_path):\n",
        "\timages=glob.glob(img_path + \"/*.jpg\")  \n",
        "    \n",
        "\tprint(len(images), \" images to be resized.\")\n",
        "\n",
        "    # 파일마다 모두 28x28 사이즈로 바꾸어 저장합니다.\n",
        "\ttarget_size=(28,28)\n",
        "\tfor img in images:\n",
        "\t\told_img=Image.open(img)\n",
        "\t\tnew_img=old_img.resize(target_size,Image.ANTIALIAS)\n",
        "\t\tnew_img.save(img, \"JPEG\")\n",
        "    \n",
        "\tprint(len(images), \" images resized.\")\n",
        "\t\n",
        "# 가위 이미지가 저장된 디렉토리 아래의 모든 jpg 파일을 읽어들여서\n",
        "image_dir_path_1 = \"/content/drive/MyDrive/rock_scissor_paper/paper\"\n",
        "resize_images(image_dir_path_1)\n",
        "image_dir_path_2 = \"/content/drive/MyDrive/test/paper\"\n",
        "resize_images(image_dir_path_2)\n",
        "\n",
        "print(\"보 이미지 resize 완료!\")"
      ],
      "metadata": {
        "colab": {
          "base_uri": "https://localhost:8080/"
        },
        "id": "bz1oi03XxC86",
        "outputId": "1645c2d4-7242-45b8-c2d3-749bf16907a3"
      },
      "execution_count": null,
      "outputs": [
        {
          "output_type": "stream",
          "name": "stdout",
          "text": [
            "300  images to be resized.\n",
            "300  images resized.\n",
            "100  images to be resized.\n",
            "100  images resized.\n",
            "보 이미지 resize 완료!\n"
          ]
        }
      ]
    },
    {
      "cell_type": "markdown",
      "source": [
        "##Train 셋과 Test 셋을 만드는 특별한 함수 load_data() 정의"
      ],
      "metadata": {
        "id": "ijQK4yJ4BvdV"
      }
    },
    {
      "cell_type": "code",
      "source": [
        "import numpy as np\n",
        "\n",
        "def load_data(img_path, number_of_data):  # 가위바위보 이미지 개수 총합에 주의하세요.\n",
        "    # 가위 : 0, 바위 : 1, 보 : 2\n",
        "    img_size=28\n",
        "    color=3\n",
        "    #이미지 데이터와 라벨(가위 : 0, 바위 : 1, 보 : 2) 데이터를 담을 행렬(matrix) 영역을 생성합니다.\n",
        "    imgs=np.zeros(number_of_data*img_size*img_size*color,dtype=np.int32).reshape(number_of_data,img_size,img_size,color)\n",
        "    labels=np.zeros(number_of_data,dtype=np.int32)\n",
        "\n",
        "    idx=0\n",
        "    for file in glob.iglob(img_path+'/scissor/*.jpg'):\n",
        "        img = np.array(Image.open(file),dtype=np.int32)\n",
        "        imgs[idx,:,:,:]=img    # 데이터 영역에 이미지 행렬을 복사\n",
        "        labels[idx]=0   # 가위 : 0\n",
        "        idx=idx+1\n",
        "\n",
        "    for file in glob.iglob(img_path+'/rock/*.jpg'):\n",
        "        img = np.array(Image.open(file),dtype=np.int32)\n",
        "        imgs[idx,:,:,:]=img    # 데이터 영역에 이미지 행렬을 복사\n",
        "        labels[idx]=1   # 바위 : 1\n",
        "        idx=idx+1  \n",
        "    for file in glob.iglob(img_path+'/paper/*.jpg'):\n",
        "        img = np.array(Image.open(file),dtype=np.int32)\n",
        "        imgs[idx,:,:,:]=img    # 데이터 영역에 이미지 행렬을 복사\n",
        "        labels[idx]=2   # 보 : 2\n",
        "        idx=idx+1\n",
        "        \n",
        "    print(\"학습데이터(x_train)의 이미지 개수는\", idx,\"입니다.\")\n",
        "    return imgs, labels\n",
        "\n",
        "image_dir_path = \"/content/drive/MyDrive/rock_scissor_paper/\"\n",
        "(x_train, y_train)=load_data(image_dir_path,900)\n",
        "\n",
        "print(\"x_train shape: {}\".format(x_train.shape))\n",
        "print(\"y_train shape: {}\".format(y_train.shape))\n",
        "print('최소값:',np.min(x_train), ' 최대값:',np.max(x_train))"
      ],
      "metadata": {
        "colab": {
          "base_uri": "https://localhost:8080/"
        },
        "id": "OLQ2yptzxL9F",
        "outputId": "fc52da6e-ebb9-4d5f-d698-c117256e449d"
      },
      "execution_count": null,
      "outputs": [
        {
          "output_type": "stream",
          "name": "stdout",
          "text": [
            "학습데이터(x_train)의 이미지 개수는 900 입니다.\n",
            "x_train shape: (900, 28, 28, 3)\n",
            "y_train shape: (900,)\n",
            "최소값: 11  최대값: 255\n"
          ]
        }
      ]
    },
    {
      "cell_type": "markdown",
      "source": [
        "###불러온 train 이미지 예"
      ],
      "metadata": {
        "id": "CK3tJwh_B-FV"
      }
    },
    {
      "cell_type": "code",
      "source": [
        "plt.imshow(x_train[0])\n",
        "print('라벨: ', y_train[0])"
      ],
      "metadata": {
        "colab": {
          "base_uri": "https://localhost:8080/",
          "height": 283
        },
        "id": "MzQqQqhbxnT7",
        "outputId": "98895002-150d-4732-e517-83aa53ab10a6"
      },
      "execution_count": null,
      "outputs": [
        {
          "output_type": "stream",
          "name": "stdout",
          "text": [
            "라벨:  0\n"
          ]
        },
        {
          "output_type": "display_data",
          "data": {
            "text/plain": [
              "<Figure size 432x288 with 1 Axes>"
            ],
            "image/png": "[encoded data removed]"
          },
          "metadata": {
            "needs_background": "light"
          }
        }
      ]
    },
    {
      "cell_type": "markdown",
      "source": [
        "#모델 설계하기"
      ],
      "metadata": {
        "id": "4p3D08z4CJjk"
      }
    },
    {
      "cell_type": "code",
      "source": [
        "import tensorflow as tf\n",
        "from tensorflow import keras\n",
        "import numpy as np\n",
        "\n",
        "n_channel_1=15\n",
        "_channel_2=32\n",
        "n_dense=20\n",
        "n_train_epoch=15\n",
        "\n",
        "model=keras.models.Sequential()\n",
        "model.add(keras.layers.Conv2D(16, (3,3), activation='relu', input_shape=(28,28,3)))\n",
        "model.add(keras.layers.MaxPool2D(2,2))\n",
        "model.add(keras.layers.Conv2D(32, (3,3), activation='relu'))\n",
        "model.add(keras.layers.MaxPooling2D((2,2)))\n",
        "model.add(keras.layers.Flatten())\n",
        "model.add(keras.layers.Dense(32, activation='relu'))\n",
        "model.add(keras.layers.Dense(3, activation='softmax')) #3종류의 클래스 (가위, 바위, 보)\n",
        "model.summary()"
      ],
      "metadata": {
        "colab": {
          "base_uri": "https://localhost:8080/"
        },
        "id": "a7NM8PCdxusv",
        "outputId": "15a6010e-1825-4525-94a9-0c8de227e5db"
      },
      "execution_count": null,
      "outputs": [
        {
          "output_type": "stream",
          "name": "stdout",
          "text": [
            "Model: \"sequential_2\"\n",
            "_________________________________________________________________\n",
            " Layer (type)                Output Shape              Param #   \n",
            "=================================================================\n",
            " conv2d_4 (Conv2D)           (None, 26, 26, 16)        448       \n",
            "                                                                 \n",
            " max_pooling2d_4 (MaxPooling  (None, 13, 13, 16)       0         \n",
            " 2D)                                                             \n",
            "                                                                 \n",
            " conv2d_5 (Conv2D)           (None, 11, 11, 32)        4640      \n",
            "                                                                 \n",
            " max_pooling2d_5 (MaxPooling  (None, 5, 5, 32)         0         \n",
            " 2D)                                                             \n",
            "                                                                 \n",
            " flatten_2 (Flatten)         (None, 800)               0         \n",
            "                                                                 \n",
            " dense_4 (Dense)             (None, 32)                25632     \n",
            "                                                                 \n",
            " dense_5 (Dense)             (None, 3)                 99        \n",
            "                                                                 \n",
            "=================================================================\n",
            "Total params: 30,819\n",
            "Trainable params: 30,819\n",
            "Non-trainable params: 0\n",
            "_________________________________________________________________\n"
          ]
        }
      ]
    },
    {
      "cell_type": "markdown",
      "source": [
        "##Train 셋 만들어서 모델 훈련시키기"
      ],
      "metadata": {
        "id": "jpSImswiCea6"
      }
    },
    {
      "cell_type": "code",
      "source": [
        "from PIL import Image\n",
        "import glob\n",
        "import os\n",
        "\n",
        "print(\"PIL 라이브러리 import 완료!\")\n",
        "def resize_images(img_path):\n",
        "\timages=glob.glob(img_path + \"/*.jpg\")  \n",
        "    \n",
        "\tprint(len(images), \" images to be resized.\")\n",
        "\n",
        "    # 파일마다 모두 28x28 사이즈로 바꾸어 저장합니다.\n",
        "\ttarget_size=(28,28)\n",
        "\tfor img in images:\n",
        "\t\told_img=Image.open(img)\n",
        "\t\tnew_img=old_img.resize(target_size,Image.ANTIALIAS)\n",
        "\t\tnew_img.save(img, \"JPEG\")\n",
        "    \n",
        "\tprint(len(images), \" images resized.\")\n",
        "\t\n",
        "(x_train, y_train) = load_data(\"/content/drive/MyDrive/rock_scissor_paper\",900)\n",
        "print(\"Before Reshape - x_train shape: {}\".format(x_train.shape))\n",
        "print(\"Before Reshape - y_train shape: {}\".format(y_train.shape))\n",
        "\n",
        "x_train_norm = x_train/255.0  # 입력은 0~1 사이의 값으로 정규화\n",
        "x_train_reshaped = x_train_norm.reshape(-1, 28, 28, 3)\n",
        "# 데이터갯수에 -1을 쓰면 reshape시 자동계산됩니다.\n",
        "y_train = y_train.reshape(-1, 1)\n",
        "\n",
        "print(\"After Reshape - x_train_reshape shape: {}\".format(x_train_reshaped.shape))\n",
        "print(\"After Reshape - y_train shape: {}\".format(y_train.shape))\n",
        "\n",
        "model.compile(optimizer='adam',loss='sparse_categorical_crossentropy',metrics=['accuracy'])\n",
        "\n",
        "# 모델 훈련\n",
        "model.fit(x_train_reshaped, y_train, epochs=10)"
      ],
      "metadata": {
        "colab": {
          "base_uri": "https://localhost:8080/"
        },
        "id": "nShFMSn5x0gY",
        "outputId": "cf0e13fe-0bbb-4db3-ec4c-b84cb0809c2a"
      },
      "execution_count": null,
      "outputs": [
        {
          "output_type": "stream",
          "name": "stdout",
          "text": [
            "PIL 라이브러리 import 완료!\n",
            "학습데이터(x_train)의 이미지 개수는 900 입니다.\n",
            "Before Reshape - x_train shape: (900, 28, 28, 3)\n",
            "Before Reshape - y_train shape: (900,)\n",
            "After Reshape - x_train_reshape shape: (900, 28, 28, 3)\n",
            "After Reshape - y_train shape: (900, 1)\n",
            "Epoch 1/10\n",
            "29/29 [==============================] - 1s 22ms/step - loss: 1.0959 - accuracy: 0.4033\n",
            "Epoch 2/10\n",
            "29/29 [==============================] - 1s 20ms/step - loss: 1.0606 - accuracy: 0.4289\n",
            "Epoch 3/10\n",
            "29/29 [==============================] - 1s 21ms/step - loss: 0.9350 - accuracy: 0.6500\n",
            "Epoch 4/10\n",
            "29/29 [==============================] - 1s 20ms/step - loss: 0.6892 - accuracy: 0.7011\n",
            "Epoch 5/10\n",
            "29/29 [==============================] - 1s 20ms/step - loss: 0.5228 - accuracy: 0.7856\n",
            "Epoch 6/10\n",
            "29/29 [==============================] - 1s 20ms/step - loss: 0.4045 - accuracy: 0.8344\n",
            "Epoch 7/10\n",
            "29/29 [==============================] - 1s 20ms/step - loss: 0.3567 - accuracy: 0.8400\n",
            "Epoch 8/10\n",
            "29/29 [==============================] - 1s 20ms/step - loss: 0.3030 - accuracy: 0.8800\n",
            "Epoch 9/10\n",
            "29/29 [==============================] - 1s 20ms/step - loss: 0.2308 - accuracy: 0.9333\n",
            "Epoch 10/10\n",
            "29/29 [==============================] - 1s 20ms/step - loss: 0.1928 - accuracy: 0.9433\n"
          ]
        },
        {
          "output_type": "execute_result",
          "data": {
            "text/plain": [
              "<keras.callbacks.History at 0x7f7edbe94510>"
            ]
          },
          "metadata": {},
          "execution_count": 59
        }
      ]
    },
    {
      "cell_type": "markdown",
      "source": [
        "##Test 셋 만들어서 모델 검증하기"
      ],
      "metadata": {
        "id": "VvbiyHIZCpyB"
      }
    },
    {
      "cell_type": "code",
      "source": [
        "(x_test, y_test) = load_data(\"/content/drive/MyDrive/test\",300)\n",
        "\n",
        "print(\"Before Reshape - x_test shape: {}\".format(x_test.shape))\n",
        "print(\"Before Reshape - y_test shape: {}\".format(y_test.shape))\n",
        "x_test_norm = x_test/255.0\n",
        "x_test_reshaped = x_test_norm.reshape(-1, 28, 28, 3)\n",
        "y_test = y_test.reshape(-1, 1)\n",
        "\n",
        "print(\"After Reshape - x_test_reshaped shape: {}\".format(x_test_reshaped.shape))\n",
        "print(\"After Reshape - y_test shape: {}\".format(y_test.shape))"
      ],
      "metadata": {
        "colab": {
          "base_uri": "https://localhost:8080/"
        },
        "id": "Skg8JMjcx-bo",
        "outputId": "e42dbce7-f243-4145-c8f5-55c910ab49e7"
      },
      "execution_count": null,
      "outputs": [
        {
          "output_type": "stream",
          "name": "stdout",
          "text": [
            "학습데이터(x_train)의 이미지 개수는 300 입니다.\n",
            "Before Reshape - x_test shape: (300, 28, 28, 3)\n",
            "Before Reshape - y_test shape: (300,)\n",
            "After Reshape - x_test_reshaped shape: (300, 28, 28, 3)\n",
            "After Reshape - y_test shape: (300, 1)\n"
          ]
        }
      ]
    },
    {
      "cell_type": "markdown",
      "source": [
        "##손실과 정확도 구하기"
      ],
      "metadata": {
        "id": "uN1AV4xiCynr"
      }
    },
    {
      "cell_type": "code",
      "source": [
        "test_loss, test_accuracy = model.evaluate(x_test_reshaped, y_test, verbose=2)\n",
        "print(\"test_loss: {} \".format(test_loss))\n",
        "print(\"test_accuracy: {}\".format(test_accuracy))"
      ],
      "metadata": {
        "colab": {
          "base_uri": "https://localhost:8080/"
        },
        "id": "Zlw2hSnMyIc9",
        "outputId": "9ee1c517-2154-4ba0-d287-f0f45ef685c6"
      },
      "execution_count": null,
      "outputs": [
        {
          "output_type": "stream",
          "name": "stdout",
          "text": [
            "10/10 - 0s - loss: 1.6362 - accuracy: 0.6567 - 204ms/epoch - 20ms/step\n",
            "test_loss: 1.6362090110778809 \n",
            "test_accuracy: 0.6566666960716248\n"
          ]
        }
      ]
    },
    {
      "cell_type": "markdown",
      "source": [
        "회고 : 처음에는 주어진 가위 바위 보 체계에 대한 트레인 셋과 테스트 셋의 정의가 헷갈려 에러가 많이 떴었는데 load_data()함수가 이미지와 레이블을 반환한다는 것을 알고부터 쉽게 코드를 짤 수 있었다. 처음에 아무것도 모르고 코드를 붙여넣기하고 돌렸을 때는 정확도가 0.09(9%)가 나와서 정말 실망을 많이 했지만 생각을 가다듬고 정신을 집중하고 train 셋에 들어갈 다양한 가위바위보 사진을 다양한 각도로 3배 증강해서 찍은 결과 정확도가 0.65(65%)로써 60퍼센트를 넘길 수 있었다."
      ],
      "metadata": {
        "id": "8hZcOrvjDGMN"
      }
    }
  ]
}
