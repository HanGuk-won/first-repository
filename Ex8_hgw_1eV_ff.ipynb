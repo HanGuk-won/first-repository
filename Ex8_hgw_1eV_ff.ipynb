{
 "cells": [
  {
   "cell_type": "markdown",
   "id": "1348775d",
   "metadata": {},
   "source": [
    "# 영화리뷰 텍스트 감성분석 하기\n",
    "\n",
    "### 버전확인 및 데이터 불러오기"
   ]
  },
  {
   "cell_type": "code",
   "execution_count": 13,
   "id": "f37b8623",
   "metadata": {
    "scrolled": true
   },
   "outputs": [
    {
     "name": "stdout",
     "output_type": "stream",
     "text": [
      "1.3.3\n",
      "0.5.2\n",
      "4.1.2\n"
     ]
    }
   ],
   "source": [
    "import pandas as pd\n",
    "import konlpy\n",
    "import gensim\n",
    "import urllib.request\n",
    "%matplotlib inline\n",
    "import re\n",
    "from tensorflow import keras\n",
    "from tensorflow.keras.preprocessing.text import Tokenizer\n",
    "import numpy as np\n",
    "from tensorflow.keras.preprocessing.sequence import pad_sequences\n",
    "\n",
    "print(pd.__version__)\n",
    "print(konlpy.__version__)\n",
    "print(gensim.__version__)"
   ]
  },
  {
   "cell_type": "code",
   "execution_count": 14,
   "id": "efbdb77f",
   "metadata": {},
   "outputs": [
    {
     "data": {
      "text/html": [
       "<div>\n",
       "<style scoped>\n",
       "    .dataframe tbody tr th:only-of-type {\n",
       "        vertical-align: middle;\n",
       "    }\n",
       "\n",
       "    .dataframe tbody tr th {\n",
       "        vertical-align: top;\n",
       "    }\n",
       "\n",
       "    .dataframe thead th {\n",
       "        text-align: right;\n",
       "    }\n",
       "</style>\n",
       "<table border=\"1\" class=\"dataframe\">\n",
       "  <thead>\n",
       "    <tr style=\"text-align: right;\">\n",
       "      <th></th>\n",
       "      <th>id</th>\n",
       "      <th>document</th>\n",
       "      <th>label</th>\n",
       "    </tr>\n",
       "  </thead>\n",
       "  <tbody>\n",
       "    <tr>\n",
       "      <th>0</th>\n",
       "      <td>9976970</td>\n",
       "      <td>아 더빙.. 진짜 짜증나네요 목소리</td>\n",
       "      <td>0</td>\n",
       "    </tr>\n",
       "    <tr>\n",
       "      <th>1</th>\n",
       "      <td>3819312</td>\n",
       "      <td>흠...포스터보고 초딩영화줄....오버연기조차 가볍지 않구나</td>\n",
       "      <td>1</td>\n",
       "    </tr>\n",
       "    <tr>\n",
       "      <th>2</th>\n",
       "      <td>10265843</td>\n",
       "      <td>너무재밓었다그래서보는것을추천한다</td>\n",
       "      <td>0</td>\n",
       "    </tr>\n",
       "    <tr>\n",
       "      <th>3</th>\n",
       "      <td>9045019</td>\n",
       "      <td>교도소 이야기구먼 ..솔직히 재미는 없다..평점 조정</td>\n",
       "      <td>0</td>\n",
       "    </tr>\n",
       "    <tr>\n",
       "      <th>4</th>\n",
       "      <td>6483659</td>\n",
       "      <td>사이몬페그의 익살스런 연기가 돋보였던 영화!스파이더맨에서 늙어보이기만 했던 커스틴 ...</td>\n",
       "      <td>1</td>\n",
       "    </tr>\n",
       "  </tbody>\n",
       "</table>\n",
       "</div>"
      ],
      "text/plain": [
       "         id                                           document  label\n",
       "0   9976970                                아 더빙.. 진짜 짜증나네요 목소리      0\n",
       "1   3819312                  흠...포스터보고 초딩영화줄....오버연기조차 가볍지 않구나      1\n",
       "2  10265843                                  너무재밓었다그래서보는것을추천한다      0\n",
       "3   9045019                      교도소 이야기구먼 ..솔직히 재미는 없다..평점 조정      0\n",
       "4   6483659  사이몬페그의 익살스런 연기가 돋보였던 영화!스파이더맨에서 늙어보이기만 했던 커스틴 ...      1"
      ]
     },
     "execution_count": 14,
     "metadata": {},
     "output_type": "execute_result"
    }
   ],
   "source": [
    "# 데이터를 읽어봅시다. \n",
    "train_data = pd.read_table('~/aiffel/sentiment_classification/data/ratings_train.txt')\n",
    "test_data = pd.read_table('~/aiffel/sentiment_classification/data/ratings_test.txt')\n",
    "\n",
    "train_data.head()"
   ]
  },
  {
   "cell_type": "markdown",
   "id": "d325c746",
   "metadata": {},
   "source": [
    "### 데이터 불러오기 함수 정의 및 데이터셋 분리 1"
   ]
  },
  {
   "cell_type": "code",
   "execution_count": 15,
   "id": "d779fb80",
   "metadata": {},
   "outputs": [],
   "source": [
    "from konlpy.tag import Mecab\n",
    "import numpy as np\n",
    "from collections import Counter\n",
    "\n",
    "tokenizer = Mecab()\n",
    "stopwords = ['의','가','이','은','들','는','좀','잘','걍','과','도','를','으로','자','에','와','한','하다']\n",
    "\n",
    "def load_data(train_data, test_data, num_words=10000):\n",
    "    train_data.drop_duplicates(subset=['document'], inplace=True)\n",
    "    train_data = train_data.dropna(how = 'any') \n",
    "    test_data.drop_duplicates(subset=['document'], inplace=True)\n",
    "    test_data = test_data.dropna(how = 'any') \n",
    "    \n",
    "    X_train = []\n",
    "    for sentence in train_data['document']:\n",
    "        temp_X = tokenizer.morphs(sentence) # 토큰화\n",
    "        temp_X = [word for word in temp_X if not word in stopwords] # 불용어 제거\n",
    "        X_train.append(temp_X)\n",
    "\n",
    "    X_test = []\n",
    "    for sentence in test_data['document']:\n",
    "        temp_X = tokenizer.morphs(sentence) # 토큰화\n",
    "        temp_X = [word for word in temp_X if not word in stopwords] # 불용어 제거\n",
    "        X_test.append(temp_X)\n",
    "    \n",
    "    words = np.concatenate(X_train).tolist()\n",
    "    counter = Counter(words)\n",
    "    counter = counter.most_common(10000-4)\n",
    "    vocab = ['<PAD>', '<BOS>', '<UNK>', '<UNUSED>'] + [key for key, _ in counter]\n",
    "    word_to_index = {word:index for index, word in enumerate(vocab)}\n",
    "        \n",
    "    def wordlist_to_indexlist(wordlist):\n",
    "        return [word_to_index[word] if word in word_to_index else word_to_index['<UNK>'] for word in wordlist]\n",
    "        \n",
    "    X_train = list(map(wordlist_to_indexlist, X_train))\n",
    "    X_test = list(map(wordlist_to_indexlist, X_test))\n",
    "        \n",
    "    return X_train, np.array(list(train_data['label'])), X_test, np.array(list(test_data['label'])), word_to_index\n",
    "    \n",
    "X_train, y_train, X_test, y_test, word_to_index = load_data(train_data, test_data) "
   ]
  },
  {
   "cell_type": "markdown",
   "id": "9f2950bb",
   "metadata": {},
   "source": [
    "### 단어와 인덱스 간의 전환과 인코딩/디코딩 함수 정의"
   ]
  },
  {
   "cell_type": "code",
   "execution_count": 16,
   "id": "e7e61b97",
   "metadata": {},
   "outputs": [],
   "source": [
    "# 문장 1개를 활용할 딕셔너리와 함께 주면, 단어 인덱스 리스트 벡터로 변환해 주는 함수입니다. \n",
    "# 단, 모든 문장은 <BOS>로 시작하는 것으로 합니다. \n",
    "\n",
    "# 단어들을 하나씩 채워 봅니다. 채우는 순서는 일단 임의로 하였습니다. 그러나 사실 순서는 중요하지 않습니다. \n",
    "# <BOS>, <PAD>, <UNK>는 관례적으로 딕셔너리 맨 앞에 넣어줍니다. \n",
    "\n",
    "word_to_index[\"<PAD>\"]=0\n",
    "word_to_index[\"<BOS>\"]=1\n",
    "word_to_index[\"<UNK>\"]=2\n",
    "word_to_index[\"<UNUSED>\"]=3\n",
    "\n",
    "index_to_word={}\n",
    "index_to_word = {index:word for word, index in word_to_index.items()}\n",
    "\n",
    "index_to_word[0]='<PAD>'  # 패딩용 단어\n",
    "index_to_word[1]='<BOS>'  # 문장의 시작지점\n",
    "index_to_word[2]='<UNK>'# 사전에 없는(Unknown) 단어\n",
    "index_to_word[3]='<UNUSED>'\n",
    "\n",
    "def get_encoded_sentence(sentence, word_to_index):\n",
    "    return [word_to_index['<BOS>']]+[word_to_index[word] if word in word_to_index else word_to_index['<UNK>'] for word in sentence.split()]\n",
    "\n",
    "# 여러 개의 문장 리스트를 한꺼번에 단어 인덱스 리스트 벡터로 encode해 주는 함수입니다. \n",
    "def get_encoded_sentences(sentences, word_to_index):\n",
    "    return [get_encoded_sentence(sentence, word_to_index) for sentence in sentences]\n",
    "\n",
    "# 숫자 벡터로 encode된 문장을 원래대로 decode하는 함수입니다. \n",
    "def get_decoded_sentence(encoded_sentence, index_to_word):\n",
    "    return ' '.join(index_to_word[index] if index in index_to_word else '<UNK>' for index in encoded_sentence[1:])  #[1:]를 통해 <BOS>를 제외\n",
    "\n",
    "# 여러 개의 숫자 벡터로 encode된 문장을 한꺼번에 원래대로 decode하는 함수입니다. \n",
    "def get_decoded_sentences(encoded_sentences, index_to_word):\n",
    "    return [get_decoded_sentence(encoded_sentence, index_to_word) for encoded_sentence in encoded_sentences]"
   ]
  },
  {
   "cell_type": "code",
   "execution_count": 17,
   "id": "9cf50ea1",
   "metadata": {},
   "outputs": [
    {
     "name": "stdout",
     "output_type": "stream",
     "text": [
      "문장길이 평균 :  15.96940191154864\n",
      "문장길이 최대 :  116\n",
      "문장길이 표준편차 :  12.843571191092\n",
      "pad_sequences maxlen :  41\n",
      "전체 문장의 0.9342988343341575%가 maxlen 설정값 이내에 포함됩니다. \n"
     ]
    }
   ],
   "source": [
    "total_data_text = list(X_train) + list(X_test)\n",
    "# 텍스트데이터 문장길이의 리스트를 생성한 후\n",
    "num_tokens = [len(tokens) for tokens in total_data_text]\n",
    "num_tokens = np.array(num_tokens)\n",
    "# 문장길이의 평균값, 최대값, 표준편차를 계산해 본다. \n",
    "print('문장길이 평균 : ', np.mean(num_tokens))\n",
    "print('문장길이 최대 : ', np.max(num_tokens))\n",
    "print('문장길이 표준편차 : ', np.std(num_tokens))\n",
    "\n",
    "# 예를들어, 최대 길이를 (평균 + 2*표준편차)로 한다면,  \n",
    "max_tokens = np.mean(num_tokens) + 2 * np.std(num_tokens)\n",
    "maxlen = int(max_tokens)\n",
    "print('pad_sequences maxlen : ', maxlen)\n",
    "print('전체 문장의 {}%가 maxlen 설정값 이내에 포함됩니다. '.format(np.sum(num_tokens < max_tokens) / len(num_tokens)))"
   ]
  },
  {
   "cell_type": "code",
   "execution_count": 18,
   "id": "1d09408c",
   "metadata": {},
   "outputs": [
    {
     "name": "stdout",
     "output_type": "stream",
     "text": [
      "(146182, 41)\n"
     ]
    }
   ],
   "source": [
    "import tensorflow as tf\n",
    "\n",
    "x_train = tf.keras.preprocessing.sequence.pad_sequences(X_train,\n",
    "                                                        value=word_to_index[\"<PAD>\"],\n",
    "                                                        padding='pre',\n",
    "                                                        maxlen=maxlen)\n",
    "\n",
    "x_test = tf.keras.preprocessing.sequence.pad_sequences(X_test,\n",
    "                                                       value=word_to_index[\"<PAD>\"],\n",
    "                                                       padding='pre', \n",
    "                                                       maxlen=maxlen)\n",
    "\n",
    "print(x_train.shape)"
   ]
  },
  {
   "cell_type": "markdown",
   "id": "98b79b6e",
   "metadata": {},
   "source": [
    "## RNN(LSTM) Model"
   ]
  },
  {
   "cell_type": "code",
   "execution_count": 19,
   "id": "ab12e7e8",
   "metadata": {},
   "outputs": [
    {
     "name": "stdout",
     "output_type": "stream",
     "text": [
      "Model: \"sequential\"\n",
      "_________________________________________________________________\n",
      "Layer (type)                 Output Shape              Param #   \n",
      "=================================================================\n",
      "embedding (Embedding)        (None, None, 15)          15000     \n",
      "_________________________________________________________________\n",
      "lstm (LSTM)                  (None, 8)                 768       \n",
      "_________________________________________________________________\n",
      "dense (Dense)                (None, 8)                 72        \n",
      "_________________________________________________________________\n",
      "dense_1 (Dense)              (None, 1)                 9         \n",
      "=================================================================\n",
      "Total params: 15,849\n",
      "Trainable params: 15,849\n",
      "Non-trainable params: 0\n",
      "_________________________________________________________________\n"
     ]
    }
   ],
   "source": [
    "vocab_size = 1000  # 어휘 사전의 크기입니다(10개의 단어)\n",
    "word_vector_dim = 15  # 단어 하나를 표현하는 임베딩 벡터의 차원수입니다. \n",
    "\n",
    "model = tf.keras.Sequential()\n",
    "model.add(tf.keras.layers.Embedding(vocab_size, word_vector_dim, input_shape=(None,)))\n",
    "model.add(tf.keras.layers.LSTM(8))   # 가장 널리 쓰이는 RNN인 LSTM 레이어를 사용하였습니다. 이때 LSTM state 벡터의 차원수는 8로 하였습니다. (변경 가능)\n",
    "model.add(tf.keras.layers.Dense(8, activation='relu'))\n",
    "model.add(tf.keras.layers.Dense(1, activation='sigmoid'))  # 최종 출력은 긍정/부정을 나타내는 1dim 입니다.\n",
    "\n",
    "model.summary()"
   ]
  },
  {
   "cell_type": "markdown",
   "id": "b46af1f1",
   "metadata": {},
   "source": [
    "### 데이터셋 분리 2"
   ]
  },
  {
   "cell_type": "code",
   "execution_count": 20,
   "id": "18c6133b",
   "metadata": {},
   "outputs": [
    {
     "name": "stdout",
     "output_type": "stream",
     "text": [
      "(36000, 41)\n",
      "(36000, 41)\n"
     ]
    }
   ],
   "source": [
    "\n",
    "x_val = x_train[:36000]   \n",
    "y_val = y_train[:36000]\n",
    "\n",
    "partial_x_train = x_train[110182:]  \n",
    "partial_y_train = y_train[110182:]\n",
    "\n",
    "print(x_val.shape)\n",
    "print(partial_x_train.shape)"
   ]
  },
  {
   "cell_type": "code",
   "execution_count": 21,
   "id": "52059d9c",
   "metadata": {},
   "outputs": [
    {
     "name": "stdout",
     "output_type": "stream",
     "text": [
      "Epoch 1/20\n",
      "71/71 [==============================] - 24s 14ms/step - loss: 0.6788 - accuracy: 0.5743 - val_loss: 0.6356 - val_accuracy: 0.6699\n",
      "Epoch 2/20\n",
      "71/71 [==============================] - 1s 7ms/step - loss: 0.5659 - accuracy: 0.7640 - val_loss: 0.5208 - val_accuracy: 0.8027\n",
      "Epoch 3/20\n",
      "71/71 [==============================] - 1s 7ms/step - loss: 0.4955 - accuracy: 0.8051 - val_loss: 0.4725 - val_accuracy: 0.8098\n",
      "Epoch 4/20\n",
      "71/71 [==============================] - 1s 7ms/step - loss: 0.4484 - accuracy: 0.8124 - val_loss: 0.4381 - val_accuracy: 0.8104\n",
      "Epoch 5/20\n",
      "71/71 [==============================] - 1s 8ms/step - loss: 0.4237 - accuracy: 0.8160 - val_loss: 0.4226 - val_accuracy: 0.8121\n",
      "Epoch 6/20\n",
      "71/71 [==============================] - 1s 8ms/step - loss: 0.4084 - accuracy: 0.8204 - val_loss: 0.4156 - val_accuracy: 0.8116\n",
      "Epoch 7/20\n",
      "71/71 [==============================] - 1s 7ms/step - loss: 0.4015 - accuracy: 0.8206 - val_loss: 0.4100 - val_accuracy: 0.8137\n",
      "Epoch 8/20\n",
      "71/71 [==============================] - 1s 8ms/step - loss: 0.3968 - accuracy: 0.8225 - val_loss: 0.4132 - val_accuracy: 0.8117\n",
      "Epoch 9/20\n",
      "71/71 [==============================] - 1s 7ms/step - loss: 0.3938 - accuracy: 0.8236 - val_loss: 0.4062 - val_accuracy: 0.8133\n",
      "Epoch 10/20\n",
      "71/71 [==============================] - 1s 8ms/step - loss: 0.3893 - accuracy: 0.8259 - val_loss: 0.4052 - val_accuracy: 0.8140\n",
      "Epoch 11/20\n",
      "71/71 [==============================] - 1s 7ms/step - loss: 0.3866 - accuracy: 0.8261 - val_loss: 0.4018 - val_accuracy: 0.8151\n",
      "Epoch 12/20\n",
      "71/71 [==============================] - 1s 7ms/step - loss: 0.3843 - accuracy: 0.8268 - val_loss: 0.4036 - val_accuracy: 0.8147\n",
      "Epoch 13/20\n",
      "71/71 [==============================] - 1s 7ms/step - loss: 0.3817 - accuracy: 0.8285 - val_loss: 0.4002 - val_accuracy: 0.8158\n",
      "Epoch 14/20\n",
      "71/71 [==============================] - 1s 7ms/step - loss: 0.3788 - accuracy: 0.8281 - val_loss: 0.3991 - val_accuracy: 0.8149\n",
      "Epoch 15/20\n",
      "71/71 [==============================] - 1s 7ms/step - loss: 0.3765 - accuracy: 0.8300 - val_loss: 0.3962 - val_accuracy: 0.8163\n",
      "Epoch 16/20\n",
      "71/71 [==============================] - 1s 7ms/step - loss: 0.3736 - accuracy: 0.8319 - val_loss: 0.3966 - val_accuracy: 0.8164\n",
      "Epoch 17/20\n",
      "71/71 [==============================] - 1s 7ms/step - loss: 0.3705 - accuracy: 0.8321 - val_loss: 0.3962 - val_accuracy: 0.8170\n",
      "Epoch 18/20\n",
      "71/71 [==============================] - 1s 7ms/step - loss: 0.3683 - accuracy: 0.8325 - val_loss: 0.3959 - val_accuracy: 0.8166\n",
      "Epoch 19/20\n",
      "71/71 [==============================] - 1s 7ms/step - loss: 0.3652 - accuracy: 0.8337 - val_loss: 0.3946 - val_accuracy: 0.8164\n",
      "Epoch 20/20\n",
      "71/71 [==============================] - 1s 7ms/step - loss: 0.3617 - accuracy: 0.8364 - val_loss: 0.3956 - val_accuracy: 0.8170\n"
     ]
    }
   ],
   "source": [
    "model.compile(optimizer='adam',\n",
    "              loss='binary_crossentropy',\n",
    "              metrics=['accuracy'])\n",
    "              \n",
    "epochs=20  # 몇 epoch를 훈련하면 좋을지 결과를 보면서 바꾸어 봅시다. \n",
    "\n",
    "history = model.fit(partial_x_train,\n",
    "                    partial_y_train,\n",
    "                    epochs=epochs,\n",
    "                    batch_size=512,\n",
    "                    validation_data=(x_val, y_val),\n",
    "                    verbose=1)"
   ]
  },
  {
   "cell_type": "code",
   "execution_count": 22,
   "id": "c1a1c725",
   "metadata": {},
   "outputs": [
    {
     "name": "stdout",
     "output_type": "stream",
     "text": [
      "dict_keys(['loss', 'accuracy', 'val_loss', 'val_accuracy'])\n"
     ]
    }
   ],
   "source": [
    "history_dict = history.history\n",
    "print(history_dict.keys()) # epoch에 따른 그래프를 그려볼 수 있는 항목들"
   ]
  },
  {
   "cell_type": "code",
   "execution_count": 23,
   "id": "c9260714",
   "metadata": {},
   "outputs": [
    {
     "data": {
      "image/png": "[encoded data removed]",
      "text/plain": [
       "<Figure size 432x288 with 1 Axes>"
      ]
     },
     "metadata": {
      "needs_background": "light"
     },
     "output_type": "display_data"
    }
   ],
   "source": [
    "import matplotlib.pyplot as plt\n",
    "\n",
    "acc = history_dict['accuracy']\n",
    "val_acc = history_dict['val_accuracy']\n",
    "loss = history_dict['loss']\n",
    "val_loss = history_dict['val_loss']\n",
    "\n",
    "epochs = range(1, len(acc) + 1)\n",
    "\n",
    "# \"bo\"는 \"파란색 점\"입니다\n",
    "plt.plot(epochs, loss, 'bo', label='Training loss')\n",
    "# b는 \"파란 실선\"입니다\n",
    "plt.plot(epochs, val_loss, 'b', label='Validation loss')\n",
    "plt.title('Training and validation loss')\n",
    "plt.xlabel('Epochs')\n",
    "plt.ylabel('Loss')\n",
    "plt.legend()\n",
    "\n",
    "plt.show()"
   ]
  },
  {
   "cell_type": "code",
   "execution_count": 24,
   "id": "5380ad8b",
   "metadata": {},
   "outputs": [
    {
     "data": {
      "image/png": "[encoded data removed]",
      "text/plain": [
       "<Figure size 432x288 with 1 Axes>"
      ]
     },
     "metadata": {
      "needs_background": "light"
     },
     "output_type": "display_data"
    }
   ],
   "source": [
    "plt.clf()   # 그림을 초기화합니다\n",
    "\n",
    "plt.plot(epochs, acc, 'bo', label='Training acc')\n",
    "plt.plot(epochs, val_acc, 'b', label='Validation acc')\n",
    "plt.title('Training and validation accuracy')\n",
    "plt.xlabel('Epochs')\n",
    "plt.ylabel('Accuracy')\n",
    "plt.legend()\n",
    "\n",
    "plt.show()"
   ]
  },
  {
   "cell_type": "markdown",
   "id": "c22b52c2",
   "metadata": {},
   "source": [
    "## 1D-CNN Model"
   ]
  },
  {
   "cell_type": "code",
   "execution_count": 25,
   "id": "7339c24d",
   "metadata": {},
   "outputs": [
    {
     "name": "stdout",
     "output_type": "stream",
     "text": [
      "Model: \"sequential_1\"\n",
      "_________________________________________________________________\n",
      "Layer (type)                 Output Shape              Param #   \n",
      "=================================================================\n",
      "embedding_1 (Embedding)      (None, None, 15)          15000     \n",
      "_________________________________________________________________\n",
      "conv1d (Conv1D)              (None, None, 16)          1696      \n",
      "_________________________________________________________________\n",
      "max_pooling1d (MaxPooling1D) (None, None, 16)          0         \n",
      "_________________________________________________________________\n",
      "conv1d_1 (Conv1D)            (None, None, 16)          1808      \n",
      "_________________________________________________________________\n",
      "global_max_pooling1d (Global (None, 16)                0         \n",
      "_________________________________________________________________\n",
      "dense_2 (Dense)              (None, 8)                 136       \n",
      "_________________________________________________________________\n",
      "dense_3 (Dense)              (None, 1)                 9         \n",
      "=================================================================\n",
      "Total params: 18,649\n",
      "Trainable params: 18,649\n",
      "Non-trainable params: 0\n",
      "_________________________________________________________________\n"
     ]
    }
   ],
   "source": [
    "vocab_size = 1000  # 어휘 사전의 크기입니다(10개의 단어)\n",
    "word_vector_dim = 15   # 단어 하나를 표현하는 임베딩 벡터의 차원 수입니다. \n",
    "\n",
    "model = tf.keras.Sequential()\n",
    "model.add(tf.keras.layers.Embedding(vocab_size, word_vector_dim, input_shape=(None,)))\n",
    "model.add(tf.keras.layers.Conv1D(16, 7, activation='relu'))\n",
    "model.add(tf.keras.layers.MaxPooling1D(5))\n",
    "model.add(tf.keras.layers.Conv1D(16, 7, activation='relu'))\n",
    "model.add(tf.keras.layers.GlobalMaxPooling1D())\n",
    "model.add(tf.keras.layers.Dense(8, activation='relu'))\n",
    "model.add(tf.keras.layers.Dense(1, activation='sigmoid'))  # 최종 출력은 긍정/부정을 나타내는 1dim 입니다.\n",
    "\n",
    "model.summary()"
   ]
  },
  {
   "cell_type": "code",
   "execution_count": 26,
   "id": "f322a443",
   "metadata": {},
   "outputs": [
    {
     "name": "stdout",
     "output_type": "stream",
     "text": [
      "Epoch 1/20\n",
      "71/71 [==============================] - 15s 10ms/step - loss: 0.6848 - accuracy: 0.5698 - val_loss: 0.6394 - val_accuracy: 0.7511\n",
      "Epoch 2/20\n",
      "71/71 [==============================] - 0s 7ms/step - loss: 0.5020 - accuracy: 0.7769 - val_loss: 0.4237 - val_accuracy: 0.8053\n",
      "Epoch 3/20\n",
      "71/71 [==============================] - 0s 6ms/step - loss: 0.4052 - accuracy: 0.8156 - val_loss: 0.4055 - val_accuracy: 0.8125\n",
      "Epoch 4/20\n",
      "71/71 [==============================] - 0s 7ms/step - loss: 0.3889 - accuracy: 0.8226 - val_loss: 0.4019 - val_accuracy: 0.8128\n",
      "Epoch 5/20\n",
      "71/71 [==============================] - 0s 6ms/step - loss: 0.3776 - accuracy: 0.8310 - val_loss: 0.3998 - val_accuracy: 0.8132\n",
      "Epoch 6/20\n",
      "71/71 [==============================] - 0s 6ms/step - loss: 0.3683 - accuracy: 0.8336 - val_loss: 0.3985 - val_accuracy: 0.8143\n",
      "Epoch 7/20\n",
      "71/71 [==============================] - 0s 6ms/step - loss: 0.3589 - accuracy: 0.8388 - val_loss: 0.3957 - val_accuracy: 0.8161\n",
      "Epoch 8/20\n",
      "71/71 [==============================] - 0s 6ms/step - loss: 0.3490 - accuracy: 0.8443 - val_loss: 0.3993 - val_accuracy: 0.8144\n",
      "Epoch 9/20\n",
      "71/71 [==============================] - 0s 6ms/step - loss: 0.3400 - accuracy: 0.8506 - val_loss: 0.3965 - val_accuracy: 0.8173\n",
      "Epoch 10/20\n",
      "71/71 [==============================] - 0s 6ms/step - loss: 0.3282 - accuracy: 0.8566 - val_loss: 0.3996 - val_accuracy: 0.8163\n",
      "Epoch 11/20\n",
      "71/71 [==============================] - 0s 6ms/step - loss: 0.3163 - accuracy: 0.8617 - val_loss: 0.4035 - val_accuracy: 0.8147\n",
      "Epoch 12/20\n",
      "71/71 [==============================] - 0s 6ms/step - loss: 0.3044 - accuracy: 0.8690 - val_loss: 0.4113 - val_accuracy: 0.8141\n",
      "Epoch 13/20\n",
      "71/71 [==============================] - 0s 6ms/step - loss: 0.2919 - accuracy: 0.8768 - val_loss: 0.4214 - val_accuracy: 0.8106\n",
      "Epoch 14/20\n",
      "71/71 [==============================] - 0s 6ms/step - loss: 0.2798 - accuracy: 0.8828 - val_loss: 0.4272 - val_accuracy: 0.8109\n",
      "Epoch 15/20\n",
      "71/71 [==============================] - 0s 6ms/step - loss: 0.2680 - accuracy: 0.8884 - val_loss: 0.4426 - val_accuracy: 0.8073\n",
      "Epoch 16/20\n",
      "71/71 [==============================] - 0s 6ms/step - loss: 0.2551 - accuracy: 0.8955 - val_loss: 0.4556 - val_accuracy: 0.8059\n",
      "Epoch 17/20\n",
      "71/71 [==============================] - 0s 7ms/step - loss: 0.2434 - accuracy: 0.9020 - val_loss: 0.4636 - val_accuracy: 0.8050\n",
      "Epoch 18/20\n",
      "71/71 [==============================] - 0s 6ms/step - loss: 0.2300 - accuracy: 0.9081 - val_loss: 0.4839 - val_accuracy: 0.8034\n",
      "Epoch 19/20\n",
      "71/71 [==============================] - 0s 6ms/step - loss: 0.2210 - accuracy: 0.9129 - val_loss: 0.5007 - val_accuracy: 0.7991\n",
      "Epoch 20/20\n",
      "71/71 [==============================] - 0s 7ms/step - loss: 0.2103 - accuracy: 0.9181 - val_loss: 0.5234 - val_accuracy: 0.7975\n"
     ]
    }
   ],
   "source": [
    "model.compile(optimizer='adam',\n",
    "              loss='binary_crossentropy',\n",
    "              metrics=['accuracy'])\n",
    "              \n",
    "epochs=20  # 몇 epoch를 훈련하면 좋을지 결과를 보면서 바꾸어 봅시다. \n",
    "\n",
    "history = model.fit(partial_x_train,\n",
    "                    partial_y_train,\n",
    "                    epochs=epochs,\n",
    "                    batch_size=512,\n",
    "                    validation_data=(x_val, y_val),\n",
    "                    verbose=1)"
   ]
  },
  {
   "cell_type": "code",
   "execution_count": 27,
   "id": "36369e14",
   "metadata": {},
   "outputs": [
    {
     "name": "stdout",
     "output_type": "stream",
     "text": [
      "dict_keys(['loss', 'accuracy', 'val_loss', 'val_accuracy'])\n"
     ]
    }
   ],
   "source": [
    "history_dict = history.history\n",
    "print(history_dict.keys()) # epoch에 따른 그래프를 그려볼 수 있는 항목들"
   ]
  },
  {
   "cell_type": "code",
   "execution_count": 28,
   "id": "32d2f6d3",
   "metadata": {},
   "outputs": [
    {
     "data": {
      "image/png": "[encoded data removed]",
      "text/plain": [
       "<Figure size 432x288 with 1 Axes>"
      ]
     },
     "metadata": {
      "needs_background": "light"
     },
     "output_type": "display_data"
    }
   ],
   "source": [
    "import matplotlib.pyplot as plt\n",
    "\n",
    "acc = history_dict['accuracy']\n",
    "val_acc = history_dict['val_accuracy']\n",
    "loss = history_dict['loss']\n",
    "val_loss = history_dict['val_loss']\n",
    "\n",
    "epochs = range(1, len(acc) + 1)\n",
    "\n",
    "# \"bo\"는 \"파란색 점\"입니다\n",
    "plt.plot(epochs, loss, 'bo', label='Training loss')\n",
    "# b는 \"파란 실선\"입니다\n",
    "plt.plot(epochs, val_loss, 'b', label='Validation loss')\n",
    "plt.title('Training and validation loss')\n",
    "plt.xlabel('Epochs')\n",
    "plt.ylabel('Loss')\n",
    "plt.legend()\n",
    "\n",
    "plt.show()"
   ]
  },
  {
   "cell_type": "code",
   "execution_count": 29,
   "id": "a8b999e4",
   "metadata": {},
   "outputs": [
    {
     "data": {
      "image/png": "[encoded data removed]",
      "text/plain": [
       "<Figure size 432x288 with 1 Axes>"
      ]
     },
     "metadata": {
      "needs_background": "light"
     },
     "output_type": "display_data"
    }
   ],
   "source": [
    "plt.clf()   # 그림을 초기화합니다\n",
    "\n",
    "plt.plot(epochs, acc, 'bo', label='Training acc')\n",
    "plt.plot(epochs, val_acc, 'b', label='Validation acc')\n",
    "plt.title('Training and validation accuracy')\n",
    "plt.xlabel('Epochs')\n",
    "plt.ylabel('Accuracy')\n",
    "plt.legend()\n",
    "\n",
    "plt.show()"
   ]
  },
  {
   "cell_type": "markdown",
   "id": "ea683319",
   "metadata": {},
   "source": [
    "## GlobalMaxPooling1D() Layer Only Model"
   ]
  },
  {
   "cell_type": "code",
   "execution_count": 30,
   "id": "e5ff0965",
   "metadata": {},
   "outputs": [
    {
     "name": "stdout",
     "output_type": "stream",
     "text": [
      "Model: \"sequential_2\"\n",
      "_________________________________________________________________\n",
      "Layer (type)                 Output Shape              Param #   \n",
      "=================================================================\n",
      "embedding_2 (Embedding)      (None, None, 15)          15000     \n",
      "_________________________________________________________________\n",
      "global_max_pooling1d_1 (Glob (None, 15)                0         \n",
      "_________________________________________________________________\n",
      "dense_4 (Dense)              (None, 8)                 128       \n",
      "_________________________________________________________________\n",
      "dense_5 (Dense)              (None, 1)                 9         \n",
      "=================================================================\n",
      "Total params: 15,137\n",
      "Trainable params: 15,137\n",
      "Non-trainable params: 0\n",
      "_________________________________________________________________\n"
     ]
    }
   ],
   "source": [
    "vocab_size = 1000  # 어휘 사전의 크기입니다(10개의 단어)\n",
    "word_vector_dim = 15   # 단어 하나를 표현하는 임베딩 벡터의 차원 수입니다. \n",
    "\n",
    "model = tf.keras.Sequential()\n",
    "model.add(tf.keras.layers.Embedding(vocab_size, word_vector_dim, input_shape=(None,)))\n",
    "model.add(tf.keras.layers.GlobalMaxPooling1D())\n",
    "model.add(tf.keras.layers.Dense(8, activation='relu'))\n",
    "model.add(tf.keras.layers.Dense(1, activation='sigmoid'))  # 최종 출력은 긍정/부정을 나타내는 1dim 입니다.\n",
    "\n",
    "model.summary()"
   ]
  },
  {
   "cell_type": "code",
   "execution_count": 31,
   "id": "93c3d24b",
   "metadata": {},
   "outputs": [
    {
     "name": "stdout",
     "output_type": "stream",
     "text": [
      "Epoch 1/20\n",
      "71/71 [==============================] - 1s 6ms/step - loss: 0.6808 - accuracy: 0.5796 - val_loss: 0.6560 - val_accuracy: 0.7067\n",
      "Epoch 2/20\n",
      "71/71 [==============================] - 0s 5ms/step - loss: 0.6143 - accuracy: 0.7419 - val_loss: 0.5677 - val_accuracy: 0.7639\n",
      "Epoch 3/20\n",
      "71/71 [==============================] - 0s 5ms/step - loss: 0.5292 - accuracy: 0.7861 - val_loss: 0.4960 - val_accuracy: 0.7862\n",
      "Epoch 4/20\n",
      "71/71 [==============================] - 0s 5ms/step - loss: 0.4690 - accuracy: 0.8035 - val_loss: 0.4543 - val_accuracy: 0.7969\n",
      "Epoch 5/20\n",
      "71/71 [==============================] - 0s 5ms/step - loss: 0.4334 - accuracy: 0.8116 - val_loss: 0.4321 - val_accuracy: 0.8014\n",
      "Epoch 6/20\n",
      "71/71 [==============================] - 0s 5ms/step - loss: 0.4127 - accuracy: 0.8180 - val_loss: 0.4213 - val_accuracy: 0.8043\n",
      "Epoch 7/20\n",
      "71/71 [==============================] - 0s 5ms/step - loss: 0.4003 - accuracy: 0.8212 - val_loss: 0.4158 - val_accuracy: 0.8063\n",
      "Epoch 8/20\n",
      "71/71 [==============================] - 0s 5ms/step - loss: 0.3918 - accuracy: 0.8230 - val_loss: 0.4125 - val_accuracy: 0.8084\n",
      "Epoch 9/20\n",
      "71/71 [==============================] - 0s 5ms/step - loss: 0.3853 - accuracy: 0.8257 - val_loss: 0.4104 - val_accuracy: 0.8087\n",
      "Epoch 10/20\n",
      "71/71 [==============================] - 0s 5ms/step - loss: 0.3802 - accuracy: 0.8280 - val_loss: 0.4095 - val_accuracy: 0.8084\n",
      "Epoch 11/20\n",
      "71/71 [==============================] - 0s 5ms/step - loss: 0.3761 - accuracy: 0.8299 - val_loss: 0.4090 - val_accuracy: 0.8089\n",
      "Epoch 12/20\n",
      "71/71 [==============================] - 0s 5ms/step - loss: 0.3728 - accuracy: 0.8313 - val_loss: 0.4086 - val_accuracy: 0.8090\n",
      "Epoch 13/20\n",
      "71/71 [==============================] - 0s 5ms/step - loss: 0.3697 - accuracy: 0.8339 - val_loss: 0.4087 - val_accuracy: 0.8094\n",
      "Epoch 14/20\n",
      "71/71 [==============================] - 0s 5ms/step - loss: 0.3671 - accuracy: 0.8344 - val_loss: 0.4089 - val_accuracy: 0.8096\n",
      "Epoch 15/20\n",
      "71/71 [==============================] - 0s 5ms/step - loss: 0.3647 - accuracy: 0.8361 - val_loss: 0.4090 - val_accuracy: 0.8096\n",
      "Epoch 16/20\n",
      "71/71 [==============================] - 0s 5ms/step - loss: 0.3625 - accuracy: 0.8362 - val_loss: 0.4094 - val_accuracy: 0.8099\n",
      "Epoch 17/20\n",
      "71/71 [==============================] - 0s 5ms/step - loss: 0.3607 - accuracy: 0.8380 - val_loss: 0.4103 - val_accuracy: 0.8104\n",
      "Epoch 18/20\n",
      "71/71 [==============================] - 0s 5ms/step - loss: 0.3589 - accuracy: 0.8383 - val_loss: 0.4105 - val_accuracy: 0.8099\n",
      "Epoch 19/20\n",
      "71/71 [==============================] - 0s 5ms/step - loss: 0.3571 - accuracy: 0.8394 - val_loss: 0.4105 - val_accuracy: 0.8099\n",
      "Epoch 20/20\n",
      "71/71 [==============================] - 0s 5ms/step - loss: 0.3554 - accuracy: 0.8401 - val_loss: 0.4113 - val_accuracy: 0.8094\n"
     ]
    }
   ],
   "source": [
    "model.compile(optimizer='adam',\n",
    "              loss='binary_crossentropy',\n",
    "              metrics=['accuracy'])\n",
    "              \n",
    "epochs=20  # 몇 epoch를 훈련하면 좋을지 결과를 보면서 바꾸어 봅시다. \n",
    "\n",
    "history = model.fit(partial_x_train,\n",
    "                    partial_y_train,\n",
    "                    epochs=epochs,\n",
    "                    batch_size=512,\n",
    "                    validation_data=(x_val, y_val),\n",
    "                    verbose=1)"
   ]
  },
  {
   "cell_type": "code",
   "execution_count": 32,
   "id": "61e0ac54",
   "metadata": {},
   "outputs": [
    {
     "name": "stdout",
     "output_type": "stream",
     "text": [
      "dict_keys(['loss', 'accuracy', 'val_loss', 'val_accuracy'])\n"
     ]
    }
   ],
   "source": [
    "history_dict = history.history\n",
    "print(history_dict.keys()) # epoch에 따른 그래프를 그려볼 수 있는 항목들"
   ]
  },
  {
   "cell_type": "code",
   "execution_count": 33,
   "id": "b6518f79",
   "metadata": {},
   "outputs": [
    {
     "data": {
      "image/png": "[encoded data removed]",
      "text/plain": [
       "<Figure size 432x288 with 1 Axes>"
      ]
     },
     "metadata": {
      "needs_background": "light"
     },
     "output_type": "display_data"
    }
   ],
   "source": [
    "import matplotlib.pyplot as plt\n",
    "\n",
    "acc = history_dict['accuracy']\n",
    "val_acc = history_dict['val_accuracy']\n",
    "loss = history_dict['loss']\n",
    "val_loss = history_dict['val_loss']\n",
    "\n",
    "epochs = range(1, len(acc) + 1)\n",
    "\n",
    "# \"bo\"는 \"파란색 점\"입니다\n",
    "plt.plot(epochs, loss, 'bo', label='Training loss')\n",
    "# b는 \"파란 실선\"입니다\n",
    "plt.plot(epochs, val_loss, 'b', label='Validation loss')\n",
    "plt.title('Training and validation loss')\n",
    "plt.xlabel('Epochs')\n",
    "plt.ylabel('Loss')\n",
    "plt.legend()\n",
    "\n",
    "plt.show()"
   ]
  },
  {
   "cell_type": "code",
   "execution_count": 34,
   "id": "1c28e8aa",
   "metadata": {},
   "outputs": [
    {
     "data": {
      "image/png": "[encoded data removed]",
      "text/plain": [
       "<Figure size 432x288 with 1 Axes>"
      ]
     },
     "metadata": {
      "needs_background": "light"
     },
     "output_type": "display_data"
    }
   ],
   "source": [
    "plt.clf()   # 그림을 초기화합니다\n",
    "\n",
    "plt.plot(epochs, acc, 'bo', label='Training acc')\n",
    "plt.plot(epochs, val_acc, 'b', label='Validation acc')\n",
    "plt.title('Training and validation accuracy')\n",
    "plt.xlabel('Epochs')\n",
    "plt.ylabel('Accuracy')\n",
    "plt.legend()\n",
    "\n",
    "plt.show()"
   ]
  },
  {
   "cell_type": "markdown",
   "id": "f0afa4ff",
   "metadata": {},
   "source": [
    "## 모델 결과 비교 (표와 그래프)"
   ]
  },
  {
   "cell_type": "markdown",
   "id": "17dc8acd",
   "metadata": {},
   "source": [
    "| Model | loss | accuracy | val_loss | val_accuracy |\n",
    "|:---|:---:|:---:|:---:|:---:|\n",
    "| RNN(LSTM) | 0.3617 | 0.8364 | **0.3956** | **0.8170** |\n",
    "| 1D-CNN | **0.2103** | **0.9181** | 0.5234 | 0.7975 |\n",
    "|GlobalMaxPooling 1D()Layer Only | 0.3554 | 0.8401 | 0.4113 | 0.8094 |"
   ]
  },
  {
   "cell_type": "code",
   "execution_count": 53,
   "id": "8c3761dc",
   "metadata": {
    "scrolled": false
   },
   "outputs": [
    {
     "data": {
      "text/html": [
       "<div>\n",
       "<style scoped>\n",
       "    .dataframe tbody tr th:only-of-type {\n",
       "        vertical-align: middle;\n",
       "    }\n",
       "\n",
       "    .dataframe tbody tr th {\n",
       "        vertical-align: top;\n",
       "    }\n",
       "\n",
       "    .dataframe thead th {\n",
       "        text-align: right;\n",
       "    }\n",
       "</style>\n",
       "<table border=\"1\" class=\"dataframe\">\n",
       "  <thead>\n",
       "    <tr style=\"text-align: right;\">\n",
       "      <th></th>\n",
       "      <th>Model</th>\n",
       "      <th>Loss</th>\n",
       "      <th>Accuracy</th>\n",
       "    </tr>\n",
       "  </thead>\n",
       "  <tbody>\n",
       "    <tr>\n",
       "      <th>RNN</th>\n",
       "      <td>RNN(LSTM)</td>\n",
       "      <td>0.3617</td>\n",
       "      <td>0.8364</td>\n",
       "    </tr>\n",
       "    <tr>\n",
       "      <th>CNN</th>\n",
       "      <td>1D-CNN</td>\n",
       "      <td>0.2103</td>\n",
       "      <td>0.9181</td>\n",
       "    </tr>\n",
       "    <tr>\n",
       "      <th>GlobalMaxPooling</th>\n",
       "      <td>GlobalMaxPooling</td>\n",
       "      <td>0.3554</td>\n",
       "      <td>0.8401</td>\n",
       "    </tr>\n",
       "  </tbody>\n",
       "</table>\n",
       "</div>"
      ],
      "text/plain": [
       "                             Model    Loss  Accuracy\n",
       "RNN                      RNN(LSTM)  0.3617    0.8364\n",
       "CNN                         1D-CNN  0.2103    0.9181\n",
       "GlobalMaxPooling  GlobalMaxPooling  0.3554    0.8401"
      ]
     },
     "execution_count": 53,
     "metadata": {},
     "output_type": "execute_result"
    },
    {
     "data": {
      "image/png": "[encoded data removed]",
      "text/plain": [
       "<Figure size 720x360 with 1 Axes>"
      ]
     },
     "metadata": {
      "needs_background": "light"
     },
     "output_type": "display_data"
    }
   ],
   "source": [
    "embedding_result_dict = {\"Model\":['RNN(LSTM)','1D-CNN','GlobalMaxPooling'],\"Loss\":[0.3617,0.2103,0.3554],\n",
    "                        \"Accuracy\":[0.8364,0.9181,0.8401]}    \n",
    "embedding_result_df = pd.DataFrame(embedding_result_dict, index=['RNN', 'CNN', 'GlobalMaxPooling'])\n",
    "embedding_result_df.plot.barh(figsize=(10,5))\n",
    "embedding_result_df"
   ]
  },
  {
   "cell_type": "code",
   "execution_count": 35,
   "id": "7edc9d12",
   "metadata": {},
   "outputs": [
    {
     "name": "stdout",
     "output_type": "stream",
     "text": [
      "(1000, 15)\n"
     ]
    }
   ],
   "source": [
    "embedding_layer = model.layers[0]\n",
    "weights = embedding_layer.get_weights()[0]\n",
    "print(weights.shape)    # shape: (vocab_size, embedding_dim)"
   ]
  },
  {
   "cell_type": "markdown",
   "id": "c92777e2",
   "metadata": {},
   "source": [
    "## 영어 임베딩"
   ]
  },
  {
   "cell_type": "code",
   "execution_count": 36,
   "id": "1c62c160",
   "metadata": {},
   "outputs": [],
   "source": [
    "import os\n",
    "# 학습한 Embedding 파라미터를 파일에 써서 저장합니다. \n",
    "word2vec_file_path = os.getenv('HOME')+'/aiffel/sentiment_classification/data/word2vec.txt'\n",
    "f = open(word2vec_file_path, 'w')\n",
    "f.write('{} {}\\n'.format(vocab_size-4, word_vector_dim))  # 몇개의 벡터를 얼마 사이즈로 기재할지 타이틀을 씁니다.\n",
    "\n",
    "# 단어 개수(에서 특수문자 4개는 제외하고)만큼의 워드 벡터를 파일에 기록합니다. \n",
    "vectors = model.get_weights()[0]\n",
    "for i in range(4,vocab_size):\n",
    "    f.write('{} {}\\n'.format(index_to_word[i], ' '.join(map(str, list(vectors[i, :])))))\n",
    "f.close()"
   ]
  },
  {
   "cell_type": "code",
   "execution_count": 37,
   "id": "d2dc5828",
   "metadata": {},
   "outputs": [],
   "source": [
    "from gensim.test.utils import lee_corpus_list\n",
    "from gensim.models import Word2Vec\n",
    "model = Word2Vec(lee_corpus_list, vector_size=15, epochs=71)\n",
    "word_vectors = model.wv"
   ]
  },
  {
   "cell_type": "code",
   "execution_count": 38,
   "id": "57210dad",
   "metadata": {},
   "outputs": [],
   "source": [
    "from gensim.models import KeyedVectors\n",
    "word_vectors.save('vectors.kv')\n",
    "reloaded_word_vectors = KeyedVectors.load('vectors.kv')"
   ]
  },
  {
   "cell_type": "code",
   "execution_count": 39,
   "id": "5b1f01c6",
   "metadata": {
    "scrolled": true
   },
   "outputs": [
    {
     "name": "stdout",
     "output_type": "stream",
     "text": [
      "[==================================================] 100.0% 128.1/128.1MB downloaded\n",
      "queen: 0.7699\n"
     ]
    }
   ],
   "source": [
    "import gensim.downloader as api\n",
    "word_vectors = api.load(\"glove-wiki-gigaword-100\")  # load pre-trained word-vectors from gensim-data\n",
    "# Check the \"most similar words\", using the default \"cosine similarity\" measure.\n",
    "result = word_vectors.most_similar(positive=['woman','king'], negative=['man'])\n",
    "most_similar_key, similarity = result[0]  # look at the first match\n",
    "print(f\"{most_similar_key}: {similarity:.4f}\")"
   ]
  },
  {
   "cell_type": "markdown",
   "id": "064cceab",
   "metadata": {},
   "source": [
    "## 한국어 임베딩"
   ]
  },
  {
   "cell_type": "code",
   "execution_count": 40,
   "id": "828b9d34",
   "metadata": {},
   "outputs": [],
   "source": [
    "from gensim.models import KeyedVectors\n",
    "\n",
    "word2vec_path = os.getenv('HOME')+'/data/word2vec_ko.model'\n",
    "word_vectors = KeyedVectors.load(word2vec_path)\n",
    "vector = word_vectors.wv['끝']\n",
    "\n",
    "import tempfile\n",
    "\n",
    "with tempfile.NamedTemporaryFile(prefix='gensim-model-', delete=False) as tmp:\n",
    "    temporary_filepath = tmp.name\n",
    "    model.save(temporary_filepath)   "
   ]
  },
  {
   "cell_type": "code",
   "execution_count": 41,
   "id": "6c8c81c5",
   "metadata": {},
   "outputs": [
    {
     "name": "stdout",
     "output_type": "stream",
     "text": [
      "사랑과 행복의 코사인 유사도 : 0.7550067901611328\n",
      "사랑과 끝의 코사인 유사도 : 0.1875794529914856\n"
     ]
    }
   ],
   "source": [
    "from gensim.models.keyedvectors import Word2VecKeyedVectors\n",
    "word_vectors = Word2VecKeyedVectors.load(word2vec_path)\n",
    "\n",
    "from numpy import dot\n",
    "from numpy.linalg import norm\n",
    "import numpy as np\n",
    "\n",
    "vector_1 = word_vectors.wv['사랑']\n",
    "vector_2 = word_vectors.wv['행복']\n",
    "vector_3 = word_vectors.wv['끝']\n",
    "\n",
    "def cos_sim(A, B):\n",
    "    return dot(A, B)/(norm(A)*norm(B))\n",
    "  \n",
    "print('{}과 {}의 코사인 유사도 : {}'.format('사랑','행복',cos_sim(vector_1,vector_2)))\n",
    "print('{}과 {}의 코사인 유사도 : {}'.format('사랑','끝',cos_sim(vector_1,vector_3)))"
   ]
  },
  {
   "cell_type": "code",
   "execution_count": 42,
   "id": "e16c3b79",
   "metadata": {},
   "outputs": [
    {
     "name": "stdout",
     "output_type": "stream",
     "text": [
      "토끼: 0.8526\n"
     ]
    }
   ],
   "source": [
    "import gensim \n",
    "from gensim.models import KeyedVectors\n",
    "word2vec_path = os.getenv('HOME')+'/data/word2vec_ko.model'\n",
    "word2vec = gensim.models.Word2Vec.load(word2vec_path)\n",
    "result = word2vec.wv.most_similar(\"고양이\") \n",
    "most_similar_key, similarity = result[0]  \n",
    "print(f\"{most_similar_key}: {similarity:.4f}\")"
   ]
  },
  {
   "cell_type": "markdown",
   "id": "a32e4718",
   "metadata": {},
   "source": [
    "## word2vec을 이용한 모델 성능 향상 훈련"
   ]
  },
  {
   "cell_type": "code",
   "execution_count": 43,
   "id": "7ade2141",
   "metadata": {},
   "outputs": [],
   "source": [
    "from tensorflow.keras.initializers import Constant\n",
    "\n",
    "voca_size = 10000\n",
    "word_vec_dim = 100\n",
    "embedding_matrix = np.random.rand(voca_size, word_vec_dim)\n",
    "\n",
    "for i in range(4,voca_size):\n",
    "    if index_to_word[i] in word2vec.wv :\n",
    "        embedding_matrix[i] = word2vec.wv[index_to_word[i]]"
   ]
  },
  {
   "cell_type": "code",
   "execution_count": 49,
   "id": "f6b9ac9f",
   "metadata": {},
   "outputs": [
    {
     "name": "stdout",
     "output_type": "stream",
     "text": [
      "Model: \"sequential_3\"\n",
      "_________________________________________________________________\n",
      "Layer (type)                 Output Shape              Param #   \n",
      "=================================================================\n",
      "embedding_3 (Embedding)      (None, 41, 100)           1000000   \n",
      "_________________________________________________________________\n",
      "lstm_1 (LSTM)                (None, 8)                 3488      \n",
      "_________________________________________________________________\n",
      "dense_6 (Dense)              (None, 8)                 72        \n",
      "_________________________________________________________________\n",
      "dense_7 (Dense)              (None, 1)                 9         \n",
      "=================================================================\n",
      "Total params: 1,003,569\n",
      "Trainable params: 1,003,569\n",
      "Non-trainable params: 0\n",
      "_________________________________________________________________\n"
     ]
    }
   ],
   "source": [
    "model = tf.keras.Sequential()\n",
    "model.add(tf.keras.layers.Embedding(voca_size, word_vec_dim, embeddings_initializer = Constant(embedding_matrix),\n",
    "                                   input_length = maxlen, trainable = True))\n",
    "model.add(tf.keras.layers.LSTM(8))   \n",
    "model.add(tf.keras.layers.Dense(8, activation='relu'))\n",
    "model.add(tf.keras.layers.Dense(1, activation='sigmoid')) \n",
    "\n",
    "model.summary()"
   ]
  },
  {
   "cell_type": "code",
   "execution_count": 50,
   "id": "49b96ba1",
   "metadata": {},
   "outputs": [
    {
     "name": "stdout",
     "output_type": "stream",
     "text": [
      "Epoch 1/15\n",
      "563/563 [==============================] - 6s 8ms/step - loss: 0.5996 - accuracy: 0.6694 - val_loss: 0.4993 - val_accuracy: 0.7629\n",
      "Epoch 2/15\n",
      "563/563 [==============================] - 4s 7ms/step - loss: 0.4449 - accuracy: 0.7973 - val_loss: 0.4270 - val_accuracy: 0.8087\n",
      "Epoch 3/15\n",
      "563/563 [==============================] - 4s 7ms/step - loss: 0.3752 - accuracy: 0.8375 - val_loss: 0.4103 - val_accuracy: 0.8193\n",
      "Epoch 4/15\n",
      "563/563 [==============================] - 4s 7ms/step - loss: 0.3311 - accuracy: 0.8606 - val_loss: 0.3993 - val_accuracy: 0.8237\n",
      "Epoch 5/15\n",
      "563/563 [==============================] - 4s 7ms/step - loss: 0.2976 - accuracy: 0.8776 - val_loss: 0.4033 - val_accuracy: 0.8268\n",
      "Epoch 6/15\n",
      "563/563 [==============================] - 4s 7ms/step - loss: 0.2712 - accuracy: 0.8896 - val_loss: 0.4100 - val_accuracy: 0.8268\n",
      "Epoch 7/15\n",
      "563/563 [==============================] - 4s 7ms/step - loss: 0.2497 - accuracy: 0.8993 - val_loss: 0.4208 - val_accuracy: 0.8284\n",
      "Epoch 8/15\n",
      "563/563 [==============================] - 4s 7ms/step - loss: 0.2309 - accuracy: 0.9083 - val_loss: 0.4438 - val_accuracy: 0.8252\n",
      "Epoch 9/15\n",
      "563/563 [==============================] - 4s 7ms/step - loss: 0.2132 - accuracy: 0.9176 - val_loss: 0.4482 - val_accuracy: 0.8235\n",
      "Epoch 10/15\n",
      "563/563 [==============================] - 4s 7ms/step - loss: 0.1982 - accuracy: 0.9240 - val_loss: 0.4753 - val_accuracy: 0.8231\n",
      "Epoch 11/15\n",
      "563/563 [==============================] - 4s 7ms/step - loss: 0.1847 - accuracy: 0.9297 - val_loss: 0.4950 - val_accuracy: 0.8226\n",
      "Epoch 12/15\n",
      "563/563 [==============================] - 4s 7ms/step - loss: 0.1704 - accuracy: 0.9372 - val_loss: 0.5100 - val_accuracy: 0.8167\n",
      "Epoch 13/15\n",
      "563/563 [==============================] - 4s 7ms/step - loss: 0.1589 - accuracy: 0.9413 - val_loss: 0.5372 - val_accuracy: 0.8175\n",
      "Epoch 14/15\n",
      "563/563 [==============================] - 4s 7ms/step - loss: 0.1486 - accuracy: 0.9446 - val_loss: 0.5652 - val_accuracy: 0.8188\n",
      "Epoch 15/15\n",
      "563/563 [==============================] - 4s 7ms/step - loss: 0.1391 - accuracy: 0.9498 - val_loss: 0.5838 - val_accuracy: 0.8148\n"
     ]
    }
   ],
   "source": [
    "model.compile(optimizer='adam',loss='binary_crossentropy',metrics=['accuracy'])\n",
    "epochs = 15\n",
    "model_history = model.fit(partial_x_train, partial_y_train, epochs = epochs, batch_size=64, validation_data=(x_val,y_val),\n",
    "                         verbose=1)"
   ]
  },
  {
   "cell_type": "markdown",
   "id": "f8e9d212",
   "metadata": {},
   "source": [
    "<회고>\n",
    "\n",
    "NLP로 입문하는 기분이 들었습니다. 신경망이 자연어 처리에도 쓰일 수 있음을 알고 신기했지만  \n",
    "실제로 어떤 원리로 동작하는지 알려면 더 공부를 해봐야겠네요. \n",
    "\n",
    "* 3가지 모델에 대해서 4가지 지표를 얻어 표로 정리했는데 한 모델이 4가지 지표 모두 우수한 경우는 없었습니다.\n",
    "* validation set에 대한 성능은 LSTM을 이용한 RNN이 나았지만 training set에 대한 성능은 1D-CNN이 더 좋았네요.\n",
    "* 그래프로 정리를 하니 그나마 1D-CNN의 낮은 Loss와 높은 Accuracy가 눈에 보였습니다.\n",
    "\n",
    "그리고 gensim을 이용하여 한국어 임베딩을 이용해 봤습니다. \n",
    "\n",
    "* 역시 예상대로 '사랑'과 '행복'은 코사인 유사도가 높게 나왔고 \n",
    "* '사랑'과 '끝'은 낮게 나왔네요. \n",
    "* 적절히 학습됐나봅니다.\n",
    "* 고양이만큼 토끼가 귀여운지는 잘 모르겠네요. 주관에 맡기겠습니다.\n",
    "\n",
    "마지막으로 word2vec을 이용한 성능 향상을 측정해 보았습니다. 모델은 RNN (LSTM)으로 하였고  \n",
    "에폭은 15로 하였습니다. 그 결과 Accuracy가 **94.98%** 가 나왔습니다."
   ]
  }
 ],
 "metadata": {
  "kernelspec": {
   "display_name": "Python 3 (ipykernel)",
   "language": "python",
   "name": "python3"
  },
  "language_info": {
   "codemirror_mode": {
    "name": "ipython",
    "version": 3
   },
   "file_extension": ".py",
   "mimetype": "text/x-python",
   "name": "python",
   "nbconvert_exporter": "python",
   "pygments_lexer": "ipython3",
   "version": "3.9.7"
  }
 },
 "nbformat": 4,
 "nbformat_minor": 5
}
