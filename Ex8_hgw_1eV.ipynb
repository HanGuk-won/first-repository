{
 "cells": [
  {
   "cell_type": "markdown",
   "id": "04c1d585",
   "metadata": {},
   "source": [
    "# 영화리뷰 텍스트 감성분석 하기\n",
    "\n",
    "### 버전확인 및 데이터 불러오기"
   ]
  },
  {
   "cell_type": "code",
   "execution_count": 149,
   "id": "a6c77f8e",
   "metadata": {
    "scrolled": true
   },
   "outputs": [
    {
     "name": "stdout",
     "output_type": "stream",
     "text": [
      "1.3.3\n",
      "0.5.2\n",
      "4.1.2\n"
     ]
    }
   ],
   "source": [
    "import pandas\n",
    "import konlpy\n",
    "import gensim\n",
    "\n",
    "print(pandas.__version__)\n",
    "print(konlpy.__version__)\n",
    "print(gensim.__version__)"
   ]
  },
  {
   "cell_type": "code",
   "execution_count": 150,
   "id": "588b384a",
   "metadata": {},
   "outputs": [
    {
     "data": {
      "text/html": [
       "<div>\n",
       "<style scoped>\n",
       "    .dataframe tbody tr th:only-of-type {\n",
       "        vertical-align: middle;\n",
       "    }\n",
       "\n",
       "    .dataframe tbody tr th {\n",
       "        vertical-align: top;\n",
       "    }\n",
       "\n",
       "    .dataframe thead th {\n",
       "        text-align: right;\n",
       "    }\n",
       "</style>\n",
       "<table border=\"1\" class=\"dataframe\">\n",
       "  <thead>\n",
       "    <tr style=\"text-align: right;\">\n",
       "      <th></th>\n",
       "      <th>id</th>\n",
       "      <th>document</th>\n",
       "      <th>label</th>\n",
       "    </tr>\n",
       "  </thead>\n",
       "  <tbody>\n",
       "    <tr>\n",
       "      <th>0</th>\n",
       "      <td>9976970</td>\n",
       "      <td>아 더빙.. 진짜 짜증나네요 목소리</td>\n",
       "      <td>0</td>\n",
       "    </tr>\n",
       "    <tr>\n",
       "      <th>1</th>\n",
       "      <td>3819312</td>\n",
       "      <td>흠...포스터보고 초딩영화줄....오버연기조차 가볍지 않구나</td>\n",
       "      <td>1</td>\n",
       "    </tr>\n",
       "    <tr>\n",
       "      <th>2</th>\n",
       "      <td>10265843</td>\n",
       "      <td>너무재밓었다그래서보는것을추천한다</td>\n",
       "      <td>0</td>\n",
       "    </tr>\n",
       "    <tr>\n",
       "      <th>3</th>\n",
       "      <td>9045019</td>\n",
       "      <td>교도소 이야기구먼 ..솔직히 재미는 없다..평점 조정</td>\n",
       "      <td>0</td>\n",
       "    </tr>\n",
       "    <tr>\n",
       "      <th>4</th>\n",
       "      <td>6483659</td>\n",
       "      <td>사이몬페그의 익살스런 연기가 돋보였던 영화!스파이더맨에서 늙어보이기만 했던 커스틴 ...</td>\n",
       "      <td>1</td>\n",
       "    </tr>\n",
       "  </tbody>\n",
       "</table>\n",
       "</div>"
      ],
      "text/plain": [
       "         id                                           document  label\n",
       "0   9976970                                아 더빙.. 진짜 짜증나네요 목소리      0\n",
       "1   3819312                  흠...포스터보고 초딩영화줄....오버연기조차 가볍지 않구나      1\n",
       "2  10265843                                  너무재밓었다그래서보는것을추천한다      0\n",
       "3   9045019                      교도소 이야기구먼 ..솔직히 재미는 없다..평점 조정      0\n",
       "4   6483659  사이몬페그의 익살스런 연기가 돋보였던 영화!스파이더맨에서 늙어보이기만 했던 커스틴 ...      1"
      ]
     },
     "execution_count": 150,
     "metadata": {},
     "output_type": "execute_result"
    }
   ],
   "source": [
    "import pandas as pd\n",
    "\n",
    "# 데이터를 읽어봅시다. \n",
    "train_data = pd.read_table('~/aiffel/sentiment_classification/data/ratings_train.txt')\n",
    "test_data = pd.read_table('~/aiffel/sentiment_classification/data/ratings_test.txt')\n",
    "\n",
    "train_data.head()"
   ]
  },
  {
   "cell_type": "markdown",
   "id": "6c85304c",
   "metadata": {},
   "source": [
    "### 데이터 불러오기 함수 정의 및 데이터셋 분리 1"
   ]
  },
  {
   "cell_type": "code",
   "execution_count": 151,
   "id": "d5ebea91",
   "metadata": {},
   "outputs": [],
   "source": [
    "from konlpy.tag import Mecab\n",
    "import numpy as np\n",
    "from collections import Counter\n",
    "\n",
    "tokenizer = Mecab()\n",
    "stopwords = ['의','가','이','은','들','는','좀','잘','걍','과','도','를','으로','자','에','와','한','하다']\n",
    "\n",
    "def load_data(train_data, test_data, num_words=10000):\n",
    "    train_data.drop_duplicates(subset=['document'], inplace=True)\n",
    "    train_data = train_data.dropna(how = 'any') \n",
    "    test_data.drop_duplicates(subset=['document'], inplace=True)\n",
    "    test_data = test_data.dropna(how = 'any') \n",
    "    \n",
    "    X_train = []\n",
    "    for sentence in train_data['document']:\n",
    "        temp_X = tokenizer.morphs(sentence) # 토큰화\n",
    "        temp_X = [word for word in temp_X if not word in stopwords] # 불용어 제거\n",
    "        X_train.append(temp_X)\n",
    "\n",
    "    X_test = []\n",
    "    for sentence in test_data['document']:\n",
    "        temp_X = tokenizer.morphs(sentence) # 토큰화\n",
    "        temp_X = [word for word in temp_X if not word in stopwords] # 불용어 제거\n",
    "        X_test.append(temp_X)\n",
    "    \n",
    "    words = np.concatenate(X_train).tolist()\n",
    "    counter = Counter(words)\n",
    "    counter = counter.most_common(10000-4)\n",
    "    vocab = ['<PAD>', '<BOS>', '<UNK>', '<UNUSED>'] + [key for key, _ in counter]\n",
    "    word_to_index = {word:index for index, word in enumerate(vocab)}\n",
    "        \n",
    "    def wordlist_to_indexlist(wordlist):\n",
    "        return [word_to_index[word] if word in word_to_index else word_to_index['<UNK>'] for word in wordlist]\n",
    "        \n",
    "    X_train = list(map(wordlist_to_indexlist, X_train))\n",
    "    X_test = list(map(wordlist_to_indexlist, X_test))\n",
    "        \n",
    "    return X_train, np.array(list(train_data['label'])), X_test, np.array(list(test_data['label'])), word_to_index\n",
    "    \n",
    "X_train, y_train, X_test, y_test, word_to_index = load_data(train_data, test_data) "
   ]
  },
  {
   "cell_type": "markdown",
   "id": "41885a9a",
   "metadata": {},
   "source": [
    "### 단어와 인덱스 간의 전환과 인코딩/디코딩 함수 정의"
   ]
  },
  {
   "cell_type": "code",
   "execution_count": 152,
   "id": "0905dd9f",
   "metadata": {},
   "outputs": [],
   "source": [
    "# 문장 1개를 활용할 딕셔너리와 함께 주면, 단어 인덱스 리스트 벡터로 변환해 주는 함수입니다. \n",
    "# 단, 모든 문장은 <BOS>로 시작하는 것으로 합니다. \n",
    "\n",
    "# 단어들을 하나씩 채워 봅니다. 채우는 순서는 일단 임의로 하였습니다. 그러나 사실 순서는 중요하지 않습니다. \n",
    "# <BOS>, <PAD>, <UNK>는 관례적으로 딕셔너리 맨 앞에 넣어줍니다. \n",
    "\n",
    "word_to_index[\"<PAD>\"]=0\n",
    "word_to_index[\"<BOS>\"]=1\n",
    "word_to_index[\"<UNK>\"]=2\n",
    "word_to_index[\"<UNUSED>\"]=3\n",
    "\n",
    "index_to_word={}\n",
    "index_to_word = {index:word for word, index in word_to_index.items()}\n",
    "\n",
    "index_to_word[0]='<PAD>'  # 패딩용 단어\n",
    "index_to_word[1]='<BOS>'  # 문장의 시작지점\n",
    "index_to_word[2]='<UNK>'# 사전에 없는(Unknown) 단어\n",
    "index_to_word[3]='<UNUSED>'\n",
    "\n",
    "def get_encoded_sentence(sentence, word_to_index):\n",
    "    return [word_to_index['<BOS>']]+[word_to_index[word] if word in word_to_index else word_to_index['<UNK>'] for word in sentence.split()]\n",
    "\n",
    "# 여러 개의 문장 리스트를 한꺼번에 단어 인덱스 리스트 벡터로 encode해 주는 함수입니다. \n",
    "def get_encoded_sentences(sentences, word_to_index):\n",
    "    return [get_encoded_sentence(sentence, word_to_index) for sentence in sentences]\n",
    "\n",
    "# 숫자 벡터로 encode된 문장을 원래대로 decode하는 함수입니다. \n",
    "def get_decoded_sentence(encoded_sentence, index_to_word):\n",
    "    return ' '.join(index_to_word[index] if index in index_to_word else '<UNK>' for index in encoded_sentence[1:])  #[1:]를 통해 <BOS>를 제외\n",
    "\n",
    "# 여러 개의 숫자 벡터로 encode된 문장을 한꺼번에 원래대로 decode하는 함수입니다. \n",
    "def get_decoded_sentences(encoded_sentences, index_to_word):\n",
    "    return [get_decoded_sentence(encoded_sentence, index_to_word) for encoded_sentence in encoded_sentences]"
   ]
  },
  {
   "cell_type": "code",
   "execution_count": 153,
   "id": "07c31450",
   "metadata": {},
   "outputs": [
    {
     "name": "stdout",
     "output_type": "stream",
     "text": [
      "문장길이 평균 :  15.96940191154864\n",
      "문장길이 최대 :  116\n",
      "문장길이 표준편차 :  12.843571191092\n",
      "pad_sequences maxlen :  41\n",
      "전체 문장의 0.9342988343341575%가 maxlen 설정값 이내에 포함됩니다. \n"
     ]
    }
   ],
   "source": [
    "total_data_text = list(X_train) + list(X_test)\n",
    "# 텍스트데이터 문장길이의 리스트를 생성한 후\n",
    "num_tokens = [len(tokens) for tokens in total_data_text]\n",
    "num_tokens = np.array(num_tokens)\n",
    "# 문장길이의 평균값, 최대값, 표준편차를 계산해 본다. \n",
    "print('문장길이 평균 : ', np.mean(num_tokens))\n",
    "print('문장길이 최대 : ', np.max(num_tokens))\n",
    "print('문장길이 표준편차 : ', np.std(num_tokens))\n",
    "\n",
    "# 예를들어, 최대 길이를 (평균 + 2*표준편차)로 한다면,  \n",
    "max_tokens = np.mean(num_tokens) + 2 * np.std(num_tokens)\n",
    "maxlen = int(max_tokens)\n",
    "print('pad_sequences maxlen : ', maxlen)\n",
    "print('전체 문장의 {}%가 maxlen 설정값 이내에 포함됩니다. '.format(np.sum(num_tokens < max_tokens) / len(num_tokens)))"
   ]
  },
  {
   "cell_type": "code",
   "execution_count": 154,
   "id": "20d3a919",
   "metadata": {},
   "outputs": [
    {
     "name": "stdout",
     "output_type": "stream",
     "text": [
      "(146182, 41)\n"
     ]
    }
   ],
   "source": [
    "import tensorflow as tf\n",
    "\n",
    "x_train = tf.keras.preprocessing.sequence.pad_sequences(X_train,\n",
    "                                                        value=word_to_index[\"<PAD>\"],\n",
    "                                                        padding='pre',\n",
    "                                                        maxlen=maxlen)\n",
    "\n",
    "x_test = tf.keras.preprocessing.sequence.pad_sequences(X_test,\n",
    "                                                       value=word_to_index[\"<PAD>\"],\n",
    "                                                       padding='pre', \n",
    "                                                       maxlen=maxlen)\n",
    "\n",
    "print(x_train.shape)"
   ]
  },
  {
   "cell_type": "markdown",
   "id": "0911e346",
   "metadata": {},
   "source": [
    "## RNN(LSTM) Model"
   ]
  },
  {
   "cell_type": "code",
   "execution_count": 155,
   "id": "76fd950d",
   "metadata": {},
   "outputs": [
    {
     "name": "stdout",
     "output_type": "stream",
     "text": [
      "Model: \"sequential_15\"\n",
      "_________________________________________________________________\n",
      "Layer (type)                 Output Shape              Param #   \n",
      "=================================================================\n",
      "embedding_15 (Embedding)     (None, None, 15)          15000     \n",
      "_________________________________________________________________\n",
      "lstm_5 (LSTM)                (None, 8)                 768       \n",
      "_________________________________________________________________\n",
      "dense_30 (Dense)             (None, 8)                 72        \n",
      "_________________________________________________________________\n",
      "dense_31 (Dense)             (None, 1)                 9         \n",
      "=================================================================\n",
      "Total params: 15,849\n",
      "Trainable params: 15,849\n",
      "Non-trainable params: 0\n",
      "_________________________________________________________________\n"
     ]
    }
   ],
   "source": [
    "vocab_size = 1000  # 어휘 사전의 크기입니다(10개의 단어)\n",
    "word_vector_dim = 15  # 단어 하나를 표현하는 임베딩 벡터의 차원수입니다. \n",
    "\n",
    "model = tf.keras.Sequential()\n",
    "model.add(tf.keras.layers.Embedding(vocab_size, word_vector_dim, input_shape=(None,)))\n",
    "model.add(tf.keras.layers.LSTM(8))   # 가장 널리 쓰이는 RNN인 LSTM 레이어를 사용하였습니다. 이때 LSTM state 벡터의 차원수는 8로 하였습니다. (변경 가능)\n",
    "model.add(tf.keras.layers.Dense(8, activation='relu'))\n",
    "model.add(tf.keras.layers.Dense(1, activation='sigmoid'))  # 최종 출력은 긍정/부정을 나타내는 1dim 입니다.\n",
    "\n",
    "model.summary()"
   ]
  },
  {
   "cell_type": "markdown",
   "id": "b81a3955",
   "metadata": {},
   "source": [
    "### 데이터셋 분리 2"
   ]
  },
  {
   "cell_type": "code",
   "execution_count": 156,
   "id": "97e487f4",
   "metadata": {},
   "outputs": [
    {
     "name": "stdout",
     "output_type": "stream",
     "text": [
      "(36000, 41)\n",
      "(36000, 41)\n"
     ]
    }
   ],
   "source": [
    "\n",
    "x_val = x_train[:36000]   \n",
    "y_val = y_train[:36000]\n",
    "\n",
    "partial_x_train = x_train[110182:]  \n",
    "partial_y_train = y_train[110182:]\n",
    "\n",
    "print(x_val.shape)\n",
    "print(partial_x_train.shape)"
   ]
  },
  {
   "cell_type": "code",
   "execution_count": 157,
   "id": "28297919",
   "metadata": {},
   "outputs": [
    {
     "name": "stdout",
     "output_type": "stream",
     "text": [
      "Epoch 1/20\n",
      "71/71 [==============================] - 2s 13ms/step - loss: 0.6634 - accuracy: 0.6762 - val_loss: 0.5738 - val_accuracy: 0.7642\n",
      "Epoch 2/20\n",
      "71/71 [==============================] - 1s 8ms/step - loss: 0.4908 - accuracy: 0.7820 - val_loss: 0.4412 - val_accuracy: 0.8025\n",
      "Epoch 3/20\n",
      "71/71 [==============================] - 1s 7ms/step - loss: 0.4246 - accuracy: 0.8100 - val_loss: 0.4196 - val_accuracy: 0.8086\n",
      "Epoch 4/20\n",
      "71/71 [==============================] - 1s 8ms/step - loss: 0.4071 - accuracy: 0.8184 - val_loss: 0.4213 - val_accuracy: 0.8073\n",
      "Epoch 5/20\n",
      "71/71 [==============================] - 1s 8ms/step - loss: 0.3983 - accuracy: 0.8215 - val_loss: 0.4068 - val_accuracy: 0.8131\n",
      "Epoch 6/20\n",
      "71/71 [==============================] - 1s 8ms/step - loss: 0.3939 - accuracy: 0.8227 - val_loss: 0.4057 - val_accuracy: 0.8139\n",
      "Epoch 7/20\n",
      "71/71 [==============================] - 1s 7ms/step - loss: 0.3918 - accuracy: 0.8237 - val_loss: 0.4045 - val_accuracy: 0.8144\n",
      "Epoch 8/20\n",
      "71/71 [==============================] - 1s 7ms/step - loss: 0.3897 - accuracy: 0.8247 - val_loss: 0.4034 - val_accuracy: 0.8142\n",
      "Epoch 9/20\n",
      "71/71 [==============================] - 1s 7ms/step - loss: 0.3880 - accuracy: 0.8250 - val_loss: 0.4051 - val_accuracy: 0.8120\n",
      "Epoch 10/20\n",
      "71/71 [==============================] - 1s 7ms/step - loss: 0.3865 - accuracy: 0.8246 - val_loss: 0.4023 - val_accuracy: 0.8148\n",
      "Epoch 11/20\n",
      "71/71 [==============================] - 1s 7ms/step - loss: 0.3859 - accuracy: 0.8246 - val_loss: 0.4014 - val_accuracy: 0.8139\n",
      "Epoch 12/20\n",
      "71/71 [==============================] - 1s 7ms/step - loss: 0.3838 - accuracy: 0.8269 - val_loss: 0.4022 - val_accuracy: 0.8142\n",
      "Epoch 13/20\n",
      "71/71 [==============================] - 1s 7ms/step - loss: 0.3828 - accuracy: 0.8280 - val_loss: 0.4002 - val_accuracy: 0.8141\n",
      "Epoch 14/20\n",
      "71/71 [==============================] - 1s 7ms/step - loss: 0.3807 - accuracy: 0.8283 - val_loss: 0.3998 - val_accuracy: 0.8138\n",
      "Epoch 15/20\n",
      "71/71 [==============================] - 1s 7ms/step - loss: 0.3798 - accuracy: 0.8290 - val_loss: 0.4002 - val_accuracy: 0.8149\n",
      "Epoch 16/20\n",
      "71/71 [==============================] - 1s 7ms/step - loss: 0.3799 - accuracy: 0.8264 - val_loss: 0.3978 - val_accuracy: 0.8143\n",
      "Epoch 17/20\n",
      "71/71 [==============================] - 1s 7ms/step - loss: 0.3764 - accuracy: 0.8296 - val_loss: 0.3994 - val_accuracy: 0.8141\n",
      "Epoch 18/20\n",
      "71/71 [==============================] - 1s 7ms/step - loss: 0.3747 - accuracy: 0.8315 - val_loss: 0.4014 - val_accuracy: 0.8124\n",
      "Epoch 19/20\n",
      "71/71 [==============================] - 1s 7ms/step - loss: 0.3741 - accuracy: 0.8306 - val_loss: 0.3980 - val_accuracy: 0.8151\n",
      "Epoch 20/20\n",
      "71/71 [==============================] - 1s 7ms/step - loss: 0.3718 - accuracy: 0.8314 - val_loss: 0.3976 - val_accuracy: 0.8140\n"
     ]
    }
   ],
   "source": [
    "model.compile(optimizer='adam',\n",
    "              loss='binary_crossentropy',\n",
    "              metrics=['accuracy'])\n",
    "              \n",
    "epochs=20  # 몇 epoch를 훈련하면 좋을지 결과를 보면서 바꾸어 봅시다. \n",
    "\n",
    "history = model.fit(partial_x_train,\n",
    "                    partial_y_train,\n",
    "                    epochs=epochs,\n",
    "                    batch_size=512,\n",
    "                    validation_data=(x_val, y_val),\n",
    "                    verbose=1)"
   ]
  },
  {
   "cell_type": "code",
   "execution_count": 158,
   "id": "4cd3026b",
   "metadata": {},
   "outputs": [
    {
     "name": "stdout",
     "output_type": "stream",
     "text": [
      "dict_keys(['loss', 'accuracy', 'val_loss', 'val_accuracy'])\n"
     ]
    }
   ],
   "source": [
    "history_dict = history.history\n",
    "print(history_dict.keys()) # epoch에 따른 그래프를 그려볼 수 있는 항목들"
   ]
  },
  {
   "cell_type": "code",
   "execution_count": 159,
   "id": "3576a066",
   "metadata": {},
   "outputs": [
    {
     "data": {
      "image/png": "[encoded data removed]",
      "text/plain": [
       "<Figure size 432x288 with 1 Axes>"
      ]
     },
     "metadata": {
      "needs_background": "light"
     },
     "output_type": "display_data"
    }
   ],
   "source": [
    "import matplotlib.pyplot as plt\n",
    "\n",
    "acc = history_dict['accuracy']\n",
    "val_acc = history_dict['val_accuracy']\n",
    "loss = history_dict['loss']\n",
    "val_loss = history_dict['val_loss']\n",
    "\n",
    "epochs = range(1, len(acc) + 1)\n",
    "\n",
    "# \"bo\"는 \"파란색 점\"입니다\n",
    "plt.plot(epochs, loss, 'bo', label='Training loss')\n",
    "# b는 \"파란 실선\"입니다\n",
    "plt.plot(epochs, val_loss, 'b', label='Validation loss')\n",
    "plt.title('Training and validation loss')\n",
    "plt.xlabel('Epochs')\n",
    "plt.ylabel('Loss')\n",
    "plt.legend()\n",
    "\n",
    "plt.show()"
   ]
  },
  {
   "cell_type": "code",
   "execution_count": 160,
   "id": "d3448ae0",
   "metadata": {},
   "outputs": [
    {
     "data": {
      "image/png": "[encoded data removed]",
      "text/plain": [
       "<Figure size 432x288 with 1 Axes>"
      ]
     },
     "metadata": {
      "needs_background": "light"
     },
     "output_type": "display_data"
    }
   ],
   "source": [
    "plt.clf()   # 그림을 초기화합니다\n",
    "\n",
    "plt.plot(epochs, acc, 'bo', label='Training acc')\n",
    "plt.plot(epochs, val_acc, 'b', label='Validation acc')\n",
    "plt.title('Training and validation accuracy')\n",
    "plt.xlabel('Epochs')\n",
    "plt.ylabel('Accuracy')\n",
    "plt.legend()\n",
    "\n",
    "plt.show()"
   ]
  },
  {
   "cell_type": "markdown",
   "id": "5f1225ca",
   "metadata": {},
   "source": [
    "## 1D-CNN Model"
   ]
  },
  {
   "cell_type": "code",
   "execution_count": 161,
   "id": "af544fa2",
   "metadata": {},
   "outputs": [
    {
     "name": "stdout",
     "output_type": "stream",
     "text": [
      "Model: \"sequential_16\"\n",
      "_________________________________________________________________\n",
      "Layer (type)                 Output Shape              Param #   \n",
      "=================================================================\n",
      "embedding_16 (Embedding)     (None, None, 15)          15000     \n",
      "_________________________________________________________________\n",
      "conv1d_10 (Conv1D)           (None, None, 16)          1696      \n",
      "_________________________________________________________________\n",
      "max_pooling1d_5 (MaxPooling1 (None, None, 16)          0         \n",
      "_________________________________________________________________\n",
      "conv1d_11 (Conv1D)           (None, None, 16)          1808      \n",
      "_________________________________________________________________\n",
      "global_max_pooling1d_10 (Glo (None, 16)                0         \n",
      "_________________________________________________________________\n",
      "dense_32 (Dense)             (None, 8)                 136       \n",
      "_________________________________________________________________\n",
      "dense_33 (Dense)             (None, 1)                 9         \n",
      "=================================================================\n",
      "Total params: 18,649\n",
      "Trainable params: 18,649\n",
      "Non-trainable params: 0\n",
      "_________________________________________________________________\n"
     ]
    }
   ],
   "source": [
    "vocab_size = 1000  # 어휘 사전의 크기입니다(10개의 단어)\n",
    "word_vector_dim = 15   # 단어 하나를 표현하는 임베딩 벡터의 차원 수입니다. \n",
    "\n",
    "model = tf.keras.Sequential()\n",
    "model.add(tf.keras.layers.Embedding(vocab_size, word_vector_dim, input_shape=(None,)))\n",
    "model.add(tf.keras.layers.Conv1D(16, 7, activation='relu'))\n",
    "model.add(tf.keras.layers.MaxPooling1D(5))\n",
    "model.add(tf.keras.layers.Conv1D(16, 7, activation='relu'))\n",
    "model.add(tf.keras.layers.GlobalMaxPooling1D())\n",
    "model.add(tf.keras.layers.Dense(8, activation='relu'))\n",
    "model.add(tf.keras.layers.Dense(1, activation='sigmoid'))  # 최종 출력은 긍정/부정을 나타내는 1dim 입니다.\n",
    "\n",
    "model.summary()"
   ]
  },
  {
   "cell_type": "code",
   "execution_count": 162,
   "id": "c389035f",
   "metadata": {},
   "outputs": [
    {
     "name": "stdout",
     "output_type": "stream",
     "text": [
      "Epoch 1/20\n",
      "71/71 [==============================] - 1s 8ms/step - loss: 0.6759 - accuracy: 0.5928 - val_loss: 0.6078 - val_accuracy: 0.7374\n",
      "Epoch 2/20\n",
      "71/71 [==============================] - 0s 6ms/step - loss: 0.4827 - accuracy: 0.7867 - val_loss: 0.4145 - val_accuracy: 0.8072\n",
      "Epoch 3/20\n",
      "71/71 [==============================] - 0s 6ms/step - loss: 0.4022 - accuracy: 0.8138 - val_loss: 0.4025 - val_accuracy: 0.8121\n",
      "Epoch 4/20\n",
      "71/71 [==============================] - 0s 6ms/step - loss: 0.3853 - accuracy: 0.8250 - val_loss: 0.3987 - val_accuracy: 0.8133\n",
      "Epoch 5/20\n",
      "71/71 [==============================] - 0s 6ms/step - loss: 0.3751 - accuracy: 0.8294 - val_loss: 0.4006 - val_accuracy: 0.8145\n",
      "Epoch 6/20\n",
      "71/71 [==============================] - 0s 6ms/step - loss: 0.3652 - accuracy: 0.8357 - val_loss: 0.3993 - val_accuracy: 0.8129\n",
      "Epoch 7/20\n",
      "71/71 [==============================] - 0s 6ms/step - loss: 0.3543 - accuracy: 0.8419 - val_loss: 0.3949 - val_accuracy: 0.8169\n",
      "Epoch 8/20\n",
      "71/71 [==============================] - 0s 6ms/step - loss: 0.3432 - accuracy: 0.8464 - val_loss: 0.3973 - val_accuracy: 0.8153\n",
      "Epoch 9/20\n",
      "71/71 [==============================] - 0s 6ms/step - loss: 0.3312 - accuracy: 0.8541 - val_loss: 0.3994 - val_accuracy: 0.8155\n",
      "Epoch 10/20\n",
      "71/71 [==============================] - 0s 6ms/step - loss: 0.3200 - accuracy: 0.8598 - val_loss: 0.4026 - val_accuracy: 0.8162\n",
      "Epoch 11/20\n",
      "71/71 [==============================] - 0s 6ms/step - loss: 0.3059 - accuracy: 0.8674 - val_loss: 0.4098 - val_accuracy: 0.8148\n",
      "Epoch 12/20\n",
      "71/71 [==============================] - 0s 6ms/step - loss: 0.2931 - accuracy: 0.8757 - val_loss: 0.4246 - val_accuracy: 0.8097\n",
      "Epoch 13/20\n",
      "71/71 [==============================] - 0s 6ms/step - loss: 0.2817 - accuracy: 0.8812 - val_loss: 0.4271 - val_accuracy: 0.8109\n",
      "Epoch 14/20\n",
      "71/71 [==============================] - 0s 6ms/step - loss: 0.2679 - accuracy: 0.8878 - val_loss: 0.4375 - val_accuracy: 0.8093\n",
      "Epoch 15/20\n",
      "71/71 [==============================] - 0s 6ms/step - loss: 0.2549 - accuracy: 0.8947 - val_loss: 0.4504 - val_accuracy: 0.8076\n",
      "Epoch 16/20\n",
      "71/71 [==============================] - 0s 6ms/step - loss: 0.2427 - accuracy: 0.8998 - val_loss: 0.4657 - val_accuracy: 0.8042\n",
      "Epoch 17/20\n",
      "71/71 [==============================] - 0s 6ms/step - loss: 0.2312 - accuracy: 0.9058 - val_loss: 0.4873 - val_accuracy: 0.8018\n",
      "Epoch 18/20\n",
      "71/71 [==============================] - 0s 6ms/step - loss: 0.2212 - accuracy: 0.9100 - val_loss: 0.4960 - val_accuracy: 0.7994\n",
      "Epoch 19/20\n",
      "71/71 [==============================] - 0s 6ms/step - loss: 0.2077 - accuracy: 0.9163 - val_loss: 0.5203 - val_accuracy: 0.7988\n",
      "Epoch 20/20\n",
      "71/71 [==============================] - 0s 6ms/step - loss: 0.1988 - accuracy: 0.9204 - val_loss: 0.5376 - val_accuracy: 0.7954\n"
     ]
    }
   ],
   "source": [
    "model.compile(optimizer='adam',\n",
    "              loss='binary_crossentropy',\n",
    "              metrics=['accuracy'])\n",
    "              \n",
    "epochs=20  # 몇 epoch를 훈련하면 좋을지 결과를 보면서 바꾸어 봅시다. \n",
    "\n",
    "history = model.fit(partial_x_train,\n",
    "                    partial_y_train,\n",
    "                    epochs=epochs,\n",
    "                    batch_size=512,\n",
    "                    validation_data=(x_val, y_val),\n",
    "                    verbose=1)"
   ]
  },
  {
   "cell_type": "code",
   "execution_count": 163,
   "id": "5a1bc036",
   "metadata": {},
   "outputs": [
    {
     "name": "stdout",
     "output_type": "stream",
     "text": [
      "dict_keys(['loss', 'accuracy', 'val_loss', 'val_accuracy'])\n"
     ]
    }
   ],
   "source": [
    "history_dict = history.history\n",
    "print(history_dict.keys()) # epoch에 따른 그래프를 그려볼 수 있는 항목들"
   ]
  },
  {
   "cell_type": "code",
   "execution_count": 164,
   "id": "4c8a2ec5",
   "metadata": {},
   "outputs": [
    {
     "data": {
      "image/png": "[encoded data removed]",
      "text/plain": [
       "<Figure size 432x288 with 1 Axes>"
      ]
     },
     "metadata": {
      "needs_background": "light"
     },
     "output_type": "display_data"
    }
   ],
   "source": [
    "import matplotlib.pyplot as plt\n",
    "\n",
    "acc = history_dict['accuracy']\n",
    "val_acc = history_dict['val_accuracy']\n",
    "loss = history_dict['loss']\n",
    "val_loss = history_dict['val_loss']\n",
    "\n",
    "epochs = range(1, len(acc) + 1)\n",
    "\n",
    "# \"bo\"는 \"파란색 점\"입니다\n",
    "plt.plot(epochs, loss, 'bo', label='Training loss')\n",
    "# b는 \"파란 실선\"입니다\n",
    "plt.plot(epochs, val_loss, 'b', label='Validation loss')\n",
    "plt.title('Training and validation loss')\n",
    "plt.xlabel('Epochs')\n",
    "plt.ylabel('Loss')\n",
    "plt.legend()\n",
    "\n",
    "plt.show()"
   ]
  },
  {
   "cell_type": "code",
   "execution_count": 165,
   "id": "1756aa2b",
   "metadata": {},
   "outputs": [
    {
     "data": {
      "image/png": "[encoded data removed]",
      "text/plain": [
       "<Figure size 432x288 with 1 Axes>"
      ]
     },
     "metadata": {
      "needs_background": "light"
     },
     "output_type": "display_data"
    }
   ],
   "source": [
    "plt.clf()   # 그림을 초기화합니다\n",
    "\n",
    "plt.plot(epochs, acc, 'bo', label='Training acc')\n",
    "plt.plot(epochs, val_acc, 'b', label='Validation acc')\n",
    "plt.title('Training and validation accuracy')\n",
    "plt.xlabel('Epochs')\n",
    "plt.ylabel('Accuracy')\n",
    "plt.legend()\n",
    "\n",
    "plt.show()"
   ]
  },
  {
   "cell_type": "markdown",
   "id": "19e4b2d7",
   "metadata": {},
   "source": [
    "## GlobalMaxPooling1D() Layer Only Model"
   ]
  },
  {
   "cell_type": "code",
   "execution_count": 166,
   "id": "467d41b1",
   "metadata": {},
   "outputs": [
    {
     "name": "stdout",
     "output_type": "stream",
     "text": [
      "Model: \"sequential_17\"\n",
      "_________________________________________________________________\n",
      "Layer (type)                 Output Shape              Param #   \n",
      "=================================================================\n",
      "embedding_17 (Embedding)     (None, None, 15)          15000     \n",
      "_________________________________________________________________\n",
      "global_max_pooling1d_11 (Glo (None, 15)                0         \n",
      "_________________________________________________________________\n",
      "dense_34 (Dense)             (None, 8)                 128       \n",
      "_________________________________________________________________\n",
      "dense_35 (Dense)             (None, 1)                 9         \n",
      "=================================================================\n",
      "Total params: 15,137\n",
      "Trainable params: 15,137\n",
      "Non-trainable params: 0\n",
      "_________________________________________________________________\n"
     ]
    }
   ],
   "source": [
    "vocab_size = 1000  # 어휘 사전의 크기입니다(10개의 단어)\n",
    "word_vector_dim = 15   # 단어 하나를 표현하는 임베딩 벡터의 차원 수입니다. \n",
    "\n",
    "model = tf.keras.Sequential()\n",
    "model.add(tf.keras.layers.Embedding(vocab_size, word_vector_dim, input_shape=(None,)))\n",
    "model.add(tf.keras.layers.GlobalMaxPooling1D())\n",
    "model.add(tf.keras.layers.Dense(8, activation='relu'))\n",
    "model.add(tf.keras.layers.Dense(1, activation='sigmoid'))  # 최종 출력은 긍정/부정을 나타내는 1dim 입니다.\n",
    "\n",
    "model.summary()"
   ]
  },
  {
   "cell_type": "code",
   "execution_count": 167,
   "id": "d60b2c48",
   "metadata": {},
   "outputs": [
    {
     "name": "stdout",
     "output_type": "stream",
     "text": [
      "Epoch 1/20\n",
      "71/71 [==============================] - 1s 6ms/step - loss: 0.6827 - accuracy: 0.5904 - val_loss: 0.6644 - val_accuracy: 0.7161\n",
      "Epoch 2/20\n",
      "71/71 [==============================] - 0s 5ms/step - loss: 0.6267 - accuracy: 0.7377 - val_loss: 0.5796 - val_accuracy: 0.7573\n",
      "Epoch 3/20\n",
      "71/71 [==============================] - 0s 5ms/step - loss: 0.5365 - accuracy: 0.7721 - val_loss: 0.4990 - val_accuracy: 0.7814\n",
      "Epoch 4/20\n",
      "71/71 [==============================] - 0s 5ms/step - loss: 0.4708 - accuracy: 0.7918 - val_loss: 0.4527 - val_accuracy: 0.7947\n",
      "Epoch 5/20\n",
      "71/71 [==============================] - 0s 5ms/step - loss: 0.4328 - accuracy: 0.8060 - val_loss: 0.4293 - val_accuracy: 0.8013\n",
      "Epoch 6/20\n",
      "71/71 [==============================] - 0s 5ms/step - loss: 0.4115 - accuracy: 0.8131 - val_loss: 0.4185 - val_accuracy: 0.8040\n",
      "Epoch 7/20\n",
      "71/71 [==============================] - 0s 5ms/step - loss: 0.3992 - accuracy: 0.8177 - val_loss: 0.4127 - val_accuracy: 0.8061\n",
      "Epoch 8/20\n",
      "71/71 [==============================] - 0s 5ms/step - loss: 0.3911 - accuracy: 0.8211 - val_loss: 0.4102 - val_accuracy: 0.8073\n",
      "Epoch 9/20\n",
      "71/71 [==============================] - 0s 5ms/step - loss: 0.3855 - accuracy: 0.8235 - val_loss: 0.4088 - val_accuracy: 0.8077\n",
      "Epoch 10/20\n",
      "71/71 [==============================] - 0s 5ms/step - loss: 0.3811 - accuracy: 0.8270 - val_loss: 0.4078 - val_accuracy: 0.8085\n",
      "Epoch 11/20\n",
      "71/71 [==============================] - 0s 5ms/step - loss: 0.3774 - accuracy: 0.8284 - val_loss: 0.4079 - val_accuracy: 0.8086\n",
      "Epoch 12/20\n",
      "71/71 [==============================] - 0s 5ms/step - loss: 0.3745 - accuracy: 0.8298 - val_loss: 0.4078 - val_accuracy: 0.8093\n",
      "Epoch 13/20\n",
      "71/71 [==============================] - 0s 5ms/step - loss: 0.3718 - accuracy: 0.8314 - val_loss: 0.4079 - val_accuracy: 0.8093\n",
      "Epoch 14/20\n",
      "71/71 [==============================] - 0s 5ms/step - loss: 0.3692 - accuracy: 0.8326 - val_loss: 0.4084 - val_accuracy: 0.8094\n",
      "Epoch 15/20\n",
      "71/71 [==============================] - 0s 5ms/step - loss: 0.3671 - accuracy: 0.8342 - val_loss: 0.4088 - val_accuracy: 0.8093\n",
      "Epoch 16/20\n",
      "71/71 [==============================] - 0s 5ms/step - loss: 0.3651 - accuracy: 0.8351 - val_loss: 0.4090 - val_accuracy: 0.8091\n",
      "Epoch 17/20\n",
      "71/71 [==============================] - 0s 5ms/step - loss: 0.3634 - accuracy: 0.8359 - val_loss: 0.4100 - val_accuracy: 0.8094\n",
      "Epoch 18/20\n",
      "71/71 [==============================] - 0s 5ms/step - loss: 0.3619 - accuracy: 0.8377 - val_loss: 0.4104 - val_accuracy: 0.8090\n",
      "Epoch 19/20\n",
      "71/71 [==============================] - 0s 5ms/step - loss: 0.3603 - accuracy: 0.8373 - val_loss: 0.4106 - val_accuracy: 0.8089\n",
      "Epoch 20/20\n",
      "71/71 [==============================] - 0s 5ms/step - loss: 0.3589 - accuracy: 0.8389 - val_loss: 0.4118 - val_accuracy: 0.8089\n"
     ]
    }
   ],
   "source": [
    "model.compile(optimizer='adam',\n",
    "              loss='binary_crossentropy',\n",
    "              metrics=['accuracy'])\n",
    "              \n",
    "epochs=20  # 몇 epoch를 훈련하면 좋을지 결과를 보면서 바꾸어 봅시다. \n",
    "\n",
    "history = model.fit(partial_x_train,\n",
    "                    partial_y_train,\n",
    "                    epochs=epochs,\n",
    "                    batch_size=512,\n",
    "                    validation_data=(x_val, y_val),\n",
    "                    verbose=1)"
   ]
  },
  {
   "cell_type": "code",
   "execution_count": 168,
   "id": "1dadd211",
   "metadata": {},
   "outputs": [
    {
     "name": "stdout",
     "output_type": "stream",
     "text": [
      "dict_keys(['loss', 'accuracy', 'val_loss', 'val_accuracy'])\n"
     ]
    }
   ],
   "source": [
    "history_dict = history.history\n",
    "print(history_dict.keys()) # epoch에 따른 그래프를 그려볼 수 있는 항목들"
   ]
  },
  {
   "cell_type": "code",
   "execution_count": 169,
   "id": "f77f6f8b",
   "metadata": {},
   "outputs": [
    {
     "data": {
      "image/png": "[encoded data removed]",
      "text/plain": [
       "<Figure size 432x288 with 1 Axes>"
      ]
     },
     "metadata": {
      "needs_background": "light"
     },
     "output_type": "display_data"
    }
   ],
   "source": [
    "import matplotlib.pyplot as plt\n",
    "\n",
    "acc = history_dict['accuracy']\n",
    "val_acc = history_dict['val_accuracy']\n",
    "loss = history_dict['loss']\n",
    "val_loss = history_dict['val_loss']\n",
    "\n",
    "epochs = range(1, len(acc) + 1)\n",
    "\n",
    "# \"bo\"는 \"파란색 점\"입니다\n",
    "plt.plot(epochs, loss, 'bo', label='Training loss')\n",
    "# b는 \"파란 실선\"입니다\n",
    "plt.plot(epochs, val_loss, 'b', label='Validation loss')\n",
    "plt.title('Training and validation loss')\n",
    "plt.xlabel('Epochs')\n",
    "plt.ylabel('Loss')\n",
    "plt.legend()\n",
    "\n",
    "plt.show()"
   ]
  },
  {
   "cell_type": "code",
   "execution_count": 170,
   "id": "447398ee",
   "metadata": {},
   "outputs": [
    {
     "data": {
      "image/png": "[encoded data removed]",
      "text/plain": [
       "<Figure size 432x288 with 1 Axes>"
      ]
     },
     "metadata": {
      "needs_background": "light"
     },
     "output_type": "display_data"
    }
   ],
   "source": [
    "plt.clf()   # 그림을 초기화합니다\n",
    "\n",
    "plt.plot(epochs, acc, 'bo', label='Training acc')\n",
    "plt.plot(epochs, val_acc, 'b', label='Validation acc')\n",
    "plt.title('Training and validation accuracy')\n",
    "plt.xlabel('Epochs')\n",
    "plt.ylabel('Accuracy')\n",
    "plt.legend()\n",
    "\n",
    "plt.show()"
   ]
  },
  {
   "cell_type": "markdown",
   "id": "919f4a08",
   "metadata": {},
   "source": [
    "## 모델 결과 비교 표"
   ]
  },
  {
   "cell_type": "markdown",
   "id": "4c2f7e89",
   "metadata": {},
   "source": [
    "| Model | loss | accuracy | val_loss | val_accuracy |\n",
    "|:---|:---:|:---:|:---:|:---:|\n",
    "| RNN(LSTM) | 0.3718 | 0.8314 | **0.3976** | **0.8140** |\n",
    "| 1D-CNN | **0.1988** | **0.9204** | 0.5376 | 0.7954 |\n",
    "|GlobalMaxPooling 1D()Layer Only | 0.3589 | 0.8389 | 0.4118 | 0.8089 |"
   ]
  },
  {
   "cell_type": "code",
   "execution_count": 171,
   "id": "9afa4518",
   "metadata": {},
   "outputs": [
    {
     "name": "stdout",
     "output_type": "stream",
     "text": [
      "(1000, 15)\n"
     ]
    }
   ],
   "source": [
    "embedding_layer = model.layers[0]\n",
    "weights = embedding_layer.get_weights()[0]\n",
    "print(weights.shape)    # shape: (vocab_size, embedding_dim)"
   ]
  },
  {
   "cell_type": "markdown",
   "id": "306755ef",
   "metadata": {},
   "source": [
    "## 영어 임베딩"
   ]
  },
  {
   "cell_type": "code",
   "execution_count": 172,
   "id": "bb7134a4",
   "metadata": {},
   "outputs": [],
   "source": [
    "import os\n",
    "# 학습한 Embedding 파라미터를 파일에 써서 저장합니다. \n",
    "word2vec_file_path = os.getenv('HOME')+'/aiffel/sentiment_classification/data/word2vec.txt'\n",
    "f = open(word2vec_file_path, 'w')\n",
    "f.write('{} {}\\n'.format(vocab_size-4, word_vector_dim))  # 몇개의 벡터를 얼마 사이즈로 기재할지 타이틀을 씁니다.\n",
    "\n",
    "# 단어 개수(에서 특수문자 4개는 제외하고)만큼의 워드 벡터를 파일에 기록합니다. \n",
    "vectors = model.get_weights()[0]\n",
    "for i in range(4,vocab_size):\n",
    "     f.write('{} {}\\n'.format(index_to_word[i], ' '.join(map(str, list(vectors[i, :])))))\n",
    "f.close()"
   ]
  },
  {
   "cell_type": "code",
   "execution_count": 173,
   "id": "40209bad",
   "metadata": {},
   "outputs": [],
   "source": [
    "from gensim.test.utils import lee_corpus_list\n",
    "from gensim.models import Word2Vec\n",
    "model = Word2Vec(lee_corpus_list, vector_size=15, epochs=71)\n",
    "word_vectors = model.wv"
   ]
  },
  {
   "cell_type": "code",
   "execution_count": 174,
   "id": "b28de60f",
   "metadata": {},
   "outputs": [],
   "source": [
    "from gensim.models import KeyedVectors\n",
    "word_vectors.save('vectors.kv')\n",
    "reloaded_word_vectors = KeyedVectors.load('vectors.kv')"
   ]
  },
  {
   "cell_type": "code",
   "execution_count": 206,
   "id": "608a06eb",
   "metadata": {
    "scrolled": true
   },
   "outputs": [
    {
     "name": "stdout",
     "output_type": "stream",
     "text": [
      "queen: 0.7699\n"
     ]
    }
   ],
   "source": [
    "import gensim.downloader as api\n",
    "word_vectors = api.load(\"glove-wiki-gigaword-100\")  # load pre-trained word-vectors from gensim-data\n",
    "# Check the \"most similar words\", using the default \"cosine similarity\" measure.\n",
    "result = word_vectors.most_similar(positive=['woman','king'], negative=['man'])\n",
    "most_similar_key, similarity = result[0]  # look at the first match\n",
    "print(f\"{most_similar_key}: {similarity:.4f}\")"
   ]
  },
  {
   "cell_type": "markdown",
   "id": "f1381706",
   "metadata": {},
   "source": [
    "## 한국어 임베딩"
   ]
  },
  {
   "cell_type": "code",
   "execution_count": 181,
   "id": "77719060",
   "metadata": {},
   "outputs": [],
   "source": [
    "from gensim.models import KeyedVectors\n",
    "\n",
    "word2vec_path = os.getenv('HOME')+'/data/word2vec_ko.model'\n",
    "word_vectors = KeyedVectors.load(word2vec_path)\n",
    "vector = word_vectors.wv['끝']\n",
    "\n",
    "import tempfile\n",
    "\n",
    "with tempfile.NamedTemporaryFile(prefix='gensim-model-', delete=False) as tmp:\n",
    "    temporary_filepath = tmp.name\n",
    "    model.save(temporary_filepath)   "
   ]
  },
  {
   "cell_type": "code",
   "execution_count": 204,
   "id": "8bfb9650",
   "metadata": {},
   "outputs": [
    {
     "name": "stdout",
     "output_type": "stream",
     "text": [
      "사랑과 행복의 코사인 유사도 : 0.7550067901611328\n",
      "사랑과 끝의 코사인 유사도 : 0.1875794529914856\n"
     ]
    }
   ],
   "source": [
    "from gensim.models.keyedvectors import Word2VecKeyedVectors\n",
    "word_vectors = Word2VecKeyedVectors.load(word2vec_path)\n",
    "\n",
    "from numpy import dot\n",
    "from numpy.linalg import norm\n",
    "import numpy as np\n",
    "\n",
    "vector_1 = word_vectors.wv['사랑']\n",
    "vector_2 = word_vectors.wv['행복']\n",
    "vector_3 = word_vectors.wv['끝']\n",
    "\n",
    "def cos_sim(A, B):\n",
    "    return dot(A, B)/(norm(A)*norm(B))\n",
    "  \n",
    "print('{}과 {}의 코사인 유사도 : {}'.format('사랑','행복',cos_sim(vector_1,vector_2)))\n",
    "print('{}과 {}의 코사인 유사도 : {}'.format('사랑','끝',cos_sim(vector_1,vector_3)))"
   ]
  }
 ],
 "metadata": {
  "kernelspec": {
   "display_name": "Python 3 (ipykernel)",
   "language": "python",
   "name": "python3"
  },
  "language_info": {
   "codemirror_mode": {
    "name": "ipython",
    "version": 3
   },
   "file_extension": ".py",
   "mimetype": "text/x-python",
   "name": "python",
   "nbconvert_exporter": "python",
   "pygments_lexer": "ipython3",
   "version": "3.9.7"
  }
 },
 "nbformat": 4,
 "nbformat_minor": 5
}
