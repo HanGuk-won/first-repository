{
  "nbformat": 4,
  "nbformat_minor": 0,
  "metadata": {
    "colab": {
      "name": "Ex_2_hgw_1eV_.ipynb",
      "provenance": [],
      "collapsed_sections": []
    },
    "kernelspec": {
      "name": "python3",
      "display_name": "Python 3"
    },
    "language_info": {
      "name": "python"
    },
    "gpuClass": "standard"
  },
  "cells": [
    {
      "cell_type": "markdown",
      "source": [
        "# Analysis Of Diabetes Data"
      ],
      "metadata": {
        "id": "fXesjkPAPLdg"
      }
    },
    {
      "cell_type": "code",
      "execution_count": null,
      "metadata": {
        "colab": {
          "base_uri": "https://localhost:8080/"
        },
        "id": "5Tz-aZfY_azE",
        "outputId": "9326375c-06fb-443e-dc13-6d3edb418e6e"
      },
      "outputs": [
        {
          "output_type": "stream",
          "name": "stdout",
          "text": [
            "(353, 10)\n",
            "(353,)\n",
            "[[ 0.03807591  0.05068012  0.06169621 ... -0.00259226  0.01990842\n",
            "  -0.01764613]\n",
            " [-0.00188202 -0.04464164 -0.05147406 ... -0.03949338 -0.06832974\n",
            "  -0.09220405]\n",
            " [ 0.08529891  0.05068012  0.04445121 ... -0.00259226  0.00286377\n",
            "  -0.02593034]\n",
            " ...\n",
            " [ 0.04170844  0.05068012 -0.01590626 ... -0.01107952 -0.04687948\n",
            "   0.01549073]\n",
            " [-0.04547248 -0.04464164  0.03906215 ...  0.02655962  0.04452837\n",
            "  -0.02593034]\n",
            " [-0.04547248 -0.04464164 -0.0730303  ... -0.03949338 -0.00421986\n",
            "   0.00306441]]\n"
          ]
        }
      ],
      "source": [
        "from sklearn.model_selection import train_test_split\n",
        "from sklearn.datasets import load_diabetes\n",
        "import numpy as np\n",
        "data = load_diabetes()\n",
        "df_x = data.data\n",
        "df_y = data.target\n",
        "df_x = np.array(df_x)\n",
        "dx_y = np.array(df_y)\n",
        "X_train, X_test, y_train, y_test = train_test_split(df_x, df_y,test_size=0.2, random_state=8)\n",
        "print(X_train.shape)\n",
        "print(y_train.shape)\n",
        "print(data.data)"
      ]
    },
    {
      "cell_type": "code",
      "source": [
        "print(y_test)"
      ],
      "metadata": {
        "colab": {
          "base_uri": "https://localhost:8080/"
        },
        "id": "7KR2e7z3Q0FX",
        "outputId": "74cfb541-da9b-43ac-a3bf-385fdf5d1070"
      },
      "execution_count": null,
      "outputs": [
        {
          "output_type": "stream",
          "name": "stdout",
          "text": [
            "[242. 185. 202. 128. 197. 150. 137. 175.  67.  88. 151. 146. 158.  43.\n",
            " 172. 150.  55. 116. 191. 252. 233.  71. 164. 230. 197.  52. 154. 178.\n",
            " 129.  45. 268.  85.  81. 235.  70. 346.  49. 162. 242. 214.  84.  57.\n",
            " 167.  99.  51.  72.  94. 135. 310.  64. 276. 110. 111. 116. 310. 144.\n",
            " 170.  72.  52. 177.  91. 150. 259. 107.  64. 160.  93. 118. 236.  48.\n",
            " 262. 124. 104. 101. 202.  69.  69. 230. 249.  39. 308. 273.  59. 129.\n",
            " 257. 155. 140. 275. 196.]\n"
          ]
        }
      ]
    },
    {
      "cell_type": "code",
      "source": [
        "import numpy as np\n",
        "W = np.random.rand(10)\n",
        "b = np.random.rand()"
      ],
      "metadata": {
        "id": "5OARmhfYUuFX"
      },
      "execution_count": null,
      "outputs": []
    },
    {
      "cell_type": "code",
      "source": [
        "def model(X, W, b):\n",
        "    predictions = 0\n",
        "    for i in range(10):\n",
        "        predictions += X[:,i] * W[i]\n",
        "    predictions += b\n",
        "    return predictions\n",
        "def MSE(a, b):\n",
        "    mse = ((a - b) ** 2).mean()  # 두 값의 차이의 제곱의 평균\n",
        "    return mse\n",
        "def loss(X, W, b, y):\n",
        "    predictions = model(X, W, b)\n",
        "    L = MSE(predictions, y)\n",
        "    return L   "
      ],
      "metadata": {
        "id": "vqEkeYmYZnww"
      },
      "execution_count": null,
      "outputs": []
    },
    {
      "cell_type": "code",
      "source": [
        "def gradient(X, W, b, y):\n",
        "    N = len(W)\n",
        "    y_pred = model(X, W, b)\n",
        "    dW = 1/N * 2 * X.T.dot(y_pred - y)\n",
        "    db = 2 * (y_pred - y).mean()\n",
        "    return dW, db"
      ],
      "metadata": {
        "id": "sqk1c1NNbxC8"
      },
      "execution_count": null,
      "outputs": []
    },
    {
      "cell_type": "code",
      "source": [
        "dW, db = gradient(X_train, W, b, y_train)\n",
        "print(\"dW:\", dW)\n",
        "print(\"db:\", db)"
      ],
      "metadata": {
        "colab": {
          "base_uri": "https://localhost:8080/"
        },
        "id": "bhzzLzBZcdY_",
        "outputId": "86de4b25-c686-489c-a3ba-effb46b89345"
      },
      "execution_count": null,
      "outputs": [
        {
          "output_type": "stream",
          "name": "stdout",
          "text": [
            "dW: [ -52.46800614   -5.08995748 -152.2955393  -130.67514667  -50.18992056\n",
            "  -44.34225641   95.55563099  -97.31851348 -134.7608655  -109.66630675]\n",
            "db: -303.7462513079397\n"
          ]
        }
      ]
    },
    {
      "cell_type": "code",
      "source": [
        "LEARNING_RATE = 0.01"
      ],
      "metadata": {
        "id": "uTflbwNdfDOV"
      },
      "execution_count": null,
      "outputs": []
    },
    {
      "cell_type": "code",
      "source": [
        "losses = []\n",
        "\n",
        "for i in range(1, 1001):\n",
        "    dW, db = gradient(X_train, W, b, y_train)\n",
        "    W -= LEARNING_RATE * dW\n",
        "    b -= LEARNING_RATE * db\n",
        "    L = loss(X_train, W, b, y_train)\n",
        "    losses.append(L)\n",
        "    if i % 10 == 0:\n",
        "        print('Iteration %d : Loss %0.4f' % (i, L))"
      ],
      "metadata": {
        "colab": {
          "base_uri": "https://localhost:8080/"
        },
        "id": "JQd9ZD9QfhDv",
        "outputId": "331b91e5-0c06-48bb-8787-51739df21ed7"
      },
      "execution_count": null,
      "outputs": [
        {
          "output_type": "stream",
          "name": "stdout",
          "text": [
            "Iteration 10 : Loss 21079.2952\n",
            "Iteration 20 : Loss 15733.6443\n",
            "Iteration 30 : Loss 12114.6636\n",
            "Iteration 40 : Loss 9653.2811\n",
            "Iteration 50 : Loss 7969.0504\n",
            "Iteration 60 : Loss 6807.5098\n",
            "Iteration 70 : Loss 5998.3585\n",
            "Iteration 80 : Loss 5427.5286\n",
            "Iteration 90 : Loss 5018.5365\n",
            "Iteration 100 : Loss 4720.0271\n",
            "Iteration 110 : Loss 4497.4553\n",
            "Iteration 120 : Loss 4327.5280\n",
            "Iteration 130 : Loss 4194.4902\n",
            "Iteration 140 : Loss 4087.6431\n",
            "Iteration 150 : Loss 3999.6838\n",
            "Iteration 160 : Loss 3925.5948\n",
            "Iteration 170 : Loss 3861.9004\n",
            "Iteration 180 : Loss 3806.1684\n",
            "Iteration 190 : Loss 3756.6760\n",
            "Iteration 200 : Loss 3712.1849\n",
            "Iteration 210 : Loss 3671.7898\n",
            "Iteration 220 : Loss 3634.8168\n",
            "Iteration 230 : Loss 3600.7539\n",
            "Iteration 240 : Loss 3569.2038\n",
            "Iteration 250 : Loss 3539.8519\n",
            "Iteration 260 : Loss 3512.4441\n",
            "Iteration 270 : Loss 3486.7710\n",
            "Iteration 280 : Loss 3462.6578\n",
            "Iteration 290 : Loss 3439.9557\n",
            "Iteration 300 : Loss 3418.5370\n",
            "Iteration 310 : Loss 3398.2909\n",
            "Iteration 320 : Loss 3379.1202\n",
            "Iteration 330 : Loss 3360.9391\n",
            "Iteration 340 : Loss 3343.6716\n",
            "Iteration 350 : Loss 3327.2499\n",
            "Iteration 360 : Loss 3311.6130\n",
            "Iteration 370 : Loss 3296.7064\n",
            "Iteration 380 : Loss 3282.4807\n",
            "Iteration 390 : Loss 3268.8913\n",
            "Iteration 400 : Loss 3255.8976\n",
            "Iteration 410 : Loss 3243.4629\n",
            "Iteration 420 : Loss 3231.5536\n",
            "Iteration 430 : Loss 3220.1388\n",
            "Iteration 440 : Loss 3209.1905\n",
            "Iteration 450 : Loss 3198.6828\n",
            "Iteration 460 : Loss 3188.5920\n",
            "Iteration 470 : Loss 3178.8960\n",
            "Iteration 480 : Loss 3169.5746\n",
            "Iteration 490 : Loss 3160.6090\n",
            "Iteration 500 : Loss 3151.9818\n",
            "Iteration 510 : Loss 3143.6767\n",
            "Iteration 520 : Loss 3135.6786\n",
            "Iteration 530 : Loss 3127.9734\n",
            "Iteration 540 : Loss 3120.5478\n",
            "Iteration 550 : Loss 3113.3896\n",
            "Iteration 560 : Loss 3106.4870\n",
            "Iteration 570 : Loss 3099.8292\n",
            "Iteration 580 : Loss 3093.4058\n",
            "Iteration 590 : Loss 3087.2071\n",
            "Iteration 600 : Loss 3081.2240\n",
            "Iteration 610 : Loss 3075.4476\n",
            "Iteration 620 : Loss 3069.8700\n",
            "Iteration 630 : Loss 3064.4831\n",
            "Iteration 640 : Loss 3059.2796\n",
            "Iteration 650 : Loss 3054.2524\n",
            "Iteration 660 : Loss 3049.3948\n",
            "Iteration 670 : Loss 3044.7004\n",
            "Iteration 680 : Loss 3040.1632\n",
            "Iteration 690 : Loss 3035.7772\n",
            "Iteration 700 : Loss 3031.5370\n",
            "Iteration 710 : Loss 3027.4371\n",
            "Iteration 720 : Loss 3023.4725\n",
            "Iteration 730 : Loss 3019.6384\n",
            "Iteration 740 : Loss 3015.9299\n",
            "Iteration 750 : Loss 3012.3428\n",
            "Iteration 760 : Loss 3008.8726\n",
            "Iteration 770 : Loss 3005.5153\n",
            "Iteration 780 : Loss 3002.2668\n",
            "Iteration 790 : Loss 2999.1234\n",
            "Iteration 800 : Loss 2996.0815\n",
            "Iteration 810 : Loss 2993.1374\n",
            "Iteration 820 : Loss 2990.2879\n",
            "Iteration 830 : Loss 2987.5297\n",
            "Iteration 840 : Loss 2984.8596\n",
            "Iteration 850 : Loss 2982.2747\n",
            "Iteration 860 : Loss 2979.7720\n",
            "Iteration 870 : Loss 2977.3488\n",
            "Iteration 880 : Loss 2975.0023\n",
            "Iteration 890 : Loss 2972.7301\n",
            "Iteration 900 : Loss 2970.5294\n",
            "Iteration 910 : Loss 2968.3981\n",
            "Iteration 920 : Loss 2966.3337\n",
            "Iteration 930 : Loss 2964.3341\n",
            "Iteration 940 : Loss 2962.3970\n",
            "Iteration 950 : Loss 2960.5204\n",
            "Iteration 960 : Loss 2958.7023\n",
            "Iteration 970 : Loss 2956.9407\n",
            "Iteration 980 : Loss 2955.2337\n",
            "Iteration 990 : Loss 2953.5797\n",
            "Iteration 1000 : Loss 2951.9768\n"
          ]
        }
      ]
    },
    {
      "cell_type": "code",
      "source": [
        "import matplotlib.pyplot as plt\n",
        "plt.plot(losses)\n",
        "plt.show()"
      ],
      "metadata": {
        "colab": {
          "base_uri": "https://localhost:8080/",
          "height": 265
        },
        "id": "2we_VbhHk0AI",
        "outputId": "0cfa4757-29aa-4e2c-81f7-0967c63e413b"
      },
      "execution_count": null,
      "outputs": [
        {
          "output_type": "display_data",
          "data": {
            "text/plain": [
              "<Figure size 432x288 with 1 Axes>"
            ],
            "image/png": "[encoded data removed]"
          },
          "metadata": {
            "needs_background": "light"
          }
        }
      ]
    },
    {
      "cell_type": "code",
      "source": [
        "prediction = model(X_test, W, b)\n",
        "mse = loss(X_test, W, b, y_test)\n",
        "mse"
      ],
      "metadata": {
        "colab": {
          "base_uri": "https://localhost:8080/"
        },
        "id": "aWZulMiJlAoH",
        "outputId": "391f5ea3-e0ab-478b-dea0-a8f1ccf2be21"
      },
      "execution_count": null,
      "outputs": [
        {
          "output_type": "execute_result",
          "data": {
            "text/plain": [
              "2890.333747765596"
            ]
          },
          "metadata": {},
          "execution_count": 291
        }
      ]
    },
    {
      "cell_type": "code",
      "source": [
        "plt.scatter(X_test[:, 0], y_test)\n",
        "plt.scatter(X_test[:, 0], prediction)\n",
        "plt.show()"
      ],
      "metadata": {
        "colab": {
          "base_uri": "https://localhost:8080/",
          "height": 265
        },
        "id": "MqGcQNg5lXhQ",
        "outputId": "8ae0ba2f-1c02-411c-89a2-a416f6fc925e"
      },
      "execution_count": null,
      "outputs": [
        {
          "output_type": "display_data",
          "data": {
            "text/plain": [
              "<Figure size 432x288 with 1 Axes>"
            ],
            "image/png": "[encoded data removed]"
          },
          "metadata": {
            "needs_background": "light"
          }
        }
      ]
    },
    {
      "cell_type": "markdown",
      "source": [
        "# Analysis Of Bicycles Using"
      ],
      "metadata": {
        "id": "slg8Oa4UO0JC"
      }
    },
    {
      "cell_type": "code",
      "source": [
        "import pandas as pd\n",
        "data=pd.read_csv('/content/train.csv')\n",
        "data"
      ],
      "metadata": {
        "colab": {
          "base_uri": "https://localhost:8080/",
          "height": 424
        },
        "id": "l8qaLZNSpRHG",
        "outputId": "1c3b13e4-4a1e-4de6-dbb0-8aa2fd15d54d"
      },
      "execution_count": null,
      "outputs": [
        {
          "output_type": "execute_result",
          "data": {
            "text/plain": [
              "                  datetime  season  holiday  workingday  weather   temp  \\\n",
              "0      2011-01-01 00:00:00       1        0           0        1   9.84   \n",
              "1      2011-01-01 01:00:00       1        0           0        1   9.02   \n",
              "2      2011-01-01 02:00:00       1        0           0        1   9.02   \n",
              "3      2011-01-01 03:00:00       1        0           0        1   9.84   \n",
              "4      2011-01-01 04:00:00       1        0           0        1   9.84   \n",
              "...                    ...     ...      ...         ...      ...    ...   \n",
              "10881  2012-12-19 19:00:00       4        0           1        1  15.58   \n",
              "10882  2012-12-19 20:00:00       4        0           1        1  14.76   \n",
              "10883  2012-12-19 21:00:00       4        0           1        1  13.94   \n",
              "10884  2012-12-19 22:00:00       4        0           1        1  13.94   \n",
              "10885  2012-12-19 23:00:00       4        0           1        1  13.12   \n",
              "\n",
              "        atemp  humidity  windspeed  casual  registered  count  \n",
              "0      14.395        81     0.0000       3          13     16  \n",
              "1      13.635        80     0.0000       8          32     40  \n",
              "2      13.635        80     0.0000       5          27     32  \n",
              "3      14.395        75     0.0000       3          10     13  \n",
              "4      14.395        75     0.0000       0           1      1  \n",
              "...       ...       ...        ...     ...         ...    ...  \n",
              "10881  19.695        50    26.0027       7         329    336  \n",
              "10882  17.425        57    15.0013      10         231    241  \n",
              "10883  15.910        61    15.0013       4         164    168  \n",
              "10884  17.425        61     6.0032      12         117    129  \n",
              "10885  16.665        66     8.9981       4          84     88  \n",
              "\n",
              "[10886 rows x 12 columns]"
            ],
            "text/html": [
              "\n",
              "  <div id=\"df-d6ec7097-f105-4805-91bf-a9661a823a69\">\n",
              "    <div class=\"colab-df-container\">\n",
              "      <div>\n",
              "<style scoped>\n",
              "    .dataframe tbody tr th:only-of-type {\n",
              "        vertical-align: middle;\n",
              "    }\n",
              "\n",
              "    .dataframe tbody tr th {\n",
              "        vertical-align: top;\n",
              "    }\n",
              "\n",
              "    .dataframe thead th {\n",
              "        text-align: right;\n",
              "    }\n",
              "</style>\n",
              "<table border=\"1\" class=\"dataframe\">\n",
              "  <thead>\n",
              "    <tr style=\"text-align: right;\">\n",
              "      <th></th>\n",
              "      <th>datetime</th>\n",
              "      <th>season</th>\n",
              "      <th>holiday</th>\n",
              "      <th>workingday</th>\n",
              "      <th>weather</th>\n",
              "      <th>temp</th>\n",
              "      <th>atemp</th>\n",
              "      <th>humidity</th>\n",
              "      <th>windspeed</th>\n",
              "      <th>casual</th>\n",
              "      <th>registered</th>\n",
              "      <th>count</th>\n",
              "    </tr>\n",
              "  </thead>\n",
              "  <tbody>\n",
              "    <tr>\n",
              "      <th>0</th>\n",
              "      <td>2011-01-01 00:00:00</td>\n",
              "      <td>1</td>\n",
              "      <td>0</td>\n",
              "      <td>0</td>\n",
              "      <td>1</td>\n",
              "      <td>9.84</td>\n",
              "      <td>14.395</td>\n",
              "      <td>81</td>\n",
              "      <td>0.0000</td>\n",
              "      <td>3</td>\n",
              "      <td>13</td>\n",
              "      <td>16</td>\n",
              "    </tr>\n",
              "    <tr>\n",
              "      <th>1</th>\n",
              "      <td>2011-01-01 01:00:00</td>\n",
              "      <td>1</td>\n",
              "      <td>0</td>\n",
              "      <td>0</td>\n",
              "      <td>1</td>\n",
              "      <td>9.02</td>\n",
              "      <td>13.635</td>\n",
              "      <td>80</td>\n",
              "      <td>0.0000</td>\n",
              "      <td>8</td>\n",
              "      <td>32</td>\n",
              "      <td>40</td>\n",
              "    </tr>\n",
              "    <tr>\n",
              "      <th>2</th>\n",
              "      <td>2011-01-01 02:00:00</td>\n",
              "      <td>1</td>\n",
              "      <td>0</td>\n",
              "      <td>0</td>\n",
              "      <td>1</td>\n",
              "      <td>9.02</td>\n",
              "      <td>13.635</td>\n",
              "      <td>80</td>\n",
              "      <td>0.0000</td>\n",
              "      <td>5</td>\n",
              "      <td>27</td>\n",
              "      <td>32</td>\n",
              "    </tr>\n",
              "    <tr>\n",
              "      <th>3</th>\n",
              "      <td>2011-01-01 03:00:00</td>\n",
              "      <td>1</td>\n",
              "      <td>0</td>\n",
              "      <td>0</td>\n",
              "      <td>1</td>\n",
              "      <td>9.84</td>\n",
              "      <td>14.395</td>\n",
              "      <td>75</td>\n",
              "      <td>0.0000</td>\n",
              "      <td>3</td>\n",
              "      <td>10</td>\n",
              "      <td>13</td>\n",
              "    </tr>\n",
              "    <tr>\n",
              "      <th>4</th>\n",
              "      <td>2011-01-01 04:00:00</td>\n",
              "      <td>1</td>\n",
              "      <td>0</td>\n",
              "      <td>0</td>\n",
              "      <td>1</td>\n",
              "      <td>9.84</td>\n",
              "      <td>14.395</td>\n",
              "      <td>75</td>\n",
              "      <td>0.0000</td>\n",
              "      <td>0</td>\n",
              "      <td>1</td>\n",
              "      <td>1</td>\n",
              "    </tr>\n",
              "    <tr>\n",
              "      <th>...</th>\n",
              "      <td>...</td>\n",
              "      <td>...</td>\n",
              "      <td>...</td>\n",
              "      <td>...</td>\n",
              "      <td>...</td>\n",
              "      <td>...</td>\n",
              "      <td>...</td>\n",
              "      <td>...</td>\n",
              "      <td>...</td>\n",
              "      <td>...</td>\n",
              "      <td>...</td>\n",
              "      <td>...</td>\n",
              "    </tr>\n",
              "    <tr>\n",
              "      <th>10881</th>\n",
              "      <td>2012-12-19 19:00:00</td>\n",
              "      <td>4</td>\n",
              "      <td>0</td>\n",
              "      <td>1</td>\n",
              "      <td>1</td>\n",
              "      <td>15.58</td>\n",
              "      <td>19.695</td>\n",
              "      <td>50</td>\n",
              "      <td>26.0027</td>\n",
              "      <td>7</td>\n",
              "      <td>329</td>\n",
              "      <td>336</td>\n",
              "    </tr>\n",
              "    <tr>\n",
              "      <th>10882</th>\n",
              "      <td>2012-12-19 20:00:00</td>\n",
              "      <td>4</td>\n",
              "      <td>0</td>\n",
              "      <td>1</td>\n",
              "      <td>1</td>\n",
              "      <td>14.76</td>\n",
              "      <td>17.425</td>\n",
              "      <td>57</td>\n",
              "      <td>15.0013</td>\n",
              "      <td>10</td>\n",
              "      <td>231</td>\n",
              "      <td>241</td>\n",
              "    </tr>\n",
              "    <tr>\n",
              "      <th>10883</th>\n",
              "      <td>2012-12-19 21:00:00</td>\n",
              "      <td>4</td>\n",
              "      <td>0</td>\n",
              "      <td>1</td>\n",
              "      <td>1</td>\n",
              "      <td>13.94</td>\n",
              "      <td>15.910</td>\n",
              "      <td>61</td>\n",
              "      <td>15.0013</td>\n",
              "      <td>4</td>\n",
              "      <td>164</td>\n",
              "      <td>168</td>\n",
              "    </tr>\n",
              "    <tr>\n",
              "      <th>10884</th>\n",
              "      <td>2012-12-19 22:00:00</td>\n",
              "      <td>4</td>\n",
              "      <td>0</td>\n",
              "      <td>1</td>\n",
              "      <td>1</td>\n",
              "      <td>13.94</td>\n",
              "      <td>17.425</td>\n",
              "      <td>61</td>\n",
              "      <td>6.0032</td>\n",
              "      <td>12</td>\n",
              "      <td>117</td>\n",
              "      <td>129</td>\n",
              "    </tr>\n",
              "    <tr>\n",
              "      <th>10885</th>\n",
              "      <td>2012-12-19 23:00:00</td>\n",
              "      <td>4</td>\n",
              "      <td>0</td>\n",
              "      <td>1</td>\n",
              "      <td>1</td>\n",
              "      <td>13.12</td>\n",
              "      <td>16.665</td>\n",
              "      <td>66</td>\n",
              "      <td>8.9981</td>\n",
              "      <td>4</td>\n",
              "      <td>84</td>\n",
              "      <td>88</td>\n",
              "    </tr>\n",
              "  </tbody>\n",
              "</table>\n",
              "<p>10886 rows × 12 columns</p>\n",
              "</div>\n",
              "      <button class=\"colab-df-convert\" onclick=\"convertToInteractive('df-d6ec7097-f105-4805-91bf-a9661a823a69')\"\n",
              "              title=\"Convert this dataframe to an interactive table.\"\n",
              "              style=\"display:none;\">\n",
              "        \n",
              "  <svg xmlns=\"http://www.w3.org/2000/svg\" height=\"24px\"viewBox=\"0 0 24 24\"\n",
              "       width=\"24px\">\n",
              "    <path d=\"M0 0h24v24H0V0z\" fill=\"none\"/>\n",
              "    <path d=\"M18.56 5.44l.94 2.06.94-2.06 2.06-.94-2.06-.94-.94-2.06-.94 2.06-2.06.94zm-11 1L8.5 8.5l.94-2.06 2.06-.94-2.06-.94L8.5 2.5l-.94 2.06-2.06.94zm10 10l.94 2.06.94-2.06 2.06-.94-2.06-.94-.94-2.06-.94 2.06-2.06.94z\"/><path d=\"M17.41 7.96l-1.37-1.37c-.4-.4-.92-.59-1.43-.59-.52 0-1.04.2-1.43.59L10.3 9.45l-7.72 7.72c-.78.78-.78 2.05 0 2.83L4 21.41c.39.39.9.59 1.41.59.51 0 1.02-.2 1.41-.59l7.78-7.78 2.81-2.81c.8-.78.8-2.07 0-2.86zM5.41 20L4 18.59l7.72-7.72 1.47 1.35L5.41 20z\"/>\n",
              "  </svg>\n",
              "      </button>\n",
              "      \n",
              "  <style>\n",
              "    .colab-df-container {\n",
              "      display:flex;\n",
              "      flex-wrap:wrap;\n",
              "      gap: 12px;\n",
              "    }\n",
              "\n",
              "    .colab-df-convert {\n",
              "      background-color: #E8F0FE;\n",
              "      border: none;\n",
              "      border-radius: 50%;\n",
              "      cursor: pointer;\n",
              "      display: none;\n",
              "      fill: #1967D2;\n",
              "      height: 32px;\n",
              "      padding: 0 0 0 0;\n",
              "      width: 32px;\n",
              "    }\n",
              "\n",
              "    .colab-df-convert:hover {\n",
              "      background-color: #E2EBFA;\n",
              "      box-shadow: 0px 1px 2px rgba(60, 64, 67, 0.3), 0px 1px 3px 1px rgba(60, 64, 67, 0.15);\n",
              "      fill: #174EA6;\n",
              "    }\n",
              "\n",
              "    [theme=dark] .colab-df-convert {\n",
              "      background-color: #3B4455;\n",
              "      fill: #D2E3FC;\n",
              "    }\n",
              "\n",
              "    [theme=dark] .colab-df-convert:hover {\n",
              "      background-color: #434B5C;\n",
              "      box-shadow: 0px 1px 3px 1px rgba(0, 0, 0, 0.15);\n",
              "      filter: drop-shadow(0px 1px 2px rgba(0, 0, 0, 0.3));\n",
              "      fill: #FFFFFF;\n",
              "    }\n",
              "  </style>\n",
              "\n",
              "      <script>\n",
              "        const buttonEl =\n",
              "          document.querySelector('#df-d6ec7097-f105-4805-91bf-a9661a823a69 button.colab-df-convert');\n",
              "        buttonEl.style.display =\n",
              "          google.colab.kernel.accessAllowed ? 'block' : 'none';\n",
              "\n",
              "        async function convertToInteractive(key) {\n",
              "          const element = document.querySelector('#df-d6ec7097-f105-4805-91bf-a9661a823a69');\n",
              "          const dataTable =\n",
              "            await google.colab.kernel.invokeFunction('convertToInteractive',\n",
              "                                                     [key], {});\n",
              "          if (!dataTable) return;\n",
              "\n",
              "          const docLinkHtml = 'Like what you see? Visit the ' +\n",
              "            '<a target=\"_blank\" href=https://colab.research.google.com/notebooks/data_table.ipynb>data table notebook</a>'\n",
              "            + ' to learn more about interactive tables.';\n",
              "          element.innerHTML = '';\n",
              "          dataTable['output_type'] = 'display_data';\n",
              "          await google.colab.output.renderOutput(dataTable, element);\n",
              "          const docLink = document.createElement('div');\n",
              "          docLink.innerHTML = docLinkHtml;\n",
              "          element.appendChild(docLink);\n",
              "        }\n",
              "      </script>\n",
              "    </div>\n",
              "  </div>\n",
              "  "
            ]
          },
          "metadata": {},
          "execution_count": 293
        }
      ]
    },
    {
      "cell_type": "code",
      "source": [
        "data['datetime']=pd.to_datetime(data['datetime'])\n",
        "df=pd.DataFrame(data)\n",
        "df['datetime'] = pd.to_datetime(df['datetime'], format='%Y-%m-%d %H:%M:%S', errors='raise')\n",
        "df['year'] = df['datetime'].dt.year         # 연(4자리숫자)\n",
        "df['month'] = df['datetime'].dt.month        # 월(숫자)\n",
        "df['day'] = df['datetime'].dt.day          # 일(숫자)\n",
        "df['hour'] = df['datetime'].dt.hour         # 시(숫자)\n",
        "df['minute'] = df['datetime'].dt.minute       # 분(숫자)\n",
        "df['second'] = df['datetime'].dt.second       # 초(숫자)\n",
        "print(df)\n"
      ],
      "metadata": {
        "id": "RdhuWm_vvk9N",
        "colab": {
          "base_uri": "https://localhost:8080/"
        },
        "outputId": "4fd86d10-97c4-4bd7-a260-b324c105034f"
      },
      "execution_count": null,
      "outputs": [
        {
          "output_type": "stream",
          "name": "stdout",
          "text": [
            "                 datetime  season  holiday  workingday  weather   temp  \\\n",
            "0     2011-01-01 00:00:00       1        0           0        1   9.84   \n",
            "1     2011-01-01 01:00:00       1        0           0        1   9.02   \n",
            "2     2011-01-01 02:00:00       1        0           0        1   9.02   \n",
            "3     2011-01-01 03:00:00       1        0           0        1   9.84   \n",
            "4     2011-01-01 04:00:00       1        0           0        1   9.84   \n",
            "...                   ...     ...      ...         ...      ...    ...   \n",
            "10881 2012-12-19 19:00:00       4        0           1        1  15.58   \n",
            "10882 2012-12-19 20:00:00       4        0           1        1  14.76   \n",
            "10883 2012-12-19 21:00:00       4        0           1        1  13.94   \n",
            "10884 2012-12-19 22:00:00       4        0           1        1  13.94   \n",
            "10885 2012-12-19 23:00:00       4        0           1        1  13.12   \n",
            "\n",
            "        atemp  humidity  windspeed  casual  registered  count  year  month  \\\n",
            "0      14.395        81     0.0000       3          13     16  2011      1   \n",
            "1      13.635        80     0.0000       8          32     40  2011      1   \n",
            "2      13.635        80     0.0000       5          27     32  2011      1   \n",
            "3      14.395        75     0.0000       3          10     13  2011      1   \n",
            "4      14.395        75     0.0000       0           1      1  2011      1   \n",
            "...       ...       ...        ...     ...         ...    ...   ...    ...   \n",
            "10881  19.695        50    26.0027       7         329    336  2012     12   \n",
            "10882  17.425        57    15.0013      10         231    241  2012     12   \n",
            "10883  15.910        61    15.0013       4         164    168  2012     12   \n",
            "10884  17.425        61     6.0032      12         117    129  2012     12   \n",
            "10885  16.665        66     8.9981       4          84     88  2012     12   \n",
            "\n",
            "       day  hour  minute  second  \n",
            "0        1     0       0       0  \n",
            "1        1     1       0       0  \n",
            "2        1     2       0       0  \n",
            "3        1     3       0       0  \n",
            "4        1     4       0       0  \n",
            "...    ...   ...     ...     ...  \n",
            "10881   19    19       0       0  \n",
            "10882   19    20       0       0  \n",
            "10883   19    21       0       0  \n",
            "10884   19    22       0       0  \n",
            "10885   19    23       0       0  \n",
            "\n",
            "[10886 rows x 18 columns]\n"
          ]
        }
      ]
    },
    {
      "cell_type": "code",
      "source": [
        "import seaborn as sns\n",
        "import matplotlib.pyplot as plt\n",
        "f,ax = plt.subplots(2,3,figsize = (18,8))\n",
        "sns.countplot(x='year',data=df,ax=ax[0,0])\n",
        "ax[0,0].set_title('year count')\n",
        "sns.countplot(x='month',data=df,ax=ax[0,1])\n",
        "ax[0,1].set_title('month count')\n",
        "sns.countplot(x='day',data=df,ax=ax[0,2])\n",
        "ax[0,2].set_title('day count')\n",
        "sns.countplot(x='hour',data=df,ax=ax[1,0])\n",
        "ax[1,0].set_title('hour count')\n",
        "sns.countplot(x='minute',data=df,ax=ax[1,1])\n",
        "ax[1,1].set_title('minute count')\n",
        "sns.countplot(x='second',data=df,ax=ax[1,2])\n",
        "ax[1,2].set_title('second count')\n",
        "plt.subplots_adjust(wspace=0.6,hspace=0.6)\n",
        "plt.show()"
      ],
      "metadata": {
        "colab": {
          "base_uri": "https://localhost:8080/",
          "height": 513
        },
        "id": "_iCDG2ZF4Srw",
        "outputId": "feefe02d-fbe1-4ed8-b1ca-859c6c8f3ab7"
      },
      "execution_count": null,
      "outputs": [
        {
          "output_type": "display_data",
          "data": {
            "text/plain": [
              "<Figure size 1296x576 with 6 Axes>"
            ],
            "image/png": "[encoded data removed]"
          },
          "metadata": {
            "needs_background": "light"
          }
        }
      ]
    },
    {
      "cell_type": "code",
      "source": [
        "df_2 = df.drop(['datetime','casual','registered','minute','second'], axis = 1)\n",
        "print(df_2)"
      ],
      "metadata": {
        "colab": {
          "base_uri": "https://localhost:8080/"
        },
        "id": "x1UhJSfgB_J-",
        "outputId": "e93d2187-8479-4074-84c5-27e43f35bcb8"
      },
      "execution_count": null,
      "outputs": [
        {
          "output_type": "stream",
          "name": "stdout",
          "text": [
            "       season  holiday  workingday  weather   temp   atemp  humidity  \\\n",
            "0           1        0           0        1   9.84  14.395        81   \n",
            "1           1        0           0        1   9.02  13.635        80   \n",
            "2           1        0           0        1   9.02  13.635        80   \n",
            "3           1        0           0        1   9.84  14.395        75   \n",
            "4           1        0           0        1   9.84  14.395        75   \n",
            "...       ...      ...         ...      ...    ...     ...       ...   \n",
            "10881       4        0           1        1  15.58  19.695        50   \n",
            "10882       4        0           1        1  14.76  17.425        57   \n",
            "10883       4        0           1        1  13.94  15.910        61   \n",
            "10884       4        0           1        1  13.94  17.425        61   \n",
            "10885       4        0           1        1  13.12  16.665        66   \n",
            "\n",
            "       windspeed  count  year  month  day  hour  \n",
            "0         0.0000     16  2011      1    1     0  \n",
            "1         0.0000     40  2011      1    1     1  \n",
            "2         0.0000     32  2011      1    1     2  \n",
            "3         0.0000     13  2011      1    1     3  \n",
            "4         0.0000      1  2011      1    1     4  \n",
            "...          ...    ...   ...    ...  ...   ...  \n",
            "10881    26.0027    336  2012     12   19    19  \n",
            "10882    15.0013    241  2012     12   19    20  \n",
            "10883    15.0013    168  2012     12   19    21  \n",
            "10884     6.0032    129  2012     12   19    22  \n",
            "10885     8.9981     88  2012     12   19    23  \n",
            "\n",
            "[10886 rows x 13 columns]\n"
          ]
        }
      ]
    },
    {
      "cell_type": "code",
      "source": [
        "from sklearn.model_selection import train_test_split\n",
        "y = df_2['count']\n",
        "df_3=df_2.drop(['count'],axis=1)\n",
        "X = df_3[0:]\n",
        "X_train, X_test, y_train, y_test = train_test_split(X,y,test_size=0.2, random_state=10)\n",
        "print('shape of X_train+y_train is : ',df_3[0:].shape)\n",
        "print('shape of y_train+y_test is : ',df_2['count'].shape)\n",
        "print('Component shapes :', X_train.shape, X_test.shape, y_train.shape, y_test.shape )"
      ],
      "metadata": {
        "colab": {
          "base_uri": "https://localhost:8080/"
        },
        "id": "rlq0QBZUHd_J",
        "outputId": "a0bec014-45c8-4190-c8d8-a7fc3391f1ac"
      },
      "execution_count": null,
      "outputs": [
        {
          "output_type": "stream",
          "name": "stdout",
          "text": [
            "shape of X_train+y_train is :  (10886, 12)\n",
            "shape of y_train+y_test is :  (10886,)\n",
            "Component shapes : (8708, 12) (2178, 12) (8708,) (2178,)\n"
          ]
        }
      ]
    },
    {
      "cell_type": "code",
      "source": [
        "print('shape of y is : ',y.shape)\n",
        "print(y_test.shape)\n",
        "print(y_test)\n",
        "print(y_train.shape)\n",
        "print(y_train)\n",
        "print(X)"
      ],
      "metadata": {
        "colab": {
          "base_uri": "https://localhost:8080/"
        },
        "id": "sZgEpjjtNtfi",
        "outputId": "db0b069a-147d-4932-b4c3-5badaac471e0"
      },
      "execution_count": null,
      "outputs": [
        {
          "output_type": "stream",
          "name": "stdout",
          "text": [
            "(10886,)\n",
            "(2178,)\n",
            "8686      67\n",
            "8453     369\n",
            "10419    251\n",
            "3192     191\n",
            "176       74\n",
            "        ... \n",
            "9309     211\n",
            "322       36\n",
            "7168      11\n",
            "2378      20\n",
            "10259    155\n",
            "Name: count, Length: 2178, dtype: int64\n",
            "(8708,)\n",
            "7038     202\n",
            "4114     126\n",
            "5720     154\n",
            "3219      17\n",
            "10711    561\n",
            "        ... \n",
            "9372     317\n",
            "7291       2\n",
            "1344      93\n",
            "7293     136\n",
            "1289     174\n",
            "Name: count, Length: 8708, dtype: int64\n",
            "       season  holiday  workingday  weather   temp   atemp  humidity  \\\n",
            "0           1        0           0        1   9.84  14.395        81   \n",
            "1           1        0           0        1   9.02  13.635        80   \n",
            "2           1        0           0        1   9.02  13.635        80   \n",
            "3           1        0           0        1   9.84  14.395        75   \n",
            "4           1        0           0        1   9.84  14.395        75   \n",
            "...       ...      ...         ...      ...    ...     ...       ...   \n",
            "10881       4        0           1        1  15.58  19.695        50   \n",
            "10882       4        0           1        1  14.76  17.425        57   \n",
            "10883       4        0           1        1  13.94  15.910        61   \n",
            "10884       4        0           1        1  13.94  17.425        61   \n",
            "10885       4        0           1        1  13.12  16.665        66   \n",
            "\n",
            "       windspeed  year  month  day  hour  \n",
            "0         0.0000  2011      1    1     0  \n",
            "1         0.0000  2011      1    1     1  \n",
            "2         0.0000  2011      1    1     2  \n",
            "3         0.0000  2011      1    1     3  \n",
            "4         0.0000  2011      1    1     4  \n",
            "...          ...   ...    ...  ...   ...  \n",
            "10881    26.0027  2012     12   19    19  \n",
            "10882    15.0013  2012     12   19    20  \n",
            "10883    15.0013  2012     12   19    21  \n",
            "10884     6.0032  2012     12   19    22  \n",
            "10885     8.9981  2012     12   19    23  \n",
            "\n",
            "[10886 rows x 12 columns]\n"
          ]
        }
      ]
    },
    {
      "cell_type": "code",
      "source": [
        "from sklearn.linear_model import LinearRegression\n",
        "L_model = LinearRegression()\n",
        "L_model.fit(X_train,y_train)\n",
        "predictions = L_model.predict(X_test)\n",
        "print(predictions)\n",
        "print('예측치 최대값 : ',predictions.max())\n",
        "print('예측치 최소값 : ',predictions.min())"
      ],
      "metadata": {
        "colab": {
          "base_uri": "https://localhost:8080/"
        },
        "id": "DuNM5B8TMUY-",
        "outputId": "d4cb6dbe-a066-4947-ed72-2f5158f5f395"
      },
      "execution_count": null,
      "outputs": [
        {
          "output_type": "stream",
          "name": "stdout",
          "text": [
            "[241.92214963 369.73406816 286.08015412 ... 186.6837628   92.14668773\n",
            " 318.59216258]\n",
            "예측치 최대값 :  463.2479286122252\n",
            "예측치 최소값 :  -130.90701278144843\n"
          ]
        }
      ]
    },
    {
      "cell_type": "code",
      "source": [
        "import math as ma\n",
        "def MSE(a, b):\n",
        "    mse = ((a - b) ** 2).mean()  # 두 값의 차이의 제곱의 평균\n",
        "    return mse\n",
        "def RMSE(mse):\n",
        "    return ma.sqrt(mse)    \n",
        "print('mse of predictions : ',MSE(predictions, y_test))\n",
        "print('rmse of predictions : ', RMSE(MSE(predictions, y_test)))    "
      ],
      "metadata": {
        "colab": {
          "base_uri": "https://localhost:8080/"
        },
        "id": "3ZIQVWiVG1-b",
        "outputId": "bed2f6d6-ca72-4e33-967b-99500b119795"
      },
      "execution_count": null,
      "outputs": [
        {
          "output_type": "stream",
          "name": "stdout",
          "text": [
            "mse of predictions :  20826.9936776479\n",
            "rmse of predictions :  144.31560441493463\n"
          ]
        }
      ]
    },
    {
      "cell_type": "code",
      "source": [
        "plt.scatter(X_test['temp'],y_test)\n",
        "plt.scatter(X_test['temp'],predictions)\n",
        "plt.show()\n",
        "ax3=plt.scatter(X_test['humidity'],y_test)\n",
        "ax4=plt.scatter(X_test['humidity'],predictions)\n",
        "plt.show()"
      ],
      "metadata": {
        "colab": {
          "base_uri": "https://localhost:8080/",
          "height": 513
        },
        "id": "xbAEOM7RKKXp",
        "outputId": "8b6419a6-7c26-4cbe-f879-5a551e15ae72"
      },
      "execution_count": null,
      "outputs": [
        {
          "output_type": "display_data",
          "data": {
            "text/plain": [
              "<Figure size 432x288 with 1 Axes>"
            ],
            "image/png": "[encoded data removed]"
          },
          "metadata": {
            "needs_background": "light"
          }
        },
        {
          "output_type": "display_data",
          "data": {
            "text/plain": [
              "<Figure size 432x288 with 1 Axes>"
            ],
            "image/png": "[encoded data removed]"
          },
          "metadata": {
            "needs_background": "light"
          }
        }
      ]
    }
  ]
}