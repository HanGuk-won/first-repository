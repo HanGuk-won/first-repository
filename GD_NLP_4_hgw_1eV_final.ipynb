{
 "cells": [
  {
   "cell_type": "markdown",
   "id": "2ddc2d08",
   "metadata": {},
   "source": [
    "## NLP4. 뉴스 카테고리 다중분류"
   ]
  },
  {
   "cell_type": "code",
   "execution_count": 1,
   "id": "3bb9623d",
   "metadata": {},
   "outputs": [],
   "source": [
    "# 모든 프로젝트에 해당되는 패키지를 먼저 임포트\n",
    "from tensorflow.keras.datasets import reuters\n",
    "import matplotlib.pyplot as plt\n",
    "import seaborn as sns\n",
    "import numpy as np\n",
    "import pandas as pd\n",
    "\n",
    "from sklearn.feature_extraction.text import CountVectorizer\n",
    "from sklearn.feature_extraction.text import TfidfTransformer\n",
    "\n",
    "from sklearn.naive_bayes import MultinomialNB #다항분포 나이브 베이즈 모델\n",
    "from sklearn.linear_model import LogisticRegression, SGDClassifier\n",
    "from sklearn.naive_bayes import ComplementNB\n",
    "from sklearn.tree import DecisionTreeClassifier\n",
    "from sklearn.ensemble import RandomForestClassifier\n",
    "from sklearn.ensemble import GradientBoostingClassifier\n",
    "from sklearn.ensemble import VotingClassifier\n",
    "from sklearn.svm import LinearSVC\n",
    "from sklearn.metrics import accuracy_score #정확도 계산\n",
    "\n",
    "from sklearn.metrics import classification_report\n",
    "from sklearn.metrics import confusion_matrix"
   ]
  },
  {
   "cell_type": "code",
   "execution_count": 2,
   "id": "2e3f00d1",
   "metadata": {},
   "outputs": [],
   "source": [
    "(x_train, y_train), (x_test, y_test) = reuters.load_data(num_words=None, test_split=0.2)"
   ]
  },
  {
   "cell_type": "code",
   "execution_count": 3,
   "id": "db04c8c6",
   "metadata": {},
   "outputs": [
    {
     "name": "stdout",
     "output_type": "stream",
     "text": [
      "훈련용 뉴스의 최대 길이 :2376\n",
      "훈련용 뉴스의 평균 길이 :145.5398574927633\n"
     ]
    },
    {
     "data": {
      "image/png": "[encoded data removed]",
      "text/plain": [
       "<Figure size 432x288 with 1 Axes>"
      ]
     },
     "metadata": {
      "needs_background": "light"
     },
     "output_type": "display_data"
    }
   ],
   "source": [
    "#데이터 분포 파악\n",
    "print('훈련용 뉴스의 최대 길이 :{}'.format(max(len(l) for l in x_train)))\n",
    "print('훈련용 뉴스의 평균 길이 :{}'.format(sum(map(len,x_train))/len(x_train)))\n",
    "\n",
    "plt.hist([len(s) for s in x_train], bins=50)\n",
    "plt.xlabel('length of samples')\n",
    "plt.ylabel('number of samples')\n",
    "plt.show()"
   ]
  },
  {
   "cell_type": "code",
   "execution_count": 4,
   "id": "3d799686",
   "metadata": {},
   "outputs": [
    {
     "data": {
      "image/png": "[encoded data removed]",
      "text/plain": [
       "<Figure size 792x360 with 1 Axes>"
      ]
     },
     "metadata": {
      "needs_background": "light"
     },
     "output_type": "display_data"
    }
   ],
   "source": [
    "fig, axe = plt.subplots(ncols=1)\n",
    "fig.set_size_inches(11,5)\n",
    "sns.countplot(x=y_train)\n",
    "plt.show()"
   ]
  },
  {
   "cell_type": "code",
   "execution_count": 5,
   "id": "bffa44d9",
   "metadata": {},
   "outputs": [],
   "source": [
    "# 텍스트데이터로 복원\n",
    "word_index = reuters.get_word_index(path=\"reuters_word_index.json\")\n",
    "\n",
    "# 인덱스 +3\n",
    "index_to_word = {index + 3 : word for word, index in word_index.items()}\n",
    "\n",
    "# index_to_word에 숫자 0은 <pad>, 숫자 1은 <sos>, 숫자 2는 <unk>를 넣어줍니다.\n",
    "for index, token in enumerate((\"<pad>\", \"<sos>\", \"<unk>\")):\n",
    "    index_to_word[index]=token"
   ]
  },
  {
   "cell_type": "code",
   "execution_count": 6,
   "id": "be197ebb",
   "metadata": {},
   "outputs": [],
   "source": [
    "# 전체 학습데이터 복원\n",
    "decoded = []\n",
    "for i in range(len(x_train)):\n",
    "    t = ' '.join([index_to_word[index] for index in x_train[i]])\n",
    "    decoded.append(t)\n",
    "\n",
    "x_train = decoded"
   ]
  },
  {
   "cell_type": "code",
   "execution_count": 7,
   "id": "0066b38b",
   "metadata": {},
   "outputs": [],
   "source": [
    "# 전체 테스트데이터 복원\n",
    "decoded = []\n",
    "for i in range(len(x_test)):\n",
    "    t = ' '.join([index_to_word[index] for index in x_test[i]])\n",
    "    decoded.append(t)\n",
    "\n",
    "x_test = decoded"
   ]
  },
  {
   "cell_type": "code",
   "execution_count": 8,
   "id": "6bd989c3",
   "metadata": {},
   "outputs": [
    {
     "name": "stdout",
     "output_type": "stream",
     "text": [
      "(8982, 26506)\n"
     ]
    }
   ],
   "source": [
    "# DTM 확인\n",
    "dtmvector = CountVectorizer()\n",
    "x_train_dtm = dtmvector.fit_transform(x_train)\n",
    "print(x_train_dtm.shape)\n",
    "\n",
    "# 테스트데이터\n",
    "x_test_dtm = dtmvector.transform(x_test) #테스트 데이터를 DTM으로 변환"
   ]
  },
  {
   "cell_type": "code",
   "execution_count": 9,
   "id": "773c2a30",
   "metadata": {},
   "outputs": [
    {
     "name": "stdout",
     "output_type": "stream",
     "text": [
      "(8982, 26506)\n"
     ]
    }
   ],
   "source": [
    "# TF-IDF Matrix확인\n",
    "tfidf_transformer = TfidfTransformer()\n",
    "tfidfv = tfidf_transformer.fit_transform(x_train_dtm)\n",
    "print(tfidfv.shape)\n",
    "\n",
    "# 테스트데이터\n",
    "tfidfv_test = tfidf_transformer.transform(x_test_dtm) #DTM을 TF-IDF 행렬로 변환"
   ]
  },
  {
   "cell_type": "markdown",
   "id": "b769dd8d",
   "metadata": {},
   "source": [
    "### 모델별 정확도 예측(num_words=None)"
   ]
  },
  {
   "cell_type": "code",
   "execution_count": 10,
   "id": "bbda68b3",
   "metadata": {},
   "outputs": [],
   "source": [
    "# 결과값 비교를 위한 리스트 선언\n",
    "classifier_list = [\"MultinomialNB\", \"ComplementNB\", \"Logistic Regression\", \"LinearSVC\", \"Decision Tree\", \"Random Forest\", \"GradientBoostingClassifier\", \"LGBM\", \"Voting\"]\n",
    "classifier_answer_list = []"
   ]
  },
  {
   "cell_type": "markdown",
   "id": "1c43ed31",
   "metadata": {},
   "source": [
    "**나이브 베이즈 분류기**"
   ]
  },
  {
   "cell_type": "code",
   "execution_count": 11,
   "id": "ee0c06b1",
   "metadata": {},
   "outputs": [
    {
     "name": "stdout",
     "output_type": "stream",
     "text": [
      "정확도: 0.5997328584149599\n"
     ]
    }
   ],
   "source": [
    "mod = MultinomialNB()\n",
    "mod.fit(tfidfv, y_train)\n",
    "\n",
    "predicted = mod.predict(tfidfv_test) #테스트 데이터에 대한 예측\n",
    "print(\"정확도:\", accuracy_score(y_test, predicted)) #예측값과 실제값 비교\n",
    "classifier_answer_list.append(accuracy_score(y_test, predicted))"
   ]
  },
  {
   "cell_type": "markdown",
   "id": "138967be",
   "metadata": {},
   "source": [
    "**Complement Naive Bayes Classifier(CNB)**"
   ]
  },
  {
   "cell_type": "code",
   "execution_count": 12,
   "id": "fb0b75f8",
   "metadata": {
    "scrolled": true
   },
   "outputs": [
    {
     "name": "stdout",
     "output_type": "stream",
     "text": [
      "정확도: 0.7649154051647373\n"
     ]
    }
   ],
   "source": [
    "cb = ComplementNB()\n",
    "cb.fit(tfidfv, y_train)\n",
    "\n",
    "predicted = cb.predict(tfidfv_test) #테스트 데이터에 대한 예측\n",
    "print(\"정확도:\", accuracy_score(y_test, predicted)) #예측값과 실제값 비교\n",
    "classifier_answer_list.append(accuracy_score(y_test, predicted))"
   ]
  },
  {
   "cell_type": "markdown",
   "id": "d3468f47",
   "metadata": {},
   "source": [
    "**로지스틱 회귀(Logistic Regression)**"
   ]
  },
  {
   "cell_type": "code",
   "execution_count": 13,
   "id": "f6708829",
   "metadata": {},
   "outputs": [
    {
     "name": "stdout",
     "output_type": "stream",
     "text": [
      "정확도: 0.7920747996438112\n"
     ]
    }
   ],
   "source": [
    "lr = LogisticRegression(C=1.0, max_iter=1000, penalty='l2')\n",
    "lr.fit(tfidfv, y_train)\n",
    "\n",
    "predicted = lr.predict(tfidfv_test) #테스트 데이터에 대한 예측\n",
    "print(\"정확도:\", accuracy_score(y_test, predicted)) #예측값과 실제값 비교\n",
    "classifier_answer_list.append(accuracy_score(y_test, predicted))"
   ]
  },
  {
   "cell_type": "markdown",
   "id": "7f5cb9c9",
   "metadata": {},
   "source": [
    "**선형 서포트 벡터 머신**"
   ]
  },
  {
   "cell_type": "code",
   "execution_count": 14,
   "id": "006f1599",
   "metadata": {},
   "outputs": [
    {
     "name": "stdout",
     "output_type": "stream",
     "text": [
      "정확도: 0.8294746215494212\n"
     ]
    }
   ],
   "source": [
    "lsvc = LinearSVC(C=1.0, max_iter=1000, penalty='l2', dual=False)\n",
    "lsvc.fit(tfidfv, y_train)\n",
    "\n",
    "predicted = lsvc.predict(tfidfv_test) #테스트 데이터에 대한 예측\n",
    "print(\"정확도:\", accuracy_score(y_test, predicted)) #예측값과 실제값 비교\n",
    "classifier_answer_list.append(accuracy_score(y_test, predicted))"
   ]
  },
  {
   "cell_type": "markdown",
   "id": "53a4a0d3",
   "metadata": {},
   "source": [
    "**결정 트리(Decision Tree)**"
   ]
  },
  {
   "cell_type": "code",
   "execution_count": 15,
   "id": "bd48bc8d",
   "metadata": {},
   "outputs": [
    {
     "name": "stdout",
     "output_type": "stream",
     "text": [
      "정확도: 0.6211041852181657\n"
     ]
    }
   ],
   "source": [
    "tree = DecisionTreeClassifier(max_depth=10, random_state=0)\n",
    "tree.fit(tfidfv, y_train)\n",
    "\n",
    "predicted = tree.predict(tfidfv_test) #테스트 데이터에 대한 예측\n",
    "print(\"정확도:\", accuracy_score(y_test, predicted)) #예측값과 실제값 비교\n",
    "classifier_answer_list.append(accuracy_score(y_test, predicted))"
   ]
  },
  {
   "cell_type": "markdown",
   "id": "4c759f5a",
   "metadata": {},
   "source": [
    "**랜덤 포레스트**"
   ]
  },
  {
   "cell_type": "code",
   "execution_count": 16,
   "id": "e10208e6",
   "metadata": {},
   "outputs": [
    {
     "name": "stdout",
     "output_type": "stream",
     "text": [
      "정확도: 0.6544968833481746\n"
     ]
    }
   ],
   "source": [
    "forest = RandomForestClassifier(n_estimators=5, random_state=0)\n",
    "forest.fit(tfidfv, y_train)\n",
    "\n",
    "predicted = forest.predict(tfidfv_test) #테스트 데이터에 대한 예측\n",
    "print(\"정확도:\", accuracy_score(y_test, predicted)) #예측값과 실제값 비교\n",
    "classifier_answer_list.append(accuracy_score(y_test, predicted))"
   ]
  },
  {
   "cell_type": "markdown",
   "id": "44ca5fe5",
   "metadata": {},
   "source": [
    "**그래디언트 부스팅 트리(Gradient Boosting Tree Classifier)**"
   ]
  },
  {
   "cell_type": "code",
   "execution_count": 17,
   "id": "2e27ecc8",
   "metadata": {},
   "outputs": [
    {
     "name": "stdout",
     "output_type": "stream",
     "text": [
      "정확도: 0.7702582368655387\n"
     ]
    }
   ],
   "source": [
    "grbt = GradientBoostingClassifier(random_state=0) # verbose=3\n",
    "grbt.fit(tfidfv, y_train)\n",
    "\n",
    "predicted = grbt.predict(tfidfv_test) #테스트 데이터에 대한 예측\n",
    "print(\"정확도:\", accuracy_score(y_test, predicted)) #예측값과 실제값 비교\n",
    "classifier_answer_list.append(accuracy_score(y_test, predicted))"
   ]
  },
  {
   "cell_type": "markdown",
   "id": "cdbc8c2d",
   "metadata": {},
   "source": [
    "**Light GBM(LGBM)**"
   ]
  },
  {
   "cell_type": "code",
   "execution_count": 18,
   "id": "e24b7765",
   "metadata": {},
   "outputs": [
    {
     "name": "stdout",
     "output_type": "stream",
     "text": [
      "정확도: 0.794746215494212\n"
     ]
    }
   ],
   "source": [
    "import lightgbm as lgb\n",
    "clf = lgb.LGBMClassifier(max_depth='10',num_leaves=2**10,learning_rate=0.01)\n",
    "clf.fit(tfidfv, y_train)\n",
    "\n",
    "y_pred = clf.predict(tfidfv_test)\n",
    "print(\"정확도:\", accuracy_score(y_test, y_pred))\n",
    "classifier_answer_list.append(accuracy_score(y_test, y_pred))"
   ]
  },
  {
   "cell_type": "markdown",
   "id": "8d6753cd",
   "metadata": {},
   "source": [
    "**보팅(Voting) (로지스틱 회귀+CNB+그래디언트 부스팅 트리 세 가지를 사용)**"
   ]
  },
  {
   "cell_type": "code",
   "execution_count": 19,
   "id": "0f3219e3",
   "metadata": {},
   "outputs": [
    {
     "name": "stdout",
     "output_type": "stream",
     "text": [
      "정확도: 0.7791629563668745\n"
     ]
    }
   ],
   "source": [
    "voting_classifier = VotingClassifier(estimators=[\n",
    "    ('lr',LogisticRegression(C=0.1, penalty='l2')),\n",
    "    ('cb',ComplementNB()),\n",
    "    ('grbt',GradientBoostingClassifier(random_state=0))\n",
    "], voting='soft',n_jobs=-1)\n",
    "voting_classifier.fit(tfidfv,y_train)\n",
    "\n",
    "predicted = voting_classifier.predict(tfidfv_test) \n",
    "print(\"정확도:\",accuracy_score(y_test,predicted))\n",
    "classifier_answer_list.append(accuracy_score(y_test,predicted))"
   ]
  },
  {
   "cell_type": "code",
   "execution_count": 20,
   "id": "52d01822",
   "metadata": {},
   "outputs": [
    {
     "name": "stdout",
     "output_type": "stream",
     "text": [
      "빈도수 제한없을 때 정확도 리스트\n",
      "\n",
      "MultinomialNB : 0.6\n",
      "ComplementNB : 0.76\n",
      "Logistic Regression : 0.79\n",
      "LinearSVC : 0.83\n",
      "Decision Tree : 0.62\n",
      "Random Forest : 0.65\n",
      "GradientBoostingClassifier : 0.77\n",
      "LGBM : 0.79\n",
      "Voting : 0.78\n"
     ]
    }
   ],
   "source": [
    "print(\"빈도수 제한없을 때 정확도 리스트\")\n",
    "print()\n",
    "for x in range(len(classifier_list)):\n",
    "    print(classifier_list[x],\":\",classifier_answer_list[x].round(2))"
   ]
  },
  {
   "cell_type": "markdown",
   "id": "c0d9faf6",
   "metadata": {},
   "source": [
    "## 2. 빈도수 상위 5,000개의 단어만 사용"
   ]
  },
  {
   "cell_type": "code",
   "execution_count": 21,
   "id": "badda594",
   "metadata": {},
   "outputs": [],
   "source": [
    "(x_train, y_train), (x_test, y_test) = reuters.load_data(num_words=5000, test_split=0.2)"
   ]
  },
  {
   "cell_type": "code",
   "execution_count": 22,
   "id": "58b00ad5",
   "metadata": {},
   "outputs": [
    {
     "name": "stdout",
     "output_type": "stream",
     "text": [
      "훈련용 뉴스의 최대 길이 :2376\n",
      "훈련용 뉴스의 평균 길이 :145.5398574927633\n"
     ]
    },
    {
     "data": {
      "image/png": "[encoded data removed]",
      "text/plain": [
       "<Figure size 432x288 with 1 Axes>"
      ]
     },
     "metadata": {
      "needs_background": "light"
     },
     "output_type": "display_data"
    }
   ],
   "source": [
    "# 데이터 분포 파악\n",
    "print('훈련용 뉴스의 최대 길이 :{}'.format(max(len(l) for l in x_train)))\n",
    "print('훈련용 뉴스의 평균 길이 :{}'.format(sum(map(len, x_train))/len(x_train)))\n",
    "\n",
    "plt.hist([len(s) for s in x_train], bins=50)\n",
    "plt.xlabel('length of samples')\n",
    "plt.ylabel('number of samples')\n",
    "plt.show()\n",
    "\n",
    "# 1만개였을 때와 큰 차이 없음"
   ]
  },
  {
   "cell_type": "code",
   "execution_count": 23,
   "id": "2da0605a",
   "metadata": {},
   "outputs": [
    {
     "data": {
      "text/plain": [
       "<AxesSubplot:ylabel='count'>"
      ]
     },
     "execution_count": 23,
     "metadata": {},
     "output_type": "execute_result"
    },
    {
     "data": {
      "image/png": "[encoded data removed]",
      "text/plain": [
       "<Figure size 792x360 with 1 Axes>"
      ]
     },
     "metadata": {
      "needs_background": "light"
     },
     "output_type": "display_data"
    }
   ],
   "source": [
    "# 타겟데이터 파악\n",
    "fig, axe = plt.subplots(ncols=1)\n",
    "fig.set_size_inches(11,5)\n",
    "sns.countplot(x=y_train)\n",
    "\n",
    "# 1만개였을 때와 큰 차이 없음"
   ]
  },
  {
   "cell_type": "code",
   "execution_count": 24,
   "id": "4cd18900",
   "metadata": {},
   "outputs": [],
   "source": [
    "# 텍스트데이터로 복원\n",
    "word_index = reuters.get_word_index(path=\"reuters_word_index.json\")\n",
    "\n",
    "# 인덱스 +3\n",
    "index_to_word = {index + 3 : word for word, index in word_index.items()}\n",
    "\n",
    "# index_to_word에 숫자 0은 <pad>, 숫자 1은 <sos>, 숫자 2는 <unk>를 넣어줍니다.\n",
    "for index, token in enumerate((\"<pad>\", \"<sos>\", \"<unk>\")):\n",
    "    index_to_word[index]=token"
   ]
  },
  {
   "cell_type": "code",
   "execution_count": 25,
   "id": "7aab2e32",
   "metadata": {},
   "outputs": [],
   "source": [
    "# 전체 학습데이터 복원\n",
    "decoded = []\n",
    "for i in range(len(x_train)):\n",
    "    t = ' '.join([index_to_word[index] for index in x_train[i]])\n",
    "    decoded.append(t)\n",
    "\n",
    "x_train = decoded"
   ]
  },
  {
   "cell_type": "code",
   "execution_count": 26,
   "id": "a4781739",
   "metadata": {},
   "outputs": [],
   "source": [
    "# 전체 테스트데이터 복원\n",
    "decoded = []\n",
    "for i in range(len(x_test)):\n",
    "    t = ' '.join([index_to_word[index] for index in x_test[i]])\n",
    "    decoded.append(t)\n",
    "\n",
    "x_test = decoded"
   ]
  },
  {
   "cell_type": "code",
   "execution_count": 27,
   "id": "a9396830",
   "metadata": {},
   "outputs": [
    {
     "name": "stdout",
     "output_type": "stream",
     "text": [
      "(8982, 4867)\n"
     ]
    }
   ],
   "source": [
    "# DTM 확인\n",
    "dtmvector = CountVectorizer()\n",
    "x_train_dtm = dtmvector.fit_transform(x_train)\n",
    "print(x_train_dtm.shape)\n",
    "\n",
    "# 테스트데이터\n",
    "x_test_dtm = dtmvector.transform(x_test) #테스트 데이터를 DTM으로 변환"
   ]
  },
  {
   "cell_type": "code",
   "execution_count": 28,
   "id": "f8c9ab5e",
   "metadata": {},
   "outputs": [
    {
     "name": "stdout",
     "output_type": "stream",
     "text": [
      "(8982, 4867)\n"
     ]
    }
   ],
   "source": [
    "# TF-IDF Matrix확인\n",
    "tfidf_transformer = TfidfTransformer()\n",
    "tfidfv = tfidf_transformer.fit_transform(x_train_dtm)\n",
    "print(tfidfv.shape)\n",
    "\n",
    "# 테스트데이터\n",
    "tfidfv_test = tfidf_transformer.transform(x_test_dtm) #DTM을 TF-IDF 행렬로 변환"
   ]
  },
  {
   "cell_type": "code",
   "execution_count": 29,
   "id": "9207e958",
   "metadata": {},
   "outputs": [],
   "source": [
    "# 결과값 비교를 위한 리스트 선언\n",
    "classifier_list = [\"MultinomialNB\", \"ComplementNB\", \"Logistic Regression\", \"LinearSVC\", \"Decision Tree\", \"Random Forest\", \"GradientBoostingClassifier\", \"LGBM\", \"Voting\"]\n",
    "classifier_answer_list = []"
   ]
  },
  {
   "cell_type": "markdown",
   "id": "58ea5fc6",
   "metadata": {},
   "source": [
    "**나이브 베이즈 분류기**"
   ]
  },
  {
   "cell_type": "code",
   "execution_count": 30,
   "id": "5c66d35b",
   "metadata": {},
   "outputs": [
    {
     "name": "stdout",
     "output_type": "stream",
     "text": [
      "정확도: 0.6731967943009796\n"
     ]
    }
   ],
   "source": [
    "mod = MultinomialNB()\n",
    "mod.fit(tfidfv, y_train)\n",
    "\n",
    "predicted = mod.predict(tfidfv_test) #테스트 데이터에 대한 예측\n",
    "print(\"정확도:\", accuracy_score(y_test, predicted)) #예측값과 실제값 비교\n",
    "classifier_answer_list.append(accuracy_score(y_test, predicted))"
   ]
  },
  {
   "cell_type": "markdown",
   "id": "5e1d9019",
   "metadata": {},
   "source": [
    "**Complement Naive Bayes Classifier(CNB)**"
   ]
  },
  {
   "cell_type": "code",
   "execution_count": 31,
   "id": "db1cfd17",
   "metadata": {},
   "outputs": [
    {
     "name": "stdout",
     "output_type": "stream",
     "text": [
      "정확도: 0.7707034728406055\n"
     ]
    }
   ],
   "source": [
    "cb = ComplementNB()\n",
    "cb.fit(tfidfv, y_train)\n",
    "\n",
    "predicted = cb.predict(tfidfv_test) #테스트 데이터에 대한 예측\n",
    "print(\"정확도:\", accuracy_score(y_test, predicted)) #예측값과 실제값 비교\n",
    "classifier_answer_list.append(accuracy_score(y_test, predicted))"
   ]
  },
  {
   "cell_type": "markdown",
   "id": "253f88f1",
   "metadata": {},
   "source": [
    "**로지스틱 회귀(Logistic Regression)**"
   ]
  },
  {
   "cell_type": "code",
   "execution_count": 32,
   "id": "6071fed2",
   "metadata": {},
   "outputs": [
    {
     "name": "stdout",
     "output_type": "stream",
     "text": [
      "정확도: 0.6665182546749777\n"
     ]
    }
   ],
   "source": [
    "lr = LogisticRegression(C=0.1, penalty='l2', max_iter=100)\n",
    "lr.fit(tfidfv, y_train)\n",
    "\n",
    "predicted = lr.predict(tfidfv_test) #테스트 데이터에 대한 예측\n",
    "print(\"정확도:\", accuracy_score(y_test, predicted)) #예측값과 실제값 비교\n",
    "classifier_answer_list.append(accuracy_score(y_test, predicted))"
   ]
  },
  {
   "cell_type": "markdown",
   "id": "65425069",
   "metadata": {},
   "source": [
    "**선형 서포트 벡터 머신**"
   ]
  },
  {
   "cell_type": "code",
   "execution_count": 33,
   "id": "6cfc1740",
   "metadata": {},
   "outputs": [
    {
     "name": "stdout",
     "output_type": "stream",
     "text": [
      "정확도: 0.821460373998219\n"
     ]
    }
   ],
   "source": [
    "lsvc = LinearSVC(C=0.1, penalty='l2', max_iter=100, dual=False)\n",
    "lsvc.fit(tfidfv, y_train)\n",
    "\n",
    "predicted = lsvc.predict(tfidfv_test) #테스트 데이터에 대한 예측\n",
    "print(\"정확도:\", accuracy_score(y_test, predicted)) #예측값과 실제값 비교\n",
    "classifier_answer_list.append(accuracy_score(y_test, predicted))"
   ]
  },
  {
   "cell_type": "markdown",
   "id": "6ee2c1a7",
   "metadata": {},
   "source": [
    "**결정 트리(Decision Tree)**"
   ]
  },
  {
   "cell_type": "code",
   "execution_count": 34,
   "id": "1dcad83f",
   "metadata": {},
   "outputs": [
    {
     "name": "stdout",
     "output_type": "stream",
     "text": [
      "정확도: 0.6179875333926982\n"
     ]
    }
   ],
   "source": [
    "tree = DecisionTreeClassifier(max_depth=10, random_state=0)\n",
    "tree.fit(tfidfv, y_train)\n",
    "\n",
    "predicted = tree.predict(tfidfv_test) #테스트 데이터에 대한 예측\n",
    "print(\"정확도:\", accuracy_score(y_test, predicted)) #예측값과 실제값 비교\n",
    "classifier_answer_list.append(accuracy_score(y_test, predicted))"
   ]
  },
  {
   "cell_type": "markdown",
   "id": "81c7b681",
   "metadata": {},
   "source": [
    "**랜덤 포레스트(Random Forest)**"
   ]
  },
  {
   "cell_type": "code",
   "execution_count": 35,
   "id": "24ad15aa",
   "metadata": {},
   "outputs": [
    {
     "name": "stdout",
     "output_type": "stream",
     "text": [
      "정확도: 0.701246660730187\n"
     ]
    }
   ],
   "source": [
    "forest = RandomForestClassifier(n_estimators=5, random_state=0)\n",
    "forest.fit(tfidfv, y_train)\n",
    "\n",
    "predicted = forest.predict(tfidfv_test) #테스트 데이터에 대한 예측\n",
    "print(\"정확도:\", accuracy_score(y_test, predicted)) #예측값과 실제값 비교\n",
    "classifier_answer_list.append(accuracy_score(y_test, predicted))"
   ]
  },
  {
   "cell_type": "markdown",
   "id": "c19413cf",
   "metadata": {},
   "source": [
    "**그래디언트 부스팅 트리(Gradient Boosting Tree) Classifier**"
   ]
  },
  {
   "cell_type": "code",
   "execution_count": 36,
   "id": "cc63dadb",
   "metadata": {},
   "outputs": [
    {
     "name": "stdout",
     "output_type": "stream",
     "text": [
      "정확도: 0.767586821015138\n"
     ]
    }
   ],
   "source": [
    "grbt = GradientBoostingClassifier(random_state=0) # verbose=3\n",
    "grbt.fit(tfidfv, y_train)\n",
    "\n",
    "predicted = grbt.predict(tfidfv_test) #테스트 데이터에 대한 예측\n",
    "print(\"정확도:\", accuracy_score(y_test, predicted)) #예측값과 실제값 비교\n",
    "classifier_answer_list.append(accuracy_score(y_test, predicted))"
   ]
  },
  {
   "cell_type": "markdown",
   "id": "72068096",
   "metadata": {},
   "source": [
    "**Light GBM(LGBM)**"
   ]
  },
  {
   "cell_type": "code",
   "execution_count": 37,
   "id": "06df82ac",
   "metadata": {},
   "outputs": [
    {
     "name": "stdout",
     "output_type": "stream",
     "text": [
      "정확도: 0.7974176313446126\n"
     ]
    }
   ],
   "source": [
    "import lightgbm as lgb\n",
    "clf = lgb.LGBMClassifier(max_depth=10,num_leaves=2**10,learning_rate=0.01)\n",
    "clf.fit(tfidfv, y_train)\n",
    "\n",
    "y_pred=clf.predict(tfidfv_test)\n",
    "print(\"정확도:\", accuracy_score(y_test, y_pred))\n",
    "classifier_answer_list.append(accuracy_score(y_test, y_pred))"
   ]
  },
  {
   "cell_type": "markdown",
   "id": "606c5b5e",
   "metadata": {},
   "source": [
    "**보팅(Voting)(로지스틱 회귀+CNB+그래디언트 부스팅 트리)**"
   ]
  },
  {
   "cell_type": "code",
   "execution_count": 38,
   "id": "ac2c6691",
   "metadata": {},
   "outputs": [
    {
     "name": "stdout",
     "output_type": "stream",
     "text": [
      "정확도: 0.7747105966162066\n"
     ]
    }
   ],
   "source": [
    "voting_classifier = VotingClassifier(estimators=[\n",
    "    ('lr',LogisticRegression(C=0.1, penalty='l2', max_iter=100)),\n",
    "    ('cb',ComplementNB()),\n",
    "    ('grbt',GradientBoostingClassifier(random_state=0))\n",
    "],voting='soft', n_jobs=-1)\n",
    "voting_classifier.fit(tfidfv, y_train)\n",
    "\n",
    "predicted = voting_classifier.predict(tfidfv_test)\n",
    "print(\"정확도:\",accuracy_score(y_test, predicted))\n",
    "classifier_answer_list.append(accuracy_score(y_test, predicted))"
   ]
  },
  {
   "cell_type": "code",
   "execution_count": 39,
   "id": "096031fc",
   "metadata": {},
   "outputs": [
    {
     "name": "stdout",
     "output_type": "stream",
     "text": [
      "빈도수 상위 5,000개의 단어만 사용했을 때 정확도 리스트\n",
      "MultinomialNB : 0.67\n",
      "ComplementNB : 0.77\n",
      "Logistic Regression : 0.67\n",
      "LinearSVC : 0.82\n",
      "Decision Tree : 0.62\n",
      "Random Forest : 0.7\n",
      "GradientBoostingClassifier : 0.77\n",
      "LGBM : 0.8\n",
      "Voting : 0.77\n"
     ]
    }
   ],
   "source": [
    "# 전체 정리\n",
    "\n",
    "print(\"빈도수 상위 5,000개의 단어만 사용했을 때 정확도 리스트\")\n",
    "\n",
    "for x in range(len(classifier_list)):\n",
    "    print(classifier_list[x], \":\", classifier_answer_list[x].round(2))"
   ]
  },
  {
   "cell_type": "markdown",
   "id": "df6b55da",
   "metadata": {},
   "source": [
    "## 3. 직접 단어갯수를 설정 (num_words = 7500)"
   ]
  },
  {
   "cell_type": "code",
   "execution_count": 72,
   "id": "5c193ef0",
   "metadata": {},
   "outputs": [],
   "source": [
    "(x_train, y_train), (x_test, y_test) = reuters.load_data(num_words=7500, test_split=0.2)"
   ]
  },
  {
   "cell_type": "code",
   "execution_count": 73,
   "id": "992ee524",
   "metadata": {},
   "outputs": [],
   "source": [
    "#텍스트데이터로 복원\n",
    "word_index = reuters.get_word_index(path=\"reuters_word_index.json\")\n",
    "\n",
    "# 인덱스 +3\n",
    "index_to_word = {index + 3 : word for word, index in word_index.items()}\n",
    "\n",
    "# index_to_word에 숫자 0은 <pad>, 숫자 1은 <sos>, 숫자 2는 <unk>를 넣어줍니다.\n",
    "for index, token in enumerate((\"<pad>\", \"<sos>\", \"<unk>\")):\n",
    "    index_to_word[index]=token"
   ]
  },
  {
   "cell_type": "code",
   "execution_count": 74,
   "id": "df35da11",
   "metadata": {},
   "outputs": [],
   "source": [
    "# 전체 학습데이터 복원\n",
    "decoded = []\n",
    "for i in range(len(x_train)):\n",
    "    t = ' '.join([index_to_word[index] for index in x_train[i]])\n",
    "    decoded.append(t)\n",
    "\n",
    "x_train = decoded"
   ]
  },
  {
   "cell_type": "code",
   "execution_count": 75,
   "id": "1cb6a78a",
   "metadata": {},
   "outputs": [],
   "source": [
    "# 전체 테스트데이터 복원\n",
    "decoded = []\n",
    "for i in range(len(x_test)):\n",
    "    t = ' '.join([index_to_word[index] for index in x_test[i]])\n",
    "    decoded.append(t)\n",
    "\n",
    "x_test = decoded"
   ]
  },
  {
   "cell_type": "code",
   "execution_count": 76,
   "id": "f826deb4",
   "metadata": {},
   "outputs": [
    {
     "name": "stdout",
     "output_type": "stream",
     "text": [
      "(8982, 7296)\n"
     ]
    }
   ],
   "source": [
    "# DTM 확인\n",
    "dtmvector = CountVectorizer()\n",
    "x_train_dtm = dtmvector.fit_transform(x_train)\n",
    "print(x_train_dtm.shape)\n",
    "\n",
    "# 테스트데이터\n",
    "x_test_dtm = dtmvector.transform(x_test) #테스트 데이터를 DTM으로 변환"
   ]
  },
  {
   "cell_type": "code",
   "execution_count": 77,
   "id": "e9ce7b6a",
   "metadata": {},
   "outputs": [
    {
     "name": "stdout",
     "output_type": "stream",
     "text": [
      "(8982, 7296)\n"
     ]
    }
   ],
   "source": [
    "# TF-IDF Matrix확인\n",
    "tfidf_transformer = TfidfTransformer()\n",
    "tfidfv = tfidf_transformer.fit_transform(x_train_dtm)\n",
    "print(tfidfv.shape)\n",
    "\n",
    "# 테스트데이터\n",
    "tfidfv_test = tfidf_transformer.transform(x_test_dtm) #DTM을 TF-IDF 행렬로 변환"
   ]
  },
  {
   "cell_type": "code",
   "execution_count": 78,
   "id": "8a409078",
   "metadata": {},
   "outputs": [],
   "source": [
    "# 결과값 비교를 위한 리스트 선언\n",
    "classifier_list = [\"MultinomialNB\", \"ComplementNB\", \"Logistic Regression\", \"LinearSVC\", \"Decision Tree\", \"Random Forest\", \"GradientBoostingClassifier\", \"LGBM\", \"Voting\"]\n",
    "classifier_answer_list = []"
   ]
  },
  {
   "cell_type": "markdown",
   "id": "5dbf2117",
   "metadata": {},
   "source": [
    "**나이브 베이즈 분류기**"
   ]
  },
  {
   "cell_type": "code",
   "execution_count": 79,
   "id": "e626b89d",
   "metadata": {},
   "outputs": [
    {
     "name": "stdout",
     "output_type": "stream",
     "text": [
      "정확도: 0.6642920747996438\n"
     ]
    }
   ],
   "source": [
    "mod = MultinomialNB()\n",
    "mod.fit(tfidfv, y_train)\n",
    "\n",
    "predicted = mod.predict(tfidfv_test) #테스트 데이터에 대한 예측\n",
    "print(\"정확도:\", accuracy_score(y_test, predicted)) #예측값과 실제값 비교\n",
    "classifier_answer_list.append(accuracy_score(y_test, predicted))"
   ]
  },
  {
   "cell_type": "markdown",
   "id": "05d4f350",
   "metadata": {},
   "source": [
    "**Complement Naive Bayes Classifier(CNB)**"
   ]
  },
  {
   "cell_type": "code",
   "execution_count": 80,
   "id": "c5b833e1",
   "metadata": {},
   "outputs": [
    {
     "name": "stdout",
     "output_type": "stream",
     "text": [
      "정확도: 0.7693677649154052\n"
     ]
    }
   ],
   "source": [
    "cb = ComplementNB()\n",
    "cb.fit(tfidfv, y_train)\n",
    "\n",
    "predicted = cb.predict(tfidfv_test) #테스트 데이터에 대한 예측\n",
    "print(\"정확도:\", accuracy_score(y_test, predicted)) #예측값과 실제값 비교\n",
    "classifier_answer_list.append(accuracy_score(y_test, predicted))"
   ]
  },
  {
   "cell_type": "markdown",
   "id": "66936078",
   "metadata": {},
   "source": [
    "**로지스틱 회귀(Logistic Regression)**"
   ]
  },
  {
   "cell_type": "code",
   "execution_count": 81,
   "id": "89c45118",
   "metadata": {},
   "outputs": [
    {
     "name": "stdout",
     "output_type": "stream",
     "text": [
      "정확도: 0.6620658949243099\n"
     ]
    }
   ],
   "source": [
    "lr = LogisticRegression(C=0.1, penalty='l2', max_iter=100)\n",
    "lr.fit(tfidfv, y_train)\n",
    "\n",
    "predicted = lr.predict(tfidfv_test) #테스트 데이터에 대한 예측\n",
    "print(\"정확도:\", accuracy_score(y_test, predicted)) #예측값과 실제값 비교\n",
    "classifier_answer_list.append(accuracy_score(y_test, predicted))"
   ]
  },
  {
   "cell_type": "markdown",
   "id": "7e47d762",
   "metadata": {},
   "source": [
    "**선형 서포트 벡터 머신**"
   ]
  },
  {
   "cell_type": "code",
   "execution_count": 82,
   "id": "bc827eb5",
   "metadata": {},
   "outputs": [
    {
     "name": "stdout",
     "output_type": "stream",
     "text": [
      "정확도: 0.8223508459483526\n"
     ]
    }
   ],
   "source": [
    "lsvc = LinearSVC(C=0.1, penalty='l2', max_iter=100, dual=False)\n",
    "lsvc.fit(tfidfv, y_train)\n",
    "\n",
    "predicted = lsvc.predict(tfidfv_test) #테스트 데이터에 대한 예측\n",
    "print(\"정확도:\", accuracy_score(y_test, predicted)) #예측값과 실제값 비교\n",
    "classifier_answer_list.append(accuracy_score(y_test, predicted))"
   ]
  },
  {
   "cell_type": "markdown",
   "id": "c457d509",
   "metadata": {},
   "source": [
    "**결정 트리(Decision Tree)**"
   ]
  },
  {
   "cell_type": "code",
   "execution_count": 83,
   "id": "1835aaf9",
   "metadata": {},
   "outputs": [
    {
     "name": "stdout",
     "output_type": "stream",
     "text": [
      "정확도: 0.6202137132680321\n"
     ]
    }
   ],
   "source": [
    "tree = DecisionTreeClassifier(max_depth=10, random_state=0)\n",
    "tree.fit(tfidfv, y_train)\n",
    "\n",
    "predicted = tree.predict(tfidfv_test) #테스트 데이터에 대한 예측\n",
    "print(\"정확도:\", accuracy_score(y_test, predicted)) #예측값과 실제값 비교\n",
    "classifier_answer_list.append(accuracy_score(y_test, predicted))"
   ]
  },
  {
   "cell_type": "markdown",
   "id": "89496d4a",
   "metadata": {},
   "source": [
    "**랜덤 포레스트(Random Forest)**"
   ]
  },
  {
   "cell_type": "code",
   "execution_count": 84,
   "id": "aea15a10",
   "metadata": {},
   "outputs": [
    {
     "name": "stdout",
     "output_type": "stream",
     "text": [
      "정확도: 0.6878895814781835\n"
     ]
    }
   ],
   "source": [
    "forest = RandomForestClassifier(n_estimators=5, random_state=0)\n",
    "forest.fit(tfidfv, y_train)\n",
    "\n",
    "predicted = forest.predict(tfidfv_test) #테스트 데이터에 대한 예측\n",
    "print(\"정확도:\", accuracy_score(y_test, predicted)) #예측값과 실제값 비교\n",
    "classifier_answer_list.append(accuracy_score(y_test, predicted))"
   ]
  },
  {
   "cell_type": "markdown",
   "id": "1702cdd1",
   "metadata": {},
   "source": [
    "**그래디언트 부스팅 트리(Gradient Boosting Tree) Classifier**"
   ]
  },
  {
   "cell_type": "code",
   "execution_count": 85,
   "id": "291adfcf",
   "metadata": {},
   "outputs": [
    {
     "name": "stdout",
     "output_type": "stream",
     "text": [
      "정확도: 0.7693677649154052\n"
     ]
    }
   ],
   "source": [
    "grbt = GradientBoostingClassifier(random_state=0) # verbose=3\n",
    "grbt.fit(tfidfv, y_train)\n",
    "\n",
    "predicted = grbt.predict(tfidfv_test) #테스트 데이터에 대한 예측\n",
    "print(\"정확도:\", accuracy_score(y_test, predicted)) #예측값과 실제값 비교\n",
    "classifier_answer_list.append(accuracy_score(y_test, predicted))"
   ]
  },
  {
   "cell_type": "markdown",
   "id": "001ec428",
   "metadata": {},
   "source": [
    "**Light GBM(LGBM)**"
   ]
  },
  {
   "cell_type": "code",
   "execution_count": 86,
   "id": "ab5e979e",
   "metadata": {},
   "outputs": [
    {
     "name": "stdout",
     "output_type": "stream",
     "text": [
      "정확도: 0.792520035618878\n"
     ]
    }
   ],
   "source": [
    "import lightgbm as lgb\n",
    "clf = lgb.LGBMClassifier(max_depth=10,num_leaves=2**10,learning_rate=0.01)\n",
    "clf.fit(tfidfv, y_train)\n",
    "\n",
    "y_pred=clf.predict(tfidfv_test)\n",
    "print(\"정확도:\", accuracy_score(y_test, y_pred))\n",
    "classifier_answer_list.append(accuracy_score(y_test, y_pred))"
   ]
  },
  {
   "cell_type": "markdown",
   "id": "3cf23bff",
   "metadata": {},
   "source": [
    "**보팅(Voting) (로지스틱 회귀+CNB+그래디언트 부스팅 트리 세 가지를 사용)**"
   ]
  },
  {
   "cell_type": "code",
   "execution_count": 87,
   "id": "513aaca7",
   "metadata": {},
   "outputs": [
    {
     "name": "stdout",
     "output_type": "stream",
     "text": [
      "정확도: 0.7773820124666073\n"
     ]
    }
   ],
   "source": [
    "voting_classifier = VotingClassifier(estimators=[\n",
    "         ('lr', LogisticRegression(C=0.1, penalty='l2',max_iter=100)),\n",
    "        ('cb', ComplementNB()),\n",
    "        ('grbt', GradientBoostingClassifier(random_state=0))\n",
    "], voting='soft', n_jobs=-1)\n",
    "voting_classifier.fit(tfidfv, y_train)\n",
    "\n",
    "predicted = voting_classifier.predict(tfidfv_test) #테스트 데이터에 대한 예측\n",
    "print(\"정확도:\", accuracy_score(y_test, predicted)) #예측값과 실제값 비교\n",
    "classifier_answer_list.append(accuracy_score(y_test, predicted))"
   ]
  },
  {
   "cell_type": "code",
   "execution_count": 88,
   "id": "93dae3ea",
   "metadata": {},
   "outputs": [
    {
     "name": "stdout",
     "output_type": "stream",
     "text": [
      "빈도수 상위 7,500개의 단어만 사용했을 때 정확도 리스트\n",
      "MultinomialNB : 0.66\n",
      "ComplementNB : 0.77\n",
      "Logistic Regression : 0.66\n",
      "LinearSVC : 0.82\n",
      "Decision Tree : 0.62\n",
      "Random Forest : 0.69\n",
      "GradientBoostingClassifier : 0.77\n",
      "LGBM : 0.79\n",
      "Voting : 0.78\n"
     ]
    }
   ],
   "source": [
    "# 전체 정리\n",
    "\n",
    "print(\"빈도수 상위 7,500개의 단어만 사용했을 때 정확도 리스트\")\n",
    "\n",
    "for x in range(len(classifier_list)):\n",
    "    print(classifier_list[x], \":\", classifier_answer_list[x].round(2))"
   ]
  },
  {
   "cell_type": "markdown",
   "id": "0f1c2e7d",
   "metadata": {},
   "source": [
    "## 4. 딥러닝 모델과 비교"
   ]
  },
  {
   "cell_type": "code",
   "execution_count": 89,
   "id": "a937dc06",
   "metadata": {},
   "outputs": [],
   "source": [
    "import numpy as np\n",
    "from keras.preprocessing import sequence\n",
    "from tensorflow.keras.datasets import reuters\n",
    "import matplotlib.pyplot as plt"
   ]
  },
  {
   "cell_type": "code",
   "execution_count": 90,
   "id": "9d6d0ebd",
   "metadata": {},
   "outputs": [],
   "source": [
    "# 데이터 로드\n",
    "from keras.datasets import reuters\n",
    "(train_data, train_labels), (test_data, test_labels) = reuters.load_data(num_words=10000)"
   ]
  },
  {
   "cell_type": "code",
   "execution_count": 91,
   "id": "132fc5a9",
   "metadata": {},
   "outputs": [
    {
     "name": "stdout",
     "output_type": "stream",
     "text": [
      "(8982,) (8982,)\n"
     ]
    }
   ],
   "source": [
    "print(train_data.shape, train_labels.shape)"
   ]
  },
  {
   "cell_type": "code",
   "execution_count": 92,
   "id": "a15cdd47",
   "metadata": {},
   "outputs": [
    {
     "name": "stdout",
     "output_type": "stream",
     "text": [
      "(2246,) (2246,)\n"
     ]
    }
   ],
   "source": [
    "print(test_data.shape, test_labels.shape)"
   ]
  },
  {
   "cell_type": "code",
   "execution_count": 93,
   "id": "ccbb6317",
   "metadata": {},
   "outputs": [],
   "source": [
    "from keras.utils.np_utils import to_categorical\n",
    "\n",
    "def vectorize_sequences(sequences, dimension=10000):\n",
    "    results = np.zeros((len(sequences), dimension))\n",
    "    for i, sequence in enumerate(sequences):\n",
    "        results[i, sequence] = 1.\n",
    "    return results\n",
    "\n",
    "x_train = vectorize_sequences(train_data)\n",
    "x_test = vectorize_sequences(test_data)"
   ]
  },
  {
   "cell_type": "code",
   "execution_count": 94,
   "id": "463dc56c",
   "metadata": {},
   "outputs": [],
   "source": [
    "# 원핫인코딩\n",
    "from keras.utils.np_utils import to_categorical\n",
    "\n",
    "one_hot_train_labels = to_categorical(train_labels)\n",
    "one_hot_test_labels = to_categorical(test_labels)"
   ]
  },
  {
   "cell_type": "code",
   "execution_count": 95,
   "id": "77c03eb4",
   "metadata": {},
   "outputs": [
    {
     "name": "stdout",
     "output_type": "stream",
     "text": [
      "Model: \"sequential_1\"\n",
      "_________________________________________________________________\n",
      "Layer (type)                 Output Shape              Param #   \n",
      "=================================================================\n",
      "dense_3 (Dense)              (None, 64)                640064    \n",
      "_________________________________________________________________\n",
      "dense_4 (Dense)              (None, 64)                4160      \n",
      "_________________________________________________________________\n",
      "dense_5 (Dense)              (None, 46)                2990      \n",
      "=================================================================\n",
      "Total params: 647,214\n",
      "Trainable params: 647,214\n",
      "Non-trainable params: 0\n",
      "_________________________________________________________________\n"
     ]
    }
   ],
   "source": [
    "from keras import models\n",
    "from keras import layers\n",
    "\n",
    "# 모델 생성\n",
    "model = models.Sequential()\n",
    "model.add(layers.Dense(64, activation='relu', input_shape=(10000,)))\n",
    "model.add(layers.Dense(64, activation='relu'))\n",
    "model.add(layers.Dense(46, activation='softmax')) # 클래스가 46개\n",
    "model.summary()"
   ]
  },
  {
   "cell_type": "code",
   "execution_count": 96,
   "id": "f2337460",
   "metadata": {},
   "outputs": [],
   "source": [
    "# 모델 컴파일 설정\n",
    "model.compile(optimizer='adam', loss='categorical_crossentropy', metrics=['accuracy'])"
   ]
  },
  {
   "cell_type": "code",
   "execution_count": 97,
   "id": "11d47833",
   "metadata": {},
   "outputs": [],
   "source": [
    "# 데이터 나누기\n",
    "x_val = x_train[:1000]\n",
    "partial_x_train = x_train[1000:]\n",
    "\n",
    "y_val = one_hot_train_labels[:1000]\n",
    "partial_y_train = one_hot_train_labels[1000:]"
   ]
  },
  {
   "cell_type": "code",
   "execution_count": 98,
   "id": "3e586bbd",
   "metadata": {},
   "outputs": [
    {
     "name": "stdout",
     "output_type": "stream",
     "text": [
      "Epoch 1/20\n",
      "16/16 [==============================] - 1s 22ms/step - loss: 3.2105 - accuracy: 0.3252 - val_loss: 2.4703 - val_accuracy: 0.4910\n",
      "Epoch 2/20\n",
      "16/16 [==============================] - 0s 11ms/step - loss: 1.9408 - accuracy: 0.6229 - val_loss: 1.5992 - val_accuracy: 0.6540\n",
      "Epoch 3/20\n",
      "16/16 [==============================] - 0s 10ms/step - loss: 1.3284 - accuracy: 0.7223 - val_loss: 1.2669 - val_accuracy: 0.7290\n",
      "Epoch 4/20\n",
      "16/16 [==============================] - 0s 12ms/step - loss: 1.0112 - accuracy: 0.7851 - val_loss: 1.1053 - val_accuracy: 0.7710\n",
      "Epoch 5/20\n",
      "16/16 [==============================] - 0s 10ms/step - loss: 0.7863 - accuracy: 0.8324 - val_loss: 1.0083 - val_accuracy: 0.8010\n",
      "Epoch 6/20\n",
      "16/16 [==============================] - 0s 11ms/step - loss: 0.6123 - accuracy: 0.8761 - val_loss: 0.9445 - val_accuracy: 0.8080\n",
      "Epoch 7/20\n",
      "16/16 [==============================] - 0s 11ms/step - loss: 0.4760 - accuracy: 0.9018 - val_loss: 0.9036 - val_accuracy: 0.8210\n",
      "Epoch 8/20\n",
      "16/16 [==============================] - 0s 11ms/step - loss: 0.3728 - accuracy: 0.9242 - val_loss: 0.8793 - val_accuracy: 0.8220\n",
      "Epoch 9/20\n",
      "16/16 [==============================] - 0s 10ms/step - loss: 0.2960 - accuracy: 0.9359 - val_loss: 0.8715 - val_accuracy: 0.8190\n",
      "Epoch 10/20\n",
      "16/16 [==============================] - 0s 10ms/step - loss: 0.2436 - accuracy: 0.9453 - val_loss: 0.8709 - val_accuracy: 0.8270\n",
      "Epoch 11/20\n",
      "16/16 [==============================] - 0s 10ms/step - loss: 0.2045 - accuracy: 0.9508 - val_loss: 0.8832 - val_accuracy: 0.8190\n",
      "Epoch 12/20\n",
      "16/16 [==============================] - 0s 11ms/step - loss: 0.1747 - accuracy: 0.9568 - val_loss: 0.8906 - val_accuracy: 0.8210\n",
      "Epoch 13/20\n",
      "16/16 [==============================] - 0s 10ms/step - loss: 0.1549 - accuracy: 0.9563 - val_loss: 0.8910 - val_accuracy: 0.8250\n",
      "Epoch 14/20\n",
      "16/16 [==============================] - 0s 10ms/step - loss: 0.1401 - accuracy: 0.9584 - val_loss: 0.9262 - val_accuracy: 0.8150\n",
      "Epoch 15/20\n",
      "16/16 [==============================] - 0s 11ms/step - loss: 0.1285 - accuracy: 0.9582 - val_loss: 0.9308 - val_accuracy: 0.8240\n",
      "Epoch 16/20\n",
      "16/16 [==============================] - 0s 11ms/step - loss: 0.1170 - accuracy: 0.9583 - val_loss: 0.9407 - val_accuracy: 0.8130\n",
      "Epoch 17/20\n",
      "16/16 [==============================] - 0s 12ms/step - loss: 0.1151 - accuracy: 0.9603 - val_loss: 0.9557 - val_accuracy: 0.8190\n",
      "Epoch 18/20\n",
      "16/16 [==============================] - 0s 11ms/step - loss: 0.1092 - accuracy: 0.9625 - val_loss: 0.9602 - val_accuracy: 0.8170\n",
      "Epoch 19/20\n",
      "16/16 [==============================] - 0s 11ms/step - loss: 0.1077 - accuracy: 0.9617 - val_loss: 0.9806 - val_accuracy: 0.8150\n",
      "Epoch 20/20\n",
      "16/16 [==============================] - 0s 11ms/step - loss: 0.1013 - accuracy: 0.9610 - val_loss: 0.9720 - val_accuracy: 0.8190\n"
     ]
    }
   ],
   "source": [
    "history = model.fit(partial_x_train, partial_y_train, epochs=20, batch_size=512, validation_data=(x_val, y_val))"
   ]
  },
  {
   "cell_type": "code",
   "execution_count": 99,
   "id": "64281d5d",
   "metadata": {},
   "outputs": [
    {
     "name": "stdout",
     "output_type": "stream",
     "text": [
      "71/71 [==============================] - 0s 2ms/step - loss: 1.0994 - accuracy: 0.7996\n"
     ]
    },
    {
     "data": {
      "text/plain": [
       "[1.0994364023208618, 0.7996438145637512]"
      ]
     },
     "execution_count": 99,
     "metadata": {},
     "output_type": "execute_result"
    }
   ],
   "source": [
    "# 모델 평가\n",
    "model.evaluate(x_test, one_hot_test_labels)"
   ]
  },
  {
   "cell_type": "code",
   "execution_count": 122,
   "id": "e348081f",
   "metadata": {},
   "outputs": [
    {
     "data": {
      "image/png": "[encoded data removed]",
      "text/plain": [
       "<Figure size 1008x432 with 2 Axes>"
      ]
     },
     "metadata": {
      "needs_background": "light"
     },
     "output_type": "display_data"
    }
   ],
   "source": [
    "# 시각화\n",
    "import matplotlib.pyplot as plt\n",
    "\n",
    "fig = plt.subplots(1,2,figsize=(14,6))\n",
    "\n",
    "acc = history.history['accuracy']\n",
    "val_acc = history.history['val_accuracy']\n",
    "\n",
    "epochs = range(1, len(loss) + 1)\n",
    "\n",
    "plt.subplot(121)\n",
    "plt.plot(epochs, acc, 'bo', label='Training accuracy')\n",
    "plt.plot(epochs, val_acc, 'b', label='Validation accuracy')\n",
    "plt.title('Training and validation accuracy')\n",
    "plt.xlabel('Epochs')\n",
    "plt.ylabel('accuracy')\n",
    "plt.legend()\n",
    "\n",
    "loss = history.history['loss']\n",
    "val_loss = history.history['val_loss']\n",
    "\n",
    "epochs = range(1, len(loss)+1)\n",
    "\n",
    "plt.subplot(122)\n",
    "plt.plot(epochs, loss, 'bo', label='Training loss')\n",
    "plt.plot(epochs, val_loss, 'b', label='Validation loss')\n",
    "plt.title('Training and validation loss')\n",
    "plt.xlabel('Epochs')\n",
    "plt.ylabel('loss')\n",
    "plt.legend()\n",
    "plt.show()"
   ]
  },
  {
   "cell_type": "markdown",
   "id": "d31a2a63",
   "metadata": {},
   "source": [
    "<비고>\n",
    "* num_words 가 10000 일 때 9가지 모델 방식 중에서 제일 성능이 뛰어난 모델 :     \n",
    "  선형 서포트 벡터 머신    \n",
    "* num_words 가 5000 일 때 9가지 모델 방식 중에서 제일 성능이 뛰어난 모델 :     \n",
    "  선형 서포트 벡터 머신    \n",
    "* num_words 가 5000과 10000의 중간, 즉 7500 일 때 9 가지 모델 방식 중에서   \n",
    "  제일 성능이 뛰어난 모델 :       \n",
    "  선형 서포트 벡터 머신      \n",
    "      \n",
    "  -> 이유 추측 : 선형 서포트 벡터 머신은 말그대로 벡터화에 최적화된 모델입니다.        \n",
    "     아무래도 NLP에서 문장을 벡터로 임베딩하는 과정이 있다보니 이런 점에서 이   \n",
    "     모델이 잘 들어맞는 것이 아닌가 개인적으로 생각합니다.       \n",
    "     그 뒤를 요즘들어 캐글에서 각광받고 있다는 LGBM이 뒤따랐습니다.      "
   ]
  },
  {
   "cell_type": "markdown",
   "id": "166ee9f9",
   "metadata": {},
   "source": [
    "* CNB와 Logistic Regression 그리고 Gradient Boosting 분류기를 합친 봇팅 효과는     \n",
    "  미미하거나 반대로 정확도가 조금 줄어드는 것으로 나타났습니다.    "
   ]
  },
  {
   "cell_type": "markdown",
   "id": "bd2c2e18",
   "metadata": {},
   "source": [
    "* 딥러닝 모델과의 비교에서는 선형 서포트 벡터 머신이 0.8 이상의 정확도를 보였는데       \n",
    "  딥러닝 모델은 0.79대의 정확도가 나와 서포트 벡터 머신이 딥러닝 모델에 뒤쳐지지       \n",
    "  않는다는 점을 보여줬습니다.     \n",
    "          \n",
    "  -> 이유 추측 : 저의 노트북에서의 딥러닝 모델 구축 과정도 선형 서포트 벡터 머신과    \n",
    "     같이 벡터화를 거칩니다. 따라서 동일한 데이터셋과 전처리를 거친다면 결과가     \n",
    "     비슷할 것이라고 예상했습니다.  "
   ]
  }
 ],
 "metadata": {
  "kernelspec": {
   "display_name": "Python 3 (ipykernel)",
   "language": "python",
   "name": "python3"
  },
  "language_info": {
   "codemirror_mode": {
    "name": "ipython",
    "version": 3
   },
   "file_extension": ".py",
   "mimetype": "text/x-python",
   "name": "python",
   "nbconvert_exporter": "python",
   "pygments_lexer": "ipython3",
   "version": "3.9.7"
  }
 },
 "nbformat": 4,
 "nbformat_minor": 5
}
