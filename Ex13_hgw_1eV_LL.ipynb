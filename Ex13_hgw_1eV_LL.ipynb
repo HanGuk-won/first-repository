{
 "cells": [
  {
   "cell_type": "markdown",
   "id": "411b669b",
   "metadata": {},
   "source": [
    "# Ex13. 아이유팬이 좋아할 만한 다른 아티스트 찾기"
   ]
  },
  {
   "cell_type": "code",
   "execution_count": 1,
   "id": "8b49e658",
   "metadata": {},
   "outputs": [
    {
     "name": "stdout",
     "output_type": "stream",
     "text": [
      "1.21.4\n",
      "1.7.1\n",
      "0.4.8\n"
     ]
    }
   ],
   "source": [
    "import numpy as np\n",
    "import scipy\n",
    "import implicit\n",
    "import pandas as pd\n",
    "\n",
    "print(np.__version__)\n",
    "print(scipy.__version__)\n",
    "print(implicit.__version__)"
   ]
  },
  {
   "cell_type": "markdown",
   "id": "953b8f43",
   "metadata": {},
   "source": [
    "## Data Preprocessing"
   ]
  },
  {
   "cell_type": "code",
   "execution_count": 2,
   "id": "f8b6aa67",
   "metadata": {},
   "outputs": [
    {
     "data": {
      "text/html": [
       "<div>\n",
       "<style scoped>\n",
       "    .dataframe tbody tr th:only-of-type {\n",
       "        vertical-align: middle;\n",
       "    }\n",
       "\n",
       "    .dataframe tbody tr th {\n",
       "        vertical-align: top;\n",
       "    }\n",
       "\n",
       "    .dataframe thead th {\n",
       "        text-align: right;\n",
       "    }\n",
       "</style>\n",
       "<table border=\"1\" class=\"dataframe\">\n",
       "  <thead>\n",
       "    <tr style=\"text-align: right;\">\n",
       "      <th></th>\n",
       "      <th>user_id</th>\n",
       "      <th>movie_id</th>\n",
       "      <th>ratings</th>\n",
       "      <th>timestamp</th>\n",
       "    </tr>\n",
       "  </thead>\n",
       "  <tbody>\n",
       "    <tr>\n",
       "      <th>0</th>\n",
       "      <td>1</td>\n",
       "      <td>1193</td>\n",
       "      <td>5</td>\n",
       "      <td>978300760</td>\n",
       "    </tr>\n",
       "    <tr>\n",
       "      <th>1</th>\n",
       "      <td>1</td>\n",
       "      <td>661</td>\n",
       "      <td>3</td>\n",
       "      <td>978302109</td>\n",
       "    </tr>\n",
       "    <tr>\n",
       "      <th>2</th>\n",
       "      <td>1</td>\n",
       "      <td>914</td>\n",
       "      <td>3</td>\n",
       "      <td>978301968</td>\n",
       "    </tr>\n",
       "    <tr>\n",
       "      <th>3</th>\n",
       "      <td>1</td>\n",
       "      <td>3408</td>\n",
       "      <td>4</td>\n",
       "      <td>978300275</td>\n",
       "    </tr>\n",
       "    <tr>\n",
       "      <th>4</th>\n",
       "      <td>1</td>\n",
       "      <td>2355</td>\n",
       "      <td>5</td>\n",
       "      <td>978824291</td>\n",
       "    </tr>\n",
       "  </tbody>\n",
       "</table>\n",
       "</div>"
      ],
      "text/plain": [
       "   user_id  movie_id  ratings  timestamp\n",
       "0        1      1193        5  978300760\n",
       "1        1       661        3  978302109\n",
       "2        1       914        3  978301968\n",
       "3        1      3408        4  978300275\n",
       "4        1      2355        5  978824291"
      ]
     },
     "execution_count": 2,
     "metadata": {},
     "output_type": "execute_result"
    }
   ],
   "source": [
    "import os\n",
    "rating_file_path=os.getenv('HOME') + '/aiffel/recommendata_iu/data/ml-1m/ratings.dat'\n",
    "ratings_cols = ['user_id', 'movie_id', 'ratings','timestamp']\n",
    "ratings = pd.read_csv(rating_file_path, sep='::', names=ratings_cols, engine='python', encoding = \"ISO-8859-1\")\n",
    "orginal_data_size = len(ratings)\n",
    "ratings.head()"
   ]
  },
  {
   "cell_type": "code",
   "execution_count": 3,
   "id": "78404eeb",
   "metadata": {},
   "outputs": [
    {
     "name": "stdout",
     "output_type": "stream",
     "text": [
      "orginal_data_size: 1000209, filtered_data_size: 836478\n",
      "Ratio of Remaining Data is 83.63%\n"
     ]
    }
   ],
   "source": [
    "# 3점 이상만 남깁니다.\n",
    "ratings = ratings[ratings['ratings']>=3]\n",
    "filtered_data_size = len(ratings)\n",
    "\n",
    "print(f'orginal_data_size: {orginal_data_size}, filtered_data_size: {filtered_data_size}')\n",
    "print(f'Ratio of Remaining Data is {filtered_data_size / orginal_data_size:.2%}')"
   ]
  },
  {
   "cell_type": "code",
   "execution_count": 4,
   "id": "9e47ed91",
   "metadata": {},
   "outputs": [],
   "source": [
    "# ratings 컬럼의 이름을 counts로 바꿉니다.\n",
    "ratings.rename(columns={'ratings':'count'}, inplace=True)"
   ]
  },
  {
   "cell_type": "code",
   "execution_count": 5,
   "id": "f5ae4ef5",
   "metadata": {},
   "outputs": [
    {
     "data": {
      "text/plain": [
       "0          5\n",
       "1          3\n",
       "2          3\n",
       "3          4\n",
       "4          5\n",
       "          ..\n",
       "1000203    3\n",
       "1000205    5\n",
       "1000206    5\n",
       "1000207    4\n",
       "1000208    4\n",
       "Name: count, Length: 836478, dtype: int64"
      ]
     },
     "execution_count": 5,
     "metadata": {},
     "output_type": "execute_result"
    }
   ],
   "source": [
    "ratings['count']"
   ]
  },
  {
   "cell_type": "code",
   "execution_count": 6,
   "id": "12646f76",
   "metadata": {},
   "outputs": [
    {
     "data": {
      "text/html": [
       "<div>\n",
       "<style scoped>\n",
       "    .dataframe tbody tr th:only-of-type {\n",
       "        vertical-align: middle;\n",
       "    }\n",
       "\n",
       "    .dataframe tbody tr th {\n",
       "        vertical-align: top;\n",
       "    }\n",
       "\n",
       "    .dataframe thead th {\n",
       "        text-align: right;\n",
       "    }\n",
       "</style>\n",
       "<table border=\"1\" class=\"dataframe\">\n",
       "  <thead>\n",
       "    <tr style=\"text-align: right;\">\n",
       "      <th></th>\n",
       "      <th>user_id</th>\n",
       "      <th>movie_id</th>\n",
       "      <th>count</th>\n",
       "      <th>timestamp</th>\n",
       "    </tr>\n",
       "  </thead>\n",
       "  <tbody>\n",
       "    <tr>\n",
       "      <th>0</th>\n",
       "      <td>1</td>\n",
       "      <td>1193</td>\n",
       "      <td>5</td>\n",
       "      <td>978300760</td>\n",
       "    </tr>\n",
       "    <tr>\n",
       "      <th>1</th>\n",
       "      <td>1</td>\n",
       "      <td>661</td>\n",
       "      <td>3</td>\n",
       "      <td>978302109</td>\n",
       "    </tr>\n",
       "    <tr>\n",
       "      <th>2</th>\n",
       "      <td>1</td>\n",
       "      <td>914</td>\n",
       "      <td>3</td>\n",
       "      <td>978301968</td>\n",
       "    </tr>\n",
       "    <tr>\n",
       "      <th>3</th>\n",
       "      <td>1</td>\n",
       "      <td>3408</td>\n",
       "      <td>4</td>\n",
       "      <td>978300275</td>\n",
       "    </tr>\n",
       "    <tr>\n",
       "      <th>4</th>\n",
       "      <td>1</td>\n",
       "      <td>2355</td>\n",
       "      <td>5</td>\n",
       "      <td>978824291</td>\n",
       "    </tr>\n",
       "  </tbody>\n",
       "</table>\n",
       "</div>"
      ],
      "text/plain": [
       "   user_id  movie_id  count  timestamp\n",
       "0        1      1193      5  978300760\n",
       "1        1       661      3  978302109\n",
       "2        1       914      3  978301968\n",
       "3        1      3408      4  978300275\n",
       "4        1      2355      5  978824291"
      ]
     },
     "execution_count": 6,
     "metadata": {},
     "output_type": "execute_result"
    }
   ],
   "source": [
    "ratings.head()"
   ]
  },
  {
   "cell_type": "code",
   "execution_count": 7,
   "id": "4cde5723",
   "metadata": {},
   "outputs": [
    {
     "data": {
      "text/html": [
       "<div>\n",
       "<style scoped>\n",
       "    .dataframe tbody tr th:only-of-type {\n",
       "        vertical-align: middle;\n",
       "    }\n",
       "\n",
       "    .dataframe tbody tr th {\n",
       "        vertical-align: top;\n",
       "    }\n",
       "\n",
       "    .dataframe thead th {\n",
       "        text-align: right;\n",
       "    }\n",
       "</style>\n",
       "<table border=\"1\" class=\"dataframe\">\n",
       "  <thead>\n",
       "    <tr style=\"text-align: right;\">\n",
       "      <th></th>\n",
       "      <th>user_id</th>\n",
       "      <th>movie_id</th>\n",
       "      <th>count</th>\n",
       "    </tr>\n",
       "  </thead>\n",
       "  <tbody>\n",
       "    <tr>\n",
       "      <th>0</th>\n",
       "      <td>1</td>\n",
       "      <td>1193</td>\n",
       "      <td>5</td>\n",
       "    </tr>\n",
       "    <tr>\n",
       "      <th>1</th>\n",
       "      <td>1</td>\n",
       "      <td>661</td>\n",
       "      <td>3</td>\n",
       "    </tr>\n",
       "    <tr>\n",
       "      <th>2</th>\n",
       "      <td>1</td>\n",
       "      <td>914</td>\n",
       "      <td>3</td>\n",
       "    </tr>\n",
       "    <tr>\n",
       "      <th>3</th>\n",
       "      <td>1</td>\n",
       "      <td>3408</td>\n",
       "      <td>4</td>\n",
       "    </tr>\n",
       "    <tr>\n",
       "      <th>4</th>\n",
       "      <td>1</td>\n",
       "      <td>2355</td>\n",
       "      <td>5</td>\n",
       "    </tr>\n",
       "  </tbody>\n",
       "</table>\n",
       "</div>"
      ],
      "text/plain": [
       "   user_id  movie_id  count\n",
       "0        1      1193      5\n",
       "1        1       661      3\n",
       "2        1       914      3\n",
       "3        1      3408      4\n",
       "4        1      2355      5"
      ]
     },
     "execution_count": 7,
     "metadata": {},
     "output_type": "execute_result"
    }
   ],
   "source": [
    "ratings = ratings[['user_id', 'movie_id', 'count']]\n",
    "ratings.head()"
   ]
  },
  {
   "cell_type": "code",
   "execution_count": 8,
   "id": "909e08d3",
   "metadata": {},
   "outputs": [
    {
     "name": "stdout",
     "output_type": "stream",
     "text": [
      "rating에 있는 유니크한 영화 수:  3628\n",
      "rating에 있는 유니크한 사용자 수:  6039\n"
     ]
    }
   ],
   "source": [
    "print('rating에 있는 유니크한 영화 수: ',ratings['movie_id'].nunique())\n",
    "print('rating에 있는 유니크한 사용자 수: ',ratings['user_id'].nunique())"
   ]
  },
  {
   "cell_type": "code",
   "execution_count": 9,
   "id": "c4f819e8",
   "metadata": {},
   "outputs": [
    {
     "data": {
      "text/html": [
       "<div>\n",
       "<style scoped>\n",
       "    .dataframe tbody tr th:only-of-type {\n",
       "        vertical-align: middle;\n",
       "    }\n",
       "\n",
       "    .dataframe tbody tr th {\n",
       "        vertical-align: top;\n",
       "    }\n",
       "\n",
       "    .dataframe thead th {\n",
       "        text-align: right;\n",
       "    }\n",
       "</style>\n",
       "<table border=\"1\" class=\"dataframe\">\n",
       "  <thead>\n",
       "    <tr style=\"text-align: right;\">\n",
       "      <th></th>\n",
       "      <th>movie_id</th>\n",
       "      <th>title</th>\n",
       "      <th>genre</th>\n",
       "    </tr>\n",
       "  </thead>\n",
       "  <tbody>\n",
       "    <tr>\n",
       "      <th>0</th>\n",
       "      <td>1</td>\n",
       "      <td>Toy Story (1995)</td>\n",
       "      <td>Animation|Children's|Comedy</td>\n",
       "    </tr>\n",
       "    <tr>\n",
       "      <th>1</th>\n",
       "      <td>2</td>\n",
       "      <td>Jumanji (1995)</td>\n",
       "      <td>Adventure|Children's|Fantasy</td>\n",
       "    </tr>\n",
       "    <tr>\n",
       "      <th>2</th>\n",
       "      <td>3</td>\n",
       "      <td>Grumpier Old Men (1995)</td>\n",
       "      <td>Comedy|Romance</td>\n",
       "    </tr>\n",
       "    <tr>\n",
       "      <th>3</th>\n",
       "      <td>4</td>\n",
       "      <td>Waiting to Exhale (1995)</td>\n",
       "      <td>Comedy|Drama</td>\n",
       "    </tr>\n",
       "    <tr>\n",
       "      <th>4</th>\n",
       "      <td>5</td>\n",
       "      <td>Father of the Bride Part II (1995)</td>\n",
       "      <td>Comedy</td>\n",
       "    </tr>\n",
       "  </tbody>\n",
       "</table>\n",
       "</div>"
      ],
      "text/plain": [
       "   movie_id                               title                         genre\n",
       "0         1                    Toy Story (1995)   Animation|Children's|Comedy\n",
       "1         2                      Jumanji (1995)  Adventure|Children's|Fantasy\n",
       "2         3             Grumpier Old Men (1995)                Comedy|Romance\n",
       "3         4            Waiting to Exhale (1995)                  Comedy|Drama\n",
       "4         5  Father of the Bride Part II (1995)                        Comedy"
      ]
     },
     "execution_count": 9,
     "metadata": {},
     "output_type": "execute_result"
    }
   ],
   "source": [
    "# 영화 제목을 보기 위해 메타 데이터를 읽어옵니다.\n",
    "movie_file_path=os.getenv('HOME') + '/aiffel/recommendata_iu/data/ml-1m/movies.dat'\n",
    "cols = ['movie_id', 'title', 'genre'] \n",
    "movies = pd.read_csv(movie_file_path, sep='::', names=cols, engine='python', encoding='ISO-8859-1')\n",
    "movies.head()"
   ]
  },
  {
   "cell_type": "code",
   "execution_count": 10,
   "id": "ddc4a385",
   "metadata": {},
   "outputs": [
    {
     "data": {
      "text/plain": [
       "title\n",
       "American Beauty (1999)                                   3211\n",
       "Star Wars: Episode IV - A New Hope (1977)                2910\n",
       "Star Wars: Episode V - The Empire Strikes Back (1980)    2885\n",
       "Star Wars: Episode VI - Return of the Jedi (1983)        2716\n",
       "Saving Private Ryan (1998)                               2561\n",
       "Terminator 2: Judgment Day (1991)                        2509\n",
       "Silence of the Lambs, The (1991)                         2498\n",
       "Raiders of the Lost Ark (1981)                           2473\n",
       "Back to the Future (1985)                                2460\n",
       "Matrix, The (1999)                                       2434\n",
       "Jurassic Park (1993)                                     2413\n",
       "Sixth Sense, The (1999)                                  2385\n",
       "Fargo (1996)                                             2371\n",
       "Braveheart (1995)                                        2314\n",
       "Men in Black (1997)                                      2297\n",
       "Schindler's List (1993)                                  2257\n",
       "Princess Bride, The (1987)                               2252\n",
       "Shakespeare in Love (1998)                               2213\n",
       "L.A. Confidential (1997)                                 2210\n",
       "Shawshank Redemption, The (1994)                         2194\n",
       "Godfather, The (1972)                                    2167\n",
       "Groundhog Day (1993)                                     2121\n",
       "E.T. the Extra-Terrestrial (1982)                        2102\n",
       "Being John Malkovich (1999)                              2066\n",
       "Ghostbusters (1984)                                      2051\n",
       "Pulp Fiction (1994)                                      2030\n",
       "Forrest Gump (1994)                                      2022\n",
       "Terminator, The (1984)                                   2019\n",
       "Toy Story (1995)                                         2000\n",
       "Fugitive, The (1993)                                     1941\n",
       "Name: count, dtype: int64"
      ]
     },
     "execution_count": 10,
     "metadata": {},
     "output_type": "execute_result"
    }
   ],
   "source": [
    "#가장 인기있는 영화 30편\n",
    "movie_data = pd.merge(ratings, movies)\n",
    "movie_count = movie_data.groupby('title')['count'].count()\n",
    "movie_count.sort_values(ascending=False).head(30)"
   ]
  },
  {
   "cell_type": "markdown",
   "id": "abee2583",
   "metadata": {},
   "source": [
    "### Adding Ratings"
   ]
  },
  {
   "cell_type": "code",
   "execution_count": 11,
   "id": "2e7a0d7c",
   "metadata": {},
   "outputs": [
    {
     "data": {
      "text/html": [
       "<div>\n",
       "<style scoped>\n",
       "    .dataframe tbody tr th:only-of-type {\n",
       "        vertical-align: middle;\n",
       "    }\n",
       "\n",
       "    .dataframe tbody tr th {\n",
       "        vertical-align: top;\n",
       "    }\n",
       "\n",
       "    .dataframe thead th {\n",
       "        text-align: right;\n",
       "    }\n",
       "</style>\n",
       "<table border=\"1\" class=\"dataframe\">\n",
       "  <thead>\n",
       "    <tr style=\"text-align: right;\">\n",
       "      <th></th>\n",
       "      <th>user_id</th>\n",
       "      <th>movie_id</th>\n",
       "      <th>count</th>\n",
       "    </tr>\n",
       "  </thead>\n",
       "  <tbody>\n",
       "    <tr>\n",
       "      <th>1000203</th>\n",
       "      <td>6040</td>\n",
       "      <td>1090</td>\n",
       "      <td>3</td>\n",
       "    </tr>\n",
       "    <tr>\n",
       "      <th>1000205</th>\n",
       "      <td>6040</td>\n",
       "      <td>1094</td>\n",
       "      <td>5</td>\n",
       "    </tr>\n",
       "    <tr>\n",
       "      <th>1000206</th>\n",
       "      <td>6040</td>\n",
       "      <td>562</td>\n",
       "      <td>5</td>\n",
       "    </tr>\n",
       "    <tr>\n",
       "      <th>1000207</th>\n",
       "      <td>6040</td>\n",
       "      <td>1096</td>\n",
       "      <td>4</td>\n",
       "    </tr>\n",
       "    <tr>\n",
       "      <th>1000208</th>\n",
       "      <td>6040</td>\n",
       "      <td>1097</td>\n",
       "      <td>4</td>\n",
       "    </tr>\n",
       "    <tr>\n",
       "      <th>476</th>\n",
       "      <td>6041</td>\n",
       "      <td>480</td>\n",
       "      <td>5</td>\n",
       "    </tr>\n",
       "    <tr>\n",
       "      <th>1220</th>\n",
       "      <td>6041</td>\n",
       "      <td>1240</td>\n",
       "      <td>5</td>\n",
       "    </tr>\n",
       "    <tr>\n",
       "      <th>1250</th>\n",
       "      <td>6041</td>\n",
       "      <td>1270</td>\n",
       "      <td>5</td>\n",
       "    </tr>\n",
       "    <tr>\n",
       "      <th>1539</th>\n",
       "      <td>6041</td>\n",
       "      <td>1580</td>\n",
       "      <td>5</td>\n",
       "    </tr>\n",
       "    <tr>\n",
       "      <th>2502</th>\n",
       "      <td>6041</td>\n",
       "      <td>2571</td>\n",
       "      <td>5</td>\n",
       "    </tr>\n",
       "  </tbody>\n",
       "</table>\n",
       "</div>"
      ],
      "text/plain": [
       "         user_id  movie_id  count\n",
       "1000203     6040      1090      3\n",
       "1000205     6040      1094      5\n",
       "1000206     6040       562      5\n",
       "1000207     6040      1096      4\n",
       "1000208     6040      1097      4\n",
       "476         6041       480      5\n",
       "1220        6041      1240      5\n",
       "1250        6041      1270      5\n",
       "1539        6041      1580      5\n",
       "2502        6041      2571      5"
      ]
     },
     "execution_count": 11,
     "metadata": {},
     "output_type": "execute_result"
    }
   ],
   "source": [
    "my_favorite = ['Terminator, The (1984)' , 'Back to the Future (1985)' ,'Matrix, The (1999)' ,'Men in Black (1997)' ,'Jurassic Park (1993)']\n",
    "favorite_movie_id = movies[movies['title'].isin(my_favorite)]\n",
    "my_movie = pd.DataFrame({'user_id': [6041]*5, 'movie_id': favorite_movie_id['movie_id'], 'count':[5]*5})\n",
    "\n",
    "if not ratings.isin({'user_id':[6041]})['user_id'].any():\n",
    "    ratings = ratings.append(my_movie)\n",
    "ratings.tail(10)"
   ]
  },
  {
   "cell_type": "code",
   "execution_count": 12,
   "id": "40d75068",
   "metadata": {},
   "outputs": [
    {
     "data": {
      "text/html": [
       "<div>\n",
       "<style scoped>\n",
       "    .dataframe tbody tr th:only-of-type {\n",
       "        vertical-align: middle;\n",
       "    }\n",
       "\n",
       "    .dataframe tbody tr th {\n",
       "        vertical-align: top;\n",
       "    }\n",
       "\n",
       "    .dataframe thead th {\n",
       "        text-align: right;\n",
       "    }\n",
       "</style>\n",
       "<table border=\"1\" class=\"dataframe\">\n",
       "  <thead>\n",
       "    <tr style=\"text-align: right;\">\n",
       "      <th></th>\n",
       "      <th>user_id</th>\n",
       "      <th>movie_id</th>\n",
       "      <th>count</th>\n",
       "      <th>title</th>\n",
       "      <th>genre</th>\n",
       "    </tr>\n",
       "  </thead>\n",
       "  <tbody>\n",
       "    <tr>\n",
       "      <th>0</th>\n",
       "      <td>1</td>\n",
       "      <td>1193</td>\n",
       "      <td>5</td>\n",
       "      <td>One Flew Over the Cuckoo's Nest (1975)</td>\n",
       "      <td>Drama</td>\n",
       "    </tr>\n",
       "    <tr>\n",
       "      <th>1</th>\n",
       "      <td>2</td>\n",
       "      <td>1193</td>\n",
       "      <td>5</td>\n",
       "      <td>One Flew Over the Cuckoo's Nest (1975)</td>\n",
       "      <td>Drama</td>\n",
       "    </tr>\n",
       "    <tr>\n",
       "      <th>2</th>\n",
       "      <td>12</td>\n",
       "      <td>1193</td>\n",
       "      <td>4</td>\n",
       "      <td>One Flew Over the Cuckoo's Nest (1975)</td>\n",
       "      <td>Drama</td>\n",
       "    </tr>\n",
       "    <tr>\n",
       "      <th>3</th>\n",
       "      <td>15</td>\n",
       "      <td>1193</td>\n",
       "      <td>4</td>\n",
       "      <td>One Flew Over the Cuckoo's Nest (1975)</td>\n",
       "      <td>Drama</td>\n",
       "    </tr>\n",
       "    <tr>\n",
       "      <th>4</th>\n",
       "      <td>17</td>\n",
       "      <td>1193</td>\n",
       "      <td>5</td>\n",
       "      <td>One Flew Over the Cuckoo's Nest (1975)</td>\n",
       "      <td>Drama</td>\n",
       "    </tr>\n",
       "    <tr>\n",
       "      <th>...</th>\n",
       "      <td>...</td>\n",
       "      <td>...</td>\n",
       "      <td>...</td>\n",
       "      <td>...</td>\n",
       "      <td>...</td>\n",
       "    </tr>\n",
       "    <tr>\n",
       "      <th>836478</th>\n",
       "      <td>5851</td>\n",
       "      <td>3607</td>\n",
       "      <td>5</td>\n",
       "      <td>One Little Indian (1973)</td>\n",
       "      <td>Comedy|Drama|Western</td>\n",
       "    </tr>\n",
       "    <tr>\n",
       "      <th>836479</th>\n",
       "      <td>5854</td>\n",
       "      <td>3026</td>\n",
       "      <td>4</td>\n",
       "      <td>Slaughterhouse (1987)</td>\n",
       "      <td>Horror</td>\n",
       "    </tr>\n",
       "    <tr>\n",
       "      <th>836480</th>\n",
       "      <td>5854</td>\n",
       "      <td>690</td>\n",
       "      <td>3</td>\n",
       "      <td>Promise, The (Versprechen, Das) (1994)</td>\n",
       "      <td>Romance</td>\n",
       "    </tr>\n",
       "    <tr>\n",
       "      <th>836481</th>\n",
       "      <td>5938</td>\n",
       "      <td>2909</td>\n",
       "      <td>4</td>\n",
       "      <td>Five Wives, Three Secretaries and Me (1998)</td>\n",
       "      <td>Documentary</td>\n",
       "    </tr>\n",
       "    <tr>\n",
       "      <th>836482</th>\n",
       "      <td>5948</td>\n",
       "      <td>1360</td>\n",
       "      <td>5</td>\n",
       "      <td>Identification of a Woman (Identificazione di ...</td>\n",
       "      <td>Drama</td>\n",
       "    </tr>\n",
       "  </tbody>\n",
       "</table>\n",
       "<p>836483 rows × 5 columns</p>\n",
       "</div>"
      ],
      "text/plain": [
       "        user_id  movie_id  count  \\\n",
       "0             1      1193      5   \n",
       "1             2      1193      5   \n",
       "2            12      1193      4   \n",
       "3            15      1193      4   \n",
       "4            17      1193      5   \n",
       "...         ...       ...    ...   \n",
       "836478     5851      3607      5   \n",
       "836479     5854      3026      4   \n",
       "836480     5854       690      3   \n",
       "836481     5938      2909      4   \n",
       "836482     5948      1360      5   \n",
       "\n",
       "                                                    title  \\\n",
       "0                  One Flew Over the Cuckoo's Nest (1975)   \n",
       "1                  One Flew Over the Cuckoo's Nest (1975)   \n",
       "2                  One Flew Over the Cuckoo's Nest (1975)   \n",
       "3                  One Flew Over the Cuckoo's Nest (1975)   \n",
       "4                  One Flew Over the Cuckoo's Nest (1975)   \n",
       "...                                                   ...   \n",
       "836478                           One Little Indian (1973)   \n",
       "836479                              Slaughterhouse (1987)   \n",
       "836480             Promise, The (Versprechen, Das) (1994)   \n",
       "836481        Five Wives, Three Secretaries and Me (1998)   \n",
       "836482  Identification of a Woman (Identificazione di ...   \n",
       "\n",
       "                       genre  \n",
       "0                      Drama  \n",
       "1                      Drama  \n",
       "2                      Drama  \n",
       "3                      Drama  \n",
       "4                      Drama  \n",
       "...                      ...  \n",
       "836478  Comedy|Drama|Western  \n",
       "836479                Horror  \n",
       "836480               Romance  \n",
       "836481           Documentary  \n",
       "836482                 Drama  \n",
       "\n",
       "[836483 rows x 5 columns]"
      ]
     },
     "execution_count": 12,
     "metadata": {},
     "output_type": "execute_result"
    }
   ],
   "source": [
    "movie_data = pd.merge(ratings, movies, on='movie_id')\n",
    "movie_data"
   ]
  },
  {
   "cell_type": "code",
   "execution_count": 13,
   "id": "83da1aea",
   "metadata": {},
   "outputs": [
    {
     "data": {
      "text/plain": [
       "count    6040.000000\n",
       "mean      138.490563\n",
       "std       156.238108\n",
       "min         1.000000\n",
       "25%        38.000000\n",
       "50%        81.000000\n",
       "75%       177.000000\n",
       "max      1968.000000\n",
       "Name: title, dtype: float64"
      ]
     },
     "execution_count": 13,
     "metadata": {},
     "output_type": "execute_result"
    }
   ],
   "source": [
    "user_count = movie_data.groupby('user_id')['title'].count()\n",
    "user_count.describe()"
   ]
  },
  {
   "cell_type": "markdown",
   "id": "a020b0d0",
   "metadata": {},
   "source": [
    "### Making CSR Matrix"
   ]
  },
  {
   "cell_type": "code",
   "execution_count": 14,
   "id": "9534e16a",
   "metadata": {},
   "outputs": [
    {
     "name": "stdout",
     "output_type": "stream",
     "text": [
      "1 , 6041\n",
      "1 , 3952\n"
     ]
    }
   ],
   "source": [
    "min_u = min(movie_data.user_id)\n",
    "max_u = max(movie_data.user_id)\n",
    "min_m = min(movie_data.movie_id)\n",
    "max_m = max(movie_data.movie_id)\n",
    "print(min_u,',',max_u)\n",
    "print(min_m,',',max_m)"
   ]
  },
  {
   "cell_type": "code",
   "execution_count": 15,
   "id": "79a5efa8",
   "metadata": {},
   "outputs": [
    {
     "data": {
      "text/plain": [
       "<6042x3953 sparse matrix of type '<class 'numpy.int64'>'\n",
       "\twith 836483 stored elements in Compressed Sparse Row format>"
      ]
     },
     "execution_count": 15,
     "metadata": {},
     "output_type": "execute_result"
    }
   ],
   "source": [
    "from scipy.sparse import csr_matrix\n",
    "csr_data = csr_matrix((ratings['count'],(ratings.user_id, ratings.movie_id)),shape=(max_u+1,max_m+1))\n",
    "csr_data"
   ]
  },
  {
   "cell_type": "markdown",
   "id": "990e37ec",
   "metadata": {},
   "source": [
    "### Design A Model and Training"
   ]
  },
  {
   "cell_type": "code",
   "execution_count": 16,
   "id": "289d568d",
   "metadata": {},
   "outputs": [],
   "source": [
    "from implicit.als import AlternatingLeastSquares\n",
    "import os\n",
    "import numpy as np\n",
    "\n",
    "# implicit 라이브러리에서 권장하고 있는 부분입니다. 학습 내용과는 무관합니다.\n",
    "os.environ['OPENBLAS_NUM_THREADS']='1'\n",
    "os.environ['KMP_DUPLICATE_LIB_OK']='True'\n",
    "os.environ['MKL_NUM_THREADS']='1'"
   ]
  },
  {
   "cell_type": "code",
   "execution_count": 17,
   "id": "398f0ac3",
   "metadata": {},
   "outputs": [],
   "source": [
    "als_model = AlternatingLeastSquares(factors=100, regularization=0.01, use_gpu=False, iterations=15, dtype=np.float32)"
   ]
  },
  {
   "cell_type": "code",
   "execution_count": 18,
   "id": "8fa94be3",
   "metadata": {},
   "outputs": [
    {
     "data": {
      "text/plain": [
       "<3953x6042 sparse matrix of type '<class 'numpy.int64'>'\n",
       "\twith 836483 stored elements in Compressed Sparse Column format>"
      ]
     },
     "execution_count": 18,
     "metadata": {},
     "output_type": "execute_result"
    }
   ],
   "source": [
    "# als 모델은 input으로 (item X user 꼴의 matrix를 받기 때문에 Transpose해줍니다.)\n",
    "csr_data_transpose = csr_data.T\n",
    "csr_data_transpose"
   ]
  },
  {
   "cell_type": "code",
   "execution_count": 19,
   "id": "9fa8c690",
   "metadata": {},
   "outputs": [
    {
     "data": {
      "application/vnd.jupyter.widget-view+json": {
       "model_id": "8a29b4d325e545209c7ebfc7f728ee9f",
       "version_major": 2,
       "version_minor": 0
      },
      "text/plain": [
       "  0%|          | 0/15 [00:00<?, ?it/s]"
      ]
     },
     "metadata": {},
     "output_type": "display_data"
    }
   ],
   "source": [
    "als_model.fit(csr_data_transpose)"
   ]
  },
  {
   "cell_type": "markdown",
   "id": "b7df83f4",
   "metadata": {},
   "source": [
    "### Finding Similar Movies with My Favorites"
   ]
  },
  {
   "cell_type": "code",
   "execution_count": 20,
   "id": "73929497",
   "metadata": {},
   "outputs": [
    {
     "data": {
      "text/html": [
       "<div>\n",
       "<style scoped>\n",
       "    .dataframe tbody tr th:only-of-type {\n",
       "        vertical-align: middle;\n",
       "    }\n",
       "\n",
       "    .dataframe tbody tr th {\n",
       "        vertical-align: top;\n",
       "    }\n",
       "\n",
       "    .dataframe thead th {\n",
       "        text-align: right;\n",
       "    }\n",
       "</style>\n",
       "<table border=\"1\" class=\"dataframe\">\n",
       "  <thead>\n",
       "    <tr style=\"text-align: right;\">\n",
       "      <th></th>\n",
       "      <th>user_id</th>\n",
       "      <th>movie_id</th>\n",
       "      <th>count</th>\n",
       "      <th>title</th>\n",
       "      <th>genre</th>\n",
       "    </tr>\n",
       "  </thead>\n",
       "  <tbody>\n",
       "    <tr>\n",
       "      <th>89416</th>\n",
       "      <td>2</td>\n",
       "      <td>589</td>\n",
       "      <td>4</td>\n",
       "      <td>Terminator 2: Judgment Day (1991)</td>\n",
       "      <td>Action|Sci-Fi|Thriller</td>\n",
       "    </tr>\n",
       "    <tr>\n",
       "      <th>89417</th>\n",
       "      <td>7</td>\n",
       "      <td>589</td>\n",
       "      <td>5</td>\n",
       "      <td>Terminator 2: Judgment Day (1991)</td>\n",
       "      <td>Action|Sci-Fi|Thriller</td>\n",
       "    </tr>\n",
       "    <tr>\n",
       "      <th>89418</th>\n",
       "      <td>8</td>\n",
       "      <td>589</td>\n",
       "      <td>5</td>\n",
       "      <td>Terminator 2: Judgment Day (1991)</td>\n",
       "      <td>Action|Sci-Fi|Thriller</td>\n",
       "    </tr>\n",
       "    <tr>\n",
       "      <th>89419</th>\n",
       "      <td>10</td>\n",
       "      <td>589</td>\n",
       "      <td>4</td>\n",
       "      <td>Terminator 2: Judgment Day (1991)</td>\n",
       "      <td>Action|Sci-Fi|Thriller</td>\n",
       "    </tr>\n",
       "    <tr>\n",
       "      <th>89420</th>\n",
       "      <td>13</td>\n",
       "      <td>589</td>\n",
       "      <td>5</td>\n",
       "      <td>Terminator 2: Judgment Day (1991)</td>\n",
       "      <td>Action|Sci-Fi|Thriller</td>\n",
       "    </tr>\n",
       "    <tr>\n",
       "      <th>...</th>\n",
       "      <td>...</td>\n",
       "      <td>...</td>\n",
       "      <td>...</td>\n",
       "      <td>...</td>\n",
       "      <td>...</td>\n",
       "    </tr>\n",
       "    <tr>\n",
       "      <th>193098</th>\n",
       "      <td>6035</td>\n",
       "      <td>1240</td>\n",
       "      <td>3</td>\n",
       "      <td>Terminator, The (1984)</td>\n",
       "      <td>Action|Sci-Fi|Thriller</td>\n",
       "    </tr>\n",
       "    <tr>\n",
       "      <th>193099</th>\n",
       "      <td>6036</td>\n",
       "      <td>1240</td>\n",
       "      <td>5</td>\n",
       "      <td>Terminator, The (1984)</td>\n",
       "      <td>Action|Sci-Fi|Thriller</td>\n",
       "    </tr>\n",
       "    <tr>\n",
       "      <th>193100</th>\n",
       "      <td>6037</td>\n",
       "      <td>1240</td>\n",
       "      <td>4</td>\n",
       "      <td>Terminator, The (1984)</td>\n",
       "      <td>Action|Sci-Fi|Thriller</td>\n",
       "    </tr>\n",
       "    <tr>\n",
       "      <th>193101</th>\n",
       "      <td>6040</td>\n",
       "      <td>1240</td>\n",
       "      <td>3</td>\n",
       "      <td>Terminator, The (1984)</td>\n",
       "      <td>Action|Sci-Fi|Thriller</td>\n",
       "    </tr>\n",
       "    <tr>\n",
       "      <th>193102</th>\n",
       "      <td>6041</td>\n",
       "      <td>1240</td>\n",
       "      <td>5</td>\n",
       "      <td>Terminator, The (1984)</td>\n",
       "      <td>Action|Sci-Fi|Thriller</td>\n",
       "    </tr>\n",
       "  </tbody>\n",
       "</table>\n",
       "<p>4529 rows × 5 columns</p>\n",
       "</div>"
      ],
      "text/plain": [
       "        user_id  movie_id  count                              title  \\\n",
       "89416         2       589      4  Terminator 2: Judgment Day (1991)   \n",
       "89417         7       589      5  Terminator 2: Judgment Day (1991)   \n",
       "89418         8       589      5  Terminator 2: Judgment Day (1991)   \n",
       "89419        10       589      4  Terminator 2: Judgment Day (1991)   \n",
       "89420        13       589      5  Terminator 2: Judgment Day (1991)   \n",
       "...         ...       ...    ...                                ...   \n",
       "193098     6035      1240      3             Terminator, The (1984)   \n",
       "193099     6036      1240      5             Terminator, The (1984)   \n",
       "193100     6037      1240      4             Terminator, The (1984)   \n",
       "193101     6040      1240      3             Terminator, The (1984)   \n",
       "193102     6041      1240      5             Terminator, The (1984)   \n",
       "\n",
       "                         genre  \n",
       "89416   Action|Sci-Fi|Thriller  \n",
       "89417   Action|Sci-Fi|Thriller  \n",
       "89418   Action|Sci-Fi|Thriller  \n",
       "89419   Action|Sci-Fi|Thriller  \n",
       "89420   Action|Sci-Fi|Thriller  \n",
       "...                        ...  \n",
       "193098  Action|Sci-Fi|Thriller  \n",
       "193099  Action|Sci-Fi|Thriller  \n",
       "193100  Action|Sci-Fi|Thriller  \n",
       "193101  Action|Sci-Fi|Thriller  \n",
       "193102  Action|Sci-Fi|Thriller  \n",
       "\n",
       "[4529 rows x 5 columns]"
      ]
     },
     "execution_count": 20,
     "metadata": {},
     "output_type": "execute_result"
    }
   ],
   "source": [
    "df = movie_data[movie_data['title'].str.contains(\"Terminator\")]\n",
    "df"
   ]
  },
  {
   "cell_type": "code",
   "execution_count": 21,
   "id": "264eb977",
   "metadata": {},
   "outputs": [],
   "source": [
    "my_vector, terminator_vector = als_model.user_factors[6041], als_model.item_factors[1240]"
   ]
  },
  {
   "cell_type": "code",
   "execution_count": 22,
   "id": "9063acd0",
   "metadata": {},
   "outputs": [
    {
     "name": "stdout",
     "output_type": "stream",
     "text": [
      "my_vector:  [-0.5963746   0.8625246   1.4900228   0.0678154   0.2510465  -0.3018909\n",
      "  0.6575465  -0.0060346   0.36908966  0.05576063  0.62662464  1.3211952\n",
      " -0.79335195 -0.03429181 -0.5885275  -0.10623804  0.17152947  0.41316015\n",
      "  0.40615234 -0.478124   -1.4602374   0.41774994  0.22756203 -0.41461423\n",
      "  1.1580434   0.36924198 -0.251573   -0.08136657 -0.1635952   0.8905826\n",
      " -0.8688085   0.2757977  -0.49163532 -0.04342429 -0.13333143 -0.43382308\n",
      "  0.14022256 -0.573222    0.1114521   0.38501883 -0.4965267  -0.8648561\n",
      " -0.017634   -0.44738808 -0.16729805 -0.15554006  0.7461645  -0.9384623\n",
      "  0.3901774  -0.07320278 -0.12331915  0.23002553  0.04516828  0.17288361\n",
      " -0.14176798  0.43363193 -0.24698035 -1.0734842  -0.48413947 -0.35605648\n",
      "  0.17608736  0.02130364  0.09962217 -0.4319146  -0.3386876   0.21144702\n",
      "  0.04892137 -0.92770475  0.6486414  -0.09895626  0.40233982  0.8070552\n",
      "  0.6371754   0.22722864  0.1741037  -0.2468657  -0.4577755   0.76470447\n",
      " -0.64390635  0.34337893 -0.24290967  0.92826575  0.29903543 -0.03262763\n",
      " -0.42859846  0.44320953 -0.13639262  0.08278689  0.20448673 -0.8535861\n",
      " -0.28750122 -0.27882257  0.17227262  0.69010526  0.82215315 -0.24344577\n",
      "  0.18358974  0.59735113 -0.07561543 -0.8778497 ]\n",
      "terminator:  [-0.01731472  0.03184004  0.03518807  0.02255731  0.01219054  0.00258982\n",
      "  0.00608426  0.03398731  0.03832386 -0.00589633  0.00498159  0.02846755\n",
      " -0.00643193 -0.0166337  -0.00325534  0.02516495  0.01720368  0.01821556\n",
      " -0.00876863  0.01844866 -0.02833595  0.02644967 -0.01462544 -0.01529587\n",
      "  0.02029899  0.00160067 -0.0113927  -0.00824953 -0.00724025  0.01246436\n",
      "  0.00048213  0.00027494  0.01005587 -0.00107922  0.01390566  0.01811257\n",
      "  0.014966   -0.02904209  0.02547793  0.00265401 -0.00795104 -0.00525361\n",
      "  0.00917107 -0.01001349 -0.01199327 -0.02876856  0.02489042 -0.00574515\n",
      "  0.01069417  0.00199275 -0.0112202   0.00692512  0.00331628  0.01000785\n",
      "  0.00294635  0.02294535 -0.00211075 -0.01903764 -0.01469241  0.00277457\n",
      " -0.0092431   0.01029505  0.02584699  0.00743271 -0.00808879  0.0158327\n",
      "  0.03375474 -0.00996929  0.00591043  0.00981797  0.01728482  0.03461067\n",
      "  0.02812515  0.01398769 -0.00948997  0.01845494 -0.01063591  0.02507669\n",
      " -0.00412306  0.012163   -0.01110741  0.02986146  0.01748013  0.02729816\n",
      " -0.01145794  0.01280631  0.00143797 -0.00242252  0.01171846 -0.0034087\n",
      "  0.02567099 -0.00420757 -0.0093646   0.03059358  0.00568985 -0.02406341\n",
      "  0.00221544  0.02580726  0.00565621  0.00347633]\n",
      "유사도:  0.53203493\n"
     ]
    }
   ],
   "source": [
    "print('my_vector: ',my_vector)\n",
    "print('terminator: ', terminator_vector)\n",
    "print('유사도: ', np.dot(my_vector,terminator_vector))"
   ]
  },
  {
   "cell_type": "markdown",
   "id": "f6c3ed97",
   "metadata": {},
   "source": [
    "### Movies which I Seems to Like"
   ]
  },
  {
   "cell_type": "code",
   "execution_count": 23,
   "id": "3d603176",
   "metadata": {},
   "outputs": [
    {
     "data": {
      "text/plain": [
       "[(1240, 1.0),\n",
       " (1200, 0.7963484),\n",
       " (1036, 0.70602924),\n",
       " (1214, 0.7006031),\n",
       " (3527, 0.66630685),\n",
       " (589, 0.63049453),\n",
       " (2571, 0.5992318),\n",
       " (2916, 0.5245019),\n",
       " (2985, 0.51544523),\n",
       " (541, 0.50557506),\n",
       " (1291, 0.50129825),\n",
       " (1196, 0.47575635),\n",
       " (1198, 0.4683646),\n",
       " (3703, 0.4459619),\n",
       " (260, 0.44070205)]"
      ]
     },
     "execution_count": 23,
     "metadata": {},
     "output_type": "execute_result"
    }
   ],
   "source": [
    "favorite_movie = 'Terminator, The (1984)'\n",
    "movie_id = movies[movies['title']=='Terminator, The (1984)']['movie_id']\n",
    "similar_movie = als_model.similar_items(movie_id.values[0], N=15)\n",
    "similar_movie"
   ]
  },
  {
   "cell_type": "code",
   "execution_count": 24,
   "id": "84e80b2f",
   "metadata": {
    "scrolled": false
   },
   "outputs": [
    {
     "data": {
      "text/html": [
       "<div>\n",
       "<style scoped>\n",
       "    .dataframe tbody tr th:only-of-type {\n",
       "        vertical-align: middle;\n",
       "    }\n",
       "\n",
       "    .dataframe tbody tr th {\n",
       "        vertical-align: top;\n",
       "    }\n",
       "\n",
       "    .dataframe thead th {\n",
       "        text-align: right;\n",
       "    }\n",
       "</style>\n",
       "<table border=\"1\" class=\"dataframe\">\n",
       "  <thead>\n",
       "    <tr style=\"text-align: right;\">\n",
       "      <th></th>\n",
       "      <th>movie_id</th>\n",
       "      <th>title</th>\n",
       "      <th>genre</th>\n",
       "    </tr>\n",
       "  </thead>\n",
       "  <tbody>\n",
       "    <tr>\n",
       "      <th>257</th>\n",
       "      <td>260</td>\n",
       "      <td>Star Wars: Episode IV - A New Hope (1977)</td>\n",
       "      <td>Action|Adventure|Fantasy|Sci-Fi</td>\n",
       "    </tr>\n",
       "    <tr>\n",
       "      <th>537</th>\n",
       "      <td>541</td>\n",
       "      <td>Blade Runner (1982)</td>\n",
       "      <td>Film-Noir|Sci-Fi</td>\n",
       "    </tr>\n",
       "    <tr>\n",
       "      <th>585</th>\n",
       "      <td>589</td>\n",
       "      <td>Terminator 2: Judgment Day (1991)</td>\n",
       "      <td>Action|Sci-Fi|Thriller</td>\n",
       "    </tr>\n",
       "    <tr>\n",
       "      <th>1023</th>\n",
       "      <td>1036</td>\n",
       "      <td>Die Hard (1988)</td>\n",
       "      <td>Action|Thriller</td>\n",
       "    </tr>\n",
       "    <tr>\n",
       "      <th>1178</th>\n",
       "      <td>1196</td>\n",
       "      <td>Star Wars: Episode V - The Empire Strikes Back...</td>\n",
       "      <td>Action|Adventure|Drama|Sci-Fi|War</td>\n",
       "    </tr>\n",
       "    <tr>\n",
       "      <th>1180</th>\n",
       "      <td>1198</td>\n",
       "      <td>Raiders of the Lost Ark (1981)</td>\n",
       "      <td>Action|Adventure</td>\n",
       "    </tr>\n",
       "    <tr>\n",
       "      <th>1182</th>\n",
       "      <td>1200</td>\n",
       "      <td>Aliens (1986)</td>\n",
       "      <td>Action|Sci-Fi|Thriller|War</td>\n",
       "    </tr>\n",
       "    <tr>\n",
       "      <th>1196</th>\n",
       "      <td>1214</td>\n",
       "      <td>Alien (1979)</td>\n",
       "      <td>Action|Horror|Sci-Fi|Thriller</td>\n",
       "    </tr>\n",
       "    <tr>\n",
       "      <th>1220</th>\n",
       "      <td>1240</td>\n",
       "      <td>Terminator, The (1984)</td>\n",
       "      <td>Action|Sci-Fi|Thriller</td>\n",
       "    </tr>\n",
       "    <tr>\n",
       "      <th>1271</th>\n",
       "      <td>1291</td>\n",
       "      <td>Indiana Jones and the Last Crusade (1989)</td>\n",
       "      <td>Action|Adventure</td>\n",
       "    </tr>\n",
       "    <tr>\n",
       "      <th>2502</th>\n",
       "      <td>2571</td>\n",
       "      <td>Matrix, The (1999)</td>\n",
       "      <td>Action|Sci-Fi|Thriller</td>\n",
       "    </tr>\n",
       "    <tr>\n",
       "      <th>2847</th>\n",
       "      <td>2916</td>\n",
       "      <td>Total Recall (1990)</td>\n",
       "      <td>Action|Adventure|Sci-Fi|Thriller</td>\n",
       "    </tr>\n",
       "    <tr>\n",
       "      <th>2916</th>\n",
       "      <td>2985</td>\n",
       "      <td>Robocop (1987)</td>\n",
       "      <td>Action|Crime|Sci-Fi</td>\n",
       "    </tr>\n",
       "    <tr>\n",
       "      <th>3458</th>\n",
       "      <td>3527</td>\n",
       "      <td>Predator (1987)</td>\n",
       "      <td>Action|Sci-Fi|Thriller</td>\n",
       "    </tr>\n",
       "    <tr>\n",
       "      <th>3634</th>\n",
       "      <td>3703</td>\n",
       "      <td>Mad Max 2 (a.k.a. The Road Warrior) (1981)</td>\n",
       "      <td>Action|Sci-Fi</td>\n",
       "    </tr>\n",
       "  </tbody>\n",
       "</table>\n",
       "</div>"
      ],
      "text/plain": [
       "      movie_id                                              title  \\\n",
       "257        260          Star Wars: Episode IV - A New Hope (1977)   \n",
       "537        541                                Blade Runner (1982)   \n",
       "585        589                  Terminator 2: Judgment Day (1991)   \n",
       "1023      1036                                    Die Hard (1988)   \n",
       "1178      1196  Star Wars: Episode V - The Empire Strikes Back...   \n",
       "1180      1198                     Raiders of the Lost Ark (1981)   \n",
       "1182      1200                                      Aliens (1986)   \n",
       "1196      1214                                       Alien (1979)   \n",
       "1220      1240                             Terminator, The (1984)   \n",
       "1271      1291          Indiana Jones and the Last Crusade (1989)   \n",
       "2502      2571                                 Matrix, The (1999)   \n",
       "2847      2916                                Total Recall (1990)   \n",
       "2916      2985                                     Robocop (1987)   \n",
       "3458      3527                                    Predator (1987)   \n",
       "3634      3703         Mad Max 2 (a.k.a. The Road Warrior) (1981)   \n",
       "\n",
       "                                  genre  \n",
       "257     Action|Adventure|Fantasy|Sci-Fi  \n",
       "537                    Film-Noir|Sci-Fi  \n",
       "585              Action|Sci-Fi|Thriller  \n",
       "1023                    Action|Thriller  \n",
       "1178  Action|Adventure|Drama|Sci-Fi|War  \n",
       "1180                   Action|Adventure  \n",
       "1182         Action|Sci-Fi|Thriller|War  \n",
       "1196      Action|Horror|Sci-Fi|Thriller  \n",
       "1220             Action|Sci-Fi|Thriller  \n",
       "1271                   Action|Adventure  \n",
       "2502             Action|Sci-Fi|Thriller  \n",
       "2847   Action|Adventure|Sci-Fi|Thriller  \n",
       "2916                Action|Crime|Sci-Fi  \n",
       "3458             Action|Sci-Fi|Thriller  \n",
       "3634                      Action|Sci-Fi  "
      ]
     },
     "execution_count": 24,
     "metadata": {},
     "output_type": "execute_result"
    }
   ],
   "source": [
    "movies[movies['movie_id'].isin([s[0] for s in similar_movie])]"
   ]
  },
  {
   "cell_type": "markdown",
   "id": "71af4bf0",
   "metadata": {},
   "source": [
    "### The Movies Recommended"
   ]
  },
  {
   "cell_type": "code",
   "execution_count": 25,
   "id": "d8ff2019",
   "metadata": {},
   "outputs": [
    {
     "data": {
      "text/plain": [
       "[(589, 0.7834098),\n",
       " (2916, 0.5453723),\n",
       " (260, 0.36727288),\n",
       " (1196, 0.35493585),\n",
       " (1097, 0.34171644),\n",
       " (1210, 0.3124357),\n",
       " (1573, 0.3107608),\n",
       " (1214, 0.3048737),\n",
       " (1200, 0.2861144),\n",
       " (1527, 0.2860313),\n",
       " (780, 0.2830738),\n",
       " (3175, 0.27418935),\n",
       " (110, 0.26811782),\n",
       " (457, 0.26713908),\n",
       " (1197, 0.23478526),\n",
       " (1544, 0.23286557),\n",
       " (32, 0.22791666),\n",
       " (2791, 0.22384869),\n",
       " (1198, 0.22260877),\n",
       " (3793, 0.21179691)]"
      ]
     },
     "execution_count": 25,
     "metadata": {},
     "output_type": "execute_result"
    }
   ],
   "source": [
    "user = 6041\n",
    "movie_recommended = als_model.recommend(user, csr_data, N=20, filter_already_liked_items=True)\n",
    "movie_recommended"
   ]
  },
  {
   "cell_type": "code",
   "execution_count": 26,
   "id": "de4345a6",
   "metadata": {
    "scrolled": false
   },
   "outputs": [
    {
     "data": {
      "text/html": [
       "<div>\n",
       "<style scoped>\n",
       "    .dataframe tbody tr th:only-of-type {\n",
       "        vertical-align: middle;\n",
       "    }\n",
       "\n",
       "    .dataframe tbody tr th {\n",
       "        vertical-align: top;\n",
       "    }\n",
       "\n",
       "    .dataframe thead th {\n",
       "        text-align: right;\n",
       "    }\n",
       "</style>\n",
       "<table border=\"1\" class=\"dataframe\">\n",
       "  <thead>\n",
       "    <tr style=\"text-align: right;\">\n",
       "      <th></th>\n",
       "      <th>movie_id</th>\n",
       "      <th>title</th>\n",
       "      <th>genre</th>\n",
       "    </tr>\n",
       "  </thead>\n",
       "  <tbody>\n",
       "    <tr>\n",
       "      <th>31</th>\n",
       "      <td>32</td>\n",
       "      <td>Twelve Monkeys (1995)</td>\n",
       "      <td>Drama|Sci-Fi</td>\n",
       "    </tr>\n",
       "    <tr>\n",
       "      <th>108</th>\n",
       "      <td>110</td>\n",
       "      <td>Braveheart (1995)</td>\n",
       "      <td>Action|Drama|War</td>\n",
       "    </tr>\n",
       "    <tr>\n",
       "      <th>257</th>\n",
       "      <td>260</td>\n",
       "      <td>Star Wars: Episode IV - A New Hope (1977)</td>\n",
       "      <td>Action|Adventure|Fantasy|Sci-Fi</td>\n",
       "    </tr>\n",
       "    <tr>\n",
       "      <th>453</th>\n",
       "      <td>457</td>\n",
       "      <td>Fugitive, The (1993)</td>\n",
       "      <td>Action|Thriller</td>\n",
       "    </tr>\n",
       "    <tr>\n",
       "      <th>585</th>\n",
       "      <td>589</td>\n",
       "      <td>Terminator 2: Judgment Day (1991)</td>\n",
       "      <td>Action|Sci-Fi|Thriller</td>\n",
       "    </tr>\n",
       "    <tr>\n",
       "      <th>770</th>\n",
       "      <td>780</td>\n",
       "      <td>Independence Day (ID4) (1996)</td>\n",
       "      <td>Action|Sci-Fi|War</td>\n",
       "    </tr>\n",
       "    <tr>\n",
       "      <th>1081</th>\n",
       "      <td>1097</td>\n",
       "      <td>E.T. the Extra-Terrestrial (1982)</td>\n",
       "      <td>Children's|Drama|Fantasy|Sci-Fi</td>\n",
       "    </tr>\n",
       "    <tr>\n",
       "      <th>1178</th>\n",
       "      <td>1196</td>\n",
       "      <td>Star Wars: Episode V - The Empire Strikes Back...</td>\n",
       "      <td>Action|Adventure|Drama|Sci-Fi|War</td>\n",
       "    </tr>\n",
       "    <tr>\n",
       "      <th>1179</th>\n",
       "      <td>1197</td>\n",
       "      <td>Princess Bride, The (1987)</td>\n",
       "      <td>Action|Adventure|Comedy|Romance</td>\n",
       "    </tr>\n",
       "    <tr>\n",
       "      <th>1180</th>\n",
       "      <td>1198</td>\n",
       "      <td>Raiders of the Lost Ark (1981)</td>\n",
       "      <td>Action|Adventure</td>\n",
       "    </tr>\n",
       "    <tr>\n",
       "      <th>1182</th>\n",
       "      <td>1200</td>\n",
       "      <td>Aliens (1986)</td>\n",
       "      <td>Action|Sci-Fi|Thriller|War</td>\n",
       "    </tr>\n",
       "    <tr>\n",
       "      <th>1192</th>\n",
       "      <td>1210</td>\n",
       "      <td>Star Wars: Episode VI - Return of the Jedi (1983)</td>\n",
       "      <td>Action|Adventure|Romance|Sci-Fi|War</td>\n",
       "    </tr>\n",
       "    <tr>\n",
       "      <th>1196</th>\n",
       "      <td>1214</td>\n",
       "      <td>Alien (1979)</td>\n",
       "      <td>Action|Horror|Sci-Fi|Thriller</td>\n",
       "    </tr>\n",
       "    <tr>\n",
       "      <th>1491</th>\n",
       "      <td>1527</td>\n",
       "      <td>Fifth Element, The (1997)</td>\n",
       "      <td>Action|Sci-Fi</td>\n",
       "    </tr>\n",
       "    <tr>\n",
       "      <th>1505</th>\n",
       "      <td>1544</td>\n",
       "      <td>Lost World: Jurassic Park, The (1997)</td>\n",
       "      <td>Action|Adventure|Sci-Fi|Thriller</td>\n",
       "    </tr>\n",
       "    <tr>\n",
       "      <th>1533</th>\n",
       "      <td>1573</td>\n",
       "      <td>Face/Off (1997)</td>\n",
       "      <td>Action|Sci-Fi|Thriller</td>\n",
       "    </tr>\n",
       "    <tr>\n",
       "      <th>2722</th>\n",
       "      <td>2791</td>\n",
       "      <td>Airplane! (1980)</td>\n",
       "      <td>Comedy</td>\n",
       "    </tr>\n",
       "    <tr>\n",
       "      <th>2847</th>\n",
       "      <td>2916</td>\n",
       "      <td>Total Recall (1990)</td>\n",
       "      <td>Action|Adventure|Sci-Fi|Thriller</td>\n",
       "    </tr>\n",
       "    <tr>\n",
       "      <th>3106</th>\n",
       "      <td>3175</td>\n",
       "      <td>Galaxy Quest (1999)</td>\n",
       "      <td>Adventure|Comedy|Sci-Fi</td>\n",
       "    </tr>\n",
       "    <tr>\n",
       "      <th>3724</th>\n",
       "      <td>3793</td>\n",
       "      <td>X-Men (2000)</td>\n",
       "      <td>Action|Sci-Fi</td>\n",
       "    </tr>\n",
       "  </tbody>\n",
       "</table>\n",
       "</div>"
      ],
      "text/plain": [
       "      movie_id                                              title  \\\n",
       "31          32                              Twelve Monkeys (1995)   \n",
       "108        110                                  Braveheart (1995)   \n",
       "257        260          Star Wars: Episode IV - A New Hope (1977)   \n",
       "453        457                               Fugitive, The (1993)   \n",
       "585        589                  Terminator 2: Judgment Day (1991)   \n",
       "770        780                      Independence Day (ID4) (1996)   \n",
       "1081      1097                  E.T. the Extra-Terrestrial (1982)   \n",
       "1178      1196  Star Wars: Episode V - The Empire Strikes Back...   \n",
       "1179      1197                         Princess Bride, The (1987)   \n",
       "1180      1198                     Raiders of the Lost Ark (1981)   \n",
       "1182      1200                                      Aliens (1986)   \n",
       "1192      1210  Star Wars: Episode VI - Return of the Jedi (1983)   \n",
       "1196      1214                                       Alien (1979)   \n",
       "1491      1527                          Fifth Element, The (1997)   \n",
       "1505      1544              Lost World: Jurassic Park, The (1997)   \n",
       "1533      1573                                    Face/Off (1997)   \n",
       "2722      2791                                   Airplane! (1980)   \n",
       "2847      2916                                Total Recall (1990)   \n",
       "3106      3175                                Galaxy Quest (1999)   \n",
       "3724      3793                                       X-Men (2000)   \n",
       "\n",
       "                                    genre  \n",
       "31                           Drama|Sci-Fi  \n",
       "108                      Action|Drama|War  \n",
       "257       Action|Adventure|Fantasy|Sci-Fi  \n",
       "453                       Action|Thriller  \n",
       "585                Action|Sci-Fi|Thriller  \n",
       "770                     Action|Sci-Fi|War  \n",
       "1081      Children's|Drama|Fantasy|Sci-Fi  \n",
       "1178    Action|Adventure|Drama|Sci-Fi|War  \n",
       "1179      Action|Adventure|Comedy|Romance  \n",
       "1180                     Action|Adventure  \n",
       "1182           Action|Sci-Fi|Thriller|War  \n",
       "1192  Action|Adventure|Romance|Sci-Fi|War  \n",
       "1196        Action|Horror|Sci-Fi|Thriller  \n",
       "1491                        Action|Sci-Fi  \n",
       "1505     Action|Adventure|Sci-Fi|Thriller  \n",
       "1533               Action|Sci-Fi|Thriller  \n",
       "2722                               Comedy  \n",
       "2847     Action|Adventure|Sci-Fi|Thriller  \n",
       "3106              Adventure|Comedy|Sci-Fi  \n",
       "3724                        Action|Sci-Fi  "
      ]
     },
     "execution_count": 26,
     "metadata": {},
     "output_type": "execute_result"
    }
   ],
   "source": [
    "movies[movies['movie_id'].isin([m[0] for m in movie_recommended])]"
   ]
  },
  {
   "cell_type": "markdown",
   "id": "8d80e442",
   "metadata": {},
   "source": [
    "## 고객 중심의 협력적 정화방법의 선호도 계산"
   ]
  },
  {
   "cell_type": "markdown",
   "id": "d83a7f56",
   "metadata": {},
   "source": [
    "# $\\hat{r}_{ui}=\\frac{\\sum_{v \\in N_{i}(u)}r_{vi}}{N_{i}(u)}$ \n",
    "$N_{i}(u)$ : 영화 i에 대해 유저 u와 선호도가 유사한 유저들의 집합,\n",
    "$r_{vi}$ : $N_{i}(u)$에 속하는 유저 v의 영화 i에 대한 선호도,    \n",
    "$\\hat{r}_{ui}$ : 영화 i에 대한 선호도가 있는 유저 집단의 선호도.(이 경우 선호도는 각 영화에 대한 별점)"
   ]
  },
  {
   "cell_type": "code",
   "execution_count": 27,
   "id": "e230742d",
   "metadata": {},
   "outputs": [
    {
     "data": {
      "text/plain": [
       "2020"
      ]
     },
     "execution_count": 27,
     "metadata": {},
     "output_type": "execute_result"
    }
   ],
   "source": [
    "cnt= 0  # \"Terminator, The (1984)\"(=영화 i)에 선호도를 가진 모든 유저의 수 \n",
    "for title in movie_data['title'] :\n",
    "    if (title=='Terminator, The (1984)') :\n",
    "        cnt+=1\n",
    "cnt        "
   ]
  },
  {
   "cell_type": "code",
   "execution_count": 28,
   "id": "06801873",
   "metadata": {},
   "outputs": [
    {
     "data": {
      "text/plain": [
       "8576"
      ]
     },
     "execution_count": 28,
     "metadata": {},
     "output_type": "execute_result"
    }
   ],
   "source": [
    "score=0 # \"Terminator, The (1984)\"에 선호도를 가진 유저들이 매긴 총 별점\n",
    "for count, title in zip(movie_data['count'],movie_data['title']) :\n",
    "    if (title=='Terminator, The (1984)') :\n",
    "        score += count\n",
    "score        "
   ]
  },
  {
   "cell_type": "code",
   "execution_count": 29,
   "id": "3a10da5e",
   "metadata": {},
   "outputs": [
    {
     "name": "stdout",
     "output_type": "stream",
     "text": [
      "Preference of the persons who like \"Terminator, The (1984)\": 4.245544554455446\n"
     ]
    }
   ],
   "source": [
    "print('Preference of the persons who like \"Terminator, The (1984)\":', 8576/2020)"
   ]
  },
  {
   "cell_type": "markdown",
   "id": "ff41fce2",
   "metadata": {},
   "source": [
    "## 품목 중심의 협력적 정화방법의 선호도 계산"
   ]
  },
  {
   "cell_type": "markdown",
   "id": "6f75a54a",
   "metadata": {},
   "source": [
    "# $\\hat{r}_{iu}=\\frac{\\sum_{j \\in N_{u}(i)}r_{ju}}{N_{u}(i)}$ \n",
    "$N_{u}(i)$ : 유저 u의 영화 i에 대한 선호도가 유사한 다른 영화들의 집합,\n",
    "$r_{ju}$ : $N_{u}(i)$ 에 속하는 영화 j에 대한 유저 u의 선호도,  \n",
    "$\\hat{r}_{iu}$ : 영화 i와 선호도가 비슷한 영화들에 대한 유저 u의 선호도."
   ]
  },
  {
   "cell_type": "code",
   "execution_count": 30,
   "id": "acee1856",
   "metadata": {},
   "outputs": [
    {
     "name": "stdout",
     "output_type": "stream",
     "text": [
      "712\n",
      "175\n"
     ]
    }
   ],
   "source": [
    "print(sum(movie_data[movie_data['user_id']==2022]['count'])) # id가 2022인 유저가 선호하는 영화들(=j)에 매긴 총 별점\n",
    "print(len(movie_data[movie_data['user_id']==2022])) # id가 2022인 유저가 선호하는 영화들의 수\n",
    "#2022 대신 임의의 유저 id를 넣어 관찰해 볼 수 있음."
   ]
  },
  {
   "cell_type": "code",
   "execution_count": 31,
   "id": "e36719b2",
   "metadata": {},
   "outputs": [
    {
     "name": "stdout",
     "output_type": "stream",
     "text": [
      "Preference of the movies which user(id=2022) like is: 4.0685714285714285\n"
     ]
    }
   ],
   "source": [
    "print('Preference of the movies which user(id=2022) like is:', 712/175)"
   ]
  },
  {
   "cell_type": "markdown",
   "id": "bc392da7",
   "metadata": {},
   "source": [
    "<회고>\n",
    "* 데이터 전처리 시 데이터 프레임을 만들 때는 그 후의 사용을 위해 주의를 요함을 알았다.\n",
    "* 서로 다른 데이터셋의 열들을 관계시키기 위해 merge 메소드가 필요함을 알았다.\n",
    "* my_vector와 terminator_vector사이의 유사도가 0.5 내외로 적당히 이루어졌고  \n",
    "  그 결과 추천된 영화들은 비슷한 장르의 액션물, 스릴러물, SF물 이었다.\n",
    "* 빅데이터에서 나오는 추천 시스템 이론을 이용하여 협력적 정화방법에 의한 선호도 계산을  \n",
    "  해보았다. \n",
    "* \"Terminator, The (1984)\" 영화에 대한 유저들의 선호도와  \n",
    "  id가 2022인 특정 고객이 좋아하는 영화들의 선호도가 모두  \n",
    "  5 초과로는 안나오는 걸로 봐서 정상치인듯 하다.  "
   ]
  }
 ],
 "metadata": {
  "kernelspec": {
   "display_name": "Python 3 (ipykernel)",
   "language": "python",
   "name": "python3"
  },
  "language_info": {
   "codemirror_mode": {
    "name": "ipython",
    "version": 3
   },
   "file_extension": ".py",
   "mimetype": "text/x-python",
   "name": "python",
   "nbconvert_exporter": "python",
   "pygments_lexer": "ipython3",
   "version": "3.9.7"
  }
 },
 "nbformat": 4,
 "nbformat_minor": 5
}
