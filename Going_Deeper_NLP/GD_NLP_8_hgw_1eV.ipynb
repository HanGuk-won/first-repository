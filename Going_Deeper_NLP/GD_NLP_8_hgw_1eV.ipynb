{
 "cells": [
  {
   "cell_type": "markdown",
   "id": "77554539",
   "metadata": {},
   "source": [
    "## NLP8. Seq2seq 으로 번역기 만들기"
   ]
  },
  {
   "cell_type": "code",
   "execution_count": 1,
   "id": "fa97014d",
   "metadata": {},
   "outputs": [
    {
     "name": "stdout",
     "output_type": "stream",
     "text": [
      "2.6.0\n"
     ]
    }
   ],
   "source": [
    "import tensorflow as tf\n",
    "import numpy as np\n",
    "from tensorflow.keras.preprocessing.text import Tokenizer\n",
    "from sklearn.model_selection import train_test_split\n",
    "\n",
    "import matplotlib.ticker as ticker\n",
    "import matplotlib.pyplot as plt\n",
    "\n",
    "import time\n",
    "import re\n",
    "import os\n",
    "import io\n",
    "import random\n",
    "\n",
    "print(tf.__version__)"
   ]
  },
  {
   "cell_type": "markdown",
   "id": "fd1d80d7",
   "metadata": {},
   "source": [
    "### 한영 기사파일 불러오기와 카디널리티 확인"
   ]
  },
  {
   "cell_type": "code",
   "execution_count": 2,
   "id": "4c9dc0d4",
   "metadata": {},
   "outputs": [
    {
     "name": "stdout",
     "output_type": "stream",
     "text": [
      "/aiffel/aiffel/s2s_translation\n"
     ]
    }
   ],
   "source": [
    "file_path = os.getenv('HOME')+'/aiffel/s2s_translation'\n",
    "print(file_path)"
   ]
  },
  {
   "cell_type": "code",
   "execution_count": 3,
   "id": "48b0c912",
   "metadata": {},
   "outputs": [],
   "source": [
    "def load_file(file_name):\n",
    "    with open(file_path+'/{}'.format(file_name), \"r\") as f:\n",
    "        raw = f.read().splitlines()\n",
    "\n",
    "    print(\"Data Size:\", len(raw))\n",
    "    print(\"Example:\")\n",
    "\n",
    "    for sen in raw[0:100][::20]: \n",
    "        print(\">>\", sen)\n",
    "    \n",
    "    return raw"
   ]
  },
  {
   "cell_type": "code",
   "execution_count": 4,
   "id": "cc975996",
   "metadata": {},
   "outputs": [
    {
     "name": "stdout",
     "output_type": "stream",
     "text": [
      "Data Size: 94123\n",
      "Example:\n",
      ">> 개인용 컴퓨터 사용의 상당 부분은 \"이것보다 뛰어날 수 있느냐?\"\n",
      ">> 북한의 핵무기 계획을 포기하도록 하려는 압력이 거세지고 있는 가운데, 일본과 북한의 외교관들이 외교 관계를 정상화하려는 회담을 재개했다.\n",
      ">> \"경호 로보트가 침입자나 화재를 탐지하기 위해서 개인적으로, 그리고 전문적으로 사용되고 있습니다.\"\n",
      ">> 수자원부 당국은 논란이 되고 있고, 막대한 비용이 드는 이 사업에 대해 내년에 건설을 시작할 계획이다.\n",
      ">> 또한 근력 운동은 활발하게 걷는 것이나 최소한 20분 동안 뛰는 것과 같은 유산소 활동에서 얻는 운동 효과를 심장과 폐에 주지 않기 때문에, 연구학자들은 근력 운동이 심장에 큰 영향을 미치는지 여부에 대해 논쟁을 해왔다.\n",
      "Data Size: 1000\n",
      "Example:\n",
      ">> 세계 에서 가장 강력한 수퍼컴퓨터를 1년 동안이나 독점해 오던 정부의 연구학자들이 이 1억1천만 달러 짜리 경이로운 설비를 공개하며, 이것이 핵전쟁으로부터 세계를 구하는데 도움이 될지도 모른다고 말했다.\n",
      ">> 무기 사찰관들의 복귀에 대하여 이라크 측의 한 관리가 \"유익하고 효과적인\" 논의였다고 말한 회합에서 유엔 무기 사찰단장이 이라크 대표단을 만났다.\n",
      ">> 하드웨어를 구입하는 비용의 문제가 커다란 장애입니다.\n",
      ">> 토의에 참가한 대부분의 사람들은 정부가 통신 내용을 도청할 수 있는 권리를 보유해야 할 필요성이 있는 합법적인 부분도 있다는 데에 동의를 한다.\n",
      ">> 그는 눈에 띄지 않게 행동하는 것으로 알려져있다. 그는 영국 시사잡지 타임즈에서 “파티에 잘 참석하지 않는다”며 자신의 생활에 대한 날조된 이야기를 즐기고 있다.\n",
      "Data Size: 2000\n",
      "Example:\n",
      ">> 토론에 참여한 사람들은 법 집행과 국가 안전보장에 대한 우려를 표명해야 할 필요성을 진지하게 받아 들이고 있습니다.\n",
      ">> 비록 그 위협(의 가능성)은 적지만, 그 잠재적인 영향력은 가히 파괴적인 것이다.\n",
      ">> 한국은 세계 에서 네번째로 원유를 많이 수입하는 나라이며, 전적으로 원유 수입에 의존하고 있다.\n",
      ">> 불과 1,379년 전이다.\n",
      ">> 대신, 그들은 \"안정\"이라는 면에서 서방 세계와 똑같은 이해 관계를 갖고 있는 각 지역의 소수 엘리트를 대표하고 있다.\n",
      "total data size: 97123\n"
     ]
    }
   ],
   "source": [
    "raw_kor = load_file('korean-english-park.train.ko')\n",
    "raw_kor += load_file('korean-english-park.dev.ko')\n",
    "raw_kor += load_file('korean-english-park.test.ko')\n",
    "print('total data size:', len(raw_kor))"
   ]
  },
  {
   "cell_type": "code",
   "execution_count": 5,
   "id": "bbc39655",
   "metadata": {},
   "outputs": [
    {
     "name": "stdout",
     "output_type": "stream",
     "text": [
      "Data Size: 94123\n",
      "Example:\n",
      ">> Much of personal computing is about \"can you top this?\"\n",
      ">> Amid mounting pressure on North Korea to abandon its nuclear weapons program Japanese and North Korean diplomats have resumed talks on normalizing diplomatic relations.\n",
      ">> “Guard robots are used privately and professionally to detect intruders or fire,” Karlsson said.\n",
      ">> Authorities from the Water Resources Ministry plan to begin construction next year on the controversial and hugely expensive project.\n",
      ">> Researchers also have debated whether weight-training has a big impact on the heart, since it does not give the heart and lungs the kind of workout they get from aerobic activities such as brisk walking or running for at least 20 minutes.\n",
      "Data Size: 1000\n",
      "Example:\n",
      ">> After keeping the world's most powerful supercomputer to themselves for a year, government researchers showed off the $110 million wonder and said it might help save the world from nuclear war.\n",
      ">> The head of the U.N. weapons inspection team met with an Iraqi delegation in what a Baghdad official called \"useful and fruitful\" discussions on the return of weapons inspectors.\n",
      ">> \"The issue of it just being a hardware expense is a serious impediment.\n",
      ">> Most of the people involved in the discussion agree that there is a legitimate area in which the government needs to retain the right to intercept communications.\n",
      ">> He's been known to keep a low profile \"You will never see me at a party,\" he told the Times of London and delights in concocting stories about his life.\n",
      "Data Size: 2000\n",
      "Example:\n",
      ">> Those involved in the discussions do take seriously the need to address concerns of law enforcement and national security.\n",
      ">> Even though the threat is small, the potential effects are devastating.\n",
      ">> South Korea is the world's fourth largest oil importer and wholly depends on imports of crude.\n",
      ">> That is only 1,379 years ago.\n",
      ">> Instead, they represent a small elite in each place that has a common interest with the West in “stability.”\n",
      "total data size: 97123\n"
     ]
    }
   ],
   "source": [
    "raw_en = load_file('korean-english-park.train.en')\n",
    "raw_en += load_file('korean-english-park.dev.en')\n",
    "raw_en += load_file('korean-english-park.test.en')\n",
    "print('total data size:', len(raw_en))"
   ]
  },
  {
   "cell_type": "code",
   "execution_count": 6,
   "id": "0a5da616",
   "metadata": {},
   "outputs": [
    {
     "name": "stdout",
     "output_type": "stream",
     "text": [
      "korean data size: 97123\n",
      "english data size: 97123\n"
     ]
    }
   ],
   "source": [
    "print('korean data size:', len(raw_kor))\n",
    "print('english data size:', len(raw_en))"
   ]
  },
  {
   "cell_type": "code",
   "execution_count": 7,
   "id": "22c8d710",
   "metadata": {},
   "outputs": [
    {
     "data": {
      "text/plain": [
       "<zip at 0x7f938d4fa3c0>"
      ]
     },
     "execution_count": 7,
     "metadata": {},
     "output_type": "execute_result"
    }
   ],
   "source": [
    "raw = zip(raw_kor, raw_en)\n",
    "raw"
   ]
  },
  {
   "cell_type": "code",
   "execution_count": 8,
   "id": "b2489e9e",
   "metadata": {},
   "outputs": [
    {
     "data": {
      "text/plain": [
       "81959"
      ]
     },
     "execution_count": 8,
     "metadata": {},
     "output_type": "execute_result"
    }
   ],
   "source": [
    "set_raw = set(raw)\n",
    "len(set_raw)"
   ]
  },
  {
   "cell_type": "code",
   "execution_count": 9,
   "id": "f9a1c134",
   "metadata": {},
   "outputs": [
    {
     "name": "stdout",
     "output_type": "stream",
     "text": [
      "korean data size: 81959\n",
      "english data size: 81959\n"
     ]
    }
   ],
   "source": [
    "cleaned_corpus_kor, cleaned_corpus_eng = zip(*set_raw)\n",
    "print('korean data size:', len(cleaned_corpus_kor))\n",
    "print('english data size:', len(cleaned_corpus_eng))"
   ]
  },
  {
   "cell_type": "code",
   "execution_count": 10,
   "id": "94bcb40c",
   "metadata": {},
   "outputs": [
    {
     "data": {
      "text/plain": [
       "'스테판 카플랜 릴리안스 건설 그룹(Reliance Construction Group) 사장은 철근이 떨어지면서 크레인을 고정했던 끈이 잘려나가며 크레인이 추락했다고 설명했다.'"
      ]
     },
     "execution_count": 10,
     "metadata": {},
     "output_type": "execute_result"
    }
   ],
   "source": [
    "cleaned_corpus_kor[50]"
   ]
  },
  {
   "cell_type": "code",
   "execution_count": 11,
   "id": "9e525bf1",
   "metadata": {},
   "outputs": [
    {
     "data": {
      "text/plain": [
       "'A piece of steel fell and sheared off one of the ties holding the crane in place, causing it to detach and topple, Stephen Kaplan, an owner of Reliance Construction Group told AP.'"
      ]
     },
     "execution_count": 11,
     "metadata": {},
     "output_type": "execute_result"
    }
   ],
   "source": [
    "cleaned_corpus_eng[50]"
   ]
  },
  {
   "cell_type": "code",
   "execution_count": 12,
   "id": "1deb0a89",
   "metadata": {},
   "outputs": [],
   "source": [
    "def preprocess_sentence(sentence, s_token=False, e_token=False):\n",
    "    sentence = sentence.lower().strip()\n",
    "    sentence = re.sub(r\"([?.!,])\", r\" \\1 \", sentence)\n",
    "    sentence = re.sub(r'[\" \"]+', \" \", sentence)\n",
    "    sentence = re.sub(r\"[^a-zA-Z?.!가-힣ㄱ-ㅎㅏ-ㅣ]+\", \" \", sentence)\n",
    "\n",
    "    sentence = sentence.strip()\n",
    "    \n",
    "    if s_token:\n",
    "        sentence = '<start> '+ sentence\n",
    "    if e_token:\n",
    "        sentence += ' <end>'\n",
    "        \n",
    "    return sentence    "
   ]
  },
  {
   "cell_type": "code",
   "execution_count": 13,
   "id": "dfda0e69",
   "metadata": {},
   "outputs": [
    {
     "name": "stdout",
     "output_type": "stream",
     "text": [
      "A snow storm buried camps erected along the route, an official said. 당국은 폭풍으로 봉송로를 따라 세워진 캠프들이 눈 속에 파묻혔다고 전했다.\n"
     ]
    }
   ],
   "source": [
    "for eng, kor in zip(cleaned_corpus_eng, cleaned_corpus_kor):\n",
    "    print(eng, kor)\n",
    "    break"
   ]
  },
  {
   "cell_type": "code",
   "execution_count": 14,
   "id": "1e101b34",
   "metadata": {},
   "outputs": [
    {
     "name": "stdout",
     "output_type": "stream",
     "text": [
      "korean data size:  17055\n",
      "english data size:  17055\n",
      "Korean: 섹시한 분위기를 조성하는데 있어 조명만큼 좋은 것은 없다 .\n",
      "English: <start> there s nothing sexy about a well lit room . <end>\n"
     ]
    }
   ],
   "source": [
    "enc_corpus = []\n",
    "dec_corpus = []\n",
    "\n",
    "cnt = 0\n",
    "\n",
    "for eng, kor in zip(cleaned_corpus_eng, cleaned_corpus_kor):\n",
    "    temp_kor = preprocess_sentence(kor)\n",
    "    temp_eng = preprocess_sentence(eng, s_token=True, e_token=True)\n",
    "    \n",
    "    if len(temp_kor) <= 40:\n",
    "        enc_corpus.append(temp_kor)\n",
    "        dec_corpus.append(temp_eng)\n",
    "        \n",
    "print('korean data size: ', len(enc_corpus))\n",
    "print('english data size: ', len(dec_corpus))\n",
    "print(\"Korean:\", enc_corpus[500])\n",
    "print(\"English:\", dec_corpus[500])"
   ]
  },
  {
   "cell_type": "markdown",
   "id": "a65524b1",
   "metadata": {},
   "source": [
    "### 한국어와 영어의 토큰화를 위한 함수 정의"
   ]
  },
  {
   "cell_type": "code",
   "execution_count": 15,
   "id": "b3b26491",
   "metadata": {},
   "outputs": [],
   "source": [
    "from konlpy.tag import Mecab\n",
    "\n",
    "vocab_size = 50000\n",
    "def tokenize(corpus, kor=False, eng=True):\n",
    "    tensor = []\n",
    "    if kor:\n",
    "        tokenizer = Mecab()\n",
    "        morph = [\" \".join(tokenizer.morphs(sen)) for sen in corpus]\n",
    "        tokenizer = tf.keras.preprocessing.text.Tokenizer(filters='',num_words=vocab_size)\n",
    "        tokenizer.fit_on_texts(morph)\n",
    "\n",
    "        tensor = tokenizer.texts_to_sequences(morph)\n",
    "        tensor = tf.keras.preprocessing.sequence.pad_sequences(tensor, padding='post')\n",
    "\n",
    "    if eng:\n",
    "        tokenizer = tf.keras.preprocessing.text.Tokenizer(filters='',num_words=vocab_size)\n",
    "        tokenizer.fit_on_texts(corpus)\n",
    "        tokenizer.word_index\n",
    "\n",
    "        tensor = tokenizer.texts_to_sequences(corpus)\n",
    "        tensor = tf.keras.preprocessing.sequence.pad_sequences(tensor, padding='post')\n",
    "\n",
    "       \n",
    "    return tensor, tokenizer        "
   ]
  },
  {
   "cell_type": "code",
   "execution_count": 16,
   "id": "4b8a0ddf",
   "metadata": {},
   "outputs": [
    {
     "name": "stdout",
     "output_type": "stream",
     "text": [
      "Korean Vocab Size: 41796\n",
      "English Vocab Size: 17325\n"
     ]
    }
   ],
   "source": [
    "enc_tensor, enc_tokenizer = tokenize(enc_corpus, kor=True)\n",
    "dec_tensor, dec_tokenizer = tokenize(dec_corpus, eng=True)\n",
    "\n",
    "enc_train, enc_val, dec_train, dec_val = \\\n",
    "train_test_split(enc_tensor, dec_tensor, test_size=0.2)\n",
    "\n",
    "print(\"Korean Vocab Size:\", len(enc_tokenizer.index_word))\n",
    "print(\"English Vocab Size:\", len(dec_tokenizer.index_word))"
   ]
  },
  {
   "cell_type": "markdown",
   "id": "9c690a30",
   "metadata": {},
   "source": [
    "### 모델 설계"
   ]
  },
  {
   "cell_type": "code",
   "execution_count": 17,
   "id": "931aacb6",
   "metadata": {},
   "outputs": [],
   "source": [
    "class BahdanauAttention(tf.keras.layers.Layer):\n",
    "    def __init__(self, units):\n",
    "        super(BahdanauAttention, self).__init__()\n",
    "        self.w_dec = tf.keras.layers.Dense(units)\n",
    "        self.w_enc = tf.keras.layers.Dense(units)\n",
    "        self.w_com = tf.keras.layers.Dense(1)\n",
    "    \n",
    "    def call(self, h_enc, h_dec):\n",
    "        # h_enc shape: [batch x length x units]\n",
    "        # h_dec shape: [batch x units]\n",
    "\n",
    "        h_enc = self.w_enc(h_enc)\n",
    "        h_dec = tf.expand_dims(h_dec, 1)\n",
    "        h_dec = self.w_dec(h_dec)\n",
    "\n",
    "        score = self.w_com(tf.nn.tanh(h_dec + h_enc))\n",
    "        \n",
    "        attn = tf.nn.softmax(score, axis=1)\n",
    "\n",
    "        context_vec = attn * h_enc\n",
    "        context_vec = tf.reduce_sum(context_vec, axis=1)\n",
    "\n",
    "        return context_vec, attn"
   ]
  },
  {
   "cell_type": "code",
   "execution_count": 18,
   "id": "c2245930",
   "metadata": {},
   "outputs": [],
   "source": [
    "class Encoder(tf.keras.Model):\n",
    "    def __init__(self, vocab_size, embedding_dim, enc_units):\n",
    "        super(Encoder, self).__init__()\n",
    "\n",
    "        self.enc_units = enc_units\n",
    "        self.embedding = tf.keras.layers.Embedding(vocab_size, embedding_dim)\n",
    "        self.gru = tf.keras.layers.GRU(enc_units,\n",
    "                                       return_sequences=True)\n",
    "\n",
    "    def call(self, x):\n",
    "        out = self.embedding(x)\n",
    "        out = self.gru(out)\n",
    "\n",
    "        return out"
   ]
  },
  {
   "cell_type": "code",
   "execution_count": 19,
   "id": "ac09e136",
   "metadata": {},
   "outputs": [],
   "source": [
    "class Decoder(tf.keras.Model):\n",
    "    def __init__(self, vocab_size, embedding_dim, dec_units):\n",
    "        super(Decoder, self).__init__()\n",
    "        self.dec_units = dec_units\n",
    "        self.embedding = tf.keras.layers.Embedding(vocab_size, embedding_dim)\n",
    "        self.gru = tf.keras.layers.GRU(dec_units,\n",
    "                                       return_sequences=True,\n",
    "                                       return_state=True)\n",
    "        self.fc = tf.keras.layers.Dense(vocab_size)\n",
    "\n",
    "        self.attention = BahdanauAttention(self.dec_units)\n",
    "\n",
    "    def call(self, x, h_dec, enc_out):\n",
    "        context_vec, attn = self.attention(enc_out, h_dec)\n",
    "\n",
    "        out = self.embedding(x)\n",
    "        out = tf.concat([tf.expand_dims(context_vec, 1), out], axis=-1)\n",
    "\n",
    "        out, h_dec = self.gru(out)\n",
    "        out = tf.reshape(out, (-1, out.shape[2]))\n",
    "        out = self.fc(out)\n",
    "\n",
    "        return out, h_dec, attn"
   ]
  },
  {
   "cell_type": "code",
   "execution_count": 20,
   "id": "969583e9",
   "metadata": {},
   "outputs": [
    {
     "name": "stdout",
     "output_type": "stream",
     "text": [
      "Encoder Output: (64, 40, 256)\n",
      "Decoder Output: (64, 17326)\n",
      "Decoder Hidden State: (64, 256)\n",
      "Attention: (64, 40, 1)\n"
     ]
    }
   ],
   "source": [
    "BATCH_SIZE     = 64\n",
    "SRC_VOCAB_SIZE = len(enc_tokenizer.index_word) + 1 # 예: len(enc_tokenizer.index_word) + 1\n",
    "TGT_VOCAB_SIZE = len(dec_tokenizer.index_word) + 1 # 예: len(dec_tokenizer.index_word) + 1\n",
    "\n",
    "units         = 256\n",
    "embedding_dim = 256\n",
    "\n",
    "\n",
    "\n",
    "encoder = Encoder(SRC_VOCAB_SIZE, embedding_dim, units)\n",
    "decoder = Decoder(TGT_VOCAB_SIZE, embedding_dim, units)\n",
    "\n",
    "# sample input\n",
    "sequence_len = 40\n",
    "\n",
    "sample_enc = tf.random.uniform((BATCH_SIZE, sequence_len))\n",
    "sample_output = encoder(sample_enc)\n",
    "\n",
    "print ('Encoder Output:', sample_output.shape)\n",
    "\n",
    "sample_state = tf.random.uniform((BATCH_SIZE, units))\n",
    "\n",
    "sample_logits, h_dec, attn = decoder(tf.random.uniform((BATCH_SIZE, 1)),\n",
    "                                     sample_state, sample_output)\n",
    "\n",
    "print ('Decoder Output:', sample_logits.shape)\n",
    "print ('Decoder Hidden State:', h_dec.shape)\n",
    "print ('Attention:', attn.shape)"
   ]
  },
  {
   "cell_type": "code",
   "execution_count": 21,
   "id": "fa82e5b6",
   "metadata": {},
   "outputs": [],
   "source": [
    "optimizer = tf.keras.optimizers.Adam()\n",
    "loss_object = tf.keras.losses.SparseCategoricalCrossentropy(\n",
    "    from_logits=True, reduction='none')\n",
    "\n",
    "def loss_function(real, pred):\n",
    "    mask = tf.math.logical_not(tf.math.equal(real, 0))\n",
    "    loss = loss_object(real, pred)\n",
    "    \n",
    "    mask = tf.cast(mask, dtype=loss.dtype)\n",
    "    loss *= mask\n",
    "    \n",
    "    return tf.reduce_mean(loss)"
   ]
  },
  {
   "cell_type": "code",
   "execution_count": 22,
   "id": "8103fe24",
   "metadata": {},
   "outputs": [],
   "source": [
    "@tf.function\n",
    "def train_step(src, tgt, encoder, decoder, optimizer, dec_tok):\n",
    "    bsz = src.shape[0]\n",
    "    loss = 0\n",
    "\n",
    "    with tf.GradientTape() as tape:\n",
    "        enc_out = encoder(src)\n",
    "        h_dec = enc_out[:, -1]\n",
    "        \n",
    "        dec_src = tf.expand_dims([dec_tok.word_index['<start>']] * bsz, 1)\n",
    "\n",
    "        for t in range(1, tgt.shape[1]):\n",
    "            pred, h_dec, _ = decoder(dec_src, h_dec, enc_out)\n",
    "\n",
    "            loss += loss_function(tgt[:, t], pred)\n",
    "            dec_src = tf.expand_dims(tgt[:, t], 1)\n",
    "        \n",
    "    batch_loss = (loss / int(tgt.shape[1]))\n",
    "\n",
    "    variables = encoder.trainable_variables + decoder.trainable_variables\n",
    "    gradients = tape.gradient(loss, variables)\n",
    "    optimizer.apply_gradients(zip(gradients, variables))\n",
    "    \n",
    "    return batch_loss"
   ]
  },
  {
   "cell_type": "markdown",
   "id": "5e0d389f",
   "metadata": {},
   "source": [
    "### 훈련과 tqdm으로 시각과"
   ]
  },
  {
   "cell_type": "code",
   "execution_count": 23,
   "id": "c73205cd",
   "metadata": {},
   "outputs": [
    {
     "name": "stderr",
     "output_type": "stream",
     "text": [
      "Epoch  1: 100%|██████████| 214/214 [02:17<00:00,  1.56it/s, Loss 1.5112]\n",
      "Test Epoch  1: 100%|██████████| 54/54 [00:41<00:00,  1.29it/s, Test Loss 1.4819]\n",
      "Epoch  2: 100%|██████████| 214/214 [00:28<00:00,  7.45it/s, Loss 1.4529]\n",
      "Test Epoch  2: 100%|██████████| 54/54 [00:02<00:00, 18.23it/s, Test Loss 1.4929]\n",
      "Epoch  3: 100%|██████████| 214/214 [00:28<00:00,  7.39it/s, Loss 1.4535]\n",
      "Test Epoch  3: 100%|██████████| 54/54 [00:02<00:00, 18.01it/s, Test Loss 1.4993]\n",
      "Epoch  4: 100%|██████████| 214/214 [00:29<00:00,  7.38it/s, Loss 1.4531]\n",
      "Test Epoch  4: 100%|██████████| 54/54 [00:03<00:00, 17.95it/s, Test Loss 1.5031]\n",
      "Epoch  5: 100%|██████████| 214/214 [00:29<00:00,  7.35it/s, Loss 1.4532]\n",
      "Test Epoch  5: 100%|██████████| 54/54 [00:03<00:00, 17.86it/s, Test Loss 1.5072]\n",
      "Epoch  6: 100%|██████████| 214/214 [00:28<00:00,  7.38it/s, Loss 1.4535]\n",
      "Test Epoch  6: 100%|██████████| 54/54 [00:03<00:00, 17.85it/s, Test Loss 1.5088]\n",
      "Epoch  7: 100%|██████████| 214/214 [00:29<00:00,  7.36it/s, Loss 1.4531]\n",
      "Test Epoch  7: 100%|██████████| 54/54 [00:03<00:00, 17.89it/s, Test Loss 1.5123]\n",
      "Epoch  8: 100%|██████████| 214/214 [00:29<00:00,  7.38it/s, Loss 1.4536]\n",
      "Test Epoch  8: 100%|██████████| 54/54 [00:02<00:00, 18.15it/s, Test Loss 1.5109]\n",
      "Epoch  9: 100%|██████████| 214/214 [00:28<00:00,  7.39it/s, Loss 1.4536]\n",
      "Test Epoch  9: 100%|██████████| 54/54 [00:03<00:00, 17.46it/s, Test Loss 1.5136]\n",
      "Epoch 10: 100%|██████████| 214/214 [00:28<00:00,  7.40it/s, Loss 1.4531]\n",
      "Test Epoch 10: 100%|██████████| 54/54 [00:03<00:00, 17.87it/s, Test Loss 1.5146]\n",
      "Epoch 11: 100%|██████████| 214/214 [00:29<00:00,  7.32it/s, Loss 1.4539]\n",
      "Test Epoch 11: 100%|██████████| 54/54 [00:03<00:00, 17.92it/s, Test Loss 1.5180]\n",
      "Epoch 12: 100%|██████████| 214/214 [00:28<00:00,  7.41it/s, Loss 1.4526]\n",
      "Test Epoch 12: 100%|██████████| 54/54 [00:03<00:00, 17.92it/s, Test Loss 1.5176]\n",
      "Epoch 13: 100%|██████████| 214/214 [00:28<00:00,  7.40it/s, Loss 1.4528]\n",
      "Test Epoch 13: 100%|██████████| 54/54 [00:02<00:00, 18.20it/s, Test Loss 1.5201]\n",
      "Epoch 14: 100%|██████████| 214/214 [00:29<00:00,  7.37it/s, Loss 1.4534]\n",
      "Test Epoch 14: 100%|██████████| 54/54 [00:02<00:00, 18.07it/s, Test Loss 1.5205]\n",
      "Epoch 15: 100%|██████████| 214/214 [00:28<00:00,  7.39it/s, Loss 1.4533]\n",
      "Test Epoch 15: 100%|██████████| 54/54 [00:03<00:00, 17.69it/s, Test Loss 1.5210]\n",
      "Epoch 16: 100%|██████████| 214/214 [00:28<00:00,  7.40it/s, Loss 1.4530]\n",
      "Test Epoch 16: 100%|██████████| 54/54 [00:02<00:00, 18.09it/s, Test Loss 1.5214]\n",
      "Epoch 17: 100%|██████████| 214/214 [00:29<00:00,  7.36it/s, Loss 1.4537]\n",
      "Test Epoch 17: 100%|██████████| 54/54 [00:02<00:00, 18.06it/s, Test Loss 1.5228]\n",
      "Epoch 18: 100%|██████████| 214/214 [00:28<00:00,  7.39it/s, Loss 1.4533]\n",
      "Test Epoch 18: 100%|██████████| 54/54 [00:03<00:00, 17.95it/s, Test Loss 1.5250]\n",
      "Epoch 19: 100%|██████████| 214/214 [00:28<00:00,  7.38it/s, Loss 1.4535]\n",
      "Test Epoch 19: 100%|██████████| 54/54 [00:03<00:00, 17.70it/s, Test Loss 1.5273]\n",
      "Epoch 20: 100%|██████████| 214/214 [00:28<00:00,  7.42it/s, Loss 1.4529]\n",
      "Test Epoch 20: 100%|██████████| 54/54 [00:03<00:00, 17.80it/s, Test Loss 1.5264]\n",
      "Epoch 21: 100%|██████████| 214/214 [00:29<00:00,  7.36it/s, Loss 1.4532]\n",
      "Test Epoch 21: 100%|██████████| 54/54 [00:02<00:00, 18.00it/s, Test Loss 1.5276]\n",
      "Epoch 22: 100%|██████████| 214/214 [00:28<00:00,  7.39it/s, Loss 1.4531]\n",
      "Test Epoch 22: 100%|██████████| 54/54 [00:03<00:00, 17.70it/s, Test Loss 1.5315]\n",
      "Epoch 23: 100%|██████████| 214/214 [00:29<00:00,  7.31it/s, Loss 1.4538]\n",
      "Test Epoch 23: 100%|██████████| 54/54 [00:03<00:00, 17.74it/s, Test Loss 1.5305]\n",
      "Epoch 24: 100%|██████████| 214/214 [00:29<00:00,  7.31it/s, Loss 1.4537]\n",
      "Test Epoch 24: 100%|██████████| 54/54 [00:03<00:00, 17.79it/s, Test Loss 1.5313]\n",
      "Epoch 25: 100%|██████████| 214/214 [00:29<00:00,  7.37it/s, Loss 1.4540]\n",
      "Test Epoch 25: 100%|██████████| 54/54 [00:03<00:00, 17.74it/s, Test Loss 1.5324]\n",
      "Epoch 26: 100%|██████████| 214/214 [00:28<00:00,  7.38it/s, Loss 1.4532]\n",
      "Test Epoch 26: 100%|██████████| 54/54 [00:02<00:00, 18.15it/s, Test Loss 1.5318]\n",
      "Epoch 27: 100%|██████████| 214/214 [00:28<00:00,  7.41it/s, Loss 1.4539]\n",
      "Test Epoch 27: 100%|██████████| 54/54 [00:02<00:00, 18.13it/s, Test Loss 1.5342]\n",
      "Epoch 28: 100%|██████████| 214/214 [00:28<00:00,  7.42it/s, Loss 1.4540]\n",
      "Test Epoch 28: 100%|██████████| 54/54 [00:02<00:00, 18.24it/s, Test Loss 1.5332]\n",
      "Epoch 29: 100%|██████████| 214/214 [00:28<00:00,  7.46it/s, Loss 1.4535]\n",
      "Test Epoch 29: 100%|██████████| 54/54 [00:03<00:00, 18.00it/s, Test Loss 1.5017]\n",
      "Epoch 30: 100%|██████████| 214/214 [00:29<00:00,  7.29it/s, Loss 1.3443]\n",
      "Test Epoch 30: 100%|██████████| 54/54 [00:03<00:00, 17.14it/s, Test Loss 1.3557]\n",
      "Epoch 31: 100%|██████████| 214/214 [00:29<00:00,  7.28it/s, Loss 1.2487]\n",
      "Test Epoch 31: 100%|██████████| 54/54 [00:03<00:00, 17.47it/s, Test Loss 1.3110]\n",
      "Epoch 32: 100%|██████████| 214/214 [00:29<00:00,  7.34it/s, Loss 1.1794]\n",
      "Test Epoch 32: 100%|██████████| 54/54 [00:03<00:00, 17.85it/s, Test Loss 1.2922]\n",
      "Epoch 33: 100%|██████████| 214/214 [00:29<00:00,  7.30it/s, Loss 1.1199]\n",
      "Test Epoch 33: 100%|██████████| 54/54 [00:03<00:00, 17.78it/s, Test Loss 1.2846]\n",
      "Epoch 34: 100%|██████████| 214/214 [00:29<00:00,  7.32it/s, Loss 1.0654]\n",
      "Test Epoch 34: 100%|██████████| 54/54 [00:03<00:00, 17.86it/s, Test Loss 1.2897]\n",
      "Epoch 35: 100%|██████████| 214/214 [00:29<00:00,  7.33it/s, Loss 1.0132]\n",
      "Test Epoch 35: 100%|██████████| 54/54 [00:03<00:00, 17.83it/s, Test Loss 1.2997]\n",
      "Epoch 36: 100%|██████████| 214/214 [00:29<00:00,  7.34it/s, Loss 0.9632]\n",
      "Test Epoch 36: 100%|██████████| 54/54 [00:03<00:00, 17.90it/s, Test Loss 1.3049]\n",
      "Epoch 37: 100%|██████████| 214/214 [00:29<00:00,  7.35it/s, Loss 0.9149]\n",
      "Test Epoch 37: 100%|██████████| 54/54 [00:02<00:00, 18.09it/s, Test Loss 1.3176]\n",
      "Epoch 38: 100%|██████████| 214/214 [00:29<00:00,  7.36it/s, Loss 0.8687]\n",
      "Test Epoch 38: 100%|██████████| 54/54 [00:03<00:00, 17.75it/s, Test Loss 1.3382]\n",
      "Epoch 39: 100%|██████████| 214/214 [00:29<00:00,  7.37it/s, Loss 0.8242]\n",
      "Test Epoch 39: 100%|██████████| 54/54 [00:03<00:00, 17.84it/s, Test Loss 1.3553]\n",
      "Epoch 40: 100%|██████████| 214/214 [00:29<00:00,  7.31it/s, Loss 0.7804]\n",
      "Test Epoch 40: 100%|██████████| 54/54 [00:03<00:00, 17.60it/s, Test Loss 1.3710]\n"
     ]
    }
   ],
   "source": [
    "@tf.function\n",
    "def eval_step(src, tgt, encoder, decoder, dec_tok):\n",
    "    bsz = src.shape[0]\n",
    "    loss = 0\n",
    "\n",
    "    enc_out = encoder(src)\n",
    "\n",
    "    h_dec = enc_out[:, -1]\n",
    "\n",
    "    dec_src = tf.expand_dims([dec_tok.word_index['<start>']] * bsz, 1)\n",
    "\n",
    "    for t in range(1, tgt.shape[1]):\n",
    "        pred, h_dec, _ = decoder(dec_src, h_dec, enc_out)\n",
    "\n",
    "        loss += loss_function(tgt[:, t], pred)\n",
    "        dec_src = tf.expand_dims(tgt[:, t], 1)\n",
    "\n",
    "    batch_loss = (loss / int(tgt.shape[1]))\n",
    "\n",
    "    return batch_loss\n",
    "\n",
    "\n",
    "# Training Process\n",
    "\n",
    "from tqdm import tqdm\n",
    "\n",
    "EPOCHS = 40\n",
    "\n",
    "for epoch in range(EPOCHS):\n",
    "    total_loss = 0\n",
    "\n",
    "    idx_list = list(range(0, enc_train.shape[0], BATCH_SIZE))\n",
    "    random.shuffle(idx_list)\n",
    "    t = tqdm(idx_list)\n",
    "\n",
    "    for (batch, idx) in enumerate(t):\n",
    "        batch_loss = train_step(enc_train[idx:idx+BATCH_SIZE],\n",
    "                                dec_train[idx:idx+BATCH_SIZE],\n",
    "                                encoder,\n",
    "                                decoder,\n",
    "                                optimizer,\n",
    "                                dec_tokenizer)\n",
    "\n",
    "        total_loss += batch_loss\n",
    "\n",
    "        t.set_description_str('Epoch %2d' % (epoch + 1))\n",
    "        t.set_postfix_str('Loss %.4f' % (total_loss.numpy() / (batch + 1)))\n",
    "\n",
    "    test_loss = 0\n",
    "\n",
    "    idx_list = list(range(0, enc_val.shape[0], BATCH_SIZE))\n",
    "    random.shuffle(idx_list)\n",
    "    t = tqdm(idx_list)\n",
    "\n",
    "    for (test_batch, idx) in enumerate(t):\n",
    "        test_batch_loss = eval_step(enc_val[idx:idx+BATCH_SIZE],\n",
    "                                    dec_val[idx:idx+BATCH_SIZE],\n",
    "                                    encoder,\n",
    "                                    decoder,\n",
    "                                    dec_tokenizer)\n",
    "\n",
    "        test_loss += test_batch_loss\n",
    "\n",
    "        t.set_description_str('Test Epoch %2d' % (epoch + 1))\n",
    "        t.set_postfix_str('Test Loss %.4f' % (test_loss.numpy() / (test_batch + 1)))"
   ]
  },
  {
   "cell_type": "markdown",
   "id": "7b266b56",
   "metadata": {},
   "source": [
    "### 번역 결과를 만들기 위한 여러 함수 정의"
   ]
  },
  {
   "cell_type": "code",
   "execution_count": 24,
   "id": "cff70ccf",
   "metadata": {},
   "outputs": [],
   "source": [
    "def evaluate(sentence, encoder, decoder):\n",
    "    attention = np.zeros((dec_train.shape[-1], enc_train.shape[-1]))\n",
    "    \n",
    "    sentence = preprocess_sentence(sentence)\n",
    "    inputs = enc_tokenizer.texts_to_sequences([sentence.split()])\n",
    "    inputs = tf.keras.preprocessing.sequence.pad_sequences(inputs,\n",
    "                                                           maxlen=enc_train.shape[-1],\n",
    "                                                           padding='post')\n",
    "\n",
    "    result = ''\n",
    "\n",
    "    enc_out = encoder(inputs)\n",
    "\n",
    "    dec_hidden = enc_out[:, -1]\n",
    "    dec_input = tf.expand_dims([dec_tokenizer.word_index['<start>']], 0)\n",
    "\n",
    "    for t in range(dec_train.shape[-1]):\n",
    "        predictions, dec_hidden, attention_weights = decoder(dec_input,\n",
    "                                                             dec_hidden,\n",
    "                                                             enc_out)\n",
    "\n",
    "        attention_weights = tf.reshape(attention_weights, (-1, ))\n",
    "        attention[t] = attention_weights.numpy()\n",
    "\n",
    "        predicted_id = \\\n",
    "        tf.argmax(tf.math.softmax(predictions, axis=-1)[0]).numpy()\n",
    "\n",
    "        result += dec_tokenizer.index_word[predicted_id] + ' '\n",
    "\n",
    "        if dec_tokenizer.index_word[predicted_id] == '<end>':\n",
    "            return result, sentence, attention\n",
    "\n",
    "        dec_input = tf.expand_dims([predicted_id], 0)\n",
    "\n",
    "    return result, sentence, attention\n",
    "\n",
    "\n",
    "def plot_attention(attention, sentence, predicted_sentence):\n",
    "    fig = plt.figure(figsize=(10,10))\n",
    "    ax = fig.add_subplot(1, 1, 1)\n",
    "    ax.matshow(attention, cmap='viridis')\n",
    "\n",
    "    fontdict = {'fontsize': 14}\n",
    "\n",
    "    ax.set_xticklabels([''] + sentence, fontdict=fontdict, rotation=90)\n",
    "    ax.set_yticklabels([''] + predicted_sentence, fontdict=fontdict)\n",
    "\n",
    "    ax.xaxis.set_major_locator(ticker.MultipleLocator(1))\n",
    "    ax.yaxis.set_major_locator(ticker.MultipleLocator(1))\n",
    "\n",
    "    plt.show()\n",
    "\n",
    "\n",
    "def translate(sentence, encoder, decoder):\n",
    "    result, sentence, attention = evaluate(sentence, encoder, decoder)\n",
    "\n",
    "    print('Input: %s' % (sentence))\n",
    "    print('Predicted translation: {}'.format(result))\n",
    "    \n",
    "    attention = attention[:len(result.split()), :len(sentence.split())]\n",
    "    plot_attention(attention, sentence.split(), result.split(' '))"
   ]
  },
  {
   "cell_type": "code",
   "execution_count": 25,
   "id": "a1835d41",
   "metadata": {},
   "outputs": [
    {
     "name": "stdout",
     "output_type": "stream",
     "text": [
      "['/usr/share/fonts/truetype/dejavu/DejaVuMathTeXGyre.ttf', '/usr/share/fonts/truetype/ubuntu/Ubuntu-LI.ttf', '/usr/share/fonts/truetype/ubuntu/Ubuntu-Th.ttf', '/usr/share/fonts/truetype/nanum/NanumSquareB.ttf', '/usr/share/fonts/truetype/dejavu/DejaVuSansMono-Oblique.ttf', '/usr/share/fonts/truetype/dejavu/DejaVuSerifCondensed-Bold.ttf', '/usr/share/fonts/truetype/liberation/LiberationMono-BoldItalic.ttf', '/usr/share/fonts/opentype/urw-base35/URWGothic-BookOblique.otf', '/usr/share/fonts/truetype/liberation/LiberationSansNarrow-Bold.ttf', '/usr/share/fonts/opentype/urw-base35/StandardSymbolsPS.otf', '/usr/share/fonts/truetype/dejavu/DejaVuSansCondensed-Bold.ttf', '/usr/share/fonts/truetype/dejavu/DejaVuSerif-Bold.ttf', '/usr/share/fonts/truetype/nanum/NanumSquareRoundR.ttf', '/usr/share/fonts/opentype/urw-base35/P052-Italic.otf', '/usr/share/fonts/opentype/urw-base35/NimbusMonoPS-Regular.otf', '/usr/share/fonts/opentype/urw-base35/URWBookman-LightItalic.otf', '/usr/share/fonts/truetype/liberation/LiberationMono-Bold.ttf', '/usr/share/fonts/truetype/dejavu/DejaVuSans-Oblique.ttf', '/usr/share/fonts/opentype/urw-base35/NimbusSans-Regular.otf', '/usr/share/fonts/truetype/ubuntu/UbuntuMono-BI.ttf', '/usr/share/fonts/opentype/urw-base35/C059-Bold.otf', '/usr/share/fonts/opentype/urw-base35/P052-Bold.otf', '/usr/share/fonts/opentype/urw-base35/C059-BdIta.otf', '/usr/share/fonts/opentype/urw-base35/NimbusSans-BoldItalic.otf', '/usr/share/fonts/truetype/quicksand/Quicksand-Medium.ttf', '/usr/share/fonts/truetype/liberation/LiberationMono-Regular.ttf', '/usr/share/fonts/truetype/liberation/LiberationMono-Italic.ttf', '/usr/share/fonts/opentype/urw-base35/NimbusMonoPS-Bold.otf', '/usr/share/fonts/opentype/urw-base35/NimbusSansNarrow-Regular.otf', '/usr/share/fonts/truetype/ubuntu/Ubuntu-R.ttf', '/usr/share/fonts/opentype/urw-base35/URWBookman-DemiItalic.otf', '/usr/share/fonts/opentype/urw-base35/NimbusSansNarrow-Bold.otf', '/usr/share/fonts/truetype/dejavu/DejaVuSansMono.ttf', '/usr/share/fonts/truetype/dejavu/DejaVuSansCondensed-Oblique.ttf', '/usr/share/fonts/opentype/urw-base35/NimbusSansNarrow-Oblique.otf', '/usr/share/fonts/truetype/ubuntu/Ubuntu-L.ttf', '/usr/share/fonts/truetype/ubuntu/Ubuntu-M.ttf', '/usr/share/fonts/opentype/urw-base35/P052-BoldItalic.otf', '/usr/share/fonts/truetype/dejavu/DejaVuSansMono-BoldOblique.ttf', '/usr/share/fonts/truetype/liberation/LiberationSans-BoldItalic.ttf', '/usr/share/fonts/truetype/dejavu/DejaVuSerif-Italic.ttf', '/usr/share/fonts/opentype/urw-base35/NimbusSans-Bold.otf', '/usr/share/fonts/truetype/dejavu/DejaVuSans.ttf', '/usr/share/fonts/truetype/liberation/LiberationSerif-Italic.ttf', '/usr/share/fonts/truetype/ubuntu/UbuntuMono-B.ttf', '/usr/share/fonts/opentype/urw-base35/NimbusSans-Italic.otf', '/usr/share/fonts/truetype/quicksand/Quicksand-Light.ttf', '/usr/share/fonts/truetype/ubuntu/UbuntuMono-R.ttf', '/usr/share/fonts/opentype/urw-base35/NimbusMonoPS-Italic.otf', '/usr/share/fonts/truetype/liberation/LiberationSans-Italic.ttf', '/usr/share/fonts/truetype/dejavu/DejaVuSansCondensed.ttf', '/usr/share/fonts/truetype/dejavu/DejaVuSerifCondensed-Italic.ttf', '/usr/share/fonts/truetype/quicksand/Quicksand-Regular.ttf', '/usr/share/fonts/truetype/nanum/NanumMyeongjoBold.ttf', '/usr/share/fonts/opentype/urw-base35/URWBookman-Demi.otf', '/usr/share/fonts/truetype/dejavu/DejaVuSans-BoldOblique.ttf', '/usr/share/fonts/truetype/nanum/NanumMyeongjo.ttf', '/usr/share/fonts/truetype/dejavu/DejaVuSerifCondensed.ttf', '/usr/share/fonts/truetype/liberation/LiberationSansNarrow-Italic.ttf', '/usr/share/fonts/truetype/nanum/NanumSquareR.ttf', '/usr/share/fonts/truetype/liberation/LiberationSansNarrow-BoldItalic.ttf', '/usr/share/fonts/opentype/urw-base35/D050000L.otf', '/usr/share/fonts/opentype/urw-base35/C059-Roman.otf', '/usr/share/fonts/opentype/urw-base35/NimbusRoman-BoldItalic.otf', '/usr/share/fonts/opentype/urw-base35/URWBookman-Light.otf', '/usr/share/fonts/truetype/ubuntu/Ubuntu-MI.ttf', '/usr/share/fonts/truetype/ubuntu/Ubuntu-C.ttf', '/usr/share/fonts/truetype/quicksand/Quicksand-Bold.ttf', '/usr/share/fonts/opentype/urw-base35/URWGothic-DemiOblique.otf', '/usr/share/fonts/truetype/ubuntu/Ubuntu-B.ttf', '/usr/share/fonts/truetype/liberation/LiberationSerif-BoldItalic.ttf', '/usr/share/fonts/truetype/nanum/NanumGothicBold.ttf', '/usr/share/fonts/truetype/nanum/NanumBarunGothicBold.ttf', '/usr/share/fonts/truetype/dejavu/DejaVuSans-ExtraLight.ttf', '/usr/share/fonts/opentype/urw-base35/C059-Italic.otf', '/usr/share/fonts/opentype/urw-base35/NimbusRoman-Regular.otf', '/usr/share/fonts/opentype/urw-base35/P052-Roman.otf', '/usr/share/fonts/truetype/dejavu/DejaVuSansMono-Bold.ttf', '/usr/share/fonts/truetype/nanum/NanumGothic.ttf', '/usr/share/fonts/truetype/droid/DroidSansFallbackFull.ttf', '/usr/share/fonts/opentype/urw-base35/NimbusRoman-Italic.otf', '/usr/share/fonts/truetype/dejavu/DejaVuSans-Bold.ttf', '/usr/share/fonts/opentype/urw-base35/URWGothic-Book.otf', '/usr/share/fonts/truetype/ubuntu/Ubuntu-BI.ttf', '/usr/share/fonts/truetype/liberation/LiberationSans-Bold.ttf', '/usr/share/fonts/truetype/dejavu/DejaVuSerif.ttf', '/usr/share/fonts/truetype/ubuntu/Ubuntu-RI.ttf', '/usr/share/fonts/opentype/urw-base35/NimbusSansNarrow-BoldOblique.otf', '/usr/share/fonts/truetype/noto/NotoMono-Regular.ttf', '/usr/share/fonts/opentype/urw-base35/NimbusRoman-Bold.otf', '/usr/share/fonts/opentype/urw-base35/NimbusMonoPS-BoldItalic.otf', '/usr/share/fonts/truetype/nanum/NanumBarunGothic.ttf', '/usr/share/fonts/truetype/dejavu/DejaVuSerifCondensed-BoldItalic.ttf', '/usr/share/fonts/opentype/urw-base35/URWGothic-Demi.otf', '/usr/share/fonts/truetype/liberation/LiberationSansNarrow-Regular.ttf', '/usr/share/fonts/truetype/ubuntu/UbuntuMono-RI.ttf', '/usr/share/fonts/truetype/liberation/LiberationSans-Regular.ttf', '/usr/share/fonts/truetype/liberation/LiberationSerif-Bold.ttf', '/usr/share/fonts/truetype/dejavu/DejaVuSansCondensed-BoldOblique.ttf', '/usr/share/fonts/truetype/nanum/NanumSquareRoundB.ttf', '/usr/share/fonts/opentype/urw-base35/Z003-MediumItalic.otf', '/usr/share/fonts/truetype/dejavu/DejaVuSerif-BoldItalic.ttf', '/usr/share/fonts/truetype/liberation/LiberationSerif-Regular.ttf']\n"
     ]
    }
   ],
   "source": [
    "import matplotlib.font_manager as fm\n",
    "import matplotlib as mpl\n",
    "\n",
    "print(fm.findSystemFonts(fontpaths=None, fontext='ttf'))"
   ]
  },
  {
   "cell_type": "code",
   "execution_count": 26,
   "id": "02ef07cb",
   "metadata": {},
   "outputs": [
    {
     "name": "stdout",
     "output_type": "stream",
     "text": [
      "['NanumGothic']\n"
     ]
    }
   ],
   "source": [
    "plt.rc('font', family='NanumGothic')\n",
    "print(plt.rcParams['font.family'])"
   ]
  },
  {
   "cell_type": "code",
   "execution_count": 35,
   "id": "86e9f2ce",
   "metadata": {},
   "outputs": [
    {
     "name": "stdout",
     "output_type": "stream",
     "text": [
      "Input: 오바마는 대통령 이다\n",
      "Predicted translation: obama s warren levinson in the new president bush <end> \n"
     ]
    },
    {
     "name": "stderr",
     "output_type": "stream",
     "text": [
      "/tmp/ipykernel_147/2860932276.py:45: UserWarning: FixedFormatter should only be used together with FixedLocator\n",
      "  ax.set_xticklabels([''] + sentence, fontdict=fontdict, rotation=90)\n",
      "/tmp/ipykernel_147/2860932276.py:46: UserWarning: FixedFormatter should only be used together with FixedLocator\n",
      "  ax.set_yticklabels([''] + predicted_sentence, fontdict=fontdict)\n"
     ]
    },
    {
     "data": {
      "image/png": "[encoded data removed]",
      "text/plain": [
       "<Figure size 720x720 with 1 Axes>"
      ]
     },
     "metadata": {
      "needs_background": "light"
     },
     "output_type": "display_data"
    }
   ],
   "source": [
    "translate('오바마는 대통령 이다',encoder,decoder)"
   ]
  },
  {
   "cell_type": "code",
   "execution_count": 38,
   "id": "e8ea5007",
   "metadata": {},
   "outputs": [
    {
     "name": "stdout",
     "output_type": "stream",
     "text": [
      "Input: 이것보다 뛰어날 수 있느냐 ?\n",
      "Predicted translation: you can you ? <end> \n"
     ]
    },
    {
     "name": "stderr",
     "output_type": "stream",
     "text": [
      "/tmp/ipykernel_147/2860932276.py:45: UserWarning: FixedFormatter should only be used together with FixedLocator\n",
      "  ax.set_xticklabels([''] + sentence, fontdict=fontdict, rotation=90)\n",
      "/tmp/ipykernel_147/2860932276.py:46: UserWarning: FixedFormatter should only be used together with FixedLocator\n",
      "  ax.set_yticklabels([''] + predicted_sentence, fontdict=fontdict)\n"
     ]
    },
    {
     "data": {
      "image/png": "[encoded data removed]",
      "text/plain": [
       "<Figure size 720x720 with 1 Axes>"
      ]
     },
     "metadata": {
      "needs_background": "light"
     },
     "output_type": "display_data"
    }
   ],
   "source": [
    "translate('이것보다 뛰어날 수 있느냐?',encoder,decoder)"
   ]
  },
  {
   "cell_type": "code",
   "execution_count": 42,
   "id": "45f9d757",
   "metadata": {},
   "outputs": [
    {
     "name": "stdout",
     "output_type": "stream",
     "text": [
      "Input: 북한의 핵 프로그램\n",
      "Predicted translation: north korea s nuclear program <end> \n"
     ]
    },
    {
     "name": "stderr",
     "output_type": "stream",
     "text": [
      "/tmp/ipykernel_147/2860932276.py:45: UserWarning: FixedFormatter should only be used together with FixedLocator\n",
      "  ax.set_xticklabels([''] + sentence, fontdict=fontdict, rotation=90)\n",
      "/tmp/ipykernel_147/2860932276.py:46: UserWarning: FixedFormatter should only be used together with FixedLocator\n",
      "  ax.set_yticklabels([''] + predicted_sentence, fontdict=fontdict)\n"
     ]
    },
    {
     "data": {
      "image/png": "[encoded data removed]",
      "text/plain": [
       "<Figure size 720x720 with 1 Axes>"
      ]
     },
     "metadata": {
      "needs_background": "light"
     },
     "output_type": "display_data"
    }
   ],
   "source": [
    "translate('북한의 핵 프로그램',encoder,decoder)"
   ]
  },
  {
   "cell_type": "markdown",
   "id": "ae2a619c",
   "metadata": {},
   "source": [
    "<비고>\n",
    "\n",
    "* seq2seq 방법으로 한글을 영어로 번역하는 과정은 매우 복잡했습니다.  \n",
    "* 애초에 데이터의 신뢰도가 낮아 어텐션으로 어느 정도까지 성능이 향상되었는지 확인하기 어려웠습니다.  \n",
    "* 과제를 하는 과정에서 본인이 한 실수나 잘못된 점 :  \n",
    "  1) 압축 파일을 잘못 풀었습니다. (tar -zxvf 파일명 으로 해야하나 unzip -d 파일명으로 해서 엉뚱하게    \n",
    "  각각 하나의 파일로 압축이 풀렸습니다.)  \n",
    "  2) 때론 복붙이 필요할 때도 있습니다. 그런데 필사하는 과정에서 오타가 나서 결과가 이상하게 나온  \n",
    "  것을 의심했습니다.  \n",
    "  3) 아직 언어를 토큰화 하는 과정에 익숙치 않아 처음부터 만만치 않았습니다.    \n",
    "* 번역 결과를 맵으로 보면 영어는 0과 1 사이의 값으로 정규화되어 있는 반면    \n",
    "  한국어는 정수값으로 되어 있었습니다. 그래서 처음에는 항상 번역 결과가 단어 하나(The)로 나왔습니다.    \n",
    "  이런 점은 코드의 초반부에 영어 토크나이저에 word_index 매소드를 써서 해결하였습니다.  \n",
    "* 위와 같은 수정을 거쳐 불완전 하지만 번역할 한국어의 단어가 어느정도 포함된  \n",
    "  결과를 얻었습니다.  \n",
    "* 시간이 허락된다면 루옹(Luong) 어텐션도 시도해보고 싶습니다.  "
   ]
  }
 ],
 "metadata": {
  "kernelspec": {
   "display_name": "Python 3 (ipykernel)",
   "language": "python",
   "name": "python3"
  },
  "language_info": {
   "codemirror_mode": {
    "name": "ipython",
    "version": 3
   },
   "file_extension": ".py",
   "mimetype": "text/x-python",
   "name": "python",
   "nbconvert_exporter": "python",
   "pygments_lexer": "ipython3",
   "version": "3.9.7"
  }
 },
 "nbformat": 4,
 "nbformat_minor": 5
}
