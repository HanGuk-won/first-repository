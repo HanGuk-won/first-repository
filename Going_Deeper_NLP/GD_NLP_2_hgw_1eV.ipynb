{
 "cells": [
  {
   "cell_type": "markdown",
   "id": "d9a26281",
   "metadata": {},
   "source": [
    "## NLP2. 멋진 단어사전 만들기"
   ]
  },
  {
   "cell_type": "code",
   "execution_count": 1,
   "id": "efb4db13",
   "metadata": {},
   "outputs": [
    {
     "name": "stdout",
     "output_type": "stream",
     "text": [
      "train 데이터 사이즈: 150000\n",
      "test 데이터 사이즈: 50000\n"
     ]
    },
    {
     "data": {
      "text/html": [
       "<div>\n",
       "<style scoped>\n",
       "    .dataframe tbody tr th:only-of-type {\n",
       "        vertical-align: middle;\n",
       "    }\n",
       "\n",
       "    .dataframe tbody tr th {\n",
       "        vertical-align: top;\n",
       "    }\n",
       "\n",
       "    .dataframe thead th {\n",
       "        text-align: right;\n",
       "    }\n",
       "</style>\n",
       "<table border=\"1\" class=\"dataframe\">\n",
       "  <thead>\n",
       "    <tr style=\"text-align: right;\">\n",
       "      <th></th>\n",
       "      <th>id</th>\n",
       "      <th>document</th>\n",
       "      <th>label</th>\n",
       "    </tr>\n",
       "  </thead>\n",
       "  <tbody>\n",
       "    <tr>\n",
       "      <th>0</th>\n",
       "      <td>9976970</td>\n",
       "      <td>아 더빙.. 진짜 짜증나네요 목소리</td>\n",
       "      <td>0</td>\n",
       "    </tr>\n",
       "    <tr>\n",
       "      <th>1</th>\n",
       "      <td>3819312</td>\n",
       "      <td>흠...포스터보고 초딩영화줄....오버연기조차 가볍지 않구나</td>\n",
       "      <td>1</td>\n",
       "    </tr>\n",
       "    <tr>\n",
       "      <th>2</th>\n",
       "      <td>10265843</td>\n",
       "      <td>너무재밓었다그래서보는것을추천한다</td>\n",
       "      <td>0</td>\n",
       "    </tr>\n",
       "    <tr>\n",
       "      <th>3</th>\n",
       "      <td>9045019</td>\n",
       "      <td>교도소 이야기구먼 ..솔직히 재미는 없다..평점 조정</td>\n",
       "      <td>0</td>\n",
       "    </tr>\n",
       "    <tr>\n",
       "      <th>4</th>\n",
       "      <td>6483659</td>\n",
       "      <td>사이몬페그의 익살스런 연기가 돋보였던 영화!스파이더맨에서 늙어보이기만 했던 커스틴 ...</td>\n",
       "      <td>1</td>\n",
       "    </tr>\n",
       "  </tbody>\n",
       "</table>\n",
       "</div>"
      ],
      "text/plain": [
       "         id                                           document  label\n",
       "0   9976970                                아 더빙.. 진짜 짜증나네요 목소리      0\n",
       "1   3819312                  흠...포스터보고 초딩영화줄....오버연기조차 가볍지 않구나      1\n",
       "2  10265843                                  너무재밓었다그래서보는것을추천한다      0\n",
       "3   9045019                      교도소 이야기구먼 ..솔직히 재미는 없다..평점 조정      0\n",
       "4   6483659  사이몬페그의 익살스런 연기가 돋보였던 영화!스파이더맨에서 늙어보이기만 했던 커스틴 ...      1"
      ]
     },
     "execution_count": 1,
     "metadata": {},
     "output_type": "execute_result"
    }
   ],
   "source": [
    "import pandas as pd\n",
    "import urllib.request\n",
    "%matplotlib inline\n",
    "import matplotlib.pyplot as plt\n",
    "import re\n",
    "from konlpy.tag import Okt\n",
    "from tensorflow import keras\n",
    "import tensorflow as tf\n",
    "from tensorflow.keras.preprocessing.text import Tokenizer\n",
    "import numpy as np\n",
    "from tensorflow.keras.preprocessing.sequence import pad_sequences\n",
    "from collections import Counter\n",
    "\n",
    "# 데이터를 읽어오기\n",
    "train_data = pd.read_table('~/aiffel/sentiment_class/ratings_train.txt')\n",
    "test_data = pd.read_table('~/aiffel/sentiment_class/ratings_test.txt')\n",
    "\n",
    "print('train 데이터 사이즈:', len(train_data))\n",
    "print('test 데이터 사이즈:', len(test_data))\n",
    "\n",
    "train_data.head()"
   ]
  },
  {
   "cell_type": "markdown",
   "id": "f064d721",
   "metadata": {},
   "source": [
    "### 데이터 분석, 전처리"
   ]
  },
  {
   "cell_type": "code",
   "execution_count": 2,
   "id": "2ef8ec92",
   "metadata": {},
   "outputs": [
    {
     "name": "stdout",
     "output_type": "stream",
     "text": [
      "train 데이터 사이즈: 146182\n",
      "test 데이터 사이즈: 49157\n"
     ]
    }
   ],
   "source": [
    "train_data.drop_duplicates(subset=['document'], inplace=True)\n",
    "train_data = train_data.dropna(how = 'any') \n",
    "test_data.drop_duplicates(subset=['document'], inplace=True)\n",
    "test_data = test_data.dropna(how = 'any') \n",
    "\n",
    "print('train 데이터 사이즈:', len(train_data))\n",
    "print('test 데이터 사이즈:', len(test_data))"
   ]
  },
  {
   "cell_type": "code",
   "execution_count": 3,
   "id": "9887369e",
   "metadata": {},
   "outputs": [
    {
     "name": "stdout",
     "output_type": "stream",
     "text": [
      "Data Size: 195339\n",
      "Example:\n",
      ">> 아 더빙.. 진짜 짜증나네요 목소리\n",
      ">> 나름 심오한 뜻도 있는 듯. 그냥 학생이 선생과 놀아나는 영화는 절대 아님\n",
      ">> 단순하면서 은은한 매력의 영화\n",
      ">> 보는내내 그대로 들어맞는 예측 카리스마 없는 악역\n",
      ">> 뭐냐..시작하고 3분만에 나왔다. 리플릿 사진 보며 불안하더니만..\n"
     ]
    }
   ],
   "source": [
    "data = list(train_data['document']) + list(test_data['document'])\n",
    "\n",
    "print(\"Data Size:\", len(data))\n",
    "\n",
    "print(\"Example:\")\n",
    "for sen in data[0:100][::20]: print(\">>\", sen)"
   ]
  },
  {
   "cell_type": "code",
   "execution_count": 4,
   "id": "ba896d54",
   "metadata": {},
   "outputs": [
    {
     "name": "stdout",
     "output_type": "stream",
     "text": [
      "문장의 최단 길이: 1\n",
      "문장의 최장 길이: 146\n",
      "문장의 평균 길이: 35\n"
     ]
    },
    {
     "data": {
      "image/png": "[encoded data removed]",
      "text/plain": [
       "<Figure size 432x288 with 1 Axes>"
      ]
     },
     "metadata": {
      "needs_background": "light"
     },
     "output_type": "display_data"
    }
   ],
   "source": [
    "# 문장의 최단 길이, 최장 길이, 평균 길이를 구한 후 문장 길이분포를 막대그래프로 표현해주는 소스\n",
    "min_len = 999\n",
    "max_len = 0\n",
    "sum_len = 0\n",
    "\n",
    "for sen in data: \n",
    "    length = len(sen)\n",
    "    if min_len > length: min_len = length\n",
    "    if max_len < length: max_len = length\n",
    "    sum_len += length\n",
    "\n",
    "print(\"문장의 최단 길이:\", min_len)\n",
    "print(\"문장의 최장 길이:\", max_len)\n",
    "print(\"문장의 평균 길이:\", sum_len // len(data))\n",
    "\n",
    "sentence_length = np.zeros((max_len), dtype=int)\n",
    "\n",
    "for sen in data:\n",
    "    sentence_length[len(sen)-1] += 1\n",
    "\n",
    "plt.bar(range(max_len), sentence_length, width=1.0)\n",
    "plt.title(\"Sentence Length Distribution\")\n",
    "plt.show()"
   ]
  },
  {
   "cell_type": "code",
   "execution_count": 5,
   "id": "2218bf4d",
   "metadata": {},
   "outputs": [
    {
     "name": "stdout",
     "output_type": "stream",
     "text": [
      "아\n",
      "잼\n",
      "1\n",
      "4\n",
      "굿\n",
      "짱\n",
      "휴\n",
      ".\n",
      "음\n",
      "?\n",
      "ㅎ\n",
      "ㅋ\n",
      "즐\n",
      "♥\n",
      "굳\n",
      "네\n",
      "ㅇ\n",
      "k\n",
      "ㅠ\n",
      "쒯\n",
      "♬\n",
      "토\n",
      "O\n",
      "똥\n",
      "z\n",
      "헐\n",
      "삼\n",
      "꽝\n",
      "!\n",
      "풉\n",
      "ㅅ\n",
      "왜\n",
      "ㄴ\n",
      "쉣\n",
      "봐\n",
      "뿌\n",
      "ㅜ\n",
      "♡\n",
      "ㅁ\n",
      "0\n",
      "ㅉ\n",
      "d\n",
      "흥\n",
      "乃\n",
      "찜\n",
      "귯\n",
      "린\n",
      "시\n",
      "ㅗ\n",
      "a\n",
      "c\n",
      "흠\n",
      "웅\n",
      "ㅣ\n",
      "오\n",
      "9\n",
      "쩜\n",
      "애\n",
      "헝\n",
      "쨩\n",
      "f\n",
      "움\n",
      "ㄳ\n",
      "업\n",
      "헉\n",
      "군\n",
      "b\n",
      ";\n",
      "g\n",
      "올\n",
      "걍\n",
      "허\n",
      "-\n",
      "쀍\n",
      "로\n",
      "ㄹ\n",
      "ㅂ\n",
      "갑\n",
      "즛\n",
      "킥\n",
      "함\n",
      "진\n",
      "ㅡ\n",
      "잠\n",
      "곧\n",
      "ㅍ\n",
      "h\n",
      "·\n",
      "캬\n",
      "ㅆ\n",
      ",\n",
      "풋\n",
      "ㄱ\n",
      "파\n",
      "ㄷ\n",
      "웩\n",
      "꺅\n",
      "욜\n",
      "ㅄ\n",
      "2\n",
      "핡\n",
      "-------------------------------------\n",
      "\"스폰으로 먹고사는 방송이라 어쩔수 없다고 하지만. 이건 그냥 비현실적인 자동차만;...독일3사&슈퍼카 홍보 프로그램도 아니구.대중적인 자동차 방송으로 이루어 졌으면 합니다. 보는내내 \"\"카탈로그 책자\"\"를 \"\"동영상으로 보여주는 방송\"\" 같아서 씁쓸하네요.!\"\n",
      "\"\"\"니 짓은 생각않고, 웬 복수!\"\"의 교훈이라! 그럼 \"\"서바이벌 액션\"\"으로 홍보하면 안되지! 초반 45분은 멋지게 열더니.. 억지 반전, 하드고어로 시간끌다가, 허둥지둥 화해로 끝내버리네. 90분 러닝타임에 엔딩자막만 11분 틀어주는 해괴망측한 영화~!\"\n",
      "\"2007.02.25_ 벌교의 한 국밥집_ 점심: \"\"갸는 첫째고, 저 놈은 우리 둘째~\"\" 재문: \"\"아줌마! 미안해~ 그냥.. 아줌마! 나 그 남방 잘 어울려ㅠ_ㅠ?\"\" 대식에게 복수하려던 1주일 전_ 대식의 엄마를 먼저 만났다. 사랑의 꽃남방도..^-^o\"\n"
     ]
    }
   ],
   "source": [
    "# 길이 체크 함수로 문장 길이 확인하기\n",
    "def check_sentence_with_length(raw, length):\n",
    "    count = 0\n",
    "    \n",
    "    for sen in raw:\n",
    "        if len(sen) == length:\n",
    "            print(sen)\n",
    "            count += 1\n",
    "            if count > 100: return\n",
    "\n",
    "# 훈련 데이터 길이가 1인 문장 확인해보기            \n",
    "check_sentence_with_length(data, 1)\n",
    "print(\"-------------------------------------\")\n",
    "# 훈련 데이터 길이가 146인 문장 확인해보기            \n",
    "check_sentence_with_length(data, 146)"
   ]
  },
  {
   "cell_type": "code",
   "execution_count": 6,
   "id": "f31a69b1",
   "metadata": {},
   "outputs": [
    {
     "name": "stdout",
     "output_type": "stream",
     "text": [
      "Outlier Index: 12\n",
      "Outlier Index: 13\n",
      "Outlier Index: 14\n",
      "Outlier Index: 15\n",
      "Outlier Index: 16\n",
      "Outlier Index: 17\n"
     ]
    }
   ],
   "source": [
    "# 길이 별로 확인이 필요해보이는 문장 확인하기\n",
    "for idx, _sum in enumerate(sentence_length):\n",
    "    # 문장 내 단어의 개수가 5000을 초과하는 인덱스를 추출\n",
    "    if _sum > 5000:\n",
    "        print(\"Outlier Index:\", idx+1)"
   ]
  },
  {
   "cell_type": "code",
   "execution_count": 7,
   "id": "f50ccddf",
   "metadata": {},
   "outputs": [
    {
     "name": "stdout",
     "output_type": "stream",
     "text": [
      "아햏햏 아햏햏 아햏햏.\n",
      "단연 최고라고 할수있지\n",
      "용가리 진짜짱짱맨이다ㅋ\n",
      "나름 괜찮은 작품입니다\n",
      "정말 실망 스러웟음..\n",
      "무술인이 왜 총을드나?\n",
      "너무너무 훈훈하네요^^\n",
      "현실은 꿈, 꿈은 현실\n",
      "답없네, 뭐하는건지..\n",
      "엔딩이 넘 슬퍼요 :(\n",
      "감동감동감동의 도가니탕\n",
      "정말 최고의 영화...\n",
      "진짜 짜증나는 영화..\n",
      "상당히 재밌게 봤습니다\n",
      "영상미가 역시 최고네요\n",
      "감독ㅡㅡ다신영화찍지마라\n",
      "이런 영화가 참 좋다.\n",
      "정말 광해와 비슷한가?\n",
      "더빙이 똥이야 ....\n",
      "잠을 청할 수 있었다.\n",
      "나오코 진짜 집중안된다\n",
      "샬라샬라 나오다즁자쥬아\n",
      "지루하다.. 지루해..\n",
      "사과해요, 나한테!!!\n",
      "소재가 굉장히 신선했다\n",
      "솔직히 산만 하기만했다\n",
      "OST가 좋은 영화!!\n",
      "기적은 이미 일어났다.\n",
      "답을 알려고 하지마라.\n",
      "평점은 믿지마셈 재밌음\n",
      "재미 드럽게 없다ㅋㅋㅋ\n",
      "자식을 그렇게 때리냐?\n",
      "감동적이였고 좋았습니다\n",
      "울컥하는 사회현실 ㅠㅠ\n",
      "등장인물들 모두 짱~~\n",
      "막장드라마가 따로없구만\n",
      "말 필요엄따~~~~진정\n",
      "꿀잼 영화 추억이다ㅜㅜ\n",
      "맞추자 ㅍ?차븟ㅇㄱ디시\n",
      "순수하고 아름답다 :)\n",
      "변태적 성욕 자기합리화\n",
      "흠....나름 갠찬네요\n",
      "걍 10점 이라길래..\n",
      "실력이 필요없는 상황.\n",
      "감동과 웃음을 한방에!\n",
      "이거야 이거 ㅋㅋㅋㅋㅋ\n",
      "성동일딸 시르다...참\n",
      "평점알바들을 위해 1점\n",
      "볼만합니다 강추!!ㅋㅋ\n",
      "이거말고 겨울왕국을봐라\n",
      "좋은니다..^.,^~~\n",
      "2.3 (10자 제한)\n",
      "아무도 안달았네..ㄷㄷ\n",
      "엉성하고 어설프고...\n",
      "그냥 보통으로 보았다.\n",
      "너무 슬픈영화..울음ㅠ\n",
      "으리는 개뿔 ㅡ,.ㅡ^\n",
      "처음 본 에로 영화..\n",
      "평점 조정을 위해...\n",
      "그냥 쓰레기지 쓰레기~\n",
      "쵝오네요 최고 대박영화\n",
      "유전무죄 무전유죄!!!\n",
      "의외의 꿀잼 이였습니다\n",
      "어차피 우승은 송민호~\n",
      "이 때부터가 쓰레기였지\n",
      "완전 찝찝한 영화...\n",
      "이상형이 바뀌었습니다.\n",
      "역시 산드라블록 누님!\n",
      "결국 엄마가 죽인거네?\n",
      "그냥 그저 별시리...\n",
      "추천할만한 경제영화였음\n",
      "제대로 알아야할 역사임\n",
      "일본판이더재미있음...\n",
      "역시 재미있군요 >ㅁ<\n",
      "아깝다 나의 1점도ㅡㅡ\n",
      "마음이 따뜻해지는 영화\n",
      "죽었다. 참 재미없다.\n",
      "최고, 정말 최고다,,\n",
      "공유 보려고 보는 영화\n",
      "재밌습니다. 꿀잼 ㅋㅋ\n",
      "조정래와 임권택의 만남\n",
      "간만에쓰레기영화보네요ㅋ\n",
      "너무재밌게 봤어요...\n",
      "의미가 뭘까...///\n",
      "이건 범죄 수준이다..\n",
      "박평식-뚜껑열린다ㅋㅋㅋ\n",
      "볼수록 재밌는 마의!!\n",
      "짱~ 오늘 티비로 봤음\n",
      "말없이 눈물이 뚝뚝..\n",
      "이렇게 유쾌할수가ㅋㅋㅋ\n",
      "완죤 지루하고 재미없네\n",
      "보다가 나가는 영화??\n",
      "에휴..........\n",
      "재미도 없구만...에효\n",
      "옥보단 3D보다 쓰레기\n",
      "반전이 꽤나 신선했다.\n",
      "허접허접허접허접허접허접\n",
      "독특한 유머. 재밌다.\n",
      "좀 식상한 스릴러영화~\n",
      "하하하핳하햐하핯하핳하하\n",
      "이영화 어디서 보나요?\n"
     ]
    }
   ],
   "source": [
    "check_sentence_with_length(data, 12)"
   ]
  },
  {
   "cell_type": "code",
   "execution_count": 8,
   "id": "14bddc4f",
   "metadata": {},
   "outputs": [
    {
     "name": "stdout",
     "output_type": "stream",
     "text": [
      "Data Size: 194543\n",
      "문장의 최단 길이: 1\n",
      "문장의 최장 길이: 146\n",
      "문장의 평균 길이: 36\n"
     ]
    },
    {
     "data": {
      "image/png": "[encoded data removed]",
      "text/plain": [
       "<Figure size 432x288 with 1 Axes>"
      ]
     },
     "metadata": {
      "needs_background": "light"
     },
     "output_type": "display_data"
    }
   ],
   "source": [
    "# 데이터에서 중복 제거하기\n",
    "min_len= 999\n",
    "max_len = 0\n",
    "sum_len = 0\n",
    "\n",
    "cleaned_corpus = list(set(data))  # set를 사용해서 중복을 제거\n",
    "print(\"Data Size:\", len(cleaned_corpus))\n",
    "\n",
    "for sen in cleaned_corpus:\n",
    "    length = len(sen)\n",
    "    if min_len > length: min_len = length\n",
    "    if max_len < length: max_len = length\n",
    "    sum_len += length\n",
    "\n",
    "print(\"문장의 최단 길이:\", min_len)\n",
    "print(\"문장의 최장 길이:\", max_len)\n",
    "print(\"문장의 평균 길이:\", sum_len // len(cleaned_corpus))\n",
    "\n",
    "sentence_length = np.zeros((max_len), dtype=int)\n",
    "\n",
    "for sen in cleaned_corpus:   # 중복이 제거된 코퍼스 기준\n",
    "    sentence_length[len(sen)-1] += 1\n",
    "\n",
    "plt.bar(range(max_len), sentence_length, width=1.0)\n",
    "plt.title(\"Sentence Length Distribution\")\n",
    "plt.show()"
   ]
  },
  {
   "cell_type": "code",
   "execution_count": 9,
   "id": "f4812402",
   "metadata": {},
   "outputs": [
    {
     "data": {
      "image/png": "[encoded data removed]",
      "text/plain": [
       "<Figure size 432x288 with 1 Axes>"
      ]
     },
     "metadata": {
      "needs_background": "light"
     },
     "output_type": "display_data"
    }
   ],
   "source": [
    "max_len = 100\n",
    "min_len = 1\n",
    "\n",
    "# 길이 조건에 맞는 문장만 선택\n",
    "filtered_corpus = [s for s in cleaned_corpus if (len(s) < max_len) & (len(s) >= min_len)]\n",
    "\n",
    "# 분포도를 다시 그려보자 \n",
    "# 아래 나온 그래프는 최종 데이터 분포\n",
    "sentence_length = np.zeros((max_len), dtype=int)\n",
    "\n",
    "for sen in filtered_corpus:\n",
    "    sentence_length[len(sen)-1] += 1\n",
    "\n",
    "plt.bar(range(max_len), sentence_length, width=1.0)\n",
    "plt.title(\"Sentence Length Distribution\")\n",
    "plt.show()"
   ]
  },
  {
   "cell_type": "markdown",
   "id": "82a2dd4f",
   "metadata": {},
   "source": [
    "### 네이버 영화 리뷰 감정분석 코퍼스에 sentencepiece를 적용시킨 모델 학습하기"
   ]
  },
  {
   "cell_type": "code",
   "execution_count": 10,
   "id": "c11be0b6",
   "metadata": {},
   "outputs": [
    {
     "name": "stdout",
     "output_type": "stream",
     "text": [
      "Requirement already satisfied: sentencepiece in /opt/conda/lib/python3.9/site-packages (0.1.96)\n",
      "\u001b[33mWARNING: Running pip as the 'root' user can result in broken permissions and conflicting behaviour with the system package manager. It is recommended to use a virtual environment instead: https://pip.pypa.io/warnings/venv\u001b[0m\n"
     ]
    }
   ],
   "source": [
    "!pip install sentencepiece"
   ]
  },
  {
   "cell_type": "code",
   "execution_count": 64,
   "id": "661deea2",
   "metadata": {},
   "outputs": [
    {
     "name": "stdout",
     "output_type": "stream",
     "text": [
      "-rw-r--r-- 1 root root 408104 Oct  1 11:21 naver_review_spm_bpe.model\r\n",
      "-rw-r--r-- 1 root root 149302 Oct  1 11:21 naver_review_spm_bpe.vocab\r\n",
      "-rw-r--r-- 1 root root 414402 Oct  1 11:21 naver_review_spm.model\r\n",
      "-rw-r--r-- 1 root root 185586 Oct  1 11:21 naver_review_spm.vocab\r\n"
     ]
    }
   ],
   "source": [
    "import sentencepiece as spm\n",
    "import os\n",
    "temp_file =os.getenv('HOME')+'/aiffel/sentiment_class/korean-english-park.train.ko.temp'\n",
    "\n",
    "vocab_size = 10000\n",
    "\n",
    "with open(temp_file, 'w') as f:\n",
    "    for row in filtered_corpus:   # 이전 스텝에서 정제했던 corpus를 활용\n",
    "        f.write(str(row) + '\\n')\n",
    "\n",
    "# 디폴트 --model_type = 'unigram'\n",
    "spm.SentencePieceTrainer.Train('--input={} --model_prefix=naver_review_spm --vocab_size={}'.format(temp_file, vocab_size))\n",
    "\n",
    "# --model_type = 'bpe'\n",
    "spm.SentencePieceTrainer.Train('--input={} --model_type=bpe --model_prefix=naver_review_spm_bpe --vocab_size={}'.format(temp_file, vocab_size))\n",
    "\n",
    "!ls -l naver_review_spm*"
   ]
  },
  {
   "cell_type": "markdown",
   "id": "f40fa8cb",
   "metadata": {},
   "source": [
    "### Sentencepiece 적용\n",
    "Unigram 타입"
   ]
  },
  {
   "cell_type": "code",
   "execution_count": 12,
   "id": "1d1b44e4",
   "metadata": {},
   "outputs": [
    {
     "name": "stdout",
     "output_type": "stream",
     "text": [
      "[1731, 10, 493, 15, 1434, 10, 174, 17, 4]\n",
      "['▁아버지', '가', '방', '에', '들어', '가', '신', '다', '.']\n",
      "아버지가방에들어가신다.\n"
     ]
    }
   ],
   "source": [
    "# sentencepiece 모델이 잘 적용됐는지 확인해보기\n",
    "s_uni = spm.SentencePieceProcessor() \n",
    "s_uni.Load('naver_review_spm.model') # unigram 타입 model\n",
    "\n",
    "# SentencePiece를 활용한 sentence -> encoding\n",
    "tokensIDs = s_uni.EncodeAsIds('아버지가방에들어가신다.')\n",
    "print(tokensIDs)\n",
    "\n",
    "# SentencePiece를 활용한 sentence -> encoded pieces\n",
    "print(s_uni.SampleEncodeAsPieces('아버지가방에들어가신다.',1, 0.0))\n",
    "\n",
    "# SentencePiece를 활용한 encoding -> sentence 복원\n",
    "print(s_uni.DecodeIds(tokensIDs))"
   ]
  },
  {
   "cell_type": "markdown",
   "id": "bf24e5fb",
   "metadata": {},
   "source": [
    "BPE 타입"
   ]
  },
  {
   "cell_type": "code",
   "execution_count": 13,
   "id": "1c432240",
   "metadata": {},
   "outputs": [
    {
     "name": "stdout",
     "output_type": "stream",
     "text": [
      "[7883, 8551, 8283, 1472, 8279, 8385, 8273, 8271]\n",
      "['▁아버지가', '방', '에', '들어', '가', '신', '다', '.']\n",
      "아버지가방에들어가신다.\n"
     ]
    }
   ],
   "source": [
    "# sentencepiece 모델이 잘 적용됐는지 확인해보기\n",
    "s_bpe = spm.SentencePieceProcessor() \n",
    "s_bpe.Load('naver_review_spm_bpe.model') # bpe 타입 model\n",
    "\n",
    "# SentencePiece를 활용한 sentence -> encoding\n",
    "tokensIDs = s_bpe.EncodeAsIds('아버지가방에들어가신다.')\n",
    "print(tokensIDs)\n",
    "\n",
    "# SentencePiece를 활용한 sentence -> encoded pieces\n",
    "print(s_bpe.SampleEncodeAsPieces('아버지가방에들어가신다.',1, 0.0))\n",
    "\n",
    "# SentencePiece를 활용한 encoding -> sentence 복원\n",
    "print(s_bpe.DecodeIds(tokensIDs))"
   ]
  },
  {
   "cell_type": "markdown",
   "id": "3fbf085a",
   "metadata": {},
   "source": [
    "### 토크나이저 구현 및 동작"
   ]
  },
  {
   "cell_type": "code",
   "execution_count": 14,
   "id": "f1e9df40",
   "metadata": {},
   "outputs": [
    {
     "name": "stdout",
     "output_type": "stream",
     "text": [
      "[[   0    0    0    0    0    0    0    0    0    0    0    0    0    0\n",
      "     0    0    0    0    0    0    0    0    0    0    0    0    0    0\n",
      "     0    0    0    0    0    0    0    0    0    0    0    0    0    0\n",
      "     0    0    0    0    0    0    0    0    0    0    0    0    0    0\n",
      "     0    0    0    0    0    0    0    0    0    0    0    0    0    0\n",
      "     0    0    0    0    0    0    0    0    0    0    0    0    0    0\n",
      "     0    0    0    0    0    0    0    0    0    0  501 3147   14 1245\n",
      "  2515    4]\n",
      " [   0    0    0    0    0    0    0    0    0    0    0    0    0    0\n",
      "     0    0    0    0    0    0    0    0    0    0    0    0    0    0\n",
      "     0    0    0    0    0    0    0    0    0    0    0    0    0    0\n",
      "     0    0    0    0    0    0    0    0    0    0    0    0    0    0\n",
      "     0    0    0    0    0    0    0    0    0    0    0    0    0    0\n",
      "     0    0    0    0    0    0    0    0    0    0    0    0    0    0\n",
      "     0    0    0    0    0    0 1460 2111  232  710   10    3   16 9937\n",
      "  1041    7]]\n"
     ]
    }
   ],
   "source": [
    "def sp_tokenize_uni(s_uni, corpus):\n",
    "\n",
    "    tensor = []\n",
    "\n",
    "    for sen in corpus:\n",
    "        tensor.append(s_uni.EncodeAsIds(sen))\n",
    "\n",
    "    with open(\"./naver_review_spm.vocab\", 'r') as f: # unigram 타입 vocab\n",
    "        vocab = f.readlines()\n",
    "\n",
    "    word_index = {}\n",
    "    index_word = {}\n",
    "\n",
    "    for idx, line in enumerate(vocab):\n",
    "        word = line.split(\"\\t\")[0]\n",
    "\n",
    "        word_index.update({idx:word})\n",
    "        index_word.update({word:idx})\n",
    "\n",
    "    tensor = tf.keras.preprocessing.sequence.pad_sequences(tensor, padding='pre', maxlen = 100)\n",
    "\n",
    "    return tensor, word_index, index_word\n",
    "\n",
    "#sp_tokenize(s, corpus) 사용예제로 확인\n",
    "my_corpus = ['나는 밥을 먹었습니다.', '그러나 여전히 ㅠㅠ 배가 고픕니다...']\n",
    "tensor_uni, word_index_uni, index_word_uni = sp_tokenize_uni(s_uni, my_corpus)\n",
    "print(tensor_uni)"
   ]
  },
  {
   "cell_type": "code",
   "execution_count": 15,
   "id": "ea07b07e",
   "metadata": {},
   "outputs": [],
   "source": [
    "tensor_uni, word_index_uni, index_word_uni = sp_tokenize_uni(s_uni, data)"
   ]
  },
  {
   "cell_type": "code",
   "execution_count": 16,
   "id": "f96829f1",
   "metadata": {},
   "outputs": [
    {
     "name": "stdout",
     "output_type": "stream",
     "text": [
      "(195339, 100)\n"
     ]
    }
   ],
   "source": [
    "print(tensor_uni.shape)"
   ]
  },
  {
   "cell_type": "code",
   "execution_count": 17,
   "id": "be7f11e3",
   "metadata": {},
   "outputs": [
    {
     "name": "stdout",
     "output_type": "stream",
     "text": [
      "[[   0    0    0    0    0    0    0    0    0    0    0    0    0    0\n",
      "     0    0    0    0    0    0    0    0    0    0    0    0    0    0\n",
      "     0    0    0    0    0    0    0    0    0    0    0    0    0    0\n",
      "     0    0    0    0    0    0    0    0    0    0    0    0    0    0\n",
      "     0    0    0    0    0    0    0    0    0    0    0    0    0    0\n",
      "     0    0    0    0    0    0    0    0    0    0    0    0    0    0\n",
      "     0    0    0    0    0    0    0    0    0    0  721 3152 8300  567\n",
      "   833 8271]\n",
      " [   0    0    0    0    0    0    0    0    0    0    0    0    0    0\n",
      "     0    0    0    0    0    0    0    0    0    0    0    0    0    0\n",
      "     0    0    0    0    0    0    0    0    0    0    0    0    0    0\n",
      "     0    0    0    0    0    0    0    0    0    0    0    0    0    0\n",
      "     0    0    0    0    0    0    0    0    0    0    0    0    0    0\n",
      "     0    0    0    0    0    0    0    0    0    0    0    0    0    0\n",
      "     0    0    0    0    0    0    0 1684 2307  320  324 8279  162 9622\n",
      "    14    7]]\n"
     ]
    }
   ],
   "source": [
    "def sp_tokenize_bpe(s_bpe, corpus):\n",
    "\n",
    "    tensor = []\n",
    "\n",
    "    for sen in corpus:\n",
    "        tensor.append(s_bpe.EncodeAsIds(sen))\n",
    "\n",
    "    with open(\"./naver_review_spm_bpe.vocab\", 'r') as f: # bpe 타입 vocab\n",
    "        vocab = f.readlines()\n",
    "\n",
    "    word_index = {}\n",
    "    index_word = {}\n",
    "\n",
    "    for idx, line in enumerate(vocab):\n",
    "        word = line.split(\"\\t\")[0]\n",
    "\n",
    "        word_index.update({idx:word})\n",
    "        index_word.update({word:idx})\n",
    "\n",
    "    tensor = tf.keras.preprocessing.sequence.pad_sequences(tensor, padding='pre', maxlen = 100)\n",
    "\n",
    "    return tensor, word_index, index_word\n",
    "\n",
    "#sp_tokenize(s, corpus) 사용예제로 확인해\n",
    "my_corpus = ['나는 밥을 먹었습니다.', '그러나 여전히 ㅠㅠ 배가 고픕니다...']\n",
    "tensor_bpe, word_index_bpe, index_word_bpe = sp_tokenize_bpe(s_bpe, my_corpus)\n",
    "print(tensor_bpe)"
   ]
  },
  {
   "cell_type": "code",
   "execution_count": 18,
   "id": "239b3297",
   "metadata": {},
   "outputs": [],
   "source": [
    "tensor_bpe, word_index_bpe, index_word_bpe = sp_tokenize_bpe(s_bpe, data)"
   ]
  },
  {
   "cell_type": "code",
   "execution_count": 19,
   "id": "0ee13750",
   "metadata": {},
   "outputs": [
    {
     "name": "stdout",
     "output_type": "stream",
     "text": [
      "(195339, 100)\n"
     ]
    }
   ],
   "source": [
    "print(tensor_bpe.shape)"
   ]
  },
  {
   "cell_type": "markdown",
   "id": "7f3f0cb1",
   "metadata": {},
   "source": [
    "### 구현된 토크나이저를 적용하여 네이버 영화리뷰 감정분석 모델을 재학습하기"
   ]
  },
  {
   "cell_type": "code",
   "execution_count": 20,
   "id": "99cbd6e2",
   "metadata": {},
   "outputs": [
    {
     "name": "stdout",
     "output_type": "stream",
     "text": [
      "(96182, 100)\n",
      "(96182,)\n"
     ]
    }
   ],
   "source": [
    "X_train = tensor_uni[:146182]\n",
    "X_test = tensor_uni[146182:]\n",
    "\n",
    "y_train = np.array(list(train_data['label']))\n",
    "y_test = np.array(list(test_data['label']))\n",
    "\n",
    "# validation set 50000건 분리\n",
    "x_val = X_train[:50000]   \n",
    "y_val = y_train[:50000]\n",
    "\n",
    "# validation set을 제외한 나머지 \n",
    "partial_X_train = X_train[50000:]  \n",
    "partial_y_train = y_train[50000:]\n",
    "\n",
    "print(partial_X_train.shape)\n",
    "print(partial_y_train.shape)"
   ]
  },
  {
   "cell_type": "code",
   "execution_count": 21,
   "id": "8896eb6e",
   "metadata": {},
   "outputs": [
    {
     "name": "stdout",
     "output_type": "stream",
     "text": [
      "Model: \"sequential\"\n",
      "_________________________________________________________________\n",
      "Layer (type)                 Output Shape              Param #   \n",
      "=================================================================\n",
      "embedding (Embedding)        (None, None, 16)          160000    \n",
      "_________________________________________________________________\n",
      "lstm (LSTM)                  (None, 12)                1392      \n",
      "_________________________________________________________________\n",
      "dense (Dense)                (None, 8)                 104       \n",
      "_________________________________________________________________\n",
      "dense_1 (Dense)              (None, 1)                 9         \n",
      "=================================================================\n",
      "Total params: 161,505\n",
      "Trainable params: 161,505\n",
      "Non-trainable params: 0\n",
      "_________________________________________________________________\n"
     ]
    }
   ],
   "source": [
    "import numpy as np\n",
    "import tensorflow as tf\n",
    "from tensorflow import keras\n",
    "\n",
    "vocab_size = 10000    \n",
    "word_vector_dim = 16\n",
    "\n",
    "model_rnn = keras.Sequential()\n",
    "model_rnn.add(keras.layers.Embedding(vocab_size, word_vector_dim, input_shape=(None,)))\n",
    "model_rnn.add(keras.layers.LSTM(12))   \n",
    "model_rnn.add(keras.layers.Dense(8, activation='relu'))\n",
    "model_rnn.add(keras.layers.Dense(1, activation='sigmoid'))  \n",
    "\n",
    "model_rnn.summary()"
   ]
  },
  {
   "cell_type": "code",
   "execution_count": 22,
   "id": "b1b94ccb",
   "metadata": {},
   "outputs": [
    {
     "name": "stdout",
     "output_type": "stream",
     "text": [
      "Epoch 1/20\n",
      "188/188 [==============================] - 5s 11ms/step - loss: 0.5359 - accuracy: 0.7322 - val_loss: 0.3753 - val_accuracy: 0.8413\n",
      "Epoch 2/20\n",
      "188/188 [==============================] - 2s 9ms/step - loss: 0.3365 - accuracy: 0.8601 - val_loss: 0.3485 - val_accuracy: 0.8500\n",
      "Epoch 3/20\n",
      "188/188 [==============================] - 2s 9ms/step - loss: 0.3028 - accuracy: 0.8764 - val_loss: 0.3441 - val_accuracy: 0.8525\n",
      "Epoch 4/20\n",
      "188/188 [==============================] - 2s 9ms/step - loss: 0.2876 - accuracy: 0.8830 - val_loss: 0.3463 - val_accuracy: 0.8517\n",
      "Epoch 5/20\n",
      "188/188 [==============================] - 2s 9ms/step - loss: 0.2745 - accuracy: 0.8893 - val_loss: 0.3475 - val_accuracy: 0.8513\n",
      "Epoch 6/20\n",
      "188/188 [==============================] - 2s 9ms/step - loss: 0.2621 - accuracy: 0.8957 - val_loss: 0.3562 - val_accuracy: 0.8504\n",
      "Epoch 7/20\n",
      "188/188 [==============================] - 2s 9ms/step - loss: 0.2492 - accuracy: 0.9020 - val_loss: 0.3635 - val_accuracy: 0.8487\n",
      "Epoch 8/20\n",
      "188/188 [==============================] - 2s 9ms/step - loss: 0.2359 - accuracy: 0.9076 - val_loss: 0.3772 - val_accuracy: 0.8488\n",
      "Epoch 9/20\n",
      "188/188 [==============================] - 2s 9ms/step - loss: 0.2230 - accuracy: 0.9144 - val_loss: 0.3803 - val_accuracy: 0.8473\n",
      "Epoch 10/20\n",
      "188/188 [==============================] - 2s 8ms/step - loss: 0.2106 - accuracy: 0.9199 - val_loss: 0.3940 - val_accuracy: 0.8424\n",
      "Epoch 11/20\n",
      "188/188 [==============================] - 2s 9ms/step - loss: 0.1988 - accuracy: 0.9248 - val_loss: 0.4190 - val_accuracy: 0.8425\n",
      "Epoch 12/20\n",
      "188/188 [==============================] - 2s 9ms/step - loss: 0.1916 - accuracy: 0.9277 - val_loss: 0.4410 - val_accuracy: 0.8409\n",
      "Epoch 13/20\n",
      "188/188 [==============================] - 2s 9ms/step - loss: 0.1785 - accuracy: 0.9329 - val_loss: 0.4598 - val_accuracy: 0.8391\n",
      "Epoch 14/20\n",
      "188/188 [==============================] - 2s 9ms/step - loss: 0.1741 - accuracy: 0.9348 - val_loss: 0.4833 - val_accuracy: 0.8378\n",
      "Epoch 15/20\n",
      "188/188 [==============================] - 2s 9ms/step - loss: 0.1578 - accuracy: 0.9424 - val_loss: 0.5343 - val_accuracy: 0.8361\n",
      "Epoch 16/20\n",
      "188/188 [==============================] - 2s 9ms/step - loss: 0.1486 - accuracy: 0.9455 - val_loss: 0.5362 - val_accuracy: 0.8347\n",
      "Epoch 17/20\n",
      "188/188 [==============================] - 2s 9ms/step - loss: 0.1393 - accuracy: 0.9502 - val_loss: 0.5802 - val_accuracy: 0.8328\n",
      "Epoch 18/20\n",
      "188/188 [==============================] - 2s 9ms/step - loss: 0.1298 - accuracy: 0.9539 - val_loss: 0.6119 - val_accuracy: 0.8319\n",
      "Epoch 19/20\n",
      "188/188 [==============================] - 2s 8ms/step - loss: 0.1213 - accuracy: 0.9575 - val_loss: 0.6589 - val_accuracy: 0.8302\n",
      "Epoch 20/20\n",
      "188/188 [==============================] - 2s 8ms/step - loss: 0.1154 - accuracy: 0.9596 - val_loss: 0.6721 - val_accuracy: 0.8290\n"
     ]
    }
   ],
   "source": [
    "model_rnn.compile(optimizer='adam',\n",
    "              loss='binary_crossentropy',\n",
    "              metrics=['accuracy'])\n",
    "              \n",
    "epochs = 20\n",
    "\n",
    "history_rnn = model_rnn.fit(partial_X_train,\n",
    "                    partial_y_train,\n",
    "                    epochs=epochs,\n",
    "                    batch_size=512,\n",
    "                    validation_data=(x_val, y_val),\n",
    "                    verbose=1)"
   ]
  },
  {
   "cell_type": "code",
   "execution_count": 23,
   "id": "a7f266e7",
   "metadata": {},
   "outputs": [
    {
     "name": "stdout",
     "output_type": "stream",
     "text": [
      "1537/1537 - 4s - loss: 0.6878 - accuracy: 0.8249\n",
      "[0.6878222227096558, 0.8248876333236694]\n",
      "dict_keys(['loss', 'accuracy', 'val_loss', 'val_accuracy'])\n"
     ]
    },
    {
     "data": {
      "image/png": "[encoded data removed]",
      "text/plain": [
       "<Figure size 432x288 with 1 Axes>"
      ]
     },
     "metadata": {
      "needs_background": "light"
     },
     "output_type": "display_data"
    },
    {
     "data": {
      "image/png": "[encoded data removed]",
      "text/plain": [
       "<Figure size 432x288 with 1 Axes>"
      ]
     },
     "metadata": {
      "needs_background": "light"
     },
     "output_type": "display_data"
    }
   ],
   "source": [
    "# 평가하기\n",
    "results_rnn = model_rnn.evaluate(X_test, y_test, verbose=2)\n",
    "print(results_rnn)\n",
    "\n",
    "history_dict_rnn = history_rnn.history\n",
    "print(history_dict_rnn.keys()) # epoch에 따른 그래프를 그려볼 수 있는 항목들\n",
    "\n",
    "# train과 val의 Loss\n",
    "acc_rnn = history_dict_rnn['accuracy']\n",
    "val_acc_rnn = history_dict_rnn['val_accuracy']\n",
    "loss_rnn = history_dict_rnn['loss']\n",
    "val_loss_rnn = history_dict_rnn['val_loss']\n",
    "\n",
    "epochs_rnn = range(1, len(acc_rnn) + 1)\n",
    "\n",
    "# \"bo\"는 \"파란색 점\"\n",
    "plt.plot(epochs_rnn, loss_rnn, 'bo', label='Training loss')\n",
    "# b는 \"파란 실선\"\n",
    "plt.plot(epochs_rnn, val_loss_rnn, 'b', label='Validation loss')\n",
    "plt.title('RNN\\'s Training & validation loss')\n",
    "plt.xlabel('Epochs')\n",
    "plt.ylabel('Loss')\n",
    "plt.legend()\n",
    "\n",
    "plt.show()\n",
    "\n",
    "# train과 val의 accuracy\n",
    "plt.clf()  \n",
    "\n",
    "plt.plot(epochs_rnn, acc_rnn, 'bo', label='Training acc')\n",
    "plt.plot(epochs_rnn, val_acc_rnn, 'b', label='Validation acc')\n",
    "plt.title('RNN\\'s Training and validation accuracy')\n",
    "plt.xlabel('Epochs')\n",
    "plt.ylabel('Accuracy')\n",
    "plt.legend()\n",
    "\n",
    "plt.show()"
   ]
  },
  {
   "cell_type": "markdown",
   "id": "123322a2",
   "metadata": {},
   "source": [
    "* BPE타입의 토크나이저를 적용하여 RNN모델을 학습시켜보자.\n",
    "* 합쳐진 데이터를 분할하고 검증 데이터도 분할해주자."
   ]
  },
  {
   "cell_type": "code",
   "execution_count": 24,
   "id": "8e32c9a2",
   "metadata": {},
   "outputs": [
    {
     "name": "stdout",
     "output_type": "stream",
     "text": [
      "(96182, 100)\n",
      "(96182,)\n"
     ]
    }
   ],
   "source": [
    "X_train = tensor_bpe[:146182]\n",
    "X_test = tensor_bpe[146182:]\n",
    "\n",
    "y_train = np.array(list(train_data['label']))\n",
    "y_test = np.array(list(test_data['label']))\n",
    "\n",
    "# validation set 50000건 분리\n",
    "x_val = X_train[:50000]   \n",
    "y_val = y_train[:50000]\n",
    "\n",
    "# validation set을 제외한 나머지 \n",
    "partial_X_train = X_train[50000:]  \n",
    "partial_y_train = y_train[50000:]\n",
    "\n",
    "print(partial_X_train.shape)\n",
    "print(partial_y_train.shape)"
   ]
  },
  {
   "cell_type": "code",
   "execution_count": 25,
   "id": "943e59bc",
   "metadata": {},
   "outputs": [
    {
     "name": "stdout",
     "output_type": "stream",
     "text": [
      "Model: \"sequential_1\"\n",
      "_________________________________________________________________\n",
      "Layer (type)                 Output Shape              Param #   \n",
      "=================================================================\n",
      "embedding_1 (Embedding)      (None, None, 16)          160000    \n",
      "_________________________________________________________________\n",
      "lstm_1 (LSTM)                (None, 12)                1392      \n",
      "_________________________________________________________________\n",
      "dense_2 (Dense)              (None, 8)                 104       \n",
      "_________________________________________________________________\n",
      "dense_3 (Dense)              (None, 1)                 9         \n",
      "=================================================================\n",
      "Total params: 161,505\n",
      "Trainable params: 161,505\n",
      "Non-trainable params: 0\n",
      "_________________________________________________________________\n"
     ]
    }
   ],
   "source": [
    "import numpy as np\n",
    "import tensorflow as tf\n",
    "from tensorflow import keras\n",
    "\n",
    "vocab_size = 10000    \n",
    "word_vector_dim = 16\n",
    "\n",
    "model_rnn = keras.Sequential()\n",
    "model_rnn.add(keras.layers.Embedding(vocab_size, word_vector_dim, input_shape=(None,)))\n",
    "model_rnn.add(keras.layers.LSTM(12))   \n",
    "model_rnn.add(keras.layers.Dense(8, activation='relu'))\n",
    "model_rnn.add(keras.layers.Dense(1, activation='sigmoid'))  \n",
    "\n",
    "model_rnn.summary()"
   ]
  },
  {
   "cell_type": "code",
   "execution_count": 26,
   "id": "ee083275",
   "metadata": {},
   "outputs": [
    {
     "name": "stdout",
     "output_type": "stream",
     "text": [
      "Epoch 1/20\n",
      "188/188 [==============================] - 3s 11ms/step - loss: 0.5714 - accuracy: 0.7131 - val_loss: 0.4206 - val_accuracy: 0.8356\n",
      "Epoch 2/20\n",
      "188/188 [==============================] - 2s 9ms/step - loss: 0.3518 - accuracy: 0.8561 - val_loss: 0.3503 - val_accuracy: 0.8516\n",
      "Epoch 3/20\n",
      "188/188 [==============================] - 2s 9ms/step - loss: 0.3097 - accuracy: 0.8720 - val_loss: 0.3497 - val_accuracy: 0.8515\n",
      "Epoch 4/20\n",
      "188/188 [==============================] - 2s 9ms/step - loss: 0.2948 - accuracy: 0.8792 - val_loss: 0.3529 - val_accuracy: 0.8497\n",
      "Epoch 5/20\n",
      "188/188 [==============================] - 2s 9ms/step - loss: 0.2845 - accuracy: 0.8855 - val_loss: 0.3583 - val_accuracy: 0.8456\n",
      "Epoch 6/20\n",
      "188/188 [==============================] - 2s 9ms/step - loss: 0.2733 - accuracy: 0.8915 - val_loss: 0.3640 - val_accuracy: 0.8489\n",
      "Epoch 7/20\n",
      "188/188 [==============================] - 2s 8ms/step - loss: 0.2613 - accuracy: 0.8970 - val_loss: 0.3668 - val_accuracy: 0.8470\n",
      "Epoch 8/20\n",
      "188/188 [==============================] - 2s 9ms/step - loss: 0.2484 - accuracy: 0.9043 - val_loss: 0.3753 - val_accuracy: 0.8428\n",
      "Epoch 9/20\n",
      "188/188 [==============================] - 2s 9ms/step - loss: 0.2379 - accuracy: 0.9097 - val_loss: 0.3913 - val_accuracy: 0.8404\n",
      "Epoch 10/20\n",
      "188/188 [==============================] - 2s 9ms/step - loss: 0.2274 - accuracy: 0.9142 - val_loss: 0.3974 - val_accuracy: 0.8410\n",
      "Epoch 11/20\n",
      "188/188 [==============================] - 2s 9ms/step - loss: 0.2193 - accuracy: 0.9192 - val_loss: 0.4142 - val_accuracy: 0.8394\n",
      "Epoch 12/20\n",
      "188/188 [==============================] - 2s 9ms/step - loss: 0.2080 - accuracy: 0.9251 - val_loss: 0.4196 - val_accuracy: 0.8378\n",
      "Epoch 13/20\n",
      "188/188 [==============================] - 2s 9ms/step - loss: 0.1985 - accuracy: 0.9292 - val_loss: 0.4388 - val_accuracy: 0.8363\n",
      "Epoch 14/20\n",
      "188/188 [==============================] - 2s 9ms/step - loss: 0.1886 - accuracy: 0.9338 - val_loss: 0.4507 - val_accuracy: 0.8338\n",
      "Epoch 15/20\n",
      "188/188 [==============================] - 2s 9ms/step - loss: 0.1766 - accuracy: 0.9397 - val_loss: 0.4697 - val_accuracy: 0.8324\n",
      "Epoch 16/20\n",
      "188/188 [==============================] - 2s 9ms/step - loss: 0.1682 - accuracy: 0.9432 - val_loss: 0.4920 - val_accuracy: 0.8302\n",
      "Epoch 17/20\n",
      "188/188 [==============================] - 2s 9ms/step - loss: 0.1575 - accuracy: 0.9486 - val_loss: 0.4999 - val_accuracy: 0.8289\n",
      "Epoch 18/20\n",
      "188/188 [==============================] - 2s 9ms/step - loss: 0.1496 - accuracy: 0.9519 - val_loss: 0.5281 - val_accuracy: 0.8298\n",
      "Epoch 19/20\n",
      "188/188 [==============================] - 2s 9ms/step - loss: 0.1413 - accuracy: 0.9550 - val_loss: 0.5439 - val_accuracy: 0.8262\n",
      "Epoch 20/20\n",
      "188/188 [==============================] - 2s 9ms/step - loss: 0.1333 - accuracy: 0.9584 - val_loss: 0.5669 - val_accuracy: 0.8255\n"
     ]
    }
   ],
   "source": [
    "model_rnn.compile(optimizer='adam',\n",
    "              loss='binary_crossentropy',\n",
    "              metrics=['accuracy'])\n",
    "              \n",
    "epochs = 20\n",
    "\n",
    "history_rnn = model_rnn.fit(partial_X_train,\n",
    "                    partial_y_train,\n",
    "                    epochs=epochs,\n",
    "                    batch_size=512,\n",
    "                    validation_data=(x_val, y_val),\n",
    "                    verbose=1)"
   ]
  },
  {
   "cell_type": "code",
   "execution_count": 27,
   "id": "8d2550ba",
   "metadata": {},
   "outputs": [
    {
     "name": "stdout",
     "output_type": "stream",
     "text": [
      "1537/1537 - 4s - loss: 0.5854 - accuracy: 0.8210\n",
      "[0.585415244102478, 0.8209817409515381]\n",
      "dict_keys(['loss', 'accuracy', 'val_loss', 'val_accuracy'])\n"
     ]
    },
    {
     "data": {
      "image/png": "[encoded data removed]",
      "text/plain": [
       "<Figure size 432x288 with 1 Axes>"
      ]
     },
     "metadata": {
      "needs_background": "light"
     },
     "output_type": "display_data"
    },
    {
     "data": {
      "image/png": "[encoded data removed]",
      "text/plain": [
       "<Figure size 432x288 with 1 Axes>"
      ]
     },
     "metadata": {
      "needs_background": "light"
     },
     "output_type": "display_data"
    }
   ],
   "source": [
    "# 평가하기\n",
    "results_rnn = model_rnn.evaluate(X_test, y_test, verbose=2)\n",
    "print(results_rnn)\n",
    "\n",
    "history_dict_rnn = history_rnn.history\n",
    "print(history_dict_rnn.keys()) # epoch에 따른 그래프를 그려볼 수 있는 항목들\n",
    "\n",
    "# train과 val의 Loss\n",
    "acc_rnn = history_dict_rnn['accuracy']\n",
    "val_acc_rnn = history_dict_rnn['val_accuracy']\n",
    "loss_rnn = history_dict_rnn['loss']\n",
    "val_loss_rnn = history_dict_rnn['val_loss']\n",
    "\n",
    "epochs_rnn = range(1, len(acc_rnn) + 1)\n",
    "\n",
    "# \"bo\"는 \"파란색 점\"\n",
    "plt.plot(epochs_rnn, loss_rnn, 'bo', label='Training loss')\n",
    "# b는 \"파란 실선\"\n",
    "plt.plot(epochs_rnn, val_loss_rnn, 'b', label='Validation loss')\n",
    "plt.title('RNN\\'s Training & validation loss')\n",
    "plt.xlabel('Epochs')\n",
    "plt.ylabel('Loss')\n",
    "plt.legend()\n",
    "\n",
    "plt.show()\n",
    "\n",
    "# train과 val의 accuracy\n",
    "plt.clf()  \n",
    "\n",
    "plt.plot(epochs_rnn, acc_rnn, 'bo', label='Training acc')\n",
    "plt.plot(epochs_rnn, val_acc_rnn, 'b', label='Validation acc')\n",
    "plt.title('RNN\\'s Training and validation accuracy')\n",
    "plt.xlabel('Epochs')\n",
    "plt.ylabel('Accuracy')\n",
    "plt.legend()\n",
    "\n",
    "plt.show()"
   ]
  },
  {
   "cell_type": "markdown",
   "id": "3dd7038a",
   "metadata": {},
   "source": [
    "## KoNLPy 형태소 분석기를 사용한 모델과 성능 비교하기"
   ]
  },
  {
   "cell_type": "code",
   "execution_count": 28,
   "id": "be843871",
   "metadata": {},
   "outputs": [
    {
     "name": "stdout",
     "output_type": "stream",
     "text": [
      "Requirement already satisfied: konlpy in /opt/conda/lib/python3.9/site-packages (0.5.2)\n",
      "Requirement already satisfied: numpy>=1.6 in /opt/conda/lib/python3.9/site-packages (from konlpy) (1.21.4)\n",
      "Requirement already satisfied: beautifulsoup4==4.6.0 in /opt/conda/lib/python3.9/site-packages (from konlpy) (4.6.0)\n",
      "Requirement already satisfied: JPype1>=0.7.0 in /opt/conda/lib/python3.9/site-packages (from konlpy) (1.3.0)\n",
      "Requirement already satisfied: tweepy>=3.7.0 in /opt/conda/lib/python3.9/site-packages (from konlpy) (3.10.0)\n",
      "Requirement already satisfied: lxml>=4.1.0 in /opt/conda/lib/python3.9/site-packages (from konlpy) (4.6.3)\n",
      "Requirement already satisfied: colorama in /opt/conda/lib/python3.9/site-packages (from konlpy) (0.4.4)\n",
      "Requirement already satisfied: six>=1.10.0 in /opt/conda/lib/python3.9/site-packages (from tweepy>=3.7.0->konlpy) (1.16.0)\n",
      "Requirement already satisfied: requests-oauthlib>=0.7.0 in /opt/conda/lib/python3.9/site-packages (from tweepy>=3.7.0->konlpy) (1.3.0)\n",
      "Requirement already satisfied: requests[socks]>=2.11.1 in /opt/conda/lib/python3.9/site-packages (from tweepy>=3.7.0->konlpy) (2.26.0)\n",
      "Requirement already satisfied: oauthlib>=3.0.0 in /opt/conda/lib/python3.9/site-packages (from requests-oauthlib>=0.7.0->tweepy>=3.7.0->konlpy) (3.1.1)\n",
      "Requirement already satisfied: certifi>=2017.4.17 in /opt/conda/lib/python3.9/site-packages (from requests[socks]>=2.11.1->tweepy>=3.7.0->konlpy) (2021.10.8)\n",
      "Requirement already satisfied: idna<4,>=2.5 in /opt/conda/lib/python3.9/site-packages (from requests[socks]>=2.11.1->tweepy>=3.7.0->konlpy) (2.10)\n",
      "Requirement already satisfied: charset-normalizer~=2.0.0 in /opt/conda/lib/python3.9/site-packages (from requests[socks]>=2.11.1->tweepy>=3.7.0->konlpy) (2.0.8)\n",
      "Requirement already satisfied: urllib3<1.27,>=1.21.1 in /opt/conda/lib/python3.9/site-packages (from requests[socks]>=2.11.1->tweepy>=3.7.0->konlpy) (1.26.7)\n",
      "Requirement already satisfied: PySocks!=1.5.7,>=1.5.6 in /opt/conda/lib/python3.9/site-packages (from requests[socks]>=2.11.1->tweepy>=3.7.0->konlpy) (1.7.1)\n",
      "\u001b[33mWARNING: Running pip as the 'root' user can result in broken permissions and conflicting behaviour with the system package manager. It is recommended to use a virtual environment instead: https://pip.pypa.io/warnings/venv\u001b[0m\n"
     ]
    }
   ],
   "source": [
    "!pip install konlpy"
   ]
  },
  {
   "cell_type": "code",
   "execution_count": 29,
   "id": "014d8691",
   "metadata": {},
   "outputs": [],
   "source": [
    "from konlpy.tag import Mecab, Kkma, Komoran, Okt\n",
    "\n",
    "tokenizer = Mecab()\n",
    "\n",
    "stopwords = ['의','가','이','은','들','는','좀','잘','걍','과','도','를','으로','자','에','와','한','하다'] \n",
    "num_words = 10000\n",
    "\n",
    "def load_data(train_data, test_data, num_words=10000):\n",
    "    train_data.drop_duplicates(subset=['document'], inplace=True)\n",
    "    train_data = train_data.dropna(how = 'any') \n",
    "    test_data.drop_duplicates(subset=['document'], inplace=True)\n",
    "    test_data = test_data.dropna(how = 'any') \n",
    "\n",
    "    X_train = []\n",
    "    for sentence in train_data['document']:\n",
    "        temp_X = tokenizer.morphs(sentence) # 토큰화\n",
    "        temp_X = [word for word in temp_X if not word in stopwords] # 불용어 제거\n",
    "        X_train.append(temp_X)\n",
    "\n",
    "    X_test = []\n",
    "    for sentence in test_data['document']:\n",
    "        temp_X = tokenizer.morphs(sentence) # 토큰화\n",
    "        temp_X = [word for word in temp_X if not word in stopwords] # 불용어 제거\n",
    "        X_test.append(temp_X)\n",
    "\n",
    "    words = np.concatenate(X_train).tolist()\n",
    "    counter = Counter(words)\n",
    "    counter = counter.most_common(10000-4)\n",
    "    vocab = ['<PAD>', '<BOS>', '<UNK>', '<UNUSED>'] + [key for key, _ in counter]\n",
    "    word_to_index = {word:index for index, word in enumerate(vocab)}\n",
    "\n",
    "    def wordlist_to_indexlist(wordlist):\n",
    "        return [word_to_index[word] if word in word_to_index else word_to_index['<UNK>'] for word in wordlist]\n",
    "\n",
    "    X_train = list(map(wordlist_to_indexlist, X_train))\n",
    "    X_test = list(map(wordlist_to_indexlist, X_test))\n",
    "\n",
    "    return X_train, np.array(list(train_data['label'])), X_test, np.array(list(test_data['label'])), word_to_index\n",
    "\n",
    "X_train, y_train, X_test, y_test, word_to_index = load_data(train_data, test_data) "
   ]
  },
  {
   "cell_type": "code",
   "execution_count": 30,
   "id": "c12d4b2a",
   "metadata": {},
   "outputs": [],
   "source": [
    "index_to_word = {index:word for word, index in word_to_index.items()}"
   ]
  },
  {
   "cell_type": "code",
   "execution_count": 31,
   "id": "a0eaacf3",
   "metadata": {},
   "outputs": [],
   "source": [
    "# 문장 1개를 활용할 딕셔너리와 함께 주면, 단어 인덱스 리스트 벡터로 변환해 주는 함수\n",
    "def get_encoded_sentence(sentence, word_to_index):\n",
    "    return [word_to_index['<BOS>']]+[word_to_index[word] if word in word_to_index else word_to_index['<UNK>'] for word in sentence.split()]\n",
    "\n",
    "# 여러 개의 문장 리스트를 한꺼번에 단어 인덱스 리스트 벡터로 encode해 주는 함수\n",
    "def get_encoded_sentences(sentences, word_to_index):\n",
    "    return [get_encoded_sentence(sentence, word_to_index) for sentence in sentences]\n",
    "\n",
    "# 숫자 벡터로 encode된 문장을 원래대로 decode하는 함수\n",
    "def get_decoded_sentence(encoded_sentence, index_to_word):\n",
    "    return ' '.join(index_to_word[index] if index in index_to_word else '<UNK>' for index in encoded_sentence[1:])  #[1:]를 통해 <BOS>를 제외\n",
    "\n",
    "# 여러개의 숫자 벡터로 encode된 문장을 한꺼번에 원래대로 decode하는 함수\n",
    "def get_decoded_sentences(encoded_sentences, index_to_word):\n",
    "    return [get_decoded_sentence(encoded_sentence, index_to_word) for encoded_sentence in encoded_sentences]"
   ]
  },
  {
   "cell_type": "markdown",
   "id": "8b430604",
   "metadata": {},
   "source": [
    "* 모델 구성을 위한 데이터 분석 및 가공을 해주자."
   ]
  },
  {
   "cell_type": "code",
   "execution_count": 32,
   "id": "768289b6",
   "metadata": {},
   "outputs": [
    {
     "name": "stdout",
     "output_type": "stream",
     "text": [
      "훈련 샘플 개수: 146182, 테스트 개수: 49157\n"
     ]
    }
   ],
   "source": [
    "print(\"훈련 샘플 개수: {}, 테스트 개수: {}\".format(len(X_train), len(X_test)))"
   ]
  },
  {
   "cell_type": "code",
   "execution_count": 33,
   "id": "d98181c5",
   "metadata": {},
   "outputs": [
    {
     "name": "stdout",
     "output_type": "stream",
     "text": [
      "[32, 74, 919, 4, 4, 39, 228, 20, 33, 748]\n",
      "라벨:  0\n",
      "1번째 리뷰 문장 길이:  10\n",
      "2번째 리뷰 문장 길이:  17\n"
     ]
    }
   ],
   "source": [
    "# 데이터셋 내 문장 길이 분포 파악\n",
    "print(X_train[0])  # 1번째 리뷰데이터\n",
    "print('라벨: ', y_train[0])  # 1번째 리뷰데이터의 라벨\n",
    "print('1번째 리뷰 문장 길이: ', len(X_train[0]))\n",
    "print('2번째 리뷰 문장 길이: ', len(X_train[1]))"
   ]
  },
  {
   "cell_type": "code",
   "execution_count": 34,
   "id": "0b5b1dbd",
   "metadata": {},
   "outputs": [
    {
     "name": "stdout",
     "output_type": "stream",
     "text": [
      "더 빙 . . 진짜 짜증 나 네요 목소리\n",
      "라벨:  0\n"
     ]
    }
   ],
   "source": [
    "print(get_decoded_sentence(X_train[0], index_to_word))\n",
    "print('라벨: ', y_train[0])  # 1번째 리뷰데이터의 라벨"
   ]
  },
  {
   "cell_type": "code",
   "execution_count": 35,
   "id": "2fcc85ca",
   "metadata": {},
   "outputs": [
    {
     "name": "stdout",
     "output_type": "stream",
     "text": [
      "문장길이 평균 :  15.96940191154864\n",
      "문장길이 최대 :  116\n",
      "문장길이 표준편차 :  12.843571191092\n",
      "pad_sequences maxlen :  41\n",
      "전체 문장의 0.9342988343341575%가 maxlen 설정값 이내에 포함됩니다. \n"
     ]
    }
   ],
   "source": [
    "# 적절한 최대 문장 길이를 지정\n",
    "total_data_text = list(X_train) + list(X_test)\n",
    "# 텍스트데이터 문장길이의 리스트를 생성\n",
    "num_tokens = [len(tokens) for tokens in total_data_text]\n",
    "num_tokens = np.array(num_tokens)\n",
    "\n",
    "print('문장길이 평균 : ', np.mean(num_tokens))\n",
    "print('문장길이 최대 : ', np.max(num_tokens))\n",
    "print('문장길이 표준편차 : ', np.std(num_tokens))\n",
    "\n",
    "# 최대 길이를 (평균 + 2*표준편차)로 설정  \n",
    "max_tokens = np.mean(num_tokens) + 2 * np.std(num_tokens)\n",
    "maxlen = int(max_tokens)\n",
    "print('pad_sequences maxlen : ', maxlen)\n",
    "print('전체 문장의 {}%가 maxlen 설정값 이내에 포함됩니다. '.format(np.sum(num_tokens < max_tokens) / len(num_tokens)))"
   ]
  },
  {
   "cell_type": "code",
   "execution_count": 36,
   "id": "893b1558",
   "metadata": {},
   "outputs": [
    {
     "name": "stdout",
     "output_type": "stream",
     "text": [
      "(146182, 41)\n"
     ]
    }
   ],
   "source": [
    "# 패딩 작업\n",
    "X_train = keras.preprocessing.sequence.pad_sequences(X_train,\n",
    "                                                        value=word_to_index[\"<PAD>\"],\n",
    "                                                        padding='pre', # 혹은 'pre'\n",
    "                                                        maxlen=maxlen)\n",
    "\n",
    "X_test = keras.preprocessing.sequence.pad_sequences(X_test,\n",
    "                                                       value=word_to_index[\"<PAD>\"],\n",
    "                                                       padding='pre', # 혹은 'pre'\n",
    "                                                       maxlen=maxlen)\n",
    "\n",
    "print(X_train.shape)"
   ]
  },
  {
   "cell_type": "markdown",
   "id": "d1d2f702",
   "metadata": {},
   "source": [
    "* RNN 모델 구성 및 검증 데이터셋을 구성해주자."
   ]
  },
  {
   "cell_type": "code",
   "execution_count": 37,
   "id": "576e4b58",
   "metadata": {},
   "outputs": [
    {
     "name": "stdout",
     "output_type": "stream",
     "text": [
      "(96182, 41)\n",
      "(96182,)\n"
     ]
    }
   ],
   "source": [
    "#  validation set 구성\n",
    "X_val = X_train[:50000]   \n",
    "y_val = y_train[:50000]\n",
    "\n",
    "# validation set을 제외한 나머지\n",
    "partial_X_train = X_train[50000:]  \n",
    "partial_y_train = y_train[50000:]\n",
    "\n",
    "print(partial_X_train.shape)\n",
    "print(partial_y_train.shape)"
   ]
  },
  {
   "cell_type": "code",
   "execution_count": 38,
   "id": "642dcdb6",
   "metadata": {},
   "outputs": [
    {
     "name": "stdout",
     "output_type": "stream",
     "text": [
      "Model: \"sequential_2\"\n",
      "_________________________________________________________________\n",
      "Layer (type)                 Output Shape              Param #   \n",
      "=================================================================\n",
      "embedding_2 (Embedding)      (None, None, 16)          160000    \n",
      "_________________________________________________________________\n",
      "lstm_2 (LSTM)                (None, 12)                1392      \n",
      "_________________________________________________________________\n",
      "dense_4 (Dense)              (None, 8)                 104       \n",
      "_________________________________________________________________\n",
      "dense_5 (Dense)              (None, 1)                 9         \n",
      "=================================================================\n",
      "Total params: 161,505\n",
      "Trainable params: 161,505\n",
      "Non-trainable params: 0\n",
      "_________________________________________________________________\n"
     ]
    }
   ],
   "source": [
    "import numpy as np\n",
    "import tensorflow as tf\n",
    "from tensorflow import keras\n",
    "\n",
    "vocab_size = 10000    \n",
    "word_vector_dim = 16\n",
    "\n",
    "model_rnn = keras.Sequential()\n",
    "model_rnn.add(keras.layers.Embedding(vocab_size, word_vector_dim, input_shape=(None,)))\n",
    "model_rnn.add(keras.layers.LSTM(12))   \n",
    "model_rnn.add(keras.layers.Dense(8, activation='relu'))\n",
    "model_rnn.add(keras.layers.Dense(1, activation='sigmoid'))  \n",
    "\n",
    "model_rnn.summary()"
   ]
  },
  {
   "cell_type": "code",
   "execution_count": 39,
   "id": "95f6840c",
   "metadata": {},
   "outputs": [
    {
     "name": "stdout",
     "output_type": "stream",
     "text": [
      "Epoch 1/20\n",
      "188/188 [==============================] - 3s 9ms/step - loss: 0.5359 - accuracy: 0.7524 - val_loss: 0.4004 - val_accuracy: 0.8305\n",
      "Epoch 2/20\n",
      "188/188 [==============================] - 1s 7ms/step - loss: 0.3542 - accuracy: 0.8526 - val_loss: 0.3523 - val_accuracy: 0.8484\n",
      "Epoch 3/20\n",
      "188/188 [==============================] - 1s 6ms/step - loss: 0.3196 - accuracy: 0.8688 - val_loss: 0.3497 - val_accuracy: 0.8489\n",
      "Epoch 4/20\n",
      "188/188 [==============================] - 1s 6ms/step - loss: 0.3017 - accuracy: 0.8761 - val_loss: 0.3495 - val_accuracy: 0.8488\n",
      "Epoch 5/20\n",
      "188/188 [==============================] - 1s 7ms/step - loss: 0.2896 - accuracy: 0.8819 - val_loss: 0.3525 - val_accuracy: 0.8494\n",
      "Epoch 6/20\n",
      "188/188 [==============================] - 1s 6ms/step - loss: 0.2776 - accuracy: 0.8886 - val_loss: 0.3624 - val_accuracy: 0.8452\n",
      "Epoch 7/20\n",
      "188/188 [==============================] - 1s 6ms/step - loss: 0.2657 - accuracy: 0.8937 - val_loss: 0.3637 - val_accuracy: 0.8478\n",
      "Epoch 8/20\n",
      "188/188 [==============================] - 1s 6ms/step - loss: 0.2535 - accuracy: 0.8999 - val_loss: 0.3670 - val_accuracy: 0.8454\n",
      "Epoch 9/20\n",
      "188/188 [==============================] - 1s 6ms/step - loss: 0.2417 - accuracy: 0.9045 - val_loss: 0.3868 - val_accuracy: 0.8459\n",
      "Epoch 10/20\n",
      "188/188 [==============================] - 1s 6ms/step - loss: 0.2299 - accuracy: 0.9101 - val_loss: 0.3963 - val_accuracy: 0.8459\n",
      "Epoch 11/20\n",
      "188/188 [==============================] - 1s 6ms/step - loss: 0.2236 - accuracy: 0.9124 - val_loss: 0.4056 - val_accuracy: 0.8455\n",
      "Epoch 12/20\n",
      "188/188 [==============================] - 1s 6ms/step - loss: 0.2129 - accuracy: 0.9178 - val_loss: 0.4329 - val_accuracy: 0.8448\n",
      "Epoch 13/20\n",
      "188/188 [==============================] - 1s 6ms/step - loss: 0.2029 - accuracy: 0.9217 - val_loss: 0.4359 - val_accuracy: 0.8446\n",
      "Epoch 14/20\n",
      "188/188 [==============================] - 1s 6ms/step - loss: 0.1947 - accuracy: 0.9252 - val_loss: 0.4565 - val_accuracy: 0.8433\n",
      "Epoch 15/20\n",
      "188/188 [==============================] - 1s 6ms/step - loss: 0.1884 - accuracy: 0.9276 - val_loss: 0.4819 - val_accuracy: 0.8409\n",
      "Epoch 16/20\n",
      "188/188 [==============================] - 1s 6ms/step - loss: 0.1795 - accuracy: 0.9324 - val_loss: 0.4976 - val_accuracy: 0.8409\n",
      "Epoch 17/20\n",
      "188/188 [==============================] - 1s 6ms/step - loss: 0.1727 - accuracy: 0.9355 - val_loss: 0.5290 - val_accuracy: 0.8399\n",
      "Epoch 18/20\n",
      "188/188 [==============================] - 1s 6ms/step - loss: 0.1699 - accuracy: 0.9369 - val_loss: 0.5281 - val_accuracy: 0.8403\n",
      "Epoch 19/20\n",
      "188/188 [==============================] - 1s 7ms/step - loss: 0.1635 - accuracy: 0.9394 - val_loss: 0.5568 - val_accuracy: 0.8398\n",
      "Epoch 20/20\n",
      "188/188 [==============================] - 1s 6ms/step - loss: 0.1555 - accuracy: 0.9427 - val_loss: 0.5429 - val_accuracy: 0.8368\n"
     ]
    }
   ],
   "source": [
    "model_rnn.compile(optimizer='adam',\n",
    "              loss='binary_crossentropy',\n",
    "              metrics=['accuracy'])\n",
    "              \n",
    "epochs = 20\n",
    "\n",
    "history_rnn = model_rnn.fit(partial_X_train,\n",
    "                    partial_y_train,\n",
    "                    epochs=epochs,\n",
    "                    batch_size=512,\n",
    "                    validation_data=(X_val, y_val),\n",
    "                    verbose=1)"
   ]
  },
  {
   "cell_type": "code",
   "execution_count": 40,
   "id": "e17d3243",
   "metadata": {},
   "outputs": [
    {
     "name": "stdout",
     "output_type": "stream",
     "text": [
      "1537/1537 - 3s - loss: 0.5494 - accuracy: 0.8308\n",
      "[0.5493566989898682, 0.8308277726173401]\n",
      "dict_keys(['loss', 'accuracy', 'val_loss', 'val_accuracy'])\n"
     ]
    },
    {
     "data": {
      "image/png": "[encoded data removed]",
      "text/plain": [
       "<Figure size 432x288 with 1 Axes>"
      ]
     },
     "metadata": {
      "needs_background": "light"
     },
     "output_type": "display_data"
    },
    {
     "data": {
      "image/png": "[encoded data removed]",
      "text/plain": [
       "<Figure size 432x288 with 1 Axes>"
      ]
     },
     "metadata": {
      "needs_background": "light"
     },
     "output_type": "display_data"
    }
   ],
   "source": [
    "# 평가하기\n",
    "results_rnn = model_rnn.evaluate(X_test, y_test, verbose=2)\n",
    "print(results_rnn)\n",
    "\n",
    "history_dict_rnn = history_rnn.history\n",
    "print(history_dict_rnn.keys()) # epoch에 따른 그래프를 그려볼 수 있는 항목들\n",
    "\n",
    "# train과 val의 Loss\n",
    "acc_rnn = history_dict_rnn['accuracy']\n",
    "val_acc_rnn = history_dict_rnn['val_accuracy']\n",
    "loss_rnn = history_dict_rnn['loss']\n",
    "val_loss_rnn = history_dict_rnn['val_loss']\n",
    "\n",
    "epochs_rnn = range(1, len(acc_rnn) + 1)\n",
    "\n",
    "# \"bo\"는 \"파란색 점\"\n",
    "plt.plot(epochs_rnn, loss_rnn, 'bo', label='Training loss')\n",
    "# b는 \"파란 실선\"\n",
    "plt.plot(epochs_rnn, val_loss_rnn, 'b', label='Validation loss')\n",
    "plt.title('RNN\\'s Training & validation loss')\n",
    "plt.xlabel('Epochs')\n",
    "plt.ylabel('Loss')\n",
    "plt.legend()\n",
    "\n",
    "plt.show()\n",
    "\n",
    "# train과 val의 accuracy\n",
    "plt.clf()  \n",
    "\n",
    "plt.plot(epochs_rnn, acc_rnn, 'bo', label='Training acc')\n",
    "plt.plot(epochs_rnn, val_acc_rnn, 'b', label='Validation acc')\n",
    "plt.title('RNN\\'s Training and validation accuracy')\n",
    "plt.xlabel('Epochs')\n",
    "plt.ylabel('Accuracy')\n",
    "plt.legend()\n",
    "\n",
    "plt.show()"
   ]
  },
  {
   "cell_type": "code",
   "execution_count": 41,
   "id": "6908e17d",
   "metadata": {},
   "outputs": [],
   "source": [
    "Mec = Mecab()\n",
    "Kkm = Kkma()\n",
    "Kom = Komoran()\n",
    "Okt = Okt()"
   ]
  },
  {
   "cell_type": "code",
   "execution_count": 42,
   "id": "2829d73a",
   "metadata": {},
   "outputs": [
    {
     "data": {
      "text/plain": [
       "[['사랑/NNG',\n",
       "  '하/XSV',\n",
       "  '고/EC',\n",
       "  '싶/VX',\n",
       "  '게/EC',\n",
       "  '하/VV',\n",
       "  '는/ETM',\n",
       "  '가슴속/NNG',\n",
       "  '온/VV+ETM',\n",
       "  '감정/NNG',\n",
       "  '을/JKO',\n",
       "  '헤집/VV',\n",
       "  '어/EC',\n",
       "  '놓/VX',\n",
       "  '는/ETM',\n",
       "  '영화/NNG',\n",
       "  '예요/VCP+EF',\n",
       "  '정말/MAG',\n",
       "  '최고/NNG']]"
      ]
     },
     "execution_count": 42,
     "metadata": {},
     "output_type": "execute_result"
    }
   ],
   "source": [
    "txt = '사랑하고싶게하는가슴속온감정을헤집어놓는영화예요정말최고'\n",
    "\n",
    "Mec.pos(txt, flatten=False, join=True) #mecab"
   ]
  },
  {
   "cell_type": "code",
   "execution_count": 43,
   "id": "52b8fe9a",
   "metadata": {},
   "outputs": [
    {
     "data": {
      "text/plain": [
       "[['사랑/NNG', '하/XSV', '고/ECE'],\n",
       " ['싶/VXA', '게/ECD'],\n",
       " ['하/VV', '는/ETD'],\n",
       " ['가슴속/NNG'],\n",
       " ['오/VV', 'ㄴ/ETD'],\n",
       " ['감정/NNG', '을/JKO'],\n",
       " ['헤집/VV', '어/ECD'],\n",
       " ['놓/VXV', '는/ETD'],\n",
       " ['영화/NNG', '이/VCP', '에요/EFN'],\n",
       " ['정말/MAG'],\n",
       " ['최고/NNG']]"
      ]
     },
     "execution_count": 43,
     "metadata": {},
     "output_type": "execute_result"
    }
   ],
   "source": [
    "Kkm.pos(txt,flatten=False, join=True) #kkma"
   ]
  },
  {
   "cell_type": "code",
   "execution_count": 44,
   "id": "f1e1d3eb",
   "metadata": {},
   "outputs": [
    {
     "data": {
      "text/plain": [
       "[['사랑/NNG',\n",
       "  '하/XSV',\n",
       "  '고/EC',\n",
       "  '싶/VX',\n",
       "  '게/EC',\n",
       "  '하/VX',\n",
       "  '는/ETM',\n",
       "  '가슴속/NNG',\n",
       "  '오/VV',\n",
       "  'ㄴ/ETM',\n",
       "  '감정/NNP',\n",
       "  '을/JKO',\n",
       "  '헤집/VV',\n",
       "  '어/EC',\n",
       "  '놓/VX',\n",
       "  '는/ETM',\n",
       "  '영화/NNP',\n",
       "  '예/NNG',\n",
       "  '요정/NNP',\n",
       "  '말/NNG',\n",
       "  '최고/NNP']]"
      ]
     },
     "execution_count": 44,
     "metadata": {},
     "output_type": "execute_result"
    }
   ],
   "source": [
    "Kom.pos(txt,flatten=False, join=True) #komoran"
   ]
  },
  {
   "cell_type": "code",
   "execution_count": 45,
   "id": "a4fee5a7",
   "metadata": {},
   "outputs": [
    {
     "data": {
      "text/plain": [
       "['사랑/Noun',\n",
       " '하다/Verb',\n",
       " '싶다/Verb',\n",
       " '가슴속/Noun',\n",
       " '온/Noun',\n",
       " '감정/Noun',\n",
       " '을/Josa',\n",
       " '헤집다/Verb',\n",
       " '영화/Noun',\n",
       " '예요/Josa',\n",
       " '정말/Noun',\n",
       " '최고/Noun']"
      ]
     },
     "execution_count": 45,
     "metadata": {},
     "output_type": "execute_result"
    }
   ],
   "source": [
    "Okt.pos(txt,norm=True, stem=True, join=True) #okt"
   ]
  },
  {
   "cell_type": "code",
   "execution_count": 46,
   "id": "393cd4b0",
   "metadata": {},
   "outputs": [
    {
     "name": "stdout",
     "output_type": "stream",
     "text": [
      "['▁사랑', '하고싶', '게하는', '가슴', '속', '온', '감', '정을', '헤', '집어', '놓', '는영화', '예요', '정말', '최고']\n"
     ]
    }
   ],
   "source": [
    "s_uni = spm.SentencePieceProcessor() \n",
    "print(s_bpe.SampleEncodeAsPieces(txt,1, 0.0))"
   ]
  },
  {
   "cell_type": "code",
   "execution_count": 62,
   "id": "a689f895",
   "metadata": {
    "scrolled": true
   },
   "outputs": [
    {
     "name": "stderr",
     "output_type": "stream",
     "text": [
      "100%|██████████| 10000/10000 [00:00<00:00, 887157.66it/s]\n",
      "100%|██████████| 10000/10000 [00:00<00:00, 11194.53it/s]\n",
      "100%|██████████| 10000/10000 [05:14<00:00, 31.82it/s] \n",
      "100%|██████████| 10000/10000 [00:06<00:00, 1617.06it/s]\n",
      "100%|██████████| 10000/10000 [00:28<00:00, 352.30it/s]\n"
     ]
    },
    {
     "data": {
      "text/plain": [
       "Text(0, 0.5, 'total seconds')"
      ]
     },
     "execution_count": 62,
     "metadata": {},
     "output_type": "execute_result"
    },
    {
     "data": {
      "image/png": "[encoded data removed]",
      "text/plain": [
       "<Figure size 936x576 with 1 Axes>"
      ]
     },
     "metadata": {},
     "output_type": "display_data"
    }
   ],
   "source": [
    "import time\n",
    "from tqdm import tqdm\n",
    "\n",
    "s_uni = spm.SentencePieceProcessor()\n",
    "\n",
    "def tagger_time(tagger, texts):\n",
    "\n",
    "    time_sum = 0\n",
    "\n",
    "    for sentence in tqdm(texts):\n",
    "        t1 = time.time()\n",
    "        if(tagger==s_uni):\n",
    "                try:\n",
    "                    s_uni.SampleEncodeAsPieces(texts,1,0.0)\n",
    "                except:\n",
    "                    pass\n",
    "        else:\n",
    "                try:\n",
    "                    tagger.morphs(sentence)\n",
    "                except:\n",
    "                    pass\n",
    "    t2 = time.time()\n",
    "\n",
    "    time_sum += (t2 - t1)\n",
    "\n",
    "    return time_sum\n",
    "\n",
    "texts = train_data['document'][:10000]\n",
    "time_list = []\n",
    "\n",
    "for tagger in [s_uni, Mec, Kkm, Kom, Okt]:\n",
    "    time_list.append(tagger_time(tagger, texts))\n",
    "\n",
    "import matplotlib.pyplot as plt\n",
    "import seaborn as sns\n",
    "sns.set_style('whitegrid')\n",
    "\n",
    "tagger = ['s_uni', 'Mecab', 'Kkma', 'Komoran', 'Okt']\n",
    "\n",
    "plt.figure(figsize=(13,8))\n",
    "plt.bar(tagger, time_list, color=(0.4,0.7,0.5))\n",
    "plt.title('Learning Time for 10000 reviews', fontsize=17)\n",
    "plt.xticks(fontsize=14)\n",
    "plt.ylabel('total seconds')"
   ]
  },
  {
   "cell_type": "markdown",
   "id": "45aad28e",
   "metadata": {},
   "source": [
    "<회고>  \n",
    "\n",
    "* sentencepiece의 unigram 타입과 bpe타입에 대해 너무 궁금하여 찾아보았다.  \n",
    "   a. BPE 타입 :  \n",
    "BPE(Byte Pair Encoding)은 압축 알고리즘을 이용하여 띄어쓰기 단위의 단어를 subword 단위로 분할하는 알고리즘입니다.   \n",
    "관련 논문은 <a href=\"https://arxiv.org/abs/1508.07909\">Neural Machine Translation of Rare Words with Subword Units</a>을 참고하면 됩니다.  \n",
    "<b> 기본적은 동작원리는 subword pair 중 가장 빈도수가 많은 subword pair를 하나의 subword로 합치는 방식입니다. </b>  \n",
    "   b. Unigram 타입 :  \n",
    "unigram(Subword Regularization: Improving Neural Network Translation Models with Multiple Subword Candidates)은   \n",
    "확률기반으로 subword의 발생확률을 최대화하는 방식으로 분할합니다. Sentencepiece의 기본 tokenize 방식은 unigram 입니다.  \n",
    "\n",
    "이 사실을 토대로 빈도수가 많은 단어들이 발생확률도 클 것으로 예상한다면 성능면에선 많은 차이가 나지 않을 것이다.   \n",
    "실제로 train 결과를 보면 test_accuracy or val_accuracy가 둘(bpe,unigram) 모두 0.82 대로 비슷했다.\n",
    "\n",
    "* KoNLPy의 여러 모델과 sentencepiece에 의한 모델과의 비교  \n",
    "  a. 한국 형태소 분석기중 가장 우수하다는 Mecab은 txt에 나오는 품사들의 띄어쓰기를 잘하였다.  \n",
    "  b. Kkma는 특히 \"예요\"를 \"이+에+요\"로 세분화하여 분리시킨 것이 눈에 띈다. 개인적으로 이 문장에 대해서는 Mecab과 동급인 듯 하다.  \n",
    "  c. Komoran은 말미에 어미인 \"요\"와 다음 단어(감탄사)의 첫 글자인 \"정\"이 합쳐져 \"요정\"등으로 불필요하게 해석되었다.  \n",
    "  d. Okt는 단어 자체를 분해하기는 했으나 그 분해한 단어들이 기본형으로 치환되는 양상을 보였다. ex)하고->하다. 싶게->싶다.  \n",
    "  e. sentencepiece의 unigram에서는 그렇게 어색하지는 않으나 띄어쓰기가 잘 지켜지지 않았고 분해되거나 붙지 말아야 할     \n",
    "  추상명사와 동사가 있었다.         \n",
    "  ex) 감정->감 정, 놓는 영화->놓 는영화     \n",
    "    \n",
    "*    \n",
    "   \n",
    "|모델|띄어쓰기|동사 분해능력|비고|    \n",
    "|:---|:---|:---|:---|    \n",
    "|Mecab|우수|중간|띄어쓰기가 철저함|    \n",
    "|Kkma|우수|우수|동사의 분해능력 좋음|    \n",
    "|Komoran|낮음|중간|단어간 불필요한 합체|    \n",
    "|Okt|우수|낮음|동사를 기본형으로 치환|    \n",
    "|Unigram|낮음|중간|단어간 불필요한 합체나 분해|       \n",
    "        \n",
    "* s_uni(sentencepiece의 Unigram 타입)과 KoNLPy의 4가지 모델(Mecab, Kkma, Komoran, Okt)의 수행시간 비교    \n",
    "  수행시간 : s_uni ~ Mecab < Komoran < Okt < Kkma   "
   ]
  }
 ],
 "metadata": {
  "kernelspec": {
   "display_name": "Python 3 (ipykernel)",
   "language": "python",
   "name": "python3"
  },
  "language_info": {
   "codemirror_mode": {
    "name": "ipython",
    "version": 3
   },
   "file_extension": ".py",
   "mimetype": "text/x-python",
   "name": "python",
   "nbconvert_exporter": "python",
   "pygments_lexer": "ipython3",
   "version": "3.9.7"
  }
 },
 "nbformat": 4,
 "nbformat_minor": 5
}
